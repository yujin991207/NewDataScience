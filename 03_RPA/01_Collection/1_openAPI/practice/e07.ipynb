{
 "cells": [
  {
   "cell_type": "code",
   "execution_count": 2,
   "id": "2581ef3c",
   "metadata": {},
   "outputs": [],
   "source": [
    "import cx_Oracle\n",
    "import pandas as pd\n",
    "import requests\n",
    "from xml.etree.ElementTree import fromstring"
   ]
  },
  {
   "cell_type": "code",
   "execution_count": 3,
   "id": "fe4e679d",
   "metadata": {},
   "outputs": [],
   "source": [
    "access_key = 'xMa0cbwrTEM1UQzMljSLPYi29E5u1BLZysXwaxEgC6n44Ymoi/V86yK/giMFMiKE8zuvzHcSYFHFKOwwUy8dtw=='\n",
    "\n",
    "TOTAL_NUM = 650\n",
    "MAX_TRANSACTION = 30"
   ]
  },
  {
   "cell_type": "code",
   "execution_count": 5,
   "id": "254e4cdf",
   "metadata": {},
   "outputs": [],
   "source": [
    "con = cx_Oracle.connect('open_source/1111@localhost:1521/xe')\n",
    "cur = con.cursor()"
   ]
  },
  {
   "cell_type": "code",
   "execution_count": 9,
   "id": "384356bf",
   "metadata": {},
   "outputs": [],
   "source": [
    "def xml_to_oracle(data_root,data_root_name):\n",
    "    for row in data_root.iter(data_root_name):\n",
    "        sql_insert = \"\"\"\n",
    "            insert into TSUNAMI_EV_SHELTER('일련번호','시도명','시군구명','대피지구명','대피장소명','주소','수용가능인원수','대피소분류명',\n",
    "            '해변으로부터거리','내진적용여부','해발높이','경도','위도')\n",
    "            values(:일련번호,:시도명,:시군구명,:대피지구명,:대피장소명,:주소,:수용가능인원수,:대피소분류명,\n",
    "            :해변으로부터거리,:내진적용여부,:해발높이,:경도,:위도)\n",
    "        \"\"\"\n",
    "        \n",
    "        일련번호 = row.find('').text\n",
    "        시도명 = row.find('').text\n",
    "        시군구명 = row.find('').text\n",
    "        대피지구명 = row.find('').text\n",
    "        대피장소명 = row.find('').text\n",
    "        주소 = row.find('').text\n",
    "        수용가능인원수 = row.find('').text\n",
    "        대피소분류명 = row.find('').text\n",
    "        해변으로부터거리 = row.find('').text\n",
    "        내진적용여부 = row.find('').text\n",
    "        해발높이 = row.find('').text\n",
    "        경도 = row.find('').text\n",
    "        위도 = row.find('').text\n",
    "        \n",
    "        cur.execute(sql_insert,(일련번호,시도명,시군구명,대피지구명,대피장소명,주소,수용가능인원수,대피소분류명,해변으로부터거리,내진적용여부,해발높이,경도,위도))\n",
    "        con.commit()"
   ]
  }
 ],
 "metadata": {
  "kernelspec": {
   "display_name": "Python 3 (ipykernel)",
   "language": "python",
   "name": "python3"
  },
  "language_info": {
   "codemirror_mode": {
    "name": "ipython",
    "version": 3
   },
   "file_extension": ".py",
   "mimetype": "text/x-python",
   "name": "python",
   "nbconvert_exporter": "python",
   "pygments_lexer": "ipython3",
   "version": "3.9.13"
  }
 },
 "nbformat": 4,
 "nbformat_minor": 5
}
