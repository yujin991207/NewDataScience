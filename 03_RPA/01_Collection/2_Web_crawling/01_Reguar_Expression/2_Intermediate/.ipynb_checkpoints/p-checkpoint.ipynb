{
 "cells": [
  {
   "cell_type": "code",
   "execution_count": 1,
   "id": "d1c80513",
   "metadata": {},
   "outputs": [],
   "source": [
    "import re"
   ]
  },
  {
   "cell_type": "code",
   "execution_count": 3,
   "id": "d707a189",
   "metadata": {},
   "outputs": [],
   "source": [
    "p = re.compile('apple|banana')"
   ]
  },
  {
   "cell_type": "code",
   "execution_count": 6,
   "id": "10bf3531",
   "metadata": {},
   "outputs": [
    {
     "name": "stdout",
     "output_type": "stream",
     "text": [
      "<re.Match object; span=(0, 5), match='apple'>\n"
     ]
    }
   ],
   "source": [
    "m = p.match('apple')\n",
    "print(m)"
   ]
  },
  {
   "cell_type": "code",
   "execution_count": 7,
   "id": "40183773",
   "metadata": {},
   "outputs": [
    {
     "name": "stdout",
     "output_type": "stream",
     "text": [
      "<re.Match object; span=(0, 6), match='banana'>\n"
     ]
    }
   ],
   "source": [
    "m = p.match('banana')\n",
    "print(m)"
   ]
  },
  {
   "cell_type": "code",
   "execution_count": 10,
   "id": "c3db13b5",
   "metadata": {
    "scrolled": false
   },
   "outputs": [
    {
     "data": {
      "text/plain": [
       "<re.Match object; span=(0, 3), match='Hi!'>"
      ]
     },
     "execution_count": 10,
     "metadata": {},
     "output_type": "execute_result"
    }
   ],
   "source": [
    "re.search('^Hi!','Hi! my name is yujin!')"
   ]
  },
  {
   "cell_type": "code",
   "execution_count": null,
   "id": "d7aa7a8b",
   "metadata": {},
   "outputs": [],
   "source": []
  },
  {
   "cell_type": "code",
   "execution_count": 13,
   "id": "c92644b5",
   "metadata": {},
   "outputs": [],
   "source": [
    "list = ['can','man','fan','dan','ran','pan']\n",
    "p = re.compile('.an$')\n",
    "\n",
    "for number in list:\n",
    "    m = p.match(number)"
   ]
  },
  {
   "cell_type": "code",
   "execution_count": 14,
   "id": "49ec3487",
   "metadata": {},
   "outputs": [
    {
     "name": "stdout",
     "output_type": "stream",
     "text": [
      "<re.Match object; span=(0, 3), match='pan'>\n"
     ]
    }
   ],
   "source": [
    "print(m)"
   ]
  }
 ],
 "metadata": {
  "kernelspec": {
   "display_name": "Python 3 (ipykernel)",
   "language": "python",
   "name": "python3"
  },
  "language_info": {
   "codemirror_mode": {
    "name": "ipython",
    "version": 3
   },
   "file_extension": ".py",
   "mimetype": "text/x-python",
   "name": "python",
   "nbconvert_exporter": "python",
   "pygments_lexer": "ipython3",
   "version": "3.9.13"
  }
 },
 "nbformat": 4,
 "nbformat_minor": 5
}
