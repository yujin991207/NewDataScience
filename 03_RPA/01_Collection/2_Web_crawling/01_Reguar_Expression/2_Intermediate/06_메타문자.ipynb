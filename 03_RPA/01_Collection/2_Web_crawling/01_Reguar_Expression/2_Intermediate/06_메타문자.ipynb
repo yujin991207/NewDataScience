{
 "cells": [
  {
   "cell_type": "markdown",
   "id": "26bf5e35",
   "metadata": {},
   "source": [
    "# |\n",
    "* or의 의미로 사용"
   ]
  },
  {
   "cell_type": "code",
   "execution_count": 1,
   "id": "9d6cfbc6",
   "metadata": {},
   "outputs": [],
   "source": [
    "import re"
   ]
  },
  {
   "cell_type": "code",
   "execution_count": 6,
   "id": "8cfc7518",
   "metadata": {
    "scrolled": false
   },
   "outputs": [
    {
     "name": "stdout",
     "output_type": "stream",
     "text": [
      "None\n",
      "<re.Match object; span=(0, 4), match='Crow'>\n",
      "<re.Match object; span=(0, 5), match='Servo'>\n",
      "<re.Match object; span=(0, 4), match='Crow'>\n"
     ]
    }
   ],
   "source": [
    "# Crow문자열 또는 Servo 문자열이 일치하는지 여부 확인\n",
    "p = re.compile('Crow|Servo') \n",
    "m = p.match('Nothing')\n",
    "print(m)\n",
    "m = p.match('Crow')\n",
    "print(m)\n",
    "m = p.match('Servo')\n",
    "print(m)\n",
    "m = p.match('CrowServo')\n",
    "print(m)"
   ]
  },
  {
   "cell_type": "code",
   "execution_count": 7,
   "id": "12fe90e7",
   "metadata": {},
   "outputs": [
    {
     "name": "stdout",
     "output_type": "stream",
     "text": [
      "None\n",
      "None\n"
     ]
    }
   ],
   "source": [
    "m = p.match('Cro')\n",
    "print(m)\n",
    "m = p.match('Serv')\n",
    "print(m)"
   ]
  },
  {
   "cell_type": "code",
   "execution_count": 9,
   "id": "59a8801b",
   "metadata": {},
   "outputs": [
    {
     "name": "stdout",
     "output_type": "stream",
     "text": [
      "<re.Match object; span=(0, 3), match='Cro'>\n",
      "<re.Match object; span=(0, 4), match='Serv'>\n"
     ]
    }
   ],
   "source": [
    "p = re.compile('Cro|Serv') \n",
    "m = p.match('Cro')\n",
    "print(m)\n",
    "m = p.match('Serv')\n",
    "print(m)"
   ]
  },
  {
   "cell_type": "markdown",
   "id": "0ac54df4",
   "metadata": {},
   "source": [
    "# ^\n",
    "* 문자열의 맨처음과 일치여부 확인\n",
    "* 컴파일 옵션. re.MUTILINE을 사용 할 경우 여러 줄의 문자열의 처음과 일치여부 확인"
   ]
  },
  {
   "cell_type": "code",
   "execution_count": 11,
   "id": "89887c30",
   "metadata": {},
   "outputs": [
    {
     "data": {
      "text/plain": [
       "<re.Match object; span=(0, 4), match='Life'>"
      ]
     },
     "execution_count": 11,
     "metadata": {},
     "output_type": "execute_result"
    }
   ],
   "source": [
    "# search([정규식],[문자열 원본])\n",
    "re.search('^Life', 'Life is too short')"
   ]
  },
  {
   "cell_type": "code",
   "execution_count": 13,
   "id": "0762960c",
   "metadata": {},
   "outputs": [
    {
     "name": "stdout",
     "output_type": "stream",
     "text": [
      "None\n"
     ]
    }
   ],
   "source": [
    "print(re.search('^Life', 'Bravo! Your Life!'))"
   ]
  },
  {
   "cell_type": "code",
   "execution_count": 14,
   "id": "a140d797",
   "metadata": {},
   "outputs": [],
   "source": [
    "multiline_str = \"\"\"Life is good.\n",
    "Bravo! My Life\n",
    "Life is too short\n",
    "\"\"\""
   ]
  },
  {
   "cell_type": "code",
   "execution_count": 15,
   "id": "0dc4fef9",
   "metadata": {},
   "outputs": [
    {
     "name": "stdout",
     "output_type": "stream",
     "text": [
      "['Life']\n"
     ]
    }
   ],
   "source": [
    "p = re.compile('^Life')\n",
    "print(p.findall(multiline_str))"
   ]
  },
  {
   "cell_type": "code",
   "execution_count": 16,
   "id": "de2bde99",
   "metadata": {
    "scrolled": true
   },
   "outputs": [
    {
     "name": "stdout",
     "output_type": "stream",
     "text": [
      "['Life', 'Life']\n"
     ]
    }
   ],
   "source": [
    "p = re.compile('^Life', re.MULTILINE)\n",
    "print(p.findall(multiline_str))"
   ]
  },
  {
   "cell_type": "code",
   "execution_count": 17,
   "id": "4fb4d3b8",
   "metadata": {},
   "outputs": [
    {
     "name": "stdout",
     "output_type": "stream",
     "text": [
      "<re.Match object; span=(0, 4), match='Life'>\n",
      "<re.Match object; span=(29, 33), match='Life'>\n"
     ]
    }
   ],
   "source": [
    "for find_info in p.finditer(multiline_str):\n",
    "    print(find_info)"
   ]
  },
  {
   "cell_type": "markdown",
   "id": "e94336ad",
   "metadata": {},
   "source": [
    "# \\\\A\n",
    "* 문자열의 처음과 매치됨을 의미한다. \n",
    "* ^ 메타 문자와 동일한 의미이지만 re.MULTILINE 옵션을 사용할 경우에는 다르게 해석된다.\n",
    "* re.MULTILINE 옵션을 사용할 경우 ^은 각 줄의 문자열의 처음과 매치되지만 \\A는 줄과 상관없이 전체 문자열의 처음하고만 매치"
   ]
  },
  {
   "cell_type": "code",
   "execution_count": 18,
   "id": "dc373a20",
   "metadata": {},
   "outputs": [],
   "source": [
    "multiline_str = \"\"\"Life is good.\n",
    "Bravo! My Life\n",
    "Life is too short\n",
    "\"\"\""
   ]
  },
  {
   "cell_type": "code",
   "execution_count": 19,
   "id": "4945d6e6",
   "metadata": {},
   "outputs": [
    {
     "name": "stdout",
     "output_type": "stream",
     "text": [
      "['Life']\n"
     ]
    }
   ],
   "source": [
    "p = re.compile('\\ALife', re.MULTILINE)\n",
    "print(p.findall(multiline_str))"
   ]
  },
  {
   "cell_type": "code",
   "execution_count": 21,
   "id": "8f7a1fca",
   "metadata": {
    "scrolled": true
   },
   "outputs": [
    {
     "name": "stdout",
     "output_type": "stream",
     "text": [
      "<re.Match object; span=(0, 4), match='Life'>\n"
     ]
    }
   ],
   "source": [
    "for find_info in p.finditer(multiline_str):\n",
    "    print(find_info) # 위치까지 확인이 가능하다."
   ]
  },
  {
   "cell_type": "markdown",
   "id": "49409e6d",
   "metadata": {},
   "source": [
    "# $\n",
    "* 문자열의 끝과 매칭 여부 확인"
   ]
  },
  {
   "cell_type": "code",
   "execution_count": 23,
   "id": "3501a502",
   "metadata": {},
   "outputs": [
    {
     "name": "stdout",
     "output_type": "stream",
     "text": [
      "None\n",
      "None\n",
      "None\n",
      "<re.Match object; span=(12, 17), match='short'>\n",
      "None\n"
     ]
    }
   ],
   "source": [
    "print(re.search('Life$','Life is too short'))\n",
    "print(re.search('is$','Life is too short'))\n",
    "print(re.search('too$','Life is too short'))\n",
    "print(re.search('short$','Life is too short'))\n",
    "print(re.search('short$','Life is too short, you need python'))"
   ]
  },
  {
   "cell_type": "code",
   "execution_count": 24,
   "id": "71d741b5",
   "metadata": {},
   "outputs": [
    {
     "name": "stdout",
     "output_type": "stream",
     "text": [
      "<re.Match object; span=(28, 34), match='python'>\n"
     ]
    }
   ],
   "source": [
    "print(re.search('python$','Life is too short, you need python'))"
   ]
  },
  {
   "cell_type": "code",
   "execution_count": 26,
   "id": "28fca88a",
   "metadata": {},
   "outputs": [
    {
     "name": "stdout",
     "output_type": "stream",
     "text": [
      "<re.Match object; span=(28, 35), match='python.'>\n"
     ]
    }
   ],
   "source": [
    "print(re.search('python.$','Life is too short, you need python.'))"
   ]
  },
  {
   "cell_type": "code",
   "execution_count": 27,
   "id": "cd36893f",
   "metadata": {
    "scrolled": true
   },
   "outputs": [
    {
     "name": "stdout",
     "output_type": "stream",
     "text": [
      "<re.Match object; span=(28, 35), match='python.'>\n"
     ]
    }
   ],
   "source": [
    "print(re.search('python[.]$','Life is too short, you need python.'))"
   ]
  },
  {
   "cell_type": "markdown",
   "id": "7acf64ef",
   "metadata": {},
   "source": [
    "# \\\\Z"
   ]
  },
  {
   "cell_type": "raw",
   "id": "d57d53d3",
   "metadata": {},
   "source": [
    "* 문자열의 마지막과 매치됨을 의미한다. \n",
    "* $ 메타 문자와 동일한 의미이지만 re.MULTILINE 옵션을 사용할 경우에는 다르게 해석된다.\n",
    "* re.MULTILINE 옵션을 사용할 경우 $은 각 줄의 문자열의 처음과 매치되지만 \\\\Z는 줄과 상관없이 전체 문자열의 처음하고만 매치"
   ]
  },
  {
   "cell_type": "code",
   "execution_count": 38,
   "id": "62993f12",
   "metadata": {},
   "outputs": [],
   "source": [
    "multiline_str = \"\"\"Good. Your Life\n",
    "Life is too short\n",
    "Bravo! My Life\"\"\""
   ]
  },
  {
   "cell_type": "code",
   "execution_count": 39,
   "id": "63b81929",
   "metadata": {},
   "outputs": [
    {
     "name": "stdout",
     "output_type": "stream",
     "text": [
      "['Life']\n"
     ]
    }
   ],
   "source": [
    "p = re.compile('Life\\Z', re.MULTILINE)\n",
    "print(p.findall(multiline_str))"
   ]
  },
  {
   "cell_type": "code",
   "execution_count": 40,
   "id": "8a7fdb89",
   "metadata": {},
   "outputs": [
    {
     "name": "stdout",
     "output_type": "stream",
     "text": [
      "<re.Match object; span=(44, 48), match='Life'>\n"
     ]
    }
   ],
   "source": [
    "for find_info in p.finditer(multiline_str):\n",
    "    print(find_info)"
   ]
  },
  {
   "cell_type": "code",
   "execution_count": 41,
   "id": "abb9c305",
   "metadata": {},
   "outputs": [],
   "source": [
    "multiline_str = \"\"\"\n",
    "Good. Your Life\n",
    "Life is too short\n",
    "Bravo! My Life\n",
    "\"\"\""
   ]
  },
  {
   "cell_type": "code",
   "execution_count": 43,
   "id": "300506f7",
   "metadata": {
    "scrolled": true
   },
   "outputs": [
    {
     "name": "stdout",
     "output_type": "stream",
     "text": [
      "['Life\\n']\n"
     ]
    }
   ],
   "source": [
    "p = re.compile('Life\\n\\Z', re.MULTILINE)\n",
    "print(p.findall(multiline_str))"
   ]
  },
  {
   "cell_type": "markdown",
   "id": "d92b5699",
   "metadata": {},
   "source": [
    "# \\\\b\n",
    "* 단어 구분자(whitespace)로 활용"
   ]
  },
  {
   "cell_type": "code",
   "execution_count": 50,
   "id": "5840ced3",
   "metadata": {},
   "outputs": [],
   "source": [
    "p = re.compile('\\bclass\\b')"
   ]
  },
  {
   "cell_type": "code",
   "execution_count": 52,
   "id": "93a00df0",
   "metadata": {
    "scrolled": true
   },
   "outputs": [
    {
     "name": "stdout",
     "output_type": "stream",
     "text": [
      "None\n"
     ]
    }
   ],
   "source": [
    "print(p.search('no class at all'))"
   ]
  },
  {
   "cell_type": "code",
   "execution_count": 54,
   "id": "036b79db",
   "metadata": {},
   "outputs": [
    {
     "name": "stdout",
     "output_type": "stream",
     "text": [
      "<re.Match object; span=(3, 8), match='class'>\n"
     ]
    }
   ],
   "source": [
    "p = re.compile(r'\\bclass\\b') # \\b 표현식을 사용하기위해서는 r옵션을 사용한다\n",
    "print(p.search('no class at all'))"
   ]
  }
 ],
 "metadata": {
  "kernelspec": {
   "display_name": "Python 3 (ipykernel)",
   "language": "python",
   "name": "python3"
  },
  "language_info": {
   "codemirror_mode": {
    "name": "ipython",
    "version": 3
   },
   "file_extension": ".py",
   "mimetype": "text/x-python",
   "name": "python",
   "nbconvert_exporter": "python",
   "pygments_lexer": "ipython3",
   "version": "3.9.13"
  }
 },
 "nbformat": 4,
 "nbformat_minor": 5
}
