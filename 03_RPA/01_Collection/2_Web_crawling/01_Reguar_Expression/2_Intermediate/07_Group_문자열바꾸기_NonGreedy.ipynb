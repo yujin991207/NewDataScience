{
 "cells": [
  {
   "cell_type": "markdown",
   "id": "d9345853",
   "metadata": {},
   "source": [
    "# 그룹 => () , 소괄호사용\n",
    "* 문자열 패턴의 반복을 지정한다\n",
    "* 그룹을 지정하면 문자열 전체에서 매칭되는 패턴을 그룹단위로 찾아준다."
   ]
  },
  {
   "cell_type": "code",
   "execution_count": 1,
   "id": "ed242a4f",
   "metadata": {},
   "outputs": [],
   "source": [
    "import re"
   ]
  },
  {
   "cell_type": "code",
   "execution_count": 3,
   "id": "93427598",
   "metadata": {},
   "outputs": [
    {
     "name": "stdout",
     "output_type": "stream",
     "text": [
      "<re.Match object; span=(0, 9), match='ABCABCABC'>\n",
      "ABCABCABC\n",
      "ABC\n"
     ]
    }
   ],
   "source": [
    "p = re.compile('(ABC)+')\n",
    "m = p.search('ABCABCABC OK? ABC')\n",
    "print(m)          # 매치 오브젝트를 출력하면 첫번째 매치되는 정보만 표시\n",
    "print(m.group(0)) # 첫번째로 매치가 되는 그룹 => ABCABCABC\n",
    "print(m.group(1)) # 두번째로 매치가 되는 그룹 => ABC"
   ]
  },
  {
   "cell_type": "code",
   "execution_count": 4,
   "id": "b8357184",
   "metadata": {},
   "outputs": [
    {
     "name": "stdout",
     "output_type": "stream",
     "text": [
      "<re.Match object; span=(0, 6), match='ABCABC'>\n"
     ]
    }
   ],
   "source": [
    "m = p.search('ABCABCAB OK?')\n",
    "print(m)"
   ]
  },
  {
   "cell_type": "code",
   "execution_count": 7,
   "id": "303a2dc4",
   "metadata": {},
   "outputs": [],
   "source": [
    "p = re.compile(\"\\w+\\s+\\d+[-]\\d+[-]\\d+\")\n",
    "m = p.search(\"park 010-1234-5678\")"
   ]
  },
  {
   "cell_type": "code",
   "execution_count": 8,
   "id": "865cab7d",
   "metadata": {},
   "outputs": [
    {
     "name": "stdout",
     "output_type": "stream",
     "text": [
      "<re.Match object; span=(0, 18), match='park 010-1234-1234'>\n"
     ]
    }
   ],
   "source": [
    "print(m)"
   ]
  },
  {
   "cell_type": "code",
   "execution_count": 10,
   "id": "6ce6d09a",
   "metadata": {},
   "outputs": [
    {
     "name": "stdout",
     "output_type": "stream",
     "text": [
      "park 010-1234-1234\n"
     ]
    }
   ],
   "source": [
    "print(m.group(0)) # 매치가 되는 결과가 첫번째 그룹의 결과임"
   ]
  },
  {
   "cell_type": "code",
   "execution_count": 13,
   "id": "543bc06b",
   "metadata": {},
   "outputs": [],
   "source": [
    "# print(m.group(1)) => 없는 그룹을 참조하려고하면 에러가 발생한다."
   ]
  },
  {
   "cell_type": "code",
   "execution_count": 16,
   "id": "c5a9b028",
   "metadata": {},
   "outputs": [
    {
     "name": "stdout",
     "output_type": "stream",
     "text": [
      "<re.Match object; span=(0, 18), match='park 010-1234-1234'>\n",
      "park 010-1234-1234\n",
      "park\n",
      "010\n",
      "1234\n",
      "1234\n"
     ]
    }
   ],
   "source": [
    "p = re.compile(\"(\\w+)\\s+(\\d+)[-](\\d+)[-](\\d+)\")\n",
    "m = p.search(\"park 010-1234-5678\")\n",
    "print(m)\n",
    "print(m.group(0))\n",
    "print(m.group(1))\n",
    "print(m.group(2))\n",
    "print(m.group(3))\n",
    "print(m.group(4))"
   ]
  },
  {
   "cell_type": "markdown",
   "id": "0623a7ef",
   "metadata": {},
   "source": [
    "# 그루핑된 문자열에 이름 붙이기"
   ]
  },
  {
   "cell_type": "markdown",
   "id": "1ad55cf7",
   "metadata": {},
   "source": [
    "* (?P<그룹명>...)\n",
    "* 정규식안에 그룹이 많아 질 경우 구분하기 위한 식별자로 활용"
   ]
  },
  {
   "cell_type": "code",
   "execution_count": 18,
   "id": "b757841c",
   "metadata": {},
   "outputs": [
    {
     "name": "stdout",
     "output_type": "stream",
     "text": [
      "park\n"
     ]
    }
   ],
   "source": [
    "p = re.compile(\"(?P<name>\\w+)\\s+((\\d+)[-]\\d+[-]\\d+)\")\n",
    "m = p.search(\"park 010-1234-5678\")\n",
    "print(m.group(\"name\"))"
   ]
  },
  {
   "cell_type": "markdown",
   "id": "0346013e",
   "metadata": {},
   "source": [
    "#### 문제] 위 예제를 참고해서 이름, 첫번째 번호, 두번째 번호, 세번째 번호 그룹이름을 지어보세요"
   ]
  },
  {
   "cell_type": "code",
   "execution_count": 19,
   "id": "a5d93d47",
   "metadata": {},
   "outputs": [
    {
     "name": "stdout",
     "output_type": "stream",
     "text": [
      "park\n",
      "010\n",
      "1234\n",
      "5678\n"
     ]
    }
   ],
   "source": [
    "p = re.compile(\"(?P<name>\\w+)\\s+(?P<name1>\\d+)[-](?P<name2>\\d+)[-](?P<name3>\\d+)\")\n",
    "m = p.search(\"park 010-1234-5678\")\n",
    "print(m.group(\"name\"))\n",
    "print(m.group(\"name1\"))\n",
    "print(m.group(\"name2\"))\n",
    "print(m.group(\"name3\"))"
   ]
  },
  {
   "cell_type": "code",
   "execution_count": 26,
   "id": "373037a6",
   "metadata": {},
   "outputs": [
    {
     "name": "stdout",
     "output_type": "stream",
     "text": [
      "park\n",
      "010\n",
      "1234\n",
      "5678\n"
     ]
    }
   ],
   "source": [
    "p = re.compile(r\"\"\"\n",
    "(?P<name>\\w+)       # park를 매칭하기 위한 정규식\n",
    "\\s+                 # park 다음 공백 문자를 매칭하기 위한 정규식\n",
    "(?P<first_num>\\d+)  # 010 첫번째 숫자 그룹을 매칭하기 위한 정규식\n",
    "[-]                 # 첫 번째와 두번째 숫자 그룹 사이의 - 문자를 매칭하기 위한 정규식\n",
    "(?P<middle_num>\\d+) # 1234 두번째 숫자 그룹을 매칭하기 위한 정규식\n",
    "[-]                 # 두 번째와 세번째 숫자 그룹 사이의 - 문자를 매칭하기 위한 정규식\n",
    "(?P<last_num>\\d+)   # 5678 세번째 숫자 그룹을 매칭하기 위한 정규식\n",
    "\"\"\",re.VERBOSE)\n",
    "m = p.search(\"park 010-1234-5678\")\n",
    "print(m.group(\"name\"))\n",
    "print(m.group(\"first_num\"))\n",
    "print(m.group(\"middle_num\"))\n",
    "print(m.group(\"last_num\"))"
   ]
  },
  {
   "cell_type": "markdown",
   "id": "9c02bdd0",
   "metadata": {},
   "source": [
    "# 전방 탐색 (Lookahead Assertions)"
   ]
  },
  {
   "cell_type": "raw",
   "id": "93d8da67",
   "metadata": {},
   "source": [
    "'http://google.com' 문자열에서 .을 활용하여 http만 매치하고자한다면 .."
   ]
  },
  {
   "cell_type": "code",
   "execution_count": 31,
   "id": "5a300e33",
   "metadata": {},
   "outputs": [
    {
     "name": "stdout",
     "output_type": "stream",
     "text": [
      "http:\n"
     ]
    }
   ],
   "source": [
    "p = re.compile('.+:')\n",
    "m = p.search(\"http://google.com\")\n",
    "print(m.group())"
   ]
  },
  {
   "cell_type": "markdown",
   "id": "3ef6a588",
   "metadata": {},
   "source": [
    "* 긍정형 전방 탐색((?=...)) : 해당 정규식과 매치되어야 하며 조건이 통과되어도 문자열이 소비되지 않는다.\n",
    "* 부정형 전방 탐색((?!...))  : 해당 정규식과 매치되지 않아야 하며 조건이 통과되어도 문자열이 소비되지 않는다."
   ]
  },
  {
   "cell_type": "markdown",
   "id": "97a28523",
   "metadata": {},
   "source": [
    "### - 긍정형 전방 탐색 (Positive Lookahead Assertions)"
   ]
  },
  {
   "cell_type": "code",
   "execution_count": 33,
   "id": "a4745a5f",
   "metadata": {},
   "outputs": [
    {
     "name": "stdout",
     "output_type": "stream",
     "text": [
      "http\n"
     ]
    }
   ],
   "source": [
    "p = re.compile('.+(?=:)')\n",
    "m = p.search(\"http://google.com\")\n",
    "print(m.group())"
   ]
  },
  {
   "cell_type": "markdown",
   "id": "cdd591a1",
   "metadata": {},
   "source": [
    "### - 부정형 전방 탐색 (Negative Lookahead Assertions)"
   ]
  },
  {
   "cell_type": "markdown",
   "id": "12e64162",
   "metadata": {},
   "source": [
    "#### Ver 1. 파일을 검색하는 정규식"
   ]
  },
  {
   "cell_type": "code",
   "execution_count": 34,
   "id": "6243ab49",
   "metadata": {},
   "outputs": [],
   "source": [
    "file_name_list = [\"foo.bar\",\"autoexec.bat\",\"sendmail.cf\"]"
   ]
  },
  {
   "cell_type": "code",
   "execution_count": 35,
   "id": "d57d0efd",
   "metadata": {
    "scrolled": true
   },
   "outputs": [
    {
     "name": "stdout",
     "output_type": "stream",
     "text": [
      "<re.Match object; span=(0, 7), match='foo.bar'>\n",
      "<re.Match object; span=(0, 12), match='autoexec.bat'>\n",
      "<re.Match object; span=(0, 11), match='sendmail.cf'>\n"
     ]
    }
   ],
   "source": [
    "p = re.compile('.*[.].*$')\n",
    "for file_name in file_name_list:\n",
    "    print(p.search(file_name))"
   ]
  },
  {
   "cell_type": "markdown",
   "id": "69921294",
   "metadata": {},
   "source": [
    "#### Ver 2. 확장자가 bat인 파일을 제외하는 정규식 작성 시도1"
   ]
  },
  {
   "cell_type": "code",
   "execution_count": 43,
   "id": "02d345b2",
   "metadata": {},
   "outputs": [],
   "source": [
    "file_name_list = [\"foo.bar\",\"autoexec.bat\",\"sendmail.cf\"]"
   ]
  },
  {
   "cell_type": "code",
   "execution_count": 44,
   "id": "337e8da0",
   "metadata": {},
   "outputs": [
    {
     "name": "stdout",
     "output_type": "stream",
     "text": [
      "None\n",
      "None\n",
      "<re.Match object; span=(0, 11), match='sendmail.cf'>\n"
     ]
    }
   ],
   "source": [
    "p = re.compile('.*[.][^b].*$')\n",
    "for file_name in file_name_list:\n",
    "    print(p.search(file_name))"
   ]
  },
  {
   "cell_type": "raw",
   "id": "b259bdfb",
   "metadata": {},
   "source": [
    "foo.bar도 제외됐으므로 실패!"
   ]
  },
  {
   "cell_type": "markdown",
   "id": "3d498e3b",
   "metadata": {},
   "source": [
    "#### Ver 3. 확장자가 bat인 파일을 제외하는 정규식 작성 시도2"
   ]
  },
  {
   "cell_type": "code",
   "execution_count": 47,
   "id": "e694d634",
   "metadata": {},
   "outputs": [],
   "source": [
    "file_name_list = [\"foo.bar\",\"autoexec.bat\",\"sendmail.cf\"]"
   ]
  },
  {
   "cell_type": "code",
   "execution_count": 48,
   "id": "9d507a31",
   "metadata": {},
   "outputs": [
    {
     "name": "stdout",
     "output_type": "stream",
     "text": [
      "<re.Match object; span=(0, 7), match='foo.bar'>\n",
      "None\n",
      "None\n"
     ]
    }
   ],
   "source": [
    "p = re.compile('.*[.]([^b]..|.[^a].|..[^t])$')\n",
    "for file_name in file_name_list:\n",
    "    print(p.search(file_name))"
   ]
  },
  {
   "cell_type": "raw",
   "id": "044a07bd",
   "metadata": {},
   "source": [
    "sendmail.cf도 제외됐으므로 실패!"
   ]
  },
  {
   "cell_type": "markdown",
   "id": "af36a10b",
   "metadata": {},
   "source": [
    "#### Ver 4. 확장자가 bat인 파일을 제외하는 정규식 작성 시도3"
   ]
  },
  {
   "cell_type": "code",
   "execution_count": 49,
   "id": "82ab63f5",
   "metadata": {},
   "outputs": [],
   "source": [
    "file_name_list = [\"foo.bar\",\"autoexec.bat\",\"sendmail.cf\"]"
   ]
  },
  {
   "cell_type": "code",
   "execution_count": 50,
   "id": "2f1de6c1",
   "metadata": {},
   "outputs": [
    {
     "name": "stdout",
     "output_type": "stream",
     "text": [
      "<re.Match object; span=(0, 7), match='foo.bar'>\n",
      "None\n",
      "<re.Match object; span=(0, 11), match='sendmail.cf'>\n"
     ]
    }
   ],
   "source": [
    "p = re.compile('.*[.]([^b].?.?|.[^a]?.?|..?[^t]?)$')\n",
    "for file_name in file_name_list:\n",
    "    print(p.search(file_name))"
   ]
  },
  {
   "cell_type": "raw",
   "id": "cc0b001c",
   "metadata": {},
   "source": [
    "성공..?"
   ]
  },
  {
   "cell_type": "markdown",
   "id": "1d9fdb15",
   "metadata": {},
   "source": [
    "#### Ver 5. 부정형 전방 탐색 적용"
   ]
  },
  {
   "cell_type": "code",
   "execution_count": 51,
   "id": "aff3c4e7",
   "metadata": {},
   "outputs": [
    {
     "name": "stdout",
     "output_type": "stream",
     "text": [
      "<re.Match object; span=(0, 7), match='foo.bar'>\n",
      "None\n",
      "<re.Match object; span=(0, 11), match='sendmail.cf'>\n"
     ]
    }
   ],
   "source": [
    "p = re.compile('.*[.](?!bat$).*$')\n",
    "for file_name in file_name_list:\n",
    "    print(p.search(file_name))"
   ]
  },
  {
   "cell_type": "raw",
   "id": "e784aaa7",
   "metadata": {},
   "source": [
    "=> 부정형 전방탐색은 제외하는 조건이 많아 질 수록 더 유용하다."
   ]
  },
  {
   "cell_type": "code",
   "execution_count": 52,
   "id": "eb6232e0",
   "metadata": {},
   "outputs": [
    {
     "name": "stdout",
     "output_type": "stream",
     "text": [
      "None\n",
      "None\n",
      "<re.Match object; span=(0, 11), match='sendmail.cf'>\n"
     ]
    }
   ],
   "source": [
    "p = re.compile('.*[.](?!bat$|bar$).*$')\n",
    "for file_name in file_name_list:\n",
    "    print(p.search(file_name))"
   ]
  },
  {
   "cell_type": "markdown",
   "id": "04d24def",
   "metadata": {},
   "source": [
    "---"
   ]
  },
  {
   "cell_type": "markdown",
   "id": "b182ec67",
   "metadata": {},
   "source": [
    "# 문자열 바꾸기"
   ]
  },
  {
   "cell_type": "markdown",
   "id": "6f5011aa",
   "metadata": {},
   "source": [
    "## sub 메서드"
   ]
  },
  {
   "cell_type": "code",
   "execution_count": 55,
   "id": "fcfaa9f4",
   "metadata": {},
   "outputs": [
    {
     "name": "stdout",
     "output_type": "stream",
     "text": [
      "color socks and color shoes\n",
      "color socks and red shoes\n",
      "color socks and color shoes\n"
     ]
    }
   ],
   "source": [
    "p = re.compile('(blue|white|red)')\n",
    "# 매칭된 결과를 첫번째 인자로 바꾼다\n",
    "print(p.sub('color','blue socks and red shoes'))\n",
    "print(p.sub('color','blue socks and red shoes',count = 1)) # 1번만 바꾸는 조건\n",
    "print(p.sub('color','blue socks and red shoes',count = 2)) # 2번 바꾸는 조건"
   ]
  },
  {
   "cell_type": "markdown",
   "id": "d35d7158",
   "metadata": {},
   "source": [
    "## subn 메서드"
   ]
  },
  {
   "cell_type": "code",
   "execution_count": 57,
   "id": "c76810fb",
   "metadata": {},
   "outputs": [
    {
     "data": {
      "text/plain": [
       "('color socks and color shoes', 2)"
      ]
     },
     "execution_count": 57,
     "metadata": {},
     "output_type": "execute_result"
    }
   ],
   "source": [
    "p.subn('color','blue socks and red shoes') # 바꾼 문자열과 바꾼 횟수를 반환"
   ]
  },
  {
   "cell_type": "markdown",
   "id": "dda72d7c",
   "metadata": {},
   "source": [
    "## sub 메서드 사용시 참조 구문 활용하기"
   ]
  },
  {
   "cell_type": "code",
   "execution_count": 58,
   "id": "b3165247",
   "metadata": {},
   "outputs": [
    {
     "name": "stdout",
     "output_type": "stream",
     "text": [
      "010-1234-1234 park\n"
     ]
    }
   ],
   "source": [
    "p = re.compile(r\"(?P<name>\\w+)\\s+(?P<phone>(\\d+)[-]\\d+[-]\\d+)\")\n",
    "print(p.sub(\"\\g<phone> \\g<name>\", \"park 010-1234-1234\"))"
   ]
  },
  {
   "cell_type": "code",
   "execution_count": 59,
   "id": "6e462940",
   "metadata": {},
   "outputs": [
    {
     "name": "stdout",
     "output_type": "stream",
     "text": [
      "010-1234-1234 park\n"
     ]
    }
   ],
   "source": [
    "print(p.sub(\"\\g<2> \\g<1>\", \"park 010-1234-1234\"))"
   ]
  },
  {
   "cell_type": "markdown",
   "id": "d72b9391",
   "metadata": {},
   "source": [
    "## sub 메서드의 매개변수로 함수 넣기"
   ]
  },
  {
   "cell_type": "code",
   "execution_count": 60,
   "id": "d3216994",
   "metadata": {},
   "outputs": [],
   "source": [
    "def hexrepl(match):\n",
    "    \"Return the hex string for a decimal number\"\n",
    "    value = int(match.group())\n",
    "    return hex(value)"
   ]
  },
  {
   "cell_type": "code",
   "execution_count": 61,
   "id": "c1f45640",
   "metadata": {},
   "outputs": [
    {
     "name": "stdout",
     "output_type": "stream",
     "text": [
      "Call 0xffd2 for printing, 0xc000 for user code.\n"
     ]
    }
   ],
   "source": [
    "p = re.compile('\\d+')\n",
    "print(p.sub(hexrepl,'Call 65490 for printing, 49152 for user code.'))"
   ]
  },
  {
   "cell_type": "markdown",
   "id": "dd039b26",
   "metadata": {},
   "source": [
    "# Greedy vs Non-Greedy"
   ]
  },
  {
   "cell_type": "markdown",
   "id": "a32a7075",
   "metadata": {},
   "source": [
    "## Greedy의 의미"
   ]
  },
  {
   "cell_type": "code",
   "execution_count": 62,
   "id": "133e2bd7",
   "metadata": {},
   "outputs": [],
   "source": [
    "s = '<html><head><title>Title</title>'"
   ]
  },
  {
   "cell_type": "raw",
   "id": "d3dabc51",
   "metadata": {},
   "source": [
    "문제] .을 활용하여 <html> 을 검색하려고 하는 정규식을 작성하세요"
   ]
  },
  {
   "cell_type": "code",
   "execution_count": 69,
   "id": "4fcea1ec",
   "metadata": {
    "scrolled": true
   },
   "outputs": [
    {
     "data": {
      "text/plain": [
       "<re.Match object; span=(0, 32), match='<html><head><title>Title</title>'>"
      ]
     },
     "execution_count": 69,
     "metadata": {},
     "output_type": "execute_result"
    }
   ],
   "source": [
    "# 매치가 되는 조건을 계속 찾는다. <= 이것이 Greedy의 의미\n",
    "re.match('<.*>',s)"
   ]
  },
  {
   "cell_type": "markdown",
   "id": "dfef6f1e",
   "metadata": {},
   "source": [
    "## Non-Greedy\n",
    "* non-greedy 문자인 ?를 사용하면 *의 탐욕을 제한 할 수 있다."
   ]
  },
  {
   "cell_type": "code",
   "execution_count": 70,
   "id": "571294f1",
   "metadata": {},
   "outputs": [
    {
     "data": {
      "text/plain": [
       "<re.Match object; span=(0, 6), match='<html>'>"
      ]
     },
     "execution_count": 70,
     "metadata": {},
     "output_type": "execute_result"
    }
   ],
   "source": [
    "re.match('<.*?>',s)"
   ]
  },
  {
   "cell_type": "markdown",
   "id": "fac67fd2",
   "metadata": {},
   "source": [
    "https://regexone.com/"
   ]
  }
 ],
 "metadata": {
  "kernelspec": {
   "display_name": "Python 3 (ipykernel)",
   "language": "python",
   "name": "python3"
  },
  "language_info": {
   "codemirror_mode": {
    "name": "ipython",
    "version": 3
   },
   "file_extension": ".py",
   "mimetype": "text/x-python",
   "name": "python",
   "nbconvert_exporter": "python",
   "pygments_lexer": "ipython3",
   "version": "3.9.13"
  }
 },
 "nbformat": 4,
 "nbformat_minor": 5
}
