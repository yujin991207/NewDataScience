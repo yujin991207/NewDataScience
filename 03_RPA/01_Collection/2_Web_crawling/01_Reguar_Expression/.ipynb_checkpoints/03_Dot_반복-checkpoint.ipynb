{
 "cells": [
  {
   "cell_type": "markdown",
   "id": "2a59d13f",
   "metadata": {},
   "source": [
    "# Dot ."
   ]
  },
  {
   "cell_type": "markdown",
   "id": "85de7f91",
   "metadata": {},
   "source": [
    "* 정규 표현식의 Dot(.) 메타 문자는 줄바꿈 문자 '\\n'을 제외한 모든 문자와 매치\n",
    "* 이 문법은 문자열 클래스에 적용되지않는다."
   ]
  },
  {
   "cell_type": "code",
   "execution_count": 2,
   "id": "635bd296",
   "metadata": {},
   "outputs": [],
   "source": [
    "import re"
   ]
  },
  {
   "cell_type": "code",
   "execution_count": 4,
   "id": "b2f2e620",
   "metadata": {},
   "outputs": [
    {
     "name": "stdout",
     "output_type": "stream",
     "text": [
      "<re.Match object; span=(0, 3), match='aab'>\n",
      "<re.Match object; span=(0, 3), match='a0b'>\n",
      "None\n"
     ]
    }
   ],
   "source": [
    "# 첫번째 글자가 a 두번째 글자가 아무문자(\\n 제외) 세번째 글자가 b인 표현식\n",
    "p = re.compile('a.b')\n",
    "m = p.match('aab')\n",
    "print(m)\n",
    "m = p.match('a0b')\n",
    "print(m)\n",
    "m = p.match('abc') # ab 사이에 문자가 있어야하는데 없으므로 매치되지않음\n",
    "print(m)"
   ]
  },
  {
   "cell_type": "code",
   "execution_count": 6,
   "id": "c443ef89",
   "metadata": {},
   "outputs": [
    {
     "name": "stdout",
     "output_type": "stream",
     "text": [
      "None\n",
      "None\n",
      "None\n"
     ]
    }
   ],
   "source": [
    "# dot은 문자열클래스에 적용하지않는다\n",
    "# 문자클래스에서 . (dot) 은 문자 '.' 이다.\n",
    "p = re.compile('a[.]b')\n",
    "m = p.match('aab')\n",
    "print(m)\n",
    "m = p.match('a0b')\n",
    "print(m)\n",
    "m = p.match('abc')\n",
    "print(m)"
   ]
  },
  {
   "cell_type": "code",
   "execution_count": 8,
   "id": "c491ad2e",
   "metadata": {},
   "outputs": [
    {
     "name": "stdout",
     "output_type": "stream",
     "text": [
      "<re.Match object; span=(0, 7), match='aab.txt'>\n",
      "None\n"
     ]
    }
   ],
   "source": [
    "# 첫번째 글자가 a, 두번째 세번째 글자가 아무글자 네번째글자가 .\n",
    "# 나머지 글자가 txt\n",
    "p = re.compile('a..[.]txt')\n",
    "m = p.match('aab.txt')\n",
    "print(m)\n",
    "m = p.match('a1.txt')\n",
    "print(m)"
   ]
  },
  {
   "cell_type": "code",
   "execution_count": 9,
   "id": "14dd3669",
   "metadata": {},
   "outputs": [
    {
     "name": "stdout",
     "output_type": "stream",
     "text": [
      "<re.Match object; span=(0, 4), match='pen.'>\n",
      "<re.Match object; span=(0, 4), match='pen!'>\n"
     ]
    }
   ],
   "source": [
    "p = re.compile('....')\n",
    "m = p.match('pen.')\n",
    "print(m)\n",
    "m = p.match('pen!')\n",
    "print(m)"
   ]
  },
  {
   "cell_type": "code",
   "execution_count": 10,
   "id": "ad2f898d",
   "metadata": {},
   "outputs": [
    {
     "name": "stdout",
     "output_type": "stream",
     "text": [
      "<re.Match object; span=(0, 4), match='pen.'>\n",
      "None\n"
     ]
    }
   ],
   "source": [
    "p = re.compile('pen[.]')\n",
    "m = p.match('pen.')\n",
    "print(m)\n",
    "m = p.match('pen!')\n",
    "print(m)"
   ]
  },
  {
   "cell_type": "markdown",
   "id": "98bc28bd",
   "metadata": {},
   "source": [
    "---"
   ]
  },
  {
   "cell_type": "markdown",
   "id": "8e34c973",
   "metadata": {},
   "source": [
    "# 반복 (*)"
   ]
  },
  {
   "cell_type": "markdown",
   "id": "55f07863",
   "metadata": {},
   "source": [
    "* '*'은 바로 앞에 있는 문자가 0(없거나)부터 무한대로 반복되는 패턴  \n",
    "    (하지만 알려진 바로는 반복횟수는 메모리 제약사항으로 약 2억개 정도만 가능)"
   ]
  },
  {
   "cell_type": "code",
   "execution_count": 17,
   "id": "bef53e05",
   "metadata": {},
   "outputs": [
    {
     "name": "stdout",
     "output_type": "stream",
     "text": [
      "<re.Match object; span=(0, 2), match='ct'>\n",
      "<re.Match object; span=(0, 3), match='cat'>\n",
      "<re.Match object; span=(0, 4), match='caat'>\n",
      "<re.Match object; span=(0, 20), match='caaaaaaaaaaaaaaaaaat'>\n",
      "None\n"
     ]
    }
   ],
   "source": [
    "p = re.compile('ca*t') # a가 없어도된다라는 조건\n",
    "m = p.match('ct')\n",
    "print(m)\n",
    "m = p.match('cat')\n",
    "print(m)\n",
    "m = p.match('caat')\n",
    "print(m)\n",
    "m = p.match('caaaaaaaaaaaaaaaaaat')\n",
    "print(m)\n",
    "m = p.match('caaaaaaaaaaaaaaaaaaaaa')\n",
    "print(m)"
   ]
  },
  {
   "cell_type": "markdown",
   "id": "9ab4b2c2",
   "metadata": {},
   "source": [
    "# 반복 (+)"
   ]
  },
  {
   "cell_type": "markdown",
   "id": "18632ae4",
   "metadata": {},
   "source": [
    "* '+'은 바로 앞에 있는 문자가 1개 부터 무한대로 반복되는 패턴  "
   ]
  },
  {
   "cell_type": "code",
   "execution_count": 19,
   "id": "f32c0089",
   "metadata": {},
   "outputs": [
    {
     "name": "stdout",
     "output_type": "stream",
     "text": [
      "None\n",
      "<re.Match object; span=(0, 3), match='cat'>\n",
      "<re.Match object; span=(0, 4), match='caat'>\n",
      "<re.Match object; span=(0, 20), match='caaaaaaaaaaaaaaaaaat'>\n",
      "None\n"
     ]
    }
   ],
   "source": [
    "p = re.compile('ca+t') # a가 1개 이상 ...\n",
    "m = p.match('ct')\n",
    "print(m)\n",
    "m = p.match('cat')\n",
    "print(m)\n",
    "m = p.match('caat')\n",
    "print(m)\n",
    "m = p.match('caaaaaaaaaaaaaaaaaat')\n",
    "print(m)\n",
    "m = p.match('caaaaaaaaaaaaaaaaaaaaa')\n",
    "print(m)"
   ]
  },
  {
   "cell_type": "code",
   "execution_count": 21,
   "id": "a4141c02",
   "metadata": {},
   "outputs": [
    {
     "name": "stdout",
     "output_type": "stream",
     "text": [
      "None\n",
      "<re.Match object; span=(0, 6), match='google'>\n",
      "<re.Match object; span=(0, 26), match='goooooooooooooooooooooogle'>\n"
     ]
    }
   ],
   "source": [
    "p = re.compile('goo+gle')\n",
    "m = p.match('gogle')\n",
    "print(m)\n",
    "m = p.match('google')\n",
    "print(m)\n",
    "m = p.match('goooooooooooooooooooooogle')\n",
    "print(m)"
   ]
  },
  {
   "cell_type": "markdown",
   "id": "2fe97a3c",
   "metadata": {},
   "source": [
    "# 반복 {m,n}"
   ]
  },
  {
   "cell_type": "markdown",
   "id": "d4644e22",
   "metadata": {},
   "source": [
    "* {m, n} 정규식을 사용하면 반복 횟수가 m부터 n까지 매치\n",
    "* m 또는 n을 생략할 수도 있다.\n",
    "* {3,}처럼 사용하면 반복 횟수가 3 이상인 경우이고 {,3}처럼 사용하면 반복 횟수가 3 이하를 의미\n",
    "* {1,}은 +와 동일하고, {0,}은 *와 동일\n",
    "* 숫자가 하나만 올 경우 반복 횟수를 의미한다."
   ]
  },
  {
   "cell_type": "code",
   "execution_count": 23,
   "id": "3a292a61",
   "metadata": {},
   "outputs": [
    {
     "name": "stdout",
     "output_type": "stream",
     "text": [
      "None\n",
      "None\n",
      "<re.Match object; span=(0, 4), match='caat'>\n",
      "None\n"
     ]
    }
   ],
   "source": [
    "p = re.compile('ca{2}t') # a가 2번 반복인 경우에 매치\n",
    "m = p.match('ct')\n",
    "print(m)\n",
    "m = p.match('cat')\n",
    "print(m)\n",
    "m = p.match('caat')\n",
    "print(m)\n",
    "m = p.match('caaaat')\n",
    "print(m)"
   ]
  },
  {
   "cell_type": "code",
   "execution_count": 27,
   "id": "0e72f619",
   "metadata": {},
   "outputs": [
    {
     "name": "stdout",
     "output_type": "stream",
     "text": [
      "None\n",
      "<re.Match object; span=(0, 4), match='caat'>\n",
      "<re.Match object; span=(0, 5), match='caaat'>\n",
      "<re.Match object; span=(0, 6), match='caaaat'>\n",
      "<re.Match object; span=(0, 7), match='caaaaat'>\n"
     ]
    }
   ],
   "source": [
    "p = re.compile('ca{2,5}t') # a가 2-5 사이의 반복인 경우에 매치\n",
    "m = p.match('ct')\n",
    "print(m)\n",
    "m = p.match('caat')\n",
    "print(m)\n",
    "m = p.match('caaat')\n",
    "print(m)\n",
    "m = p.match('caaaat')\n",
    "print(m)\n",
    "m = p.match('caaaaat')\n",
    "print(m)"
   ]
  },
  {
   "cell_type": "code",
   "execution_count": 28,
   "id": "3a32ce58",
   "metadata": {},
   "outputs": [
    {
     "name": "stdout",
     "output_type": "stream",
     "text": [
      "None\n",
      "<re.Match object; span=(0, 4), match='caat'>\n",
      "<re.Match object; span=(0, 5), match='caaat'>\n",
      "<re.Match object; span=(0, 6), match='caaaat'>\n",
      "<re.Match object; span=(0, 9), match='caaaaaaat'>\n"
     ]
    }
   ],
   "source": [
    "p = re.compile('ca{2,}t') # a가 2이상 반복인 경우에 매칭이 된다.\n",
    "m = p.match('cat')\n",
    "print(m)\n",
    "m = p.match('caat')\n",
    "print(m)\n",
    "m = p.match('caaat')\n",
    "print(m)\n",
    "m = p.match('caaaat')\n",
    "print(m)\n",
    "m = p.match('caaaaaaat')\n",
    "print(m)"
   ]
  },
  {
   "cell_type": "code",
   "execution_count": 29,
   "id": "61909f29",
   "metadata": {},
   "outputs": [
    {
     "name": "stdout",
     "output_type": "stream",
     "text": [
      "None\n",
      "None\n",
      "None\n",
      "None\n",
      "<re.Match object; span=(0, 7), match='caaaaat'>\n",
      "<re.Match object; span=(0, 14), match='caaaaaaaaaaaat'>\n"
     ]
    }
   ],
   "source": [
    "p = re.compile('ca{5,}t') # a가 5개이하 반복인 경우에 매칭이 된다.\n",
    "m = p.match('ct') # 이하의 조건이므로 a가 없는경우도 만족\n",
    "print(m)\n",
    "m = p.match('cat')\n",
    "print(m)\n",
    "m = p.match('caat')\n",
    "print(m)\n",
    "m = p.match('caaaat')\n",
    "print(m)\n",
    "m = p.match('caaaaat')\n",
    "print(m)\n",
    "m = p.match('caaaaaaaaaaaat')\n",
    "print(m)"
   ]
  },
  {
   "cell_type": "markdown",
   "id": "bf1071a8",
   "metadata": {},
   "source": [
    "# 선택사항 ?"
   ]
  },
  {
   "cell_type": "markdown",
   "id": "4691671f",
   "metadata": {},
   "source": [
    "* ? 메타문자가 의미하는 것은 {0,1}"
   ]
  },
  {
   "cell_type": "code",
   "execution_count": 30,
   "id": "03255601",
   "metadata": {},
   "outputs": [
    {
     "name": "stdout",
     "output_type": "stream",
     "text": [
      "<re.Match object; span=(0, 2), match='ac'>\n",
      "<re.Match object; span=(0, 3), match='abc'>\n",
      "None\n",
      "None\n",
      "<re.Match object; span=(0, 3), match='abc'>\n"
     ]
    }
   ],
   "source": [
    "# 첫번째 글자가 a 두번째 글자가 b일수도 있거나 아닌경우 그 다음 글자가 c ( c가 반드시 3번째는 아님)\n",
    "p = re.compile('ab?c')\n",
    "m = p.match('ac')\n",
    "print(m)\n",
    "m = p.match('abc')\n",
    "print(m)\n",
    "m = p.match('abbc') # b가 매치가 되었다면 다음 순서는 c가 와야하므로 매치 안된다.\n",
    "print(m)\n",
    "m = p.match('abbbc') # b가 매치가 되었다면 다음 순서는 c가 와야하므로 매치 안된다.\n",
    "print(m)\n",
    "m = p.match('abcd') # 문자열 중 정규식에 일치하는 abc만 매치\n",
    "print(m)"
   ]
  }
 ],
 "metadata": {
  "kernelspec": {
   "display_name": "Python 3 (ipykernel)",
   "language": "python",
   "name": "python3"
  },
  "language_info": {
   "codemirror_mode": {
    "name": "ipython",
    "version": 3
   },
   "file_extension": ".py",
   "mimetype": "text/x-python",
   "name": "python",
   "nbconvert_exporter": "python",
   "pygments_lexer": "ipython3",
   "version": "3.9.13"
  }
 },
 "nbformat": 4,
 "nbformat_minor": 5
}
