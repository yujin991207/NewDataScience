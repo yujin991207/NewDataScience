{
 "cells": [
  {
   "cell_type": "markdown",
   "id": "76bfdde6",
   "metadata": {},
   "source": [
    "## 정규식을 컴파일 할 경우 다음 옵션을 사용할 수 있다.\n",
    "* DOTALL(S) - . 이 줄바꿈 문자를 포함하여 모든 문자와 매치할 수 있도록 한다.\n",
    "* IGNORECASE(I) - 대소문자에 관계없이 매치할 수 있도록 한다.\n",
    "* MULTILINE(M) - 여러줄과 매치할 수 있도록 한다. (^, $ 메타문자의 사용과 관계가 있는 옵션이다)\n",
    "* VERBOSE(X) - verbose 모드를 사용할 수 있도록 한다. (정규식을 보기 편하게 만들수 있고 주석등을 사용할 수 있게된다.)"
   ]
  },
  {
   "cell_type": "markdown",
   "id": "3bcdfd88",
   "metadata": {},
   "source": [
    "## DOTALL (S)"
   ]
  },
  {
   "cell_type": "code",
   "execution_count": 1,
   "id": "f54545aa",
   "metadata": {},
   "outputs": [],
   "source": [
    "import re"
   ]
  },
  {
   "cell_type": "code",
   "execution_count": 2,
   "id": "613385b8",
   "metadata": {},
   "outputs": [
    {
     "name": "stdout",
     "output_type": "stream",
     "text": [
      "None\n"
     ]
    }
   ],
   "source": [
    "original_text = \"\"\"a\n",
    "b\"\"\"\n",
    "p = re.compile(\"a.b\")\n",
    "m = p.match(original_text)\n",
    "print(m)"
   ]
  },
  {
   "cell_type": "code",
   "execution_count": 3,
   "id": "7af85a64",
   "metadata": {},
   "outputs": [
    {
     "name": "stdout",
     "output_type": "stream",
     "text": [
      "<re.Match object; span=(0, 3), match='a\\nb'>\n"
     ]
    }
   ],
   "source": [
    "original_text = \"\"\"a\n",
    "b\"\"\"\n",
    "p = re.compile(\"a\\nb\")\n",
    "m = p.match(original_text)\n",
    "print(m)"
   ]
  },
  {
   "cell_type": "code",
   "execution_count": 4,
   "id": "e7902208",
   "metadata": {},
   "outputs": [
    {
     "name": "stdout",
     "output_type": "stream",
     "text": [
      "<re.Match object; span=(0, 3), match='a\\nb'>\n"
     ]
    }
   ],
   "source": [
    "p = re.compile(\"a.b\",re.DOTALL)\n",
    "m = p.match(original_text)\n",
    "print(m)"
   ]
  },
  {
   "cell_type": "code",
   "execution_count": 5,
   "id": "c9889272",
   "metadata": {},
   "outputs": [
    {
     "name": "stdout",
     "output_type": "stream",
     "text": [
      "<re.Match object; span=(0, 3), match='a\\nb'>\n"
     ]
    }
   ],
   "source": [
    "p = re.compile(\"a.b\",re.S)\n",
    "m = p.match(original_text)\n",
    "print(m)"
   ]
  },
  {
   "cell_type": "markdown",
   "id": "4e03dfdd",
   "metadata": {},
   "source": [
    "## IGNORECASE (I)\n",
    "* 해당 옵션은 대소문자 구별없이 매치를 수행 할 때 사용하는 옵션"
   ]
  },
  {
   "cell_type": "code",
   "execution_count": 10,
   "id": "27ee6294",
   "metadata": {},
   "outputs": [
    {
     "name": "stdout",
     "output_type": "stream",
     "text": [
      "<re.Match object; span=(0, 6), match='python'>\n",
      "<re.Match object; span=(0, 6), match='Python'>\n",
      "<re.Match object; span=(0, 6), match='PYTHON'>\n"
     ]
    }
   ],
   "source": [
    "p = re.compile(\"[a-z]+\",re.I)\n",
    "print(p.match('python'))\n",
    "print(p.match('Python'))\n",
    "print(p.match('PYTHON'))"
   ]
  },
  {
   "cell_type": "markdown",
   "id": "bb28fe4e",
   "metadata": {},
   "source": [
    "## MULTILINE (M)"
   ]
  },
  {
   "cell_type": "raw",
   "id": "e4379f05",
   "metadata": {},
   "source": [
    "후에 설명할 메타 문자인 ^, $와 연관된 옵션이다.   \n",
    "^는 문자열의 처음을 의미하고, $는 문자열의 마지막을 의미한다.   \n",
    "예를 들어 정규식이 ^python인 경우 문자열의 처음은 항상 python으로 시작해야 매치되고,\n",
    "만약 정규식이 python$이라면 문자열의 마지막은 항상 python으로 끝나야 매치된다는 의미이다."
   ]
  },
  {
   "cell_type": "code",
   "execution_count": 11,
   "id": "b37cf544",
   "metadata": {},
   "outputs": [],
   "source": [
    "data = \"\"\"python one\n",
    "life is too short\n",
    "python two\n",
    "you need python\n",
    "python three\"\"\""
   ]
  },
  {
   "cell_type": "code",
   "execution_count": 12,
   "id": "50c91197",
   "metadata": {},
   "outputs": [
    {
     "name": "stdout",
     "output_type": "stream",
     "text": [
      "['python one']\n"
     ]
    }
   ],
   "source": [
    "p = re.compile(\"^python\\s\\w+\")\n",
    "print(p.findall(data))"
   ]
  },
  {
   "cell_type": "markdown",
   "id": "dfb46342",
   "metadata": {},
   "source": [
    "#### => 위 정규식의 문제점 : findall 전체 문자열을 대상으로 검색을 하지만 default로 컴파일 시 첫째 라인의 결과만 반환한다"
   ]
  },
  {
   "cell_type": "code",
   "execution_count": 14,
   "id": "f8dfac08",
   "metadata": {},
   "outputs": [
    {
     "name": "stdout",
     "output_type": "stream",
     "text": [
      "['python one', 'python two', 'python three']\n"
     ]
    }
   ],
   "source": [
    "p = re.compile(\"^python\\s\\w+\",re.MULTILINE)\n",
    "print(p.findall(data))"
   ]
  },
  {
   "cell_type": "markdown",
   "id": "8dd58cef",
   "metadata": {},
   "source": [
    "## VERBOSE (X)\n",
    "* 정규식 가독성을 위해 한 줄로 표현하는 정규식을 여러줄로 표현할 수 있다."
   ]
  },
  {
   "cell_type": "code",
   "execution_count": 15,
   "id": "3a58fbd1",
   "metadata": {},
   "outputs": [],
   "source": [
    "charref = re.compile(r'&[#](0[0-7]+|[0-9]+|x[0-9a-fA-F]+);')"
   ]
  },
  {
   "cell_type": "code",
   "execution_count": 16,
   "id": "8f878bd0",
   "metadata": {},
   "outputs": [],
   "source": [
    "charref = re.compile(r\"\"\"\n",
    " &[#]                # Start of a numeric entity reference\n",
    " (\n",
    "     0[0-7]+         # Octal form\n",
    "   | [0-9]+          # Decimal form\n",
    "   | x[0-9a-fA-F]+   # Hexadecimal form\n",
    " )\n",
    " ;                   # Trailing semicolon\n",
    "\"\"\", re.VERBOSE) # 줄바꿈 이후의 공백문자는 컴파일시 제거된다."
   ]
  },
  {
   "cell_type": "markdown",
   "id": "44557d0d",
   "metadata": {},
   "source": [
    "## 백슬러시 (\\문제)"
   ]
  },
  {
   "cell_type": "raw",
   "id": "ea04358b",
   "metadata": {},
   "source": [
    "'\\section' 이라는 문자열을 검색하고자 한다."
   ]
  },
  {
   "cell_type": "code",
   "execution_count": 18,
   "id": "403ea759",
   "metadata": {},
   "outputs": [],
   "source": [
    "p = re.compile('\\section')\n",
    "p.match('\\section') # <= 파이썬에서 \\는 escape 문자로 활용"
   ]
  },
  {
   "cell_type": "code",
   "execution_count": 21,
   "id": "ccc0dbc8",
   "metadata": {},
   "outputs": [],
   "source": [
    "# 아래와 같이 \\\\ 정규식이 동작하지않는 것은 파이썬에서만 발생하는 문제이다.\n",
    "# 파이썬의 리터럴 규칙때문에 발생, 유닉스나 vi에서는 문제가 없음.\n",
    "p = re.compile('\\\\section')\n",
    "p.match('\\\\section')"
   ]
  },
  {
   "cell_type": "code",
   "execution_count": 23,
   "id": "d01d3758",
   "metadata": {},
   "outputs": [
    {
     "data": {
      "text/plain": [
       "<re.Match object; span=(0, 8), match='\\\\section'>"
      ]
     },
     "execution_count": 23,
     "metadata": {},
     "output_type": "execute_result"
    }
   ],
   "source": [
    "# 파이썬 정규식 컴파일 구문에서 \\\\를 표현하기위해 4개가 필요하다.\n",
    "p = re.compile('\\\\\\\\section') \n",
    "p.match('\\\\section')"
   ]
  },
  {
   "cell_type": "markdown",
   "id": "4c1dfb97",
   "metadata": {},
   "source": [
    "## r옵션 : compile 구문에서 \\\\\\를  raw타입으로 활용하는 옵션"
   ]
  },
  {
   "cell_type": "code",
   "execution_count": 24,
   "id": "f528b986",
   "metadata": {},
   "outputs": [
    {
     "data": {
      "text/plain": [
       "<re.Match object; span=(0, 8), match='\\\\section'>"
      ]
     },
     "execution_count": 24,
     "metadata": {},
     "output_type": "execute_result"
    }
   ],
   "source": [
    "p = re.compile(r'\\\\section') # r옵션을 사용하면 원래의 사용했던 정규식을 사용할 수 있다\n",
    "p.match('\\\\section')"
   ]
  },
  {
   "cell_type": "markdown",
   "id": "a68b64cd",
   "metadata": {},
   "source": [
    "### '\\\\\\' 문자를 검색하는 정규식을 작성할 때에는 r옵션을 사용해야함"
   ]
  }
 ],
 "metadata": {
  "kernelspec": {
   "display_name": "Python 3 (ipykernel)",
   "language": "python",
   "name": "python3"
  },
  "language_info": {
   "codemirror_mode": {
    "name": "ipython",
    "version": 3
   },
   "file_extension": ".py",
   "mimetype": "text/x-python",
   "name": "python",
   "nbconvert_exporter": "python",
   "pygments_lexer": "ipython3",
   "version": "3.9.13"
  }
 },
 "nbformat": 4,
 "nbformat_minor": 5
}
