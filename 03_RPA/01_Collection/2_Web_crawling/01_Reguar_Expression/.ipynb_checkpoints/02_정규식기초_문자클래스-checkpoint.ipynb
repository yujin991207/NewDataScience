{
 "cells": [
  {
   "cell_type": "raw",
   "id": "37d4b053",
   "metadata": {},
   "source": [
    "문제] 아래 문자열에서 주민등록번호 뒤 7자리를 ******* 로 변경 할 것\n",
    "park 800905-1049118\n",
    "kim 700905-1059119\n",
    "\n",
    "예) \n",
    "park 800905-*******\n",
    "kim 700905-*******\n",
    "\n",
    "제한시간 5분"
   ]
  },
  {
   "cell_type": "code",
   "execution_count": 1,
   "id": "c88d4273",
   "metadata": {},
   "outputs": [],
   "source": [
    "data = \"\"\"\n",
    "park 800905-1049118\n",
    "kim 700905-1059119\n",
    "\"\"\""
   ]
  },
  {
   "cell_type": "code",
   "execution_count": 2,
   "id": "b65ee31c",
   "metadata": {},
   "outputs": [
    {
     "name": "stdout",
     "output_type": "stream",
     "text": [
      "\n",
      "park 800905-*******\n",
      "kim 700905-*******\n",
      "\n"
     ]
    }
   ],
   "source": [
    "result = []\n",
    "for line in data.split(\"\\n\"):\n",
    "    word_result = []\n",
    "\n",
    "    for word in line.split(\" \"):\n",
    "        if len(word) == 14 and word[:6].isdigit() and word[7:].isdigit():\n",
    "            word = word[:6]+\"-\"+\"*******\"\n",
    "        word_result.append(word)\n",
    "\n",
    "    result.append(\" \".join(word_result))\n",
    "\n",
    "print(\"\\n\".join(result))"
   ]
  },
  {
   "cell_type": "markdown",
   "id": "dc9d8e38",
   "metadata": {},
   "source": [
    "## 정규식 풀이"
   ]
  },
  {
   "cell_type": "code",
   "execution_count": 3,
   "id": "c9a00074",
   "metadata": {},
   "outputs": [],
   "source": [
    "import re"
   ]
  },
  {
   "cell_type": "code",
   "execution_count": 4,
   "id": "0ce5cdab",
   "metadata": {
    "scrolled": true
   },
   "outputs": [
    {
     "name": "stdout",
     "output_type": "stream",
     "text": [
      "\n",
      "park 800905-*******\n",
      "kim 700905-*******\n",
      "\n"
     ]
    }
   ],
   "source": [
    "pat = re.compile(\"(\\d{6})[-]\\d{7}\")\n",
    "print(pat.sub(\"\\g<1>-*******\",data))"
   ]
  },
  {
   "cell_type": "markdown",
   "id": "23f264da",
   "metadata": {},
   "source": [
    "---"
   ]
  },
  {
   "cell_type": "markdown",
   "id": "e43d3bc1",
   "metadata": {},
   "source": [
    "## 파이썬에서 정규식 적용하는 방식"
   ]
  },
  {
   "cell_type": "code",
   "execution_count": 6,
   "id": "dc2a1cc1",
   "metadata": {},
   "outputs": [
    {
     "data": {
      "text/plain": [
       "<re.Match object; span=(0, 3), match='abc'>"
      ]
     },
     "execution_count": 6,
     "metadata": {},
     "output_type": "execute_result"
    }
   ],
   "source": [
    "pattern = re.compile('abc') # compile 함수 안에 정규표현식 입력\n",
    "result = pattern.match('abc') # 컴파일한 인스턴스에서 제공하는 함수안에 \n",
    "                              # 검색하고자하는 문자열 원본을 입력한다.\n",
    "result"
   ]
  },
  {
   "cell_type": "raw",
   "id": "b67f0a30",
   "metadata": {},
   "source": [
    "<re.Match object; span=(0, 3), match='abc'> <= 검색 결과는 Match 오브젝트로 반환\n",
    "\n",
    "span 속성에 매치되는 인덱스 정보를 튜플로 반환 ([시작인덱스],[끝인덱스])\n",
    "match 속성에 매치되는 문자열 반환"
   ]
  },
  {
   "cell_type": "code",
   "execution_count": 9,
   "id": "8cda61d7",
   "metadata": {},
   "outputs": [],
   "source": [
    "# 원본은 'ab'인데 'abc'를 검색하려고하니 매치가 되지않는다.\n",
    "pattern = re.compile('abc') \n",
    "result = pattern.match('ab')\n",
    "result        # 매치가 되지않은경우에 None을 반환한다.\n",
    "              # 하지만 주피터에서는 None은 출력되지않는다."
   ]
  },
  {
   "cell_type": "code",
   "execution_count": 8,
   "id": "f03c94ab",
   "metadata": {},
   "outputs": [
    {
     "name": "stdout",
     "output_type": "stream",
     "text": [
      "None\n"
     ]
    }
   ],
   "source": [
    "print(result)  # None 결과를 명시적으로 확인하기위해 print함수를 사용한다."
   ]
  },
  {
   "cell_type": "markdown",
   "id": "ecdad3bb",
   "metadata": {},
   "source": [
    "---"
   ]
  },
  {
   "cell_type": "markdown",
   "id": "450b2e4d",
   "metadata": {},
   "source": [
    "## 문자클래스"
   ]
  },
  {
   "cell_type": "markdown",
   "id": "a4488527",
   "metadata": {},
   "source": [
    "* 문자 클래스로 만들어진 정규식은 \"[ ] 사이의 문자들과 매치\"라는 의미\n",
    "* 정규 표현식이 [abc]라면 이 표현식의 의미는 \"a, b, c 중 한 개의 문자와 매치\""
   ]
  },
  {
   "cell_type": "code",
   "execution_count": 13,
   "id": "3a974035",
   "metadata": {},
   "outputs": [],
   "source": [
    "pattern = re.compile('abc')\n",
    "match_result = pattern.match('a') # 원본이 a인데 여기에 abc문자가 있는지 검색\n",
    "\n",
    "match_result"
   ]
  },
  {
   "cell_type": "code",
   "execution_count": 14,
   "id": "f3c27dcf",
   "metadata": {},
   "outputs": [
    {
     "data": {
      "text/plain": [
       "<re.Match object; span=(0, 1), match='a'>"
      ]
     },
     "execution_count": 14,
     "metadata": {},
     "output_type": "execute_result"
    }
   ],
   "source": [
    "pattern = re.compile('[abc]')\n",
    "match_result = pattern.match('a') # 원본이 a인데 여기에 abc중 하나의 문자가 있는지 검색\n",
    "\n",
    "match_result"
   ]
  },
  {
   "cell_type": "code",
   "execution_count": 27,
   "id": "8cf8a1f3",
   "metadata": {},
   "outputs": [
    {
     "data": {
      "text/plain": [
       "<re.Match object; span=(0, 1), match='a'>"
      ]
     },
     "execution_count": 27,
     "metadata": {},
     "output_type": "execute_result"
    }
   ],
   "source": [
    "p = re.compile('[abc]') # 관용적으로 변수명을 p로 사용한다.\n",
    "                        # abc문자중 첫번째 글자와 매치\n",
    "p.match('a')"
   ]
  },
  {
   "cell_type": "code",
   "execution_count": 28,
   "id": "9c81ec61",
   "metadata": {},
   "outputs": [
    {
     "data": {
      "text/plain": [
       "<re.Match object; span=(0, 1), match='b'>"
      ]
     },
     "execution_count": 28,
     "metadata": {},
     "output_type": "execute_result"
    }
   ],
   "source": [
    "p.match('before')"
   ]
  },
  {
   "cell_type": "code",
   "execution_count": 29,
   "id": "15a5c695",
   "metadata": {},
   "outputs": [
    {
     "data": {
      "text/plain": [
       "<re.Match object; span=(0, 1), match='c'>"
      ]
     },
     "execution_count": 29,
     "metadata": {},
     "output_type": "execute_result"
    }
   ],
   "source": [
    "p.match('climb') # abc 문자열 중 c와 매치가 됨."
   ]
  },
  {
   "cell_type": "code",
   "execution_count": 23,
   "id": "6856ed7a",
   "metadata": {},
   "outputs": [
    {
     "data": {
      "text/plain": [
       "<re.Match object; span=(0, 4), match='dumb'>"
      ]
     },
     "execution_count": 23,
     "metadata": {},
     "output_type": "execute_result"
    }
   ],
   "source": [
    "p.match('dumb') # 문자열 클래스는 단 하나의 문자와 매치 => 'd'만 비교\n",
    "                # 매치가 되지않는다."
   ]
  },
  {
   "cell_type": "code",
   "execution_count": 24,
   "id": "33922f40",
   "metadata": {},
   "outputs": [
    {
     "data": {
      "text/plain": [
       "<re.Match object; span=(0, 4), match='dumb'>"
      ]
     },
     "execution_count": 24,
     "metadata": {},
     "output_type": "execute_result"
    }
   ],
   "source": [
    "p = re.compile('dum[abc]') # dum으로 시작하고 네번째글자가 abc중 하나와 일치\n",
    "p.match('dumb')"
   ]
  },
  {
   "cell_type": "markdown",
   "id": "4e8b9c38",
   "metadata": {},
   "source": [
    "## 문자클래스와 일반 문자 조합"
   ]
  },
  {
   "cell_type": "code",
   "execution_count": 30,
   "id": "6d12b325",
   "metadata": {},
   "outputs": [
    {
     "data": {
      "text/plain": [
       "<re.Match object; span=(0, 2), match='Sa'>"
      ]
     },
     "execution_count": 30,
     "metadata": {},
     "output_type": "execute_result"
    }
   ],
   "source": [
    "p = re.compile('S[abc]')\n",
    "p.match('Sang')"
   ]
  },
  {
   "cell_type": "code",
   "execution_count": 32,
   "id": "eab43f13",
   "metadata": {},
   "outputs": [
    {
     "name": "stdout",
     "output_type": "stream",
     "text": [
      "None\n"
     ]
    }
   ],
   "source": [
    "p = re.compile('s[abc]')\n",
    "print(p.match('Sang')) # 정규식은 대소문자를 구별한다"
   ]
  },
  {
   "cell_type": "markdown",
   "id": "3f023413",
   "metadata": {},
   "source": [
    "## 하이픈"
   ]
  },
  {
   "cell_type": "raw",
   "id": "6f6606e6",
   "metadata": {},
   "source": [
    "[ ] 안의 두 문자 사이에 하이픈(-)을 사용하면 두 문자 사이의 범위(From - To)를 의미\n",
    "예를 들어 [a-c]라는 정규 표현식은 [abc]와 동일하고 [0-5]는 [012345]와 동일"
   ]
  },
  {
   "cell_type": "code",
   "execution_count": 33,
   "id": "3d09b209",
   "metadata": {},
   "outputs": [
    {
     "data": {
      "text/plain": [
       "<re.Match object; span=(0, 1), match='a'>"
      ]
     },
     "execution_count": 33,
     "metadata": {},
     "output_type": "execute_result"
    }
   ],
   "source": [
    "p = re.compile('[a-c]')\n",
    "p.match('apple')"
   ]
  },
  {
   "cell_type": "code",
   "execution_count": 34,
   "id": "bf0ef304",
   "metadata": {},
   "outputs": [],
   "source": [
    "p.match('Nana')"
   ]
  },
  {
   "cell_type": "code",
   "execution_count": 35,
   "id": "8378b81d",
   "metadata": {},
   "outputs": [],
   "source": [
    "p = re.compile('[a-z]')\n",
    "p.match('Nana')"
   ]
  },
  {
   "cell_type": "code",
   "execution_count": 36,
   "id": "6d27d929",
   "metadata": {},
   "outputs": [
    {
     "data": {
      "text/plain": [
       "<re.Match object; span=(0, 1), match='n'>"
      ]
     },
     "execution_count": 36,
     "metadata": {},
     "output_type": "execute_result"
    }
   ],
   "source": [
    "p.match('nana')"
   ]
  },
  {
   "cell_type": "code",
   "execution_count": 39,
   "id": "ddc0951e",
   "metadata": {},
   "outputs": [
    {
     "name": "stdout",
     "output_type": "stream",
     "text": [
      "<re.Match object; span=(0, 1), match='N'>\n",
      "<re.Match object; span=(0, 1), match='n'>\n"
     ]
    }
   ],
   "source": [
    "p = re.compile('[a-zA-Z]') # 모든 알파벳을 표현\n",
    "print(p.match('Nana'))\n",
    "print(p.match('nana'))"
   ]
  },
  {
   "cell_type": "code",
   "execution_count": 42,
   "id": "6efaf5d6",
   "metadata": {},
   "outputs": [
    {
     "data": {
      "text/plain": [
       "<re.Match object; span=(0, 1), match='1'>"
      ]
     },
     "execution_count": 42,
     "metadata": {},
     "output_type": "execute_result"
    }
   ],
   "source": [
    "p = re.compile('[1-9]')\n",
    "p.match('1st')"
   ]
  },
  {
   "cell_type": "code",
   "execution_count": 43,
   "id": "8fcd449b",
   "metadata": {},
   "outputs": [],
   "source": [
    "p.match('first')"
   ]
  },
  {
   "cell_type": "code",
   "execution_count": 44,
   "id": "80c7aa74",
   "metadata": {},
   "outputs": [
    {
     "data": {
      "text/plain": [
       "<re.Match object; span=(0, 1), match='2'>"
      ]
     },
     "execution_count": 44,
     "metadata": {},
     "output_type": "execute_result"
    }
   ],
   "source": [
    "p.match('2nd')"
   ]
  },
  {
   "cell_type": "code",
   "execution_count": 46,
   "id": "8d0fc7dd",
   "metadata": {},
   "outputs": [
    {
     "data": {
      "text/plain": [
       "<re.Match object; span=(0, 2), match='1s'>"
      ]
     },
     "execution_count": 46,
     "metadata": {},
     "output_type": "execute_result"
    }
   ],
   "source": [
    "# 첫번째문자는 숫자(첫번째 문자클래스)이고 \n",
    "# 두번째문자는 소문자알파벳(두번째 문자클래스)과 매칭\n",
    "p = re.compile('[1-9][a-z]')\n",
    "p.match('1st')"
   ]
  },
  {
   "cell_type": "markdown",
   "id": "6f87bb55",
   "metadata": {},
   "source": [
    "## ^(not) 연산"
   ]
  },
  {
   "cell_type": "markdown",
   "id": "ad3176df",
   "metadata": {},
   "source": [
    "* 문자 클래스 안에 ^ 메타 문자를 사용할 경우에는 반대(not)의 의미\n",
    "* Not의 의미는 문자 클래스 안에서 적용하는 문법"
   ]
  },
  {
   "cell_type": "code",
   "execution_count": 47,
   "id": "c0a5e3bd",
   "metadata": {},
   "outputs": [],
   "source": [
    "p = re.compile('[0-9]')\n",
    "p.match('Good Bye 2022!')"
   ]
  },
  {
   "cell_type": "code",
   "execution_count": 49,
   "id": "c8681b5a",
   "metadata": {},
   "outputs": [
    {
     "data": {
      "text/plain": [
       "<re.Match object; span=(0, 1), match='G'>"
      ]
     },
     "execution_count": 49,
     "metadata": {},
     "output_type": "execute_result"
    }
   ],
   "source": [
    "p = re.compile('[^0-9]')\n",
    "p.match('Good Bye 2022!')"
   ]
  },
  {
   "cell_type": "code",
   "execution_count": 50,
   "id": "25286a38",
   "metadata": {},
   "outputs": [
    {
     "data": {
      "text/plain": [
       "<re.Match object; span=(0, 4), match='Good'>"
      ]
     },
     "execution_count": 50,
     "metadata": {},
     "output_type": "execute_result"
    }
   ],
   "source": [
    "p = re.compile('[^0-9][^0-9][^0-9][^0-9]')\n",
    "p.match('Good Bye 2022!')"
   ]
  },
  {
   "cell_type": "markdown",
   "id": "529b1855",
   "metadata": {},
   "source": [
    "## 자주 사용하는 문자 클래스 표현식"
   ]
  },
  {
   "cell_type": "markdown",
   "id": "40fcc6e0",
   "metadata": {},
   "source": [
    "* \\d - 숫자와 매치, [0-9]와 동일한 표현식이다.\n",
    "* \\D - 숫자가 아닌 것과 매치, [^0-9]와 동일한 표현식이다.\n",
    "* \\s - whitespace 문자와 매치, [ \\t\\n\\r\\f\\v]와 동일한 표현식이다. 맨 앞의 빈 칸은 공백문자(space)를 의미한다.\n",
    "* \\S - whitespace 문자가 아닌 것과 매치, [^ \\t\\n\\r\\f\\v]와 동일한 표현식이다.\n",
    "* \\w - 문자+숫자(alphanumeric)와 매치, [a-zA-Z0-9_]와 동일한 표현식이다.\n",
    "* \\W - 문자+숫자(alphanumeric)가 아닌 문자와 매치, [^a-zA-Z0-9_]와 동일한 표현식이다."
   ]
  },
  {
   "cell_type": "code",
   "execution_count": 51,
   "id": "80894f34",
   "metadata": {},
   "outputs": [
    {
     "name": "stdout",
     "output_type": "stream",
     "text": [
      "<re.Match object; span=(0, 1), match='1'>\n",
      "<re.Match object; span=(0, 1), match='5'>\n",
      "None\n"
     ]
    }
   ],
   "source": [
    "p = re.compile('[\\d]')\n",
    "m = p.match('1')\n",
    "print(m)\n",
    "m = p.match('5')\n",
    "print(m)\n",
    "m = p.match('a')\n",
    "print(m)"
   ]
  },
  {
   "cell_type": "code",
   "execution_count": 52,
   "id": "3aed8270",
   "metadata": {},
   "outputs": [
    {
     "name": "stdout",
     "output_type": "stream",
     "text": [
      "None\n",
      "None\n",
      "<re.Match object; span=(0, 1), match='a'>\n"
     ]
    }
   ],
   "source": [
    "p = re.compile('[\\D]')\n",
    "m = p.match('1')\n",
    "print(m)\n",
    "m = p.match('5')\n",
    "print(m)\n",
    "m = p.match('a')\n",
    "print(m)"
   ]
  },
  {
   "cell_type": "code",
   "execution_count": 53,
   "id": "80dcb7af",
   "metadata": {},
   "outputs": [
    {
     "name": "stdout",
     "output_type": "stream",
     "text": [
      "None\n",
      "<re.Match object; span=(0, 1), match=' '>\n",
      "<re.Match object; span=(0, 1), match='\\t'>\n",
      "<re.Match object; span=(0, 1), match='\\n'>\n"
     ]
    }
   ],
   "source": [
    "p = re.compile('[\\s]')\n",
    "m = p.match('1')\n",
    "print(m)\n",
    "m = p.match(' 1')\n",
    "print(m)\n",
    "m = p.match('\\t 1')\n",
    "print(m)\n",
    "m = p.match('''\n",
    "1''')\n",
    "print(m)"
   ]
  },
  {
   "cell_type": "code",
   "execution_count": 54,
   "id": "46ab34f5",
   "metadata": {},
   "outputs": [
    {
     "name": "stdout",
     "output_type": "stream",
     "text": [
      "<re.Match object; span=(0, 1), match='1'>\n",
      "None\n",
      "None\n",
      "None\n"
     ]
    }
   ],
   "source": [
    "p = re.compile('[\\S]')\n",
    "m = p.match('1')\n",
    "print(m)\n",
    "m = p.match(' 1')\n",
    "print(m)\n",
    "m = p.match('\\t 1')\n",
    "print(m)\n",
    "m = p.match('''\n",
    "1''')\n",
    "print(m)"
   ]
  },
  {
   "cell_type": "code",
   "execution_count": 55,
   "id": "ba8016b3",
   "metadata": {},
   "outputs": [
    {
     "name": "stdout",
     "output_type": "stream",
     "text": [
      "<re.Match object; span=(0, 1), match='1'>\n",
      "<re.Match object; span=(0, 1), match='a'>\n",
      "<re.Match object; span=(0, 1), match='K'>\n",
      "None\n",
      "None\n",
      "None\n"
     ]
    }
   ],
   "source": [
    "p = re.compile('[\\w]')\n",
    "m = p.match('1')\n",
    "print(m)\n",
    "m = p.match('a')\n",
    "print(m)\n",
    "m = p.match('K')\n",
    "print(m)\n",
    "m = p.match('-')\n",
    "print(m)\n",
    "m = p.match('$')\n",
    "print(m)\n",
    "m = p.match(' ')\n",
    "print(m)"
   ]
  },
  {
   "cell_type": "code",
   "execution_count": 56,
   "id": "55ddf386",
   "metadata": {},
   "outputs": [
    {
     "name": "stdout",
     "output_type": "stream",
     "text": [
      "None\n",
      "None\n",
      "None\n",
      "<re.Match object; span=(0, 1), match='-'>\n",
      "<re.Match object; span=(0, 1), match='$'>\n",
      "<re.Match object; span=(0, 1), match=' '>\n"
     ]
    }
   ],
   "source": [
    "p = re.compile('[\\W]')\n",
    "m = p.match('1')\n",
    "print(m)\n",
    "m = p.match('a')\n",
    "print(m)\n",
    "m = p.match('K')\n",
    "print(m)\n",
    "m = p.match('-')\n",
    "print(m)\n",
    "m = p.match('$')\n",
    "print(m)\n",
    "m = p.match(' ')\n",
    "print(m)"
   ]
  }
 ],
 "metadata": {
  "kernelspec": {
   "display_name": "Python 3 (ipykernel)",
   "language": "python",
   "name": "python3"
  },
  "language_info": {
   "codemirror_mode": {
    "name": "ipython",
    "version": 3
   },
   "file_extension": ".py",
   "mimetype": "text/x-python",
   "name": "python",
   "nbconvert_exporter": "python",
   "pygments_lexer": "ipython3",
   "version": "3.9.13"
  }
 },
 "nbformat": 4,
 "nbformat_minor": 5
}
