{
 "cells": [
  {
   "cell_type": "code",
   "execution_count": 4,
   "id": "5307f0f3",
   "metadata": {},
   "outputs": [],
   "source": [
    "import urllib.request\n",
    "from bs4 import BeautifulSoup\n",
    "import re"
   ]
  },
  {
   "cell_type": "code",
   "execution_count": 12,
   "id": "0b06017f",
   "metadata": {},
   "outputs": [],
   "source": [
    "html = urllib.request.urlopen('http://movie.naver.com/movie/sdb/rank/rmovie.nhn')\n",
    "soup=BeautifulSoup(html, 'html.parser')\n",
    "\n",
    "tags=soup.find_all('td')\n",
    "\n",
    "title=re.compile('title=.*[\"][>](.*)</a>')\n",
    "t=title.findall(str(tags))\n",
    "\n",
    "range_ac=re.compile('range ac[\"][>]([\\d]{1,2})</td>')\n",
    "r=range_ac.findall(str(tags))\n",
    "\n",
    "up_down=re.compile('img alt[=][\"]([a-z]{2,4})[\"]')\n",
    "u=up_down.findall(str(tags))"
   ]
  },
  {
   "cell_type": "code",
   "execution_count": 13,
   "id": "2318fbb1",
   "metadata": {},
   "outputs": [
    {
     "name": "stdout",
     "output_type": "stream",
     "text": [
      "end\n"
     ]
    }
   ],
   "source": [
    "note_pad = open('Naver_Ranking_re_v3.csv', 'w', encoding='cp949')\n",
    "note_pad.write(\"순위,영화명,t변동폭\\n\")\n",
    "for num in range(0,len(t)):\n",
    "    if u[num]=='na':\n",
    "        u[num]=' '\n",
    "        note_pad.write(\" %s,%s,%s%s\\n\"%(num+1,t[num],u[num],r[num]))\n",
    "    elif u[num]=='up':\n",
    "        u[num]='+'\n",
    "        note_pad.write(\" %s,%s,%s%s\\n\"%(num+1,t[num],u[num],r[num]))\n",
    "    elif u[num]=='down':\n",
    "        u[num]='-'\n",
    "        note_pad.write(\" %s,%s,%s%s\\n\"%(num+1,t[num],u[num],r[num]))\n",
    "\n",
    "print(\"end\")"
   ]
  },
  {
   "cell_type": "code",
   "execution_count": null,
   "id": "43169c42",
   "metadata": {},
   "outputs": [],
   "source": []
  }
 ],
 "metadata": {
  "kernelspec": {
   "display_name": "Python 3 (ipykernel)",
   "language": "python",
   "name": "python3"
  },
  "language_info": {
   "codemirror_mode": {
    "name": "ipython",
    "version": 3
   },
   "file_extension": ".py",
   "mimetype": "text/x-python",
   "name": "python",
   "nbconvert_exporter": "python",
   "pygments_lexer": "ipython3",
   "version": "3.9.13"
  }
 },
 "nbformat": 4,
 "nbformat_minor": 5
}
