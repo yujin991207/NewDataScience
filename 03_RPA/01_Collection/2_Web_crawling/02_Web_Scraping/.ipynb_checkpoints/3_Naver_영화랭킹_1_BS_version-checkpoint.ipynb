{
 "cells": [
  {
   "cell_type": "code",
   "execution_count": 1,
   "id": "17f78a2e",
   "metadata": {},
   "outputs": [],
   "source": [
    "from bs4 import BeautifulSoup\n",
    "import urllib.request"
   ]
  },
  {
   "cell_type": "code",
   "execution_count": 2,
   "id": "9d08483f",
   "metadata": {},
   "outputs": [],
   "source": [
    "html = urllib.request.urlopen('https://movie.naver.com/movie/sdb/rank/rmovie.nhn')\n",
    "soup = BeautifulSoup(html, 'html.parser')\n",
    "\n",
    "ranks = soup.findAll('img', attrs={'width':'14'})\n",
    "tags = soup.findAll('div', attrs={'class':'tit3'})\n",
    "up_downs =  soup.findAll('img', attrs={'class':'arrow'}) \n",
    "ranges = soup.findAll('td', attrs={'class':'range ac'})"
   ]
  },
  {
   "cell_type": "code",
   "execution_count": 3,
   "id": "239d548d",
   "metadata": {},
   "outputs": [
    {
     "name": "stdout",
     "output_type": "stream",
     "text": [
      "1, 아바타: 물의 길, 0, na\n",
      "2, 영웅, 0, na\n",
      "3, 올빼미, 0, na\n",
      "4, 젠틀맨, 0, na\n",
      "5, 오늘 밤, 세계에서 이 사랑이 사라진다 해도, 0, na\n",
      "6, 나이브스 아웃: 글래스 어니언, 1, up\n",
      "7, 압꾸정, 1, up\n",
      "8, 탄생, 2, down\n",
      "9, 더 퍼스트 슬램덩크, 0, na\n",
      "10, 스위치, 0, na\n",
      "11, 크리스마스 캐럴, 0, na\n",
      "12, 아바타 리마스터링, 1, up\n",
      "13, 팬픽에서 연애까지, 1, down\n",
      "14, 장화신은 고양이: 끝내주는 모험, 1, up\n",
      "15, 강남좀비, 5, up\n",
      "16, 눈의 여왕5: 스노우 프린세스와 미러랜드의 비밀, 2, down\n",
      "17, 3000년의 기다림, 6, up\n",
      "19, 원피스 필름 레드, 1, down\n",
      "20, 가가린, 2, down\n",
      "21, 본즈 앤 올, 7, up\n",
      "24, 데시벨, 3, down\n",
      "26, 유포자들, 0, na\n",
      "28, 교섭, 3, up\n",
      "29, 신비아파트 극장판 차원도깨비와 7개의 세계, 0, na\n",
      "31, 요정, 3, down\n",
      "33, 유령, 1, up\n",
      "34, 탑건: 매버릭, 2, down\n",
      "35, 헤어질 결심, 3, up\n",
      "38, 크레이지 컴페티션, 7, up\n",
      "39, 에브리씽 에브리웨어 올 앳 원스, 1, up\n",
      "41, 더 메뉴, 12, down\n",
      "42, 아바타, 2, down\n",
      "45, 메모리아, 6, up\n",
      "46, 극장판 뽀로로와 친구들: 바이러스를 없애줘!, 1, down\n"
     ]
    }
   ],
   "source": [
    "f = open('movie_rank_test_bs1.csv', 'w', encoding='cp949')\n",
    "# f = open('movie_rank_test.csv', 'w', encoding='cp949')\n",
    "f.write('rank, title, 등락폭, updown\\n')\n",
    "i = 0\n",
    "while i < len(ranks)-1:\n",
    "    print('{0}, {1}, {2}, {3}'.format(int(ranks[i]['alt']), tags[i].a['title'], ranges[i].string, up_downs[i]['alt']))\n",
    "    f.write('{0}, {1}, {2}, {3}\\n'.format(int(ranks[i]['alt']), tags[i].a['title'], ranges[i].string, up_downs[i]['alt']))\n",
    "    i += 1\n",
    "f.close()"
   ]
  },
  {
   "cell_type": "code",
   "execution_count": 6,
   "id": "7c2b702f",
   "metadata": {},
   "outputs": [
    {
     "name": "stdout",
     "output_type": "stream",
     "text": [
      "1, 아바타: 물의 길, 0, na\n",
      "2, 영웅, 0, na\n",
      "3, 올빼미, 0, na\n",
      "4, 젠틀맨, 0, na\n",
      "5, 오늘 밤 세계에서 이 사랑이 사라진다 해도, 0, na\n",
      "6, 나이브스 아웃: 글래스 어니언, 1, up\n",
      "7, 압꾸정, 1, up\n",
      "8, 탄생, 2, down\n",
      "9, 더 퍼스트 슬램덩크, 0, na\n",
      "10, 스위치, 0, na\n",
      "11, 크리스마스 캐럴, 0, na\n",
      "12, 아바타 리마스터링, 1, up\n",
      "13, 팬픽에서 연애까지, 1, down\n",
      "14, 장화신은 고양이: 끝내주는 모험, 1, up\n",
      "15, 강남좀비, 5, up\n",
      "16, 눈의 여왕5: 스노우 프린세스와 미러랜드의 비밀, 2, down\n",
      "17, 3000년의 기다림, 6, up\n",
      "19, 원피스 필름 레드, 1, down\n",
      "20, 가가린, 2, down\n",
      "21, 본즈 앤 올, 7, up\n",
      "24, 데시벨, 3, down\n",
      "26, 유포자들, 0, na\n",
      "28, 교섭, 3, up\n",
      "29, 신비아파트 극장판 차원도깨비와 7개의 세계, 0, na\n",
      "31, 요정, 3, down\n",
      "33, 유령, 1, up\n",
      "34, 탑건: 매버릭, 2, down\n",
      "35, 헤어질 결심, 3, up\n",
      "38, 크레이지 컴페티션, 7, up\n",
      "39, 에브리씽 에브리웨어 올 앳 원스, 1, up\n",
      "41, 더 메뉴, 12, down\n",
      "42, 아바타, 2, down\n",
      "45, 메모리아, 6, up\n",
      "46, 극장판 뽀로로와 친구들: 바이러스를 없애줘!, 1, down\n"
     ]
    }
   ],
   "source": [
    "f = open('movie_rank_test_bs2.csv', 'w', encoding='cp949')\n",
    "f.write('rank, title, 등락폭, updown\\n')\n",
    "i = 0\n",
    "while i < len(ranks)-1:\n",
    "    print('{0}, {1}, {2}, {3}'.format(int(ranks[i]['alt']), tags[i].a['title'].replace(',',''), ranges[i].string, up_downs[i]['alt']))\n",
    "    f.write('{0}, {1}, {2}, {3}\\n'.format(int(ranks[i]['alt']), tags[i].a['title'].replace(',',''), ranges[i].string, up_downs[i]['alt']))\n",
    "    i += 1\n",
    "f.close()"
   ]
  }
 ],
 "metadata": {
  "kernelspec": {
   "display_name": "Python 3 (ipykernel)",
   "language": "python",
   "name": "python3"
  },
  "language_info": {
   "codemirror_mode": {
    "name": "ipython",
    "version": 3
   },
   "file_extension": ".py",
   "mimetype": "text/x-python",
   "name": "python",
   "nbconvert_exporter": "python",
   "pygments_lexer": "ipython3",
   "version": "3.9.13"
  }
 },
 "nbformat": 4,
 "nbformat_minor": 5
}
