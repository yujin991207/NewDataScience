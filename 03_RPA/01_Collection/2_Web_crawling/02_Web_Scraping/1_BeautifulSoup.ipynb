{
 "cells": [
  {
   "cell_type": "code",
   "execution_count": 11,
   "id": "556a3e68",
   "metadata": {},
   "outputs": [],
   "source": [
    "# BeautifulSoup : HTML 태그를 파싱하는 파서 제공\n",
    "from bs4 import BeautifulSoup"
   ]
  },
  {
   "cell_type": "code",
   "execution_count": 12,
   "id": "313ed42f",
   "metadata": {},
   "outputs": [],
   "source": [
    "html='''\n",
    "<td class=\"title\">\n",
    "    <div class=\"tit3\">\n",
    "        <a href=\"/movie/bi/mi/basic.naver?code=74977\" title=\"아바타: 물의 길\">아바타: 물의 길</a>\n",
    "    </div>\n",
    "</td>\n",
    "'''"
   ]
  },
  {
   "cell_type": "code",
   "execution_count": 13,
   "id": "8d24e75f",
   "metadata": {},
   "outputs": [],
   "source": [
    "soup=BeautifulSoup(html,'html.parser')"
   ]
  },
  {
   "cell_type": "code",
   "execution_count": 14,
   "id": "1b29209f",
   "metadata": {},
   "outputs": [
    {
     "data": {
      "text/plain": [
       "\n",
       "<td class=\"title\">\n",
       "<div class=\"tit3\">\n",
       "<a href=\"/movie/bi/mi/basic.naver?code=74977\" title=\"아바타: 물의 길\">아바타: 물의 길</a>\n",
       "</div>\n",
       "</td>"
      ]
     },
     "execution_count": 14,
     "metadata": {},
     "output_type": "execute_result"
    }
   ],
   "source": [
    "soup"
   ]
  },
  {
   "cell_type": "code",
   "execution_count": 15,
   "id": "5b46fe47",
   "metadata": {},
   "outputs": [
    {
     "data": {
      "text/plain": [
       "bs4.BeautifulSoup"
      ]
     },
     "execution_count": 15,
     "metadata": {},
     "output_type": "execute_result"
    }
   ],
   "source": [
    "type(soup)"
   ]
  },
  {
   "cell_type": "code",
   "execution_count": 16,
   "id": "282518ce",
   "metadata": {
    "scrolled": false
   },
   "outputs": [
    {
     "data": {
      "text/plain": [
       "'<td class=\"title\">\\n <div class=\"tit3\">\\n  <a href=\"/movie/bi/mi/basic.naver?code=74977\" title=\"아바타: 물의 길\">\\n   아바타: 물의 길\\n  </a>\\n </div>\\n</td>\\n'"
      ]
     },
     "execution_count": 16,
     "metadata": {},
     "output_type": "execute_result"
    }
   ],
   "source": [
    "# 원본 HTML의 indentation으로 복원하는 함수 (print로 봐야함)\n",
    "soup.prettify()"
   ]
  },
  {
   "cell_type": "code",
   "execution_count": 17,
   "id": "a9ec9bc5",
   "metadata": {},
   "outputs": [
    {
     "name": "stdout",
     "output_type": "stream",
     "text": [
      "<td class=\"title\">\n",
      " <div class=\"tit3\">\n",
      "  <a href=\"/movie/bi/mi/basic.naver?code=74977\" title=\"아바타: 물의 길\">\n",
      "   아바타: 물의 길\n",
      "  </a>\n",
      " </div>\n",
      "</td>\n",
      "\n"
     ]
    }
   ],
   "source": [
    "print(soup.prettify())"
   ]
  },
  {
   "cell_type": "code",
   "execution_count": 22,
   "id": "64e6eb4f",
   "metadata": {},
   "outputs": [
    {
     "data": {
      "text/plain": [
       "\n",
       "<td class=\"title\">\n",
       "<div class=\"tit3\">\n",
       "<a href=\"/movie/bi/mi/basic.naver?code=74977\" title=\"아바타: 물의 길\">아바타: 물의 길</a>\n",
       "</div>\n",
       "</td>"
      ]
     },
     "execution_count": 22,
     "metadata": {},
     "output_type": "execute_result"
    }
   ],
   "source": [
    "soup"
   ]
  },
  {
   "cell_type": "code",
   "execution_count": 25,
   "id": "63959e34",
   "metadata": {
    "scrolled": true
   },
   "outputs": [
    {
     "data": {
      "text/plain": [
       "<td class=\"title\">\n",
       "<div class=\"tit3\">\n",
       "<a href=\"/movie/bi/mi/basic.naver?code=74977\" title=\"아바타: 물의 길\">아바타: 물의 길</a>\n",
       "</div>\n",
       "</td>"
      ]
     },
     "execution_count": 25,
     "metadata": {},
     "output_type": "execute_result"
    }
   ],
   "source": [
    "# HTML의 자식노드(tag)는 부모노드(tag)에서 . 으로 접근가능\n",
    "# 최상위에서 동일한 노드가 존재할 때에는 제일 앞에 있는 노드를 반환\n",
    "soup.td"
   ]
  },
  {
   "cell_type": "code",
   "execution_count": 26,
   "id": "6cb76fa4",
   "metadata": {
    "scrolled": true
   },
   "outputs": [
    {
     "data": {
      "text/plain": [
       "'td'"
      ]
     },
     "execution_count": 26,
     "metadata": {},
     "output_type": "execute_result"
    }
   ],
   "source": [
    "# Tag 이름 조회는 name으로\n",
    "soup.td.name"
   ]
  },
  {
   "cell_type": "code",
   "execution_count": 32,
   "id": "7a07e57d",
   "metadata": {},
   "outputs": [
    {
     "data": {
      "text/plain": [
       "{'class': ['title']}"
      ]
     },
     "execution_count": 32,
     "metadata": {},
     "output_type": "execute_result"
    }
   ],
   "source": [
    "# 현재 노드 (tag)의 속성은 attrs로 조회 ({속성명 : 값} <= dict 형태로 반환)\n",
    "soup.td.attrs"
   ]
  },
  {
   "cell_type": "code",
   "execution_count": 33,
   "id": "bbff9fb5",
   "metadata": {},
   "outputs": [
    {
     "data": {
      "text/plain": [
       "['title']"
      ]
     },
     "execution_count": 33,
     "metadata": {},
     "output_type": "execute_result"
    }
   ],
   "source": [
    "# 속성값이 dictionary 타입이므로 키값으로 접근한다\n",
    "soup.td.attrs['class']"
   ]
  },
  {
   "cell_type": "code",
   "execution_count": 31,
   "id": "8bd04fd9",
   "metadata": {
    "scrolled": true
   },
   "outputs": [
    {
     "data": {
      "text/plain": [
       "'title'"
      ]
     },
     "execution_count": 31,
     "metadata": {},
     "output_type": "execute_result"
    }
   ],
   "source": [
    "soup.td.attrs['class'][0]"
   ]
  },
  {
   "cell_type": "code",
   "execution_count": 39,
   "id": "f54590ad",
   "metadata": {},
   "outputs": [
    {
     "data": {
      "text/plain": [
       "<td class=\"title\">\n",
       "<div class=\"tit3\">\n",
       "<a href=\"/movie/bi/mi/basic.naver?code=74977\" title=\"아바타: 물의 길\">아바타: 물의 길</a>\n",
       "</div>\n",
       "</td>"
      ]
     },
     "execution_count": 39,
     "metadata": {},
     "output_type": "execute_result"
    }
   ],
   "source": [
    "tag = soup.td\n",
    "tag"
   ]
  },
  {
   "cell_type": "code",
   "execution_count": 40,
   "id": "12c33fd0",
   "metadata": {},
   "outputs": [
    {
     "data": {
      "text/plain": [
       "'td'"
      ]
     },
     "execution_count": 40,
     "metadata": {},
     "output_type": "execute_result"
    }
   ],
   "source": [
    "tag.name"
   ]
  },
  {
   "cell_type": "code",
   "execution_count": 36,
   "id": "4f28e441",
   "metadata": {
    "scrolled": true
   },
   "outputs": [
    {
     "data": {
      "text/plain": [
       "'title'"
      ]
     },
     "execution_count": 36,
     "metadata": {},
     "output_type": "execute_result"
    }
   ],
   "source": [
    "tag.attrs['class'][0]"
   ]
  },
  {
   "cell_type": "code",
   "execution_count": 42,
   "id": "0e145ac8",
   "metadata": {},
   "outputs": [
    {
     "data": {
      "text/plain": [
       "<div class=\"tit3\">\n",
       "<a href=\"/movie/bi/mi/basic.naver?code=74977\" title=\"아바타: 물의 길\">아바타: 물의 길</a>\n",
       "</div>"
      ]
     },
     "execution_count": 42,
     "metadata": {},
     "output_type": "execute_result"
    }
   ],
   "source": [
    "soup.td.div"
   ]
  },
  {
   "cell_type": "code",
   "execution_count": 44,
   "id": "c474f373",
   "metadata": {},
   "outputs": [
    {
     "data": {
      "text/plain": [
       "<a href=\"/movie/bi/mi/basic.naver?code=74977\" title=\"아바타: 물의 길\">아바타: 물의 길</a>"
      ]
     },
     "execution_count": 44,
     "metadata": {},
     "output_type": "execute_result"
    }
   ],
   "source": [
    "soup.td.div.a"
   ]
  },
  {
   "cell_type": "code",
   "execution_count": 43,
   "id": "147f1d98",
   "metadata": {},
   "outputs": [
    {
     "data": {
      "text/plain": [
       "{'href': '/movie/bi/mi/basic.naver?code=74977', 'title': '아바타: 물의 길'}"
      ]
     },
     "execution_count": 43,
     "metadata": {},
     "output_type": "execute_result"
    }
   ],
   "source": [
    "soup.td.div.a.attrs"
   ]
  },
  {
   "cell_type": "code",
   "execution_count": 46,
   "id": "7a032459",
   "metadata": {},
   "outputs": [
    {
     "data": {
      "text/plain": [
       "'/movie/bi/mi/basic.naver?code=74977'"
      ]
     },
     "execution_count": 46,
     "metadata": {},
     "output_type": "execute_result"
    }
   ],
   "source": [
    "soup.td.div.a.attrs['href']"
   ]
  },
  {
   "cell_type": "code",
   "execution_count": 47,
   "id": "60d16bcd",
   "metadata": {},
   "outputs": [
    {
     "data": {
      "text/plain": [
       "'아바타: 물의 길'"
      ]
     },
     "execution_count": 47,
     "metadata": {},
     "output_type": "execute_result"
    }
   ],
   "source": [
    "soup.td.div.a.attrs['title']"
   ]
  },
  {
   "cell_type": "code",
   "execution_count": 51,
   "id": "3eba7e3d",
   "metadata": {},
   "outputs": [
    {
     "data": {
      "text/plain": [
       "'아바타: 물의 길'"
      ]
     },
     "execution_count": 51,
     "metadata": {},
     "output_type": "execute_result"
    }
   ],
   "source": [
    "#  값을 접근하는 방법이 두가지가 있다.\n",
    "# (1) : tag 사이에 있는 값을 반환\n",
    "soup_s = soup.td.div.a.string\n",
    "soup_s"
   ]
  },
  {
   "cell_type": "code",
   "execution_count": 53,
   "id": "ccf9fd89",
   "metadata": {},
   "outputs": [
    {
     "data": {
      "text/plain": [
       "'아바타: 물의 길'"
      ]
     },
     "execution_count": 53,
     "metadata": {},
     "output_type": "execute_result"
    }
   ],
   "source": [
    "# (2) : tag 사이에 있는 값을 반환 (string의 효과와 동일)\n",
    "soup_text = soup.td.div.a.text\n",
    "soup_text"
   ]
  },
  {
   "cell_type": "code",
   "execution_count": 55,
   "id": "5e9cdc53",
   "metadata": {},
   "outputs": [],
   "source": [
    "html='''\n",
    "<td class=\"title\">\n",
    "    <div class=\"tit3\">\n",
    "        <a href=\"/movie/bi/mi/basic.naver?code=74977\" title=\"아바타: 물의 길\">아바타: 물의 길</a>\n",
    "    </div>\n",
    "</td>\n",
    "<td class=\"title\">\n",
    "    <div class=\"tit3\">\n",
    "        <a href=\"/movie/bi/mi/basic.naver?code=184509\" title=\"영웅\">영웅</a>\n",
    "    </div>\n",
    "</td>\n",
    "                \n",
    "'''"
   ]
  },
  {
   "cell_type": "code",
   "execution_count": 56,
   "id": "fc3666ce",
   "metadata": {},
   "outputs": [],
   "source": [
    "soup=BeautifulSoup(html,'html.parser')"
   ]
  },
  {
   "cell_type": "code",
   "execution_count": 57,
   "id": "40e73165",
   "metadata": {},
   "outputs": [
    {
     "data": {
      "text/plain": [
       "\n",
       "<td class=\"title\">\n",
       "<div class=\"tit3\">\n",
       "<a href=\"/movie/bi/mi/basic.naver?code=74977\" title=\"아바타: 물의 길\">아바타: 물의 길</a>\n",
       "</div>\n",
       "</td>\n",
       "<td class=\"title\">\n",
       "<div class=\"tit3\">\n",
       "<a href=\"/movie/bi/mi/basic.naver?code=184509\" title=\"영웅\">영웅</a>\n",
       "</div>\n",
       "</td>"
      ]
     },
     "execution_count": 57,
     "metadata": {},
     "output_type": "execute_result"
    }
   ],
   "source": [
    "soup"
   ]
  },
  {
   "cell_type": "code",
   "execution_count": 58,
   "id": "913fee94",
   "metadata": {
    "scrolled": true
   },
   "outputs": [
    {
     "data": {
      "text/plain": [
       "<td class=\"title\">\n",
       "<div class=\"tit3\">\n",
       "<a href=\"/movie/bi/mi/basic.naver?code=74977\" title=\"아바타: 물의 길\">아바타: 물의 길</a>\n",
       "</div>\n",
       "</td>"
      ]
     },
     "execution_count": 58,
     "metadata": {},
     "output_type": "execute_result"
    }
   ],
   "source": [
    "soup.td"
   ]
  },
  {
   "cell_type": "code",
   "execution_count": 59,
   "id": "62933541",
   "metadata": {},
   "outputs": [
    {
     "data": {
      "text/plain": [
       "<td class=\"title\">\n",
       "<div class=\"tit3\">\n",
       "<a href=\"/movie/bi/mi/basic.naver?code=74977\" title=\"아바타: 물의 길\">아바타: 물의 길</a>\n",
       "</div>\n",
       "</td>"
      ]
     },
     "execution_count": 59,
     "metadata": {},
     "output_type": "execute_result"
    }
   ],
   "source": [
    "soup.find('td')"
   ]
  },
  {
   "cell_type": "code",
   "execution_count": 63,
   "id": "58d325eb",
   "metadata": {},
   "outputs": [
    {
     "data": {
      "text/plain": [
       "[<td class=\"title\">\n",
       " <div class=\"tit3\">\n",
       " <a href=\"/movie/bi/mi/basic.naver?code=74977\" title=\"아바타: 물의 길\">아바타: 물의 길</a>\n",
       " </div>\n",
       " </td>,\n",
       " <td class=\"title\">\n",
       " <div class=\"tit3\">\n",
       " <a href=\"/movie/bi/mi/basic.naver?code=184509\" title=\"영웅\">영웅</a>\n",
       " </div>\n",
       " </td>]"
      ]
     },
     "execution_count": 63,
     "metadata": {},
     "output_type": "execute_result"
    }
   ],
   "source": [
    "# 동일한 이름 태그의 전체 노드를 리스트로 반환\n",
    "soup.findAll('td')"
   ]
  },
  {
   "cell_type": "code",
   "execution_count": 65,
   "id": "1c2156f8",
   "metadata": {},
   "outputs": [
    {
     "data": {
      "text/plain": [
       "[<td class=\"title\">\n",
       " <div class=\"tit3\">\n",
       " <a href=\"/movie/bi/mi/basic.naver?code=74977\" title=\"아바타: 물의 길\">아바타: 물의 길</a>\n",
       " </div>\n",
       " </td>,\n",
       " <td class=\"title\">\n",
       " <div class=\"tit3\">\n",
       " <a href=\"/movie/bi/mi/basic.naver?code=184509\" title=\"영웅\">영웅</a>\n",
       " </div>\n",
       " </td>]"
      ]
     },
     "execution_count": 65,
     "metadata": {},
     "output_type": "execute_result"
    }
   ],
   "source": [
    "# 태그는 같지만 속성이 다를 수도 있음\n",
    "# => 이럴 경우에 속성을 두번째 인자에 줄 수 있다.\n",
    "soup.findAll('td',{'class':'title'})"
   ]
  }
 ],
 "metadata": {
  "kernelspec": {
   "display_name": "Python 3 (ipykernel)",
   "language": "python",
   "name": "python3"
  },
  "language_info": {
   "codemirror_mode": {
    "name": "ipython",
    "version": 3
   },
   "file_extension": ".py",
   "mimetype": "text/x-python",
   "name": "python",
   "nbconvert_exporter": "python",
   "pygments_lexer": "ipython3",
   "version": "3.10.5"
  }
 },
 "nbformat": 4,
 "nbformat_minor": 5
}
