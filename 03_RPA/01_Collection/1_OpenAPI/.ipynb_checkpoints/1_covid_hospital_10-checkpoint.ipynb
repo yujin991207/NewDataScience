{
 "cells": [
  {
   "cell_type": "code",
   "execution_count": 1,
   "id": "b8358a07",
   "metadata": {},
   "outputs": [],
   "source": [
    "import cx_Oracle\n",
    "import pandas as pd\n",
    "import requests\n",
    "from xml.etree.ElementTree import fromstring"
   ]
  },
  {
   "cell_type": "code",
   "execution_count": 2,
   "id": "2691d5e2",
   "metadata": {},
   "outputs": [],
   "source": [
    "access_key = 'xMa0cbwrTEM1UQzMljSLPYi29E5u1BLZysXwaxEgC6n44Ymoi/V86yK/giMFMiKE8zuvzHcSYFHFKOwwUy8dtw=='\n",
    "\n",
    "TOTAL_NUM = 102\n",
    "MAX_TRANSACTION = 30"
   ]
  },
  {
   "cell_type": "code",
   "execution_count": 3,
   "id": "abb60669",
   "metadata": {},
   "outputs": [],
   "source": [
    "con = cx_Oracle.connect('open_source/1111@localhost:1521/xe')\n",
    "cur = con.cursor()"
   ]
  },
  {
   "cell_type": "code",
   "execution_count": 4,
   "id": "4d69f7b1",
   "metadata": {},
   "outputs": [],
   "source": [
    "def xml_to_oracle(data_root,data_root_name):\n",
    "    for row in data_root.iter(data_root_name):\n",
    "        sql_insert = \"\"\"\n",
    "            insert into covid_hospital(기관명,구분코드,시도명,시군구명,전화번호,운영가능일자)\n",
    "            values(:기관명,:구분코드,:시도명,:시군구명,:전화번호,:운영가능일자)\n",
    "        \"\"\"\n",
    "# rename_dict = {'adtFrDd': '운영가능일자', 'sgguNm': '시군구명', 'sidoNm': '시도명', 'spclAdmTyCd': '구분코드', \n",
    "#'telno': '전화번호', 'yadmNm': '기관명'}\n",
    "\n",
    "        기관명 = row.find('yadmNm').text\n",
    "        구분코드 = row.find('spclAdmTyCd').text\n",
    "        시도명 = row.find('sidoNm').text\n",
    "        시군구명 = row.find('sgguNm').text\n",
    "        전화번호 = row.find('telno').text\n",
    "        운영가능일자 = row.find('adtFrDd').text\n",
    "        \n",
    "        cur.execute(sql_insert,(기관명,구분코드,시도명,시군구명,전화번호,운영가능일자))\n",
    "        con.commit()"
   ]
  },
  {
   "cell_type": "code",
   "execution_count": 5,
   "id": "74e96178",
   "metadata": {},
   "outputs": [],
   "source": [
    "def get_request_url(page_no):\n",
    "    url = 'http://apis.data.go.kr/B551182/pubReliefHospService/getpubReliefHospList'\n",
    "    params = {'serviceKey' : access_key, 'numOfRows' : MAX_TRANSACTION, 'pageNo' : page_no}\n",
    "    #params = {'serviceKey' : access_key}\n",
    "    response = requests.get(url, params = params)\n",
    "\n",
    "    return response.text"
   ]
  },
  {
   "cell_type": "code",
   "execution_count": 6,
   "id": "b189e271",
   "metadata": {},
   "outputs": [],
   "source": [
    "# raw_xml = get_request_url()"
   ]
  },
  {
   "cell_type": "code",
   "execution_count": 38,
   "id": "a7e3986e",
   "metadata": {},
   "outputs": [],
   "source": [
    "# root = fromstring(raw_xml)"
   ]
  },
  {
   "cell_type": "code",
   "execution_count": 39,
   "id": "3fb76b7a",
   "metadata": {},
   "outputs": [],
   "source": [
    "# data_root = root.find('body').find('items')"
   ]
  },
  {
   "cell_type": "code",
   "execution_count": 40,
   "id": "68082cbe",
   "metadata": {},
   "outputs": [],
   "source": [
    "# xml_to_oracle(data_root,'item')"
   ]
  },
  {
   "cell_type": "code",
   "execution_count": 7,
   "id": "df7d3953",
   "metadata": {},
   "outputs": [],
   "source": [
    "request_total_num = ( TOTAL_NUM // MAX_TRANSACTION ) + 1\n",
    "\n",
    "rename_dict = {'adtFrDd': '운영가능일자', 'sgguNm': '시군구명', 'sidoNm': '시도명', 'spclAdmTyCd': '구분코드', 'telno': '전화번호',\n",
    "               'yadmNm': '기관명'}\n",
    "REDEFINE_COUMNS = ['기관명', '구분코드', '시도명', '시군구명', '전화번호', '운영가능일자']"
   ]
  },
  {
   "cell_type": "code",
   "execution_count": 8,
   "id": "3773401e",
   "metadata": {},
   "outputs": [],
   "source": [
    "for page_no in range(1, request_total_num + 1):\n",
    "    raw_xml = get_request_url(page_no)\n",
    "    root = fromstring(raw_xml)\n",
    "\n",
    "    data_root = root.find('body').find('items')\n",
    "    \n",
    "    xml_to_oracle(data_root, 'item')"
   ]
  }
 ],
 "metadata": {
  "kernelspec": {
   "display_name": "Python 3 (ipykernel)",
   "language": "python",
   "name": "python3"
  },
  "language_info": {
   "codemirror_mode": {
    "name": "ipython",
    "version": 3
   },
   "file_extension": ".py",
   "mimetype": "text/x-python",
   "name": "python",
   "nbconvert_exporter": "python",
   "pygments_lexer": "ipython3",
   "version": "3.9.13"
  }
 },
 "nbformat": 4,
 "nbformat_minor": 5
}
