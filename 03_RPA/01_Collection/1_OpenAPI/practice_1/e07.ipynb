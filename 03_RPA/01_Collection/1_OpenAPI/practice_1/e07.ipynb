{
 "cells": [
  {
   "cell_type": "code",
   "execution_count": 81,
   "id": "2581ef3c",
   "metadata": {},
   "outputs": [],
   "source": [
    "import cx_Oracle\n",
    "import pandas as pd\n",
    "import requests\n",
    "#from xml.etree.ElementTree import parse\n",
    "from xml.etree.ElementTree import fromstring"
   ]
  },
  {
   "cell_type": "code",
   "execution_count": 82,
   "id": "fe4e679d",
   "metadata": {},
   "outputs": [],
   "source": [
    "access_key = 'xMa0cbwrTEM1UQzMljSLPYi29E5u1BLZysXwaxEgC6n44Ymoi/V86yK/giMFMiKE8zuvzHcSYFHFKOwwUy8dtw=='\n",
    "\n",
    "TOTAL_NUM = 650\n",
    "MAX_TRANSACTION = 30"
   ]
  },
  {
   "cell_type": "code",
   "execution_count": 83,
   "id": "254e4cdf",
   "metadata": {},
   "outputs": [],
   "source": [
    "con = cx_Oracle.connect('open_source/1111@localhost:1521/xe')\n",
    "cur = con.cursor()"
   ]
  },
  {
   "cell_type": "code",
   "execution_count": 84,
   "id": "384356bf",
   "metadata": {},
   "outputs": [],
   "source": [
    "def xml_to_oracle(data_root,data_root_name):\n",
    "    for row in data_root.iter(data_root_name):\n",
    "        sql_insert = \"\"\"\n",
    "            insert into TSUNAMI_EV_SHELTER(일련번호,시도명,시군구명,대피지구명,대피장소명,주소,수용가능인원수,대피소분류명,\n",
    "            해변으로부터거리,내진적용여부,해발높이,경도,위도)\n",
    "            values(:일련번호,:시도명,:시군구명,:대피지구명,:대피장소명,:주소,:수용가능인원수,:대피소분류명,\n",
    "            :해변으로부터거리,:내진적용여부,:해발높이,:경도,:위도)\n",
    "        \"\"\"\n",
    "#         rename_dict = {'id':'일련번호', 'sido_name':'시도명', 'sigungu_name':'시군구명', 'remarks':'대피지구명',\n",
    "#                'shel_nm':'대피장소명', 'address':'주소', 'lon':'경도', 'lat':'위도', 'shel_av':'수용가능인원수',\n",
    "#                'lenth':'해변으로부터거리', 'shel_div_type':'대피소 분류명', 'seismic':'내진적용여부', 'height':'해발높이'}\n",
    "\n",
    "        일련번호 = row.find('id').text\n",
    "        시도명 = row.find('sido_name').text\n",
    "        시군구명 = row.find('sigungu_name').text\n",
    "        대피지구명 = row.find('remarks').text\n",
    "        대피장소명 = row.find('shel_nm').text\n",
    "        주소 = row.find('address').text\n",
    "        수용가능인원수 = row.find('shel_av').text\n",
    "        대피소분류명 = row.find('shel_div_type').text\n",
    "        해변으로부터거리 = row.find('lenth').text\n",
    "        내진적용여부 = row.find('seismic').text\n",
    "        해발높이 = row.find('height').text\n",
    "        경도 = row.find('lon').text\n",
    "        위도 = row.find('lat').text\n",
    "        \n",
    "        cur.execute(sql_insert,(일련번호,시도명,시군구명,대피지구명,대피장소명,주소,수용가능인원수,\n",
    "                                대피소분류명,해변으로부터거리,내진적용여부,해발높이,경도,위도))\n",
    "        con.commit()"
   ]
  },
  {
   "cell_type": "code",
   "execution_count": 85,
   "id": "ba8adbc1",
   "metadata": {},
   "outputs": [],
   "source": [
    "def get_request_url(page_no):\n",
    "    url = 'http://apis.data.go.kr/1741000/TsunamiShelter3/getTsunamiShelter1List'\n",
    "    params = {'serviceKey' : access_key, 'numOfRows' : MAX_TRANSACTION, 'pageNo' : page_no}\n",
    "    #params = {'serviceKey' : access_key}\n",
    "    TsunamiShelter = requests.get(url, params = params)\n",
    "\n",
    "    return TsunamiShelter.text"
   ]
  },
  {
   "cell_type": "code",
   "execution_count": 86,
   "id": "fa0c1e96",
   "metadata": {},
   "outputs": [],
   "source": [
    "# raw_xml = get_request_url()"
   ]
  },
  {
   "cell_type": "code",
   "execution_count": 87,
   "id": "6b516cfc",
   "metadata": {},
   "outputs": [],
   "source": [
    "# root = fromstring(raw_xml)"
   ]
  },
  {
   "cell_type": "code",
   "execution_count": 88,
   "id": "00680df0",
   "metadata": {},
   "outputs": [],
   "source": [
    "# tree = parse('지진해일_긴급대피장소.xml')\n",
    "# data_root = tree.getroot()"
   ]
  },
  {
   "cell_type": "code",
   "execution_count": 89,
   "id": "4de77812",
   "metadata": {},
   "outputs": [],
   "source": [
    "# xml_to_oracle(data_root,'row')"
   ]
  },
  {
   "cell_type": "code",
   "execution_count": 90,
   "id": "4f37784a",
   "metadata": {},
   "outputs": [],
   "source": [
    "request_total_num = ( TOTAL_NUM // MAX_TRANSACTION ) + 1\n",
    "\n",
    "rename_dict = {'id':'일련번호', 'sido_name':'시도명', 'sigungu_name':'시군구명', 'remarks':'대피지구명',\n",
    "               'shel_nm':'대피장소명', 'address':'주소', 'lon':'경도', 'lat':'위도', 'shel_av':'수용가능인원수',\n",
    "               'lenth':'해변으로부터거리', 'shel_div_type':'대피소 분류명', 'seismic':'내진적용여부', 'height':'해발높이'}\n",
    "\n",
    "REDEFINE_COLUMNS = ['일련번호','시도명','시군구명','대피지구명','대피장소명','주소','수용가능인원수',\n",
    "                    '대피소 분류명','해변으로부터거리','내진적용여부','해발높이','경도','위도']"
   ]
  },
  {
   "cell_type": "code",
   "execution_count": 91,
   "id": "7c94a799",
   "metadata": {},
   "outputs": [],
   "source": [
    "for page_no in range(1, request_total_num + 1):\n",
    "    raw_xml = get_request_url(page_no)\n",
    "    root = fromstring(raw_xml)\n",
    "\n",
    "    #tree = parse(\"지진해일_긴급대피장소.xml\")\n",
    "    data_root = root\n",
    "    \n",
    "    xml_to_oracle(data_root,'row')"
   ]
  }
 ],
 "metadata": {
  "kernelspec": {
   "display_name": "Python 3 (ipykernel)",
   "language": "python",
   "name": "python3"
  },
  "language_info": {
   "codemirror_mode": {
    "name": "ipython",
    "version": 3
   },
   "file_extension": ".py",
   "mimetype": "text/x-python",
   "name": "python",
   "nbconvert_exporter": "python",
   "pygments_lexer": "ipython3",
   "version": "3.9.13"
  }
 },
 "nbformat": 4,
 "nbformat_minor": 5
}
