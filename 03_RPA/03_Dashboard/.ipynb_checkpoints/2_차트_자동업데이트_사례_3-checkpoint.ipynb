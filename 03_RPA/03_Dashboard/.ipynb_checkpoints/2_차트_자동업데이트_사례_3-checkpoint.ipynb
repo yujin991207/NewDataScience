{
 "cells": [
  {
   "cell_type": "code",
   "execution_count": 14,
   "id": "f8b9aab3",
   "metadata": {},
   "outputs": [],
   "source": [
    "import numpy as np\n",
    "import matplotlib.pyplot as plt\n",
    "from matplotlib import font_manager,rc\n",
    "import time\n",
    "import pandas as pd\n",
    "import cx_Oracle\n",
    "\n",
    "from IPython import display\n",
    "\n",
    "font_location = \"C:\\Windows\\Fonts\\malgun.ttf\"\n",
    "font_name = font_manager.FontProperties(fname=font_location).get_name()\n",
    "rc('font',family=font_name)\n",
    "plt.rcParams['axes.unicode_minus'] = False"
   ]
  },
  {
   "cell_type": "code",
   "execution_count": 15,
   "id": "e6ffa7e5",
   "metadata": {},
   "outputs": [],
   "source": [
    "con = cx_Oracle.connect('open_source/1111@localhost:1521/xe')\n",
    "cur = con.cursor()"
   ]
  },
  {
   "cell_type": "code",
   "execution_count": 16,
   "id": "ff32d47c",
   "metadata": {},
   "outputs": [],
   "source": [
    "def plt_update(ax):\n",
    "    cur.execute('select * from weather')\n",
    "\n",
    "    columns = ['DATE_TIME','NX', 'NY', '시간1_강수량', '강수형태', '기온',\n",
    "                         '습도', '풍향', '풍속', '동서바람성분', '남북바람성분']\n",
    "    df = pd.DataFrame(cur,columns=columns)\n",
    "    ax.plot(df['DATE_TIME'],df['풍속'], color='b')\n",
    "    \n",
    "    hdisplay.update(fig)\n"
   ]
  },
  {
   "cell_type": "code",
   "execution_count": 17,
   "id": "4b6009f4",
   "metadata": {},
   "outputs": [],
   "source": [
    "plot_list = ['시간1_강수량', '강수형태', '기온', '습도', '풍향', '풍속', '동서바람성분', '남북바람성분']"
   ]
  },
  {
   "cell_type": "code",
   "execution_count": null,
   "id": "e181550f",
   "metadata": {},
   "outputs": [],
   "source": [
    "fig,ax = plt.subplots(1,1)\n",
    "plt.xticks(rotation=80)\n",
    "hdisplay = display.display(\"\", display_id=True)\n",
    "\n",
    "ax.set_xlabel('날짜')\n",
    "ax.set_ylabel('측정값')\n",
    "\n",
    "# plt_update(ax)\n",
    "\n",
    "for f in range(300):\n",
    "    plt_update(ax)\n",
    "    time.sleep(1)\n",
    "\n",
    "plt.close()"
   ]
  }
 ],
 "metadata": {
  "kernelspec": {
   "display_name": "Python 3 (ipykernel)",
   "language": "python",
   "name": "python3"
  },
  "language_info": {
   "codemirror_mode": {
    "name": "ipython",
    "version": 3
   },
   "file_extension": ".py",
   "mimetype": "text/x-python",
   "name": "python",
   "nbconvert_exporter": "python",
   "pygments_lexer": "ipython3",
   "version": "3.9.13"
  }
 },
 "nbformat": 4,
 "nbformat_minor": 5
}
