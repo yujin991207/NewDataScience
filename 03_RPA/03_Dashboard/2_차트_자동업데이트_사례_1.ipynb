{
 "cells": [
  {
   "cell_type": "code",
   "execution_count": 24,
   "id": "f8b9aab3",
   "metadata": {},
   "outputs": [],
   "source": [
    "import numpy as np\n",
    "import matplotlib.pyplot as plt\n",
    "from matplotlib import font_manager,rc\n",
    "import time\n",
    "import pandas as pd\n",
    "import cx_Oracle\n",
    "\n",
    "from IPython import display\n",
    "\n",
    "font_location = \"C:\\Windows\\Fonts\\malgun.ttf\"\n",
    "font_name = font_manager.FontProperties(fname=font_location).get_name()\n",
    "rc('font',family=font_name)\n",
    "plt.rcParams['axes.unicode_minus'] = False"
   ]
  },
  {
   "cell_type": "code",
   "execution_count": 25,
   "id": "e6ffa7e5",
   "metadata": {},
   "outputs": [],
   "source": [
    "con = cx_Oracle.connect('open_source/1111@localhost:1521/xe')\n",
    "cur = con.cursor()"
   ]
  },
  {
   "cell_type": "code",
   "execution_count": 26,
   "id": "06190ac4",
   "metadata": {
    "scrolled": true
   },
   "outputs": [
    {
     "data": {
      "text/html": [
       "<div>\n",
       "<style scoped>\n",
       "    .dataframe tbody tr th:only-of-type {\n",
       "        vertical-align: middle;\n",
       "    }\n",
       "\n",
       "    .dataframe tbody tr th {\n",
       "        vertical-align: top;\n",
       "    }\n",
       "\n",
       "    .dataframe thead th {\n",
       "        text-align: right;\n",
       "    }\n",
       "</style>\n",
       "<table border=\"1\" class=\"dataframe\">\n",
       "  <thead>\n",
       "    <tr style=\"text-align: right;\">\n",
       "      <th></th>\n",
       "      <th>DATE_TIME</th>\n",
       "      <th>NX</th>\n",
       "      <th>NY</th>\n",
       "      <th>시간1_강수량</th>\n",
       "      <th>강수형태</th>\n",
       "      <th>기온</th>\n",
       "      <th>습도</th>\n",
       "      <th>풍향</th>\n",
       "      <th>풍속</th>\n",
       "      <th>동서바람성분</th>\n",
       "      <th>남북바람성분</th>\n",
       "    </tr>\n",
       "  </thead>\n",
       "  <tbody>\n",
       "    <tr>\n",
       "      <th>0</th>\n",
       "      <td>2022-12-28 11:00:00</td>\n",
       "      <td>58.0</td>\n",
       "      <td>125.0</td>\n",
       "      <td>0.0</td>\n",
       "      <td>0.0</td>\n",
       "      <td>-2.8</td>\n",
       "      <td>60.0</td>\n",
       "      <td>250.0</td>\n",
       "      <td>3.0</td>\n",
       "      <td>2.8</td>\n",
       "      <td>-0.8</td>\n",
       "    </tr>\n",
       "    <tr>\n",
       "      <th>1</th>\n",
       "      <td>2022-12-28 10:00:00</td>\n",
       "      <td>58.0</td>\n",
       "      <td>125.0</td>\n",
       "      <td>0.0</td>\n",
       "      <td>0.0</td>\n",
       "      <td>-2.1</td>\n",
       "      <td>60.0</td>\n",
       "      <td>248.0</td>\n",
       "      <td>3.0</td>\n",
       "      <td>2.8</td>\n",
       "      <td>-0.7</td>\n",
       "    </tr>\n",
       "    <tr>\n",
       "      <th>2</th>\n",
       "      <td>2022-12-28 13:00:00</td>\n",
       "      <td>58.0</td>\n",
       "      <td>125.0</td>\n",
       "      <td>0.0</td>\n",
       "      <td>0.0</td>\n",
       "      <td>0.2</td>\n",
       "      <td>62.0</td>\n",
       "      <td>232.0</td>\n",
       "      <td>2.0</td>\n",
       "      <td>2.5</td>\n",
       "      <td>-0.6</td>\n",
       "    </tr>\n",
       "    <tr>\n",
       "      <th>3</th>\n",
       "      <td>2022-12-28 13:00:00</td>\n",
       "      <td>58.0</td>\n",
       "      <td>125.0</td>\n",
       "      <td>0.0</td>\n",
       "      <td>0.0</td>\n",
       "      <td>0.2</td>\n",
       "      <td>62.0</td>\n",
       "      <td>232.0</td>\n",
       "      <td>2.0</td>\n",
       "      <td>2.5</td>\n",
       "      <td>-0.6</td>\n",
       "    </tr>\n",
       "    <tr>\n",
       "      <th>4</th>\n",
       "      <td>2022-12-28 12:00:00</td>\n",
       "      <td>58.0</td>\n",
       "      <td>125.0</td>\n",
       "      <td>0.0</td>\n",
       "      <td>0.0</td>\n",
       "      <td>-1.3</td>\n",
       "      <td>62.0</td>\n",
       "      <td>245.0</td>\n",
       "      <td>2.0</td>\n",
       "      <td>2.5</td>\n",
       "      <td>-0.6</td>\n",
       "    </tr>\n",
       "    <tr>\n",
       "      <th>5</th>\n",
       "      <td>2022-12-28 10:00:00</td>\n",
       "      <td>58.0</td>\n",
       "      <td>125.0</td>\n",
       "      <td>0.0</td>\n",
       "      <td>0.0</td>\n",
       "      <td>-1.8</td>\n",
       "      <td>31.0</td>\n",
       "      <td>293.0</td>\n",
       "      <td>2.3</td>\n",
       "      <td>2.1</td>\n",
       "      <td>-0.8</td>\n",
       "    </tr>\n",
       "  </tbody>\n",
       "</table>\n",
       "</div>"
      ],
      "text/plain": [
       "            DATE_TIME    NX     NY  시간1_강수량  강수형태   기온    습도     풍향   풍속  \\\n",
       "0 2022-12-28 11:00:00  58.0  125.0      0.0   0.0 -2.8  60.0  250.0  3.0   \n",
       "1 2022-12-28 10:00:00  58.0  125.0      0.0   0.0 -2.1  60.0  248.0  3.0   \n",
       "2 2022-12-28 13:00:00  58.0  125.0      0.0   0.0  0.2  62.0  232.0  2.0   \n",
       "3 2022-12-28 13:00:00  58.0  125.0      0.0   0.0  0.2  62.0  232.0  2.0   \n",
       "4 2022-12-28 12:00:00  58.0  125.0      0.0   0.0 -1.3  62.0  245.0  2.0   \n",
       "5 2022-12-28 10:00:00  58.0  125.0      0.0   0.0 -1.8  31.0  293.0  2.3   \n",
       "\n",
       "   동서바람성분  남북바람성분  \n",
       "0     2.8    -0.8  \n",
       "1     2.8    -0.7  \n",
       "2     2.5    -0.6  \n",
       "3     2.5    -0.6  \n",
       "4     2.5    -0.6  \n",
       "5     2.1    -0.8  "
      ]
     },
     "execution_count": 26,
     "metadata": {},
     "output_type": "execute_result"
    }
   ],
   "source": [
    "cur.execute('select * from weather')\n",
    "\n",
    "columns = ['DATE_TIME','NX', 'NY', '시간1_강수량', '강수형태', '기온',\n",
    "                         '습도', '풍향', '풍속', '동서바람성분', '남북바람성분']\n",
    "df = pd.DataFrame(cur,columns=columns)\n",
    "\n",
    "df"
   ]
  },
  {
   "cell_type": "code",
   "execution_count": 23,
   "id": "ff32d47c",
   "metadata": {},
   "outputs": [
    {
     "data": {
      "text/plain": [
       "Text(0, 0.5, '측정값')"
      ]
     },
     "execution_count": 23,
     "metadata": {},
     "output_type": "execute_result"
    },
    {
     "data": {
      "image/png": "[encoded data removed]",
      "text/plain": [
       "<Figure size 640x480 with 1 Axes>"
      ]
     },
     "metadata": {},
     "output_type": "display_data"
    }
   ],
   "source": [
    "fig,ax = plt.subplots(1,1)\n",
    "plt.xticks(rotation=80)\n",
    "ax.plot(df['DATE_TIME'],df['기온'])\n",
    "ax.plot(df['DATE_TIME'],df['시간1_강수량'])\n",
    "ax.plot(df['DATE_TIME'],df['강수형태'])\n",
    "ax.plot(df['DATE_TIME'],df['습도'])\n",
    "ax.plot(df['DATE_TIME'],df['풍속'])\n",
    "ax.plot(df['DATE_TIME'],df['풍향'])\n",
    "ax.plot(df['DATE_TIME'],df['동서바람성분'])\n",
    "ax.plot(df['DATE_TIME'],df['남북바람성분'])\n",
    "ax.set_xlabel('날짜')\n",
    "ax.set_ylabel('측정값')"
   ]
  },
  {
   "cell_type": "code",
   "execution_count": null,
   "id": "dbf33537",
   "metadata": {},
   "outputs": [],
   "source": []
  }
 ],
 "metadata": {
  "kernelspec": {
   "display_name": "Python 3 (ipykernel)",
   "language": "python",
   "name": "python3"
  },
  "language_info": {
   "codemirror_mode": {
    "name": "ipython",
    "version": 3
   },
   "file_extension": ".py",
   "mimetype": "text/x-python",
   "name": "python",
   "nbconvert_exporter": "python",
   "pygments_lexer": "ipython3",
   "version": "3.9.13"
  }
 },
 "nbformat": 4,
 "nbformat_minor": 5
}
