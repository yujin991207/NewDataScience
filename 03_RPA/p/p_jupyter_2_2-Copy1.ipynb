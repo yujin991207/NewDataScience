{
 "cells": [
  {
   "cell_type": "code",
   "execution_count": 3,
   "id": "fad5568f",
   "metadata": {},
   "outputs": [],
   "source": [
    "import numpy as np\n",
    "import matplotlib.pyplot as plt\n",
    "from matplotlib import font_manager,rc\n",
    "import time\n",
    "import pandas as pd\n",
    "import cx_Oracle\n",
    "\n",
    "from IPython import display\n",
    "\n",
    "font_location = \"C:\\Windows\\Fonts\\malgun.ttf\"\n",
    "font_name = font_manager.FontProperties(fname=font_location).get_name()\n",
    "rc('font',family=font_name)\n",
    "plt.rcParams['axes.unicode_minus'] = False"
   ]
  },
  {
   "cell_type": "code",
   "execution_count": 4,
   "id": "0193d051",
   "metadata": {},
   "outputs": [],
   "source": [
    "con = cx_Oracle.connect('open_source/1111@localhost:1521/xe')\n",
    "cur = con.cursor()"
   ]
  },
  {
   "cell_type": "code",
   "execution_count": 5,
   "id": "05da4527",
   "metadata": {
    "scrolled": false
   },
   "outputs": [
    {
     "data": {
      "text/html": [
       "<div>\n",
       "<style scoped>\n",
       "    .dataframe tbody tr th:only-of-type {\n",
       "        vertical-align: middle;\n",
       "    }\n",
       "\n",
       "    .dataframe tbody tr th {\n",
       "        vertical-align: top;\n",
       "    }\n",
       "\n",
       "    .dataframe thead th {\n",
       "        text-align: right;\n",
       "    }\n",
       "</style>\n",
       "<table border=\"1\" class=\"dataframe\">\n",
       "  <thead>\n",
       "    <tr style=\"text-align: right;\">\n",
       "      <th></th>\n",
       "      <th>관측소코드</th>\n",
       "      <th>관측소명</th>\n",
       "      <th>관측시간</th>\n",
       "      <th>기온</th>\n",
       "    </tr>\n",
       "  </thead>\n",
       "  <tbody>\n",
       "    <tr>\n",
       "      <th>0</th>\n",
       "      <td>DT_0013</td>\n",
       "      <td>울릉도</td>\n",
       "      <td>2022-12-29 00:01:00</td>\n",
       "      <td>4.4</td>\n",
       "    </tr>\n",
       "    <tr>\n",
       "      <th>1</th>\n",
       "      <td>DT_0001</td>\n",
       "      <td>인천</td>\n",
       "      <td>2022-12-29 00:01:00</td>\n",
       "      <td>-3.3</td>\n",
       "    </tr>\n",
       "    <tr>\n",
       "      <th>2</th>\n",
       "      <td>DT_0004</td>\n",
       "      <td>제주</td>\n",
       "      <td>2022-12-29 00:01:00</td>\n",
       "      <td>6.4</td>\n",
       "    </tr>\n",
       "    <tr>\n",
       "      <th>3</th>\n",
       "      <td>DT_0013</td>\n",
       "      <td>울릉도</td>\n",
       "      <td>2022-12-29 00:02:00</td>\n",
       "      <td>4.5</td>\n",
       "    </tr>\n",
       "    <tr>\n",
       "      <th>4</th>\n",
       "      <td>DT_0001</td>\n",
       "      <td>인천</td>\n",
       "      <td>2022-12-29 00:02:00</td>\n",
       "      <td>-3.3</td>\n",
       "    </tr>\n",
       "    <tr>\n",
       "      <th>...</th>\n",
       "      <td>...</td>\n",
       "      <td>...</td>\n",
       "      <td>...</td>\n",
       "      <td>...</td>\n",
       "    </tr>\n",
       "    <tr>\n",
       "      <th>1720</th>\n",
       "      <td>DT_0013</td>\n",
       "      <td>울릉도</td>\n",
       "      <td>2022-12-29 09:34:00</td>\n",
       "      <td>2.8</td>\n",
       "    </tr>\n",
       "    <tr>\n",
       "      <th>1721</th>\n",
       "      <td>DT_0004</td>\n",
       "      <td>제주</td>\n",
       "      <td>2022-12-29 09:34:00</td>\n",
       "      <td>5.7</td>\n",
       "    </tr>\n",
       "    <tr>\n",
       "      <th>1722</th>\n",
       "      <td>DT_0001</td>\n",
       "      <td>인천</td>\n",
       "      <td>2022-12-29 09:35:00</td>\n",
       "      <td>-2.8</td>\n",
       "    </tr>\n",
       "    <tr>\n",
       "      <th>1723</th>\n",
       "      <td>DT_0013</td>\n",
       "      <td>울릉도</td>\n",
       "      <td>2022-12-29 09:35:00</td>\n",
       "      <td>2.8</td>\n",
       "    </tr>\n",
       "    <tr>\n",
       "      <th>1724</th>\n",
       "      <td>DT_0004</td>\n",
       "      <td>제주</td>\n",
       "      <td>2022-12-29 09:35:00</td>\n",
       "      <td>5.7</td>\n",
       "    </tr>\n",
       "  </tbody>\n",
       "</table>\n",
       "<p>1725 rows × 4 columns</p>\n",
       "</div>"
      ],
      "text/plain": [
       "        관측소코드 관측소명                관측시간   기온\n",
       "0     DT_0013  울릉도 2022-12-29 00:01:00  4.4\n",
       "1     DT_0001   인천 2022-12-29 00:01:00 -3.3\n",
       "2     DT_0004   제주 2022-12-29 00:01:00  6.4\n",
       "3     DT_0013  울릉도 2022-12-29 00:02:00  4.5\n",
       "4     DT_0001   인천 2022-12-29 00:02:00 -3.3\n",
       "...       ...  ...                 ...  ...\n",
       "1720  DT_0013  울릉도 2022-12-29 09:34:00  2.8\n",
       "1721  DT_0004   제주 2022-12-29 09:34:00  5.7\n",
       "1722  DT_0001   인천 2022-12-29 09:35:00 -2.8\n",
       "1723  DT_0013  울릉도 2022-12-29 09:35:00  2.8\n",
       "1724  DT_0004   제주 2022-12-29 09:35:00  5.7\n",
       "\n",
       "[1725 rows x 4 columns]"
      ]
     },
     "execution_count": 5,
     "metadata": {},
     "output_type": "execute_result"
    }
   ],
   "source": [
    "cur.execute('select * from air_temp order by 관측시간')\n",
    "\n",
    "columns = ['관측소코드','관측소명', '관측시간','기온']\n",
    "air_temp = pd.DataFrame(cur,columns = columns)\n",
    "\n",
    "air_temp"
   ]
  },
  {
   "cell_type": "code",
   "execution_count": 6,
   "id": "004a5766",
   "metadata": {
    "scrolled": true
   },
   "outputs": [],
   "source": [
    "def plt_update_2(ax):\n",
    "    cur.execute(\"\"\"select * from air_temp where 관측소명 = '울릉도' order by 관측시간\"\"\")\n",
    "\n",
    "    columns = ['관측소코드','관측소명', '관측시간','기온']\n",
    "    air_temp_dt13 = pd.DataFrame(cur,columns = columns)\n",
    "    ax.plot(air_temp_dt13['관측시간'],air_temp_dt13['기온'], color = 'pink', label = '울릉도')\n",
    "\n",
    "    hdisplay.update(fig)"
   ]
  },
  {
   "cell_type": "code",
   "execution_count": 7,
   "id": "4e78a2d4",
   "metadata": {
    "scrolled": true
   },
   "outputs": [],
   "source": [
    "def plt_update(ax):\n",
    "    cur.execute(\"\"\"select * from air_temp where 관측소명 = '인천' order by 관측시간\"\"\")\n",
    "\n",
    "    columns = ['관측소코드','관측소명', '관측시간','기온']\n",
    "    air_temp_dt01 = pd.DataFrame(cur,columns = columns)\n",
    "    ax.plot(air_temp_dt01['관측시간'],air_temp_dt01['기온'], color = 'green', label = '인천')\n",
    "\n",
    "    hdisplay.update(fig)"
   ]
  },
  {
   "cell_type": "code",
   "execution_count": 8,
   "id": "9817dbc2",
   "metadata": {
    "scrolled": true
   },
   "outputs": [],
   "source": [
    "def plt_update_3(ax):\n",
    "    cur.execute(\"\"\"select * from air_temp where 관측소명 = '제주' order by 관측시간\"\"\")\n",
    "\n",
    "    columns = ['관측소코드','관측소명', '관측시간','기온']\n",
    "    air_temp_dt04 = pd.DataFrame(cur,columns = columns)\n",
    "    ax.plot(air_temp_dt04['관측시간'],air_temp_dt04['기온'], color = 'blue', label = '제주')\n",
    "    \n",
    "    hdisplay.update(fig)"
   ]
  },
  {
   "cell_type": "markdown",
   "id": "d9e0ee07",
   "metadata": {},
   "source": [
    "#### blue => 제주, green => 인천, pink => 울릉도"
   ]
  },
  {
   "cell_type": "code",
   "execution_count": null,
   "id": "9043dc42",
   "metadata": {
    "scrolled": false
   },
   "outputs": [
    {
     "data": {
      "image/png": "[encoded data removed]",
      "text/plain": [
       "<Figure size 640x480 with 1 Axes>"
      ]
     },
     "metadata": {},
     "output_type": "display_data"
    }
   ],
   "source": [
    "fig,ax = plt.subplots(1,1)\n",
    "plt.xticks(rotation=80)\n",
    "# plt.xlim(-2.11,-2.12)\n",
    "hdisplay = display.display(\"\", display_id=True)\n",
    "\n",
    "ax.set_xlabel('관측시간')\n",
    "ax.set_ylabel('기온')\n",
    "\n",
    "# plt_update(ax)\n",
    "for f in range(100000):\n",
    "    plt_update(ax)\n",
    "    plt_update_2(ax)\n",
    "    plt_update_3(ax)\n",
    "    #plt.legend(loc='center right')\n",
    "    time.sleep(1)\n",
    "\n",
    "plt.close()"
   ]
  }
 ],
 "metadata": {
  "kernelspec": {
   "display_name": "Python 3 (ipykernel)",
   "language": "python",
   "name": "python3"
  },
  "language_info": {
   "codemirror_mode": {
    "name": "ipython",
    "version": 3
   },
   "file_extension": ".py",
   "mimetype": "text/x-python",
   "name": "python",
   "nbconvert_exporter": "python",
   "pygments_lexer": "ipython3",
   "version": "3.9.13"
  }
 },
 "nbformat": 4,
 "nbformat_minor": 5
}
