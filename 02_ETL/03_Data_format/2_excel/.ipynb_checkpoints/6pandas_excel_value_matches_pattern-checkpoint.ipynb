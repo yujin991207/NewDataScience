{
 "cells": [
  {
   "cell_type": "code",
   "execution_count": 1,
   "id": "7c13f164",
   "metadata": {},
   "outputs": [
    {
     "name": "stderr",
     "output_type": "stream",
     "text": [
      "C:\\Users\\TJ\\anaconda3\\lib\\site-packages\\openpyxl\\worksheet\\_read_only.py:79: UserWarning: Unknown extension is not supported and will be removed\n",
      "  for idx, row in parser.parse():\n"
     ]
    },
    {
     "data": {
      "text/html": [
       "<div>\n",
       "<style scoped>\n",
       "    .dataframe tbody tr th:only-of-type {\n",
       "        vertical-align: middle;\n",
       "    }\n",
       "\n",
       "    .dataframe tbody tr th {\n",
       "        vertical-align: top;\n",
       "    }\n",
       "\n",
       "    .dataframe thead th {\n",
       "        text-align: right;\n",
       "    }\n",
       "</style>\n",
       "<table border=\"1\" class=\"dataframe\">\n",
       "  <thead>\n",
       "    <tr style=\"text-align: right;\">\n",
       "      <th></th>\n",
       "      <th>Customer ID</th>\n",
       "      <th>Customer Name</th>\n",
       "      <th>Invoice Number</th>\n",
       "      <th>Sale Amount</th>\n",
       "      <th>Purchase Date</th>\n",
       "    </tr>\n",
       "  </thead>\n",
       "  <tbody>\n",
       "    <tr>\n",
       "      <th>0</th>\n",
       "      <td>1234</td>\n",
       "      <td>John Smith</td>\n",
       "      <td>100-0002</td>\n",
       "      <td>1200</td>\n",
       "      <td>2013-01-01</td>\n",
       "    </tr>\n",
       "    <tr>\n",
       "      <th>1</th>\n",
       "      <td>2345</td>\n",
       "      <td>Mary Harrison</td>\n",
       "      <td>100-0003</td>\n",
       "      <td>1425</td>\n",
       "      <td>2013-01-06</td>\n",
       "    </tr>\n",
       "    <tr>\n",
       "      <th>2</th>\n",
       "      <td>3456</td>\n",
       "      <td>Lucy Gomez</td>\n",
       "      <td>100-0004</td>\n",
       "      <td>1390</td>\n",
       "      <td>2013-01-11</td>\n",
       "    </tr>\n",
       "    <tr>\n",
       "      <th>3</th>\n",
       "      <td>4567</td>\n",
       "      <td>Rupert Jones</td>\n",
       "      <td>100-0005</td>\n",
       "      <td>1257</td>\n",
       "      <td>2013-01-18</td>\n",
       "    </tr>\n",
       "    <tr>\n",
       "      <th>4</th>\n",
       "      <td>5678</td>\n",
       "      <td>Jenny Walters</td>\n",
       "      <td>100-0006</td>\n",
       "      <td>1725</td>\n",
       "      <td>2013-01-24</td>\n",
       "    </tr>\n",
       "    <tr>\n",
       "      <th>5</th>\n",
       "      <td>6789</td>\n",
       "      <td>Samantha Donaldson</td>\n",
       "      <td>100-0007</td>\n",
       "      <td>1995</td>\n",
       "      <td>2013-01-31</td>\n",
       "    </tr>\n",
       "  </tbody>\n",
       "</table>\n",
       "</div>"
      ],
      "text/plain": [
       "   Customer ID       Customer Name Invoice Number  Sale Amount Purchase Date\n",
       "0         1234          John Smith       100-0002         1200    2013-01-01\n",
       "1         2345       Mary Harrison       100-0003         1425    2013-01-06\n",
       "2         3456          Lucy Gomez       100-0004         1390    2013-01-11\n",
       "3         4567        Rupert Jones       100-0005         1257    2013-01-18\n",
       "4         5678       Jenny Walters       100-0006         1725    2013-01-24\n",
       "5         6789  Samantha Donaldson       100-0007         1995    2013-01-31"
      ]
     },
     "execution_count": 1,
     "metadata": {},
     "output_type": "execute_result"
    }
   ],
   "source": [
    "import pandas as pd\n",
    "\n",
    "input_file = 'sales_2013.xlsx'\n",
    "output_file = 'output_files/6output_basic_pandas.xlsx'\n",
    "\n",
    "data_frame = pd.read_excel(input_file, sheet_name = 'january_2013')\n",
    "\n",
    "data_frame"
   ]
  },
  {
   "cell_type": "code",
   "execution_count": 11,
   "id": "3d4e5680",
   "metadata": {
    "scrolled": true
   },
   "outputs": [
    {
     "data": {
      "text/html": [
       "<div>\n",
       "<style scoped>\n",
       "    .dataframe tbody tr th:only-of-type {\n",
       "        vertical-align: middle;\n",
       "    }\n",
       "\n",
       "    .dataframe tbody tr th {\n",
       "        vertical-align: top;\n",
       "    }\n",
       "\n",
       "    .dataframe thead th {\n",
       "        text-align: right;\n",
       "    }\n",
       "</style>\n",
       "<table border=\"1\" class=\"dataframe\">\n",
       "  <thead>\n",
       "    <tr style=\"text-align: right;\">\n",
       "      <th></th>\n",
       "      <th>Customer ID</th>\n",
       "      <th>Customer Name</th>\n",
       "      <th>Invoice Number</th>\n",
       "      <th>Sale Amount</th>\n",
       "      <th>Purchase Date</th>\n",
       "    </tr>\n",
       "  </thead>\n",
       "  <tbody>\n",
       "    <tr>\n",
       "      <th>0</th>\n",
       "      <td>1234</td>\n",
       "      <td>John Smith</td>\n",
       "      <td>100-0002</td>\n",
       "      <td>1200</td>\n",
       "      <td>2013-01-01</td>\n",
       "    </tr>\n",
       "    <tr>\n",
       "      <th>4</th>\n",
       "      <td>5678</td>\n",
       "      <td>Jenny Walters</td>\n",
       "      <td>100-0006</td>\n",
       "      <td>1725</td>\n",
       "      <td>2013-01-24</td>\n",
       "    </tr>\n",
       "  </tbody>\n",
       "</table>\n",
       "</div>"
      ],
      "text/plain": [
       "   Customer ID  Customer Name Invoice Number  Sale Amount Purchase Date\n",
       "0         1234     John Smith       100-0002         1200    2013-01-01\n",
       "4         5678  Jenny Walters       100-0006         1725    2013-01-24"
      ]
     },
     "execution_count": 11,
     "metadata": {},
     "output_type": "execute_result"
    }
   ],
   "source": [
    "data_j = data_frame.loc[data_frame['Customer Name'].str.startswith('J')]\n",
    "\n",
    "data_j"
   ]
  },
  {
   "cell_type": "code",
   "execution_count": 12,
   "id": "e76db7e9",
   "metadata": {},
   "outputs": [],
   "source": [
    "writer = pd.ExcelWriter(output_file)\n",
    "\n",
    "data_j.to_excel(writer, sheet_name = 'jan_13_output', index = False)\n",
    "writer.save()"
   ]
  }
 ],
 "metadata": {
  "kernelspec": {
   "display_name": "Python 3 (ipykernel)",
   "language": "python",
   "name": "python3"
  },
  "language_info": {
   "codemirror_mode": {
    "name": "ipython",
    "version": 3
   },
   "file_extension": ".py",
   "mimetype": "text/x-python",
   "name": "python",
   "nbconvert_exporter": "python",
   "pygments_lexer": "ipython3",
   "version": "3.9.13"
  }
 },
 "nbformat": 4,
 "nbformat_minor": 5
}
