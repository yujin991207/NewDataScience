{
 "cells": [
  {
   "cell_type": "code",
   "execution_count": 12,
   "id": "4e9517bf",
   "metadata": {},
   "outputs": [
    {
     "name": "stderr",
     "output_type": "stream",
     "text": [
      "C:\\Users\\TJ\\anaconda3\\lib\\site-packages\\openpyxl\\worksheet\\_read_only.py:79: UserWarning: Unknown extension is not supported and will be removed\n",
      "  for idx, row in parser.parse():\n",
      "C:\\Users\\TJ\\anaconda3\\lib\\site-packages\\openpyxl\\worksheet\\_read_only.py:79: UserWarning: Unknown extension is not supported and will be removed\n",
      "  for idx, row in parser.parse():\n"
     ]
    }
   ],
   "source": [
    "import pandas as pd\n",
    "\n",
    "input_file = 'sales_2013.xlsx'\n",
    "output_file = 'output_files/11output_basic_pandas.xlsx'\n",
    "\n",
    "my_sheets =[0,1]\n",
    "threshold = 1900.0\n",
    "\n",
    "data = pd.read_excel(input_file, sheet_name = my_sheets)\n",
    "row_list = []\n",
    "\n",
    "for worksheet_name, data in data.items():\n",
    "    row_list.append(data[data['Sale Amount'] > threshold])\n",
    "    \n",
    "select_row = pd.concat(row_list, axis = 0, ignore_index = True)"
   ]
  },
  {
   "cell_type": "code",
   "execution_count": 14,
   "id": "afb53982",
   "metadata": {},
   "outputs": [
    {
     "data": {
      "text/html": [
       "<div>\n",
       "<style scoped>\n",
       "    .dataframe tbody tr th:only-of-type {\n",
       "        vertical-align: middle;\n",
       "    }\n",
       "\n",
       "    .dataframe tbody tr th {\n",
       "        vertical-align: top;\n",
       "    }\n",
       "\n",
       "    .dataframe thead th {\n",
       "        text-align: right;\n",
       "    }\n",
       "</style>\n",
       "<table border=\"1\" class=\"dataframe\">\n",
       "  <thead>\n",
       "    <tr style=\"text-align: right;\">\n",
       "      <th></th>\n",
       "      <th>Customer ID</th>\n",
       "      <th>Customer Name</th>\n",
       "      <th>Invoice Number</th>\n",
       "      <th>Sale Amount</th>\n",
       "      <th>Purchase Date</th>\n",
       "    </tr>\n",
       "  </thead>\n",
       "  <tbody>\n",
       "    <tr>\n",
       "      <th>0</th>\n",
       "      <td>6789</td>\n",
       "      <td>Samantha Donaldson</td>\n",
       "      <td>100-0007</td>\n",
       "      <td>1995</td>\n",
       "      <td>2013-01-31</td>\n",
       "    </tr>\n",
       "    <tr>\n",
       "      <th>1</th>\n",
       "      <td>7654</td>\n",
       "      <td>Roger Lipney</td>\n",
       "      <td>100-0010</td>\n",
       "      <td>2135</td>\n",
       "      <td>2013-02-15</td>\n",
       "    </tr>\n",
       "  </tbody>\n",
       "</table>\n",
       "</div>"
      ],
      "text/plain": [
       "   Customer ID       Customer Name Invoice Number  Sale Amount Purchase Date\n",
       "0         6789  Samantha Donaldson       100-0007         1995    2013-01-31\n",
       "1         7654        Roger Lipney       100-0010         2135    2013-02-15"
      ]
     },
     "execution_count": 14,
     "metadata": {},
     "output_type": "execute_result"
    }
   ],
   "source": [
    "select_row"
   ]
  },
  {
   "cell_type": "code",
   "execution_count": 13,
   "id": "487547ce",
   "metadata": {},
   "outputs": [],
   "source": [
    "writer = pd.ExcelWriter(output_file)\n",
    "\n",
    "select_row.to_excel(writer, sheet_name = 'set_of_worksheets', index = False)\n",
    "writer.save()"
   ]
  }
 ],
 "metadata": {
  "kernelspec": {
   "display_name": "Python 3 (ipykernel)",
   "language": "python",
   "name": "python3"
  },
  "language_info": {
   "codemirror_mode": {
    "name": "ipython",
    "version": 3
   },
   "file_extension": ".py",
   "mimetype": "text/x-python",
   "name": "python",
   "nbconvert_exporter": "python",
   "pygments_lexer": "ipython3",
   "version": "3.9.13"
  }
 },
 "nbformat": 4,
 "nbformat_minor": 5
}
