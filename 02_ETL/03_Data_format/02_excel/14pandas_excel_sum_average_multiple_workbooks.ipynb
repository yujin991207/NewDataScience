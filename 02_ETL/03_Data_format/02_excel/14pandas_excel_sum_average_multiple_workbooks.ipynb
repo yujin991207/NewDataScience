{
 "cells": [
  {
   "cell_type": "code",
   "execution_count": 1,
   "id": "aee47e8d",
   "metadata": {},
   "outputs": [],
   "source": [
    "from typing import Dict, Any\n",
    "\n",
    "import pandas as pd\n",
    "import glob\n",
    "import os\n",
    "import sys\n",
    "\n",
    "input_path = '.'\n",
    "output_file = 'output_files/14output_pandas.xlsx'\n",
    "\n",
    "all_workbooks = glob.glob(os.path.join(input_path,'*.xlsx*'))\n",
    "data_frames = []\n",
    "for workbook in all_workbooks:\n",
    "    all_worksheets = pd.read_excel(workbook, sheet_name = None, index_col = None)\n",
    "   \n",
    "    workbook_total_sales = []\n",
    "    workbook_number_of_sales = []\n",
    "\n",
    "    worksheet_data_frames = []\n",
    "    worksheets_data_frame = None\n",
    "\n",
    "    workbook_data_frame = None\n",
    "    for worksheet_name, data in all_worksheets.items():\n",
    "        total_sales = data['Sale Amount'].sum()\n",
    "        number_of_sales = len(data['Sale Amount'])\n",
    "        average_sales = total_sales / number_of_sales\n",
    "\n",
    "      # workbook_total_sales. ## 작성해 보세요\n",
    "      # workbook_number_of_sales. ## 작성해 보세요\n",
    "      \n",
    "      data: dict[str, str | float | Any] = {'workbook': [os.path.basename(workbook)],\n",
    "            'worksheet': [worksheet_name],\n",
    "            'worksheet_total': [total_sales],\n",
    "            'worksheet_average': [average_sales]}\n",
    "      \n",
    "    worksheet_data_frames.append(os.path.basename(workbook))\n",
    "    worksheets_data_frame = pd.concat(data, axis = 0, ignore_index = True)\n",
    "\n",
    "    workbook_total = \n",
    "    workbook_total_number_of_sales = ## 작성해 보세요\n",
    "    workbook_average = ## 작성해 보세요\n",
    "\n",
    "    workbook_stats = {'workbook': [os.path.basename(workbook)],\n",
    "                 'workbook_total': [## 작성해 보세요],\n",
    "                 'workbook_average': [## 작성해 보세요]}\n",
    "\n",
    "    workbook_stats = pd.DataFrame(workbook_stats, columns=['workbook', 'workbook_total', 'workbook_average'])\n",
    "    workbook_data_frame = pd.merge(## 작성해 보세요)\n",
    "    data_frames.## 작성해 보세요\n",
    "\n",
    "all_data_concatenated = pd.concat(## 작성해 보세요)\n",
    "\n",
    "writer = pd.ExcelWriter(output_file)\n",
    "all_data_concatenated.to_excel(## 작성해 보세요)\n",
    "writer.save()"
   ]
  }
 ],
 "metadata": {
  "kernelspec": {
   "display_name": "Python 3 (ipykernel)",
   "language": "python",
   "name": "python3"
  },
  "language_info": {
   "codemirror_mode": {
    "name": "ipython",
    "version": 3
   },
   "file_extension": ".py",
   "mimetype": "text/x-python",
   "name": "python",
   "nbconvert_exporter": "python",
   "pygments_lexer": "ipython3",
   "version": "3.9.13"
  }
 },
 "nbformat": 4,
 "nbformat_minor": 5
}
