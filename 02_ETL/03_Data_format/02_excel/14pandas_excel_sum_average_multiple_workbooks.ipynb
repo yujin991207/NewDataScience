{
 "cells": [
  {
   "cell_type": "code",
   "execution_count": 5,
   "id": "aee47e8d",
   "metadata": {},
   "outputs": [
    {
     "name": "stderr",
     "output_type": "stream",
     "text": [
      "/opt/anaconda3/lib/python3.9/site-packages/openpyxl/worksheet/_read_only.py:79: UserWarning: Unknown extension is not supported and will be removed\n",
      "  for idx, row in parser.parse():\n",
      "/opt/anaconda3/lib/python3.9/site-packages/openpyxl/worksheet/_read_only.py:79: UserWarning: Unknown extension is not supported and will be removed\n",
      "  for idx, row in parser.parse():\n",
      "/opt/anaconda3/lib/python3.9/site-packages/openpyxl/worksheet/_read_only.py:79: UserWarning: Unknown extension is not supported and will be removed\n",
      "  for idx, row in parser.parse():\n",
      "/opt/anaconda3/lib/python3.9/site-packages/openpyxl/worksheet/_read_only.py:79: UserWarning: Unknown extension is not supported and will be removed\n",
      "  for idx, row in parser.parse():\n",
      "/opt/anaconda3/lib/python3.9/site-packages/openpyxl/worksheet/_read_only.py:79: UserWarning: Unknown extension is not supported and will be removed\n",
      "  for idx, row in parser.parse():\n",
      "/opt/anaconda3/lib/python3.9/site-packages/openpyxl/worksheet/_read_only.py:79: UserWarning: Unknown extension is not supported and will be removed\n",
      "  for idx, row in parser.parse():\n",
      "/opt/anaconda3/lib/python3.9/site-packages/openpyxl/worksheet/_read_only.py:79: UserWarning: Unknown extension is not supported and will be removed\n",
      "  for idx, row in parser.parse():\n",
      "/opt/anaconda3/lib/python3.9/site-packages/openpyxl/worksheet/_read_only.py:79: UserWarning: Unknown extension is not supported and will be removed\n",
      "  for idx, row in parser.parse():\n",
      "/opt/anaconda3/lib/python3.9/site-packages/openpyxl/worksheet/_read_only.py:79: UserWarning: Unknown extension is not supported and will be removed\n",
      "  for idx, row in parser.parse():\n"
     ]
    }
   ],
   "source": [
    "import pandas as pd\n",
    "import glob\n",
    "import os\n",
    "import sys\n",
    "\n",
    "input_path = '.'\n",
    "output_file = 'output_files/14output_pandas.xlsx'\n",
    "\n",
    "all_workbooks = glob.glob(os.path.join(input_path,'*.xlsx'))\n",
    "data_frames = []\n",
    "for workbook in all_workbooks:\n",
    "\tall_worksheets = pd.read_excel(workbook, sheet_name=None, index_col=None)\n",
    "\tworkbook_total_sales = []\n",
    "\tworkbook_number_of_sales = []\n",
    "\tworksheet_data_frames = []\n",
    "\tworksheets_data_frame = None\n",
    "\tworkbook_data_frame = None\n",
    "\tfor worksheet_name, data in all_worksheets.items():\n",
    "\t\t# total_sales = pd.DataFrame([value for value in data['Sale Amount'].tolist()]).sum()\n",
    "\t\ttotal_sales = data['Sale Amount'].sum()\n",
    "\t\tnumber_of_sales = len(data.loc[:, 'Sale Amount'])\n",
    "\t\t# average_sales = pd.DataFrame(total_sales / number_of_sales)\n",
    "\t\taverage_sales = total_sales / number_of_sales\n",
    "\n",
    "\t\tworkbook_total_sales.append(total_sales)\n",
    "\t\tworkbook_number_of_sales.append(number_of_sales)\n",
    "\t\t\n",
    "\t\tdata = {'workbook': [os.path.basename(workbook)],\n",
    "\t\t\t\t'worksheet': [worksheet_name],\n",
    "\t\t\t\t'worksheet_total': [total_sales],\n",
    "\t\t\t\t'worksheet_average': [average_sales]}\n",
    "\t\t\n",
    "\t\tworksheet_data_frames.append(pd.DataFrame(data, columns=['workbook', 'worksheet', 'worksheet_total', 'worksheet_average']))\n",
    "\tworksheets_data_frame = pd.concat(worksheet_data_frames, axis=0, ignore_index=True)\n",
    "\n",
    "\tworkbook_total = pd.Series(workbook_total_sales).sum()\n",
    "\tworkbook_total_number_of_sales = pd.Series(workbook_number_of_sales).sum()\n",
    "\tworkbook_average = workbook_total / workbook_total_number_of_sales\n",
    "\n",
    "\tworkbook_stats = {'workbook': [os.path.basename(workbook)],\n",
    "\t\t\t\t\t 'workbook_total': [workbook_total],\n",
    "\t\t\t\t\t 'workbook_average': [workbook_average]}\n",
    "\n",
    "\tworkbook_stats = pd.DataFrame(workbook_stats, columns=['workbook', 'workbook_total', 'workbook_average'])\n",
    "\tworkbook_data_frame = pd.merge(worksheets_data_frame, workbook_stats, on='workbook', how='left')\n",
    "\tdata_frames.append(workbook_data_frame)\n",
    "\n",
    "all_data_concatenated = pd.concat(data_frames, axis=0, ignore_index=True)\n",
    "\n",
    "writer = pd.ExcelWriter(output_file)\n",
    "all_data_concatenated.to_excel(writer, sheet_name='sums_and_averages', index=False)\n",
    "\n",
    "writer.save()"
   ]
  }
 ],
 "metadata": {
  "kernelspec": {
   "display_name": "Python 3 (ipykernel)",
   "language": "python",
   "name": "python3"
  },
  "language_info": {
   "codemirror_mode": {
    "name": "ipython",
    "version": 3
   },
   "file_extension": ".py",
   "mimetype": "text/x-python",
   "name": "python",
   "nbconvert_exporter": "python",
   "pygments_lexer": "ipython3",
   "version": "3.9.13"
  }
 },
 "nbformat": 4,
 "nbformat_minor": 5
}
