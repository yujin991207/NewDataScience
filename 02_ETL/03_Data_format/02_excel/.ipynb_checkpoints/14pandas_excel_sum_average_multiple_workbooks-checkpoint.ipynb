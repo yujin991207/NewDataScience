{
 "cells": [
  {
   "cell_type": "code",
   "execution_count": 15,
   "id": "aee47e8d",
   "metadata": {},
   "outputs": [
    {
     "ename": "IndentationError",
     "evalue": "unindent does not match any outer indentation level (<tokenize>, line 38)",
     "output_type": "error",
     "traceback": [
      "\u001b[1;36m  File \u001b[1;32m\"<tokenize>\"\u001b[1;36m, line \u001b[1;32m38\u001b[0m\n\u001b[1;33m    worksheet_data_frames.append(pd.DataFrame(data, columns = ['workbook','worksheet',\u001b[0m\n\u001b[1;37m    ^\u001b[0m\n\u001b[1;31mIndentationError\u001b[0m\u001b[1;31m:\u001b[0m unindent does not match any outer indentation level\n"
     ]
    }
   ],
   "source": [
    "from typing import Dict, Any\n",
    "\n",
    "import pandas as pd\n",
    "import glob\n",
    "import os\n",
    "import sys\n",
    "\n",
    "input_path = '.'\n",
    "output_file = 'output_files/14output_pandas.xlsx'\n",
    "\n",
    "all_workbooks = glob.glob(os.path.join(input_path,'*.xlsx*'))\n",
    "data_frames = []\n",
    "for workbook in all_workbooks:\n",
    "    all_worksheets = pd.read_excel(workbook, sheet_name = None, \n",
    "                                   index_col = None)\n",
    "   \n",
    "    workbook_total_sales = []\n",
    "    workbook_number_of_sales = []\n",
    "\n",
    "    worksheet_data_frames = []\n",
    "    worksheets_data_frame = None\n",
    "\n",
    "    workbook_data_frame = None\n",
    "    for worksheet_name, data in all_worksheets.items():\n",
    "        total_sales = data['Sale Amount'].sum()\n",
    "        #number_of_sales = len(data['Sale Amount'])\n",
    "        number_of_sales = len(data.loc[:, 'Sale Amount'])\n",
    "        average_sales = total_sales / number_of_sales\n",
    "\n",
    "        workbook_total_sales.append(total_sales)\n",
    "        workbook_number_of_sales.append(number_of_sales)\n",
    "      \n",
    "        data: dict[str, str | float | Any] = {'workbook': [os.path.basename(workbook)],\n",
    "            'worksheet': [worksheet_name],\n",
    "            'worksheet_total': [total_sales],\n",
    "            'worksheet_average': [average_sales]}\n",
    "      \n",
    "     worksheet_data_frames.append(pd.DataFrame(data, columns = ['workbook','worksheet', \n",
    "                                                                'worksheet_total','worksheet_average'])\n",
    "                                 \n",
    "     worksheets_data_frame = pd.concat(data, axis = 0, ignore_index = True)\n",
    "\n",
    "    workbook_total = pd.Series(workbook_total_sales).sum()\n",
    "    workbook_total_number_of_sales = pd.Series(workbook_number_of_sales).sum()\n",
    "    workbook_average = workbook_total / workbook_total_number_of_sales\n",
    "\n",
    "    workbook_stats = {'workbook': [os.path.basename(workbook)],\n",
    "                 'workbook_total': [workbook_total]\n",
    "                 'workbook_average': [workbook_average]}\n",
    "\n",
    "    workbook_stats = pd.DataFrame(workbook_stats, columns=['workbook', 'workbook_total', 'workbook_average'])\n",
    "    workbook_data_frame = pd.merge(worksheets_data_frame, workbook_stats, on = 'workbook', how = 'left')\n",
    "    data_frames.append(workbook_data_frame)\n",
    "\n",
    "all_data_concatenated = pd.concat(data_frames, axis = 0, ignore_index = True)\n",
    "\n",
    "writer = pd.ExcelWriter(output_file)\n",
    "all_data_concatenated.to_excel(writer, sheet_name = 'sums_and_averages', index = False)\n",
    "writer.save()"
   ]
  }
 ],
 "metadata": {
  "kernelspec": {
   "display_name": "Python 3 (ipykernel)",
   "language": "python",
   "name": "python3"
  },
  "language_info": {
   "codemirror_mode": {
    "name": "ipython",
    "version": 3
   },
   "file_extension": ".py",
   "mimetype": "text/x-python",
   "name": "python",
   "nbconvert_exporter": "python",
   "pygments_lexer": "ipython3",
   "version": "3.9.13"
  }
 },
 "nbformat": 4,
 "nbformat_minor": 5
}
