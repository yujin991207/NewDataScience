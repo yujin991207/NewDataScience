{
 "cells": [
  {
   "cell_type": "code",
   "execution_count": 14,
   "id": "7929e100",
   "metadata": {
    "scrolled": true
   },
   "outputs": [],
   "source": [
    "import pandas as pd\n",
    "\n",
    "# 쓸때 sheet_name 설정하기\n",
    "# selected_columns.to_excel(writer, sheet_name='selected_columns_all_worksheets', index=False)\n",
    "\n",
    "input_file = 'sales_2013.xlsx'\n",
    "output_file = 'output_files/10output_basic_pandas.xlsx'"
   ]
  },
  {
   "cell_type": "code",
   "execution_count": 15,
   "id": "808ccccd",
   "metadata": {
    "scrolled": true
   },
   "outputs": [
    {
     "name": "stderr",
     "output_type": "stream",
     "text": [
      "C:\\Users\\TJ\\anaconda3\\lib\\site-packages\\openpyxl\\worksheet\\_read_only.py:79: UserWarning: Unknown extension is not supported and will be removed\n",
      "  for idx, row in parser.parse():\n",
      "C:\\Users\\TJ\\anaconda3\\lib\\site-packages\\openpyxl\\worksheet\\_read_only.py:79: UserWarning: Unknown extension is not supported and will be removed\n",
      "  for idx, row in parser.parse():\n",
      "C:\\Users\\TJ\\anaconda3\\lib\\site-packages\\openpyxl\\worksheet\\_read_only.py:79: UserWarning: Unknown extension is not supported and will be removed\n",
      "  for idx, row in parser.parse():\n"
     ]
    }
   ],
   "source": [
    "data_list = pd.read_excel(input_file, sheet_name = None)\n",
    "\n",
    "column = []\n",
    "\n",
    "for worksheet_name, data in data_list.items():\n",
    "    column.append(data.loc[:, ['Customer Name', 'Sale Amount']])\n",
    "\n",
    "select_column = pd.concat(column, axis = 0, ignore_index = True)\n",
    "\n"
   ]
  },
  {
   "cell_type": "code",
   "execution_count": 16,
   "id": "4975ad2f",
   "metadata": {},
   "outputs": [],
   "source": [
    "writer = pd.ExcelWriter(output_file)\n",
    "\n",
    "select_column.to_excel(writer, sheet_name = 'selected_columns_all_worksheets', index = False)\n",
    "writer.save()"
   ]
  },
  {
   "cell_type": "code",
   "execution_count": null,
   "id": "a70a4c11",
   "metadata": {},
   "outputs": [],
   "source": []
  }
 ],
 "metadata": {
  "kernelspec": {
   "display_name": "Python 3 (ipykernel)",
   "language": "python",
   "name": "python3"
  },
  "language_info": {
   "codemirror_mode": {
    "name": "ipython",
    "version": 3
   },
   "file_extension": ".py",
   "mimetype": "text/x-python",
   "name": "python",
   "nbconvert_exporter": "python",
   "pygments_lexer": "ipython3",
   "version": "3.9.13"
  }
 },
 "nbformat": 4,
 "nbformat_minor": 5
}
