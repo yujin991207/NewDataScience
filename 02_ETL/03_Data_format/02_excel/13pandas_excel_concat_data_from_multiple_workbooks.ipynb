{
 "cells": [
  {
   "cell_type": "code",
   "execution_count": 19,
   "id": "3a604dbe",
   "metadata": {},
   "outputs": [
    {
     "name": "stderr",
     "output_type": "stream",
     "text": [
      "C:\\Users\\TJ\\anaconda3\\lib\\site-packages\\openpyxl\\worksheet\\_read_only.py:79: UserWarning: Unknown extension is not supported and will be removed\n",
      "  for idx, row in parser.parse():\n",
      "C:\\Users\\TJ\\anaconda3\\lib\\site-packages\\openpyxl\\worksheet\\_read_only.py:79: UserWarning: Unknown extension is not supported and will be removed\n",
      "  for idx, row in parser.parse():\n",
      "C:\\Users\\TJ\\anaconda3\\lib\\site-packages\\openpyxl\\worksheet\\_read_only.py:79: UserWarning: Unknown extension is not supported and will be removed\n",
      "  for idx, row in parser.parse():\n"
     ]
    }
   ],
   "source": [
    "import pandas as pd\n",
    "import glob\n",
    "import os\n",
    "\n",
    "input_folder = '.'\n",
    "output_file = 'output_files/13output_basic_pandas.xlsx'\n",
    "\n",
    "all_file_list = glob.glob(os.path.join(input_folder,'*.xlsx'))\n",
    "data_list = []\n",
    "\n",
    "#all_file_list\n",
    "for file in all_file_list:\n",
    "    data = pd.read_excel(file)\n",
    "    \n",
    "    data_list.append(pd.DataFrame(data, \n",
    "                                  columns = ['Customer ID',\n",
    "                                             'Customer Name',\n",
    "                                             'Name',\n",
    "                                             'Invoice',\n",
    "                                             'Invoice Number',\n",
    "                                             'Sale Amount',\n",
    "                                             'Purchase Date']))\n",
    "    \n",
    "result_workbooks = pd.concat(data_list, axis = 0, ignore_index = True)\n",
    "\n",
    "writer = pd.ExcelWriter(output_file)\n",
    "result_workbooks.to_excel(writer, sheet_name = 'all_data_all_workbooks', index = False)\n",
    "\n",
    "writer.save()"
   ]
  }
 ],
 "metadata": {
  "kernelspec": {
   "display_name": "Python 3 (ipykernel)",
   "language": "python",
   "name": "python3"
  },
  "language_info": {
   "codemirror_mode": {
    "name": "ipython",
    "version": 3
   },
   "file_extension": ".py",
   "mimetype": "text/x-python",
   "name": "python",
   "nbconvert_exporter": "python",
   "pygments_lexer": "ipython3",
   "version": "3.9.13"
  }
 },
 "nbformat": 4,
 "nbformat_minor": 5
}
