{
 "cells": [
  {
   "cell_type": "code",
   "execution_count": 1,
   "id": "d01ce0b6",
   "metadata": {},
   "outputs": [],
   "source": [
    "from xml.etree.ElementTree import parse\n",
    "from xml.etree.ElementTree import dump"
   ]
  },
  {
   "cell_type": "code",
   "execution_count": 2,
   "id": "94a600f4",
   "metadata": {
    "scrolled": false
   },
   "outputs": [
    {
     "name": "stdout",
     "output_type": "stream",
     "text": [
      "<note date=\"20120104\">\n",
      " <to>Tove</to>\n",
      " <from>Jani</from>\n",
      " <heading>Reminder</heading>\n",
      " <body>Don't forget me this weekend!</body>\n",
      "</note>\n"
     ]
    }
   ],
   "source": [
    "tree = parse(\"note.xml\")\n",
    "note = tree.getroot()\n",
    "dump(note)"
   ]
  },
  {
   "cell_type": "code",
   "execution_count": 3,
   "id": "a2231dc0",
   "metadata": {},
   "outputs": [
    {
     "data": {
      "text/plain": [
       "'20120104'"
      ]
     },
     "execution_count": 3,
     "metadata": {},
     "output_type": "execute_result"
    }
   ],
   "source": [
    "note.get(\"date\") # 현재노드의 속성 이름을 get의 인자로 넣어주면 속성의 값을 반환한다."
   ]
  },
  {
   "cell_type": "code",
   "execution_count": 4,
   "id": "fe890b75",
   "metadata": {},
   "outputs": [],
   "source": [
    "note.get(\"method\") # 없는 속성에 대해서 None을 반환한다."
   ]
  },
  {
   "cell_type": "code",
   "execution_count": 5,
   "id": "41545ecc",
   "metadata": {},
   "outputs": [
    {
     "data": {
      "text/plain": [
       "'gmail'"
      ]
     },
     "execution_count": 5,
     "metadata": {},
     "output_type": "execute_result"
    }
   ],
   "source": [
    "note.get(\"method\",\"gmail\") # 없는 속성값에 대한 default값을 지정한다."
   ]
  },
  {
   "cell_type": "code",
   "execution_count": 6,
   "id": "e82879e7",
   "metadata": {},
   "outputs": [
    {
     "name": "stdout",
     "output_type": "stream",
     "text": [
      "<note date=\"20120104\" method=\"gmail\">\n",
      " <to>Tove</to>\n",
      " <from>Jani</from>\n",
      " <heading>Reminder</heading>\n",
      " <body>Don't forget me this weekend!</body>\n",
      "</note>\n"
     ]
    }
   ],
   "source": [
    "note.attrib[\"method\"]=\"gmail\" # 실제 속성 및 값 추가\n",
    "dump(note)"
   ]
  },
  {
   "cell_type": "markdown",
   "id": "880e89f1",
   "metadata": {},
   "source": [
    "### 특정 노드의 전체 속성 값 출력"
   ]
  },
  {
   "cell_type": "code",
   "execution_count": 7,
   "id": "62cf5f0e",
   "metadata": {},
   "outputs": [
    {
     "name": "stdout",
     "output_type": "stream",
     "text": [
      "20120104\n",
      "gmail\n"
     ]
    }
   ],
   "source": [
    "# note.keys() => 현재 노드의 모든 속성 이름을 반환.\n",
    "for key in note.keys():\n",
    "    print(note.get(key))"
   ]
  },
  {
   "cell_type": "markdown",
   "id": "173544d7",
   "metadata": {},
   "source": [
    "### 특정 노드 직접 검색"
   ]
  },
  {
   "cell_type": "code",
   "execution_count": 13,
   "id": "7e9e58ae",
   "metadata": {},
   "outputs": [
    {
     "data": {
      "text/plain": [
       "'Jani'"
      ]
     },
     "execution_count": 13,
     "metadata": {},
     "output_type": "execute_result"
    }
   ],
   "source": [
    "from_tag = note.find(\"from\")\n",
    "from_tag.text"
   ]
  },
  {
   "cell_type": "code",
   "execution_count": 15,
   "id": "a753bef5",
   "metadata": {},
   "outputs": [
    {
     "data": {
      "text/plain": [
       "'Jani'"
      ]
     },
     "execution_count": 15,
     "metadata": {},
     "output_type": "execute_result"
    }
   ],
   "source": [
    "note.find(\"from\").text"
   ]
  },
  {
   "cell_type": "markdown",
   "id": "a362b14f",
   "metadata": {},
   "source": [
    "### 모든 자식 노드의 값 접근"
   ]
  },
  {
   "cell_type": "code",
   "execution_count": 9,
   "id": "46e2478a",
   "metadata": {},
   "outputs": [
    {
     "name": "stdout",
     "output_type": "stream",
     "text": [
      "<note date=\"20120104\" method=\"gmail\">\n",
      " <to>Tove</to>\n",
      " <from>Jani</from>\n",
      " <heading>Reminder</heading>\n",
      " <body>Don't forget me this weekend!</body>\n",
      "</note>\n"
     ]
    }
   ],
   "source": [
    "dump(note)"
   ]
  },
  {
   "cell_type": "code",
   "execution_count": 10,
   "id": "5b84d388",
   "metadata": {},
   "outputs": [
    {
     "name": "stdout",
     "output_type": "stream",
     "text": [
      "Tove\n",
      "Jani\n",
      "Reminder\n",
      "Don't forget me this weekend!\n"
     ]
    }
   ],
   "source": [
    "# 현재 부모노드를 기준으로해서 자식노드를 순서대로 보여준다.\n",
    "for parent in tree.iter():\n",
    "    for child in parent:\n",
    "        print(child.text)"
   ]
  },
  {
   "cell_type": "markdown",
   "id": "2310d42b",
   "metadata": {},
   "source": [
    "### 특정 태그 자식 노드 접근"
   ]
  },
  {
   "cell_type": "code",
   "execution_count": 14,
   "id": "27e4d5b2",
   "metadata": {},
   "outputs": [
    {
     "name": "stdout",
     "output_type": "stream",
     "text": [
      "Jani\n"
     ]
    }
   ],
   "source": [
    "for child in note.iter(\"from\"):\n",
    "    print(child.text)"
   ]
  },
  {
   "cell_type": "code",
   "execution_count": null,
   "id": "2a877c37",
   "metadata": {},
   "outputs": [],
   "source": []
  }
 ],
 "metadata": {
  "kernelspec": {
   "display_name": "Python 3 (ipykernel)",
   "language": "python",
   "name": "python3"
  },
  "language_info": {
   "codemirror_mode": {
    "name": "ipython",
    "version": 3
   },
   "file_extension": ".py",
   "mimetype": "text/x-python",
   "name": "python",
   "nbconvert_exporter": "python",
   "pygments_lexer": "ipython3",
   "version": "3.9.13"
  }
 },
 "nbformat": 4,
 "nbformat_minor": 5
}
