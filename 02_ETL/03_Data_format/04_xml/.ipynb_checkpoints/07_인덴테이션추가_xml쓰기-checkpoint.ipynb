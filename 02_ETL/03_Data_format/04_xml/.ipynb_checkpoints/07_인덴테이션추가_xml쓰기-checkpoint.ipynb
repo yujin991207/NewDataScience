{
 "cells": [
  {
   "cell_type": "code",
   "execution_count": 1,
   "id": "35177606",
   "metadata": {},
   "outputs": [],
   "source": [
    "from xml.etree.ElementTree import Element,dump,SubElement,ElementTree"
   ]
  },
  {
   "cell_type": "code",
   "execution_count": null,
   "id": "72774fcd",
   "metadata": {},
   "outputs": [],
   "source": []
  },
  {
   "cell_type": "code",
   "execution_count": 2,
   "id": "0245a8a9",
   "metadata": {},
   "outputs": [],
   "source": [
    "# 공백을 띄우기위한 함수이다.\n",
    "def indent(elem, level=0):\n",
    "    i = \"\\n\"+level*\" \"\n",
    "    if len(elem):\n",
    "        if not elem.text or not elem.text.strip():\n",
    "            elem.text = i+\" \"\n",
    "        if not elem.tail or not elem.tail.strip():\n",
    "            elem.tail = i\n",
    "        for elem in elem:\n",
    "            indent(elem, level+1)\n",
    "        if not elem.tail or not elem.tail.strip():\n",
    "            elem.tail = i\n",
    "    else:\n",
    "        if level and (not elem.tail or not elem.tail.strip()):\n",
    "            elem.tail = i"
   ]
  },
  {
   "cell_type": "code",
   "execution_count": 3,
   "id": "792a8942",
   "metadata": {},
   "outputs": [
    {
     "name": "stdout",
     "output_type": "stream",
     "text": [
      "<note date=\"20120104\"><to>Tove</to><from>Jani</from><heading>Reminder</heading><body>Don't forget me this weekend!</body></note>\n"
     ]
    }
   ],
   "source": [
    "note = Element(\"note\")\n",
    "to = Element(\"to\")\n",
    "to.text = \"Tove\"\n",
    "\n",
    "note.append(to)\n",
    "\n",
    "SubElement(note,\"from\").text = \"Jani\"\n",
    "\n",
    "dummy = Element(\"dummy\")\n",
    "note.insert(1,dummy)\n",
    "note.remove(dummy)\n",
    "\n",
    "note.attrib[\"date\"]=\"20120104\"\n",
    "\n",
    "SubElement(note,\"heading\").text = \"Reminder\"\n",
    "SubElement(note,\"body\").text = \"Don't forget me this weekend!\"\n",
    "dump(note)"
   ]
  },
  {
   "cell_type": "code",
   "execution_count": 4,
   "id": "83a0af24",
   "metadata": {},
   "outputs": [
    {
     "name": "stdout",
     "output_type": "stream",
     "text": [
      "<note date=\"20120104\">\n",
      " <to>Tove</to>\n",
      " <from>Jani</from>\n",
      " <heading>Reminder</heading>\n",
      " <body>Don't forget me this weekend!</body>\n",
      "</note>\n"
     ]
    }
   ],
   "source": [
    "indent(note)\n",
    "dump(note)"
   ]
  },
  {
   "cell_type": "code",
   "execution_count": 5,
   "id": "c2a064ef",
   "metadata": {},
   "outputs": [],
   "source": [
    "ElementTree(note).write(\"note.xml\")"
   ]
  }
 ],
 "metadata": {
  "kernelspec": {
   "display_name": "Python 3 (ipykernel)",
   "language": "python",
   "name": "python3"
  },
  "language_info": {
   "codemirror_mode": {
    "name": "ipython",
    "version": 3
   },
   "file_extension": ".py",
   "mimetype": "text/x-python",
   "name": "python",
   "nbconvert_exporter": "python",
   "pygments_lexer": "ipython3",
   "version": "3.9.13"
  }
 },
 "nbformat": 4,
 "nbformat_minor": 5
}
