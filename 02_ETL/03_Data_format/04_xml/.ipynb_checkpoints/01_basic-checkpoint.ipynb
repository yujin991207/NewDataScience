{
 "cells": [
  {
   "cell_type": "markdown",
   "id": "19a78138",
   "metadata": {},
   "source": [
    "# XML 구조"
   ]
  },
  {
   "cell_type": "raw",
   "id": "a89292d2",
   "metadata": {},
   "source": [
    "<note date=\"20190722\" method=\"gmail\">             <= 노드 중 최상의 노드\n",
    " \t<to>Tove</to>                                 <= 자식 노드\n",
    " \t<from>Jani</from>                             <= <from name=\"Jani/> 다음과 같이 속성으로 표현 할 수 있음\n",
    " \t<heading>Reminder</heading>\n",
    " \t<Body>Don't forget me this weekend!</body>\n",
    "</note>\n"
   ]
  },
  {
   "cell_type": "markdown",
   "id": "09db2fb2",
   "metadata": {},
   "source": [
    "# 노드 추가"
   ]
  },
  {
   "cell_type": "code",
   "execution_count": 2,
   "id": "3e1cc69d",
   "metadata": {},
   "outputs": [],
   "source": [
    "from xml.etree.ElementTree import Element,dump"
   ]
  },
  {
   "cell_type": "code",
   "execution_count": 3,
   "id": "2fb81f47",
   "metadata": {},
   "outputs": [
    {
     "data": {
      "text/plain": [
       "<Element 'note' at 0x0000027065D25BD0>"
      ]
     },
     "execution_count": 3,
     "metadata": {},
     "output_type": "execute_result"
    }
   ],
   "source": [
    "note = Element('note')\n",
    "note"
   ]
  },
  {
   "cell_type": "code",
   "execution_count": 4,
   "id": "d9ef30f2",
   "metadata": {},
   "outputs": [
    {
     "name": "stdout",
     "output_type": "stream",
     "text": [
      "<note />\n"
     ]
    }
   ],
   "source": [
    "dump(note)"
   ]
  },
  {
   "cell_type": "code",
   "execution_count": 5,
   "id": "e5cb8e81",
   "metadata": {},
   "outputs": [
    {
     "name": "stdout",
     "output_type": "stream",
     "text": [
      "<to />\n"
     ]
    }
   ],
   "source": [
    "to = Element('to') #자식 노드\n",
    "dump(to)"
   ]
  },
  {
   "cell_type": "code",
   "execution_count": 6,
   "id": "215a28bb",
   "metadata": {},
   "outputs": [
    {
     "name": "stdout",
     "output_type": "stream",
     "text": [
      "<to>Tove</to>\n"
     ]
    }
   ],
   "source": [
    "to.text =\"Tove\" #현재 엘리먼트(Tag)에 값 추가\n",
    "dump(to)"
   ]
  },
  {
   "cell_type": "code",
   "execution_count": 8,
   "id": "3c9600db",
   "metadata": {},
   "outputs": [
    {
     "name": "stdout",
     "output_type": "stream",
     "text": [
      "<note><to>Tove</to><to>Tove</to></note>\n"
     ]
    }
   ],
   "source": [
    "note.append(to) #부모 노드에 자식노드 추가\n",
    "dump(note)"
   ]
  },
  {
   "cell_type": "code",
   "execution_count": null,
   "id": "08c3803c",
   "metadata": {},
   "outputs": [],
   "source": []
  },
  {
   "cell_type": "code",
   "execution_count": null,
   "id": "889fccad",
   "metadata": {},
   "outputs": [],
   "source": []
  }
 ],
 "metadata": {
  "kernelspec": {
   "display_name": "Python 3 (ipykernel)",
   "language": "python",
   "name": "python3"
  },
  "language_info": {
   "codemirror_mode": {
    "name": "ipython",
    "version": 3
   },
   "file_extension": ".py",
   "mimetype": "text/x-python",
   "name": "python",
   "nbconvert_exporter": "python",
   "pygments_lexer": "ipython3",
   "version": "3.9.13"
  }
 },
 "nbformat": 4,
 "nbformat_minor": 5
}
