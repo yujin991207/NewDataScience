{
 "cells": [
  {
   "cell_type": "code",
   "execution_count": 10,
   "id": "19e9042f",
   "metadata": {},
   "outputs": [
    {
     "name": "stdout",
     "output_type": "stream",
     "text": [
      "<note><to>Tove</to><from>Jani</from></note>\n"
     ]
    }
   ],
   "source": [
    "from xml.etree.ElementTree import Element,dump, SubElement\n",
    "\n",
    "note = Element('note')\n",
    "\n",
    "to = Element('to')\n",
    "to.text =\"Tove\"\n",
    "note.append(to)\n",
    "\n",
    "SubElement(note,\"from\").text=\"Jani\" #SubElement를 활용하여 자식 노드 추가\n",
    "dump(note)"
   ]
  },
  {
   "cell_type": "code",
   "execution_count": 11,
   "id": "30ad318a",
   "metadata": {},
   "outputs": [
    {
     "name": "stdout",
     "output_type": "stream",
     "text": [
      "<note><dummy /><to>Tove</to><from>Jani</from></note>\n"
     ]
    }
   ],
   "source": [
    "dummy = Element(\"dummy\")\n",
    "# 부모노드.insert([삽입할 위치],[자식노드])\n",
    "note.insert(0,dummy)\n",
    "dump(note)"
   ]
  },
  {
   "cell_type": "code",
   "execution_count": 12,
   "id": "d1c654c1",
   "metadata": {},
   "outputs": [
    {
     "name": "stdout",
     "output_type": "stream",
     "text": [
      "<note><to>Tove</to><from>Jani</from></note>\n"
     ]
    }
   ],
   "source": [
    "note.remove(dummy) #부모 노드에 있는 자식 노드를 인자로 넘겨줘야한다.\n",
    "dump(note)"
   ]
  },
  {
   "cell_type": "code",
   "execution_count": 13,
   "id": "61229152",
   "metadata": {},
   "outputs": [
    {
     "name": "stdout",
     "output_type": "stream",
     "text": [
      "<note><to>Tove</to><from>Jani</from><dummy /></note>\n"
     ]
    }
   ],
   "source": [
    "dummy = Element(\"dummy\")\n",
    "note.insert(2,dummy)\n",
    "dump(note)"
   ]
  },
  {
   "cell_type": "code",
   "execution_count": 14,
   "id": "8a19b3f3",
   "metadata": {},
   "outputs": [
    {
     "name": "stdout",
     "output_type": "stream",
     "text": [
      "<note><to>Tove</to><from>Jani</from></note>\n"
     ]
    }
   ],
   "source": [
    "note.remove(dummy) #부모 노드에 있는 자식 노드를 인자로 넘겨줘야한다.\n",
    "dump(note)"
   ]
  },
  {
   "cell_type": "code",
   "execution_count": null,
   "id": "54e272d7",
   "metadata": {},
   "outputs": [],
   "source": []
  }
 ],
 "metadata": {
  "kernelspec": {
   "display_name": "Python 3 (ipykernel)",
   "language": "python",
   "name": "python3"
  },
  "language_info": {
   "codemirror_mode": {
    "name": "ipython",
    "version": 3
   },
   "file_extension": ".py",
   "mimetype": "text/x-python",
   "name": "python",
   "nbconvert_exporter": "python",
   "pygments_lexer": "ipython3",
   "version": "3.9.13"
  }
 },
 "nbformat": 4,
 "nbformat_minor": 5
}
