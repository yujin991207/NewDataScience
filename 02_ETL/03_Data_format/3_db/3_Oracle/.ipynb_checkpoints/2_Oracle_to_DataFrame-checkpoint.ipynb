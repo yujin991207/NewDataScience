{
 "cells": [
  {
   "cell_type": "code",
   "execution_count": 1,
   "id": "70c00776",
   "metadata": {},
   "outputs": [],
   "source": [
    "import cx_Oracle\n",
    "import pandas as pd"
   ]
  },
  {
   "cell_type": "code",
   "execution_count": 2,
   "id": "88c0fddf",
   "metadata": {},
   "outputs": [
    {
     "data": {
      "text/plain": [
       "<cx_Oracle.Cursor on <cx_Oracle.Connection to open_source@localhost:1521/xe>>"
      ]
     },
     "execution_count": 2,
     "metadata": {},
     "output_type": "execute_result"
    }
   ],
   "source": [
    "conn = cx_Oracle.connect('open_source/1111@localhost:1521/xe')\n",
    "cur = conn.cursor()\n",
    "cur.execute(\"\"\"\n",
    "SELECT column_name from cols\n",
    "where table_name = 'MUSEUM'\n",
    "\"\"\")"
   ]
  },
  {
   "cell_type": "code",
   "execution_count": 3,
   "id": "7f8a9589",
   "metadata": {},
   "outputs": [
    {
     "data": {
      "text/plain": [
       "['시설명',\n",
       " '박물관미술관구분',\n",
       " '소재지도로명주소',\n",
       " '위도',\n",
       " '경도',\n",
       " '운영기관명',\n",
       " '편의시설정보',\n",
       " '어른관람료',\n",
       " '청소년관람료',\n",
       " '어린이관람료',\n",
       " '제공기관코드']"
      ]
     },
     "execution_count": 3,
     "metadata": {},
     "output_type": "execute_result"
    }
   ],
   "source": [
    "column_list = [record[0] for record in cur]\n",
    "column_list"
   ]
  },
  {
   "cell_type": "code",
   "execution_count": 6,
   "id": "dc2d8a0d",
   "metadata": {},
   "outputs": [
    {
     "data": {
      "text/html": [
       "<div>\n",
       "<style scoped>\n",
       "    .dataframe tbody tr th:only-of-type {\n",
       "        vertical-align: middle;\n",
       "    }\n",
       "\n",
       "    .dataframe tbody tr th {\n",
       "        vertical-align: top;\n",
       "    }\n",
       "\n",
       "    .dataframe thead th {\n",
       "        text-align: right;\n",
       "    }\n",
       "</style>\n",
       "<table border=\"1\" class=\"dataframe\">\n",
       "  <thead>\n",
       "    <tr style=\"text-align: right;\">\n",
       "      <th></th>\n",
       "      <th>시설명</th>\n",
       "      <th>박물관미술관구분</th>\n",
       "      <th>소재지도로명주소</th>\n",
       "      <th>위도</th>\n",
       "      <th>경도</th>\n",
       "      <th>운영기관명</th>\n",
       "      <th>편의시설정보</th>\n",
       "      <th>어른관람료</th>\n",
       "      <th>청소년관람료</th>\n",
       "      <th>어린이관람료</th>\n",
       "      <th>제공기관코드</th>\n",
       "    </tr>\n",
       "  </thead>\n",
       "  <tbody>\n",
       "    <tr>\n",
       "      <th>0</th>\n",
       "      <td>김영갑갤러리 (두모악)</td>\n",
       "      <td>사립</td>\n",
       "      <td>제주특별자치도 서귀포시 성산읍 삼달로 137</td>\n",
       "      <td>33.372368</td>\n",
       "      <td>126.854246</td>\n",
       "      <td>두모악</td>\n",
       "      <td>None</td>\n",
       "      <td>4500</td>\n",
       "      <td>3000</td>\n",
       "      <td>1500</td>\n",
       "      <td>6500000</td>\n",
       "    </tr>\n",
       "    <tr>\n",
       "      <th>1</th>\n",
       "      <td>자연사랑 미술관</td>\n",
       "      <td>사립</td>\n",
       "      <td>제주특별자치도 서귀포시 표선면 가시로613번길 46</td>\n",
       "      <td>33.355650</td>\n",
       "      <td>126.771933</td>\n",
       "      <td>자연사랑</td>\n",
       "      <td>None</td>\n",
       "      <td>3000</td>\n",
       "      <td>1000</td>\n",
       "      <td>0</td>\n",
       "      <td>6500000</td>\n",
       "    </tr>\n",
       "    <tr>\n",
       "      <th>2</th>\n",
       "      <td>제주 현대미술관</td>\n",
       "      <td>공립</td>\n",
       "      <td>제주특별자치도 제주시 한경면 저지14길 35</td>\n",
       "      <td>33.339693</td>\n",
       "      <td>126.265692</td>\n",
       "      <td>제주 현대미술관</td>\n",
       "      <td>None</td>\n",
       "      <td>2000</td>\n",
       "      <td>1000</td>\n",
       "      <td>500</td>\n",
       "      <td>6500000</td>\n",
       "    </tr>\n",
       "    <tr>\n",
       "      <th>3</th>\n",
       "      <td>돌하르방미술관</td>\n",
       "      <td>사립</td>\n",
       "      <td>제주특별자치도 제주시 조천읍 북촌서1길 70</td>\n",
       "      <td>33.538848</td>\n",
       "      <td>126.688812</td>\n",
       "      <td>북촌돌하르방공원</td>\n",
       "      <td>None</td>\n",
       "      <td>7000</td>\n",
       "      <td>5000</td>\n",
       "      <td>0</td>\n",
       "      <td>6500000</td>\n",
       "    </tr>\n",
       "    <tr>\n",
       "      <th>4</th>\n",
       "      <td>제주조각공원</td>\n",
       "      <td>사립</td>\n",
       "      <td>제주특별자치도 서귀포시 안덕면 일주서로 1836</td>\n",
       "      <td>33.254130</td>\n",
       "      <td>126.322287</td>\n",
       "      <td>제주조각공원</td>\n",
       "      <td>None</td>\n",
       "      <td>8000</td>\n",
       "      <td>6000</td>\n",
       "      <td>5000</td>\n",
       "      <td>6500000</td>\n",
       "    </tr>\n",
       "  </tbody>\n",
       "</table>\n",
       "</div>"
      ],
      "text/plain": [
       "            시설명 박물관미술관구분                      소재지도로명주소         위도          경도  \\\n",
       "0  김영갑갤러리 (두모악)       사립      제주특별자치도 서귀포시 성산읍 삼달로 137  33.372368  126.854246   \n",
       "1      자연사랑 미술관       사립  제주특별자치도 서귀포시 표선면 가시로613번길 46  33.355650  126.771933   \n",
       "2      제주 현대미술관       공립      제주특별자치도 제주시 한경면 저지14길 35  33.339693  126.265692   \n",
       "3       돌하르방미술관       사립      제주특별자치도 제주시 조천읍 북촌서1길 70  33.538848  126.688812   \n",
       "4        제주조각공원       사립    제주특별자치도 서귀포시 안덕면 일주서로 1836  33.254130  126.322287   \n",
       "\n",
       "      운영기관명 편의시설정보  어른관람료  청소년관람료  어린이관람료   제공기관코드  \n",
       "0       두모악   None   4500    3000    1500  6500000  \n",
       "1      자연사랑   None   3000    1000       0  6500000  \n",
       "2  제주 현대미술관   None   2000    1000     500  6500000  \n",
       "3  북촌돌하르방공원   None   7000    5000       0  6500000  \n",
       "4    제주조각공원   None   8000    6000    5000  6500000  "
      ]
     },
     "execution_count": 6,
     "metadata": {},
     "output_type": "execute_result"
    }
   ],
   "source": [
    "cur.execute('select * from museum')\n",
    "df = pd.DataFrame(cur, columns=column_list)\n",
    "df.head()"
   ]
  },
  {
   "cell_type": "code",
   "execution_count": 8,
   "id": "04c94cf6",
   "metadata": {},
   "outputs": [
    {
     "name": "stdout",
     "output_type": "stream",
     "text": [
      "<class 'pandas.core.frame.DataFrame'>\n",
      "RangeIndex: 2079 entries, 0 to 2078\n",
      "Data columns (total 11 columns):\n",
      " #   Column    Non-Null Count  Dtype  \n",
      "---  ------    --------------  -----  \n",
      " 0   시설명       2079 non-null   object \n",
      " 1   박물관미술관구분  2079 non-null   object \n",
      " 2   소재지도로명주소  2078 non-null   object \n",
      " 3   위도        2079 non-null   float64\n",
      " 4   경도        2078 non-null   float64\n",
      " 5   운영기관명     2079 non-null   object \n",
      " 6   편의시설정보    404 non-null    object \n",
      " 7   어른관람료     2079 non-null   int64  \n",
      " 8   청소년관람료    2079 non-null   int64  \n",
      " 9   어린이관람료    2079 non-null   int64  \n",
      " 10  제공기관코드    2079 non-null   object \n",
      "dtypes: float64(2), int64(3), object(6)\n",
      "memory usage: 1.1 MB\n"
     ]
    }
   ],
   "source": [
    "df.info(memory_usage=\"deep\")"
   ]
  },
  {
   "cell_type": "code",
   "execution_count": 7,
   "id": "338aff64",
   "metadata": {},
   "outputs": [
    {
     "data": {
      "text/plain": [
       "Index          128\n",
       "시설명         203614\n",
       "박물관미술관구분    178794\n",
       "소재지도로명주소    256286\n",
       "위도           16632\n",
       "경도           16632\n",
       "운영기관명       202371\n",
       "편의시설정보       83392\n",
       "어른관람료        16632\n",
       "청소년관람료       16632\n",
       "어린이관람료       16632\n",
       "제공기관코드      133056\n",
       "dtype: int64"
      ]
     },
     "execution_count": 7,
     "metadata": {},
     "output_type": "execute_result"
    }
   ],
   "source": [
    "df.memory_usage(deep=True)"
   ]
  },
  {
   "cell_type": "code",
   "execution_count": 9,
   "id": "352eb4c7",
   "metadata": {},
   "outputs": [],
   "source": [
    "del df"
   ]
  },
  {
   "cell_type": "code",
   "execution_count": null,
   "id": "2a2db26e",
   "metadata": {},
   "outputs": [],
   "source": []
  },
  {
   "cell_type": "markdown",
   "id": "8e4de080",
   "metadata": {},
   "source": [
    "---"
   ]
  },
  {
   "cell_type": "markdown",
   "id": "549eb27e",
   "metadata": {},
   "source": [
    "## Selection and Projection Query"
   ]
  },
  {
   "cell_type": "code",
   "execution_count": 11,
   "id": "079c5df5",
   "metadata": {},
   "outputs": [
    {
     "data": {
      "text/plain": [
       "<cx_Oracle.Cursor on <cx_Oracle.Connection to open_source@localhost:1521/xe>>"
      ]
     },
     "execution_count": 11,
     "metadata": {},
     "output_type": "execute_result"
    }
   ],
   "source": [
    "cur.execute(\"\"\"\n",
    "SELECT 시설명, 박물관미술관구분,청소년관람료\n",
    "from museum\n",
    "where 청소년관람료 > 1500\n",
    "\"\"\")"
   ]
  },
  {
   "cell_type": "code",
   "execution_count": 12,
   "id": "74aaa9bf",
   "metadata": {},
   "outputs": [
    {
     "name": "stdout",
     "output_type": "stream",
     "text": [
      "Selection and Projection Query\n"
     ]
    },
    {
     "data": {
      "text/html": [
       "<div>\n",
       "<style scoped>\n",
       "    .dataframe tbody tr th:only-of-type {\n",
       "        vertical-align: middle;\n",
       "    }\n",
       "\n",
       "    .dataframe tbody tr th {\n",
       "        vertical-align: top;\n",
       "    }\n",
       "\n",
       "    .dataframe thead th {\n",
       "        text-align: right;\n",
       "    }\n",
       "</style>\n",
       "<table border=\"1\" class=\"dataframe\">\n",
       "  <thead>\n",
       "    <tr style=\"text-align: right;\">\n",
       "      <th></th>\n",
       "      <th>시설명</th>\n",
       "      <th>박물관미술관구분</th>\n",
       "      <th>청소년관람료</th>\n",
       "    </tr>\n",
       "  </thead>\n",
       "  <tbody>\n",
       "    <tr>\n",
       "      <th>0</th>\n",
       "      <td>김영갑갤러리 (두모악)</td>\n",
       "      <td>사립</td>\n",
       "      <td>3000</td>\n",
       "    </tr>\n",
       "    <tr>\n",
       "      <th>1</th>\n",
       "      <td>돌하르방미술관</td>\n",
       "      <td>사립</td>\n",
       "      <td>5000</td>\n",
       "    </tr>\n",
       "    <tr>\n",
       "      <th>2</th>\n",
       "      <td>제주조각공원</td>\n",
       "      <td>사립</td>\n",
       "      <td>6000</td>\n",
       "    </tr>\n",
       "    <tr>\n",
       "      <th>3</th>\n",
       "      <td>제주 유리의 성</td>\n",
       "      <td>사립</td>\n",
       "      <td>9000</td>\n",
       "    </tr>\n",
       "    <tr>\n",
       "      <th>4</th>\n",
       "      <td>박물관은살아있다</td>\n",
       "      <td>사립</td>\n",
       "      <td>13000</td>\n",
       "    </tr>\n",
       "  </tbody>\n",
       "</table>\n",
       "</div>"
      ],
      "text/plain": [
       "            시설명 박물관미술관구분  청소년관람료\n",
       "0  김영갑갤러리 (두모악)       사립    3000\n",
       "1       돌하르방미술관       사립    5000\n",
       "2        제주조각공원       사립    6000\n",
       "3      제주 유리의 성       사립    9000\n",
       "4      박물관은살아있다       사립   13000"
      ]
     },
     "execution_count": 12,
     "metadata": {},
     "output_type": "execute_result"
    }
   ],
   "source": [
    "print(\"Selection and Projection Query\")\n",
    "df = pd.DataFrame(cur, columns=['시설명', '박물관미술관구분','청소년관람료'])\n",
    "df.head()"
   ]
  },
  {
   "cell_type": "code",
   "execution_count": 13,
   "id": "5c29b14b",
   "metadata": {},
   "outputs": [
    {
     "name": "stdout",
     "output_type": "stream",
     "text": [
      "<class 'pandas.core.frame.DataFrame'>\n",
      "RangeIndex: 562 entries, 0 to 561\n",
      "Data columns (total 3 columns):\n",
      " #   Column    Non-Null Count  Dtype \n",
      "---  ------    --------------  ----- \n",
      " 0   시설명       562 non-null    object\n",
      " 1   박물관미술관구분  562 non-null    object\n",
      " 2   청소년관람료    562 non-null    int64 \n",
      "dtypes: int64(1), object(2)\n",
      "memory usage: 105.3 KB\n"
     ]
    }
   ],
   "source": [
    "df.info(memory_usage=\"deep\")"
   ]
  },
  {
   "cell_type": "code",
   "execution_count": null,
   "id": "a965b09a",
   "metadata": {},
   "outputs": [],
   "source": []
  }
 ],
 "metadata": {
  "kernelspec": {
   "display_name": "Python 3 (ipykernel)",
   "language": "python",
   "name": "python3"
  },
  "language_info": {
   "codemirror_mode": {
    "name": "ipython",
    "version": 3
   },
   "file_extension": ".py",
   "mimetype": "text/x-python",
   "name": "python",
   "nbconvert_exporter": "python",
   "pygments_lexer": "ipython3",
   "version": "3.9.13"
  }
 },
 "nbformat": 4,
 "nbformat_minor": 5
}
