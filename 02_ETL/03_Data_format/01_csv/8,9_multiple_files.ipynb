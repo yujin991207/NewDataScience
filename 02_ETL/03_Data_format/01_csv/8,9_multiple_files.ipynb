{
 "cells": [
  {
   "cell_type": "code",
   "execution_count": 5,
   "id": "96d200c3",
   "metadata": {},
   "outputs": [],
   "source": [
    "import pandas as pd\n",
    "import csv\n",
    "import glob\n",
    "import os\n",
    "\n",
    "input_path = ''\n",
    "output_file = 'output_files/9output_pandas.csv'\n",
    "\n",
    "# pandas에서 분산파일을 읽거나 쓰기 위한 라이브러리는 특별히 제공되지 않는다.\n",
    "all_files = glob.glob(os.path.join(input_path,'sales_*'))\n",
    "\n",
    "all_data_frames = []\n",
    "for file in all_files:\n",
    "    data_frame = pd.read_csv(file, index_col=None)\n",
    "    all_data_frames.append(data_frame)\n",
    "# axix=0 는 행단위로 concat\n",
    "# axix=1 은 열단위로 concat\n",
    "data_frame_concat = pd.concat(all_data_frames, axis=0, ignore_index=True)\n",
    "\n",
    "data_frame_concat.to_csv(output_file, index = False)\n",
    "\n"
   ]
  }
 ],
 "metadata": {
  "kernelspec": {
   "display_name": "Python 3 (ipykernel)",
   "language": "python",
   "name": "python3"
  },
  "language_info": {
   "codemirror_mode": {
    "name": "ipython",
    "version": 3
   },
   "file_extension": ".py",
   "mimetype": "text/x-python",
   "name": "python",
   "nbconvert_exporter": "python",
   "pygments_lexer": "ipython3",
   "version": "3.9.13"
  }
 },
 "nbformat": 4,
 "nbformat_minor": 5
}
