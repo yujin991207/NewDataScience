{
 "cells": [
  {
   "cell_type": "code",
   "execution_count": 1,
   "id": "bb88c202",
   "metadata": {},
   "outputs": [],
   "source": [
    "import pandas as pd\n",
    "import csv\n",
    "\n",
    "input_file = 'supplier_data_no_header_row.csv'\n",
    "output_file = 'output_files/12output_basic_pandas.csv'\n",
    "\n",
    "header_list = ['Supplier Name', 'Invoice Number', \\\n",
    "'Part Number', 'Cost', 'Purchase Date']\n",
    "\n",
    "data_frame = pd.read_csv(input_file, header=None, names=header_list)\n",
    "\n",
    "data_frame.to_csv(output_file, index=False)"
   ]
  }
 ],
 "metadata": {
  "kernelspec": {
   "display_name": "Python 3 (ipykernel)",
   "language": "python",
   "name": "python3"
  },
  "language_info": {
   "codemirror_mode": {
    "name": "ipython",
    "version": 3
   },
   "file_extension": ".py",
   "mimetype": "text/x-python",
   "name": "python",
   "nbconvert_exporter": "python",
   "pygments_lexer": "ipython3",
   "version": "3.9.13"
  }
 },
 "nbformat": 4,
 "nbformat_minor": 5
}
