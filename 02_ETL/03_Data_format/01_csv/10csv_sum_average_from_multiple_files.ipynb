{
 "cells": [
  {
   "cell_type": "code",
   "execution_count": 52,
   "id": "edb1a9ae",
   "metadata": {},
   "outputs": [
    {
     "data": {
      "text/html": [
       "<div>\n",
       "<style scoped>\n",
       "    .dataframe tbody tr th:only-of-type {\n",
       "        vertical-align: middle;\n",
       "    }\n",
       "\n",
       "    .dataframe tbody tr th {\n",
       "        vertical-align: top;\n",
       "    }\n",
       "\n",
       "    .dataframe thead th {\n",
       "        text-align: right;\n",
       "    }\n",
       "</style>\n",
       "<table border=\"1\" class=\"dataframe\">\n",
       "  <thead>\n",
       "    <tr style=\"text-align: right;\">\n",
       "      <th></th>\n",
       "      <th>file_name</th>\n",
       "      <th>total_sales</th>\n",
       "      <th>average_sales</th>\n",
       "    </tr>\n",
       "  </thead>\n",
       "  <tbody>\n",
       "    <tr>\n",
       "      <th>0</th>\n",
       "      <td>sales_february_2014.csv</td>\n",
       "      <td>9375.0</td>\n",
       "      <td>1562.500000</td>\n",
       "    </tr>\n",
       "    <tr>\n",
       "      <th>0</th>\n",
       "      <td>sales_january_2014.csv</td>\n",
       "      <td>8992.0</td>\n",
       "      <td>1498.666667</td>\n",
       "    </tr>\n",
       "    <tr>\n",
       "      <th>0</th>\n",
       "      <td>sales_march_2014.csv</td>\n",
       "      <td>10139.0</td>\n",
       "      <td>1689.833333</td>\n",
       "    </tr>\n",
       "  </tbody>\n",
       "</table>\n",
       "</div>"
      ],
      "text/plain": [
       "                 file_name  total_sales  average_sales\n",
       "0  sales_february_2014.csv       9375.0    1562.500000\n",
       "0   sales_january_2014.csv       8992.0    1498.666667\n",
       "0     sales_march_2014.csv      10139.0    1689.833333"
      ]
     },
     "execution_count": 52,
     "metadata": {},
     "output_type": "execute_result"
    }
   ],
   "source": [
    "import pandas as pd\n",
    "import csv\n",
    "import glob\n",
    "import os\n",
    "\n",
    "input_path = '.'\n",
    "output_file = 'output_files/10output_basic_pandas.csv'\n",
    "\n",
    "files_list = []\n",
    "all_files = glob.glob(os.path.join(input_path,'sales_*'))\n",
    "\n",
    "for file in all_files:\n",
    "    data = pd.read_csv(file)\n",
    "    \n",
    "    total_sales = pd.DataFrame([float((value).strip('$').replace(',',''))\n",
    "                                for value in data.loc[:,'Sale Amount']]).sum()\n",
    "    \n",
    "    average_sales = pd.DataFrame([float((value).strip('$').replace(',',''))\n",
    "                                for value in data.loc[:,'Sale Amount']]).mean()\n",
    "\n",
    "    data = {'file_name':os.path.basename(file), \n",
    "            'total_sales':total_sales, \n",
    "            'average_sales':average_sales}\n",
    "\n",
    "    files_list.append(pd.DataFrame(data, columns=['file_name', 'total_sales', 'average_sales']))\n",
    "\n",
    "data_concat = pd.concat(files_list, axis=0)\n",
    "data_concat.to_csv(output_file, index = False)\n",
    "\n",
    "data_concat"
   ]
  }
 ],
 "metadata": {
  "kernelspec": {
   "display_name": "Python 3 (ipykernel)",
   "language": "python",
   "name": "python3"
  },
  "language_info": {
   "codemirror_mode": {
    "name": "ipython",
    "version": 3
   },
   "file_extension": ".py",
   "mimetype": "text/x-python",
   "name": "python",
   "nbconvert_exporter": "python",
   "pygments_lexer": "ipython3",
   "version": "3.9.13"
  }
 },
 "nbformat": 4,
 "nbformat_minor": 5
}
