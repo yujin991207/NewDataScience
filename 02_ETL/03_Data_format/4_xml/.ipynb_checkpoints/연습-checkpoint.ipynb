{
 "cells": [
  {
   "cell_type": "code",
   "execution_count": 1,
   "id": "b67b007e",
   "metadata": {},
   "outputs": [],
   "source": [
    "from xml.etree.ElementTree import Element,dump"
   ]
  },
  {
   "cell_type": "code",
   "execution_count": 2,
   "id": "beed417d",
   "metadata": {},
   "outputs": [
    {
     "data": {
      "text/plain": [
       "<Element 'a' at 0x000001CB7108F680>"
      ]
     },
     "execution_count": 2,
     "metadata": {},
     "output_type": "execute_result"
    }
   ],
   "source": [
    "a = Element('a')\n",
    "a"
   ]
  },
  {
   "cell_type": "code",
   "execution_count": 3,
   "id": "69ec31fe",
   "metadata": {},
   "outputs": [
    {
     "name": "stdout",
     "output_type": "stream",
     "text": [
      "<a />\n"
     ]
    }
   ],
   "source": [
    "dump(a)"
   ]
  },
  {
   "cell_type": "code",
   "execution_count": 4,
   "id": "34f5c9bd",
   "metadata": {},
   "outputs": [
    {
     "name": "stdout",
     "output_type": "stream",
     "text": [
      "<aa />\n"
     ]
    }
   ],
   "source": [
    "aa = Element('aa')\n",
    "dump(aa)"
   ]
  },
  {
   "cell_type": "code",
   "execution_count": 5,
   "id": "c31b40de",
   "metadata": {},
   "outputs": [
    {
     "name": "stdout",
     "output_type": "stream",
     "text": [
      "<aa>Hi</aa>\n"
     ]
    }
   ],
   "source": [
    "aa.text = \"Hi\"\n",
    "dump(aa)"
   ]
  },
  {
   "cell_type": "code",
   "execution_count": 6,
   "id": "c208673f",
   "metadata": {
    "scrolled": true
   },
   "outputs": [
    {
     "name": "stdout",
     "output_type": "stream",
     "text": [
      "<a><aa>Hi</aa></a>\n"
     ]
    }
   ],
   "source": [
    "a.append(aa)\n",
    "dump(a)"
   ]
  },
  {
   "cell_type": "code",
   "execution_count": 7,
   "id": "c0bc6073",
   "metadata": {},
   "outputs": [],
   "source": [
    "from xml.etree.ElementTree import parse\n",
    "from xml.etree.ElementTree import dump"
   ]
  },
  {
   "cell_type": "code",
   "execution_count": 9,
   "id": "4391cea0",
   "metadata": {},
   "outputs": [
    {
     "name": "stdout",
     "output_type": "stream",
     "text": [
      "<note date=\"20120104\">\n",
      " <to>Tove</to>\n",
      " <from>Jani</from>\n",
      " <heading>Reminder</heading>\n",
      " <body>Don't forget me this weekend!</body>\n",
      "</note>\n"
     ]
    }
   ],
   "source": [
    "tree = parse(\"note.xml\")\n",
    "note = tree.getroot()\n",
    "\n",
    "dump(note)"
   ]
  },
  {
   "cell_type": "code",
   "execution_count": 10,
   "id": "5baceb76",
   "metadata": {},
   "outputs": [
    {
     "data": {
      "text/plain": [
       "'20120104'"
      ]
     },
     "execution_count": 10,
     "metadata": {},
     "output_type": "execute_result"
    }
   ],
   "source": [
    "note.get(\"date\")"
   ]
  },
  {
   "cell_type": "code",
   "execution_count": 14,
   "id": "f4458380",
   "metadata": {
    "scrolled": true
   },
   "outputs": [
    {
     "data": {
      "text/plain": [
       "'gmail'"
      ]
     },
     "execution_count": 14,
     "metadata": {},
     "output_type": "execute_result"
    }
   ],
   "source": [
    "note.get(\"method\",\"gmail\")"
   ]
  },
  {
   "cell_type": "code",
   "execution_count": 16,
   "id": "43d4718d",
   "metadata": {},
   "outputs": [
    {
     "name": "stdout",
     "output_type": "stream",
     "text": [
      "<note date=\"20120104\" method=\"gmail\">\n",
      " <to>Tove</to>\n",
      " <from>Jani</from>\n",
      " <heading>Reminder</heading>\n",
      " <body>Don't forget me this weekend!</body>\n",
      "</note>\n"
     ]
    }
   ],
   "source": [
    "note.attrib['method'] = \"gmail\"\n",
    "dump(note)"
   ]
  },
  {
   "cell_type": "code",
   "execution_count": 17,
   "id": "de3d19dd",
   "metadata": {},
   "outputs": [
    {
     "data": {
      "text/plain": [
       "'gmail'"
      ]
     },
     "execution_count": 17,
     "metadata": {},
     "output_type": "execute_result"
    }
   ],
   "source": [
    "note.get(\"method\")"
   ]
  },
  {
   "cell_type": "code",
   "execution_count": 20,
   "id": "bf561bf0",
   "metadata": {},
   "outputs": [
    {
     "name": "stdout",
     "output_type": "stream",
     "text": [
      "20120104\n",
      "gmail\n"
     ]
    }
   ],
   "source": [
    "# note에 있는 key들을 하나씩 출력한다\n",
    "for key in note.keys():\n",
    "    print(note.get(key))"
   ]
  },
  {
   "cell_type": "code",
   "execution_count": 25,
   "id": "8183dd22",
   "metadata": {},
   "outputs": [
    {
     "data": {
      "text/plain": [
       "<Element 'from' at 0x000001CB72E4CC70>"
      ]
     },
     "execution_count": 25,
     "metadata": {},
     "output_type": "execute_result"
    }
   ],
   "source": [
    "from_tag = note.find(\"from\")\n",
    "from_tag"
   ]
  },
  {
   "cell_type": "code",
   "execution_count": 26,
   "id": "bab31e8b",
   "metadata": {},
   "outputs": [
    {
     "data": {
      "text/plain": [
       "'Jani'"
      ]
     },
     "execution_count": 26,
     "metadata": {},
     "output_type": "execute_result"
    }
   ],
   "source": [
    "from_tag.text"
   ]
  },
  {
   "cell_type": "code",
   "execution_count": 27,
   "id": "fc124a9a",
   "metadata": {},
   "outputs": [
    {
     "data": {
      "text/plain": [
       "<Element 'heading' at 0x000001CB72E4CE00>"
      ]
     },
     "execution_count": 27,
     "metadata": {},
     "output_type": "execute_result"
    }
   ],
   "source": [
    "heading_tag = note.find(\"heading\")\n",
    "heading_tag"
   ]
  },
  {
   "cell_type": "code",
   "execution_count": 28,
   "id": "5686b21c",
   "metadata": {},
   "outputs": [
    {
     "data": {
      "text/plain": [
       "'Reminder'"
      ]
     },
     "execution_count": 28,
     "metadata": {},
     "output_type": "execute_result"
    }
   ],
   "source": [
    "heading_tag.text"
   ]
  },
  {
   "cell_type": "code",
   "execution_count": 29,
   "id": "4355c709",
   "metadata": {},
   "outputs": [
    {
     "name": "stdout",
     "output_type": "stream",
     "text": [
      "Tove\n",
      "Jani\n",
      "Reminder\n",
      "Don't forget me this weekend!\n"
     ]
    }
   ],
   "source": [
    "for parent in tree.iter():\n",
    "    for child in parent:\n",
    "        print(child.text)"
   ]
  },
  {
   "cell_type": "code",
   "execution_count": 30,
   "id": "f372c09a",
   "metadata": {},
   "outputs": [
    {
     "name": "stdout",
     "output_type": "stream",
     "text": [
      "Reminder\n"
     ]
    }
   ],
   "source": [
    "for child in note.iter():\n",
    "    if child == heading_tag:\n",
    "        print(child.text)"
   ]
  },
  {
   "cell_type": "code",
   "execution_count": 31,
   "id": "218dd676",
   "metadata": {},
   "outputs": [
    {
     "name": "stdout",
     "output_type": "stream",
     "text": [
      "\n",
      " \n",
      "Tove\n",
      "Jani\n",
      "Reminder\n",
      "Don't forget me this weekend!\n"
     ]
    }
   ],
   "source": [
    "for child in note.iter():\n",
    "    print(child.text)"
   ]
  },
  {
   "cell_type": "code",
   "execution_count": 55,
   "id": "3b03e9df",
   "metadata": {},
   "outputs": [
    {
     "name": "stdout",
     "output_type": "stream",
     "text": [
      "<note date=\"20221214\" to=\"Tove\" />\n"
     ]
    }
   ],
   "source": [
    "note1 = Element('note', date = \"20221214\", to =\"Tove\")\n",
    "dump(note1)"
   ]
  },
  {
   "cell_type": "code",
   "execution_count": 56,
   "id": "ec9c5888",
   "metadata": {},
   "outputs": [],
   "source": [
    "msg = Element('msg',type = \"greetings\")\n",
    "msg.text = \"Hello xml!\"\n",
    "note1.append(msg)"
   ]
  },
  {
   "cell_type": "code",
   "execution_count": 57,
   "id": "daf50325",
   "metadata": {},
   "outputs": [],
   "source": [
    "msg2 = Element('msg2', type = \"greetings2\")\n",
    "msg2.text = \"bye xml!\"\n",
    "note1.append(msg2)"
   ]
  },
  {
   "cell_type": "code",
   "execution_count": 58,
   "id": "00f3918c",
   "metadata": {},
   "outputs": [
    {
     "name": "stdout",
     "output_type": "stream",
     "text": [
      "<note date=\"20221214\" to=\"Tove\"><msg type=\"greetings\">Hello xml!</msg><msg2 type=\"greetings2\">bye xml!</msg2></note>\n"
     ]
    }
   ],
   "source": [
    "dump(note1)"
   ]
  },
  {
   "cell_type": "code",
   "execution_count": 59,
   "id": "86461aef",
   "metadata": {},
   "outputs": [
    {
     "name": "stdout",
     "output_type": "stream",
     "text": [
      "<note date=\"20221214\" to=\"Tove\"><msg type=\"greetings\">Hello xml!</msg><msg2 type=\"greetings2\">bye xml!</msg2></note>\n"
     ]
    }
   ],
   "source": [
    "dump(note1)"
   ]
  },
  {
   "cell_type": "code",
   "execution_count": 60,
   "id": "28a54909",
   "metadata": {},
   "outputs": [
    {
     "name": "stdout",
     "output_type": "stream",
     "text": [
      "<note date=\"20221214\" to=\"toLove\"><msg type=\"greetings\">Hello xml!</msg><msg2 type=\"greetings2\">bye xml!</msg2></note>\n"
     ]
    }
   ],
   "source": [
    "note1.attrib['to'] ='toLove'\n",
    "dump(note1)"
   ]
  },
  {
   "cell_type": "code",
   "execution_count": 53,
   "id": "0cac68c0",
   "metadata": {},
   "outputs": [
    {
     "name": "stdout",
     "output_type": "stream",
     "text": [
      "<msg type=\"greetings\">Hello xml!</msg>\n"
     ]
    }
   ],
   "source": [
    "target_child = note.find('msg')\n",
    "dump(target_child)"
   ]
  },
  {
   "cell_type": "code",
   "execution_count": 1,
   "id": "d6a10407",
   "metadata": {},
   "outputs": [],
   "source": [
    "from xml.etree.ElementTree import parse\n",
    "import pandas as pd\n",
    "\n",
    "tree = parse(\"12월14일_코로나_예방접종현황.xml\")\n",
    "note = tree.getroot()"
   ]
  },
  {
   "cell_type": "code",
   "execution_count": 3,
   "id": "7cbeaefe",
   "metadata": {},
   "outputs": [
    {
     "data": {
      "text/plain": [
       "<Element 'items' at 0x00000281433287C0>"
      ]
     },
     "execution_count": 3,
     "metadata": {},
     "output_type": "execute_result"
    }
   ],
   "source": [
    "items = note.find(\"body\").find(\"items\")\n",
    "\n",
    "items"
   ]
  },
  {
   "cell_type": "code",
   "execution_count": 6,
   "id": "c0276c66",
   "metadata": {},
   "outputs": [
    {
     "name": "stdout",
     "output_type": "stream",
     "text": [
      "item\n",
      "item\n",
      "item\n",
      "item\n",
      "item\n"
     ]
    }
   ],
   "source": [
    "for item in items:\n",
    "    print(item.tag)"
   ]
  }
 ],
 "metadata": {
  "kernelspec": {
   "display_name": "Python 3 (ipykernel)",
   "language": "python",
   "name": "python3"
  },
  "language_info": {
   "codemirror_mode": {
    "name": "ipython",
    "version": 3
   },
   "file_extension": ".py",
   "mimetype": "text/x-python",
   "name": "python",
   "nbconvert_exporter": "python",
   "pygments_lexer": "ipython3",
   "version": "3.9.13"
  }
 },
 "nbformat": 4,
 "nbformat_minor": 5
}
