{
 "cells": [
  {
   "cell_type": "code",
   "execution_count": 1,
   "id": "df81b999",
   "metadata": {},
   "outputs": [],
   "source": [
    "from xml.etree.ElementTree import Element, parse,dump\n",
    "import xml.etree.ElementTree as ET"
   ]
  },
  {
   "cell_type": "code",
   "execution_count": 13,
   "id": "4801852c",
   "metadata": {},
   "outputs": [
    {
     "data": {
      "text/plain": [
       "'<data_list>\\n    <data>현아</data>\\n    <data>제이</data>\\n    <data>효민</data>\\n</data_list>'"
      ]
     },
     "execution_count": 13,
     "metadata": {},
     "output_type": "execute_result"
    }
   ],
   "source": [
    "f = open('Korean.xml', 'r', encoding = 'utf-8')\n",
    "text = f.read()\n",
    "f.close()\n",
    "\n",
    "text"
   ]
  },
  {
   "cell_type": "code",
   "execution_count": 14,
   "id": "f0183d7b",
   "metadata": {},
   "outputs": [
    {
     "data": {
      "text/plain": [
       "<Element 'data_list' at 0x000001C1B5557BD0>"
      ]
     },
     "execution_count": 14,
     "metadata": {},
     "output_type": "execute_result"
    }
   ],
   "source": [
    "tree = ET.fromstring(text)\n",
    "tree"
   ]
  },
  {
   "cell_type": "code",
   "execution_count": 15,
   "id": "d319ff73",
   "metadata": {
    "scrolled": true
   },
   "outputs": [
    {
     "name": "stdout",
     "output_type": "stream",
     "text": [
      "<data_list>\n",
      "    <data>현아</data>\n",
      "    <data>제이</data>\n",
      "    <data>효민</data>\n",
      "</data_list>\n"
     ]
    }
   ],
   "source": [
    "dump(tree)"
   ]
  },
  {
   "cell_type": "code",
   "execution_count": 5,
   "id": "e20bdbb0",
   "metadata": {},
   "outputs": [],
   "source": [
    "node = Element(\"data\")\n",
    "node.text = \"카리나\""
   ]
  },
  {
   "cell_type": "code",
   "execution_count": 6,
   "id": "e0aa8e8a",
   "metadata": {},
   "outputs": [],
   "source": [
    "tree.append(node)"
   ]
  },
  {
   "cell_type": "code",
   "execution_count": 7,
   "id": "87cbce04",
   "metadata": {},
   "outputs": [
    {
     "name": "stdout",
     "output_type": "stream",
     "text": [
      "<data_list>\n",
      "    <data>현아</data>\n",
      "    <data>제이</data>\n",
      "    <data>효민</data>\n",
      "<data>카리나</data></data_list>\n"
     ]
    }
   ],
   "source": [
    "dump(tree)"
   ]
  },
  {
   "cell_type": "code",
   "execution_count": 8,
   "id": "f95b68a6",
   "metadata": {},
   "outputs": [],
   "source": [
    "def indent(elem, level=0):\n",
    "    i = \"\\n\"+level*\" \"\n",
    "    if len(elem):\n",
    "        if not elem.text or not elem.text.strip():\n",
    "            elem.text = i+\" \"\n",
    "        if not elem.tail or not elem.tail.strip():\n",
    "            elem.tail = i\n",
    "        for elem in elem:\n",
    "            indent(elem, level+1)\n",
    "        if not elem.tail or not elem.tail.strip():\n",
    "            elem.tail = i\n",
    "    else:\n",
    "        if level and (not elem.tail or not elem.tail.strip()):\n",
    "            elem.tail = i"
   ]
  },
  {
   "cell_type": "code",
   "execution_count": 9,
   "id": "81d07f42",
   "metadata": {},
   "outputs": [
    {
     "name": "stdout",
     "output_type": "stream",
     "text": [
      "<data_list>\n",
      " <data>현아</data>\n",
      " <data>제이</data>\n",
      " <data>효민</data>\n",
      " <data>카리나</data>\n",
      "</data_list>\n"
     ]
    }
   ],
   "source": [
    "indent(tree)\n",
    "dump(tree)"
   ]
  },
  {
   "cell_type": "code",
   "execution_count": 10,
   "id": "ddce0601",
   "metadata": {},
   "outputs": [],
   "source": [
    "ET.ElementTree(tree).write('Korean2.xml', encoding='utf-8')"
   ]
  },
  {
   "cell_type": "code",
   "execution_count": null,
   "id": "21a1b5a2",
   "metadata": {},
   "outputs": [],
   "source": []
  }
 ],
 "metadata": {
  "kernelspec": {
   "display_name": "Python 3 (ipykernel)",
   "language": "python",
   "name": "python3"
  },
  "language_info": {
   "codemirror_mode": {
    "name": "ipython",
    "version": 3
   },
   "file_extension": ".py",
   "mimetype": "text/x-python",
   "name": "python",
   "nbconvert_exporter": "python",
   "pygments_lexer": "ipython3",
   "version": "3.9.13"
  }
 },
 "nbformat": 4,
 "nbformat_minor": 5
}
