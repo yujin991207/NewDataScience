{
 "cells": [
  {
   "cell_type": "code",
   "execution_count": 1,
   "id": "d52da0df",
   "metadata": {},
   "outputs": [
    {
     "name": "stdout",
     "output_type": "stream",
     "text": [
      "<note><to>Tove</to></note>\n"
     ]
    }
   ],
   "source": [
    "from xml.etree.ElementTree import Element,dump, SubElement\n",
    "\n",
    "note = Element('note')\n",
    "\n",
    "to = Element('to')\n",
    "to.text =\"Tove\"\n",
    "note.append(to)\n",
    "dump(note)"
   ]
  },
  {
   "cell_type": "code",
   "execution_count": 2,
   "id": "be96f009",
   "metadata": {},
   "outputs": [
    {
     "name": "stdout",
     "output_type": "stream",
     "text": [
      "<note><to>Tove</to><from>Jani</from></note>\n"
     ]
    }
   ],
   "source": [
    "SubElement(note,\"from\").text=\"Jani\" #SubElement를 활용하여 자식 노드 추가\n",
    "dump(note)"
   ]
  },
  {
   "cell_type": "code",
   "execution_count": 3,
   "id": "d5074961",
   "metadata": {},
   "outputs": [],
   "source": [
    "# 아래와 동일한 결과이다.\n",
    "# from_tag = Element(\"from\")\n",
    "# from_tag.text = \"Jani\"\n",
    "# note.append(from_tag)"
   ]
  }
 ],
 "metadata": {
  "kernelspec": {
   "display_name": "Python 3 (ipykernel)",
   "language": "python",
   "name": "python3"
  },
  "language_info": {
   "codemirror_mode": {
    "name": "ipython",
    "version": 3
   },
   "file_extension": ".py",
   "mimetype": "text/x-python",
   "name": "python",
   "nbconvert_exporter": "python",
   "pygments_lexer": "ipython3",
   "version": "3.9.13"
  }
 },
 "nbformat": 4,
 "nbformat_minor": 5
}
