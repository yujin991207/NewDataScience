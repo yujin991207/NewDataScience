{
 "cells": [
  {
   "cell_type": "code",
   "execution_count": 4,
   "id": "fbfedd5d",
   "metadata": {},
   "outputs": [
    {
     "name": "stdout",
     "output_type": "stream",
     "text": [
      "<note><to>Tove</to><from>Jani</from></note>\n"
     ]
    }
   ],
   "source": [
    "from xml.etree.ElementTree import Element,dump, SubElement\n",
    "\n",
    "note = Element('note')\n",
    "to = Element('to')\n",
    "to.text =\"Tove\"\n",
    "note.append(to)\n",
    "SubElement(note,\"from\").text=\"Jani\" #SubElement를 활용하여 자식 노드 추가\n",
    "dump(note)"
   ]
  },
  {
   "cell_type": "code",
   "execution_count": 5,
   "id": "a9da141c",
   "metadata": {},
   "outputs": [],
   "source": [
    "# 노드.attrib[속성명] = [속성값]\n",
    "note.attrib[\"date\"] = \"20120104\""
   ]
  },
  {
   "cell_type": "code",
   "execution_count": 6,
   "id": "d76d8800",
   "metadata": {},
   "outputs": [
    {
     "name": "stdout",
     "output_type": "stream",
     "text": [
      "<note date=\"20120104\"><to>Tove</to><from>Jani</from></note>\n"
     ]
    }
   ],
   "source": [
    "dump(note)"
   ]
  }
 ],
 "metadata": {
  "kernelspec": {
   "display_name": "Python 3 (ipykernel)",
   "language": "python",
   "name": "python3"
  },
  "language_info": {
   "codemirror_mode": {
    "name": "ipython",
    "version": 3
   },
   "file_extension": ".py",
   "mimetype": "text/x-python",
   "name": "python",
   "nbconvert_exporter": "python",
   "pygments_lexer": "ipython3",
   "version": "3.9.13"
  }
 },
 "nbformat": 4,
 "nbformat_minor": 5
}
