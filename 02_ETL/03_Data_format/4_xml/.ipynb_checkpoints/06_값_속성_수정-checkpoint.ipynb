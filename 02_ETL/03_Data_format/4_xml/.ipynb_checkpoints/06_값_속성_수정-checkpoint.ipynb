{
 "cells": [
  {
   "cell_type": "code",
   "execution_count": 1,
   "id": "5cf484ac",
   "metadata": {},
   "outputs": [
    {
     "name": "stdout",
     "output_type": "stream",
     "text": [
      "<note date=\"20120104\" to=\"Tove\" />\n"
     ]
    }
   ],
   "source": [
    "from xml.etree.ElementTree import Element,dump, SubElement\n",
    "\n",
    "note = Element('note', date=\"20120104\",to=\"Tove\")\n",
    "dump(note)"
   ]
  },
  {
   "cell_type": "code",
   "execution_count": 2,
   "id": "8203a69f",
   "metadata": {},
   "outputs": [],
   "source": [
    "msg = Element('msg',type=\"negative\")\n",
    "msg.text =\"I hate you\"\n",
    "note.append(msg)"
   ]
  },
  {
   "cell_type": "code",
   "execution_count": 3,
   "id": "e8699d6a",
   "metadata": {},
   "outputs": [
    {
     "name": "stdout",
     "output_type": "stream",
     "text": [
      "<note date=\"20120104\" to=\"Tove\"><msg type=\"negative\">I hate you</msg></note>\n"
     ]
    }
   ],
   "source": [
    "dump(note)"
   ]
  },
  {
   "cell_type": "code",
   "execution_count": 4,
   "id": "974aebf1",
   "metadata": {},
   "outputs": [
    {
     "name": "stdout",
     "output_type": "stream",
     "text": [
      "<note date=\"20120104\" to=\"ToLove\"><msg type=\"negative\">I hate you</msg></note>\n"
     ]
    }
   ],
   "source": [
    "# 'ToLove'로 속성변경하였다.\n",
    "note.attrib['to']='ToLove'\n",
    "dump(note)"
   ]
  },
  {
   "cell_type": "code",
   "execution_count": 5,
   "id": "94cd2765",
   "metadata": {},
   "outputs": [
    {
     "name": "stdout",
     "output_type": "stream",
     "text": [
      "<msg type=\"negative\">I hate you</msg>\n"
     ]
    }
   ],
   "source": [
    "# 노드.find([자식노드명]) => 자식노드가 존재한다면 노드를 반환.\n",
    "target_child = note.find('msg')\n",
    "dump(target_child)"
   ]
  },
  {
   "cell_type": "code",
   "execution_count": 6,
   "id": "64541975",
   "metadata": {},
   "outputs": [
    {
     "name": "stdout",
     "output_type": "stream",
     "text": [
      "<msg type=\"negative\">I love you</msg>\n"
     ]
    }
   ],
   "source": [
    "target_child.text = 'I love you'\n",
    "dump(target_child)"
   ]
  },
  {
   "cell_type": "code",
   "execution_count": 7,
   "id": "0c4435a9",
   "metadata": {},
   "outputs": [
    {
     "name": "stdout",
     "output_type": "stream",
     "text": [
      "<note date=\"20120104\" to=\"ToLove\"><msg type=\"negative\">I love you</msg></note>\n"
     ]
    }
   ],
   "source": [
    "dump(note)"
   ]
  },
  {
   "cell_type": "code",
   "execution_count": 8,
   "id": "aa65c3fd",
   "metadata": {},
   "outputs": [
    {
     "name": "stdout",
     "output_type": "stream",
     "text": [
      "<note date=\"20120104\" to=\"ToLove\"><msg type=\"positive\">I love you</msg></note>\n"
     ]
    }
   ],
   "source": [
    "target_child.attrib['type']='positive'\n",
    "dump(note)"
   ]
  }
 ],
 "metadata": {
  "kernelspec": {
   "display_name": "Python 3 (ipykernel)",
   "language": "python",
   "name": "python3"
  },
  "language_info": {
   "codemirror_mode": {
    "name": "ipython",
    "version": 3
   },
   "file_extension": ".py",
   "mimetype": "text/x-python",
   "name": "python",
   "nbconvert_exporter": "python",
   "pygments_lexer": "ipython3",
   "version": "3.9.13"
  }
 },
 "nbformat": 4,
 "nbformat_minor": 5
}
