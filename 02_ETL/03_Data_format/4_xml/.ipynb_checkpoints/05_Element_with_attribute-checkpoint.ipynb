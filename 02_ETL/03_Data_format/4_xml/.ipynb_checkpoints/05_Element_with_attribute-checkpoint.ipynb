{
 "cells": [
  {
   "cell_type": "code",
   "execution_count": 1,
   "id": "3176257c",
   "metadata": {},
   "outputs": [],
   "source": [
    "from xml.etree.ElementTree import Element,dump, SubElement"
   ]
  },
  {
   "cell_type": "code",
   "execution_count": 2,
   "id": "cac7770e",
   "metadata": {},
   "outputs": [
    {
     "name": "stdout",
     "output_type": "stream",
     "text": [
      "<note date=\"20120104\"><to>Tove</to><from>Jani</from></note>\n"
     ]
    }
   ],
   "source": [
    "# Element([노드이름], 속성명 = '속성값') => attri 사용하지않고 한번에 속성값을 추가할 수 있다\n",
    "note = Element('note', date=\"20120104\")\n",
    "to = Element('to')\n",
    "to.text =\"Tove\"\n",
    "note.append(to)\n",
    "SubElement(note,\"from\").text=\"Jani\" #SubElement를 활용하여 자식 노드 추가\n",
    "\n",
    "\n",
    "dump(note)"
   ]
  }
 ],
 "metadata": {
  "kernelspec": {
   "display_name": "Python 3 (ipykernel)",
   "language": "python",
   "name": "python3"
  },
  "language_info": {
   "codemirror_mode": {
    "name": "ipython",
    "version": 3
   },
   "file_extension": ".py",
   "mimetype": "text/x-python",
   "name": "python",
   "nbconvert_exporter": "python",
   "pygments_lexer": "ipython3",
   "version": "3.9.13"
  }
 },
 "nbformat": 4,
 "nbformat_minor": 5
}
