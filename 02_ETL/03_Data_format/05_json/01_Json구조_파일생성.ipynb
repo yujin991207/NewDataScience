{
 "cells": [
  {
   "cell_type": "markdown",
   "id": "89cc0826",
   "metadata": {},
   "source": [
    "# JSON 구조"
   ]
  },
  {
   "cell_type": "markdown",
   "id": "7e9e868c",
   "metadata": {},
   "source": [
    "## 파이썬의 dictionary 타입과 일치하다."
   ]
  },
  {
   "cell_type": "markdown",
   "id": "19a78138",
   "metadata": {},
   "source": [
    "## 아래 xml 데이터를 dictionary로 변경해 보자"
   ]
  },
  {
   "cell_type": "raw",
   "id": "a89292d2",
   "metadata": {},
   "source": [
    "<note date=\"20190722\" method=\"gmail\">           <= 노드 중 최상의 노드\n",
    " \t<to>Tove</to>                               <= 자식 노드\n",
    " \t<from>Jani</from>                           <= <from name=\"Jani/> 다음과 같이 속성으로 표현 할 수 있음\n",
    " \t<heading>Reminder</heading>\n",
    " \t<Body>Don't forget me this weekend!</body>\n",
    "</note>\n"
   ]
  },
  {
   "cell_type": "code",
   "execution_count": 2,
   "id": "c0b8b4ef",
   "metadata": {},
   "outputs": [
    {
     "data": {
      "text/plain": [
       "{'note': {'date': '20190722',\n",
       "  'method': 'gmail',\n",
       "  'to': 'Tove',\n",
       "  'from': 'Jani',\n",
       "  'heading': 'Reminder',\n",
       "  'Body': 'Don\"t forget me this weekend!'}}"
      ]
     },
     "execution_count": 2,
     "metadata": {},
     "output_type": "execute_result"
    }
   ],
   "source": [
    "# key : value => value 안에 또 dict가 있는것이다\n",
    "{\n",
    "    \"note\":{\n",
    "        \"date\":\"20190722\",\n",
    "        \"method\":\"gmail\",\n",
    "        \"to\":\"Tove\",\n",
    "        \"from\":\"Jani\",\n",
    "        \"heading\":\"Reminder\",\n",
    "        \"Body\":\"Don\\\"t forget me this weekend!\"\n",
    "    }\n",
    "}"
   ]
  },
  {
   "cell_type": "code",
   "execution_count": 3,
   "id": "14007fc3",
   "metadata": {},
   "outputs": [
    {
     "data": {
      "text/plain": [
       "dict"
      ]
     },
     "execution_count": 3,
     "metadata": {},
     "output_type": "execute_result"
    }
   ],
   "source": [
    "my_note = {\n",
    "    \"note\":{\n",
    "        \"date\":\"20190722\",\n",
    "        \"method\":\"gmail\",\n",
    "        \"to\":\"Tove\",\n",
    "        \"from\":\"Jani\",\n",
    "        \"heading\":\"Reminder\",\n",
    "        \"Body\":\"Don\\\"t forget me this weekend!\"\n",
    "    }\n",
    "}\n",
    "type(my_note)"
   ]
  },
  {
   "cell_type": "markdown",
   "id": "09db2fb2",
   "metadata": {},
   "source": [
    "# 노드 추가"
   ]
  },
  {
   "cell_type": "code",
   "execution_count": 4,
   "id": "08c3803c",
   "metadata": {},
   "outputs": [
    {
     "data": {
      "text/plain": [
       "{'note': {}}"
      ]
     },
     "execution_count": 4,
     "metadata": {},
     "output_type": "execute_result"
    }
   ],
   "source": [
    "new_note ={}\n",
    "# dict[키] 입력했을때 키가 없으면 해당 키에 값을 추가\n",
    "# 키가 있으면 해당 키에 값을 수정\n",
    "new_note['note']={}\n",
    "new_note"
   ]
  },
  {
   "cell_type": "code",
   "execution_count": 5,
   "id": "3e0ae688",
   "metadata": {},
   "outputs": [
    {
     "data": {
      "text/plain": [
       "{}"
      ]
     },
     "execution_count": 5,
     "metadata": {},
     "output_type": "execute_result"
    }
   ],
   "source": [
    "new_note['note']"
   ]
  },
  {
   "cell_type": "code",
   "execution_count": 4,
   "id": "590099f3",
   "metadata": {},
   "outputs": [
    {
     "data": {
      "text/plain": [
       "{'note': {'date': '20230101'}}"
      ]
     },
     "execution_count": 4,
     "metadata": {},
     "output_type": "execute_result"
    }
   ],
   "source": [
    "# 'note' 에 'date'의 값\n",
    "new_note['note']['date']='20230101'\n",
    "new_note"
   ]
  },
  {
   "cell_type": "code",
   "execution_count": 5,
   "id": "340c8a9b",
   "metadata": {},
   "outputs": [
    {
     "data": {
      "text/plain": [
       "{'note': {'date': '20230101', 'method': 'gmail'}}"
      ]
     },
     "execution_count": 5,
     "metadata": {},
     "output_type": "execute_result"
    }
   ],
   "source": [
    "new_note['note']['method']='gmail'\n",
    "new_note"
   ]
  },
  {
   "cell_type": "code",
   "execution_count": 6,
   "id": "889fccad",
   "metadata": {},
   "outputs": [
    {
     "data": {
      "text/plain": [
       "{'note': {'date': '20230101',\n",
       "  'method': 'gmail',\n",
       "  'to': 'Tove',\n",
       "  'from': 'Jani',\n",
       "  'heading': 'Reminder',\n",
       "  'Body': \"Don't forget me this weekend!\"}}"
      ]
     },
     "execution_count": 6,
     "metadata": {},
     "output_type": "execute_result"
    }
   ],
   "source": [
    "new_note['note']['to'] = 'Tove'\n",
    "new_note['note']['from'] = 'Jani'\n",
    "new_note['note']['heading'] = 'Reminder'\n",
    "new_note['note']['Body'] = 'Don\\'t forget me this weekend!'\n",
    "new_note"
   ]
  },
  {
   "cell_type": "markdown",
   "id": "2339cfa7",
   "metadata": {},
   "source": [
    "## JSON 파일 생성"
   ]
  },
  {
   "cell_type": "code",
   "execution_count": 6,
   "id": "4c7ac61c",
   "metadata": {},
   "outputs": [
    {
     "name": "stdout",
     "output_type": "stream",
     "text": [
      "json file saved\n"
     ]
    }
   ],
   "source": [
    "import json\n",
    "with open('new_note.json','w') as outfile:\n",
    "    readable_result = json.dumps(new_note,indent=4,sort_keys=True,ensure_ascii=False)\n",
    "    outfile.write(readable_result)\n",
    "    print('json file saved')"
   ]
  },
  {
   "cell_type": "markdown",
   "id": "55a016e4",
   "metadata": {},
   "source": [
    "## 한글 데이터"
   ]
  },
  {
   "cell_type": "code",
   "execution_count": 7,
   "id": "fd148861",
   "metadata": {},
   "outputs": [
    {
     "data": {
      "text/plain": [
       "{'note': {'date': '20190722',\n",
       "  'method': 'gmail',\n",
       "  'to': '홍길동',\n",
       "  'from': '제니',\n",
       "  'heading': '신년회 모임 일정',\n",
       "  'Body': '1월 2일 저녁 8시, 장소: 마포갈매기'}}"
      ]
     },
     "execution_count": 7,
     "metadata": {},
     "output_type": "execute_result"
    }
   ],
   "source": [
    "k_note= {\n",
    "    \"note\":{\n",
    "        \"date\":\"20190722\",\n",
    "        \"method\":\"gmail\",\n",
    "        \"to\":\"홍길동\",\n",
    "        \"from\":\"제니\",\n",
    "        \"heading\":\"신년회 모임 일정\",\n",
    "        \"Body\":\"1월 2일 저녁 8시, 장소: 마포갈매기\"\n",
    "    }\n",
    "}\n",
    "k_note"
   ]
  },
  {
   "cell_type": "code",
   "execution_count": 8,
   "id": "856a6bf9",
   "metadata": {},
   "outputs": [
    {
     "name": "stdout",
     "output_type": "stream",
     "text": [
      "json file saved\n"
     ]
    }
   ],
   "source": [
    "import json\n",
    "with open('k_note.json','w',encoding='utf8') as outfile:\n",
    "    readable_result = json.dumps(k_note,indent=4,sort_keys=True,ensure_ascii=False)\n",
    "    outfile.write(readable_result)\n",
    "    print('json file saved')"
   ]
  }
 ],
 "metadata": {
  "kernelspec": {
   "display_name": "Python 3 (ipykernel)",
   "language": "python",
   "name": "python3"
  },
  "language_info": {
   "codemirror_mode": {
    "name": "ipython",
    "version": 3
   },
   "file_extension": ".py",
   "mimetype": "text/x-python",
   "name": "python",
   "nbconvert_exporter": "python",
   "pygments_lexer": "ipython3",
   "version": "3.9.13"
  }
 },
 "nbformat": 4,
 "nbformat_minor": 5
}
