{
 "cells": [
  {
   "cell_type": "code",
   "execution_count": 11,
   "id": "9de62efd",
   "metadata": {},
   "outputs": [
    {
     "data": {
      "text/plain": [
       "{'response': {'body': {'student_list': [{'age': 46,\n",
       "     'major': '경영학',\n",
       "     'name': '영호',\n",
       "     'sex': '남'},\n",
       "    {'age': 30, 'major': '정치외교', 'name': '세중', 'sex': '남'},\n",
       "    {'age': 30, 'major': '신문방송학', 'name': '치우', 'sex': '남'}]}}}"
      ]
     },
     "execution_count": 11,
     "metadata": {},
     "output_type": "execute_result"
    }
   ],
   "source": [
    "import json\n",
    "import pandas as pd\n",
    "\n",
    "def open_json(file_name, encoding):\n",
    "    with open(file_name, encoding=encoding) as json_file: \n",
    "        json_object = json.load(json_file)\n",
    "        json_string = json.dumps(json_object)\n",
    "        json_data = json.loads(json_string)\n",
    "    return json_data\n",
    "\n",
    "student_zero2 = open_json('student_zero2.json','cp949')\n",
    "student_zero2"
   ]
  },
  {
   "cell_type": "code",
   "execution_count": 12,
   "id": "2d689472",
   "metadata": {},
   "outputs": [],
   "source": [
    "student_zero2 = student_zero2['response']['body']['student_list']"
   ]
  },
  {
   "cell_type": "code",
   "execution_count": 13,
   "id": "aca30204",
   "metadata": {},
   "outputs": [],
   "source": [
    "column_list = []\n",
    "all_data = []\n",
    "\n",
    "is_first = True\n",
    "\n",
    "for student in student_zero2:\n",
    "    row_data_list = []\n",
    "    for key,value in student.items():\n",
    "        if is_first:\n",
    "            column_list.append(key)\n",
    "        row_data_list.append(value)\n",
    "    all_data.append(row_data_list)\n",
    "    is_first = False"
   ]
  },
  {
   "cell_type": "code",
   "execution_count": 14,
   "id": "3217e1e9",
   "metadata": {},
   "outputs": [
    {
     "data": {
      "text/plain": [
       "['age', 'major', 'name', 'sex']"
      ]
     },
     "execution_count": 14,
     "metadata": {},
     "output_type": "execute_result"
    }
   ],
   "source": [
    "column_list"
   ]
  },
  {
   "cell_type": "code",
   "execution_count": 17,
   "id": "d89abb68",
   "metadata": {},
   "outputs": [
    {
     "data": {
      "text/html": [
       "<div>\n",
       "<style scoped>\n",
       "    .dataframe tbody tr th:only-of-type {\n",
       "        vertical-align: middle;\n",
       "    }\n",
       "\n",
       "    .dataframe tbody tr th {\n",
       "        vertical-align: top;\n",
       "    }\n",
       "\n",
       "    .dataframe thead th {\n",
       "        text-align: right;\n",
       "    }\n",
       "</style>\n",
       "<table border=\"1\" class=\"dataframe\">\n",
       "  <thead>\n",
       "    <tr style=\"text-align: right;\">\n",
       "      <th></th>\n",
       "      <th>age</th>\n",
       "      <th>major</th>\n",
       "      <th>name</th>\n",
       "      <th>sex</th>\n",
       "    </tr>\n",
       "  </thead>\n",
       "  <tbody>\n",
       "    <tr>\n",
       "      <th>0</th>\n",
       "      <td>46</td>\n",
       "      <td>경영학</td>\n",
       "      <td>영호</td>\n",
       "      <td>남</td>\n",
       "    </tr>\n",
       "    <tr>\n",
       "      <th>1</th>\n",
       "      <td>30</td>\n",
       "      <td>정치외교</td>\n",
       "      <td>세중</td>\n",
       "      <td>남</td>\n",
       "    </tr>\n",
       "    <tr>\n",
       "      <th>2</th>\n",
       "      <td>30</td>\n",
       "      <td>신문방송학</td>\n",
       "      <td>치우</td>\n",
       "      <td>남</td>\n",
       "    </tr>\n",
       "  </tbody>\n",
       "</table>\n",
       "</div>"
      ],
      "text/plain": [
       "   age  major name sex\n",
       "0   46    경영학   영호   남\n",
       "1   30   정치외교   세중   남\n",
       "2   30  신문방송학   치우   남"
      ]
     },
     "execution_count": 17,
     "metadata": {},
     "output_type": "execute_result"
    }
   ],
   "source": [
    "student_data = pd.DataFrame(all_data, columns = column_list)\n",
    "\n",
    "student_data"
   ]
  },
  {
   "cell_type": "code",
   "execution_count": 23,
   "id": "9e3f44e6",
   "metadata": {},
   "outputs": [
    {
     "name": "stdout",
     "output_type": "stream",
     "text": [
      "json file saved\n"
     ]
    }
   ],
   "source": [
    "import json\n",
    "with open('student_zero2.json','w',encoding='cp949') as outfile:\n",
    "    readable_result = json.dumps(student_zero2,indent=4,sort_keys=True,ensure_ascii=False)\n",
    "    outfile.write(readable_result)\n",
    "    print('json file saved')"
   ]
  },
  {
   "cell_type": "code",
   "execution_count": 24,
   "id": "482e3c8c",
   "metadata": {},
   "outputs": [],
   "source": [
    "student_data.to_csv('student_zero2.csv', encoding='cp949', index=False)"
   ]
  }
 ],
 "metadata": {
  "kernelspec": {
   "display_name": "Python 3 (ipykernel)",
   "language": "python",
   "name": "python3"
  },
  "language_info": {
   "codemirror_mode": {
    "name": "ipython",
    "version": 3
   },
   "file_extension": ".py",
   "mimetype": "text/x-python",
   "name": "python",
   "nbconvert_exporter": "python",
   "pygments_lexer": "ipython3",
   "version": "3.9.13"
  }
 },
 "nbformat": 4,
 "nbformat_minor": 5
}
