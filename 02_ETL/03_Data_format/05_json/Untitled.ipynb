{
 "cells": [
  {
   "cell_type": "code",
   "execution_count": 286,
   "id": "5dcae074",
   "metadata": {},
   "outputs": [],
   "source": [
    "import numpy as np"
   ]
  },
  {
   "cell_type": "code",
   "execution_count": 307,
   "id": "0248408a",
   "metadata": {},
   "outputs": [],
   "source": [
    "list_2 = ['1. 체육시설, 2. 종민시설','종만시설','재영시설++']"
   ]
  },
  {
   "cell_type": "code",
   "execution_count": 308,
   "id": "2d4bde07",
   "metadata": {},
   "outputs": [
    {
     "data": {
      "text/plain": [
       "'!|\"|#|$|%|&|\\'|(|)|*|+|,|-|.|/|0|1|2|3|4|5|6|7|8|9|:|;|<|=|>|?|@|[|\\',\"]\",\"^\",\"_\",\"`\",{|||}|~'"
      ]
     },
     "execution_count": 308,
     "metadata": {},
     "output_type": "execute_result"
    }
   ],
   "source": [
    "ascycode_join = '|'.join(ascycode)\n",
    "ascycode_join"
   ]
  },
  {
   "cell_type": "code",
   "execution_count": 309,
   "id": "2c0d86e3",
   "metadata": {},
   "outputs": [
    {
     "name": "stdout",
     "output_type": "stream",
     "text": [
      "1. 체육시설, 2. 종민시설\n",
      "종만시설\n",
      "재영시설++\n"
     ]
    }
   ],
   "source": [
    "for i in list_1 :\n",
    "    list_b = []\n",
    "    list_b.append(i)\n",
    "    for a in list_b : \n",
    "        print(a)"
   ]
  },
  {
   "cell_type": "code",
   "execution_count": 310,
   "id": "d2bcfcc5",
   "metadata": {
    "scrolled": true
   },
   "outputs": [
    {
     "name": "stdout",
     "output_type": "stream",
     "text": [
      "#\n",
      "1\n",
      ".\n",
      " \n",
      "체\n",
      "육\n",
      "시\n",
      "설\n",
      ",\n",
      " \n",
      "2\n",
      ".\n",
      " \n",
      "종\n",
      "민\n",
      "시\n",
      "설\n",
      "#\n",
      "종\n",
      "만\n",
      "시\n",
      "설\n",
      "#\n",
      "재\n",
      "영\n",
      "시\n",
      "설\n",
      "+\n",
      "+\n"
     ]
    }
   ],
   "source": [
    "for a in range(len(list_1)):\n",
    "    print(ascycode[b])\n",
    "    for i in list_1[a] :\n",
    "        print(i)"
   ]
  },
  {
   "cell_type": "code",
   "execution_count": 311,
   "id": "b64a3646",
   "metadata": {},
   "outputs": [],
   "source": [
    "space = ''\n"
   ]
  },
  {
   "cell_type": "code",
   "execution_count": 312,
   "id": "3bb04781",
   "metadata": {
    "scrolled": false
   },
   "outputs": [
    {
     "name": "stdout",
     "output_type": "stream",
     "text": [
      "['재영시설++', ' 체육시설  종민시설', '종만시설', '재영시설']\n"
     ]
    }
   ],
   "source": [
    "for i in range(len(list_1)) : \n",
    "    c = []\n",
    "    for a in list_1[i] :\n",
    "        if a in ascycode : \n",
    "            a =\"\"\n",
    "        c.append(a)\n",
    "    c = \"\".join(c)\n",
    "    list_b.append(c)\n",
    "    \n",
    "#         if a =='1':\n",
    "#             a = ''\n",
    "#             list_b.append(a)\n",
    "#         else : \n",
    "#             list_b.append(a)\n",
    "print(list_b)"
   ]
  },
  {
   "cell_type": "code",
   "execution_count": 313,
   "id": "4338eadf",
   "metadata": {},
   "outputs": [],
   "source": [
    "def change_ascycode(list_1): \n",
    "    list_b = []\n",
    "    ascycode = ['!','\"','#','$','%','&',\"'\",'(',')','*','+',',','-','.','/','0','1','2','3','4','5','6','7','8','9',':',';','<',\n",
    "                '=','>','?','@','\\',\"^\",\"_\",\"`\",{','|','}','~']\n",
    "    for i in range(len(list_1)) : \n",
    "        c = []\n",
    "        for a in list_1[i] :\n",
    "            if a in ascycode : \n",
    "                a =\"\"\n",
    "            c.append(a)\n",
    "        c = \"\".join(c)\n",
    "        list_b.append(c)\n",
    "    \n",
    "    return list_b"
   ]
  },
  {
   "cell_type": "code",
   "execution_count": null,
   "id": "700af795",
   "metadata": {},
   "outputs": [],
   "source": []
  },
  {
   "cell_type": "code",
   "execution_count": null,
   "id": "56d10fa0",
   "metadata": {},
   "outputs": [],
   "source": [
    "list_abc = df['공원보유시설(운동시설)'].tolist()\n",
    "list_abc"
   ]
  },
  {
   "cell_type": "code",
   "execution_count": null,
   "id": "4cdda0f3",
   "metadata": {},
   "outputs": [],
   "source": [
    "def change_ascycode(list_1): \n",
    "    list_b = []\n",
    "    ascycode = ['!','\"','#','$','%','&',\"'\",'(',')','*','+',',','-','.','/','0','1','2','3','4','5','6','7','8','9',':',';','<',\n",
    "                '=','>','?','@','\\',\"^\",\"_\",\"`\",{','|','}','~']\n",
    "    for i in range(len(list_1)) : \n",
    "        c = []\n",
    "        for a in list_1[i] :\n",
    "            if a in ascycode : \n",
    "                a =\"\"\n",
    "            c.append(a)\n",
    "        c = \"\".join(c)\n",
    "        list_b.append(c)\n",
    "    \n",
    "    return list_b"
   ]
  },
  {
   "cell_type": "code",
   "execution_count": null,
   "id": "04999df9",
   "metadata": {},
   "outputs": [],
   "source": [
    "abc_change = change_ascycode(list_abc)"
   ]
  },
  {
   "cell_type": "code",
   "execution_count": null,
   "id": "0e085c16",
   "metadata": {},
   "outputs": [],
   "source": [
    "df2= df"
   ]
  },
  {
   "cell_type": "code",
   "execution_count": null,
   "id": "aceb8966",
   "metadata": {},
   "outputs": [],
   "source": [
    "df2['공원보유시설(운동시설)'] = abc_change\n",
    "abcd = df2['공원보유시설(운동시설)'].tolist()\n",
    "abcd_list = []\n",
    "for i in abcd :\n",
    "    for a in i.split() :\n",
    "        abcd_list.append(a)"
   ]
  },
  {
   "cell_type": "code",
   "execution_count": null,
   "id": "46f5328f",
   "metadata": {},
   "outputs": [],
   "source": []
  },
  {
   "cell_type": "code",
   "execution_count": null,
   "id": "685e9192",
   "metadata": {},
   "outputs": [],
   "source": []
  },
  {
   "cell_type": "code",
   "execution_count": null,
   "id": "c0fad2e8",
   "metadata": {},
   "outputs": [],
   "source": []
  },
  {
   "cell_type": "code",
   "execution_count": null,
   "id": "0cc6b8a5",
   "metadata": {},
   "outputs": [],
   "source": []
  },
  {
   "cell_type": "code",
   "execution_count": null,
   "id": "483d63de",
   "metadata": {},
   "outputs": [],
   "source": []
  },
  {
   "cell_type": "code",
   "execution_count": null,
   "id": "7c76c400",
   "metadata": {},
   "outputs": [],
   "source": []
  },
  {
   "cell_type": "code",
   "execution_count": null,
   "id": "c754dc1d",
   "metadata": {},
   "outputs": [],
   "source": []
  },
  {
   "cell_type": "code",
   "execution_count": 314,
   "id": "e7046dec",
   "metadata": {},
   "outputs": [],
   "source": [
    "change_list = []"
   ]
  },
  {
   "cell_type": "code",
   "execution_count": 315,
   "id": "bed2e82f",
   "metadata": {},
   "outputs": [],
   "source": [
    "for i in list_1 : \n",
    "    for a in ascycode :\n",
    "        if i == a :\n",
    "            i\n",
    "            change_list.append()"
   ]
  },
  {
   "cell_type": "code",
   "execution_count": 316,
   "id": "66ea2753",
   "metadata": {},
   "outputs": [
    {
     "data": {
      "text/plain": [
       "[' 체육시설  종민시설', '종만시설', '재영시설']"
      ]
     },
     "execution_count": 316,
     "metadata": {},
     "output_type": "execute_result"
    }
   ],
   "source": [
    "change_ascycode(list_2)"
   ]
  },
  {
   "cell_type": "code",
   "execution_count": null,
   "id": "17734c4b",
   "metadata": {},
   "outputs": [],
   "source": []
  }
 ],
 "metadata": {
  "kernelspec": {
   "display_name": "Python 3 (ipykernel)",
   "language": "python",
   "name": "python3"
  },
  "language_info": {
   "codemirror_mode": {
    "name": "ipython",
    "version": 3
   },
   "file_extension": ".py",
   "mimetype": "text/x-python",
   "name": "python",
   "nbconvert_exporter": "python",
   "pygments_lexer": "ipython3",
   "version": "3.9.13"
  }
 },
 "nbformat": 4,
 "nbformat_minor": 5
}
