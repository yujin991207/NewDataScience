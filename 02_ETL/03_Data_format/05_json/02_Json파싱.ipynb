{
 "cells": [
  {
   "cell_type": "markdown",
   "id": "a1732803",
   "metadata": {},
   "source": [
    "## Parsing\n",
    "## Json 구조를 보며 계층 구조 별 Key 값으로 Value 값을 구한다."
   ]
  },
  {
   "cell_type": "markdown",
   "id": "2fd4b455",
   "metadata": {},
   "source": [
    "### Level1 값 parsing"
   ]
  },
  {
   "cell_type": "code",
   "execution_count": 2,
   "id": "cdb09c20",
   "metadata": {},
   "outputs": [],
   "source": [
    "k_note= {\n",
    "    'note':{\n",
    "        'date':'20190722',\n",
    "        'method':'gmail',\n",
    "        'to':'홍길동',\n",
    "        'from':'제니',\n",
    "        'heading':'신년회 모임 일정',\n",
    "        'Body':'1월 2일 저녁 8시, 장소: 마포갈매기'\n",
    "    }\n",
    "}"
   ]
  },
  {
   "cell_type": "code",
   "execution_count": 3,
   "id": "d329ca32",
   "metadata": {},
   "outputs": [
    {
     "data": {
      "text/plain": [
       "{'date': '20190722',\n",
       " 'method': 'gmail',\n",
       " 'to': '홍길동',\n",
       " 'from': '제니',\n",
       " 'heading': '신년회 모임 일정',\n",
       " 'Body': '1월 2일 저녁 8시, 장소: 마포갈매기'}"
      ]
     },
     "execution_count": 3,
     "metadata": {},
     "output_type": "execute_result"
    }
   ],
   "source": [
    "# dict변수['키'] => 키에 매칭이 되는값을 반환한다\n",
    "k_note['note']"
   ]
  },
  {
   "cell_type": "markdown",
   "id": "9a775b60",
   "metadata": {},
   "source": [
    "### Level2 값 수동으로 Parsing"
   ]
  },
  {
   "cell_type": "code",
   "execution_count": 16,
   "id": "54508dc3",
   "metadata": {},
   "outputs": [
    {
     "data": {
      "text/plain": [
       "{'note': {'date': '20190722',\n",
       "  'method': 'gmail',\n",
       "  'to': '홍길동',\n",
       "  'from': '제니',\n",
       "  'heading': '신년회 모임 일정',\n",
       "  'Body': '1월 2일 저녁 8시, 장소: 마포갈매기'}}"
      ]
     },
     "execution_count": 16,
     "metadata": {},
     "output_type": "execute_result"
    }
   ],
   "source": [
    "k_note"
   ]
  },
  {
   "cell_type": "code",
   "execution_count": 4,
   "id": "6fd34b1a",
   "metadata": {},
   "outputs": [
    {
     "data": {
      "text/plain": [
       "'20190722'"
      ]
     },
     "execution_count": 4,
     "metadata": {},
     "output_type": "execute_result"
    }
   ],
   "source": [
    "k_note['note']['date']"
   ]
  },
  {
   "cell_type": "code",
   "execution_count": 5,
   "id": "b12b4c7a",
   "metadata": {},
   "outputs": [
    {
     "data": {
      "text/plain": [
       "'gmail'"
      ]
     },
     "execution_count": 5,
     "metadata": {},
     "output_type": "execute_result"
    }
   ],
   "source": [
    "k_note['note']['method']"
   ]
  },
  {
   "cell_type": "code",
   "execution_count": 15,
   "id": "6c892f89",
   "metadata": {},
   "outputs": [
    {
     "data": {
      "text/plain": [
       "'홍길동'"
      ]
     },
     "execution_count": 15,
     "metadata": {},
     "output_type": "execute_result"
    }
   ],
   "source": [
    "k_note['note']['to']"
   ]
  },
  {
   "cell_type": "code",
   "execution_count": 6,
   "id": "48686b50",
   "metadata": {},
   "outputs": [
    {
     "name": "stdout",
     "output_type": "stream",
     "text": [
      "홍길동\n",
      "제니\n",
      "신년회 모임 일정\n",
      "1월 2일 저녁 8시, 장소: 마포갈매기\n"
     ]
    }
   ],
   "source": [
    "print(k_note['note']['to'])\n",
    "print(k_note['note']['from'])\n",
    "print(k_note['note']['heading'])\n",
    "print(k_note['note']['Body'])"
   ]
  },
  {
   "cell_type": "markdown",
   "id": "08b21b76",
   "metadata": {},
   "source": [
    "### Level2 값 자동으로 Parsing"
   ]
  },
  {
   "cell_type": "code",
   "execution_count": 7,
   "id": "fc7d0ac3",
   "metadata": {},
   "outputs": [
    {
     "data": {
      "text/plain": [
       "{'note': {'date': '20190722',\n",
       "  'method': 'gmail',\n",
       "  'to': '홍길동',\n",
       "  'from': '제니',\n",
       "  'heading': '신년회 모임 일정',\n",
       "  'Body': '1월 2일 저녁 8시, 장소: 마포갈매기'}}"
      ]
     },
     "execution_count": 7,
     "metadata": {},
     "output_type": "execute_result"
    }
   ],
   "source": [
    "k_note"
   ]
  },
  {
   "cell_type": "markdown",
   "id": "e9152a18",
   "metadata": {},
   "source": [
    "### key값 자동 파싱"
   ]
  },
  {
   "cell_type": "code",
   "execution_count": 9,
   "id": "11c9f7c7",
   "metadata": {},
   "outputs": [
    {
     "name": "stdout",
     "output_type": "stream",
     "text": [
      "date\n",
      "method\n",
      "to\n",
      "from\n",
      "heading\n",
      "Body\n"
     ]
    }
   ],
   "source": [
    "# 자식을 가진 상위 dict노드에서 for문을 돌리면 개별적으로 받는 값은 하위 노드의 key값이다\n",
    "for child in k_note['note']:\n",
    "    print(child)"
   ]
  },
  {
   "cell_type": "markdown",
   "id": "43d07bda",
   "metadata": {},
   "source": [
    "### value 자동 파싱"
   ]
  },
  {
   "cell_type": "code",
   "execution_count": 19,
   "id": "242bfd6d",
   "metadata": {},
   "outputs": [
    {
     "name": "stdout",
     "output_type": "stream",
     "text": [
      "20190722\n",
      "gmail\n",
      "홍길동\n",
      "제니\n",
      "신년회 모임 일정\n",
      "1월 2일 저녁 8시, 장소: 마포갈매기\n"
     ]
    }
   ],
   "source": [
    "for key,value in k_note['note'].items():\n",
    "    print(value)"
   ]
  },
  {
   "cell_type": "code",
   "execution_count": null,
   "id": "274a838f",
   "metadata": {},
   "outputs": [],
   "source": []
  },
  {
   "cell_type": "markdown",
   "id": "7135784a",
   "metadata": {},
   "source": [
    "## Level2값 Key 값 자동으로 Parsing"
   ]
  },
  {
   "cell_type": "code",
   "execution_count": 11,
   "id": "6e834aec",
   "metadata": {},
   "outputs": [
    {
     "data": {
      "text/plain": [
       "{'note': {'date': '20190722',\n",
       "  'method': 'gmail',\n",
       "  'to': '홍길동',\n",
       "  'from': '제니',\n",
       "  'heading': '신년회 모임 일정',\n",
       "  'Body': '1월 2일 저녁 8시, 장소: 마포갈매기'}}"
      ]
     },
     "execution_count": 11,
     "metadata": {},
     "output_type": "execute_result"
    }
   ],
   "source": [
    "k_note"
   ]
  },
  {
   "cell_type": "code",
   "execution_count": 12,
   "id": "7a31256a",
   "metadata": {},
   "outputs": [
    {
     "data": {
      "text/plain": [
       "dict_keys(['note'])"
      ]
     },
     "execution_count": 12,
     "metadata": {},
     "output_type": "execute_result"
    }
   ],
   "source": [
    "k_note.keys()"
   ]
  },
  {
   "cell_type": "code",
   "execution_count": 13,
   "id": "cd76f913",
   "metadata": {},
   "outputs": [
    {
     "data": {
      "text/plain": [
       "dict_keys(['date', 'method', 'to', 'from', 'heading', 'Body'])"
      ]
     },
     "execution_count": 13,
     "metadata": {},
     "output_type": "execute_result"
    }
   ],
   "source": [
    "k_note['note'].keys()"
   ]
  }
 ],
 "metadata": {
  "kernelspec": {
   "display_name": "Python 3 (ipykernel)",
   "language": "python",
   "name": "python3"
  },
  "language_info": {
   "codemirror_mode": {
    "name": "ipython",
    "version": 3
   },
   "file_extension": ".py",
   "mimetype": "text/x-python",
   "name": "python",
   "nbconvert_exporter": "python",
   "pygments_lexer": "ipython3",
   "version": "3.9.13"
  }
 },
 "nbformat": 4,
 "nbformat_minor": 5
}
