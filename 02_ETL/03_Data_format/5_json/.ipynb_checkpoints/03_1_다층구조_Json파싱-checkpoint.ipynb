{
 "cells": [
  {
   "cell_type": "markdown",
   "id": "2d485426",
   "metadata": {},
   "source": [
    "## 다층구조 JSON 파싱"
   ]
  },
  {
   "cell_type": "raw",
   "id": "6e489e35",
   "metadata": {},
   "source": [
    "아래 xml 데이터를 JSON으로 변경하세요."
   ]
  },
  {
   "cell_type": "raw",
   "id": "fa630cee",
   "metadata": {},
   "source": [
    "<student_list>\n",
    "\t<student name=\"영호\" sex=\"남\">\n",
    "\t\t<age>45</age>\n",
    "\t\t<major>경영학</major>\n",
    "\t</student>\n",
    "\t<student name = \"세중\" sex=\"남\">\n",
    "\t\t<age>30</age>\n",
    "\t\t<major>정치외교</major>\n",
    "\t</student>\n",
    "\t<student name=\"치우\" sex=\"남\">\n",
    "\t\t<age>30</age>\n",
    "\t\t<major>신문방송학</major>\n",
    "\t</student>\n",
    "</student_list>"
   ]
  },
  {
   "cell_type": "code",
   "execution_count": 1,
   "id": "46b83651",
   "metadata": {},
   "outputs": [
    {
     "data": {
      "text/plain": [
       "{'student_list': [{'student': {'name': '영호',\n",
       "    'sex': '남',\n",
       "    'age': 45,\n",
       "    'major': '경영학'}},\n",
       "  {'student': {'name': '세중', 'sex': '남', 'age': 30, 'major': '정치외교'}},\n",
       "  {'student': {'name': '치우', 'sex': '남', 'age': 30, 'major': '신문방송학'}}]}"
      ]
     },
     "execution_count": 1,
     "metadata": {},
     "output_type": "execute_result"
    }
   ],
   "source": [
    "{\n",
    "    \"student_list\":[\n",
    "        {\n",
    "            \"student\":{\n",
    "                \"name\":\"영호\",\n",
    "                \"sex\":\"남\",\n",
    "                \"age\":45,\n",
    "                \"major\":\"경영학\",\n",
    "            }\n",
    "        },\n",
    "        {\n",
    "            \"student\":{\n",
    "                \"name\":\"세중\",\n",
    "                \"sex\":\"남\",\n",
    "                \"age\":30,\n",
    "                \"major\":\"정치외교\",\n",
    "            }\n",
    "        },\n",
    "        {\n",
    "            \"student\":{\n",
    "                \"name\":\"치우\",\n",
    "                \"sex\":\"남\",\n",
    "                \"age\":30,\n",
    "                \"major\":\"신문방송학\",\n",
    "            }\n",
    "        }\n",
    "    ]\n",
    "}"
   ]
  },
  {
   "cell_type": "markdown",
   "id": "fb976e24",
   "metadata": {},
   "source": [
    "### 위 dictionary는 아래와 같이 단순화 할 수 있음"
   ]
  },
  {
   "cell_type": "code",
   "execution_count": 2,
   "id": "0c5a615b",
   "metadata": {},
   "outputs": [
    {
     "data": {
      "text/plain": [
       "{'student_list': [{'name': '영호', 'sex': '남', 'age': 45, 'major': '경영학'},\n",
       "  {'name': '세중', 'sex': '남', 'age': 30, 'major': '정치외교'},\n",
       "  {'name': '치우', 'sex': '남', 'age': 30, 'major': '신문방송학'}]}"
      ]
     },
     "execution_count": 2,
     "metadata": {},
     "output_type": "execute_result"
    }
   ],
   "source": [
    "{\n",
    "    \"student_list\":[\n",
    "        {\n",
    "                \"name\":\"영호\",\n",
    "                \"sex\":\"남\",\n",
    "                \"age\":45,\n",
    "                \"major\":\"경영학\",\n",
    "        },\n",
    "        {\n",
    "                \"name\":\"세중\",\n",
    "                \"sex\":\"남\",\n",
    "                \"age\":30,\n",
    "                \"major\":\"정치외교\",\n",
    "        },\n",
    "        {\n",
    "                \"name\":\"치우\",\n",
    "                \"sex\":\"남\",\n",
    "                \"age\":30,\n",
    "                \"major\":\"신문방송학\",\n",
    "         }\n",
    "    ]\n",
    "}"
   ]
  },
  {
   "cell_type": "markdown",
   "id": "53e6e9e0",
   "metadata": {},
   "source": [
    "## 수동 Parsing"
   ]
  },
  {
   "cell_type": "code",
   "execution_count": 3,
   "id": "9d363b0c",
   "metadata": {},
   "outputs": [],
   "source": [
    "student_zero = {'student_list': [{'name': '영호', 'sex': '남', 'age': 45, 'major': '경영학'},\n",
    "  {'name': '세중', 'sex': '남', 'age': 30, 'major': '정치외교'},\n",
    "  {'name': '치우', 'sex': '남', 'age': 30, 'major': '신문방송학'}]}"
   ]
  },
  {
   "cell_type": "markdown",
   "id": "8a4e2472",
   "metadata": {},
   "source": [
    "### 레코드 상위노드 접근"
   ]
  },
  {
   "cell_type": "code",
   "execution_count": 4,
   "id": "d596a3b5",
   "metadata": {},
   "outputs": [
    {
     "data": {
      "text/plain": [
       "[{'name': '영호', 'sex': '남', 'age': 45, 'major': '경영학'},\n",
       " {'name': '세중', 'sex': '남', 'age': 30, 'major': '정치외교'},\n",
       " {'name': '치우', 'sex': '남', 'age': 30, 'major': '신문방송학'}]"
      ]
     },
     "execution_count": 4,
     "metadata": {},
     "output_type": "execute_result"
    }
   ],
   "source": [
    "student_zero['student_list']"
   ]
  },
  {
   "cell_type": "markdown",
   "id": "3d2f0062",
   "metadata": {},
   "source": [
    "### 행별 레코드 접근"
   ]
  },
  {
   "cell_type": "code",
   "execution_count": 5,
   "id": "8a864ec6",
   "metadata": {},
   "outputs": [
    {
     "data": {
      "text/plain": [
       "{'name': '영호', 'sex': '남', 'age': 45, 'major': '경영학'}"
      ]
     },
     "execution_count": 5,
     "metadata": {},
     "output_type": "execute_result"
    }
   ],
   "source": [
    "student_zero['student_list'][0]"
   ]
  },
  {
   "cell_type": "code",
   "execution_count": 6,
   "id": "57da562e",
   "metadata": {},
   "outputs": [
    {
     "data": {
      "text/plain": [
       "{'name': '세중', 'sex': '남', 'age': 30, 'major': '정치외교'}"
      ]
     },
     "execution_count": 6,
     "metadata": {},
     "output_type": "execute_result"
    }
   ],
   "source": [
    "student_zero['student_list'][1]"
   ]
  },
  {
   "cell_type": "code",
   "execution_count": 7,
   "id": "56502229",
   "metadata": {},
   "outputs": [
    {
     "data": {
      "text/plain": [
       "{'name': '치우', 'sex': '남', 'age': 30, 'major': '신문방송학'}"
      ]
     },
     "execution_count": 7,
     "metadata": {},
     "output_type": "execute_result"
    }
   ],
   "source": [
    "student_zero['student_list'][2]"
   ]
  },
  {
   "cell_type": "markdown",
   "id": "fc9dc83d",
   "metadata": {},
   "source": [
    "### 행별 세부 데이터 접근"
   ]
  },
  {
   "cell_type": "code",
   "execution_count": 8,
   "id": "320d3178",
   "metadata": {},
   "outputs": [
    {
     "data": {
      "text/plain": [
       "'영호'"
      ]
     },
     "execution_count": 8,
     "metadata": {},
     "output_type": "execute_result"
    }
   ],
   "source": [
    "student_zero['student_list'][0]['name']"
   ]
  },
  {
   "cell_type": "code",
   "execution_count": 9,
   "id": "790c4123",
   "metadata": {},
   "outputs": [
    {
     "data": {
      "text/plain": [
       "'남'"
      ]
     },
     "execution_count": 9,
     "metadata": {},
     "output_type": "execute_result"
    }
   ],
   "source": [
    "student_zero['student_list'][0]['sex']"
   ]
  },
  {
   "cell_type": "code",
   "execution_count": 10,
   "id": "f687ce07",
   "metadata": {},
   "outputs": [
    {
     "data": {
      "text/plain": [
       "45"
      ]
     },
     "execution_count": 10,
     "metadata": {},
     "output_type": "execute_result"
    }
   ],
   "source": [
    "student_zero['student_list'][0]['age']"
   ]
  },
  {
   "cell_type": "code",
   "execution_count": 11,
   "id": "f61610f8",
   "metadata": {},
   "outputs": [
    {
     "data": {
      "text/plain": [
       "'경영학'"
      ]
     },
     "execution_count": 11,
     "metadata": {},
     "output_type": "execute_result"
    }
   ],
   "source": [
    "student_zero['student_list'][0]['major']"
   ]
  },
  {
   "cell_type": "markdown",
   "id": "444ba4dd",
   "metadata": {},
   "source": [
    "### 전체 데이터 자동 Parsing"
   ]
  },
  {
   "cell_type": "code",
   "execution_count": 12,
   "id": "5a978eaf",
   "metadata": {},
   "outputs": [
    {
     "data": {
      "text/plain": [
       "{'student_list': [{'name': '영호', 'sex': '남', 'age': 45, 'major': '경영학'},\n",
       "  {'name': '세중', 'sex': '남', 'age': 30, 'major': '정치외교'},\n",
       "  {'name': '치우', 'sex': '남', 'age': 30, 'major': '신문방송학'}]}"
      ]
     },
     "execution_count": 12,
     "metadata": {},
     "output_type": "execute_result"
    }
   ],
   "source": [
    "student_zero"
   ]
  },
  {
   "cell_type": "code",
   "execution_count": 13,
   "id": "df1bdc41",
   "metadata": {},
   "outputs": [
    {
     "name": "stdout",
     "output_type": "stream",
     "text": [
      "name \n",
      "sex \n",
      "age \n",
      "major \n"
     ]
    }
   ],
   "source": [
    "student = {'name': '영호', 'sex': '남', 'age': 45, 'major': '경영학'}\n",
    "for each_data in student:\n",
    "    print(f'{each_data} ')"
   ]
  },
  {
   "cell_type": "code",
   "execution_count": 14,
   "id": "ddda5547",
   "metadata": {},
   "outputs": [
    {
     "name": "stdout",
     "output_type": "stream",
     "text": [
      "영호 남 45 경영학 \n",
      "세중 남 30 정치외교 \n",
      "치우 남 30 신문방송학 \n"
     ]
    }
   ],
   "source": [
    "for student in student_zero['student_list']:\n",
    "    for key, value in student.items():\n",
    "        print(f'{value} ', end='')\n",
    "    print()"
   ]
  },
  {
   "cell_type": "markdown",
   "id": "696a3f5c",
   "metadata": {},
   "source": [
    "## DataFrame 정보 추출"
   ]
  },
  {
   "cell_type": "code",
   "execution_count": 15,
   "id": "80649c36",
   "metadata": {},
   "outputs": [],
   "source": [
    "column_list=[]\n",
    "all_data=[]\n",
    "is_first=True\n",
    "for student in student_zero['student_list']:\n",
    "    row_data_list=[]\n",
    "    for key, value in student.items():\n",
    "        if is_first:\n",
    "            column_list.append(key)\n",
    "        row_data_list.append(value)\n",
    "    all_data.append(row_data_list)\n",
    "    is_first=False"
   ]
  },
  {
   "cell_type": "code",
   "execution_count": 16,
   "id": "1d3eac6a",
   "metadata": {},
   "outputs": [
    {
     "data": {
      "text/plain": [
       "['name', 'sex', 'age', 'major']"
      ]
     },
     "execution_count": 16,
     "metadata": {},
     "output_type": "execute_result"
    }
   ],
   "source": [
    "column_list"
   ]
  },
  {
   "cell_type": "code",
   "execution_count": 17,
   "id": "2cefff1a",
   "metadata": {},
   "outputs": [
    {
     "data": {
      "text/plain": [
       "[['영호', '남', 45, '경영학'], ['세중', '남', 30, '정치외교'], ['치우', '남', 30, '신문방송학']]"
      ]
     },
     "execution_count": 17,
     "metadata": {},
     "output_type": "execute_result"
    }
   ],
   "source": [
    "all_data"
   ]
  },
  {
   "cell_type": "code",
   "execution_count": 18,
   "id": "0f649277",
   "metadata": {},
   "outputs": [
    {
     "data": {
      "text/html": [
       "<div>\n",
       "<style scoped>\n",
       "    .dataframe tbody tr th:only-of-type {\n",
       "        vertical-align: middle;\n",
       "    }\n",
       "\n",
       "    .dataframe tbody tr th {\n",
       "        vertical-align: top;\n",
       "    }\n",
       "\n",
       "    .dataframe thead th {\n",
       "        text-align: right;\n",
       "    }\n",
       "</style>\n",
       "<table border=\"1\" class=\"dataframe\">\n",
       "  <thead>\n",
       "    <tr style=\"text-align: right;\">\n",
       "      <th></th>\n",
       "      <th>name</th>\n",
       "      <th>sex</th>\n",
       "      <th>age</th>\n",
       "      <th>major</th>\n",
       "    </tr>\n",
       "  </thead>\n",
       "  <tbody>\n",
       "    <tr>\n",
       "      <th>0</th>\n",
       "      <td>영호</td>\n",
       "      <td>남</td>\n",
       "      <td>45</td>\n",
       "      <td>경영학</td>\n",
       "    </tr>\n",
       "    <tr>\n",
       "      <th>1</th>\n",
       "      <td>세중</td>\n",
       "      <td>남</td>\n",
       "      <td>30</td>\n",
       "      <td>정치외교</td>\n",
       "    </tr>\n",
       "    <tr>\n",
       "      <th>2</th>\n",
       "      <td>치우</td>\n",
       "      <td>남</td>\n",
       "      <td>30</td>\n",
       "      <td>신문방송학</td>\n",
       "    </tr>\n",
       "  </tbody>\n",
       "</table>\n",
       "</div>"
      ],
      "text/plain": [
       "  name sex  age  major\n",
       "0   영호   남   45    경영학\n",
       "1   세중   남   30   정치외교\n",
       "2   치우   남   30  신문방송학"
      ]
     },
     "execution_count": 18,
     "metadata": {},
     "output_type": "execute_result"
    }
   ],
   "source": [
    "import pandas as pd\n",
    "df = pd.DataFrame(all_data, columns=column_list)\n",
    "df"
   ]
  },
  {
   "cell_type": "code",
   "execution_count": 19,
   "id": "4acc2e9c",
   "metadata": {},
   "outputs": [
    {
     "name": "stdout",
     "output_type": "stream",
     "text": [
      "json file saved\n"
     ]
    }
   ],
   "source": [
    "import json\n",
    "with open('student_zero.json','w',encoding='cp949') as outfile:\n",
    "    readable_result = json.dumps(student_zero,indent=4,sort_keys=True,ensure_ascii=False)\n",
    "    outfile.write(readable_result)\n",
    "    print('json file saved')"
   ]
  },
  {
   "cell_type": "code",
   "execution_count": 20,
   "id": "210029a3",
   "metadata": {},
   "outputs": [],
   "source": [
    "df.to_csv('student_zero.csv', encoding='cp949', index=False)"
   ]
  },
  {
   "cell_type": "code",
   "execution_count": null,
   "id": "adafb1f5",
   "metadata": {},
   "outputs": [],
   "source": []
  }
 ],
 "metadata": {
  "kernelspec": {
   "display_name": "Python 3 (ipykernel)",
   "language": "python",
   "name": "python3"
  },
  "language_info": {
   "codemirror_mode": {
    "name": "ipython",
    "version": 3
   },
   "file_extension": ".py",
   "mimetype": "text/x-python",
   "name": "python",
   "nbconvert_exporter": "python",
   "pygments_lexer": "ipython3",
   "version": "3.9.13"
  }
 },
 "nbformat": 4,
 "nbformat_minor": 5
}
