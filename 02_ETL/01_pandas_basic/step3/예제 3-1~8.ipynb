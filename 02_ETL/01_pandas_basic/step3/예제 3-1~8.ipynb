{
 "cells": [
  {
   "cell_type": "markdown",
   "id": "875fd887",
   "metadata": {},
   "source": [
    "## 예제 3-1 시리즈와 데이터프레임 내의 속성 확인 및 리스트 변환"
   ]
  },
  {
   "cell_type": "code",
   "execution_count": 2,
   "id": "3891053a",
   "metadata": {},
   "outputs": [],
   "source": [
    "import pandas as pd"
   ]
  },
  {
   "cell_type": "code",
   "execution_count": 3,
   "id": "d577ba79",
   "metadata": {},
   "outputs": [],
   "source": [
    "op = pd.read_csv(\"../data/series_dataframe.csv\")"
   ]
  },
  {
   "cell_type": "code",
   "execution_count": 4,
   "id": "f8c746f2",
   "metadata": {},
   "outputs": [
    {
     "data": {
      "text/html": [
       "<div>\n",
       "<style scoped>\n",
       "    .dataframe tbody tr th:only-of-type {\n",
       "        vertical-align: middle;\n",
       "    }\n",
       "\n",
       "    .dataframe tbody tr th {\n",
       "        vertical-align: top;\n",
       "    }\n",
       "\n",
       "    .dataframe thead th {\n",
       "        text-align: right;\n",
       "    }\n",
       "</style>\n",
       "<table border=\"1\" class=\"dataframe\">\n",
       "  <thead>\n",
       "    <tr style=\"text-align: right;\">\n",
       "      <th></th>\n",
       "      <th>Member</th>\n",
       "      <th>Series</th>\n",
       "      <th>DataFrame</th>\n",
       "    </tr>\n",
       "  </thead>\n",
       "  <tbody>\n",
       "    <tr>\n",
       "      <th>0</th>\n",
       "      <td>T</td>\n",
       "      <td>T</td>\n",
       "      <td>T</td>\n",
       "    </tr>\n",
       "    <tr>\n",
       "      <th>1</th>\n",
       "      <td>abs</td>\n",
       "      <td>abs</td>\n",
       "      <td>abs</td>\n",
       "    </tr>\n",
       "    <tr>\n",
       "      <th>2</th>\n",
       "      <td>add</td>\n",
       "      <td>add</td>\n",
       "      <td>add</td>\n",
       "    </tr>\n",
       "    <tr>\n",
       "      <th>3</th>\n",
       "      <td>add_prefix</td>\n",
       "      <td>add_prefix</td>\n",
       "      <td>add_prefix</td>\n",
       "    </tr>\n",
       "    <tr>\n",
       "      <th>4</th>\n",
       "      <td>add_suffix</td>\n",
       "      <td>add_suffix</td>\n",
       "      <td>add_suffix</td>\n",
       "    </tr>\n",
       "  </tbody>\n",
       "</table>\n",
       "</div>"
      ],
      "text/plain": [
       "       Member      Series   DataFrame\n",
       "0           T           T           T\n",
       "1         abs         abs         abs\n",
       "2         add         add         add\n",
       "3  add_prefix  add_prefix  add_prefix\n",
       "4  add_suffix  add_suffix  add_suffix"
      ]
     },
     "execution_count": 4,
     "metadata": {},
     "output_type": "execute_result"
    }
   ],
   "source": [
    "op.head()"
   ]
  },
  {
   "cell_type": "code",
   "execution_count": 4,
   "id": "860159b8",
   "metadata": {},
   "outputs": [
    {
     "data": {
      "text/plain": [
       "(264, 3)"
      ]
     },
     "execution_count": 4,
     "metadata": {},
     "output_type": "execute_result"
    }
   ],
   "source": [
    "op.shape"
   ]
  },
  {
   "cell_type": "code",
   "execution_count": 5,
   "id": "15f3c6b1",
   "metadata": {},
   "outputs": [
    {
     "data": {
      "text/plain": [
       "0    True\n",
       "1    True\n",
       "2    True\n",
       "3    True\n",
       "4    True\n",
       "dtype: bool"
      ]
     },
     "execution_count": 5,
     "metadata": {},
     "output_type": "execute_result"
    }
   ],
   "source": [
    "# 'Series'열과 'DataFrame' 열의 값이 같은가?\n",
    "(op['Series'] == op['DataFrame']).head()"
   ]
  },
  {
   "cell_type": "code",
   "execution_count": 6,
   "id": "8a7ba53c",
   "metadata": {},
   "outputs": [],
   "source": [
    "# 행의 필터링 조건 ... loc[행 == 행]\n",
    "op_eq = op.loc[(op['Series'] == op['DataFrame'])]"
   ]
  },
  {
   "cell_type": "code",
   "execution_count": 7,
   "id": "b077b233",
   "metadata": {},
   "outputs": [
    {
     "data": {
      "text/plain": [
       "(190, 3)"
      ]
     },
     "execution_count": 7,
     "metadata": {},
     "output_type": "execute_result"
    }
   ],
   "source": [
    "op_eq.shape"
   ]
  },
  {
   "cell_type": "code",
   "execution_count": 8,
   "id": "c8e5f608",
   "metadata": {},
   "outputs": [
    {
     "data": {
      "text/html": [
       "<div>\n",
       "<style scoped>\n",
       "    .dataframe tbody tr th:only-of-type {\n",
       "        vertical-align: middle;\n",
       "    }\n",
       "\n",
       "    .dataframe tbody tr th {\n",
       "        vertical-align: top;\n",
       "    }\n",
       "\n",
       "    .dataframe thead th {\n",
       "        text-align: right;\n",
       "    }\n",
       "</style>\n",
       "<table border=\"1\" class=\"dataframe\">\n",
       "  <thead>\n",
       "    <tr style=\"text-align: right;\">\n",
       "      <th></th>\n",
       "      <th>Member</th>\n",
       "      <th>Series</th>\n",
       "      <th>DataFrame</th>\n",
       "    </tr>\n",
       "  </thead>\n",
       "  <tbody>\n",
       "    <tr>\n",
       "      <th>256</th>\n",
       "      <td>update</td>\n",
       "      <td>update</td>\n",
       "      <td>update</td>\n",
       "    </tr>\n",
       "    <tr>\n",
       "      <th>259</th>\n",
       "      <td>values</td>\n",
       "      <td>values</td>\n",
       "      <td>values</td>\n",
       "    </tr>\n",
       "    <tr>\n",
       "      <th>260</th>\n",
       "      <td>var</td>\n",
       "      <td>var</td>\n",
       "      <td>var</td>\n",
       "    </tr>\n",
       "    <tr>\n",
       "      <th>262</th>\n",
       "      <td>where</td>\n",
       "      <td>where</td>\n",
       "      <td>where</td>\n",
       "    </tr>\n",
       "    <tr>\n",
       "      <th>263</th>\n",
       "      <td>xs</td>\n",
       "      <td>xs</td>\n",
       "      <td>xs</td>\n",
       "    </tr>\n",
       "  </tbody>\n",
       "</table>\n",
       "</div>"
      ],
      "text/plain": [
       "     Member  Series DataFrame\n",
       "256  update  update    update\n",
       "259  values  values    values\n",
       "260     var     var       var\n",
       "262   where   where     where\n",
       "263      xs      xs        xs"
      ]
     },
     "execution_count": 8,
     "metadata": {},
     "output_type": "execute_result"
    }
   ],
   "source": [
    "# 끝에서 5개\n",
    "op_eq.tail()"
   ]
  },
  {
   "cell_type": "code",
   "execution_count": 9,
   "id": "918f397e",
   "metadata": {},
   "outputs": [],
   "source": [
    "op_eq_list = op_eq['Member'].tolist()"
   ]
  },
  {
   "cell_type": "code",
   "execution_count": 10,
   "id": "66fd1e26",
   "metadata": {},
   "outputs": [
    {
     "data": {
      "text/plain": [
       "['T',\n",
       " 'abs',\n",
       " 'add',\n",
       " 'add_prefix',\n",
       " 'add_suffix',\n",
       " 'agg',\n",
       " 'aggregate',\n",
       " 'align',\n",
       " 'all',\n",
       " 'any',\n",
       " 'append',\n",
       " 'apply',\n",
       " 'as_blocks',\n",
       " 'as_matrix',\n",
       " 'asfreq',\n",
       " 'asof',\n",
       " 'astype',\n",
       " 'at',\n",
       " 'at_time',\n",
       " 'axes',\n",
       " 'between_time',\n",
       " 'bfill',\n",
       " 'blocks',\n",
       " 'bool',\n",
       " 'clip',\n",
       " 'clip_lower',\n",
       " 'clip_upper',\n",
       " 'combine',\n",
       " 'combine_first',\n",
       " 'compound',\n",
       " 'consolidate',\n",
       " 'convert_objects',\n",
       " 'copy',\n",
       " 'corr',\n",
       " 'count',\n",
       " 'cov',\n",
       " 'cummax',\n",
       " 'cummin',\n",
       " 'cumprod',\n",
       " 'cumsum',\n",
       " 'describe',\n",
       " 'diff',\n",
       " 'div',\n",
       " 'divide',\n",
       " 'dot',\n",
       " 'drop',\n",
       " 'drop_duplicates',\n",
       " 'dropna',\n",
       " 'dtypes',\n",
       " 'duplicated',\n",
       " 'empty',\n",
       " 'eq',\n",
       " 'equals',\n",
       " 'ewm',\n",
       " 'expanding',\n",
       " 'ffill',\n",
       " 'fillna',\n",
       " 'filter',\n",
       " 'first',\n",
       " 'first_valid_index',\n",
       " 'floordiv',\n",
       " 'from_csv',\n",
       " 'ftypes',\n",
       " 'ge',\n",
       " 'get',\n",
       " 'get_dtype_counts',\n",
       " 'get_ftype_counts',\n",
       " 'get_value',\n",
       " 'get_values',\n",
       " 'groupby',\n",
       " 'gt',\n",
       " 'head',\n",
       " 'hist',\n",
       " 'iat',\n",
       " 'idxmax',\n",
       " 'idxmin',\n",
       " 'iloc',\n",
       " 'index',\n",
       " 'infer_objects',\n",
       " 'interpolate',\n",
       " 'is_copy',\n",
       " 'isin',\n",
       " 'isna',\n",
       " 'isnull',\n",
       " 'ix',\n",
       " 'keys',\n",
       " 'kurt',\n",
       " 'kurtosis',\n",
       " 'last',\n",
       " 'last_valid_index',\n",
       " 'le',\n",
       " 'loc',\n",
       " 'lt',\n",
       " 'mad',\n",
       " 'mask',\n",
       " 'max',\n",
       " 'mean',\n",
       " 'median',\n",
       " 'memory_usage',\n",
       " 'min',\n",
       " 'mod',\n",
       " 'mode',\n",
       " 'mul',\n",
       " 'multiply',\n",
       " 'ndim',\n",
       " 'ne',\n",
       " 'nlargest',\n",
       " 'notna',\n",
       " 'notnull',\n",
       " 'nsmallest',\n",
       " 'nunique',\n",
       " 'pct_change',\n",
       " 'pipe',\n",
       " 'plot',\n",
       " 'pop',\n",
       " 'pow',\n",
       " 'prod',\n",
       " 'product',\n",
       " 'quantile',\n",
       " 'radd',\n",
       " 'rank',\n",
       " 'rdiv',\n",
       " 'reindex',\n",
       " 'reindex_axis',\n",
       " 'reindex_like',\n",
       " 'rename',\n",
       " 'rename_axis',\n",
       " 'reorder_levels',\n",
       " 'replace',\n",
       " 'resample',\n",
       " 'reset_index',\n",
       " 'rfloordiv',\n",
       " 'rmod',\n",
       " 'rmul',\n",
       " 'rolling',\n",
       " 'round',\n",
       " 'rpow',\n",
       " 'rsub',\n",
       " 'rtruediv',\n",
       " 'sample',\n",
       " 'select',\n",
       " 'sem',\n",
       " 'set_axis',\n",
       " 'set_value',\n",
       " 'shape',\n",
       " 'shift',\n",
       " 'size',\n",
       " 'skew',\n",
       " 'slice_shift',\n",
       " 'sort_index',\n",
       " 'sort_values',\n",
       " 'sortlevel',\n",
       " 'squeeze',\n",
       " 'std',\n",
       " 'sub',\n",
       " 'subtract',\n",
       " 'sum',\n",
       " 'swapaxes',\n",
       " 'swaplevel',\n",
       " 'tail',\n",
       " 'take',\n",
       " 'to_clipboard',\n",
       " 'to_csv',\n",
       " 'to_dense',\n",
       " 'to_dict',\n",
       " 'to_excel',\n",
       " 'to_hdf',\n",
       " 'to_json',\n",
       " 'to_latex',\n",
       " 'to_msgpack',\n",
       " 'to_period',\n",
       " 'to_pickle',\n",
       " 'to_sparse',\n",
       " 'to_sql',\n",
       " 'to_string',\n",
       " 'to_timestamp',\n",
       " 'to_xarray',\n",
       " 'transform',\n",
       " 'transpose',\n",
       " 'truediv',\n",
       " 'truncate',\n",
       " 'tshift',\n",
       " 'tz_convert',\n",
       " 'tz_localize',\n",
       " 'unstack',\n",
       " 'update',\n",
       " 'values',\n",
       " 'var',\n",
       " 'where',\n",
       " 'xs']"
      ]
     },
     "execution_count": 10,
     "metadata": {},
     "output_type": "execute_result"
    }
   ],
   "source": [
    "op_eq_list"
   ]
  },
  {
   "cell_type": "markdown",
   "id": "dc628aaa",
   "metadata": {},
   "source": [
    "## 예제 3-2 연산자와 메소드계산"
   ]
  },
  {
   "cell_type": "code",
   "execution_count": 11,
   "id": "bfd47cb8",
   "metadata": {},
   "outputs": [],
   "source": [
    "college = pd.read_csv(\"../data/2017_college_tuition.csv\", encoding=\"euc-kr\")"
   ]
  },
  {
   "cell_type": "code",
   "execution_count": 12,
   "id": "835e0ec6",
   "metadata": {},
   "outputs": [
    {
     "data": {
      "text/plain": [
       "(196, 3)"
      ]
     },
     "execution_count": 12,
     "metadata": {},
     "output_type": "execute_result"
    }
   ],
   "source": [
    "college.shape"
   ]
  },
  {
   "cell_type": "code",
   "execution_count": 13,
   "id": "2c1291fc",
   "metadata": {},
   "outputs": [
    {
     "data": {
      "text/html": [
       "<div>\n",
       "<style scoped>\n",
       "    .dataframe tbody tr th:only-of-type {\n",
       "        vertical-align: middle;\n",
       "    }\n",
       "\n",
       "    .dataframe tbody tr th {\n",
       "        vertical-align: top;\n",
       "    }\n",
       "\n",
       "    .dataframe thead th {\n",
       "        text-align: right;\n",
       "    }\n",
       "</style>\n",
       "<table border=\"1\" class=\"dataframe\">\n",
       "  <thead>\n",
       "    <tr style=\"text-align: right;\">\n",
       "      <th></th>\n",
       "      <th>학교명</th>\n",
       "      <th>설립구분</th>\n",
       "      <th>평균등록금</th>\n",
       "    </tr>\n",
       "  </thead>\n",
       "  <tbody>\n",
       "    <tr>\n",
       "      <th>0</th>\n",
       "      <td>강릉원주대학교</td>\n",
       "      <td>국공립</td>\n",
       "      <td>4262</td>\n",
       "    </tr>\n",
       "    <tr>\n",
       "      <th>1</th>\n",
       "      <td>강원대학교</td>\n",
       "      <td>국공립</td>\n",
       "      <td>4116</td>\n",
       "    </tr>\n",
       "    <tr>\n",
       "      <th>2</th>\n",
       "      <td>경남과학기술대학교</td>\n",
       "      <td>국공립</td>\n",
       "      <td>3771</td>\n",
       "    </tr>\n",
       "    <tr>\n",
       "      <th>3</th>\n",
       "      <td>경북대학교</td>\n",
       "      <td>국공립</td>\n",
       "      <td>4351</td>\n",
       "    </tr>\n",
       "    <tr>\n",
       "      <th>4</th>\n",
       "      <td>경상대학교</td>\n",
       "      <td>국공립</td>\n",
       "      <td>3967</td>\n",
       "    </tr>\n",
       "  </tbody>\n",
       "</table>\n",
       "</div>"
      ],
      "text/plain": [
       "         학교명 설립구분  평균등록금\n",
       "0    강릉원주대학교  국공립   4262\n",
       "1      강원대학교  국공립   4116\n",
       "2  경남과학기술대학교  국공립   3771\n",
       "3      경북대학교  국공립   4351\n",
       "4      경상대학교  국공립   3967"
      ]
     },
     "execution_count": 13,
     "metadata": {},
     "output_type": "execute_result"
    }
   ],
   "source": [
    "college.head()"
   ]
  },
  {
   "cell_type": "code",
   "execution_count": 14,
   "id": "9e03f132",
   "metadata": {},
   "outputs": [
    {
     "data": {
      "text/plain": [
       "학교명      object\n",
       "설립구분     object\n",
       "평균등록금     int64\n",
       "dtype: object"
      ]
     },
     "execution_count": 14,
     "metadata": {},
     "output_type": "execute_result"
    }
   ],
   "source": [
    "college.dtypes"
   ]
  },
  {
   "cell_type": "code",
   "execution_count": 15,
   "id": "02d9c286",
   "metadata": {},
   "outputs": [],
   "source": [
    "college['평균등록금'] = college['평균등록금'] * 1000"
   ]
  },
  {
   "cell_type": "code",
   "execution_count": 16,
   "id": "87f80cfe",
   "metadata": {},
   "outputs": [
    {
     "data": {
      "text/html": [
       "<div>\n",
       "<style scoped>\n",
       "    .dataframe tbody tr th:only-of-type {\n",
       "        vertical-align: middle;\n",
       "    }\n",
       "\n",
       "    .dataframe tbody tr th {\n",
       "        vertical-align: top;\n",
       "    }\n",
       "\n",
       "    .dataframe thead th {\n",
       "        text-align: right;\n",
       "    }\n",
       "</style>\n",
       "<table border=\"1\" class=\"dataframe\">\n",
       "  <thead>\n",
       "    <tr style=\"text-align: right;\">\n",
       "      <th></th>\n",
       "      <th>학교명</th>\n",
       "      <th>설립구분</th>\n",
       "      <th>평균등록금</th>\n",
       "    </tr>\n",
       "  </thead>\n",
       "  <tbody>\n",
       "    <tr>\n",
       "      <th>0</th>\n",
       "      <td>강릉원주대학교</td>\n",
       "      <td>국공립</td>\n",
       "      <td>4262000</td>\n",
       "    </tr>\n",
       "    <tr>\n",
       "      <th>1</th>\n",
       "      <td>강원대학교</td>\n",
       "      <td>국공립</td>\n",
       "      <td>4116000</td>\n",
       "    </tr>\n",
       "    <tr>\n",
       "      <th>2</th>\n",
       "      <td>경남과학기술대학교</td>\n",
       "      <td>국공립</td>\n",
       "      <td>3771000</td>\n",
       "    </tr>\n",
       "    <tr>\n",
       "      <th>3</th>\n",
       "      <td>경북대학교</td>\n",
       "      <td>국공립</td>\n",
       "      <td>4351000</td>\n",
       "    </tr>\n",
       "    <tr>\n",
       "      <th>4</th>\n",
       "      <td>경상대학교</td>\n",
       "      <td>국공립</td>\n",
       "      <td>3967000</td>\n",
       "    </tr>\n",
       "  </tbody>\n",
       "</table>\n",
       "</div>"
      ],
      "text/plain": [
       "         학교명 설립구분    평균등록금\n",
       "0    강릉원주대학교  국공립  4262000\n",
       "1      강원대학교  국공립  4116000\n",
       "2  경남과학기술대학교  국공립  3771000\n",
       "3      경북대학교  국공립  4351000\n",
       "4      경상대학교  국공립  3967000"
      ]
     },
     "execution_count": 16,
     "metadata": {},
     "output_type": "execute_result"
    }
   ],
   "source": [
    "college.head()"
   ]
  },
  {
   "cell_type": "code",
   "execution_count": 18,
   "id": "fde8b706",
   "metadata": {},
   "outputs": [
    {
     "data": {
      "text/plain": [
       "0    8524000\n",
       "1    8232000\n",
       "2    7542000\n",
       "3    8702000\n",
       "4    7934000\n",
       "Name: 평균등록금, dtype: int64"
      ]
     },
     "execution_count": 18,
     "metadata": {},
     "output_type": "execute_result"
    }
   ],
   "source": [
    "(college['평균등록금'] + college['평균등록금']).head()"
   ]
  },
  {
   "cell_type": "code",
   "execution_count": 19,
   "id": "78edbd4a",
   "metadata": {},
   "outputs": [
    {
     "data": {
      "text/plain": [
       "0    8524000\n",
       "1    8232000\n",
       "2    7542000\n",
       "3    8702000\n",
       "4    7934000\n",
       "Name: 평균등록금, dtype: int64"
      ]
     },
     "execution_count": 19,
     "metadata": {},
     "output_type": "execute_result"
    }
   ],
   "source": [
    "college['평균등록금'].add(college['평균등록금']).head()"
   ]
  },
  {
   "cell_type": "markdown",
   "id": "1e05d839",
   "metadata": {},
   "source": [
    "## 예제 3-3 특정 자료형을 가지고 열을 구분하기"
   ]
  },
  {
   "cell_type": "code",
   "execution_count": 21,
   "id": "5b789b2c",
   "metadata": {},
   "outputs": [
    {
     "data": {
      "text/html": [
       "<div>\n",
       "<style scoped>\n",
       "    .dataframe tbody tr th:only-of-type {\n",
       "        vertical-align: middle;\n",
       "    }\n",
       "\n",
       "    .dataframe tbody tr th {\n",
       "        vertical-align: top;\n",
       "    }\n",
       "\n",
       "    .dataframe thead th {\n",
       "        text-align: right;\n",
       "    }\n",
       "</style>\n",
       "<table border=\"1\" class=\"dataframe\">\n",
       "  <thead>\n",
       "    <tr style=\"text-align: right;\">\n",
       "      <th></th>\n",
       "      <th>학교명</th>\n",
       "      <th>설립구분</th>\n",
       "      <th>평균등록금</th>\n",
       "    </tr>\n",
       "  </thead>\n",
       "  <tbody>\n",
       "    <tr>\n",
       "      <th>0</th>\n",
       "      <td>강릉원주대학교</td>\n",
       "      <td>국공립</td>\n",
       "      <td>4262000</td>\n",
       "    </tr>\n",
       "    <tr>\n",
       "      <th>1</th>\n",
       "      <td>강원대학교</td>\n",
       "      <td>국공립</td>\n",
       "      <td>4116000</td>\n",
       "    </tr>\n",
       "  </tbody>\n",
       "</table>\n",
       "</div>"
      ],
      "text/plain": [
       "       학교명 설립구분    평균등록금\n",
       "0  강릉원주대학교  국공립  4262000\n",
       "1    강원대학교  국공립  4116000"
      ]
     },
     "execution_count": 21,
     "metadata": {},
     "output_type": "execute_result"
    }
   ],
   "source": [
    "college.head(2)"
   ]
  },
  {
   "cell_type": "code",
   "execution_count": 22,
   "id": "a9319c38",
   "metadata": {},
   "outputs": [
    {
     "data": {
      "text/plain": [
       "학교명      object\n",
       "설립구분     object\n",
       "평균등록금     int64\n",
       "dtype: object"
      ]
     },
     "execution_count": 22,
     "metadata": {},
     "output_type": "execute_result"
    }
   ],
   "source": [
    "college.dtypes"
   ]
  },
  {
   "cell_type": "code",
   "execution_count": 23,
   "id": "13bb56b1",
   "metadata": {},
   "outputs": [
    {
     "data": {
      "text/html": [
       "<div>\n",
       "<style scoped>\n",
       "    .dataframe tbody tr th:only-of-type {\n",
       "        vertical-align: middle;\n",
       "    }\n",
       "\n",
       "    .dataframe tbody tr th {\n",
       "        vertical-align: top;\n",
       "    }\n",
       "\n",
       "    .dataframe thead th {\n",
       "        text-align: right;\n",
       "    }\n",
       "</style>\n",
       "<table border=\"1\" class=\"dataframe\">\n",
       "  <thead>\n",
       "    <tr style=\"text-align: right;\">\n",
       "      <th></th>\n",
       "      <th>평균등록금</th>\n",
       "    </tr>\n",
       "  </thead>\n",
       "  <tbody>\n",
       "    <tr>\n",
       "      <th>0</th>\n",
       "      <td>4262000</td>\n",
       "    </tr>\n",
       "    <tr>\n",
       "      <th>1</th>\n",
       "      <td>4116000</td>\n",
       "    </tr>\n",
       "    <tr>\n",
       "      <th>2</th>\n",
       "      <td>3771000</td>\n",
       "    </tr>\n",
       "    <tr>\n",
       "      <th>3</th>\n",
       "      <td>4351000</td>\n",
       "    </tr>\n",
       "    <tr>\n",
       "      <th>4</th>\n",
       "      <td>3967000</td>\n",
       "    </tr>\n",
       "  </tbody>\n",
       "</table>\n",
       "</div>"
      ],
      "text/plain": [
       "     평균등록금\n",
       "0  4262000\n",
       "1  4116000\n",
       "2  3771000\n",
       "3  4351000\n",
       "4  3967000"
      ]
     },
     "execution_count": 23,
     "metadata": {},
     "output_type": "execute_result"
    }
   ],
   "source": [
    "# index타입이 'int64'인 것을 select한다.\n",
    "college.select_dtypes(include = ['int64']).head()"
   ]
  },
  {
   "cell_type": "code",
   "execution_count": null,
   "id": "a0e95ccb",
   "metadata": {},
   "outputs": [],
   "source": [
    "# 숫자자료형인 number로도 구분가능"
   ]
  },
  {
   "cell_type": "code",
   "execution_count": 24,
   "id": "c2e3b65d",
   "metadata": {},
   "outputs": [
    {
     "data": {
      "text/html": [
       "<div>\n",
       "<style scoped>\n",
       "    .dataframe tbody tr th:only-of-type {\n",
       "        vertical-align: middle;\n",
       "    }\n",
       "\n",
       "    .dataframe tbody tr th {\n",
       "        vertical-align: top;\n",
       "    }\n",
       "\n",
       "    .dataframe thead th {\n",
       "        text-align: right;\n",
       "    }\n",
       "</style>\n",
       "<table border=\"1\" class=\"dataframe\">\n",
       "  <thead>\n",
       "    <tr style=\"text-align: right;\">\n",
       "      <th></th>\n",
       "      <th>평균등록금</th>\n",
       "    </tr>\n",
       "  </thead>\n",
       "  <tbody>\n",
       "    <tr>\n",
       "      <th>0</th>\n",
       "      <td>4262000</td>\n",
       "    </tr>\n",
       "    <tr>\n",
       "      <th>1</th>\n",
       "      <td>4116000</td>\n",
       "    </tr>\n",
       "    <tr>\n",
       "      <th>2</th>\n",
       "      <td>3771000</td>\n",
       "    </tr>\n",
       "    <tr>\n",
       "      <th>3</th>\n",
       "      <td>4351000</td>\n",
       "    </tr>\n",
       "    <tr>\n",
       "      <th>4</th>\n",
       "      <td>3967000</td>\n",
       "    </tr>\n",
       "  </tbody>\n",
       "</table>\n",
       "</div>"
      ],
      "text/plain": [
       "     평균등록금\n",
       "0  4262000\n",
       "1  4116000\n",
       "2  3771000\n",
       "3  4351000\n",
       "4  3967000"
      ]
     },
     "execution_count": 24,
     "metadata": {},
     "output_type": "execute_result"
    }
   ],
   "source": [
    "college.select_dtypes(include = ['number']).head()"
   ]
  },
  {
   "cell_type": "code",
   "execution_count": 25,
   "id": "1331b9f7",
   "metadata": {},
   "outputs": [
    {
     "data": {
      "text/html": [
       "<div>\n",
       "<style scoped>\n",
       "    .dataframe tbody tr th:only-of-type {\n",
       "        vertical-align: middle;\n",
       "    }\n",
       "\n",
       "    .dataframe tbody tr th {\n",
       "        vertical-align: top;\n",
       "    }\n",
       "\n",
       "    .dataframe thead th {\n",
       "        text-align: right;\n",
       "    }\n",
       "</style>\n",
       "<table border=\"1\" class=\"dataframe\">\n",
       "  <thead>\n",
       "    <tr style=\"text-align: right;\">\n",
       "      <th></th>\n",
       "      <th>학교명</th>\n",
       "      <th>설립구분</th>\n",
       "    </tr>\n",
       "  </thead>\n",
       "  <tbody>\n",
       "    <tr>\n",
       "      <th>0</th>\n",
       "      <td>강릉원주대학교</td>\n",
       "      <td>국공립</td>\n",
       "    </tr>\n",
       "    <tr>\n",
       "      <th>1</th>\n",
       "      <td>강원대학교</td>\n",
       "      <td>국공립</td>\n",
       "    </tr>\n",
       "    <tr>\n",
       "      <th>2</th>\n",
       "      <td>경남과학기술대학교</td>\n",
       "      <td>국공립</td>\n",
       "    </tr>\n",
       "    <tr>\n",
       "      <th>3</th>\n",
       "      <td>경북대학교</td>\n",
       "      <td>국공립</td>\n",
       "    </tr>\n",
       "    <tr>\n",
       "      <th>4</th>\n",
       "      <td>경상대학교</td>\n",
       "      <td>국공립</td>\n",
       "    </tr>\n",
       "  </tbody>\n",
       "</table>\n",
       "</div>"
      ],
      "text/plain": [
       "         학교명 설립구분\n",
       "0    강릉원주대학교  국공립\n",
       "1      강원대학교  국공립\n",
       "2  경남과학기술대학교  국공립\n",
       "3      경북대학교  국공립\n",
       "4      경상대학교  국공립"
      ]
     },
     "execution_count": 25,
     "metadata": {},
     "output_type": "execute_result"
    }
   ],
   "source": [
    "college.select_dtypes(include = ['object']).head()"
   ]
  },
  {
   "cell_type": "markdown",
   "id": "c91bbfd0",
   "metadata": {},
   "source": [
    "## 예제 3-4 시리즈 내의 자료값 확인하기"
   ]
  },
  {
   "cell_type": "code",
   "execution_count": 26,
   "id": "68e8b56a",
   "metadata": {},
   "outputs": [
    {
     "data": {
      "text/html": [
       "<div>\n",
       "<style scoped>\n",
       "    .dataframe tbody tr th:only-of-type {\n",
       "        vertical-align: middle;\n",
       "    }\n",
       "\n",
       "    .dataframe tbody tr th {\n",
       "        vertical-align: top;\n",
       "    }\n",
       "\n",
       "    .dataframe thead th {\n",
       "        text-align: right;\n",
       "    }\n",
       "</style>\n",
       "<table border=\"1\" class=\"dataframe\">\n",
       "  <thead>\n",
       "    <tr style=\"text-align: right;\">\n",
       "      <th></th>\n",
       "      <th>학교명</th>\n",
       "      <th>설립구분</th>\n",
       "      <th>평균등록금</th>\n",
       "    </tr>\n",
       "  </thead>\n",
       "  <tbody>\n",
       "    <tr>\n",
       "      <th>0</th>\n",
       "      <td>강릉원주대학교</td>\n",
       "      <td>국공립</td>\n",
       "      <td>4262000</td>\n",
       "    </tr>\n",
       "    <tr>\n",
       "      <th>1</th>\n",
       "      <td>강원대학교</td>\n",
       "      <td>국공립</td>\n",
       "      <td>4116000</td>\n",
       "    </tr>\n",
       "    <tr>\n",
       "      <th>2</th>\n",
       "      <td>경남과학기술대학교</td>\n",
       "      <td>국공립</td>\n",
       "      <td>3771000</td>\n",
       "    </tr>\n",
       "    <tr>\n",
       "      <th>3</th>\n",
       "      <td>경북대학교</td>\n",
       "      <td>국공립</td>\n",
       "      <td>4351000</td>\n",
       "    </tr>\n",
       "    <tr>\n",
       "      <th>4</th>\n",
       "      <td>경상대학교</td>\n",
       "      <td>국공립</td>\n",
       "      <td>3967000</td>\n",
       "    </tr>\n",
       "  </tbody>\n",
       "</table>\n",
       "</div>"
      ],
      "text/plain": [
       "         학교명 설립구분    평균등록금\n",
       "0    강릉원주대학교  국공립  4262000\n",
       "1      강원대학교  국공립  4116000\n",
       "2  경남과학기술대학교  국공립  3771000\n",
       "3      경북대학교  국공립  4351000\n",
       "4      경상대학교  국공립  3967000"
      ]
     },
     "execution_count": 26,
     "metadata": {},
     "output_type": "execute_result"
    }
   ],
   "source": [
    "college.head()"
   ]
  },
  {
   "cell_type": "code",
   "execution_count": 27,
   "id": "abe09832",
   "metadata": {},
   "outputs": [
    {
     "data": {
      "text/plain": [
       "3424000    2\n",
       "7161000    2\n",
       "4262000    1\n",
       "5967000    1\n",
       "7913000    1\n",
       "Name: 평균등록금, dtype: int64"
      ]
     },
     "execution_count": 27,
     "metadata": {},
     "output_type": "execute_result"
    }
   ],
   "source": [
    "# 예) 3424000값이 2개 있다.\n",
    "college['평균등록금'].value_counts().head()"
   ]
  },
  {
   "cell_type": "code",
   "execution_count": null,
   "id": "dd3a8ef9",
   "metadata": {},
   "outputs": [],
   "source": [
    "# normalize = True 인자를 넣어주면 퍼센트(빈도)로 반환"
   ]
  },
  {
   "cell_type": "code",
   "execution_count": 28,
   "id": "d2bb12a2",
   "metadata": {},
   "outputs": [
    {
     "data": {
      "text/plain": [
       "3424000    0.010204\n",
       "7161000    0.010204\n",
       "4262000    0.005102\n",
       "5967000    0.005102\n",
       "7913000    0.005102\n",
       "Name: 평균등록금, dtype: float64"
      ]
     },
     "execution_count": 28,
     "metadata": {},
     "output_type": "execute_result"
    }
   ],
   "source": [
    "college['평균등록금'].value_counts(normalize = True).head()"
   ]
  },
  {
   "cell_type": "code",
   "execution_count": 29,
   "id": "0ab43bab",
   "metadata": {},
   "outputs": [
    {
     "data": {
      "text/plain": [
       "사립     156\n",
       "국공립     40\n",
       "Name: 설립구분, dtype: int64"
      ]
     },
     "execution_count": 29,
     "metadata": {},
     "output_type": "execute_result"
    }
   ],
   "source": [
    "college['설립구분'].value_counts().head()"
   ]
  },
  {
   "cell_type": "code",
   "execution_count": 30,
   "id": "625a0a45",
   "metadata": {},
   "outputs": [
    {
     "data": {
      "text/plain": [
       "0    국공립\n",
       "1    국공립\n",
       "2    국공립\n",
       "3    국공립\n",
       "4    국공립\n",
       "Name: 설립구분, dtype: object"
      ]
     },
     "execution_count": 30,
     "metadata": {},
     "output_type": "execute_result"
    }
   ],
   "source": [
    "college['설립구분'].head()"
   ]
  },
  {
   "cell_type": "code",
   "execution_count": null,
   "id": "6aa118e8",
   "metadata": {},
   "outputs": [],
   "source": [
    "# duplicated 함수를 사용하면 중복되는값부터 True로 반환"
   ]
  },
  {
   "cell_type": "code",
   "execution_count": 31,
   "id": "7dcf8d7b",
   "metadata": {},
   "outputs": [
    {
     "data": {
      "text/plain": [
       "0    False\n",
       "1     True\n",
       "2     True\n",
       "3     True\n",
       "4     True\n",
       "Name: 설립구분, dtype: bool"
      ]
     },
     "execution_count": 31,
     "metadata": {},
     "output_type": "execute_result"
    }
   ],
   "source": [
    "college['설립구분'].duplicated().head()"
   ]
  },
  {
   "cell_type": "code",
   "execution_count": 32,
   "id": "f46fa222",
   "metadata": {},
   "outputs": [
    {
     "data": {
      "text/plain": [
       "array(['강릉원주대학교', '강원대학교', '경남과학기술대학교', '경북대학교', '경상대학교', '경인교육대학교',\n",
       "       '공주교육대학교', '공주대학교', '광주교육대학교', '군산대학교', '금오공과대학교', '대구교육대학교',\n",
       "       '목포대학교', '목포해양대학교', '부경대학교', '부산교육대학교', '부산대학교', '서울과학기술대학교',\n",
       "       '서울교육대학교', '서울대학교', '서울시립대학교', '순천대학교', '안동대학교', '인천대학교', '전남대학교',\n",
       "       '전북대학교', '전주교육대학교', '제주대학교', '진주교육대학교', '창원대학교', '청주교육대학교',\n",
       "       '춘천교육대학교', '충남대학교', '충북대학교', '한경대학교', '한국교원대학교', '한국교통대학교',\n",
       "       '한국체육대학교', '한국해양대학교', '한밭대학교', '가야대학교', '가천대학교', '가톨릭관동대학교',\n",
       "       '가톨릭대학교', '감리교신학대학교', '강남대학교', '건국대학교', '건양대학교', '경기대학교', '경남대학교',\n",
       "       '경동대학교', '경성대학교', '경운대학교', '경일대학교', '경주대학교', '경희대학교', '계명대학교',\n",
       "       '고려대학교', '고신대학교', '광신대학교', '광운대학교', '광주가톨릭대학교', '광주대학교', '광주여자대학교',\n",
       "       '국민대학교', '극동대학교', '금강대학교', '김천대학교', '꽃동네대학교', '나사렛대학교', '남부대학교',\n",
       "       '남서울대학교', '단국대학교', '대구가톨릭대학교', '대구대학교', '대구예술대학교', '대구외국어대학교',\n",
       "       '대구한의대학교', '대신대학교', '대전가톨릭대학교', '대전대학교', '대전신학대학교', '대진대학교',\n",
       "       '덕성여자대학교', '동국대학교', '동덕여자대학교', '동명대학교', '동서대학교', '동신대학교', '동아대학교',\n",
       "       '동양대학교', '동의대학교', '루터대학교', '명지대학교', '목원대학교', '목포가톨릭대학교', '배재대학교',\n",
       "       '백석대학교', '부산가톨릭대학교', '부산외국어대학교', '부산장신대학교', '삼육대학교', '상명대학교',\n",
       "       '상지대학교', '서강대학교', '서경대학교', '서남대학교', '서울기독대학교', '서울신학대학교',\n",
       "       '서울여자대학교', '서울장신대학교', '서원대학교', '선문대학교', '성결대학교', '성공회대학교',\n",
       "       '성균관대학교', '성신여자대학교', '세명대학교', '세종대학교', '세한대학교', '송원대학교',\n",
       "       '수원가톨릭대학교', '수원대학교', '숙명여자대학교', '순천향대학교', '숭실대학교', '신경대학교',\n",
       "       '신라대학교', '신한대학교', '아세아연합신학대학교', '아주대학교', '안양대학교', '연세대학교', '영남대학교',\n",
       "       '영남신학대학교', '영동대학교', '영산대학교', '영산선학대학교', '예수대학교', '예원예술대학교',\n",
       "       '용인대학교', '우석대학교', '우송대학교', '울산대학교', '원광대학교', '위덕대학교', '을지대학교',\n",
       "       '이화여자대학교', '인제대학교', '인천가톨릭대학교', '인하대학교', '장로회신학대학교', '전주대학교',\n",
       "       '제주국제대학교', '조선대학교', '중부대학교', '중앙대학교', '중앙승가대학교', '중원대학교',\n",
       "       '차의과학대학교', '창신대학교', '청운대학교', '청주대학교', '초당대학교', '총신대학교', '추계예술대학교',\n",
       "       '침례신학대학교', '칼빈대학교', '케이씨대학교', '평택대학교', '포항공과대학교', '한국국제대학교',\n",
       "       '한국기술교육대학교', '한국산업기술대학교', '한국성서대학교', '한국외국어대학교', '한국항공대학교',\n",
       "       '한남대학교', '한동대학교', '한라대학교', '한려대학교', '한림대학교', '한서대학교', '한성대학교',\n",
       "       '한세대학교', '한신대학교', '한양대학교', '한영신학대학교', '한일장신대학교', '한중대학교', '협성대학교',\n",
       "       '호남대학교', '호남신학대학교', '호서대학교', '호원대학교', '홍익대학교'], dtype=object)"
      ]
     },
     "execution_count": 32,
     "metadata": {},
     "output_type": "execute_result"
    }
   ],
   "source": [
    "college['학교명'].unique()"
   ]
  },
  {
   "cell_type": "code",
   "execution_count": 33,
   "id": "920791d1",
   "metadata": {},
   "outputs": [
    {
     "data": {
      "text/plain": [
       "array(['국공립', '사립'], dtype=object)"
      ]
     },
     "execution_count": 33,
     "metadata": {},
     "output_type": "execute_result"
    }
   ],
   "source": [
    "college['설립구분'].unique()"
   ]
  },
  {
   "cell_type": "markdown",
   "id": "f33ce006",
   "metadata": {},
   "source": [
    "## 예제 3-5 내부 구성값이 크기 비교"
   ]
  },
  {
   "cell_type": "code",
   "execution_count": 34,
   "id": "2e425c6e",
   "metadata": {},
   "outputs": [
    {
     "data": {
      "text/plain": [
       "173    9004000\n",
       "132    8824000\n",
       "128    8649000\n",
       "147    8526000\n",
       "146    8499000\n",
       "Name: 평균등록금, dtype: int64"
      ]
     },
     "execution_count": 34,
     "metadata": {},
     "output_type": "execute_result"
    }
   ],
   "source": [
    "# 가장 큰 값 5개 나열\n",
    "college['평균등록금'].nlargest(5)"
   ]
  },
  {
   "cell_type": "code",
   "execution_count": 36,
   "id": "f845eaf5",
   "metadata": {},
   "outputs": [
    {
     "data": {
      "text/plain": [
       "61           0\n",
       "157    1760000\n",
       "137    2000000\n",
       "20     2390000\n",
       "15     3024000\n",
       "Name: 평균등록금, dtype: int64"
      ]
     },
     "execution_count": 36,
     "metadata": {},
     "output_type": "execute_result"
    }
   ],
   "source": [
    "# 가장 작은 값 5개 나열\n",
    "college['평균등록금'].nsmallest(5)"
   ]
  },
  {
   "cell_type": "code",
   "execution_count": 37,
   "id": "2426b081",
   "metadata": {},
   "outputs": [
    {
     "data": {
      "text/html": [
       "<div>\n",
       "<style scoped>\n",
       "    .dataframe tbody tr th:only-of-type {\n",
       "        vertical-align: middle;\n",
       "    }\n",
       "\n",
       "    .dataframe tbody tr th {\n",
       "        vertical-align: top;\n",
       "    }\n",
       "\n",
       "    .dataframe thead th {\n",
       "        text-align: right;\n",
       "    }\n",
       "</style>\n",
       "<table border=\"1\" class=\"dataframe\">\n",
       "  <thead>\n",
       "    <tr style=\"text-align: right;\">\n",
       "      <th></th>\n",
       "      <th>학교명</th>\n",
       "      <th>설립구분</th>\n",
       "      <th>평균등록금</th>\n",
       "    </tr>\n",
       "  </thead>\n",
       "  <tbody>\n",
       "    <tr>\n",
       "      <th>173</th>\n",
       "      <td>한국산업기술대학교</td>\n",
       "      <td>사립</td>\n",
       "      <td>9004000</td>\n",
       "    </tr>\n",
       "    <tr>\n",
       "      <th>132</th>\n",
       "      <td>연세대학교</td>\n",
       "      <td>사립</td>\n",
       "      <td>8824000</td>\n",
       "    </tr>\n",
       "    <tr>\n",
       "      <th>128</th>\n",
       "      <td>신한대학교</td>\n",
       "      <td>사립</td>\n",
       "      <td>8649000</td>\n",
       "    </tr>\n",
       "    <tr>\n",
       "      <th>147</th>\n",
       "      <td>이화여자대학교</td>\n",
       "      <td>사립</td>\n",
       "      <td>8526000</td>\n",
       "    </tr>\n",
       "    <tr>\n",
       "      <th>146</th>\n",
       "      <td>을지대학교</td>\n",
       "      <td>사립</td>\n",
       "      <td>8499000</td>\n",
       "    </tr>\n",
       "  </tbody>\n",
       "</table>\n",
       "</div>"
      ],
      "text/plain": [
       "           학교명 설립구분    평균등록금\n",
       "173  한국산업기술대학교   사립  9004000\n",
       "132      연세대학교   사립  8824000\n",
       "128      신한대학교   사립  8649000\n",
       "147    이화여자대학교   사립  8526000\n",
       "146      을지대학교   사립  8499000"
      ]
     },
     "execution_count": 37,
     "metadata": {},
     "output_type": "execute_result"
    }
   ],
   "source": [
    "college.nlargest(5,'평균등록금')"
   ]
  },
  {
   "cell_type": "code",
   "execution_count": 38,
   "id": "9a12e975",
   "metadata": {},
   "outputs": [
    {
     "data": {
      "text/html": [
       "<div>\n",
       "<style scoped>\n",
       "    .dataframe tbody tr th:only-of-type {\n",
       "        vertical-align: middle;\n",
       "    }\n",
       "\n",
       "    .dataframe tbody tr th {\n",
       "        vertical-align: top;\n",
       "    }\n",
       "\n",
       "    .dataframe thead th {\n",
       "        text-align: right;\n",
       "    }\n",
       "</style>\n",
       "<table border=\"1\" class=\"dataframe\">\n",
       "  <thead>\n",
       "    <tr style=\"text-align: right;\">\n",
       "      <th></th>\n",
       "      <th>학교명</th>\n",
       "      <th>설립구분</th>\n",
       "      <th>평균등록금</th>\n",
       "    </tr>\n",
       "  </thead>\n",
       "  <tbody>\n",
       "    <tr>\n",
       "      <th>61</th>\n",
       "      <td>광주가톨릭대학교</td>\n",
       "      <td>사립</td>\n",
       "      <td>0</td>\n",
       "    </tr>\n",
       "    <tr>\n",
       "      <th>157</th>\n",
       "      <td>중앙승가대학교</td>\n",
       "      <td>사립</td>\n",
       "      <td>1760000</td>\n",
       "    </tr>\n",
       "    <tr>\n",
       "      <th>137</th>\n",
       "      <td>영산선학대학교</td>\n",
       "      <td>사립</td>\n",
       "      <td>2000000</td>\n",
       "    </tr>\n",
       "    <tr>\n",
       "      <th>20</th>\n",
       "      <td>서울시립대학교</td>\n",
       "      <td>국공립</td>\n",
       "      <td>2390000</td>\n",
       "    </tr>\n",
       "    <tr>\n",
       "      <th>15</th>\n",
       "      <td>부산교육대학교</td>\n",
       "      <td>국공립</td>\n",
       "      <td>3024000</td>\n",
       "    </tr>\n",
       "  </tbody>\n",
       "</table>\n",
       "</div>"
      ],
      "text/plain": [
       "          학교명 설립구분    평균등록금\n",
       "61   광주가톨릭대학교   사립        0\n",
       "157   중앙승가대학교   사립  1760000\n",
       "137   영산선학대학교   사립  2000000\n",
       "20    서울시립대학교  국공립  2390000\n",
       "15    부산교육대학교  국공립  3024000"
      ]
     },
     "execution_count": 38,
     "metadata": {},
     "output_type": "execute_result"
    }
   ],
   "source": [
    "college.nsmallest(5,'평균등록금')"
   ]
  },
  {
   "cell_type": "markdown",
   "id": "1b6606d3",
   "metadata": {},
   "source": [
    "## 예제 3-6,7 시리즈만 가지는 메소드"
   ]
  },
  {
   "cell_type": "code",
   "execution_count": 39,
   "id": "105d1816",
   "metadata": {},
   "outputs": [],
   "source": [
    "op = pd.read_csv(\"../data/series_dataframe.csv\")"
   ]
  },
  {
   "cell_type": "code",
   "execution_count": 40,
   "id": "11a6ef8c",
   "metadata": {},
   "outputs": [],
   "source": [
    "# 같지않은조건만들기\n",
    "op_not = op.loc[(op['Series'] != op['DataFrame'])]"
   ]
  },
  {
   "cell_type": "code",
   "execution_count": 41,
   "id": "fbcec4e0",
   "metadata": {},
   "outputs": [
    {
     "data": {
      "text/html": [
       "<div>\n",
       "<style scoped>\n",
       "    .dataframe tbody tr th:only-of-type {\n",
       "        vertical-align: middle;\n",
       "    }\n",
       "\n",
       "    .dataframe tbody tr th {\n",
       "        vertical-align: top;\n",
       "    }\n",
       "\n",
       "    .dataframe thead th {\n",
       "        text-align: right;\n",
       "    }\n",
       "</style>\n",
       "<table border=\"1\" class=\"dataframe\">\n",
       "  <thead>\n",
       "    <tr style=\"text-align: right;\">\n",
       "      <th></th>\n",
       "      <th>Member</th>\n",
       "      <th>Series</th>\n",
       "      <th>DataFrame</th>\n",
       "    </tr>\n",
       "  </thead>\n",
       "  <tbody>\n",
       "    <tr>\n",
       "      <th>12</th>\n",
       "      <td>applymap</td>\n",
       "      <td>NaN</td>\n",
       "      <td>applymap</td>\n",
       "    </tr>\n",
       "    <tr>\n",
       "      <th>13</th>\n",
       "      <td>argmax</td>\n",
       "      <td>argmax</td>\n",
       "      <td>NaN</td>\n",
       "    </tr>\n",
       "    <tr>\n",
       "      <th>14</th>\n",
       "      <td>argmin</td>\n",
       "      <td>argmin</td>\n",
       "      <td>NaN</td>\n",
       "    </tr>\n",
       "    <tr>\n",
       "      <th>15</th>\n",
       "      <td>argsort</td>\n",
       "      <td>argsort</td>\n",
       "      <td>NaN</td>\n",
       "    </tr>\n",
       "    <tr>\n",
       "      <th>19</th>\n",
       "      <td>asobject</td>\n",
       "      <td>asobject</td>\n",
       "      <td>NaN</td>\n",
       "    </tr>\n",
       "  </tbody>\n",
       "</table>\n",
       "</div>"
      ],
      "text/plain": [
       "      Member    Series DataFrame\n",
       "12  applymap       NaN  applymap\n",
       "13    argmax    argmax       NaN\n",
       "14    argmin    argmin       NaN\n",
       "15   argsort   argsort       NaN\n",
       "19  asobject  asobject       NaN"
      ]
     },
     "execution_count": 41,
     "metadata": {},
     "output_type": "execute_result"
    }
   ],
   "source": [
    "op_not.head()"
   ]
  },
  {
   "cell_type": "code",
   "execution_count": 42,
   "id": "05987c51",
   "metadata": {},
   "outputs": [
    {
     "data": {
      "text/plain": [
       "(74, 3)"
      ]
     },
     "execution_count": 42,
     "metadata": {},
     "output_type": "execute_result"
    }
   ],
   "source": [
    "op_not.shape"
   ]
  },
  {
   "cell_type": "code",
   "execution_count": 43,
   "id": "8e929e60",
   "metadata": {},
   "outputs": [],
   "source": [
    "op_ser = op_not['Series'].dropna()"
   ]
  },
  {
   "cell_type": "code",
   "execution_count": 45,
   "id": "f4a5adb5",
   "metadata": {},
   "outputs": [],
   "source": [
    "op_ser_list = op_ser.tolist()"
   ]
  },
  {
   "cell_type": "code",
   "execution_count": 46,
   "id": "313c231b",
   "metadata": {},
   "outputs": [],
   "source": [
    "import types"
   ]
  },
  {
   "cell_type": "code",
   "execution_count": 47,
   "id": "d3a59ebc",
   "metadata": {},
   "outputs": [
    {
     "name": "stdout",
     "output_type": "stream",
     "text": [
      "argsort,  autocorr,  between,  items,  iteritems,  \n",
      "map,  ravel,  repeat,  searchsorted,  to_frame,  \n",
      "unique,  view,  "
     ]
    }
   ],
   "source": [
    "# function타입이면 출력\n",
    "count = 0\n",
    "for i in op_ser_list :     \n",
    "    try :\n",
    "        \n",
    "        if type(pd.Series.__dict__[i])  ==  types.FunctionType :\n",
    "            print(i, end=',  ')\n",
    "            count += 1\n",
    "            if count % 5 == 0 :\n",
    "                print()\n",
    "    except Exception as e :\n",
    "        pass"
   ]
  },
  {
   "cell_type": "code",
   "execution_count": 48,
   "id": "353daf96",
   "metadata": {},
   "outputs": [],
   "source": [
    "import seaborn as sns"
   ]
  },
  {
   "cell_type": "code",
   "execution_count": 49,
   "id": "728c2641",
   "metadata": {},
   "outputs": [],
   "source": [
    "iris = sns.load_dataset('iris')"
   ]
  },
  {
   "cell_type": "code",
   "execution_count": 50,
   "id": "ab3e8924",
   "metadata": {},
   "outputs": [
    {
     "data": {
      "text/plain": [
       "Index(['sepal_length', 'sepal_width', 'petal_length', 'petal_width',\n",
       "       'species'],\n",
       "      dtype='object')"
      ]
     },
     "execution_count": 50,
     "metadata": {},
     "output_type": "execute_result"
    }
   ],
   "source": [
    "iris.columns"
   ]
  },
  {
   "cell_type": "code",
   "execution_count": 51,
   "id": "85bc9965",
   "metadata": {},
   "outputs": [
    {
     "data": {
      "text/html": [
       "<div>\n",
       "<style scoped>\n",
       "    .dataframe tbody tr th:only-of-type {\n",
       "        vertical-align: middle;\n",
       "    }\n",
       "\n",
       "    .dataframe tbody tr th {\n",
       "        vertical-align: top;\n",
       "    }\n",
       "\n",
       "    .dataframe thead th {\n",
       "        text-align: right;\n",
       "    }\n",
       "</style>\n",
       "<table border=\"1\" class=\"dataframe\">\n",
       "  <thead>\n",
       "    <tr style=\"text-align: right;\">\n",
       "      <th></th>\n",
       "      <th>sepal_length</th>\n",
       "      <th>sepal_width</th>\n",
       "      <th>petal_length</th>\n",
       "      <th>petal_width</th>\n",
       "      <th>species</th>\n",
       "    </tr>\n",
       "  </thead>\n",
       "  <tbody>\n",
       "    <tr>\n",
       "      <th>0</th>\n",
       "      <td>5.1</td>\n",
       "      <td>3.5</td>\n",
       "      <td>1.4</td>\n",
       "      <td>0.2</td>\n",
       "      <td>setosa</td>\n",
       "    </tr>\n",
       "    <tr>\n",
       "      <th>1</th>\n",
       "      <td>4.9</td>\n",
       "      <td>3.0</td>\n",
       "      <td>1.4</td>\n",
       "      <td>0.2</td>\n",
       "      <td>setosa</td>\n",
       "    </tr>\n",
       "    <tr>\n",
       "      <th>2</th>\n",
       "      <td>4.7</td>\n",
       "      <td>3.2</td>\n",
       "      <td>1.3</td>\n",
       "      <td>0.2</td>\n",
       "      <td>setosa</td>\n",
       "    </tr>\n",
       "    <tr>\n",
       "      <th>3</th>\n",
       "      <td>4.6</td>\n",
       "      <td>3.1</td>\n",
       "      <td>1.5</td>\n",
       "      <td>0.2</td>\n",
       "      <td>setosa</td>\n",
       "    </tr>\n",
       "    <tr>\n",
       "      <th>4</th>\n",
       "      <td>5.0</td>\n",
       "      <td>3.6</td>\n",
       "      <td>1.4</td>\n",
       "      <td>0.2</td>\n",
       "      <td>setosa</td>\n",
       "    </tr>\n",
       "  </tbody>\n",
       "</table>\n",
       "</div>"
      ],
      "text/plain": [
       "   sepal_length  sepal_width  petal_length  petal_width species\n",
       "0           5.1          3.5           1.4          0.2  setosa\n",
       "1           4.9          3.0           1.4          0.2  setosa\n",
       "2           4.7          3.2           1.3          0.2  setosa\n",
       "3           4.6          3.1           1.5          0.2  setosa\n",
       "4           5.0          3.6           1.4          0.2  setosa"
      ]
     },
     "execution_count": 51,
     "metadata": {},
     "output_type": "execute_result"
    }
   ],
   "source": [
    "iris.head()"
   ]
  },
  {
   "cell_type": "markdown",
   "id": "4d68285c",
   "metadata": {},
   "source": [
    "## 예제 3-8 인덱스 변경 및 대체"
   ]
  }
 ],
 "metadata": {
  "kernelspec": {
   "display_name": "Python 3 (ipykernel)",
   "language": "python",
   "name": "python3"
  },
  "language_info": {
   "codemirror_mode": {
    "name": "ipython",
    "version": 3
   },
   "file_extension": ".py",
   "mimetype": "text/x-python",
   "name": "python",
   "nbconvert_exporter": "python",
   "pygments_lexer": "ipython3",
   "version": "3.9.13"
  }
 },
 "nbformat": 4,
 "nbformat_minor": 5
}
