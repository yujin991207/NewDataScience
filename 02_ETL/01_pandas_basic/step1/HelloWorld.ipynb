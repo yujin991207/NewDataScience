{
 "cells": [
  {
   "cell_type": "code",
   "execution_count": 9,
   "id": "8789da7f",
   "metadata": {},
   "outputs": [
    {
     "name": "stdout",
     "output_type": "stream",
     "text": [
      "프로그램 실행 준비\n"
     ]
    }
   ],
   "source": [
    "print(\"프로그램 실행 준비\")"
   ]
  },
  {
   "cell_type": "code",
   "execution_count": 24,
   "id": "cbb95a94",
   "metadata": {},
   "outputs": [
    {
     "name": "stdout",
     "output_type": "stream",
     "text": [
      "Jupyter 테스트1\n"
     ]
    }
   ],
   "source": [
    "print(\"Jupyter 테스트1\")"
   ]
  },
  {
   "cell_type": "code",
   "execution_count": 25,
   "id": "49098861",
   "metadata": {},
   "outputs": [
    {
     "name": "stdout",
     "output_type": "stream",
     "text": [
      "Hello World\n",
      "첫번째 수를 입력하세요100\n",
      "100\n"
     ]
    }
   ],
   "source": [
    "# A키는 현재 셀의 위에서 새로운 셀을 만든다\n",
    "print(\"Hello World\")\n",
    "num1 = int(input(\"첫번째 수를 입력하세요\"))\n",
    "\n",
    "print(num1)\n",
    "# B키는 현재 셀의 아래에서 새로운 셀을 만든다"
   ]
  },
  {
   "cell_type": "code",
   "execution_count": 26,
   "id": "0b950be3",
   "metadata": {},
   "outputs": [
    {
     "data": {
      "text/plain": [
       "100"
      ]
     },
     "execution_count": 26,
     "metadata": {},
     "output_type": "execute_result"
    }
   ],
   "source": [
    "num1"
   ]
  },
  {
   "cell_type": "code",
   "execution_count": 27,
   "id": "159de135",
   "metadata": {},
   "outputs": [
    {
     "data": {
      "text/plain": [
       "int"
      ]
     },
     "execution_count": 27,
     "metadata": {},
     "output_type": "execute_result"
    }
   ],
   "source": [
    "type(num1)"
   ]
  },
  {
   "cell_type": "code",
   "execution_count": 28,
   "id": "87303d34",
   "metadata": {},
   "outputs": [
    {
     "name": "stdout",
     "output_type": "stream",
     "text": [
      "두번째 수를 입력하세요200\n"
     ]
    }
   ],
   "source": [
    "num2 = int(input(\"두번째 수를 입력하세요\"))"
   ]
  },
  {
   "cell_type": "code",
   "execution_count": 29,
   "id": "a93232eb",
   "metadata": {},
   "outputs": [
    {
     "data": {
      "text/plain": [
       "200"
      ]
     },
     "execution_count": 29,
     "metadata": {},
     "output_type": "execute_result"
    }
   ],
   "source": [
    "num2"
   ]
  },
  {
   "cell_type": "code",
   "execution_count": 30,
   "id": "9d0ba69a",
   "metadata": {
    "scrolled": true
   },
   "outputs": [
    {
     "data": {
      "text/plain": [
       "300"
      ]
     },
     "execution_count": 30,
     "metadata": {},
     "output_type": "execute_result"
    }
   ],
   "source": [
    "num1 + num2"
   ]
  },
  {
   "cell_type": "code",
   "execution_count": 23,
   "id": "f404ca2c",
   "metadata": {
    "scrolled": true
   },
   "outputs": [
    {
     "name": "stdout",
     "output_type": "stream",
     "text": [
      "Jupyter 테스트1\n",
      "Hello World\n",
      "첫번째 수를 입력하세요100\n",
      "100\n",
      "두번째 수를 입력하세요200\n"
     ]
    },
    {
     "data": {
      "text/plain": [
       "300"
      ]
     },
     "execution_count": 23,
     "metadata": {},
     "output_type": "execute_result"
    }
   ],
   "source": [
    "print(\"Jupyter 테스트1\")\n",
    "\n",
    "# A키는 현재 셀의 위에서 새로운 셀을 만든다\n",
    "print(\"Hello World\")\n",
    "num1 = int(input(\"첫번째 수를 입력하세요\"))\n",
    "\n",
    "print(num1)\n",
    "# B키는 현재 셀의 아래에서 새로운 셀을 만든다\n",
    "num2 = int(input(\"두번째 수를 입력하세요\"))\n",
    "\n",
    "num1 + num2"
   ]
  },
  {
   "cell_type": "code",
   "execution_count": 32,
   "id": "56407a23",
   "metadata": {},
   "outputs": [
    {
     "data": {
      "text/plain": [
       "20000"
      ]
     },
     "execution_count": 32,
     "metadata": {},
     "output_type": "execute_result"
    }
   ],
   "source": [
    "num1 * num2"
   ]
  }
 ],
 "metadata": {
  "kernelspec": {
   "display_name": "Python 3 (ipykernel)",
   "language": "python",
   "name": "python3"
  },
  "language_info": {
   "codemirror_mode": {
    "name": "ipython",
    "version": 3
   },
   "file_extension": ".py",
   "mimetype": "text/x-python",
   "name": "python",
   "nbconvert_exporter": "python",
   "pygments_lexer": "ipython3",
   "version": "3.9.13"
  }
 },
 "nbformat": 4,
 "nbformat_minor": 5
}
