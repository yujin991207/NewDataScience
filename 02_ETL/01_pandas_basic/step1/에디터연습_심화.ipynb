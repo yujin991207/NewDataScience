{
 "cells": [
  {
   "cell_type": "markdown",
   "id": "80d68382",
   "metadata": {},
   "source": [
    "# 키보드 단축키\n",
    "\n",
    "단축키 아래모드에서 각각 다르게 동작한다.\n",
    "* 편집모드\n",
    "* 명령모드"
   ]
  },
  {
   "cell_type": "markdown",
   "id": "6d49f750",
   "metadata": {},
   "source": [
    "## 두 모드 모두에서 사용 할 수 있는 단축키\n",
    "* Ctrl + Enter : 셀 실행  \n",
    "* Shift + Enter : 아래의 셀을 선택하고 셀 실행  \n",
    "* Alt + Enter : 셀 실행하고 아래에 새 셀 추가  \n",
    "* Ctrl + S : 저장"
   ]
  },
  {
   "cell_type": "code",
   "execution_count": 6,
   "id": "671d8edf",
   "metadata": {},
   "outputs": [],
   "source": [
    "number1 = 10\n",
    "number2 = 20\n",
    "result = number1 + number2"
   ]
  },
  {
   "cell_type": "code",
   "execution_count": 7,
   "id": "5a8e227f",
   "metadata": {},
   "outputs": [
    {
     "data": {
      "text/plain": [
       "30"
      ]
     },
     "execution_count": 7,
     "metadata": {},
     "output_type": "execute_result"
    }
   ],
   "source": [
    "result"
   ]
  },
  {
   "cell_type": "markdown",
   "id": "39ef5fc2",
   "metadata": {},
   "source": [
    "## 편집모드에서만 사용 할 수 있는 키보드 단축키"
   ]
  },
  {
   "cell_type": "markdown",
   "id": "04e8b00d",
   "metadata": {},
   "source": [
    "* Esc : 명령모드로 전환    \n",
    "* Ctrl + Shift + - : 셀 분할    \n",
    "* Ctrl + z : Undo\n",
    "* Ctrl + / : 주석(Comment) 추가   \n",
    "(멀티라인 주석처리는 블럭을 지정하여 Ctrl + / 입력을 한다.)"
   ]
  },
  {
   "cell_type": "code",
   "execution_count": 9,
   "id": "0ad2e295",
   "metadata": {},
   "outputs": [
    {
     "data": {
      "text/plain": [
       "30"
      ]
     },
     "execution_count": 9,
     "metadata": {},
     "output_type": "execute_result"
    }
   ],
   "source": [
    "result"
   ]
  },
  {
   "cell_type": "markdown",
   "id": "84694c96",
   "metadata": {},
   "source": [
    "## 명령 모드에서만 사용할 수 있는 키보드 단축키\n",
    "* Enter : 편집 모드로 전환\n",
    "* k : 이전 셀 선택\n",
    "* j : 다음 셀 선택\n",
    "* y/m/r :  코드 셀/ 마크다운 셀/ Raw 셀로 타입 전환\n",
    "* a/b : 현재 셀의 위/아래에 새 셀 추가  \n",
    "* dd : 현제 셀 삭제  \n",
    "* x/c/v : 현재 셀에 대한 cut/copy/paste\n",
    "* Shift + m : 아래 셀과 병합\n",
    "* z : 삭제한 셀에 대한 복원\n",
    "* f : find and replace\n",
    "* l(알파벳) : 셀의 라인을 Toggle\n",
    "* shift + l : 전체 셀 라인을 Toggle\n",
    "* o : 셀의 아웃풋을 Toggle\n",
    "* Space : 화면 단위 스크롤 다운\n",
    "* Shift + space : 화면 단위 스크롤 업\n",
    "* h : 키보드 단축키 전체 목록 조회"
   ]
  },
  {
   "cell_type": "code",
   "execution_count": 14,
   "id": "03c3357a",
   "metadata": {},
   "outputs": [],
   "source": [
    "number1 = 10\n",
    "number2 = 20\n",
    "result = number1 + number2"
   ]
  },
  {
   "cell_type": "code",
   "execution_count": 16,
   "id": "fb21d676",
   "metadata": {},
   "outputs": [
    {
     "data": {
      "text/plain": [
       "30"
      ]
     },
     "execution_count": 16,
     "metadata": {},
     "output_type": "execute_result"
    }
   ],
   "source": [
    "result"
   ]
  }
 ],
 "metadata": {
  "kernelspec": {
   "display_name": "Python 3 (ipykernel)",
   "language": "python",
   "name": "python3"
  },
  "language_info": {
   "codemirror_mode": {
    "name": "ipython",
    "version": 3
   },
   "file_extension": ".py",
   "mimetype": "text/x-python",
   "name": "python",
   "nbconvert_exporter": "python",
   "pygments_lexer": "ipython3",
   "version": "3.9.13"
  }
 },
 "nbformat": 4,
 "nbformat_minor": 5
}
