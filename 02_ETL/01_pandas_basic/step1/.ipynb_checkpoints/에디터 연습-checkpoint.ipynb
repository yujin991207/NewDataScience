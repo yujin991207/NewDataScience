{
 "cells": [
  {
   "cell_type": "markdown",
   "id": "cb1370f8",
   "metadata": {},
   "source": [
    "첫번째 에디터 연습"
   ]
  },
  {
   "cell_type": "markdown",
   "id": "d8e6c488",
   "metadata": {},
   "source": [
    "## - 폰트 사이즈 연습"
   ]
  },
  {
   "cell_type": "markdown",
   "id": "8682181e",
   "metadata": {},
   "source": [
    "### 작은 폰트 사이즈"
   ]
  },
  {
   "cell_type": "markdown",
   "id": "17f3e69c",
   "metadata": {},
   "source": [
    "#### 더 작은 폰트 사이즈"
   ]
  },
  {
   "cell_type": "markdown",
   "id": "9b17000d",
   "metadata": {},
   "source": [
    "##### 더 더 작은 폰트 사이즈"
   ]
  },
  {
   "cell_type": "code",
   "execution_count": 1,
   "id": "705d5d09",
   "metadata": {},
   "outputs": [
    {
     "data": {
      "text/plain": [
       "200"
      ]
     },
     "execution_count": 1,
     "metadata": {},
     "output_type": "execute_result"
    }
   ],
   "source": [
    "# 코드\n",
    "num1 = 100\n",
    "num2 = 100\n",
    "\n",
    "num1 + num2"
   ]
  },
  {
   "cell_type": "code",
   "execution_count": 1,
   "id": "89d871bf",
   "metadata": {},
   "outputs": [],
   "source": [
    "my_long_variable = 100"
   ]
  },
  {
   "cell_type": "code",
   "execution_count": null,
   "id": "c689bd00",
   "metadata": {},
   "outputs": [],
   "source": [
    "# 자동완성은 Tab, 단 해당 변수가 실행되어 있어야 한다.\n",
    "print(my_long_variable)\n",
    "\n",
    "# 함수 설명은 함수에 커서를 이동하고 Shift+Tab"
   ]
  }
 ],
 "metadata": {
  "kernelspec": {
   "display_name": "Python 3 (ipykernel)",
   "language": "python",
   "name": "python3"
  },
  "language_info": {
   "codemirror_mode": {
    "name": "ipython",
    "version": 3
   },
   "file_extension": ".py",
   "mimetype": "text/x-python",
   "name": "python",
   "nbconvert_exporter": "python",
   "pygments_lexer": "ipython3",
   "version": "3.9.13"
  }
 },
 "nbformat": 4,
 "nbformat_minor": 5
}
