{
 "cells": [
  {
   "cell_type": "markdown",
   "id": "11dbabe4",
   "metadata": {},
   "source": [
    "# 제목 크기별 표시"
   ]
  },
  {
   "cell_type": "markdown",
   "id": "c8d3e9a9",
   "metadata": {},
   "source": [
    "## (최대 6단계까지 표시)"
   ]
  },
  {
   "cell_type": "code",
   "execution_count": 1,
   "id": "50ef8d68",
   "metadata": {},
   "outputs": [],
   "source": [
    "# 첫번째 큰 제목\n",
    "## 두번째 큰 제목\n",
    "### 세번째 큰 제목\n",
    "#### 네번째 큰 제목\n",
    "##### 다섯번째 큰 제목\n",
    "###### 여섯번째 큰 제목"
   ]
  },
  {
   "cell_type": "markdown",
   "id": "4fdf7334",
   "metadata": {},
   "source": [
    "# 첫번째 큰 제목\n",
    "## 두번째 큰 제목\n",
    "### 세번째 큰 제목\n",
    "#### 네번째 큰 제목\n",
    "##### 다섯번째 큰 제목\n",
    "###### 여섯번째 큰 제목"
   ]
  },
  {
   "cell_type": "markdown",
   "id": "fa53d0d8",
   "metadata": {},
   "source": [
    "# 단축키 1~6으로 크기 조정"
   ]
  },
  {
   "cell_type": "markdown",
   "id": "6f64db79",
   "metadata": {},
   "source": [
    "# 파이썬 Code 입력"
   ]
  },
  {
   "cell_type": "markdown",
   "id": "deaa2d76",
   "metadata": {},
   "source": [
    "#### 이 문장의 크기를 단축키로 바꿔보세요"
   ]
  },
  {
   "cell_type": "raw",
   "id": "10341d46",
   "metadata": {},
   "source": [
    "~~~python\n",
    "파이썬코드입력\n",
    "~~~"
   ]
  },
  {
   "cell_type": "markdown",
   "id": "9fc95f68",
   "metadata": {},
   "source": [
    "~~~python\n",
    "num1 = 10\n",
    "num2 = 20\n",
    "result = num1 + num2\n",
    "result\n",
    "~~~"
   ]
  },
  {
   "cell_type": "markdown",
   "id": "de44848e",
   "metadata": {},
   "source": [
    "~~~python\n",
    "print(\"Hello jupyter notebook\")\n",
    "~~~"
   ]
  },
  {
   "cell_type": "markdown",
   "id": "7c94dde3",
   "metadata": {},
   "source": [
    "# 수평선"
   ]
  },
  {
   "cell_type": "markdown",
   "id": "b70e035e",
   "metadata": {},
   "source": [
    "---"
   ]
  },
  {
   "cell_type": "markdown",
   "id": "f72b8a6c",
   "metadata": {},
   "source": [
    "---"
   ]
  },
  {
   "cell_type": "markdown",
   "id": "05eb3dad",
   "metadata": {},
   "source": [
    "***"
   ]
  },
  {
   "cell_type": "markdown",
   "id": "2516b375",
   "metadata": {},
   "source": [
    "# 목록"
   ]
  },
  {
   "cell_type": "raw",
   "id": "c0f9b3ce",
   "metadata": {},
   "source": [
    "+ 첫번째\n",
    "+ 두번째\n",
    "+ 세번째"
   ]
  },
  {
   "cell_type": "markdown",
   "id": "34a8b2ec",
   "metadata": {},
   "source": [
    "+ 첫번째\n",
    "+ 두번째\n",
    "+ 세번째"
   ]
  },
  {
   "cell_type": "raw",
   "id": "d043f8f4",
   "metadata": {},
   "source": [
    "- 첫번째\n",
    "- 두번째\n",
    "- 세번째"
   ]
  },
  {
   "cell_type": "markdown",
   "id": "5a61a0ed",
   "metadata": {},
   "source": [
    "- 첫번째\n",
    "- 두번째\n",
    "- 세번째"
   ]
  },
  {
   "cell_type": "raw",
   "id": "9dfcb722",
   "metadata": {},
   "source": [
    "* 첫번째\n",
    "* 두번째\n",
    "* 세번째"
   ]
  },
  {
   "cell_type": "markdown",
   "id": "a57d1a0e",
   "metadata": {},
   "source": [
    "* 첫번째\n",
    "* 두번째\n",
    "* 세번째"
   ]
  },
  {
   "cell_type": "markdown",
   "id": "73096199",
   "metadata": {},
   "source": [
    "# 블릿 계층화"
   ]
  },
  {
   "cell_type": "raw",
   "id": "ff2659fa",
   "metadata": {},
   "source": [
    "+ 첫번째 계층 목록\n",
    "    + 두번째 계층 목록\n",
    "        + 세번째 계층 목록"
   ]
  },
  {
   "cell_type": "markdown",
   "id": "e3d85218",
   "metadata": {},
   "source": [
    "+ 첫번째 계층 목록\n",
    "    + 두번째 계층 목록\n",
    "        + 세번째 계층 목록"
   ]
  },
  {
   "cell_type": "raw",
   "id": "40274610",
   "metadata": {},
   "source": [
    "- 첫번째 계층 목록\n",
    "    - 두번째 계층 목록\n",
    "        - 세번째 계층 목록"
   ]
  },
  {
   "cell_type": "markdown",
   "id": "faaacf5f",
   "metadata": {},
   "source": [
    "- 첫번째 계층 목록\n",
    "    - 두번째 계층 목록\n",
    "        - 세번째 계층 목록"
   ]
  },
  {
   "cell_type": "raw",
   "id": "409212d2",
   "metadata": {},
   "source": [
    "* 첫번째 계층 목록\n",
    "    * 두번째 계층 목록\n",
    "        * 세번째 계층 목록"
   ]
  },
  {
   "cell_type": "markdown",
   "id": "a54ea5c4",
   "metadata": {},
   "source": [
    "* 첫번째 계층 목록\n",
    "    * 두번째 계층 목록\n",
    "        * 세번째 계층 목록"
   ]
  },
  {
   "cell_type": "markdown",
   "id": "41a474f4",
   "metadata": {},
   "source": [
    "# 글씨 효과"
   ]
  },
  {
   "cell_type": "raw",
   "id": "0530e7ac",
   "metadata": {},
   "source": [
    "*기울어진 글씨입니다*"
   ]
  },
  {
   "cell_type": "markdown",
   "id": "f3e63558",
   "metadata": {},
   "source": [
    "*기울어진 글씨입니다*"
   ]
  },
  {
   "cell_type": "raw",
   "id": "95d33c71",
   "metadata": {},
   "source": [
    "_기울어진 글씨입니다_"
   ]
  },
  {
   "cell_type": "markdown",
   "id": "7c2f379b",
   "metadata": {},
   "source": [
    "_기울어진 글씨입니다_"
   ]
  },
  {
   "cell_type": "raw",
   "id": "546dfeb5",
   "metadata": {},
   "source": [
    "**굵은 글씨**"
   ]
  },
  {
   "cell_type": "markdown",
   "id": "0a7cb58e",
   "metadata": {},
   "source": [
    "**굵은 글씨**"
   ]
  },
  {
   "cell_type": "raw",
   "id": "cdb86277",
   "metadata": {},
   "source": [
    "__굵은 글씨__"
   ]
  },
  {
   "cell_type": "markdown",
   "id": "f269ad2e",
   "metadata": {},
   "source": [
    "__굵은 글씨__"
   ]
  },
  {
   "cell_type": "raw",
   "id": "e3c1e314",
   "metadata": {},
   "source": [
    "~~줄그어진 글씨~~"
   ]
  },
  {
   "cell_type": "markdown",
   "id": "bf545058",
   "metadata": {},
   "source": [
    "~~줄그어진 글씨~~"
   ]
  },
  {
   "cell_type": "markdown",
   "id": "0ea3bff8",
   "metadata": {},
   "source": [
    "**Y : 코드 모드\n",
    "M : 마크다운 모드\n",
    "R : Raw 모드**"
   ]
  },
  {
   "cell_type": "markdown",
   "id": "b7927d05",
   "metadata": {},
   "source": [
    "# 하이퍼링크"
   ]
  },
  {
   "cell_type": "raw",
   "id": "67f68ca2",
   "metadata": {},
   "source": [
    "[홈페이지이름](URL)\n",
    "예)\n",
    "[네이버](http://www.naver.com)"
   ]
  },
  {
   "cell_type": "markdown",
   "id": "3fe7aec0",
   "metadata": {},
   "source": [
    "[네이버](http://www.naver.com)"
   ]
  },
  {
   "cell_type": "markdown",
   "id": "c3c7ce9a",
   "metadata": {},
   "source": [
    "# 줄바꿈 "
   ]
  },
  {
   "cell_type": "markdown",
   "id": "05930e36",
   "metadata": {},
   "source": [
    "나는 자랑스러운 태극기 앞에\n",
    "조국과 민족의 무궁한 영광을 위해"
   ]
  },
  {
   "cell_type": "raw",
   "id": "7a5de5a9",
   "metadata": {},
   "source": [
    "나는 자랑스러운 태극기 앞에[공백(Space)문자 2개 입력]\n",
    "조국과 민족의 무궁한 영광을 위해"
   ]
  },
  {
   "cell_type": "markdown",
   "id": "2917f381",
   "metadata": {},
   "source": [
    "나는 자랑스러운 태극기 앞에  \n",
    "조국과 민족의 무궁한 영광을 위해"
   ]
  },
  {
   "cell_type": "markdown",
   "id": "77cace58",
   "metadata": {},
   "source": [
    "# 테이블"
   ]
  },
  {
   "cell_type": "raw",
   "id": "46266514",
   "metadata": {},
   "source": [
    "|  이름  | 국어성적 | 영어성적 | 수학성적 |\n",
    "|--------|----------|----------|----------|\n",
    "| 홍길동 |    95    |    80    |    98    |\n",
    "| 이순신 |    90    |    75    |    80    | \n",
    "| 갑순이 |    80    |    99    |    98    | "
   ]
  },
  {
   "cell_type": "markdown",
   "id": "c16013ce",
   "metadata": {},
   "source": [
    "|  이름  | 국어성적 | 영어성적 | 수학성적 |\n",
    "|--------|----------|----------|----------|\n",
    "| 홍길동 |    95    |    80    |    98    |\n",
    "| 이순신 |    90    |    75    |    80    | \n",
    "| 갑순이 |    80    |    99    |    98    | "
   ]
  },
  {
   "cell_type": "markdown",
   "id": "5329cc5c",
   "metadata": {},
   "source": [
    "# 수식(수학공식)입력"
   ]
  },
  {
   "cell_type": "markdown",
   "id": "c77f16ba",
   "metadata": {},
   "source": [
    "[LaTex 문법](https://ko.wikipedia.org/wiki/%EC%9C%84%ED%82%A4%EB%B0%B1%EA%B3%BC:TeX_%EB%AC%B8%EB%B2%95) 을 따름"
   ]
  },
  {
   "cell_type": "raw",
   "id": "1e547ed9",
   "metadata": {},
   "source": [
    "사용예)\n",
    "$$\\sqrt{x^3+y^3 \\over 2}$$"
   ]
  },
  {
   "cell_type": "markdown",
   "id": "c90fb49c",
   "metadata": {},
   "source": [
    "$$\\sqrt{x^3+y^3 \\over 2}$$"
   ]
  },
  {
   "cell_type": "markdown",
   "id": "b7043f7a",
   "metadata": {},
   "source": [
    "# HTML 코드"
   ]
  },
  {
   "cell_type": "raw",
   "id": "dc9843bd",
   "metadata": {},
   "source": [
    "<span style =\"color:red\">빨간색 글씨</span>\n",
    "<span style =\"color:blue\">파란색 글씨</span>\n",
    "<span style =\"color:#F8766D\">색상코드색의 글씨</span>"
   ]
  },
  {
   "cell_type": "markdown",
   "id": "86b9048b",
   "metadata": {},
   "source": [
    "<span style =\"color:red\">빨간색 글씨</span>  \n",
    "<span style =\"color:blue\">파란색 글씨</span>  \n",
    "<span style =\"color:#F8766D\">색상코드색의 글씨</span>"
   ]
  },
  {
   "cell_type": "markdown",
   "id": "936ef452",
   "metadata": {},
   "source": [
    "## Table"
   ]
  },
  {
   "cell_type": "raw",
   "id": "a2eb3c84",
   "metadata": {},
   "source": [
    "<table border =\"\">\n",
    "    <th>이름</th> <th>나이</th>\n",
    "    <tr>\n",
    "        <td>홍길동</td>\n",
    "        <td>33</td>\n",
    "    </tr>\n",
    "    \n",
    "     <tr>\n",
    "        <td>갑돌이</td>\n",
    "        <td>28</td>\n",
    "    </tr> \n",
    "</table>"
   ]
  },
  {
   "cell_type": "markdown",
   "id": "4d942aab",
   "metadata": {},
   "source": [
    "<table border =\"\">\n",
    "    <th>이름</th> <th>나이</th>\n",
    "    <tr>\n",
    "        <td>홍길동</td>\n",
    "        <td>33</td>\n",
    "    </tr>\n",
    "    \n",
    "     <tr>\n",
    "        <td>갑돌이</td>\n",
    "        <td>28</td>\n",
    "    </tr> \n",
    "</table>"
   ]
  }
 ],
 "metadata": {
  "kernelspec": {
   "display_name": "Python 3 (ipykernel)",
   "language": "python",
   "name": "python3"
  },
  "language_info": {
   "codemirror_mode": {
    "name": "ipython",
    "version": 3
   },
   "file_extension": ".py",
   "mimetype": "text/x-python",
   "name": "python",
   "nbconvert_exporter": "python",
   "pygments_lexer": "ipython3",
   "version": "3.9.13"
  }
 },
 "nbformat": 4,
 "nbformat_minor": 5
}
