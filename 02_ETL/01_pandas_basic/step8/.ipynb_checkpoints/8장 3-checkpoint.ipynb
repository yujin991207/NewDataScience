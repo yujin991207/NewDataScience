{
 "cells": [
  {
   "cell_type": "code",
   "execution_count": 1,
   "metadata": {},
   "outputs": [],
   "source": [
    "import pandas as pd"
   ]
  },
  {
   "cell_type": "markdown",
   "metadata": {},
   "source": [
    "## 예제 8-7  eval 함수와 메소드 처리하기"
   ]
  },
  {
   "cell_type": "code",
   "execution_count": 2,
   "metadata": {},
   "outputs": [],
   "source": [
    "import numpy as np"
   ]
  },
  {
   "cell_type": "code",
   "execution_count": 3,
   "metadata": {},
   "outputs": [],
   "source": [
    "rng = np.random.RandomState(42)"
   ]
  },
  {
   "cell_type": "code",
   "execution_count": 4,
   "metadata": {},
   "outputs": [],
   "source": [
    "nrows, ncols = 100000, 10"
   ]
  },
  {
   "cell_type": "code",
   "execution_count": 5,
   "metadata": {
    "scrolled": true
   },
   "outputs": [
    {
     "name": "stdout",
     "output_type": "stream",
     "text": [
      "<class 'generator'>\n"
     ]
    }
   ],
   "source": [
    "print(type(pd.DataFrame(rng.rand(nrows, ncols)) for i in range(2)))"
   ]
  },
  {
   "cell_type": "code",
   "execution_count": null,
   "metadata": {},
   "outputs": [],
   "source": []
  },
  {
   "cell_type": "code",
   "execution_count": 6,
   "metadata": {},
   "outputs": [],
   "source": [
    "# 0,1 두번 for문의 루프가 반복되면서 nrows, ncols 크기의 데이터 프레임을 각각 생성한다.\n",
    "df1, df2 = (pd.DataFrame(rng.rand(nrows, ncols))for i in range(2))"
   ]
  },
  {
   "cell_type": "code",
   "execution_count": 7,
   "metadata": {},
   "outputs": [
    {
     "data": {
      "text/html": [
       "<div>\n",
       "<style scoped>\n",
       "    .dataframe tbody tr th:only-of-type {\n",
       "        vertical-align: middle;\n",
       "    }\n",
       "\n",
       "    .dataframe tbody tr th {\n",
       "        vertical-align: top;\n",
       "    }\n",
       "\n",
       "    .dataframe thead th {\n",
       "        text-align: right;\n",
       "    }\n",
       "</style>\n",
       "<table border=\"1\" class=\"dataframe\">\n",
       "  <thead>\n",
       "    <tr style=\"text-align: right;\">\n",
       "      <th></th>\n",
       "      <th>0</th>\n",
       "      <th>1</th>\n",
       "      <th>2</th>\n",
       "      <th>3</th>\n",
       "      <th>4</th>\n",
       "      <th>5</th>\n",
       "      <th>6</th>\n",
       "      <th>7</th>\n",
       "      <th>8</th>\n",
       "      <th>9</th>\n",
       "    </tr>\n",
       "  </thead>\n",
       "  <tbody>\n",
       "    <tr>\n",
       "      <th>0</th>\n",
       "      <td>0.374540</td>\n",
       "      <td>0.950714</td>\n",
       "      <td>0.731994</td>\n",
       "      <td>0.598658</td>\n",
       "      <td>0.156019</td>\n",
       "      <td>0.155995</td>\n",
       "      <td>0.058084</td>\n",
       "      <td>0.866176</td>\n",
       "      <td>0.601115</td>\n",
       "      <td>0.708073</td>\n",
       "    </tr>\n",
       "    <tr>\n",
       "      <th>1</th>\n",
       "      <td>0.020584</td>\n",
       "      <td>0.969910</td>\n",
       "      <td>0.832443</td>\n",
       "      <td>0.212339</td>\n",
       "      <td>0.181825</td>\n",
       "      <td>0.183405</td>\n",
       "      <td>0.304242</td>\n",
       "      <td>0.524756</td>\n",
       "      <td>0.431945</td>\n",
       "      <td>0.291229</td>\n",
       "    </tr>\n",
       "    <tr>\n",
       "      <th>2</th>\n",
       "      <td>0.611853</td>\n",
       "      <td>0.139494</td>\n",
       "      <td>0.292145</td>\n",
       "      <td>0.366362</td>\n",
       "      <td>0.456070</td>\n",
       "      <td>0.785176</td>\n",
       "      <td>0.199674</td>\n",
       "      <td>0.514234</td>\n",
       "      <td>0.592415</td>\n",
       "      <td>0.046450</td>\n",
       "    </tr>\n",
       "    <tr>\n",
       "      <th>3</th>\n",
       "      <td>0.607545</td>\n",
       "      <td>0.170524</td>\n",
       "      <td>0.065052</td>\n",
       "      <td>0.948886</td>\n",
       "      <td>0.965632</td>\n",
       "      <td>0.808397</td>\n",
       "      <td>0.304614</td>\n",
       "      <td>0.097672</td>\n",
       "      <td>0.684233</td>\n",
       "      <td>0.440152</td>\n",
       "    </tr>\n",
       "    <tr>\n",
       "      <th>4</th>\n",
       "      <td>0.122038</td>\n",
       "      <td>0.495177</td>\n",
       "      <td>0.034389</td>\n",
       "      <td>0.909320</td>\n",
       "      <td>0.258780</td>\n",
       "      <td>0.662522</td>\n",
       "      <td>0.311711</td>\n",
       "      <td>0.520068</td>\n",
       "      <td>0.546710</td>\n",
       "      <td>0.184854</td>\n",
       "    </tr>\n",
       "  </tbody>\n",
       "</table>\n",
       "</div>"
      ],
      "text/plain": [
       "          0         1         2         3         4         5         6  \\\n",
       "0  0.374540  0.950714  0.731994  0.598658  0.156019  0.155995  0.058084   \n",
       "1  0.020584  0.969910  0.832443  0.212339  0.181825  0.183405  0.304242   \n",
       "2  0.611853  0.139494  0.292145  0.366362  0.456070  0.785176  0.199674   \n",
       "3  0.607545  0.170524  0.065052  0.948886  0.965632  0.808397  0.304614   \n",
       "4  0.122038  0.495177  0.034389  0.909320  0.258780  0.662522  0.311711   \n",
       "\n",
       "          7         8         9  \n",
       "0  0.866176  0.601115  0.708073  \n",
       "1  0.524756  0.431945  0.291229  \n",
       "2  0.514234  0.592415  0.046450  \n",
       "3  0.097672  0.684233  0.440152  \n",
       "4  0.520068  0.546710  0.184854  "
      ]
     },
     "execution_count": 7,
     "metadata": {},
     "output_type": "execute_result"
    }
   ],
   "source": [
    "df1.head()"
   ]
  },
  {
   "cell_type": "code",
   "execution_count": 8,
   "metadata": {},
   "outputs": [
    {
     "data": {
      "text/html": [
       "<div>\n",
       "<style scoped>\n",
       "    .dataframe tbody tr th:only-of-type {\n",
       "        vertical-align: middle;\n",
       "    }\n",
       "\n",
       "    .dataframe tbody tr th {\n",
       "        vertical-align: top;\n",
       "    }\n",
       "\n",
       "    .dataframe thead th {\n",
       "        text-align: right;\n",
       "    }\n",
       "</style>\n",
       "<table border=\"1\" class=\"dataframe\">\n",
       "  <thead>\n",
       "    <tr style=\"text-align: right;\">\n",
       "      <th></th>\n",
       "      <th>0</th>\n",
       "      <th>1</th>\n",
       "      <th>2</th>\n",
       "      <th>3</th>\n",
       "      <th>4</th>\n",
       "      <th>5</th>\n",
       "      <th>6</th>\n",
       "      <th>7</th>\n",
       "      <th>8</th>\n",
       "      <th>9</th>\n",
       "    </tr>\n",
       "  </thead>\n",
       "  <tbody>\n",
       "    <tr>\n",
       "      <th>0</th>\n",
       "      <td>0.595156</td>\n",
       "      <td>0.364717</td>\n",
       "      <td>0.005376</td>\n",
       "      <td>0.561088</td>\n",
       "      <td>0.896570</td>\n",
       "      <td>0.531717</td>\n",
       "      <td>0.780488</td>\n",
       "      <td>0.161954</td>\n",
       "      <td>0.137298</td>\n",
       "      <td>0.893944</td>\n",
       "    </tr>\n",
       "    <tr>\n",
       "      <th>1</th>\n",
       "      <td>0.782998</td>\n",
       "      <td>0.347410</td>\n",
       "      <td>0.800172</td>\n",
       "      <td>0.075326</td>\n",
       "      <td>0.517900</td>\n",
       "      <td>0.881456</td>\n",
       "      <td>0.843601</td>\n",
       "      <td>0.371253</td>\n",
       "      <td>0.228849</td>\n",
       "      <td>0.867865</td>\n",
       "    </tr>\n",
       "    <tr>\n",
       "      <th>2</th>\n",
       "      <td>0.266901</td>\n",
       "      <td>0.822025</td>\n",
       "      <td>0.266517</td>\n",
       "      <td>0.984533</td>\n",
       "      <td>0.360120</td>\n",
       "      <td>0.255362</td>\n",
       "      <td>0.599228</td>\n",
       "      <td>0.359710</td>\n",
       "      <td>0.810427</td>\n",
       "      <td>0.732750</td>\n",
       "    </tr>\n",
       "    <tr>\n",
       "      <th>3</th>\n",
       "      <td>0.632495</td>\n",
       "      <td>0.422013</td>\n",
       "      <td>0.834611</td>\n",
       "      <td>0.306137</td>\n",
       "      <td>0.295722</td>\n",
       "      <td>0.091476</td>\n",
       "      <td>0.563500</td>\n",
       "      <td>0.696945</td>\n",
       "      <td>0.712998</td>\n",
       "      <td>0.861404</td>\n",
       "    </tr>\n",
       "    <tr>\n",
       "      <th>4</th>\n",
       "      <td>0.567160</td>\n",
       "      <td>0.025521</td>\n",
       "      <td>0.175390</td>\n",
       "      <td>0.561330</td>\n",
       "      <td>0.317477</td>\n",
       "      <td>0.864216</td>\n",
       "      <td>0.228547</td>\n",
       "      <td>0.255269</td>\n",
       "      <td>0.842986</td>\n",
       "      <td>0.581316</td>\n",
       "    </tr>\n",
       "  </tbody>\n",
       "</table>\n",
       "</div>"
      ],
      "text/plain": [
       "          0         1         2         3         4         5         6  \\\n",
       "0  0.595156  0.364717  0.005376  0.561088  0.896570  0.531717  0.780488   \n",
       "1  0.782998  0.347410  0.800172  0.075326  0.517900  0.881456  0.843601   \n",
       "2  0.266901  0.822025  0.266517  0.984533  0.360120  0.255362  0.599228   \n",
       "3  0.632495  0.422013  0.834611  0.306137  0.295722  0.091476  0.563500   \n",
       "4  0.567160  0.025521  0.175390  0.561330  0.317477  0.864216  0.228547   \n",
       "\n",
       "          7         8         9  \n",
       "0  0.161954  0.137298  0.893944  \n",
       "1  0.371253  0.228849  0.867865  \n",
       "2  0.359710  0.810427  0.732750  \n",
       "3  0.696945  0.712998  0.861404  \n",
       "4  0.255269  0.842986  0.581316  "
      ]
     },
     "execution_count": 8,
     "metadata": {},
     "output_type": "execute_result"
    }
   ],
   "source": [
    "df2.head()"
   ]
  },
  {
   "cell_type": "code",
   "execution_count": 9,
   "metadata": {},
   "outputs": [
    {
     "data": {
      "text/html": [
       "<div>\n",
       "<style scoped>\n",
       "    .dataframe tbody tr th:only-of-type {\n",
       "        vertical-align: middle;\n",
       "    }\n",
       "\n",
       "    .dataframe tbody tr th {\n",
       "        vertical-align: top;\n",
       "    }\n",
       "\n",
       "    .dataframe thead th {\n",
       "        text-align: right;\n",
       "    }\n",
       "</style>\n",
       "<table border=\"1\" class=\"dataframe\">\n",
       "  <thead>\n",
       "    <tr style=\"text-align: right;\">\n",
       "      <th></th>\n",
       "      <th>0</th>\n",
       "      <th>1</th>\n",
       "      <th>2</th>\n",
       "      <th>3</th>\n",
       "      <th>4</th>\n",
       "      <th>5</th>\n",
       "      <th>6</th>\n",
       "      <th>7</th>\n",
       "      <th>8</th>\n",
       "      <th>9</th>\n",
       "    </tr>\n",
       "  </thead>\n",
       "  <tbody>\n",
       "    <tr>\n",
       "      <th>0</th>\n",
       "      <td>0.969696</td>\n",
       "      <td>1.315431</td>\n",
       "      <td>0.737370</td>\n",
       "      <td>1.159746</td>\n",
       "      <td>1.052589</td>\n",
       "      <td>0.687711</td>\n",
       "      <td>0.838571</td>\n",
       "      <td>1.028130</td>\n",
       "      <td>0.738413</td>\n",
       "      <td>1.602016</td>\n",
       "    </tr>\n",
       "    <tr>\n",
       "      <th>1</th>\n",
       "      <td>0.803583</td>\n",
       "      <td>1.317320</td>\n",
       "      <td>1.632615</td>\n",
       "      <td>0.287665</td>\n",
       "      <td>0.699725</td>\n",
       "      <td>1.064861</td>\n",
       "      <td>1.147843</td>\n",
       "      <td>0.896010</td>\n",
       "      <td>0.660794</td>\n",
       "      <td>1.159094</td>\n",
       "    </tr>\n",
       "    <tr>\n",
       "      <th>2</th>\n",
       "      <td>0.878754</td>\n",
       "      <td>0.961518</td>\n",
       "      <td>0.558662</td>\n",
       "      <td>1.350895</td>\n",
       "      <td>0.816190</td>\n",
       "      <td>1.040538</td>\n",
       "      <td>0.798902</td>\n",
       "      <td>0.873944</td>\n",
       "      <td>1.402842</td>\n",
       "      <td>0.779200</td>\n",
       "    </tr>\n",
       "    <tr>\n",
       "      <th>3</th>\n",
       "      <td>1.240040</td>\n",
       "      <td>0.592538</td>\n",
       "      <td>0.899663</td>\n",
       "      <td>1.255023</td>\n",
       "      <td>1.261354</td>\n",
       "      <td>0.899873</td>\n",
       "      <td>0.868114</td>\n",
       "      <td>0.794617</td>\n",
       "      <td>1.397231</td>\n",
       "      <td>1.301557</td>\n",
       "    </tr>\n",
       "    <tr>\n",
       "      <th>4</th>\n",
       "      <td>0.689199</td>\n",
       "      <td>0.520698</td>\n",
       "      <td>0.209779</td>\n",
       "      <td>1.470651</td>\n",
       "      <td>0.576257</td>\n",
       "      <td>1.526738</td>\n",
       "      <td>0.540258</td>\n",
       "      <td>0.775337</td>\n",
       "      <td>1.389696</td>\n",
       "      <td>0.766170</td>\n",
       "    </tr>\n",
       "  </tbody>\n",
       "</table>\n",
       "</div>"
      ],
      "text/plain": [
       "          0         1         2         3         4         5         6  \\\n",
       "0  0.969696  1.315431  0.737370  1.159746  1.052589  0.687711  0.838571   \n",
       "1  0.803583  1.317320  1.632615  0.287665  0.699725  1.064861  1.147843   \n",
       "2  0.878754  0.961518  0.558662  1.350895  0.816190  1.040538  0.798902   \n",
       "3  1.240040  0.592538  0.899663  1.255023  1.261354  0.899873  0.868114   \n",
       "4  0.689199  0.520698  0.209779  1.470651  0.576257  1.526738  0.540258   \n",
       "\n",
       "          7         8         9  \n",
       "0  1.028130  0.738413  1.602016  \n",
       "1  0.896010  0.660794  1.159094  \n",
       "2  0.873944  1.402842  0.779200  \n",
       "3  0.794617  1.397231  1.301557  \n",
       "4  0.775337  1.389696  0.766170  "
      ]
     },
     "execution_count": 9,
     "metadata": {},
     "output_type": "execute_result"
    }
   ],
   "source": [
    "(df1+df2).head(5)"
   ]
  },
  {
   "cell_type": "code",
   "execution_count": 10,
   "metadata": {},
   "outputs": [
    {
     "data": {
      "text/html": [
       "<div>\n",
       "<style scoped>\n",
       "    .dataframe tbody tr th:only-of-type {\n",
       "        vertical-align: middle;\n",
       "    }\n",
       "\n",
       "    .dataframe tbody tr th {\n",
       "        vertical-align: top;\n",
       "    }\n",
       "\n",
       "    .dataframe thead th {\n",
       "        text-align: right;\n",
       "    }\n",
       "</style>\n",
       "<table border=\"1\" class=\"dataframe\">\n",
       "  <thead>\n",
       "    <tr style=\"text-align: right;\">\n",
       "      <th></th>\n",
       "      <th>0</th>\n",
       "      <th>1</th>\n",
       "      <th>2</th>\n",
       "      <th>3</th>\n",
       "      <th>4</th>\n",
       "      <th>5</th>\n",
       "      <th>6</th>\n",
       "      <th>7</th>\n",
       "      <th>8</th>\n",
       "      <th>9</th>\n",
       "    </tr>\n",
       "  </thead>\n",
       "  <tbody>\n",
       "    <tr>\n",
       "      <th>0</th>\n",
       "      <td>0.969696</td>\n",
       "      <td>1.315431</td>\n",
       "      <td>0.737370</td>\n",
       "      <td>1.159746</td>\n",
       "      <td>1.052589</td>\n",
       "      <td>0.687711</td>\n",
       "      <td>0.838571</td>\n",
       "      <td>1.028130</td>\n",
       "      <td>0.738413</td>\n",
       "      <td>1.602016</td>\n",
       "    </tr>\n",
       "    <tr>\n",
       "      <th>1</th>\n",
       "      <td>0.803583</td>\n",
       "      <td>1.317320</td>\n",
       "      <td>1.632615</td>\n",
       "      <td>0.287665</td>\n",
       "      <td>0.699725</td>\n",
       "      <td>1.064861</td>\n",
       "      <td>1.147843</td>\n",
       "      <td>0.896010</td>\n",
       "      <td>0.660794</td>\n",
       "      <td>1.159094</td>\n",
       "    </tr>\n",
       "    <tr>\n",
       "      <th>2</th>\n",
       "      <td>0.878754</td>\n",
       "      <td>0.961518</td>\n",
       "      <td>0.558662</td>\n",
       "      <td>1.350895</td>\n",
       "      <td>0.816190</td>\n",
       "      <td>1.040538</td>\n",
       "      <td>0.798902</td>\n",
       "      <td>0.873944</td>\n",
       "      <td>1.402842</td>\n",
       "      <td>0.779200</td>\n",
       "    </tr>\n",
       "    <tr>\n",
       "      <th>3</th>\n",
       "      <td>1.240040</td>\n",
       "      <td>0.592538</td>\n",
       "      <td>0.899663</td>\n",
       "      <td>1.255023</td>\n",
       "      <td>1.261354</td>\n",
       "      <td>0.899873</td>\n",
       "      <td>0.868114</td>\n",
       "      <td>0.794617</td>\n",
       "      <td>1.397231</td>\n",
       "      <td>1.301557</td>\n",
       "    </tr>\n",
       "    <tr>\n",
       "      <th>4</th>\n",
       "      <td>0.689199</td>\n",
       "      <td>0.520698</td>\n",
       "      <td>0.209779</td>\n",
       "      <td>1.470651</td>\n",
       "      <td>0.576257</td>\n",
       "      <td>1.526738</td>\n",
       "      <td>0.540258</td>\n",
       "      <td>0.775337</td>\n",
       "      <td>1.389696</td>\n",
       "      <td>0.766170</td>\n",
       "    </tr>\n",
       "  </tbody>\n",
       "</table>\n",
       "</div>"
      ],
      "text/plain": [
       "          0         1         2         3         4         5         6  \\\n",
       "0  0.969696  1.315431  0.737370  1.159746  1.052589  0.687711  0.838571   \n",
       "1  0.803583  1.317320  1.632615  0.287665  0.699725  1.064861  1.147843   \n",
       "2  0.878754  0.961518  0.558662  1.350895  0.816190  1.040538  0.798902   \n",
       "3  1.240040  0.592538  0.899663  1.255023  1.261354  0.899873  0.868114   \n",
       "4  0.689199  0.520698  0.209779  1.470651  0.576257  1.526738  0.540258   \n",
       "\n",
       "          7         8         9  \n",
       "0  1.028130  0.738413  1.602016  \n",
       "1  0.896010  0.660794  1.159094  \n",
       "2  0.873944  1.402842  0.779200  \n",
       "3  0.794617  1.397231  1.301557  \n",
       "4  0.775337  1.389696  0.766170  "
      ]
     },
     "execution_count": 10,
     "metadata": {},
     "output_type": "execute_result"
    }
   ],
   "source": [
    " pd.eval('df1 + df2').head(5)"
   ]
  },
  {
   "cell_type": "code",
   "execution_count": 11,
   "metadata": {},
   "outputs": [
    {
     "name": "stdout",
     "output_type": "stream",
     "text": [
      "3.25 ms ± 124 µs per loop (mean ± std. dev. of 7 runs, 100 loops each)\n"
     ]
    }
   ],
   "source": [
    "%timeit df1 + df2"
   ]
  },
  {
   "cell_type": "code",
   "execution_count": 12,
   "metadata": {},
   "outputs": [
    {
     "name": "stdout",
     "output_type": "stream",
     "text": [
      "4.21 ms ± 89.6 µs per loop (mean ± std. dev. of 7 runs, 100 loops each)\n"
     ]
    }
   ],
   "source": [
    "%timeit pd.eval('df1 + df2')"
   ]
  },
  {
   "cell_type": "code",
   "execution_count": 13,
   "metadata": {},
   "outputs": [
    {
     "data": {
      "text/plain": [
       "True"
      ]
     },
     "execution_count": 13,
     "metadata": {},
     "output_type": "execute_result"
    }
   ],
   "source": [
    "# 두 연산의 결과가 같은지 판단하여 True/False를 반환함\n",
    "np.allclose(df1 + df2 ,pd.eval('df1 + df2 '))"
   ]
  },
  {
   "cell_type": "code",
   "execution_count": null,
   "metadata": {},
   "outputs": [],
   "source": []
  },
  {
   "cell_type": "code",
   "execution_count": 14,
   "metadata": {},
   "outputs": [],
   "source": [
    "nrows1, ncols1 = 100000, 100"
   ]
  },
  {
   "cell_type": "code",
   "execution_count": 15,
   "metadata": {},
   "outputs": [],
   "source": [
    "df11, df12,df13, df14 = (pd.DataFrame(rng.rand(nrows1, ncols1))for i in range(4))"
   ]
  },
  {
   "cell_type": "code",
   "execution_count": 16,
   "metadata": {},
   "outputs": [
    {
     "name": "stdout",
     "output_type": "stream",
     "text": [
      "96.4 ms ± 6.23 ms per loop (mean ± std. dev. of 7 runs, 10 loops each)\n"
     ]
    }
   ],
   "source": [
    "%timeit df11 + df12 + df13 + df14"
   ]
  },
  {
   "cell_type": "code",
   "execution_count": 17,
   "metadata": {},
   "outputs": [
    {
     "name": "stdout",
     "output_type": "stream",
     "text": [
      "42.1 ms ± 1.11 ms per loop (mean ± std. dev. of 7 runs, 10 loops each)\n"
     ]
    }
   ],
   "source": [
    "# 보다 많은 데이터를 생성하고 데이터 프레임도 확대대는 경우 좋은 성능을 낼 수 있다.\n",
    "%timeit pd.eval('df11 + df12 + df13 + df14')"
   ]
  },
  {
   "cell_type": "code",
   "execution_count": null,
   "metadata": {},
   "outputs": [],
   "source": []
  },
  {
   "cell_type": "code",
   "execution_count": 18,
   "metadata": {},
   "outputs": [],
   "source": [
    "dfa1 = pd. DataFrame(np.random.randn(10, 2), columns=['평균','분산'])"
   ]
  },
  {
   "cell_type": "code",
   "execution_count": 19,
   "metadata": {},
   "outputs": [
    {
     "data": {
      "text/html": [
       "<div>\n",
       "<style scoped>\n",
       "    .dataframe tbody tr th:only-of-type {\n",
       "        vertical-align: middle;\n",
       "    }\n",
       "\n",
       "    .dataframe tbody tr th {\n",
       "        vertical-align: top;\n",
       "    }\n",
       "\n",
       "    .dataframe thead th {\n",
       "        text-align: right;\n",
       "    }\n",
       "</style>\n",
       "<table border=\"1\" class=\"dataframe\">\n",
       "  <thead>\n",
       "    <tr style=\"text-align: right;\">\n",
       "      <th></th>\n",
       "      <th>평균</th>\n",
       "      <th>분산</th>\n",
       "    </tr>\n",
       "  </thead>\n",
       "  <tbody>\n",
       "    <tr>\n",
       "      <th>0</th>\n",
       "      <td>0.086883</td>\n",
       "      <td>0.398225</td>\n",
       "    </tr>\n",
       "    <tr>\n",
       "      <th>1</th>\n",
       "      <td>0.313659</td>\n",
       "      <td>0.289745</td>\n",
       "    </tr>\n",
       "    <tr>\n",
       "      <th>2</th>\n",
       "      <td>1.087594</td>\n",
       "      <td>0.185267</td>\n",
       "    </tr>\n",
       "    <tr>\n",
       "      <th>3</th>\n",
       "      <td>-0.950871</td>\n",
       "      <td>0.707735</td>\n",
       "    </tr>\n",
       "    <tr>\n",
       "      <th>4</th>\n",
       "      <td>-1.056072</td>\n",
       "      <td>-0.983585</td>\n",
       "    </tr>\n",
       "    <tr>\n",
       "      <th>5</th>\n",
       "      <td>-0.444928</td>\n",
       "      <td>0.422728</td>\n",
       "    </tr>\n",
       "    <tr>\n",
       "      <th>6</th>\n",
       "      <td>0.376443</td>\n",
       "      <td>1.458832</td>\n",
       "    </tr>\n",
       "    <tr>\n",
       "      <th>7</th>\n",
       "      <td>1.620327</td>\n",
       "      <td>-0.479999</td>\n",
       "    </tr>\n",
       "    <tr>\n",
       "      <th>8</th>\n",
       "      <td>0.755556</td>\n",
       "      <td>0.506155</td>\n",
       "    </tr>\n",
       "    <tr>\n",
       "      <th>9</th>\n",
       "      <td>0.526981</td>\n",
       "      <td>0.340220</td>\n",
       "    </tr>\n",
       "  </tbody>\n",
       "</table>\n",
       "</div>"
      ],
      "text/plain": [
       "         평균        분산\n",
       "0  0.086883  0.398225\n",
       "1  0.313659  0.289745\n",
       "2  1.087594  0.185267\n",
       "3 -0.950871  0.707735\n",
       "4 -1.056072 -0.983585\n",
       "5 -0.444928  0.422728\n",
       "6  0.376443  1.458832\n",
       "7  1.620327 -0.479999\n",
       "8  0.755556  0.506155\n",
       "9  0.526981  0.340220"
      ]
     },
     "execution_count": 19,
     "metadata": {},
     "output_type": "execute_result"
    }
   ],
   "source": [
    "dfa1"
   ]
  },
  {
   "cell_type": "code",
   "execution_count": 20,
   "metadata": {},
   "outputs": [
    {
     "data": {
      "text/plain": [
       "0    0.485108\n",
       "1    0.603404\n",
       "2    1.272861\n",
       "3   -0.243136\n",
       "4   -2.039656\n",
       "5   -0.022200\n",
       "6    1.835275\n",
       "7    1.140328\n",
       "8    1.261712\n",
       "9    0.867201\n",
       "dtype: float64"
      ]
     },
     "execution_count": 20,
     "metadata": {},
     "output_type": "execute_result"
    }
   ],
   "source": [
    "dfa1.eval( '평균 + 분산 ')"
   ]
  },
  {
   "cell_type": "code",
   "execution_count": 21,
   "metadata": {},
   "outputs": [
    {
     "data": {
      "text/html": [
       "<div>\n",
       "<style scoped>\n",
       "    .dataframe tbody tr th:only-of-type {\n",
       "        vertical-align: middle;\n",
       "    }\n",
       "\n",
       "    .dataframe tbody tr th {\n",
       "        vertical-align: top;\n",
       "    }\n",
       "\n",
       "    .dataframe thead th {\n",
       "        text-align: right;\n",
       "    }\n",
       "</style>\n",
       "<table border=\"1\" class=\"dataframe\">\n",
       "  <thead>\n",
       "    <tr style=\"text-align: right;\">\n",
       "      <th></th>\n",
       "      <th>평균</th>\n",
       "      <th>분산</th>\n",
       "      <th>편차</th>\n",
       "    </tr>\n",
       "  </thead>\n",
       "  <tbody>\n",
       "    <tr>\n",
       "      <th>0</th>\n",
       "      <td>0.086883</td>\n",
       "      <td>0.398225</td>\n",
       "      <td>-0.311342</td>\n",
       "    </tr>\n",
       "    <tr>\n",
       "      <th>1</th>\n",
       "      <td>0.313659</td>\n",
       "      <td>0.289745</td>\n",
       "      <td>0.023913</td>\n",
       "    </tr>\n",
       "    <tr>\n",
       "      <th>2</th>\n",
       "      <td>1.087594</td>\n",
       "      <td>0.185267</td>\n",
       "      <td>0.902328</td>\n",
       "    </tr>\n",
       "    <tr>\n",
       "      <th>3</th>\n",
       "      <td>-0.950871</td>\n",
       "      <td>0.707735</td>\n",
       "      <td>-1.658606</td>\n",
       "    </tr>\n",
       "    <tr>\n",
       "      <th>4</th>\n",
       "      <td>-1.056072</td>\n",
       "      <td>-0.983585</td>\n",
       "      <td>-0.072487</td>\n",
       "    </tr>\n",
       "    <tr>\n",
       "      <th>5</th>\n",
       "      <td>-0.444928</td>\n",
       "      <td>0.422728</td>\n",
       "      <td>-0.867656</td>\n",
       "    </tr>\n",
       "    <tr>\n",
       "      <th>6</th>\n",
       "      <td>0.376443</td>\n",
       "      <td>1.458832</td>\n",
       "      <td>-1.082389</td>\n",
       "    </tr>\n",
       "    <tr>\n",
       "      <th>7</th>\n",
       "      <td>1.620327</td>\n",
       "      <td>-0.479999</td>\n",
       "      <td>2.100326</td>\n",
       "    </tr>\n",
       "    <tr>\n",
       "      <th>8</th>\n",
       "      <td>0.755556</td>\n",
       "      <td>0.506155</td>\n",
       "      <td>0.249401</td>\n",
       "    </tr>\n",
       "    <tr>\n",
       "      <th>9</th>\n",
       "      <td>0.526981</td>\n",
       "      <td>0.340220</td>\n",
       "      <td>0.186761</td>\n",
       "    </tr>\n",
       "  </tbody>\n",
       "</table>\n",
       "</div>"
      ],
      "text/plain": [
       "         평균        분산        편차\n",
       "0  0.086883  0.398225 -0.311342\n",
       "1  0.313659  0.289745  0.023913\n",
       "2  1.087594  0.185267  0.902328\n",
       "3 -0.950871  0.707735 -1.658606\n",
       "4 -1.056072 -0.983585 -0.072487\n",
       "5 -0.444928  0.422728 -0.867656\n",
       "6  0.376443  1.458832 -1.082389\n",
       "7  1.620327 -0.479999  2.100326\n",
       "8  0.755556  0.506155  0.249401\n",
       "9  0.526981  0.340220  0.186761"
      ]
     },
     "execution_count": 21,
     "metadata": {},
     "output_type": "execute_result"
    }
   ],
   "source": [
    "dfa1.eval( '편차  = 평균 - 분산 ')"
   ]
  },
  {
   "cell_type": "code",
   "execution_count": 22,
   "metadata": {},
   "outputs": [
    {
     "data": {
      "text/html": [
       "<div>\n",
       "<style scoped>\n",
       "    .dataframe tbody tr th:only-of-type {\n",
       "        vertical-align: middle;\n",
       "    }\n",
       "\n",
       "    .dataframe tbody tr th {\n",
       "        vertical-align: top;\n",
       "    }\n",
       "\n",
       "    .dataframe thead th {\n",
       "        text-align: right;\n",
       "    }\n",
       "</style>\n",
       "<table border=\"1\" class=\"dataframe\">\n",
       "  <thead>\n",
       "    <tr style=\"text-align: right;\">\n",
       "      <th></th>\n",
       "      <th>평균</th>\n",
       "      <th>분산</th>\n",
       "    </tr>\n",
       "  </thead>\n",
       "  <tbody>\n",
       "    <tr>\n",
       "      <th>0</th>\n",
       "      <td>0.086883</td>\n",
       "      <td>0.398225</td>\n",
       "    </tr>\n",
       "    <tr>\n",
       "      <th>1</th>\n",
       "      <td>0.313659</td>\n",
       "      <td>0.289745</td>\n",
       "    </tr>\n",
       "    <tr>\n",
       "      <th>2</th>\n",
       "      <td>1.087594</td>\n",
       "      <td>0.185267</td>\n",
       "    </tr>\n",
       "    <tr>\n",
       "      <th>3</th>\n",
       "      <td>-0.950871</td>\n",
       "      <td>0.707735</td>\n",
       "    </tr>\n",
       "    <tr>\n",
       "      <th>4</th>\n",
       "      <td>-1.056072</td>\n",
       "      <td>-0.983585</td>\n",
       "    </tr>\n",
       "    <tr>\n",
       "      <th>5</th>\n",
       "      <td>-0.444928</td>\n",
       "      <td>0.422728</td>\n",
       "    </tr>\n",
       "    <tr>\n",
       "      <th>6</th>\n",
       "      <td>0.376443</td>\n",
       "      <td>1.458832</td>\n",
       "    </tr>\n",
       "    <tr>\n",
       "      <th>7</th>\n",
       "      <td>1.620327</td>\n",
       "      <td>-0.479999</td>\n",
       "    </tr>\n",
       "    <tr>\n",
       "      <th>8</th>\n",
       "      <td>0.755556</td>\n",
       "      <td>0.506155</td>\n",
       "    </tr>\n",
       "    <tr>\n",
       "      <th>9</th>\n",
       "      <td>0.526981</td>\n",
       "      <td>0.340220</td>\n",
       "    </tr>\n",
       "  </tbody>\n",
       "</table>\n",
       "</div>"
      ],
      "text/plain": [
       "         평균        분산\n",
       "0  0.086883  0.398225\n",
       "1  0.313659  0.289745\n",
       "2  1.087594  0.185267\n",
       "3 -0.950871  0.707735\n",
       "4 -1.056072 -0.983585\n",
       "5 -0.444928  0.422728\n",
       "6  0.376443  1.458832\n",
       "7  1.620327 -0.479999\n",
       "8  0.755556  0.506155\n",
       "9  0.526981  0.340220"
      ]
     },
     "execution_count": 22,
     "metadata": {},
     "output_type": "execute_result"
    }
   ],
   "source": [
    "# 자기 자신을 바꾸지는 않는다.\n",
    "dfa1"
   ]
  },
  {
   "cell_type": "code",
   "execution_count": 23,
   "metadata": {},
   "outputs": [],
   "source": [
    "dfa1.eval( '편차 = 평균 - 분산 ', inplace=True)"
   ]
  },
  {
   "cell_type": "code",
   "execution_count": 24,
   "metadata": {},
   "outputs": [
    {
     "data": {
      "text/html": [
       "<div>\n",
       "<style scoped>\n",
       "    .dataframe tbody tr th:only-of-type {\n",
       "        vertical-align: middle;\n",
       "    }\n",
       "\n",
       "    .dataframe tbody tr th {\n",
       "        vertical-align: top;\n",
       "    }\n",
       "\n",
       "    .dataframe thead th {\n",
       "        text-align: right;\n",
       "    }\n",
       "</style>\n",
       "<table border=\"1\" class=\"dataframe\">\n",
       "  <thead>\n",
       "    <tr style=\"text-align: right;\">\n",
       "      <th></th>\n",
       "      <th>평균</th>\n",
       "      <th>분산</th>\n",
       "      <th>편차</th>\n",
       "    </tr>\n",
       "  </thead>\n",
       "  <tbody>\n",
       "    <tr>\n",
       "      <th>0</th>\n",
       "      <td>0.086883</td>\n",
       "      <td>0.398225</td>\n",
       "      <td>-0.311342</td>\n",
       "    </tr>\n",
       "    <tr>\n",
       "      <th>1</th>\n",
       "      <td>0.313659</td>\n",
       "      <td>0.289745</td>\n",
       "      <td>0.023913</td>\n",
       "    </tr>\n",
       "    <tr>\n",
       "      <th>2</th>\n",
       "      <td>1.087594</td>\n",
       "      <td>0.185267</td>\n",
       "      <td>0.902328</td>\n",
       "    </tr>\n",
       "    <tr>\n",
       "      <th>3</th>\n",
       "      <td>-0.950871</td>\n",
       "      <td>0.707735</td>\n",
       "      <td>-1.658606</td>\n",
       "    </tr>\n",
       "    <tr>\n",
       "      <th>4</th>\n",
       "      <td>-1.056072</td>\n",
       "      <td>-0.983585</td>\n",
       "      <td>-0.072487</td>\n",
       "    </tr>\n",
       "    <tr>\n",
       "      <th>5</th>\n",
       "      <td>-0.444928</td>\n",
       "      <td>0.422728</td>\n",
       "      <td>-0.867656</td>\n",
       "    </tr>\n",
       "    <tr>\n",
       "      <th>6</th>\n",
       "      <td>0.376443</td>\n",
       "      <td>1.458832</td>\n",
       "      <td>-1.082389</td>\n",
       "    </tr>\n",
       "    <tr>\n",
       "      <th>7</th>\n",
       "      <td>1.620327</td>\n",
       "      <td>-0.479999</td>\n",
       "      <td>2.100326</td>\n",
       "    </tr>\n",
       "    <tr>\n",
       "      <th>8</th>\n",
       "      <td>0.755556</td>\n",
       "      <td>0.506155</td>\n",
       "      <td>0.249401</td>\n",
       "    </tr>\n",
       "    <tr>\n",
       "      <th>9</th>\n",
       "      <td>0.526981</td>\n",
       "      <td>0.340220</td>\n",
       "      <td>0.186761</td>\n",
       "    </tr>\n",
       "  </tbody>\n",
       "</table>\n",
       "</div>"
      ],
      "text/plain": [
       "         평균        분산        편차\n",
       "0  0.086883  0.398225 -0.311342\n",
       "1  0.313659  0.289745  0.023913\n",
       "2  1.087594  0.185267  0.902328\n",
       "3 -0.950871  0.707735 -1.658606\n",
       "4 -1.056072 -0.983585 -0.072487\n",
       "5 -0.444928  0.422728 -0.867656\n",
       "6  0.376443  1.458832 -1.082389\n",
       "7  1.620327 -0.479999  2.100326\n",
       "8  0.755556  0.506155  0.249401\n",
       "9  0.526981  0.340220  0.186761"
      ]
     },
     "execution_count": 24,
     "metadata": {},
     "output_type": "execute_result"
    }
   ],
   "source": [
    "dfa1"
   ]
  },
  {
   "cell_type": "code",
   "execution_count": null,
   "metadata": {},
   "outputs": [],
   "source": []
  },
  {
   "cell_type": "code",
   "execution_count": 25,
   "metadata": {},
   "outputs": [],
   "source": [
    "dfa2 = pd. DataFrame(np.random.randn(10, 2), columns=range(0,2))"
   ]
  },
  {
   "cell_type": "code",
   "execution_count": 26,
   "metadata": {},
   "outputs": [
    {
     "data": {
      "text/html": [
       "<div>\n",
       "<style scoped>\n",
       "    .dataframe tbody tr th:only-of-type {\n",
       "        vertical-align: middle;\n",
       "    }\n",
       "\n",
       "    .dataframe tbody tr th {\n",
       "        vertical-align: top;\n",
       "    }\n",
       "\n",
       "    .dataframe thead th {\n",
       "        text-align: right;\n",
       "    }\n",
       "</style>\n",
       "<table border=\"1\" class=\"dataframe\">\n",
       "  <thead>\n",
       "    <tr style=\"text-align: right;\">\n",
       "      <th></th>\n",
       "      <th>0</th>\n",
       "      <th>1</th>\n",
       "    </tr>\n",
       "  </thead>\n",
       "  <tbody>\n",
       "    <tr>\n",
       "      <th>0</th>\n",
       "      <td>1.318233</td>\n",
       "      <td>0.348035</td>\n",
       "    </tr>\n",
       "    <tr>\n",
       "      <th>1</th>\n",
       "      <td>-0.612116</td>\n",
       "      <td>0.042431</td>\n",
       "    </tr>\n",
       "    <tr>\n",
       "      <th>2</th>\n",
       "      <td>-0.452761</td>\n",
       "      <td>1.036905</td>\n",
       "    </tr>\n",
       "    <tr>\n",
       "      <th>3</th>\n",
       "      <td>-2.091335</td>\n",
       "      <td>-0.121085</td>\n",
       "    </tr>\n",
       "    <tr>\n",
       "      <th>4</th>\n",
       "      <td>0.587499</td>\n",
       "      <td>-0.795530</td>\n",
       "    </tr>\n",
       "    <tr>\n",
       "      <th>5</th>\n",
       "      <td>-1.506637</td>\n",
       "      <td>0.443815</td>\n",
       "    </tr>\n",
       "    <tr>\n",
       "      <th>6</th>\n",
       "      <td>-0.161614</td>\n",
       "      <td>0.570592</td>\n",
       "    </tr>\n",
       "    <tr>\n",
       "      <th>7</th>\n",
       "      <td>-2.494104</td>\n",
       "      <td>-1.327823</td>\n",
       "    </tr>\n",
       "    <tr>\n",
       "      <th>8</th>\n",
       "      <td>1.160573</td>\n",
       "      <td>0.788533</td>\n",
       "    </tr>\n",
       "    <tr>\n",
       "      <th>9</th>\n",
       "      <td>-0.051074</td>\n",
       "      <td>0.357979</td>\n",
       "    </tr>\n",
       "  </tbody>\n",
       "</table>\n",
       "</div>"
      ],
      "text/plain": [
       "          0         1\n",
       "0  1.318233  0.348035\n",
       "1 -0.612116  0.042431\n",
       "2 -0.452761  1.036905\n",
       "3 -2.091335 -0.121085\n",
       "4  0.587499 -0.795530\n",
       "5 -1.506637  0.443815\n",
       "6 -0.161614  0.570592\n",
       "7 -2.494104 -1.327823\n",
       "8  1.160573  0.788533\n",
       "9 -0.051074  0.357979"
      ]
     },
     "execution_count": 26,
     "metadata": {},
     "output_type": "execute_result"
    }
   ],
   "source": [
    "dfa2"
   ]
  },
  {
   "cell_type": "code",
   "execution_count": 27,
   "metadata": {},
   "outputs": [
    {
     "data": {
      "text/plain": [
       "1"
      ]
     },
     "execution_count": 27,
     "metadata": {},
     "output_type": "execute_result"
    }
   ],
   "source": [
    "# 열이름을 사용하여 연산을 할 수 있을까?\n",
    "dfa2.eval( '0 +1 ')"
   ]
  },
  {
   "cell_type": "code",
   "execution_count": 28,
   "metadata": {},
   "outputs": [
    {
     "name": "stdout",
     "output_type": "stream",
     "text": [
      "exception  invalid syntax (<unknown>, line 1)\n"
     ]
    }
   ],
   "source": [
    "# .을 통해 열 접근은?\n",
    "try :\n",
    "    pd.eval('dfa2.0 + dfa2.1')\n",
    "except Exception as e  :\n",
    "    print(\"exception \", e)"
   ]
  },
  {
   "cell_type": "code",
   "execution_count": null,
   "metadata": {},
   "outputs": [],
   "source": []
  },
  {
   "cell_type": "code",
   "execution_count": 29,
   "metadata": {},
   "outputs": [],
   "source": [
    "# 올바른 사용예\n",
    "try :\n",
    "    df_add = pd.eval('dfa2[0] + dfa2[1]')\n",
    "except Exception as e  :\n",
    "    print(\"exception \", e)"
   ]
  },
  {
   "cell_type": "code",
   "execution_count": 30,
   "metadata": {},
   "outputs": [
    {
     "data": {
      "text/plain": [
       "0    1.666268\n",
       "1   -0.569685\n",
       "2    0.584144\n",
       "3   -2.212420\n",
       "4   -0.208032\n",
       "5   -1.062822\n",
       "6    0.408978\n",
       "7   -3.821927\n",
       "8    1.949106\n",
       "9    0.306905\n",
       "dtype: float64"
      ]
     },
     "execution_count": 30,
     "metadata": {},
     "output_type": "execute_result"
    }
   ],
   "source": [
    "df_add"
   ]
  },
  {
   "cell_type": "code",
   "execution_count": null,
   "metadata": {},
   "outputs": [],
   "source": []
  },
  {
   "cell_type": "code",
   "execution_count": 31,
   "metadata": {},
   "outputs": [],
   "source": [
    "df1, df2, df3, df4, df5 = (pd.DataFrame(rng.randint(0, 1000, (100, 3)))\n",
    "                           for i in range(5))"
   ]
  },
  {
   "cell_type": "code",
   "execution_count": 32,
   "metadata": {},
   "outputs": [],
   "source": [
    "result1 = -df1 * df2 / (df3 + df4) - df5"
   ]
  },
  {
   "cell_type": "code",
   "execution_count": 33,
   "metadata": {},
   "outputs": [],
   "source": [
    "result2 = pd.eval('-df1 * df2 / (df3 + df4) - df5')"
   ]
  },
  {
   "cell_type": "code",
   "execution_count": 34,
   "metadata": {},
   "outputs": [
    {
     "data": {
      "text/plain": [
       "True"
      ]
     },
     "execution_count": 34,
     "metadata": {},
     "output_type": "execute_result"
    }
   ],
   "source": [
    "np.allclose(result1, result2)"
   ]
  },
  {
   "cell_type": "code",
   "execution_count": null,
   "metadata": {},
   "outputs": [],
   "source": []
  },
  {
   "cell_type": "code",
   "execution_count": 35,
   "metadata": {},
   "outputs": [],
   "source": [
    "result1 = (df1 < 0.5) & (df2 < 0.5) | (df3 < df4)"
   ]
  },
  {
   "cell_type": "code",
   "execution_count": 36,
   "metadata": {},
   "outputs": [],
   "source": [
    "result2 = pd.eval('(df1 < 0.5) & (df2 < 0.5) | (df3 < df4)')"
   ]
  },
  {
   "cell_type": "code",
   "execution_count": 37,
   "metadata": {},
   "outputs": [
    {
     "data": {
      "text/plain": [
       "True"
      ]
     },
     "execution_count": 37,
     "metadata": {},
     "output_type": "execute_result"
    }
   ],
   "source": [
    "np.allclose(result1, result2)"
   ]
  },
  {
   "cell_type": "code",
   "execution_count": null,
   "metadata": {},
   "outputs": [],
   "source": []
  },
  {
   "cell_type": "code",
   "execution_count": 49,
   "metadata": {},
   "outputs": [],
   "source": [
    "result3 = pd.eval('(df1 < 0.5) and (df2 < 0.5) or (df3 < df4)')"
   ]
  },
  {
   "cell_type": "code",
   "execution_count": 39,
   "metadata": {},
   "outputs": [
    {
     "data": {
      "text/plain": [
       "True"
      ]
     },
     "execution_count": 39,
     "metadata": {},
     "output_type": "execute_result"
    }
   ],
   "source": [
    "np.allclose(result1, result3)"
   ]
  },
  {
   "cell_type": "code",
   "execution_count": null,
   "metadata": {},
   "outputs": [],
   "source": []
  },
  {
   "cell_type": "code",
   "execution_count": 40,
   "metadata": {},
   "outputs": [],
   "source": [
    "df = pd. DataFrame(np.random.randn(10, 2), columns=list('AB'))"
   ]
  },
  {
   "cell_type": "code",
   "execution_count": 41,
   "metadata": {},
   "outputs": [
    {
     "data": {
      "text/html": [
       "<div>\n",
       "<style scoped>\n",
       "    .dataframe tbody tr th:only-of-type {\n",
       "        vertical-align: middle;\n",
       "    }\n",
       "\n",
       "    .dataframe tbody tr th {\n",
       "        vertical-align: top;\n",
       "    }\n",
       "\n",
       "    .dataframe thead th {\n",
       "        text-align: right;\n",
       "    }\n",
       "</style>\n",
       "<table border=\"1\" class=\"dataframe\">\n",
       "  <thead>\n",
       "    <tr style=\"text-align: right;\">\n",
       "      <th></th>\n",
       "      <th>A</th>\n",
       "      <th>B</th>\n",
       "    </tr>\n",
       "  </thead>\n",
       "  <tbody>\n",
       "    <tr>\n",
       "      <th>0</th>\n",
       "      <td>0.225812</td>\n",
       "      <td>0.641177</td>\n",
       "    </tr>\n",
       "    <tr>\n",
       "      <th>1</th>\n",
       "      <td>0.759894</td>\n",
       "      <td>1.938009</td>\n",
       "    </tr>\n",
       "    <tr>\n",
       "      <th>2</th>\n",
       "      <td>0.802900</td>\n",
       "      <td>0.767901</td>\n",
       "    </tr>\n",
       "    <tr>\n",
       "      <th>3</th>\n",
       "      <td>-0.498386</td>\n",
       "      <td>-0.003543</td>\n",
       "    </tr>\n",
       "    <tr>\n",
       "      <th>4</th>\n",
       "      <td>-2.544918</td>\n",
       "      <td>0.591109</td>\n",
       "    </tr>\n",
       "    <tr>\n",
       "      <th>5</th>\n",
       "      <td>1.255388</td>\n",
       "      <td>0.065711</td>\n",
       "    </tr>\n",
       "    <tr>\n",
       "      <th>6</th>\n",
       "      <td>-1.798379</td>\n",
       "      <td>-0.855205</td>\n",
       "    </tr>\n",
       "    <tr>\n",
       "      <th>7</th>\n",
       "      <td>-0.341186</td>\n",
       "      <td>-0.311976</td>\n",
       "    </tr>\n",
       "    <tr>\n",
       "      <th>8</th>\n",
       "      <td>0.841694</td>\n",
       "      <td>0.909020</td>\n",
       "    </tr>\n",
       "    <tr>\n",
       "      <th>9</th>\n",
       "      <td>2.535520</td>\n",
       "      <td>0.270691</td>\n",
       "    </tr>\n",
       "  </tbody>\n",
       "</table>\n",
       "</div>"
      ],
      "text/plain": [
       "          A         B\n",
       "0  0.225812  0.641177\n",
       "1  0.759894  1.938009\n",
       "2  0.802900  0.767901\n",
       "3 -0.498386 -0.003543\n",
       "4 -2.544918  0.591109\n",
       "5  1.255388  0.065711\n",
       "6 -1.798379 -0.855205\n",
       "7 -0.341186 -0.311976\n",
       "8  0.841694  0.909020\n",
       "9  2.535520  0.270691"
      ]
     },
     "execution_count": 41,
     "metadata": {},
     "output_type": "execute_result"
    }
   ],
   "source": [
    "df"
   ]
  },
  {
   "cell_type": "code",
   "execution_count": 42,
   "metadata": {},
   "outputs": [],
   "source": [
    "column_mean = df.mean(axis=1)"
   ]
  },
  {
   "cell_type": "code",
   "execution_count": 43,
   "metadata": {},
   "outputs": [
    {
     "data": {
      "text/plain": [
       "0    0.433495\n",
       "1    1.348951\n",
       "2    0.785401\n",
       "3   -0.250964\n",
       "4   -0.976905\n",
       "dtype: float64"
      ]
     },
     "execution_count": 43,
     "metadata": {},
     "output_type": "execute_result"
    }
   ],
   "source": [
    "column_mean.head()"
   ]
  },
  {
   "cell_type": "code",
   "execution_count": null,
   "metadata": {},
   "outputs": [],
   "source": []
  },
  {
   "cell_type": "code",
   "execution_count": 44,
   "metadata": {},
   "outputs": [],
   "source": [
    "result1 = df['A'] + column_mean"
   ]
  },
  {
   "cell_type": "code",
   "execution_count": 51,
   "metadata": {},
   "outputs": [
    {
     "data": {
      "text/plain": [
       "0    0.659307\n",
       "1    2.108845\n",
       "2    1.588301\n",
       "3   -0.749350\n",
       "4   -3.521823\n",
       "5    1.915938\n",
       "6   -3.125171\n",
       "7   -0.667767\n",
       "8    1.717051\n",
       "9    3.938625\n",
       "dtype: float64"
      ]
     },
     "execution_count": 51,
     "metadata": {},
     "output_type": "execute_result"
    }
   ],
   "source": [
    "result1"
   ]
  },
  {
   "cell_type": "code",
   "execution_count": 45,
   "metadata": {},
   "outputs": [],
   "source": [
    "result2 = df.eval('A + @column_mean')"
   ]
  },
  {
   "cell_type": "code",
   "execution_count": 46,
   "metadata": {},
   "outputs": [
    {
     "data": {
      "text/plain": [
       "True"
      ]
     },
     "execution_count": 46,
     "metadata": {},
     "output_type": "execute_result"
    }
   ],
   "source": [
    "np.allclose(result1, result2)"
   ]
  },
  {
   "cell_type": "markdown",
   "metadata": {},
   "source": [
    "### eval함수 장점\n",
    "* 대규모 복잡한 데이터 프레임워크 간의 연산에서 좋은 성능을 낼 수 있다.\n",
    "* 연산시 변수 처리를 할 수 있어 대화형(interactive) 한 검색을 할 수 있다\n",
    "\n",
    "### eval함수 단점\n",
    "* 간단한 연산 수행시 성능상의 차이가 없다. 또는 나쁠 수 있다.\n",
    "* 특정 연산에 제약이 있을 수 있다."
   ]
  },
  {
   "cell_type": "code",
   "execution_count": null,
   "metadata": {},
   "outputs": [],
   "source": []
  }
 ],
 "metadata": {
  "kernelspec": {
   "display_name": "Python 3 (ipykernel)",
   "language": "python",
   "name": "python3"
  },
  "language_info": {
   "codemirror_mode": {
    "name": "ipython",
    "version": 3
   },
   "file_extension": ".py",
   "mimetype": "text/x-python",
   "name": "python",
   "nbconvert_exporter": "python",
   "pygments_lexer": "ipython3",
   "version": "3.9.13"
  }
 },
 "nbformat": 4,
 "nbformat_minor": 2
}
