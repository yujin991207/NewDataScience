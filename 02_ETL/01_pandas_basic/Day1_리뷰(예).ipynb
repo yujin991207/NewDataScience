{
 "cells": [
  {
   "cell_type": "markdown",
   "id": "4a53d6ef",
   "metadata": {},
   "source": [
    "# 문제1\n",
    "## 다음 데이터를 읽어 와서 결측치 데이터가 얼마나 있는지 각 열 별로 파악해 본다\n",
    "### series_dataframe.csv"
   ]
  },
  {
   "cell_type": "code",
   "execution_count": 3,
   "id": "a97de665",
   "metadata": {},
   "outputs": [
    {
     "data": {
      "text/plain": [
       "Member        0\n",
       "Series       29\n",
       "DataFrame    41\n",
       "dtype: int64"
      ]
     },
     "execution_count": 3,
     "metadata": {},
     "output_type": "execute_result"
    }
   ],
   "source": [
    "# 코드\n",
    "import pandas as pd\n",
    "\n",
    "df_f = pd.read_csv('data/series_dataframe.csv', \n",
    "                   usecols=['Member','Series','DataFrame'],\n",
    "                   encoding='euc-kr')\n",
    "df_f.isnull().sum()"
   ]
  },
  {
   "cell_type": "markdown",
   "id": "ad67f84e",
   "metadata": {},
   "source": [
    "# 문제2"
   ]
  },
  {
   "cell_type": "code",
   "execution_count": 1,
   "id": "25837489",
   "metadata": {},
   "outputs": [],
   "source": [
    "# 코드"
   ]
  }
 ],
 "metadata": {
  "kernelspec": {
   "display_name": "Python 3 (ipykernel)",
   "language": "python",
   "name": "python3"
  },
  "language_info": {
   "codemirror_mode": {
    "name": "ipython",
    "version": 3
   },
   "file_extension": ".py",
   "mimetype": "text/x-python",
   "name": "python",
   "nbconvert_exporter": "python",
   "pygments_lexer": "ipython3",
   "version": "3.9.13"
  }
 },
 "nbformat": 4,
 "nbformat_minor": 5
}
