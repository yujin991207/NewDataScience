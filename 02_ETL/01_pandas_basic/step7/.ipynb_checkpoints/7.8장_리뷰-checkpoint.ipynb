{
 "cells": [
  {
   "cell_type": "code",
   "execution_count": 111,
   "id": "240b8787",
   "metadata": {},
   "outputs": [],
   "source": [
    "import pandas as pd\n",
    "import numpy as np"
   ]
  },
  {
   "cell_type": "markdown",
   "id": "668adc70",
   "metadata": {},
   "source": [
    "#### 새로운 데이터 생성"
   ]
  },
  {
   "cell_type": "code",
   "execution_count": 157,
   "id": "55e70729",
   "metadata": {
    "scrolled": true
   },
   "outputs": [
    {
     "data": {
      "text/html": [
       "<div>\n",
       "<style scoped>\n",
       "    .dataframe tbody tr th:only-of-type {\n",
       "        vertical-align: middle;\n",
       "    }\n",
       "\n",
       "    .dataframe tbody tr th {\n",
       "        vertical-align: top;\n",
       "    }\n",
       "\n",
       "    .dataframe thead th {\n",
       "        text-align: right;\n",
       "    }\n",
       "</style>\n",
       "<table border=\"1\" class=\"dataframe\">\n",
       "  <thead>\n",
       "    <tr style=\"text-align: right;\">\n",
       "      <th></th>\n",
       "      <th>name</th>\n",
       "      <th>math</th>\n",
       "      <th>english</th>\n",
       "      <th>science</th>\n",
       "      <th>class</th>\n",
       "      <th>club</th>\n",
       "    </tr>\n",
       "  </thead>\n",
       "  <tbody>\n",
       "    <tr>\n",
       "      <th>0</th>\n",
       "      <td>jack</td>\n",
       "      <td>90</td>\n",
       "      <td>75</td>\n",
       "      <td>60</td>\n",
       "      <td>a</td>\n",
       "      <td>tennis</td>\n",
       "    </tr>\n",
       "    <tr>\n",
       "      <th>1</th>\n",
       "      <td>eva</td>\n",
       "      <td>85</td>\n",
       "      <td>83</td>\n",
       "      <td>90</td>\n",
       "      <td>a</td>\n",
       "      <td>basketball</td>\n",
       "    </tr>\n",
       "    <tr>\n",
       "      <th>2</th>\n",
       "      <td>john</td>\n",
       "      <td>88</td>\n",
       "      <td>92</td>\n",
       "      <td>77</td>\n",
       "      <td>b</td>\n",
       "      <td>NaN</td>\n",
       "    </tr>\n",
       "    <tr>\n",
       "      <th>3</th>\n",
       "      <td>joy</td>\n",
       "      <td>76</td>\n",
       "      <td>81</td>\n",
       "      <td>83</td>\n",
       "      <td>c</td>\n",
       "      <td>NaN</td>\n",
       "    </tr>\n",
       "  </tbody>\n",
       "</table>\n",
       "</div>"
      ],
      "text/plain": [
       "   name  math  english  science class        club\n",
       "0  jack    90       75       60     a      tennis\n",
       "1   eva    85       83       90     a  basketball\n",
       "2  john    88       92       77     b         NaN\n",
       "3   joy    76       81       83     c         NaN"
      ]
     },
     "execution_count": 157,
     "metadata": {},
     "output_type": "execute_result"
    }
   ],
   "source": [
    "classes = pd.DataFrame({'name':['jack','eva','john','joy'],\n",
    "                      'math':[90,85,88,76], \n",
    "                      'english':[75,83,92,81], \n",
    "                      'science':[60,90,77,83], \n",
    "                      'class':['a','a','b','c'], \n",
    "                        'club':['tennis','basketball',np.nan,np.nan]})\n",
    "classes"
   ]
  },
  {
   "cell_type": "code",
   "execution_count": null,
   "id": "ebe6a038",
   "metadata": {},
   "outputs": [],
   "source": []
  },
  {
   "cell_type": "markdown",
   "id": "7cdc429d",
   "metadata": {},
   "source": [
    "#### 사용자정의함수를 이용하여 세과목 평균 점수를 구하여라"
   ]
  },
  {
   "cell_type": "code",
   "execution_count": 158,
   "id": "f28c550b",
   "metadata": {},
   "outputs": [],
   "source": [
    "def my_grade(math,english,science):\n",
    "    return (math + english + science) / 3"
   ]
  },
  {
   "cell_type": "code",
   "execution_count": 159,
   "id": "e6b324d8",
   "metadata": {},
   "outputs": [],
   "source": [
    "classes['avg'] = classes.apply(lambda classes: my_grade(classes['math'],classes['english'],classes['science']), axis = 1)"
   ]
  },
  {
   "cell_type": "code",
   "execution_count": 161,
   "id": "0ab21dce",
   "metadata": {
    "scrolled": true
   },
   "outputs": [
    {
     "data": {
      "text/html": [
       "<div>\n",
       "<style scoped>\n",
       "    .dataframe tbody tr th:only-of-type {\n",
       "        vertical-align: middle;\n",
       "    }\n",
       "\n",
       "    .dataframe tbody tr th {\n",
       "        vertical-align: top;\n",
       "    }\n",
       "\n",
       "    .dataframe thead th {\n",
       "        text-align: right;\n",
       "    }\n",
       "</style>\n",
       "<table border=\"1\" class=\"dataframe\">\n",
       "  <thead>\n",
       "    <tr style=\"text-align: right;\">\n",
       "      <th></th>\n",
       "      <th>name</th>\n",
       "      <th>math</th>\n",
       "      <th>english</th>\n",
       "      <th>science</th>\n",
       "      <th>class</th>\n",
       "      <th>club</th>\n",
       "      <th>avg</th>\n",
       "    </tr>\n",
       "  </thead>\n",
       "  <tbody>\n",
       "    <tr>\n",
       "      <th>0</th>\n",
       "      <td>jack</td>\n",
       "      <td>90</td>\n",
       "      <td>75</td>\n",
       "      <td>60</td>\n",
       "      <td>a</td>\n",
       "      <td>tennis</td>\n",
       "      <td>75.0</td>\n",
       "    </tr>\n",
       "    <tr>\n",
       "      <th>1</th>\n",
       "      <td>eva</td>\n",
       "      <td>85</td>\n",
       "      <td>83</td>\n",
       "      <td>90</td>\n",
       "      <td>a</td>\n",
       "      <td>basketball</td>\n",
       "      <td>86.0</td>\n",
       "    </tr>\n",
       "    <tr>\n",
       "      <th>2</th>\n",
       "      <td>john</td>\n",
       "      <td>88</td>\n",
       "      <td>92</td>\n",
       "      <td>77</td>\n",
       "      <td>b</td>\n",
       "      <td>NaN</td>\n",
       "      <td>85.7</td>\n",
       "    </tr>\n",
       "    <tr>\n",
       "      <th>3</th>\n",
       "      <td>joy</td>\n",
       "      <td>76</td>\n",
       "      <td>81</td>\n",
       "      <td>83</td>\n",
       "      <td>c</td>\n",
       "      <td>NaN</td>\n",
       "      <td>80.0</td>\n",
       "    </tr>\n",
       "  </tbody>\n",
       "</table>\n",
       "</div>"
      ],
      "text/plain": [
       "   name  math  english  science class        club   avg\n",
       "0  jack    90       75       60     a      tennis  75.0\n",
       "1   eva    85       83       90     a  basketball  86.0\n",
       "2  john    88       92       77     b         NaN  85.7\n",
       "3   joy    76       81       83     c         NaN  80.0"
      ]
     },
     "execution_count": 161,
     "metadata": {},
     "output_type": "execute_result"
    }
   ],
   "source": [
    "classes = classes.round(1)\n",
    "classes"
   ]
  },
  {
   "cell_type": "code",
   "execution_count": null,
   "id": "22045243",
   "metadata": {},
   "outputs": [],
   "source": []
  },
  {
   "cell_type": "code",
   "execution_count": null,
   "id": "aa94c3f1",
   "metadata": {},
   "outputs": [],
   "source": [
    "사용자정의함수"
   ]
  },
  {
   "cell_type": "code",
   "execution_count": 215,
   "id": "529dccad",
   "metadata": {},
   "outputs": [
    {
     "data": {
      "text/html": [
       "<div>\n",
       "<style scoped>\n",
       "    .dataframe tbody tr th:only-of-type {\n",
       "        vertical-align: middle;\n",
       "    }\n",
       "\n",
       "    .dataframe tbody tr th {\n",
       "        vertical-align: top;\n",
       "    }\n",
       "\n",
       "    .dataframe thead th {\n",
       "        text-align: right;\n",
       "    }\n",
       "</style>\n",
       "<table border=\"1\" class=\"dataframe\">\n",
       "  <thead>\n",
       "    <tr style=\"text-align: right;\">\n",
       "      <th></th>\n",
       "      <th>name</th>\n",
       "      <th>math</th>\n",
       "      <th>english</th>\n",
       "      <th>science</th>\n",
       "      <th>avg</th>\n",
       "      <th>test</th>\n",
       "      <th>class</th>\n",
       "      <th>club</th>\n",
       "      <th>teacher</th>\n",
       "    </tr>\n",
       "  </thead>\n",
       "  <tbody>\n",
       "    <tr>\n",
       "      <th>0</th>\n",
       "      <td>jack</td>\n",
       "      <td>90</td>\n",
       "      <td>75</td>\n",
       "      <td>60</td>\n",
       "      <td>a</td>\n",
       "      <td>tennis</td>\n",
       "      <td>a</td>\n",
       "      <td>fail</td>\n",
       "      <td></td>\n",
       "    </tr>\n",
       "    <tr>\n",
       "      <th>1</th>\n",
       "      <td>eva</td>\n",
       "      <td>85</td>\n",
       "      <td>83</td>\n",
       "      <td>90</td>\n",
       "      <td>a</td>\n",
       "      <td>basketball</td>\n",
       "      <td>a</td>\n",
       "      <td>pass</td>\n",
       "      <td></td>\n",
       "    </tr>\n",
       "    <tr>\n",
       "      <th>2</th>\n",
       "      <td>john</td>\n",
       "      <td>88</td>\n",
       "      <td>92</td>\n",
       "      <td>77</td>\n",
       "      <td>b</td>\n",
       "      <td>X</td>\n",
       "      <td>a</td>\n",
       "      <td>pass</td>\n",
       "      <td></td>\n",
       "    </tr>\n",
       "    <tr>\n",
       "      <th>3</th>\n",
       "      <td>joy</td>\n",
       "      <td>76</td>\n",
       "      <td>81</td>\n",
       "      <td>83</td>\n",
       "      <td>c</td>\n",
       "      <td>X</td>\n",
       "      <td>a</td>\n",
       "      <td>pass</td>\n",
       "      <td></td>\n",
       "    </tr>\n",
       "  </tbody>\n",
       "</table>\n",
       "</div>"
      ],
      "text/plain": [
       "   name  math  english  science avg        test class  club teacher\n",
       "0  jack    90       75       60   a      tennis     a  fail        \n",
       "1   eva    85       83       90   a  basketball     a  pass        \n",
       "2  john    88       92       77   b           X     a  pass        \n",
       "3   joy    76       81       83   c           X     a  pass        "
      ]
     },
     "execution_count": 215,
     "metadata": {},
     "output_type": "execute_result"
    }
   ],
   "source": [
    "classes"
   ]
  },
  {
   "cell_type": "markdown",
   "id": "d19bada8",
   "metadata": {},
   "source": [
    "#### 사용자정의함수를 이용하여 class별 수학평균점수를 구하고 rank를 이용하여 순위를 매겨라"
   ]
  },
  {
   "cell_type": "code",
   "execution_count": 162,
   "id": "e9746aa3",
   "metadata": {},
   "outputs": [],
   "source": [
    "class_math = grade[['math','class']]"
   ]
  },
  {
   "cell_type": "code",
   "execution_count": 163,
   "id": "ff593f7b",
   "metadata": {},
   "outputs": [
    {
     "data": {
      "text/html": [
       "<div>\n",
       "<style scoped>\n",
       "    .dataframe tbody tr th:only-of-type {\n",
       "        vertical-align: middle;\n",
       "    }\n",
       "\n",
       "    .dataframe tbody tr th {\n",
       "        vertical-align: top;\n",
       "    }\n",
       "\n",
       "    .dataframe thead th {\n",
       "        text-align: right;\n",
       "    }\n",
       "</style>\n",
       "<table border=\"1\" class=\"dataframe\">\n",
       "  <thead>\n",
       "    <tr style=\"text-align: right;\">\n",
       "      <th></th>\n",
       "      <th>math</th>\n",
       "      <th>class</th>\n",
       "    </tr>\n",
       "  </thead>\n",
       "  <tbody>\n",
       "    <tr>\n",
       "      <th>0</th>\n",
       "      <td>90</td>\n",
       "      <td>a</td>\n",
       "    </tr>\n",
       "    <tr>\n",
       "      <th>1</th>\n",
       "      <td>85</td>\n",
       "      <td>a</td>\n",
       "    </tr>\n",
       "    <tr>\n",
       "      <th>2</th>\n",
       "      <td>88</td>\n",
       "      <td>b</td>\n",
       "    </tr>\n",
       "    <tr>\n",
       "      <th>3</th>\n",
       "      <td>76</td>\n",
       "      <td>c</td>\n",
       "    </tr>\n",
       "  </tbody>\n",
       "</table>\n",
       "</div>"
      ],
      "text/plain": [
       "   math class\n",
       "0    90     a\n",
       "1    85     a\n",
       "2    88     b\n",
       "3    76     c"
      ]
     },
     "execution_count": 163,
     "metadata": {},
     "output_type": "execute_result"
    }
   ],
   "source": [
    "class_math"
   ]
  },
  {
   "cell_type": "code",
   "execution_count": 164,
   "id": "61a4196d",
   "metadata": {},
   "outputs": [],
   "source": [
    "def class_math_group(dataframe,col):\n",
    "    return dataframe.groupby(col).mean()"
   ]
  },
  {
   "cell_type": "code",
   "execution_count": 165,
   "id": "a35510db",
   "metadata": {},
   "outputs": [
    {
     "data": {
      "text/html": [
       "<div>\n",
       "<style scoped>\n",
       "    .dataframe tbody tr th:only-of-type {\n",
       "        vertical-align: middle;\n",
       "    }\n",
       "\n",
       "    .dataframe tbody tr th {\n",
       "        vertical-align: top;\n",
       "    }\n",
       "\n",
       "    .dataframe thead th {\n",
       "        text-align: right;\n",
       "    }\n",
       "</style>\n",
       "<table border=\"1\" class=\"dataframe\">\n",
       "  <thead>\n",
       "    <tr style=\"text-align: right;\">\n",
       "      <th></th>\n",
       "      <th>math</th>\n",
       "    </tr>\n",
       "    <tr>\n",
       "      <th>class</th>\n",
       "      <th></th>\n",
       "    </tr>\n",
       "  </thead>\n",
       "  <tbody>\n",
       "    <tr>\n",
       "      <th>a</th>\n",
       "      <td>87.5</td>\n",
       "    </tr>\n",
       "    <tr>\n",
       "      <th>b</th>\n",
       "      <td>88.0</td>\n",
       "    </tr>\n",
       "    <tr>\n",
       "      <th>c</th>\n",
       "      <td>76.0</td>\n",
       "    </tr>\n",
       "  </tbody>\n",
       "</table>\n",
       "</div>"
      ],
      "text/plain": [
       "       math\n",
       "class      \n",
       "a      87.5\n",
       "b      88.0\n",
       "c      76.0"
      ]
     },
     "execution_count": 165,
     "metadata": {},
     "output_type": "execute_result"
    }
   ],
   "source": [
    "class_math_group(class_math,'class')"
   ]
  },
  {
   "cell_type": "code",
   "execution_count": 166,
   "id": "1cd8794b",
   "metadata": {
    "scrolled": true
   },
   "outputs": [
    {
     "name": "stderr",
     "output_type": "stream",
     "text": [
      "C:\\Users\\TJ\\AppData\\Local\\Temp\\ipykernel_12212\\721164231.py:1: SettingWithCopyWarning: \n",
      "A value is trying to be set on a copy of a slice from a DataFrame.\n",
      "Try using .loc[row_indexer,col_indexer] = value instead\n",
      "\n",
      "See the caveats in the documentation: https://pandas.pydata.org/pandas-docs/stable/user_guide/indexing.html#returning-a-view-versus-a-copy\n",
      "  class_math['rank'] = class_math['math'].rank(ascending = False)\n"
     ]
    }
   ],
   "source": [
    "class_math['rank'] = class_math['math'].rank(ascending = False)"
   ]
  },
  {
   "cell_type": "code",
   "execution_count": 167,
   "id": "0704c196",
   "metadata": {},
   "outputs": [
    {
     "data": {
      "text/html": [
       "<div>\n",
       "<style scoped>\n",
       "    .dataframe tbody tr th:only-of-type {\n",
       "        vertical-align: middle;\n",
       "    }\n",
       "\n",
       "    .dataframe tbody tr th {\n",
       "        vertical-align: top;\n",
       "    }\n",
       "\n",
       "    .dataframe thead th {\n",
       "        text-align: right;\n",
       "    }\n",
       "</style>\n",
       "<table border=\"1\" class=\"dataframe\">\n",
       "  <thead>\n",
       "    <tr style=\"text-align: right;\">\n",
       "      <th></th>\n",
       "      <th>math</th>\n",
       "      <th>class</th>\n",
       "      <th>rank</th>\n",
       "    </tr>\n",
       "  </thead>\n",
       "  <tbody>\n",
       "    <tr>\n",
       "      <th>0</th>\n",
       "      <td>90</td>\n",
       "      <td>a</td>\n",
       "      <td>1.0</td>\n",
       "    </tr>\n",
       "    <tr>\n",
       "      <th>1</th>\n",
       "      <td>85</td>\n",
       "      <td>a</td>\n",
       "      <td>3.0</td>\n",
       "    </tr>\n",
       "    <tr>\n",
       "      <th>2</th>\n",
       "      <td>88</td>\n",
       "      <td>b</td>\n",
       "      <td>2.0</td>\n",
       "    </tr>\n",
       "    <tr>\n",
       "      <th>3</th>\n",
       "      <td>76</td>\n",
       "      <td>c</td>\n",
       "      <td>4.0</td>\n",
       "    </tr>\n",
       "  </tbody>\n",
       "</table>\n",
       "</div>"
      ],
      "text/plain": [
       "   math class  rank\n",
       "0    90     a   1.0\n",
       "1    85     a   3.0\n",
       "2    88     b   2.0\n",
       "3    76     c   4.0"
      ]
     },
     "execution_count": 167,
     "metadata": {},
     "output_type": "execute_result"
    }
   ],
   "source": [
    "class_math"
   ]
  },
  {
   "cell_type": "markdown",
   "id": "ca11f3d0",
   "metadata": {},
   "source": [
    "#### eval함수를 이용하여 avg(평균점수)에 따른 통과여부를 판단하라"
   ]
  },
  {
   "cell_type": "code",
   "execution_count": 168,
   "id": "12680ccb",
   "metadata": {},
   "outputs": [
    {
     "data": {
      "text/html": [
       "<div>\n",
       "<style scoped>\n",
       "    .dataframe tbody tr th:only-of-type {\n",
       "        vertical-align: middle;\n",
       "    }\n",
       "\n",
       "    .dataframe tbody tr th {\n",
       "        vertical-align: top;\n",
       "    }\n",
       "\n",
       "    .dataframe thead th {\n",
       "        text-align: right;\n",
       "    }\n",
       "</style>\n",
       "<table border=\"1\" class=\"dataframe\">\n",
       "  <thead>\n",
       "    <tr style=\"text-align: right;\">\n",
       "      <th></th>\n",
       "      <th>name</th>\n",
       "      <th>math</th>\n",
       "      <th>english</th>\n",
       "      <th>science</th>\n",
       "      <th>class</th>\n",
       "      <th>club</th>\n",
       "      <th>avg</th>\n",
       "      <th>test</th>\n",
       "    </tr>\n",
       "  </thead>\n",
       "  <tbody>\n",
       "    <tr>\n",
       "      <th>0</th>\n",
       "      <td>jack</td>\n",
       "      <td>90</td>\n",
       "      <td>75</td>\n",
       "      <td>60</td>\n",
       "      <td>a</td>\n",
       "      <td>tennis</td>\n",
       "      <td>75.0</td>\n",
       "      <td></td>\n",
       "    </tr>\n",
       "    <tr>\n",
       "      <th>1</th>\n",
       "      <td>eva</td>\n",
       "      <td>85</td>\n",
       "      <td>83</td>\n",
       "      <td>90</td>\n",
       "      <td>a</td>\n",
       "      <td>basketball</td>\n",
       "      <td>86.0</td>\n",
       "      <td></td>\n",
       "    </tr>\n",
       "    <tr>\n",
       "      <th>2</th>\n",
       "      <td>john</td>\n",
       "      <td>88</td>\n",
       "      <td>92</td>\n",
       "      <td>77</td>\n",
       "      <td>b</td>\n",
       "      <td>NaN</td>\n",
       "      <td>85.7</td>\n",
       "      <td></td>\n",
       "    </tr>\n",
       "    <tr>\n",
       "      <th>3</th>\n",
       "      <td>joy</td>\n",
       "      <td>76</td>\n",
       "      <td>81</td>\n",
       "      <td>83</td>\n",
       "      <td>c</td>\n",
       "      <td>NaN</td>\n",
       "      <td>80.0</td>\n",
       "      <td></td>\n",
       "    </tr>\n",
       "  </tbody>\n",
       "</table>\n",
       "</div>"
      ],
      "text/plain": [
       "   name  math  english  science class        club   avg test\n",
       "0  jack    90       75       60     a      tennis  75.0     \n",
       "1   eva    85       83       90     a  basketball  86.0     \n",
       "2  john    88       92       77     b         NaN  85.7     \n",
       "3   joy    76       81       83     c         NaN  80.0     "
      ]
     },
     "execution_count": 168,
     "metadata": {},
     "output_type": "execute_result"
    }
   ],
   "source": [
    "classes['test'] = \"\"\n",
    "\n",
    "classes"
   ]
  },
  {
   "cell_type": "code",
   "execution_count": 169,
   "id": "47048440",
   "metadata": {},
   "outputs": [],
   "source": [
    "classes.loc[classes.eval('avg >= 80'), 'test'] = 'pass'"
   ]
  },
  {
   "cell_type": "code",
   "execution_count": 170,
   "id": "6454b9a6",
   "metadata": {},
   "outputs": [],
   "source": [
    "classes.loc[classes.eval('avg < 80'), 'test'] = 'fail'"
   ]
  },
  {
   "cell_type": "code",
   "execution_count": 171,
   "id": "064a0c01",
   "metadata": {},
   "outputs": [
    {
     "data": {
      "text/html": [
       "<div>\n",
       "<style scoped>\n",
       "    .dataframe tbody tr th:only-of-type {\n",
       "        vertical-align: middle;\n",
       "    }\n",
       "\n",
       "    .dataframe tbody tr th {\n",
       "        vertical-align: top;\n",
       "    }\n",
       "\n",
       "    .dataframe thead th {\n",
       "        text-align: right;\n",
       "    }\n",
       "</style>\n",
       "<table border=\"1\" class=\"dataframe\">\n",
       "  <thead>\n",
       "    <tr style=\"text-align: right;\">\n",
       "      <th></th>\n",
       "      <th>name</th>\n",
       "      <th>math</th>\n",
       "      <th>english</th>\n",
       "      <th>science</th>\n",
       "      <th>class</th>\n",
       "      <th>club</th>\n",
       "      <th>avg</th>\n",
       "      <th>test</th>\n",
       "    </tr>\n",
       "  </thead>\n",
       "  <tbody>\n",
       "    <tr>\n",
       "      <th>0</th>\n",
       "      <td>jack</td>\n",
       "      <td>90</td>\n",
       "      <td>75</td>\n",
       "      <td>60</td>\n",
       "      <td>a</td>\n",
       "      <td>tennis</td>\n",
       "      <td>75.0</td>\n",
       "      <td>fail</td>\n",
       "    </tr>\n",
       "    <tr>\n",
       "      <th>1</th>\n",
       "      <td>eva</td>\n",
       "      <td>85</td>\n",
       "      <td>83</td>\n",
       "      <td>90</td>\n",
       "      <td>a</td>\n",
       "      <td>basketball</td>\n",
       "      <td>86.0</td>\n",
       "      <td>pass</td>\n",
       "    </tr>\n",
       "    <tr>\n",
       "      <th>2</th>\n",
       "      <td>john</td>\n",
       "      <td>88</td>\n",
       "      <td>92</td>\n",
       "      <td>77</td>\n",
       "      <td>b</td>\n",
       "      <td>NaN</td>\n",
       "      <td>85.7</td>\n",
       "      <td>pass</td>\n",
       "    </tr>\n",
       "    <tr>\n",
       "      <th>3</th>\n",
       "      <td>joy</td>\n",
       "      <td>76</td>\n",
       "      <td>81</td>\n",
       "      <td>83</td>\n",
       "      <td>c</td>\n",
       "      <td>NaN</td>\n",
       "      <td>80.0</td>\n",
       "      <td>pass</td>\n",
       "    </tr>\n",
       "  </tbody>\n",
       "</table>\n",
       "</div>"
      ],
      "text/plain": [
       "   name  math  english  science class        club   avg  test\n",
       "0  jack    90       75       60     a      tennis  75.0  fail\n",
       "1   eva    85       83       90     a  basketball  86.0  pass\n",
       "2  john    88       92       77     b         NaN  85.7  pass\n",
       "3   joy    76       81       83     c         NaN  80.0  pass"
      ]
     },
     "execution_count": 171,
     "metadata": {},
     "output_type": "execute_result"
    }
   ],
   "source": [
    "classes"
   ]
  },
  {
   "cell_type": "code",
   "execution_count": null,
   "id": "1c8d5dfe",
   "metadata": {},
   "outputs": [],
   "source": []
  },
  {
   "cell_type": "markdown",
   "id": "610c51b2",
   "metadata": {},
   "source": [
    "#### 사용자정의함수를 이용하여 'club' 열 결측치값을 모두 'X'로 지정하여라"
   ]
  },
  {
   "cell_type": "code",
   "execution_count": 172,
   "id": "dfe6af2b",
   "metadata": {},
   "outputs": [],
   "source": [
    "def club_na(classes):\n",
    "    classes['club'] = classes['club'].fillna(\"X\")\n",
    "    return classes"
   ]
  },
  {
   "cell_type": "code",
   "execution_count": 174,
   "id": "b74ab81f",
   "metadata": {
    "scrolled": false
   },
   "outputs": [
    {
     "data": {
      "text/html": [
       "<div>\n",
       "<style scoped>\n",
       "    .dataframe tbody tr th:only-of-type {\n",
       "        vertical-align: middle;\n",
       "    }\n",
       "\n",
       "    .dataframe tbody tr th {\n",
       "        vertical-align: top;\n",
       "    }\n",
       "\n",
       "    .dataframe thead th {\n",
       "        text-align: right;\n",
       "    }\n",
       "</style>\n",
       "<table border=\"1\" class=\"dataframe\">\n",
       "  <thead>\n",
       "    <tr style=\"text-align: right;\">\n",
       "      <th></th>\n",
       "      <th>name</th>\n",
       "      <th>math</th>\n",
       "      <th>english</th>\n",
       "      <th>science</th>\n",
       "      <th>class</th>\n",
       "      <th>club</th>\n",
       "      <th>avg</th>\n",
       "      <th>test</th>\n",
       "    </tr>\n",
       "  </thead>\n",
       "  <tbody>\n",
       "    <tr>\n",
       "      <th>0</th>\n",
       "      <td>jack</td>\n",
       "      <td>90</td>\n",
       "      <td>75</td>\n",
       "      <td>60</td>\n",
       "      <td>a</td>\n",
       "      <td>tennis</td>\n",
       "      <td>75.0</td>\n",
       "      <td>fail</td>\n",
       "    </tr>\n",
       "    <tr>\n",
       "      <th>1</th>\n",
       "      <td>eva</td>\n",
       "      <td>85</td>\n",
       "      <td>83</td>\n",
       "      <td>90</td>\n",
       "      <td>a</td>\n",
       "      <td>basketball</td>\n",
       "      <td>86.0</td>\n",
       "      <td>pass</td>\n",
       "    </tr>\n",
       "    <tr>\n",
       "      <th>2</th>\n",
       "      <td>john</td>\n",
       "      <td>88</td>\n",
       "      <td>92</td>\n",
       "      <td>77</td>\n",
       "      <td>b</td>\n",
       "      <td>X</td>\n",
       "      <td>85.7</td>\n",
       "      <td>pass</td>\n",
       "    </tr>\n",
       "    <tr>\n",
       "      <th>3</th>\n",
       "      <td>joy</td>\n",
       "      <td>76</td>\n",
       "      <td>81</td>\n",
       "      <td>83</td>\n",
       "      <td>c</td>\n",
       "      <td>X</td>\n",
       "      <td>80.0</td>\n",
       "      <td>pass</td>\n",
       "    </tr>\n",
       "  </tbody>\n",
       "</table>\n",
       "</div>"
      ],
      "text/plain": [
       "   name  math  english  science class        club   avg  test\n",
       "0  jack    90       75       60     a      tennis  75.0  fail\n",
       "1   eva    85       83       90     a  basketball  86.0  pass\n",
       "2  john    88       92       77     b           X  85.7  pass\n",
       "3   joy    76       81       83     c           X  80.0  pass"
      ]
     },
     "execution_count": 174,
     "metadata": {},
     "output_type": "execute_result"
    }
   ],
   "source": [
    "classes.pipe(club_na)"
   ]
  },
  {
   "cell_type": "code",
   "execution_count": null,
   "id": "4fd4f8a6",
   "metadata": {},
   "outputs": [],
   "source": []
  },
  {
   "cell_type": "markdown",
   "id": "2ad258a2",
   "metadata": {},
   "source": [
    "#### eval함수를 이용하여 세과목 평균 점수를 구하여라 (위 문제와 다른방식으로..)"
   ]
  },
  {
   "cell_type": "code",
   "execution_count": 193,
   "id": "440ca64e",
   "metadata": {},
   "outputs": [
    {
     "data": {
      "text/html": [
       "<div>\n",
       "<style scoped>\n",
       "    .dataframe tbody tr th:only-of-type {\n",
       "        vertical-align: middle;\n",
       "    }\n",
       "\n",
       "    .dataframe tbody tr th {\n",
       "        vertical-align: top;\n",
       "    }\n",
       "\n",
       "    .dataframe thead th {\n",
       "        text-align: right;\n",
       "    }\n",
       "</style>\n",
       "<table border=\"1\" class=\"dataframe\">\n",
       "  <thead>\n",
       "    <tr style=\"text-align: right;\">\n",
       "      <th></th>\n",
       "      <th>name</th>\n",
       "      <th>math</th>\n",
       "      <th>english</th>\n",
       "      <th>science</th>\n",
       "    </tr>\n",
       "  </thead>\n",
       "  <tbody>\n",
       "    <tr>\n",
       "      <th>0</th>\n",
       "      <td>jack</td>\n",
       "      <td>90</td>\n",
       "      <td>75</td>\n",
       "      <td>60</td>\n",
       "    </tr>\n",
       "    <tr>\n",
       "      <th>1</th>\n",
       "      <td>eva</td>\n",
       "      <td>85</td>\n",
       "      <td>83</td>\n",
       "      <td>90</td>\n",
       "    </tr>\n",
       "    <tr>\n",
       "      <th>2</th>\n",
       "      <td>john</td>\n",
       "      <td>88</td>\n",
       "      <td>92</td>\n",
       "      <td>77</td>\n",
       "    </tr>\n",
       "    <tr>\n",
       "      <th>3</th>\n",
       "      <td>joy</td>\n",
       "      <td>76</td>\n",
       "      <td>81</td>\n",
       "      <td>83</td>\n",
       "    </tr>\n",
       "  </tbody>\n",
       "</table>\n",
       "</div>"
      ],
      "text/plain": [
       "   name  math  english  science\n",
       "0  jack    90       75       60\n",
       "1   eva    85       83       90\n",
       "2  john    88       92       77\n",
       "3   joy    76       81       83"
      ]
     },
     "execution_count": 193,
     "metadata": {},
     "output_type": "execute_result"
    }
   ],
   "source": [
    "classes2 = pd.DataFrame({'name':['jack','eva','john','joy'],\n",
    "                      'math':[90,85,88,76], \n",
    "                      'english':[75,83,92,81], \n",
    "                      'science':[60,90,77,83]})\n",
    "classes2"
   ]
  },
  {
   "cell_type": "code",
   "execution_count": 194,
   "id": "47b3e57e",
   "metadata": {},
   "outputs": [],
   "source": [
    "avg = classes2.eval('(math + english + science) / 3')"
   ]
  },
  {
   "cell_type": "code",
   "execution_count": 195,
   "id": "494e4cf3",
   "metadata": {},
   "outputs": [],
   "source": [
    "classes2['avg'] = avg"
   ]
  },
  {
   "cell_type": "code",
   "execution_count": 196,
   "id": "f8fc75ef",
   "metadata": {},
   "outputs": [
    {
     "data": {
      "text/html": [
       "<div>\n",
       "<style scoped>\n",
       "    .dataframe tbody tr th:only-of-type {\n",
       "        vertical-align: middle;\n",
       "    }\n",
       "\n",
       "    .dataframe tbody tr th {\n",
       "        vertical-align: top;\n",
       "    }\n",
       "\n",
       "    .dataframe thead th {\n",
       "        text-align: right;\n",
       "    }\n",
       "</style>\n",
       "<table border=\"1\" class=\"dataframe\">\n",
       "  <thead>\n",
       "    <tr style=\"text-align: right;\">\n",
       "      <th></th>\n",
       "      <th>name</th>\n",
       "      <th>math</th>\n",
       "      <th>english</th>\n",
       "      <th>science</th>\n",
       "      <th>avg</th>\n",
       "    </tr>\n",
       "  </thead>\n",
       "  <tbody>\n",
       "    <tr>\n",
       "      <th>0</th>\n",
       "      <td>jack</td>\n",
       "      <td>90</td>\n",
       "      <td>75</td>\n",
       "      <td>60</td>\n",
       "      <td>75.000000</td>\n",
       "    </tr>\n",
       "    <tr>\n",
       "      <th>1</th>\n",
       "      <td>eva</td>\n",
       "      <td>85</td>\n",
       "      <td>83</td>\n",
       "      <td>90</td>\n",
       "      <td>86.000000</td>\n",
       "    </tr>\n",
       "    <tr>\n",
       "      <th>2</th>\n",
       "      <td>john</td>\n",
       "      <td>88</td>\n",
       "      <td>92</td>\n",
       "      <td>77</td>\n",
       "      <td>85.666667</td>\n",
       "    </tr>\n",
       "    <tr>\n",
       "      <th>3</th>\n",
       "      <td>joy</td>\n",
       "      <td>76</td>\n",
       "      <td>81</td>\n",
       "      <td>83</td>\n",
       "      <td>80.000000</td>\n",
       "    </tr>\n",
       "  </tbody>\n",
       "</table>\n",
       "</div>"
      ],
      "text/plain": [
       "   name  math  english  science        avg\n",
       "0  jack    90       75       60  75.000000\n",
       "1   eva    85       83       90  86.000000\n",
       "2  john    88       92       77  85.666667\n",
       "3   joy    76       81       83  80.000000"
      ]
     },
     "execution_count": 196,
     "metadata": {},
     "output_type": "execute_result"
    }
   ],
   "source": [
    "classes2"
   ]
  },
  {
   "cell_type": "code",
   "execution_count": 199,
   "id": "897c4e35",
   "metadata": {},
   "outputs": [
    {
     "data": {
      "text/html": [
       "<div>\n",
       "<style scoped>\n",
       "    .dataframe tbody tr th:only-of-type {\n",
       "        vertical-align: middle;\n",
       "    }\n",
       "\n",
       "    .dataframe tbody tr th {\n",
       "        vertical-align: top;\n",
       "    }\n",
       "\n",
       "    .dataframe thead th {\n",
       "        text-align: right;\n",
       "    }\n",
       "</style>\n",
       "<table border=\"1\" class=\"dataframe\">\n",
       "  <thead>\n",
       "    <tr style=\"text-align: right;\">\n",
       "      <th></th>\n",
       "      <th>name</th>\n",
       "      <th>math</th>\n",
       "      <th>english</th>\n",
       "      <th>science</th>\n",
       "      <th>avg</th>\n",
       "    </tr>\n",
       "  </thead>\n",
       "  <tbody>\n",
       "    <tr>\n",
       "      <th>0</th>\n",
       "      <td>jack</td>\n",
       "      <td>90</td>\n",
       "      <td>75</td>\n",
       "      <td>60</td>\n",
       "      <td>75.0</td>\n",
       "    </tr>\n",
       "    <tr>\n",
       "      <th>1</th>\n",
       "      <td>eva</td>\n",
       "      <td>85</td>\n",
       "      <td>83</td>\n",
       "      <td>90</td>\n",
       "      <td>86.0</td>\n",
       "    </tr>\n",
       "    <tr>\n",
       "      <th>2</th>\n",
       "      <td>john</td>\n",
       "      <td>88</td>\n",
       "      <td>92</td>\n",
       "      <td>77</td>\n",
       "      <td>85.7</td>\n",
       "    </tr>\n",
       "    <tr>\n",
       "      <th>3</th>\n",
       "      <td>joy</td>\n",
       "      <td>76</td>\n",
       "      <td>81</td>\n",
       "      <td>83</td>\n",
       "      <td>80.0</td>\n",
       "    </tr>\n",
       "  </tbody>\n",
       "</table>\n",
       "</div>"
      ],
      "text/plain": [
       "   name  math  english  science   avg\n",
       "0  jack    90       75       60  75.0\n",
       "1   eva    85       83       90  86.0\n",
       "2  john    88       92       77  85.7\n",
       "3   joy    76       81       83  80.0"
      ]
     },
     "execution_count": 199,
     "metadata": {},
     "output_type": "execute_result"
    }
   ],
   "source": [
    "classes2.round(1)"
   ]
  }
 ],
 "metadata": {
  "kernelspec": {
   "display_name": "Python 3 (ipykernel)",
   "language": "python",
   "name": "python3"
  },
  "language_info": {
   "codemirror_mode": {
    "name": "ipython",
    "version": 3
   },
   "file_extension": ".py",
   "mimetype": "text/x-python",
   "name": "python",
   "nbconvert_exporter": "python",
   "pygments_lexer": "ipython3",
   "version": "3.9.13"
  }
 },
 "nbformat": 4,
 "nbformat_minor": 5
}
