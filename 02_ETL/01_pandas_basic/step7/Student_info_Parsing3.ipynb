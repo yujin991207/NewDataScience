{
 "cells": [
  {
   "cell_type": "code",
   "execution_count": 4,
   "id": "9582336e",
   "metadata": {},
   "outputs": [],
   "source": [
    "from xml.etree.ElementTree import parse\n",
    "import pandas as pd\n",
    "import numpy as np\n",
    "import matplotlib.pyplot as plt\n",
    "import seaborn as sns\n",
    "from matplotlib import font_manager,rc\n",
    "\n",
    "import random\n",
    "\n",
    "font_location = \"C:\\Windows\\Fonts\\malgun.ttf\"\n",
    "font_name = font_manager.FontProperties(fname=font_location).get_name()\n",
    "rc('font',family=font_name)\n",
    "plt.rcParams['axes.unicode_minus'] = False"
   ]
  },
  {
   "cell_type": "code",
   "execution_count": 10,
   "id": "4421a2f3",
   "metadata": {},
   "outputs": [],
   "source": [
    "def student_xml_to_df():\n",
    "    tree = parse(\"students_info.xml\")\n",
    "    note = tree.getroot()\n",
    "    student_list=[]\n",
    "    for parent in note.iter(\"student\"):\n",
    "\n",
    "        simple_row_list=[]\n",
    "        name = parent.get(\"name\")\n",
    "        sex = parent.get(\"sex\")\n",
    "        age = parent.findtext(\"age\")\n",
    "        major = parent.findtext(\"major\")\n",
    "\n",
    "        simple_row_list.append(name)\n",
    "        simple_row_list.append(sex)\n",
    "        simple_row_list.append(age)\n",
    "        simple_row_list.append(major)\n",
    "\n",
    "\n",
    "        pcl_node = parent.find('practicable_computer_languages')\n",
    "        if pcl_node:\n",
    "            for language in pcl_node.iter(\"language\"):\n",
    "                all_data_row_list=simple_row_list.copy()\n",
    "                all_data_row_list.append(language.get('name'))\n",
    "                all_data_row_list.append(language.get('level'))\n",
    "                all_data_row_list.append(language.find('period').get('value'))\n",
    "                student_list.append(all_data_row_list)\n",
    "        else:\n",
    "            simple_row_list.append('N/A')\n",
    "            simple_row_list.append('N/A')\n",
    "            simple_row_list.append('N/A')\n",
    "            student_list.append(simple_row_list)\n",
    "\n",
    "    column_list = ['이름','성별','나이','전공','컴퓨터언어','레벨','사용기간']\n",
    "    return pd.DataFrame(student_list, columns=column_list)"
   ]
  },
  {
   "cell_type": "code",
   "execution_count": 18,
   "id": "b309822a",
   "metadata": {},
   "outputs": [
    {
     "ename": "FileNotFoundError",
     "evalue": "[Errno 2] No such file or directory: 'students_info.xml'",
     "output_type": "error",
     "traceback": [
      "\u001b[1;31m---------------------------------------------------------------------------\u001b[0m",
      "\u001b[1;31mFileNotFoundError\u001b[0m                         Traceback (most recent call last)",
      "\u001b[1;32m~\\AppData\\Local\\Temp\\ipykernel_5492\\54335541.py\u001b[0m in \u001b[0;36m<module>\u001b[1;34m\u001b[0m\n\u001b[1;32m----> 1\u001b[1;33m \u001b[0mdf\u001b[0m \u001b[1;33m=\u001b[0m \u001b[0mstudent_xml_to_df\u001b[0m\u001b[1;33m(\u001b[0m\u001b[1;33m)\u001b[0m\u001b[1;33m\u001b[0m\u001b[1;33m\u001b[0m\u001b[0m\n\u001b[0m\u001b[0;32m      2\u001b[0m \u001b[0mdf\u001b[0m\u001b[1;33m\u001b[0m\u001b[1;33m\u001b[0m\u001b[0m\n",
      "\u001b[1;32m~\\AppData\\Local\\Temp\\ipykernel_5492\\1125112801.py\u001b[0m in \u001b[0;36mstudent_xml_to_df\u001b[1;34m()\u001b[0m\n\u001b[0;32m      1\u001b[0m \u001b[1;32mdef\u001b[0m \u001b[0mstudent_xml_to_df\u001b[0m\u001b[1;33m(\u001b[0m\u001b[1;33m)\u001b[0m\u001b[1;33m:\u001b[0m\u001b[1;33m\u001b[0m\u001b[1;33m\u001b[0m\u001b[0m\n\u001b[1;32m----> 2\u001b[1;33m     \u001b[0mtree\u001b[0m \u001b[1;33m=\u001b[0m \u001b[0mparse\u001b[0m\u001b[1;33m(\u001b[0m\u001b[1;34m\"students_info.xml\"\u001b[0m\u001b[1;33m)\u001b[0m\u001b[1;33m\u001b[0m\u001b[1;33m\u001b[0m\u001b[0m\n\u001b[0m\u001b[0;32m      3\u001b[0m     \u001b[0mnote\u001b[0m \u001b[1;33m=\u001b[0m \u001b[0mtree\u001b[0m\u001b[1;33m.\u001b[0m\u001b[0mgetroot\u001b[0m\u001b[1;33m(\u001b[0m\u001b[1;33m)\u001b[0m\u001b[1;33m\u001b[0m\u001b[1;33m\u001b[0m\u001b[0m\n\u001b[0;32m      4\u001b[0m     \u001b[0mstudent_list\u001b[0m\u001b[1;33m=\u001b[0m\u001b[1;33m[\u001b[0m\u001b[1;33m]\u001b[0m\u001b[1;33m\u001b[0m\u001b[1;33m\u001b[0m\u001b[0m\n\u001b[0;32m      5\u001b[0m     \u001b[1;32mfor\u001b[0m \u001b[0mparent\u001b[0m \u001b[1;32min\u001b[0m \u001b[0mnote\u001b[0m\u001b[1;33m.\u001b[0m\u001b[0miter\u001b[0m\u001b[1;33m(\u001b[0m\u001b[1;34m\"student\"\u001b[0m\u001b[1;33m)\u001b[0m\u001b[1;33m:\u001b[0m\u001b[1;33m\u001b[0m\u001b[1;33m\u001b[0m\u001b[0m\n",
      "\u001b[1;32m~\\anaconda3\\lib\\xml\\etree\\ElementTree.py\u001b[0m in \u001b[0;36mparse\u001b[1;34m(source, parser)\u001b[0m\n\u001b[0;32m   1222\u001b[0m     \"\"\"\n\u001b[0;32m   1223\u001b[0m     \u001b[0mtree\u001b[0m \u001b[1;33m=\u001b[0m \u001b[0mElementTree\u001b[0m\u001b[1;33m(\u001b[0m\u001b[1;33m)\u001b[0m\u001b[1;33m\u001b[0m\u001b[1;33m\u001b[0m\u001b[0m\n\u001b[1;32m-> 1224\u001b[1;33m     \u001b[0mtree\u001b[0m\u001b[1;33m.\u001b[0m\u001b[0mparse\u001b[0m\u001b[1;33m(\u001b[0m\u001b[0msource\u001b[0m\u001b[1;33m,\u001b[0m \u001b[0mparser\u001b[0m\u001b[1;33m)\u001b[0m\u001b[1;33m\u001b[0m\u001b[1;33m\u001b[0m\u001b[0m\n\u001b[0m\u001b[0;32m   1225\u001b[0m     \u001b[1;32mreturn\u001b[0m \u001b[0mtree\u001b[0m\u001b[1;33m\u001b[0m\u001b[1;33m\u001b[0m\u001b[0m\n\u001b[0;32m   1226\u001b[0m \u001b[1;33m\u001b[0m\u001b[0m\n",
      "\u001b[1;32m~\\anaconda3\\lib\\xml\\etree\\ElementTree.py\u001b[0m in \u001b[0;36mparse\u001b[1;34m(self, source, parser)\u001b[0m\n\u001b[0;32m    567\u001b[0m         \u001b[0mclose_source\u001b[0m \u001b[1;33m=\u001b[0m \u001b[1;32mFalse\u001b[0m\u001b[1;33m\u001b[0m\u001b[1;33m\u001b[0m\u001b[0m\n\u001b[0;32m    568\u001b[0m         \u001b[1;32mif\u001b[0m \u001b[1;32mnot\u001b[0m \u001b[0mhasattr\u001b[0m\u001b[1;33m(\u001b[0m\u001b[0msource\u001b[0m\u001b[1;33m,\u001b[0m \u001b[1;34m\"read\"\u001b[0m\u001b[1;33m)\u001b[0m\u001b[1;33m:\u001b[0m\u001b[1;33m\u001b[0m\u001b[1;33m\u001b[0m\u001b[0m\n\u001b[1;32m--> 569\u001b[1;33m             \u001b[0msource\u001b[0m \u001b[1;33m=\u001b[0m \u001b[0mopen\u001b[0m\u001b[1;33m(\u001b[0m\u001b[0msource\u001b[0m\u001b[1;33m,\u001b[0m \u001b[1;34m\"rb\"\u001b[0m\u001b[1;33m)\u001b[0m\u001b[1;33m\u001b[0m\u001b[1;33m\u001b[0m\u001b[0m\n\u001b[0m\u001b[0;32m    570\u001b[0m             \u001b[0mclose_source\u001b[0m \u001b[1;33m=\u001b[0m \u001b[1;32mTrue\u001b[0m\u001b[1;33m\u001b[0m\u001b[1;33m\u001b[0m\u001b[0m\n\u001b[0;32m    571\u001b[0m         \u001b[1;32mtry\u001b[0m\u001b[1;33m:\u001b[0m\u001b[1;33m\u001b[0m\u001b[1;33m\u001b[0m\u001b[0m\n",
      "\u001b[1;31mFileNotFoundError\u001b[0m: [Errno 2] No such file or directory: 'students_info.xml'"
     ]
    }
   ],
   "source": [
    "df = student_xml_to_df()\n",
    "df"
   ]
  },
  {
   "cell_type": "code",
   "execution_count": null,
   "id": "d0a76ae5",
   "metadata": {},
   "outputs": [],
   "source": [
    "df2 = df[['이름','성별']]\n",
    "df2"
   ]
  },
  {
   "cell_type": "code",
   "execution_count": null,
   "id": "ddf31250",
   "metadata": {},
   "outputs": [],
   "source": [
    "df2 = df2.drop_duplicates(ignore_index=True)\n",
    "df2"
   ]
  },
  {
   "cell_type": "code",
   "execution_count": null,
   "id": "e370c15d",
   "metadata": {},
   "outputs": [],
   "source": [
    "sex_analysis = df2.groupby('성별').count()\n",
    "sex_analysis"
   ]
  },
  {
   "cell_type": "code",
   "execution_count": null,
   "id": "b014f7a6",
   "metadata": {},
   "outputs": [],
   "source": [
    "explode = (0.25,0)\n",
    "plt.pie(sex_analysis['이름'],labels=sex_analysis.index, autopct='%.1f%%', explode=explode, shadow=True)\n",
    "plt.show()"
   ]
  },
  {
   "cell_type": "markdown",
   "id": "6ae37ea5",
   "metadata": {},
   "source": [
    "### 전공여부"
   ]
  },
  {
   "cell_type": "code",
   "execution_count": null,
   "id": "d02599d2",
   "metadata": {},
   "outputs": [],
   "source": [
    "df3 = df[['이름','전공']]\n",
    "df3= df3.drop_duplicates(ignore_index=True)\n",
    "df3"
   ]
  },
  {
   "cell_type": "code",
   "execution_count": null,
   "id": "a4edbdcf",
   "metadata": {},
   "outputs": [],
   "source": []
  },
  {
   "cell_type": "code",
   "execution_count": null,
   "id": "5e7a965e",
   "metadata": {},
   "outputs": [],
   "source": [
    "def classify_computer_major(x):\n",
    "    if x.startswith('컴퓨터') or x.startswith('통계'):\n",
    "        x = '컴퓨터 전공'\n",
    "    else:\n",
    "        x='비전공'\n",
    "    return x"
   ]
  },
  {
   "cell_type": "code",
   "execution_count": null,
   "id": "d971b8c5",
   "metadata": {},
   "outputs": [],
   "source": [
    "df3['전공']=df3['전공'].apply(classify_computer_major)\n",
    "df3"
   ]
  },
  {
   "cell_type": "code",
   "execution_count": null,
   "id": "f0406a78",
   "metadata": {},
   "outputs": [],
   "source": [
    "df4 = df[['이름','컴퓨터언어']]\n",
    "df4"
   ]
  },
  {
   "cell_type": "code",
   "execution_count": null,
   "id": "78033e0d",
   "metadata": {},
   "outputs": [],
   "source": [
    "def classify_programmable_student(x):\n",
    "    if x == 'N/A':\n",
    "        x = '비경험자'\n",
    "    else:\n",
    "        x = '경험자'\n",
    "    \n",
    "    return x"
   ]
  },
  {
   "cell_type": "code",
   "execution_count": null,
   "id": "87090c86",
   "metadata": {},
   "outputs": [],
   "source": [
    "df4['컴퓨터언어']=df4['컴퓨터언어'].apply(classify_programmable_student)\n",
    "df4"
   ]
  },
  {
   "cell_type": "code",
   "execution_count": null,
   "id": "f91766f6",
   "metadata": {},
   "outputs": [],
   "source": [
    "df5 = df.copy()\n",
    "df5 = df5[['이름','컴퓨터언어']]\n",
    "df5['컴퓨터언어']=df5['컴퓨터언어'].apply(classify_programmable_student)\n",
    "df5"
   ]
  },
  {
   "cell_type": "code",
   "execution_count": null,
   "id": "9165e351",
   "metadata": {},
   "outputs": [],
   "source": [
    "df5 = df5.drop_duplicates(ignore_index=True)\n",
    "df5"
   ]
  },
  {
   "cell_type": "code",
   "execution_count": null,
   "id": "6a44ef1d",
   "metadata": {},
   "outputs": [],
   "source": [
    "language_analysis = df5.groupby('컴퓨터언어').count()\n",
    "language_analysis"
   ]
  },
  {
   "cell_type": "code",
   "execution_count": null,
   "id": "ac38859f",
   "metadata": {},
   "outputs": [],
   "source": [
    "explode = (0.1,0)\n",
    "plt.pie(language_analysis['이름'],labels=language_analysis.index, autopct='%.1f%%', explode=explode, shadow=True)\n",
    "plt.show()"
   ]
  },
  {
   "cell_type": "code",
   "execution_count": null,
   "id": "6e2fd7df",
   "metadata": {},
   "outputs": [],
   "source": [
    "df6 = df.copy()\n",
    "df6 = df6[['이름','나이']]"
   ]
  },
  {
   "cell_type": "code",
   "execution_count": null,
   "id": "579797f9",
   "metadata": {},
   "outputs": [],
   "source": [
    "df6['나이'] = df6['나이'].astype(int)\n",
    "df6 = df6.drop_duplicates(ignore_index=True)\n",
    "df6"
   ]
  },
  {
   "cell_type": "code",
   "execution_count": null,
   "id": "74309f78",
   "metadata": {},
   "outputs": [],
   "source": [
    "def classify_age(x):\n",
    "    if x < 20:\n",
    "        x = '20대 이하'\n",
    "    if x >= 20 and x < 30:\n",
    "        x = '20대'\n",
    "    elif x >= 30 and x < 40:\n",
    "        x = '30대'\n",
    "    elif x >= 40 and x < 50:\n",
    "        x = '40대'\n",
    "    elif x >= 50 and x < 60:\n",
    "        x = '50대'\n",
    "    else:\n",
    "        x = '60대 이상'\n",
    "        \n",
    "    return x"
   ]
  },
  {
   "cell_type": "code",
   "execution_count": null,
   "id": "6a74a176",
   "metadata": {
    "scrolled": true
   },
   "outputs": [],
   "source": [
    "df6['나이']=df6['나이'].apply(classify_age)\n",
    "df6"
   ]
  },
  {
   "cell_type": "code",
   "execution_count": null,
   "id": "a99b066b",
   "metadata": {},
   "outputs": [],
   "source": [
    "age_analysis = df6.groupby('나이').count()\n",
    "explode = (0,0.1,0)\n",
    "plt.pie(age_analysis['이름'],labels=age_analysis.index, autopct='%.1f%%', shadow=True, explode=explode)\n",
    "plt.show()"
   ]
  }
 ],
 "metadata": {
  "kernelspec": {
   "display_name": "Python 3 (ipykernel)",
   "language": "python",
   "name": "python3"
  },
  "language_info": {
   "codemirror_mode": {
    "name": "ipython",
    "version": 3
   },
   "file_extension": ".py",
   "mimetype": "text/x-python",
   "name": "python",
   "nbconvert_exporter": "python",
   "pygments_lexer": "ipython3",
   "version": "3.9.13"
  }
 },
 "nbformat": 4,
 "nbformat_minor": 5
}
