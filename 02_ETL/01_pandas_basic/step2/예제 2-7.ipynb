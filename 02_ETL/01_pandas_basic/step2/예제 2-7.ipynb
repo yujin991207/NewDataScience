{
 "cells": [
  {
   "cell_type": "markdown",
   "id": "fac15966",
   "metadata": {},
   "source": [
    "## 예제 2-7 넘파이 모듈 이용해서 생성하기"
   ]
  },
  {
   "cell_type": "code",
   "execution_count": 1,
   "id": "90bc8be9",
   "metadata": {},
   "outputs": [],
   "source": [
    "import pandas as pd"
   ]
  },
  {
   "cell_type": "code",
   "execution_count": 2,
   "id": "757770d4",
   "metadata": {},
   "outputs": [],
   "source": [
    "import numpy as np"
   ]
  },
  {
   "cell_type": "code",
   "execution_count": 3,
   "id": "6c2092dc",
   "metadata": {},
   "outputs": [],
   "source": [
    "# 랜덤한 숫자 5개를 뽑아낸다\n",
    "s = pd.Series(np.random.randn(5))"
   ]
  },
  {
   "cell_type": "code",
   "execution_count": 4,
   "id": "64560093",
   "metadata": {},
   "outputs": [
    {
     "data": {
      "text/plain": [
       "0    0.393245\n",
       "1    0.317958\n",
       "2   -0.463329\n",
       "3    0.635341\n",
       "4   -0.148210\n",
       "dtype: float64"
      ]
     },
     "execution_count": 4,
     "metadata": {},
     "output_type": "execute_result"
    }
   ],
   "source": [
    "#  randn method는 표준정규분포확률를 따르는 난수를 return\n",
    "# 표준정규분포란 평균을 0, 표준편차 1인 정규분포를 의미\n",
    "s"
   ]
  }
 ],
 "metadata": {
  "kernelspec": {
   "display_name": "Python 3 (ipykernel)",
   "language": "python",
   "name": "python3"
  },
  "language_info": {
   "codemirror_mode": {
    "name": "ipython",
    "version": 3
   },
   "file_extension": ".py",
   "mimetype": "text/x-python",
   "name": "python",
   "nbconvert_exporter": "python",
   "pygments_lexer": "ipython3",
   "version": "3.9.13"
  }
 },
 "nbformat": 4,
 "nbformat_minor": 5
}
