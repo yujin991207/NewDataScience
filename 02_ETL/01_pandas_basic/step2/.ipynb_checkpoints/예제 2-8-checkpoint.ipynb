{
 "cells": [
  {
   "cell_type": "markdown",
   "id": "d008be02",
   "metadata": {},
   "source": [
    "## 예제 2-8 시리즈의 기본 속상 알아보기"
   ]
  },
  {
   "cell_type": "code",
   "execution_count": 1,
   "id": "c2665cb8",
   "metadata": {},
   "outputs": [],
   "source": [
    "import pandas as pd"
   ]
  },
  {
   "cell_type": "code",
   "execution_count": 2,
   "id": "56b5a81e",
   "metadata": {},
   "outputs": [],
   "source": [
    "obj = pd.Series([1,2,3,4], name = \"obj\")"
   ]
  },
  {
   "cell_type": "code",
   "execution_count": 3,
   "id": "f3cadf11",
   "metadata": {},
   "outputs": [
    {
     "data": {
      "text/plain": [
       "((4,), 32)"
      ]
     },
     "execution_count": 3,
     "metadata": {},
     "output_type": "execute_result"
    }
   ],
   "source": [
    "obj.shape, obj.nbytes"
   ]
  },
  {
   "cell_type": "code",
   "execution_count": 4,
   "id": "05a5d8dd",
   "metadata": {},
   "outputs": [
    {
     "data": {
      "text/plain": [
       "0    1\n",
       "1    2\n",
       "2    3\n",
       "3    4\n",
       "Name: obj, dtype: int64"
      ]
     },
     "execution_count": 4,
     "metadata": {},
     "output_type": "execute_result"
    }
   ],
   "source": [
    "obj"
   ]
  },
  {
   "cell_type": "code",
   "execution_count": 5,
   "id": "7da2d642",
   "metadata": {},
   "outputs": [
    {
     "data": {
      "text/plain": [
       "array([1, 2, 3, 4], dtype=int64)"
      ]
     },
     "execution_count": 5,
     "metadata": {},
     "output_type": "execute_result"
    }
   ],
   "source": [
    "obj.values"
   ]
  },
  {
   "cell_type": "code",
   "execution_count": 10,
   "id": "743dc562",
   "metadata": {},
   "outputs": [
    {
     "data": {
      "text/plain": [
       "(dtype('int64'), 32)"
      ]
     },
     "execution_count": 10,
     "metadata": {},
     "output_type": "execute_result"
    }
   ],
   "source": [
    "# nbytes : 전체데이터가 얼마나 차지하고 있는지 확인\n",
    "obj.dtype, obj.nbytes"
   ]
  },
  {
   "cell_type": "code",
   "execution_count": 8,
   "id": "4aa3d152",
   "metadata": {},
   "outputs": [
    {
     "name": "stderr",
     "output_type": "stream",
     "text": [
      "C:\\Users\\TJ\\AppData\\Local\\Temp\\ipykernel_3000\\2444424739.py:1: FutureWarning: The default dtype for empty Series will be 'object' instead of 'float64' in a future version. Specify a dtype explicitly to silence this warning.\n",
      "  obj_emp = pd.Series()\n"
     ]
    }
   ],
   "source": [
    "obj_emp = pd.Series()"
   ]
  },
  {
   "cell_type": "code",
   "execution_count": 9,
   "id": "184c24cb",
   "metadata": {},
   "outputs": [
    {
     "data": {
      "text/plain": [
       "True"
      ]
     },
     "execution_count": 9,
     "metadata": {},
     "output_type": "execute_result"
    }
   ],
   "source": [
    "# 실제로 데이터가 있는지 없는지 판단\n",
    "obj_emp.empty"
   ]
  }
 ],
 "metadata": {
  "kernelspec": {
   "display_name": "Python 3 (ipykernel)",
   "language": "python",
   "name": "python3"
  },
  "language_info": {
   "codemirror_mode": {
    "name": "ipython",
    "version": 3
   },
   "file_extension": ".py",
   "mimetype": "text/x-python",
   "name": "python",
   "nbconvert_exporter": "python",
   "pygments_lexer": "ipython3",
   "version": "3.9.13"
  }
 },
 "nbformat": 4,
 "nbformat_minor": 5
}
