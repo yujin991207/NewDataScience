{
 "cells": [
  {
   "cell_type": "markdown",
   "id": "6c3e7cdf",
   "metadata": {},
   "source": [
    "## 예제 2-17 시리즈에 논리식검색"
   ]
  },
  {
   "cell_type": "code",
   "execution_count": 2,
   "id": "57ed28f7",
   "metadata": {},
   "outputs": [],
   "source": [
    "import pandas as pd"
   ]
  },
  {
   "cell_type": "code",
   "execution_count": 3,
   "id": "9fd5c7a1",
   "metadata": {},
   "outputs": [],
   "source": [
    "sat = pd.read_csv(\"../data/2014_korea_sat_scores.csv\",encoding='euc-kr').dropna(axis=1)"
   ]
  },
  {
   "cell_type": "code",
   "execution_count": 4,
   "id": "affee69f",
   "metadata": {},
   "outputs": [],
   "source": [
    "l_sat = ((sat['도수(명)'] < 20000) & (sat['비율(%)'] <= 5.0))"
   ]
  },
  {
   "cell_type": "code",
   "execution_count": 5,
   "id": "15256726",
   "metadata": {},
   "outputs": [],
   "source": [
    "sat_ser = sat['도수(명)']"
   ]
  },
  {
   "cell_type": "code",
   "execution_count": 6,
   "id": "55368a15",
   "metadata": {},
   "outputs": [
    {
     "data": {
      "text/plain": [
       "0      13866\n",
       "1      23599\n",
       "2      42470\n",
       "3      52640\n",
       "4      63896\n",
       "       ...  \n",
       "337     1324\n",
       "338     1075\n",
       "339      873\n",
       "340      233\n",
       "341      216\n",
       "Name: 도수(명), Length: 342, dtype: int64"
      ]
     },
     "execution_count": 6,
     "metadata": {},
     "output_type": "execute_result"
    }
   ],
   "source": [
    "sat_ser"
   ]
  },
  {
   "cell_type": "code",
   "execution_count": null,
   "id": "b1ff8ffb",
   "metadata": {},
   "outputs": [],
   "source": [
    "# 논리검색은 시리즈에서도 DataFrame과 마찬가지로 적용된다."
   ]
  },
  {
   "cell_type": "code",
   "execution_count": 7,
   "id": "7c17be5d",
   "metadata": {},
   "outputs": [
    {
     "data": {
      "text/plain": [
       "0      13866\n",
       "8      12554\n",
       "9      12615\n",
       "16     19943\n",
       "17     10868\n",
       "       ...  \n",
       "337     1324\n",
       "338     1075\n",
       "339      873\n",
       "340      233\n",
       "341      216\n",
       "Name: 도수(명), Length: 294, dtype: int64"
      ]
     },
     "execution_count": 7,
     "metadata": {},
     "output_type": "execute_result"
    }
   ],
   "source": [
    "sat_ser[sat_ser < 20000]"
   ]
  },
  {
   "cell_type": "code",
   "execution_count": 8,
   "id": "103d97f9",
   "metadata": {},
   "outputs": [
    {
     "data": {
      "text/plain": [
       "(294,)"
      ]
     },
     "execution_count": 8,
     "metadata": {},
     "output_type": "execute_result"
    }
   ],
   "source": [
    "# 294개의 레코드\n",
    "sat_ser[sat_ser < 20000].shape"
   ]
  },
  {
   "cell_type": "code",
   "execution_count": 9,
   "id": "8ca47009",
   "metadata": {},
   "outputs": [
    {
     "data": {
      "text/plain": [
       "0     13866\n",
       "8     12554\n",
       "9     12615\n",
       "16    19943\n",
       "17    10868\n",
       "Name: 도수(명), dtype: int64"
      ]
     },
     "execution_count": 9,
     "metadata": {},
     "output_type": "execute_result"
    }
   ],
   "source": [
    "sat_ser[sat_ser < 20000].head()"
   ]
  }
 ],
 "metadata": {
  "kernelspec": {
   "display_name": "Python 3 (ipykernel)",
   "language": "python",
   "name": "python3"
  },
  "language_info": {
   "codemirror_mode": {
    "name": "ipython",
    "version": 3
   },
   "file_extension": ".py",
   "mimetype": "text/x-python",
   "name": "python",
   "nbconvert_exporter": "python",
   "pygments_lexer": "ipython3",
   "version": "3.9.13"
  }
 },
 "nbformat": 4,
 "nbformat_minor": 5
}
