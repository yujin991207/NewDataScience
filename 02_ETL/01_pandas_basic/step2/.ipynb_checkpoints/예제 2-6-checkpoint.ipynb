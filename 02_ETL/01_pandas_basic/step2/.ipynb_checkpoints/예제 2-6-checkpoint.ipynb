{
 "cells": [
  {
   "cell_type": "markdown",
   "id": "ce07134f",
   "metadata": {},
   "source": [
    "## 예제 2-6 딕셔너리로 시리즈 생성"
   ]
  },
  {
   "cell_type": "code",
   "execution_count": 1,
   "id": "172a4440",
   "metadata": {},
   "outputs": [],
   "source": [
    "import pandas as pd"
   ]
  },
  {
   "cell_type": "code",
   "execution_count": 2,
   "id": "58154520",
   "metadata": {},
   "outputs": [],
   "source": [
    "d = {'a':1,'b':2,'c':3}\n",
    "ser = pd.Series(d,name = 'something')"
   ]
  },
  {
   "cell_type": "code",
   "execution_count": 3,
   "id": "4cc0ed25",
   "metadata": {},
   "outputs": [
    {
     "data": {
      "text/plain": [
       "a    1\n",
       "b    2\n",
       "c    3\n",
       "Name: something, dtype: int64"
      ]
     },
     "execution_count": 3,
     "metadata": {},
     "output_type": "execute_result"
    }
   ],
   "source": [
    "ser"
   ]
  },
  {
   "cell_type": "code",
   "execution_count": 7,
   "id": "c2955861",
   "metadata": {},
   "outputs": [],
   "source": [
    "index1 = ['a','b','c']"
   ]
  },
  {
   "cell_type": "code",
   "execution_count": 8,
   "id": "5a92ad77",
   "metadata": {},
   "outputs": [],
   "source": [
    "obj1 = pd.Series([1,2,3], index = index1,name = \"test\")"
   ]
  },
  {
   "cell_type": "code",
   "execution_count": 9,
   "id": "e9e691c4",
   "metadata": {},
   "outputs": [
    {
     "data": {
      "text/plain": [
       "a    1\n",
       "b    2\n",
       "c    3\n",
       "Name: test, dtype: int64"
      ]
     },
     "execution_count": 9,
     "metadata": {},
     "output_type": "execute_result"
    }
   ],
   "source": [
    "obj1"
   ]
  }
 ],
 "metadata": {
  "kernelspec": {
   "display_name": "Python 3 (ipykernel)",
   "language": "python",
   "name": "python3"
  },
  "language_info": {
   "codemirror_mode": {
    "name": "ipython",
    "version": 3
   },
   "file_extension": ".py",
   "mimetype": "text/x-python",
   "name": "python",
   "nbconvert_exporter": "python",
   "pygments_lexer": "ipython3",
   "version": "3.9.13"
  }
 },
 "nbformat": 4,
 "nbformat_minor": 5
}
