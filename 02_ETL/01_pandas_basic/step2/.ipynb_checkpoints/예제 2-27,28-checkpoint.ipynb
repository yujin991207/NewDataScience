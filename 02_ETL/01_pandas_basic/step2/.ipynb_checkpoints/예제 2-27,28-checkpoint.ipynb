{
 "cells": [
  {
   "cell_type": "markdown",
   "id": "1c39d7cf",
   "metadata": {},
   "source": [
    "## 예제 2-27 문자열 조회"
   ]
  },
  {
   "cell_type": "code",
   "execution_count": 1,
   "id": "a8ff570a",
   "metadata": {},
   "outputs": [],
   "source": [
    "import pandas as pd"
   ]
  },
  {
   "cell_type": "code",
   "execution_count": 2,
   "id": "de20d549",
   "metadata": {},
   "outputs": [],
   "source": [
    "# movies_str = pd.read_csv(\"../data/korea_movie_list.csv\", engine = \"python\")\n",
    "movies_str = pd.read_csv(\"../data/korea_movie_list.csv\", encoding = \"ms949\")"
   ]
  },
  {
   "cell_type": "code",
   "execution_count": 3,
   "id": "fb82852c",
   "metadata": {},
   "outputs": [
    {
     "data": {
      "text/plain": [
       "Index(['movie_code', 'title', 'title_Eng', 'show_time', 'produce_year',\n",
       "       'open_date', 'produce_state', 'type', 'nation', 'genre', 'director',\n",
       "       'actor', 'show_type', 'watch_grade'],\n",
       "      dtype='object')"
      ]
     },
     "execution_count": 3,
     "metadata": {},
     "output_type": "execute_result"
    }
   ],
   "source": [
    "movies_str.columns"
   ]
  },
  {
   "cell_type": "code",
   "execution_count": 4,
   "id": "c4931736",
   "metadata": {},
   "outputs": [
    {
     "data": {
      "text/plain": [
       "(2827, 14)"
      ]
     },
     "execution_count": 4,
     "metadata": {},
     "output_type": "execute_result"
    }
   ],
   "source": [
    "movies_str.shape"
   ]
  },
  {
   "cell_type": "code",
   "execution_count": 6,
   "id": "49d37808",
   "metadata": {},
   "outputs": [
    {
     "data": {
      "text/html": [
       "<div>\n",
       "<style scoped>\n",
       "    .dataframe tbody tr th:only-of-type {\n",
       "        vertical-align: middle;\n",
       "    }\n",
       "\n",
       "    .dataframe tbody tr th {\n",
       "        vertical-align: top;\n",
       "    }\n",
       "\n",
       "    .dataframe thead th {\n",
       "        text-align: right;\n",
       "    }\n",
       "</style>\n",
       "<table border=\"1\" class=\"dataframe\">\n",
       "  <thead>\n",
       "    <tr style=\"text-align: right;\">\n",
       "      <th></th>\n",
       "      <th>movie_code</th>\n",
       "      <th>title</th>\n",
       "      <th>title_Eng</th>\n",
       "      <th>show_time</th>\n",
       "      <th>produce_year</th>\n",
       "      <th>open_date</th>\n",
       "      <th>produce_state</th>\n",
       "      <th>type</th>\n",
       "      <th>nation</th>\n",
       "      <th>genre</th>\n",
       "      <th>director</th>\n",
       "      <th>actor</th>\n",
       "      <th>show_type</th>\n",
       "      <th>watch_grade</th>\n",
       "    </tr>\n",
       "  </thead>\n",
       "  <tbody>\n",
       "    <tr>\n",
       "      <th>0</th>\n",
       "      <td>20185801</td>\n",
       "      <td>할로우 차일드</td>\n",
       "      <td>The Hollow Child</td>\n",
       "      <td>88.0</td>\n",
       "      <td>2017</td>\n",
       "      <td>20180802</td>\n",
       "      <td>개봉예정</td>\n",
       "      <td>장편</td>\n",
       "      <td>캐나다</td>\n",
       "      <td>공포(호러)/판타지</td>\n",
       "      <td>제레미 루터</td>\n",
       "      <td>NaN</td>\n",
       "      <td>NaN</td>\n",
       "      <td>15세이상관람가</td>\n",
       "    </tr>\n",
       "    <tr>\n",
       "      <th>1</th>\n",
       "      <td>20187649</td>\n",
       "      <td>죽음의 리무진</td>\n",
       "      <td>Glass Coffin</td>\n",
       "      <td>75.0</td>\n",
       "      <td>2016</td>\n",
       "      <td>20180816</td>\n",
       "      <td>개봉예정</td>\n",
       "      <td>장편</td>\n",
       "      <td>스페인</td>\n",
       "      <td>스릴러/공포(호러)</td>\n",
       "      <td>하리츠 쥬빌라가</td>\n",
       "      <td>파울라 본템피</td>\n",
       "      <td>NaN</td>\n",
       "      <td>NaN</td>\n",
       "    </tr>\n",
       "  </tbody>\n",
       "</table>\n",
       "</div>"
      ],
      "text/plain": [
       "   movie_code    title         title_Eng  show_time  produce_year  open_date  \\\n",
       "0    20185801  할로우 차일드  The Hollow Child       88.0          2017   20180802   \n",
       "1    20187649  죽음의 리무진      Glass Coffin       75.0          2016   20180816   \n",
       "\n",
       "  produce_state type nation       genre  director    actor show_type  \\\n",
       "0          개봉예정   장편    캐나다  공포(호러)/판타지    제레미 루터      NaN       NaN   \n",
       "1          개봉예정   장편    스페인  스릴러/공포(호러)  하리츠 쥬빌라가  파울라 본템피       NaN   \n",
       "\n",
       "  watch_grade  \n",
       "0    15세이상관람가  \n",
       "1         NaN  "
      ]
     },
     "execution_count": 6,
     "metadata": {},
     "output_type": "execute_result"
    }
   ],
   "source": [
    "movies_str.head(2)"
   ]
  },
  {
   "cell_type": "code",
   "execution_count": 7,
   "id": "f95235d3",
   "metadata": {},
   "outputs": [],
   "source": [
    "movies_str_ser = movies_str['title']"
   ]
  },
  {
   "cell_type": "code",
   "execution_count": 8,
   "id": "29b5f5a3",
   "metadata": {},
   "outputs": [
    {
     "data": {
      "text/plain": [
       "0              할로우 차일드\n",
       "1              죽음의 리무진\n",
       "2    극장판 도라에몽: 진구의 보물섬\n",
       "3     명탐정 코난 : 제로의 집행인\n",
       "4              살아남은 아이\n",
       "Name: title, dtype: object"
      ]
     },
     "execution_count": 8,
     "metadata": {},
     "output_type": "execute_result"
    }
   ],
   "source": [
    "movies_str_ser.head()"
   ]
  },
  {
   "cell_type": "code",
   "execution_count": 10,
   "id": "59182d31",
   "metadata": {},
   "outputs": [],
   "source": [
    "movies_str_eng = movies_str['title_Eng']"
   ]
  },
  {
   "cell_type": "code",
   "execution_count": 11,
   "id": "dc8b4e48",
   "metadata": {},
   "outputs": [
    {
     "data": {
      "text/plain": [
       "0                      The Hollow Child\n",
       "1                          Glass Coffin\n",
       "2                                   NaN\n",
       "3    Detective Conan: Zero the Enforcer\n",
       "4                            Last Child\n",
       "Name: title_Eng, dtype: object"
      ]
     },
     "execution_count": 11,
     "metadata": {},
     "output_type": "execute_result"
    }
   ],
   "source": [
    "movies_str_eng.head()"
   ]
  },
  {
   "cell_type": "code",
   "execution_count": 12,
   "id": "98d2e3b8",
   "metadata": {},
   "outputs": [],
   "source": [
    "# hasnans => has nans 의 의미 누락된값이 있으면 True 없으면 False"
   ]
  },
  {
   "cell_type": "code",
   "execution_count": 13,
   "id": "8e4bbecc",
   "metadata": {},
   "outputs": [
    {
     "data": {
      "text/plain": [
       "False"
      ]
     },
     "execution_count": 13,
     "metadata": {},
     "output_type": "execute_result"
    }
   ],
   "source": [
    "# 결측치를 가지고 있는가?\n",
    "movies_str_ser.hasnans"
   ]
  },
  {
   "cell_type": "code",
   "execution_count": 14,
   "id": "cbf7f936",
   "metadata": {},
   "outputs": [],
   "source": [
    "movies_str_eng = movies_str_eng.dropna()"
   ]
  },
  {
   "cell_type": "code",
   "execution_count": 15,
   "id": "aa0b3963",
   "metadata": {},
   "outputs": [
    {
     "data": {
      "text/plain": [
       "(2226,)"
      ]
     },
     "execution_count": 15,
     "metadata": {},
     "output_type": "execute_result"
    }
   ],
   "source": [
    "movies_str_eng.shape"
   ]
  },
  {
   "cell_type": "code",
   "execution_count": null,
   "id": "6315e61e",
   "metadata": {},
   "outputs": [],
   "source": []
  },
  {
   "cell_type": "code",
   "execution_count": 16,
   "id": "af58a974",
   "metadata": {},
   "outputs": [],
   "source": [
    "s = str(\"가을\")"
   ]
  },
  {
   "cell_type": "code",
   "execution_count": 17,
   "id": "dd6cbacf",
   "metadata": {},
   "outputs": [
    {
     "data": {
      "text/plain": [
       "2"
      ]
     },
     "execution_count": 17,
     "metadata": {},
     "output_type": "execute_result"
    }
   ],
   "source": [
    "len(s)"
   ]
  },
  {
   "cell_type": "code",
   "execution_count": 18,
   "id": "12c95978",
   "metadata": {},
   "outputs": [],
   "source": [
    "# 시리즈의 str 속성의 len 함수를 통해 전체 요소의 길이값 반환"
   ]
  },
  {
   "cell_type": "code",
   "execution_count": 19,
   "id": "cfba3bd5",
   "metadata": {},
   "outputs": [
    {
     "data": {
      "text/plain": [
       "0     7\n",
       "1     7\n",
       "2    17\n",
       "3    16\n",
       "4     7\n",
       "Name: title, dtype: int64"
      ]
     },
     "execution_count": 19,
     "metadata": {},
     "output_type": "execute_result"
    }
   ],
   "source": [
    "movies_str_ser.str.len().head()"
   ]
  },
  {
   "cell_type": "code",
   "execution_count": 20,
   "id": "870feba5",
   "metadata": {},
   "outputs": [
    {
     "data": {
      "text/plain": [
       "1"
      ]
     },
     "execution_count": 20,
     "metadata": {},
     "output_type": "execute_result"
    }
   ],
   "source": [
    "s.find(\"을\")"
   ]
  },
  {
   "cell_type": "code",
   "execution_count": 21,
   "id": "5c0c6cf3",
   "metadata": {},
   "outputs": [
    {
     "data": {
      "text/plain": [
       "0    0\n",
       "1   -1\n",
       "2   -1\n",
       "3   -1\n",
       "4   -1\n",
       "Name: title, dtype: int64"
      ]
     },
     "execution_count": 21,
     "metadata": {},
     "output_type": "execute_result"
    }
   ],
   "source": [
    "# '할로우'라는 문자열이 없으면 -1\n",
    "movies_str_ser.str.find('할로우').head()"
   ]
  },
  {
   "cell_type": "code",
   "execution_count": 25,
   "id": "c20a2dcd",
   "metadata": {},
   "outputs": [
    {
     "data": {
      "text/plain": [
       "1"
      ]
     },
     "execution_count": 25,
     "metadata": {},
     "output_type": "execute_result"
    }
   ],
   "source": [
    "s.count(\"을\")"
   ]
  },
  {
   "cell_type": "code",
   "execution_count": 26,
   "id": "a6c61750",
   "metadata": {},
   "outputs": [
    {
     "data": {
      "text/plain": [
       "0    0\n",
       "1    1\n",
       "2    1\n",
       "3    1\n",
       "4    0\n",
       "Name: title, dtype: int64"
      ]
     },
     "execution_count": 26,
     "metadata": {},
     "output_type": "execute_result"
    }
   ],
   "source": [
    "movies_str_ser.str.count(\"의\").head()"
   ]
  },
  {
   "cell_type": "code",
   "execution_count": null,
   "id": "c444314e",
   "metadata": {},
   "outputs": [],
   "source": []
  },
  {
   "cell_type": "markdown",
   "id": "6b93dfc4",
   "metadata": {},
   "source": [
    "## 예제 2-28 문자열 변경"
   ]
  },
  {
   "cell_type": "code",
   "execution_count": 27,
   "id": "6e108b8d",
   "metadata": {},
   "outputs": [],
   "source": [
    "si = str(\" 찬혁 \")"
   ]
  },
  {
   "cell_type": "code",
   "execution_count": 28,
   "id": "e1c54fbc",
   "metadata": {},
   "outputs": [
    {
     "data": {
      "text/plain": [
       "' 찬혁 '"
      ]
     },
     "execution_count": 28,
     "metadata": {},
     "output_type": "execute_result"
    }
   ],
   "source": [
    "si"
   ]
  },
  {
   "cell_type": "code",
   "execution_count": 29,
   "id": "5e133fe8",
   "metadata": {},
   "outputs": [
    {
     "data": {
      "text/plain": [
       "4"
      ]
     },
     "execution_count": 29,
     "metadata": {},
     "output_type": "execute_result"
    }
   ],
   "source": [
    "len(si)"
   ]
  },
  {
   "cell_type": "code",
   "execution_count": 30,
   "id": "a8bf43fa",
   "metadata": {},
   "outputs": [],
   "source": [
    "# strip() : 공백문자제거\n",
    "si = si.strip()"
   ]
  },
  {
   "cell_type": "code",
   "execution_count": 31,
   "id": "df03dbb0",
   "metadata": {},
   "outputs": [
    {
     "data": {
      "text/plain": [
       "2"
      ]
     },
     "execution_count": 31,
     "metadata": {},
     "output_type": "execute_result"
    }
   ],
   "source": [
    "len(si)"
   ]
  },
  {
   "cell_type": "code",
   "execution_count": 33,
   "id": "771bb798",
   "metadata": {},
   "outputs": [],
   "source": [
    "idx = pd.Index([' 찬혁', '런던 ', ' 소셜 ', '겨울'])"
   ]
  },
  {
   "cell_type": "code",
   "execution_count": 34,
   "id": "ac9af3f0",
   "metadata": {},
   "outputs": [
    {
     "data": {
      "text/plain": [
       "Index(['찬혁', '런던', '소셜', '겨울'], dtype='object')"
      ]
     },
     "execution_count": 34,
     "metadata": {},
     "output_type": "execute_result"
    }
   ],
   "source": [
    "idx.str.strip()"
   ]
  },
  {
   "cell_type": "code",
   "execution_count": 35,
   "id": "a5d1b33b",
   "metadata": {},
   "outputs": [
    {
     "data": {
      "text/plain": [
       "Index(['찬혁', '런던 ', '소셜 ', '겨울'], dtype='object')"
      ]
     },
     "execution_count": 35,
     "metadata": {},
     "output_type": "execute_result"
    }
   ],
   "source": [
    "idx.str.lstrip()"
   ]
  },
  {
   "cell_type": "code",
   "execution_count": 36,
   "id": "66852326",
   "metadata": {},
   "outputs": [
    {
     "data": {
      "text/plain": [
       "Index([' 찬혁', '런던', ' 소셜', '겨울'], dtype='object')"
      ]
     },
     "execution_count": 36,
     "metadata": {},
     "output_type": "execute_result"
    }
   ],
   "source": [
    "idx.str.rstrip()"
   ]
  },
  {
   "cell_type": "code",
   "execution_count": 37,
   "id": "203cc5b3",
   "metadata": {},
   "outputs": [],
   "source": [
    "import numpy as np"
   ]
  },
  {
   "cell_type": "code",
   "execution_count": 39,
   "id": "2a14175b",
   "metadata": {},
   "outputs": [],
   "source": [
    "ss = pd.Series(['가_나_다', '라_마_바', np.nan, '사_아_자'])"
   ]
  },
  {
   "cell_type": "code",
   "execution_count": 40,
   "id": "6e6e4f2d",
   "metadata": {},
   "outputs": [
    {
     "data": {
      "text/plain": [
       "0    [가, 나, 다]\n",
       "1    [라, 마, 바]\n",
       "2          NaN\n",
       "3    [사, 아, 자]\n",
       "dtype: object"
      ]
     },
     "execution_count": 40,
     "metadata": {},
     "output_type": "execute_result"
    }
   ],
   "source": [
    "ss.str.split('_')"
   ]
  },
  {
   "cell_type": "code",
   "execution_count": 41,
   "id": "eb20fbc6",
   "metadata": {},
   "outputs": [
    {
     "data": {
      "text/plain": [
       "0      나\n",
       "1      마\n",
       "2    NaN\n",
       "3      아\n",
       "dtype: object"
      ]
     },
     "execution_count": 41,
     "metadata": {},
     "output_type": "execute_result"
    }
   ],
   "source": [
    "# [1]의 인덱스\n",
    "ss.str.split('_').str.get(1)"
   ]
  },
  {
   "cell_type": "code",
   "execution_count": 42,
   "id": "a873c18a",
   "metadata": {},
   "outputs": [
    {
     "data": {
      "text/plain": [
       "0      나\n",
       "1      마\n",
       "2    NaN\n",
       "3      아\n",
       "dtype: object"
      ]
     },
     "execution_count": 42,
     "metadata": {},
     "output_type": "execute_result"
    }
   ],
   "source": [
    "ss.str.split('_').str[1]"
   ]
  },
  {
   "cell_type": "code",
   "execution_count": 43,
   "id": "c62e2a1b",
   "metadata": {},
   "outputs": [],
   "source": [
    "# expand = True 를 지정하면 분리된 것(split)을 기준으로 데이터프레임을 만들어 준다."
   ]
  },
  {
   "cell_type": "code",
   "execution_count": 44,
   "id": "27912261",
   "metadata": {},
   "outputs": [
    {
     "data": {
      "text/html": [
       "<div>\n",
       "<style scoped>\n",
       "    .dataframe tbody tr th:only-of-type {\n",
       "        vertical-align: middle;\n",
       "    }\n",
       "\n",
       "    .dataframe tbody tr th {\n",
       "        vertical-align: top;\n",
       "    }\n",
       "\n",
       "    .dataframe thead th {\n",
       "        text-align: right;\n",
       "    }\n",
       "</style>\n",
       "<table border=\"1\" class=\"dataframe\">\n",
       "  <thead>\n",
       "    <tr style=\"text-align: right;\">\n",
       "      <th></th>\n",
       "      <th>0</th>\n",
       "      <th>1</th>\n",
       "      <th>2</th>\n",
       "    </tr>\n",
       "  </thead>\n",
       "  <tbody>\n",
       "    <tr>\n",
       "      <th>0</th>\n",
       "      <td>가</td>\n",
       "      <td>나</td>\n",
       "      <td>다</td>\n",
       "    </tr>\n",
       "    <tr>\n",
       "      <th>1</th>\n",
       "      <td>라</td>\n",
       "      <td>마</td>\n",
       "      <td>바</td>\n",
       "    </tr>\n",
       "    <tr>\n",
       "      <th>2</th>\n",
       "      <td>NaN</td>\n",
       "      <td>NaN</td>\n",
       "      <td>NaN</td>\n",
       "    </tr>\n",
       "    <tr>\n",
       "      <th>3</th>\n",
       "      <td>사</td>\n",
       "      <td>아</td>\n",
       "      <td>자</td>\n",
       "    </tr>\n",
       "  </tbody>\n",
       "</table>\n",
       "</div>"
      ],
      "text/plain": [
       "     0    1    2\n",
       "0    가    나    다\n",
       "1    라    마    바\n",
       "2  NaN  NaN  NaN\n",
       "3    사    아    자"
      ]
     },
     "execution_count": 44,
     "metadata": {},
     "output_type": "execute_result"
    }
   ],
   "source": [
    "ss.str.split('_', expand = True)"
   ]
  },
  {
   "cell_type": "code",
   "execution_count": 46,
   "id": "92d67725",
   "metadata": {},
   "outputs": [
    {
     "data": {
      "text/html": [
       "<div>\n",
       "<style scoped>\n",
       "    .dataframe tbody tr th:only-of-type {\n",
       "        vertical-align: middle;\n",
       "    }\n",
       "\n",
       "    .dataframe tbody tr th {\n",
       "        vertical-align: top;\n",
       "    }\n",
       "\n",
       "    .dataframe thead th {\n",
       "        text-align: right;\n",
       "    }\n",
       "</style>\n",
       "<table border=\"1\" class=\"dataframe\">\n",
       "  <thead>\n",
       "    <tr style=\"text-align: right;\">\n",
       "      <th></th>\n",
       "      <th>0</th>\n",
       "      <th>1</th>\n",
       "    </tr>\n",
       "  </thead>\n",
       "  <tbody>\n",
       "    <tr>\n",
       "      <th>0</th>\n",
       "      <td>가</td>\n",
       "      <td>나_다</td>\n",
       "    </tr>\n",
       "    <tr>\n",
       "      <th>1</th>\n",
       "      <td>라</td>\n",
       "      <td>마_바</td>\n",
       "    </tr>\n",
       "    <tr>\n",
       "      <th>2</th>\n",
       "      <td>NaN</td>\n",
       "      <td>NaN</td>\n",
       "    </tr>\n",
       "    <tr>\n",
       "      <th>3</th>\n",
       "      <td>사</td>\n",
       "      <td>아_자</td>\n",
       "    </tr>\n",
       "  </tbody>\n",
       "</table>\n",
       "</div>"
      ],
      "text/plain": [
       "     0    1\n",
       "0    가  나_다\n",
       "1    라  마_바\n",
       "2  NaN  NaN\n",
       "3    사  아_자"
      ]
     },
     "execution_count": 46,
     "metadata": {},
     "output_type": "execute_result"
    }
   ],
   "source": [
    "ss.str.split('_', expand=True, n=1)"
   ]
  },
  {
   "cell_type": "code",
   "execution_count": 47,
   "id": "3930580a",
   "metadata": {},
   "outputs": [
    {
     "data": {
      "text/html": [
       "<div>\n",
       "<style scoped>\n",
       "    .dataframe tbody tr th:only-of-type {\n",
       "        vertical-align: middle;\n",
       "    }\n",
       "\n",
       "    .dataframe tbody tr th {\n",
       "        vertical-align: top;\n",
       "    }\n",
       "\n",
       "    .dataframe thead th {\n",
       "        text-align: right;\n",
       "    }\n",
       "</style>\n",
       "<table border=\"1\" class=\"dataframe\">\n",
       "  <thead>\n",
       "    <tr style=\"text-align: right;\">\n",
       "      <th></th>\n",
       "      <th>0</th>\n",
       "      <th>1</th>\n",
       "    </tr>\n",
       "  </thead>\n",
       "  <tbody>\n",
       "    <tr>\n",
       "      <th>0</th>\n",
       "      <td>가_나</td>\n",
       "      <td>다</td>\n",
       "    </tr>\n",
       "    <tr>\n",
       "      <th>1</th>\n",
       "      <td>라_마</td>\n",
       "      <td>바</td>\n",
       "    </tr>\n",
       "    <tr>\n",
       "      <th>2</th>\n",
       "      <td>NaN</td>\n",
       "      <td>NaN</td>\n",
       "    </tr>\n",
       "    <tr>\n",
       "      <th>3</th>\n",
       "      <td>사_아</td>\n",
       "      <td>자</td>\n",
       "    </tr>\n",
       "  </tbody>\n",
       "</table>\n",
       "</div>"
      ],
      "text/plain": [
       "     0    1\n",
       "0  가_나    다\n",
       "1  라_마    바\n",
       "2  NaN  NaN\n",
       "3  사_아    자"
      ]
     },
     "execution_count": 47,
     "metadata": {},
     "output_type": "execute_result"
    }
   ],
   "source": [
    "# rsplit : 오른쪽기준으로 split해준다\n",
    "ss.str.rsplit('_', expand=True, n=1)"
   ]
  },
  {
   "cell_type": "code",
   "execution_count": 48,
   "id": "ff8172f1",
   "metadata": {},
   "outputs": [
    {
     "data": {
      "text/plain": [
       "0    가%나%다\n",
       "1    라%마%바\n",
       "2      NaN\n",
       "3    사%아%자\n",
       "dtype: object"
      ]
     },
     "execution_count": 48,
     "metadata": {},
     "output_type": "execute_result"
    }
   ],
   "source": [
    "ss.str.replace(\"_\",\"%\")"
   ]
  },
  {
   "cell_type": "code",
   "execution_count": 49,
   "id": "adae20a8",
   "metadata": {},
   "outputs": [
    {
     "data": {
      "text/plain": [
       "'가_나_다,라_마_바,사_아_자'"
      ]
     },
     "execution_count": 49,
     "metadata": {},
     "output_type": "execute_result"
    }
   ],
   "source": [
    "ss.str.cat(sep=',')"
   ]
  },
  {
   "cell_type": "code",
   "execution_count": 50,
   "id": "68af71fa",
   "metadata": {},
   "outputs": [
    {
     "data": {
      "text/plain": [
       "'가_나_다라_마_바사_아_자'"
      ]
     },
     "execution_count": 50,
     "metadata": {},
     "output_type": "execute_result"
    }
   ],
   "source": [
    "ss.str.cat()"
   ]
  },
  {
   "cell_type": "code",
   "execution_count": 51,
   "id": "51ee3f06",
   "metadata": {},
   "outputs": [
    {
     "data": {
      "text/plain": [
       "0    가_나_다A\n",
       "1    라_마_바B\n",
       "2       NaN\n",
       "3    사_아_자D\n",
       "dtype: object"
      ]
     },
     "execution_count": 51,
     "metadata": {},
     "output_type": "execute_result"
    }
   ],
   "source": [
    "# 방법1\n",
    "ss.str.cat(['A','B','C','D'])"
   ]
  },
  {
   "cell_type": "code",
   "execution_count": 52,
   "id": "3a601e45",
   "metadata": {},
   "outputs": [],
   "source": [
    "# 방법2\n",
    "su = pd.Series(['A','B','C','D'])"
   ]
  },
  {
   "cell_type": "code",
   "execution_count": 53,
   "id": "98eacc4f",
   "metadata": {},
   "outputs": [
    {
     "data": {
      "text/plain": [
       "0    가_나_다A\n",
       "1    라_마_바B\n",
       "2       NaN\n",
       "3    사_아_자D\n",
       "dtype: object"
      ]
     },
     "execution_count": 53,
     "metadata": {},
     "output_type": "execute_result"
    }
   ],
   "source": [
    "ss.str.cat(su)"
   ]
  },
  {
   "cell_type": "code",
   "execution_count": 54,
   "id": "9a87d1df",
   "metadata": {},
   "outputs": [
    {
     "data": {
      "text/plain": [
       "0      가\n",
       "1      라\n",
       "2    NaN\n",
       "3      사\n",
       "dtype: object"
      ]
     },
     "execution_count": 54,
     "metadata": {},
     "output_type": "execute_result"
    }
   ],
   "source": [
    "ss.str[0]"
   ]
  }
 ],
 "metadata": {
  "kernelspec": {
   "display_name": "Python 3 (ipykernel)",
   "language": "python",
   "name": "python3"
  },
  "language_info": {
   "codemirror_mode": {
    "name": "ipython",
    "version": 3
   },
   "file_extension": ".py",
   "mimetype": "text/x-python",
   "name": "python",
   "nbconvert_exporter": "python",
   "pygments_lexer": "ipython3",
   "version": "3.9.13"
  }
 },
 "nbformat": 4,
 "nbformat_minor": 5
}
