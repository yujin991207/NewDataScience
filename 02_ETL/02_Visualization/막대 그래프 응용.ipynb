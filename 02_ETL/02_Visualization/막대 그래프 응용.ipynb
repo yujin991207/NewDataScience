{
 "cells": [
  {
   "cell_type": "code",
   "execution_count": 26,
   "id": "50fcd0f2",
   "metadata": {},
   "outputs": [],
   "source": [
    "import pandas as pd\n",
    "import numpy as np\n",
    "import matplotlib.pyplot as plt\n",
    "from matplotlib import font_manager,rc\n",
    "\n",
    "import random\n",
    "\n",
    "font_location = \"C:\\Windows\\Fonts\\malgun.ttf\"\n",
    "font_name = font_manager.FontProperties(fname=font_location).get_name()\n",
    "rc('font',family=font_name)"
   ]
  },
  {
   "cell_type": "code",
   "execution_count": 41,
   "id": "5191d4b0",
   "metadata": {},
   "outputs": [
    {
     "data": {
      "text/plain": [
       "여성    64850\n",
       "남성    35150\n",
       "dtype: int64"
      ]
     },
     "execution_count": 41,
     "metadata": {},
     "output_type": "execute_result"
    }
   ],
   "source": [
    "sex_range=['남성', '여성']\n",
    "age_range=[20,21,22,23,24,25,26,27,28,29]\n",
    "marrage_range=['독신','기혼','재혼']\n",
    "income_range=['저소득자','3000만원대','4000만원대','5000만원대','6000만원대','고소득자']\n",
    "\n",
    "MAX_RECORD=100000\n",
    "\n",
    "sex_list=[]\n",
    "\n",
    "# random.choices(range(0,len(sex_range)), weights=[0.35,0.65])\n",
    "\n",
    "# '여성' 에 가중치를 더 주었다 => weights = [0.35, 0.65]\n",
    "for i in range(MAX_RECORD):\n",
    "    sex_list.append(\n",
    "        sex_range[\n",
    "            random.choices(range(0,len(sex_range)), weights=[0.35,0.65])[0]\n",
    "        ]\n",
    "    )\n",
    "\n",
    "pd.Series(sex_list).value_counts()"
   ]
  },
  {
   "cell_type": "code",
   "execution_count": 28,
   "id": "97a6b2f6",
   "metadata": {},
   "outputs": [
    {
     "data": {
      "text/plain": [
       "Index        128\n",
       "0        8600000\n",
       "dtype: int64"
      ]
     },
     "execution_count": 28,
     "metadata": {},
     "output_type": "execute_result"
    }
   ],
   "source": [
    "df = pd.DataFrame(sex_list)\n",
    "df.memory_usage(deep=True)\n",
    "\n",
    "# Index        128\n",
    "# 0        8600000 <=86Kb\n",
    "# dtype: int64"
   ]
  },
  {
   "cell_type": "code",
   "execution_count": 29,
   "id": "5f5e056e",
   "metadata": {},
   "outputs": [
    {
     "data": {
      "text/html": [
       "<div>\n",
       "<style scoped>\n",
       "    .dataframe tbody tr th:only-of-type {\n",
       "        vertical-align: middle;\n",
       "    }\n",
       "\n",
       "    .dataframe tbody tr th {\n",
       "        vertical-align: top;\n",
       "    }\n",
       "\n",
       "    .dataframe thead th {\n",
       "        text-align: right;\n",
       "    }\n",
       "</style>\n",
       "<table border=\"1\" class=\"dataframe\">\n",
       "  <thead>\n",
       "    <tr style=\"text-align: right;\">\n",
       "      <th></th>\n",
       "      <th>성별</th>\n",
       "      <th>나이</th>\n",
       "      <th>결혼여부</th>\n",
       "      <th>소득수준</th>\n",
       "    </tr>\n",
       "  </thead>\n",
       "  <tbody>\n",
       "    <tr>\n",
       "      <th>0</th>\n",
       "      <td>여성</td>\n",
       "      <td>28</td>\n",
       "      <td>독신</td>\n",
       "      <td>5000만원대</td>\n",
       "    </tr>\n",
       "    <tr>\n",
       "      <th>1</th>\n",
       "      <td>여성</td>\n",
       "      <td>22</td>\n",
       "      <td>기혼</td>\n",
       "      <td>3000만원대</td>\n",
       "    </tr>\n",
       "    <tr>\n",
       "      <th>2</th>\n",
       "      <td>남성</td>\n",
       "      <td>25</td>\n",
       "      <td>기혼</td>\n",
       "      <td>4000만원대</td>\n",
       "    </tr>\n",
       "    <tr>\n",
       "      <th>3</th>\n",
       "      <td>여성</td>\n",
       "      <td>26</td>\n",
       "      <td>독신</td>\n",
       "      <td>5000만원대</td>\n",
       "    </tr>\n",
       "    <tr>\n",
       "      <th>4</th>\n",
       "      <td>여성</td>\n",
       "      <td>23</td>\n",
       "      <td>독신</td>\n",
       "      <td>3000만원대</td>\n",
       "    </tr>\n",
       "  </tbody>\n",
       "</table>\n",
       "</div>"
      ],
      "text/plain": [
       "   성별  나이 결혼여부     소득수준\n",
       "0  여성  28   독신  5000만원대\n",
       "1  여성  22   기혼  3000만원대\n",
       "2  남성  25   기혼  4000만원대\n",
       "3  여성  26   독신  5000만원대\n",
       "4  여성  23   독신  3000만원대"
      ]
     },
     "execution_count": 29,
     "metadata": {},
     "output_type": "execute_result"
    }
   ],
   "source": [
    "sex_range=['남성', '여성']\n",
    "age_range=[20,21,22,23,24,25,26,27,28,29]\n",
    "marrage_range=['독신','기혼','재혼']\n",
    "income_range=['저소득자','3000만원대','4000만원대','5000만원대','6000만원대','고소득자']\n",
    "\n",
    "MAX_RECORD=100000\n",
    "\n",
    "sex_list=[]\n",
    "age_list=[]\n",
    "marrage_list=[]\n",
    "income_list=[]\n",
    "\n",
    "# random.choices(range(0,len(sex_range)), weights=[0.35,0.65])\n",
    "\n",
    "for i in range(MAX_RECORD):\n",
    "    sex_list.append(sex_range[random.choices(range(0,len(sex_range)), weights=[0.35,0.65])[0]])\n",
    "    age_list.append(age_range[random.choices(range(0,len(age_range)), weights=[0.05,0.05,0.1,0.07,0.05,0.05,0.05,0.13,0.3,0.2])[0]])\n",
    "    marrage_list.append(marrage_range[random.choices(range(0,len(marrage_range)), weights=[0.7,0.25,0.05])[0]])\n",
    "    income_list.append(income_range[random.choices(range(0,len(income_range)), weights=[0.1,0.4,0.2,0.15,0.1,0.05])[0]])\n",
    "    \n",
    "\n",
    "df = pd.DataFrame(\n",
    "    {\n",
    "        \"성별\":sex_list,\n",
    "        \"나이\":age_list,\n",
    "        \"결혼여부\":marrage_list,\n",
    "        \"소득수준\":income_list\n",
    "    }\n",
    ")\n",
    "\n",
    "df.head()"
   ]
  },
  {
   "cell_type": "code",
   "execution_count": 30,
   "id": "e0df2a20",
   "metadata": {},
   "outputs": [
    {
     "data": {
      "text/plain": [
       "(100000, 4)"
      ]
     },
     "execution_count": 30,
     "metadata": {},
     "output_type": "execute_result"
    }
   ],
   "source": [
    "df.shape"
   ]
  },
  {
   "cell_type": "code",
   "execution_count": 31,
   "id": "f20e55f2",
   "metadata": {},
   "outputs": [
    {
     "data": {
      "text/plain": [
       "Index        128\n",
       "성별       8600000\n",
       "나이        800000\n",
       "결혼여부     8600000\n",
       "소득수준     9509286\n",
       "dtype: int64"
      ]
     },
     "execution_count": 31,
     "metadata": {},
     "output_type": "execute_result"
    }
   ],
   "source": [
    "df.memory_usage(deep=True)"
   ]
  },
  {
   "cell_type": "code",
   "execution_count": 32,
   "id": "53e71ea5",
   "metadata": {},
   "outputs": [
    {
     "data": {
      "text/plain": [
       "여성    64830\n",
       "남성    35170\n",
       "Name: 성별, dtype: int64"
      ]
     },
     "execution_count": 32,
     "metadata": {},
     "output_type": "execute_result"
    }
   ],
   "source": [
    "df['성별'].value_counts()"
   ]
  },
  {
   "cell_type": "code",
   "execution_count": 33,
   "id": "7923ee35",
   "metadata": {},
   "outputs": [
    {
     "data": {
      "text/plain": [
       "Index(['여성', '남성'], dtype='object')"
      ]
     },
     "execution_count": 33,
     "metadata": {},
     "output_type": "execute_result"
    }
   ],
   "source": [
    "df['성별'].value_counts().index"
   ]
  },
  {
   "cell_type": "code",
   "execution_count": 34,
   "id": "298a6ff5",
   "metadata": {},
   "outputs": [
    {
     "data": {
      "text/plain": [
       "array([64830, 35170], dtype=int64)"
      ]
     },
     "execution_count": 34,
     "metadata": {},
     "output_type": "execute_result"
    }
   ],
   "source": [
    "df['성별'].value_counts().values"
   ]
  },
  {
   "cell_type": "code",
   "execution_count": 35,
   "id": "1b7893f6",
   "metadata": {},
   "outputs": [
    {
     "data": {
      "text/plain": [
       "2"
      ]
     },
     "execution_count": 35,
     "metadata": {},
     "output_type": "execute_result"
    }
   ],
   "source": [
    "len(df['성별'].value_counts().index)"
   ]
  },
  {
   "cell_type": "code",
   "execution_count": 36,
   "id": "7bd9a13a",
   "metadata": {},
   "outputs": [
    {
     "data": {
      "text/plain": [
       "[64830, 35170]"
      ]
     },
     "execution_count": 36,
     "metadata": {},
     "output_type": "execute_result"
    }
   ],
   "source": [
    "df['성별'].value_counts().values.tolist()"
   ]
  },
  {
   "cell_type": "code",
   "execution_count": 43,
   "id": "c62c4e30",
   "metadata": {},
   "outputs": [
    {
     "data": {
      "text/plain": [
       "([<matplotlib.axis.XTick at 0x2af81406d90>,\n",
       "  <matplotlib.axis.XTick at 0x2af81406d60>],\n",
       " [Text(0, 0, '여성'), Text(1, 0, '남성')])"
      ]
     },
     "execution_count": 43,
     "metadata": {},
     "output_type": "execute_result"
    },
    {
     "data": {
      "image/png": "[encoded data removed]",
      "text/plain": [
       "<Figure size 640x480 with 1 Axes>"
      ]
     },
     "metadata": {},
     "output_type": "display_data"
    }
   ],
   "source": [
    "idx = np.arange(len(df['성별'].value_counts().index))\n",
    "plt.bar(idx, df['성별'].value_counts().values)\n",
    "plt.xticks(idx,df['성별'].value_counts().index)"
   ]
  },
  {
   "cell_type": "code",
   "execution_count": 38,
   "id": "530a6262",
   "metadata": {},
   "outputs": [
    {
     "data": {
      "text/plain": [
       "([<matplotlib.axis.XTick at 0x2af80075d90>,\n",
       "  <matplotlib.axis.XTick at 0x2af80075d60>,\n",
       "  <matplotlib.axis.XTick at 0x2af80075490>,\n",
       "  <matplotlib.axis.XTick at 0x2af800b3d60>,\n",
       "  <matplotlib.axis.XTick at 0x2af800bb4f0>,\n",
       "  <matplotlib.axis.XTick at 0x2af800bbc40>,\n",
       "  <matplotlib.axis.XTick at 0x2af800c23d0>,\n",
       "  <matplotlib.axis.XTick at 0x2af800c2b20>,\n",
       "  <matplotlib.axis.XTick at 0x2af800c82b0>,\n",
       "  <matplotlib.axis.XTick at 0x2af800c2dc0>],\n",
       " [Text(0, 0, '28'),\n",
       "  Text(1, 0, '29'),\n",
       "  Text(2, 0, '27'),\n",
       "  Text(3, 0, '22'),\n",
       "  Text(4, 0, '23'),\n",
       "  Text(5, 0, '24'),\n",
       "  Text(6, 0, '20'),\n",
       "  Text(7, 0, '21'),\n",
       "  Text(8, 0, '26'),\n",
       "  Text(9, 0, '25')])"
      ]
     },
     "execution_count": 38,
     "metadata": {},
     "output_type": "execute_result"
    },
    {
     "data": {
      "image/png": "[encoded data removed]",
      "text/plain": [
       "<Figure size 640x480 with 1 Axes>"
      ]
     },
     "metadata": {},
     "output_type": "display_data"
    }
   ],
   "source": [
    "idx = np.arange(len(df['나이'].value_counts().index))\n",
    "plt.bar(idx, df['나이'].value_counts().values)\n",
    "plt.xticks(idx,df['나이'].value_counts().index)"
   ]
  },
  {
   "cell_type": "code",
   "execution_count": 39,
   "id": "3fd2c359",
   "metadata": {},
   "outputs": [
    {
     "data": {
      "text/plain": [
       "([<matplotlib.axis.XTick at 0x2af800f60d0>,\n",
       "  <matplotlib.axis.XTick at 0x2af800f60a0>,\n",
       "  <matplotlib.axis.XTick at 0x2af800e7760>],\n",
       " [Text(0, 0, '독신'), Text(1, 0, '기혼'), Text(2, 0, '재혼')])"
      ]
     },
     "execution_count": 39,
     "metadata": {},
     "output_type": "execute_result"
    },
    {
     "data": {
      "image/png": "[encoded data removed]",
      "text/plain": [
       "<Figure size 640x480 with 1 Axes>"
      ]
     },
     "metadata": {},
     "output_type": "display_data"
    }
   ],
   "source": [
    "idx = np.arange(len(df['결혼여부'].value_counts().index))\n",
    "plt.bar(idx, df['결혼여부'].value_counts().values)\n",
    "plt.xticks(idx,df['결혼여부'].value_counts().index)"
   ]
  },
  {
   "cell_type": "code",
   "execution_count": 40,
   "id": "9f3c4e09",
   "metadata": {},
   "outputs": [
    {
     "data": {
      "text/plain": [
       "([<matplotlib.axis.XTick at 0x2af80150190>,\n",
       "  <matplotlib.axis.XTick at 0x2af80150160>,\n",
       "  <matplotlib.axis.XTick at 0x2af8012aa00>,\n",
       "  <matplotlib.axis.XTick at 0x2af801c78e0>,\n",
       "  <matplotlib.axis.XTick at 0x2af801c7cd0>,\n",
       "  <matplotlib.axis.XTick at 0x2af801d13d0>],\n",
       " [Text(0, 0, '3000만원대'),\n",
       "  Text(1, 0, '4000만원대'),\n",
       "  Text(2, 0, '5000만원대'),\n",
       "  Text(3, 0, '저소득자'),\n",
       "  Text(4, 0, '6000만원대'),\n",
       "  Text(5, 0, '고소득자')])"
      ]
     },
     "execution_count": 40,
     "metadata": {},
     "output_type": "execute_result"
    },
    {
     "data": {
      "image/png": "[encoded data removed]",
      "text/plain": [
       "<Figure size 640x480 with 1 Axes>"
      ]
     },
     "metadata": {},
     "output_type": "display_data"
    }
   ],
   "source": [
    "idx = np.arange(len(df['소득수준'].value_counts().index))\n",
    "plt.bar(idx, df['소득수준'].value_counts().values)\n",
    "plt.xticks(idx,df['소득수준'].value_counts().index)"
   ]
  },
  {
   "cell_type": "code",
   "execution_count": null,
   "id": "f2bb9424",
   "metadata": {},
   "outputs": [],
   "source": []
  }
 ],
 "metadata": {
  "kernelspec": {
   "display_name": "Python 3 (ipykernel)",
   "language": "python",
   "name": "python3"
  },
  "language_info": {
   "codemirror_mode": {
    "name": "ipython",
    "version": 3
   },
   "file_extension": ".py",
   "mimetype": "text/x-python",
   "name": "python",
   "nbconvert_exporter": "python",
   "pygments_lexer": "ipython3",
   "version": "3.9.13"
  }
 },
 "nbformat": 4,
 "nbformat_minor": 5
}
