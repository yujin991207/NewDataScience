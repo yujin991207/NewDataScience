{
 "cells": [
  {
   "cell_type": "markdown",
   "id": "f6698b89",
   "metadata": {},
   "source": [
    "# 제 3차 조별 데이터 분석 실습\n",
    "\n",
    "* Mission\n",
    "    * 지금까지 배운 기술을 활용하여 데이터 분석을 해본다.\n",
    "    * 데이터 원본 분석을 한다.\n",
    "    * 결측치, 이상치를 점검해 본다.\n",
    "    * 전처리\n",
    "    * 탐색적 연구 (Step1, Step2를 반복하여 데이터 분석의 깊이를 더한다.)\n",
    "         * Step1] 데이터 분석을 위한 목적, 대상 또는 가설을 세워본다. \n",
    "         * Step2] 데이터 재 구조화, 시각화를 통해 새로운 insight 및 정보를 습득 및 가설을 검증한다.\n",
    "    * 최종 결론을 내린다."
   ]
  },
  {
   "cell_type": "markdown",
   "id": "f5edd40d",
   "metadata": {},
   "source": [
    "## 아래에 데이터를 import 하세요."
   ]
  },
  {
   "cell_type": "code",
   "execution_count": null,
   "id": "a8d16f56",
   "metadata": {},
   "outputs": [],
   "source": [
    "# 데이터 import 코드 구현"
   ]
  },
  {
   "cell_type": "markdown",
   "id": "1b501fde",
   "metadata": {},
   "source": [
    "## 데이터 원본 분석\n",
    "\n",
    "### 아래 내용을 확인하세요\n",
    "* 데이터 사이즈\n",
    "* 데이터 타입\n",
    "* 각 열의 의미 (열의 이름 및 데이터를 보고 팀원과 상의하여 분석)\n",
    "* 기타 확인하고 싶은 사항"
   ]
  },
  {
   "cell_type": "code",
   "execution_count": null,
   "id": "f6cf6b03",
   "metadata": {},
   "outputs": [],
   "source": [
    "# 코드 구현"
   ]
  },
  {
   "cell_type": "markdown",
   "id": "a4650ada",
   "metadata": {},
   "source": [
    "### 원본 데이터 분석 후 학습한 사항"
   ]
  },
  {
   "cell_type": "markdown",
   "id": "0d69dddf",
   "metadata": {},
   "source": [
    "### 여기에 기술하세요"
   ]
  },
  {
   "cell_type": "markdown",
   "id": "1646788a",
   "metadata": {},
   "source": [
    "## 결측치, 이상치 점검\n",
    "* 누락된 값이 있는지 확인\n",
    "* 누락된 값을 다른 방식으로 표현하고 있는지도 확인. 예) -, NA, N/A 등\n",
    "* 이상치 점검. \n",
    "예) 수치형 데이터중 특이한 min, max값, 수치형 데이터에서 정규분포를 이루는 데이터중 Outlier, 선형데이터상에 중간에 빈 데이터"
   ]
  },
  {
   "cell_type": "code",
   "execution_count": 1,
   "id": "cc1ea317",
   "metadata": {},
   "outputs": [],
   "source": [
    "# 코드 구현"
   ]
  },
  {
   "cell_type": "markdown",
   "id": "93e23d59",
   "metadata": {},
   "source": [
    "## 결측치, 이상치 처리 방안 결정\n",
    " * 처리방안\n",
    " * 처리방안 이유"
   ]
  },
  {
   "cell_type": "markdown",
   "id": "78eb9c76",
   "metadata": {},
   "source": [
    "## 여기에 처리방안 및 처리방안 이유를 기술하세요."
   ]
  },
  {
   "cell_type": "markdown",
   "id": "be5003ee",
   "metadata": {},
   "source": [
    "## 전처리 작업"
   ]
  },
  {
   "cell_type": "code",
   "execution_count": 4,
   "id": "c5a45a81",
   "metadata": {},
   "outputs": [],
   "source": [
    "# 여기에 전처리 코드를 구현"
   ]
  },
  {
   "cell_type": "markdown",
   "id": "3b2ce996",
   "metadata": {},
   "source": [
    "## 탐색적 데이터 분석"
   ]
  },
  {
   "cell_type": "markdown",
   "id": "48f50477",
   "metadata": {},
   "source": [
    "## 1차 탐색적 분석"
   ]
  },
  {
   "cell_type": "markdown",
   "id": "252ff8f5",
   "metadata": {},
   "source": [
    "### Step1\n",
    "데이터 분석의 목적, 대상 또는 가설을 세운다.\n",
    "* 예) 마블 영웅은 DC 영웅보다 강한가?"
   ]
  },
  {
   "cell_type": "markdown",
   "id": "6103804a",
   "metadata": {},
   "source": [
    "### 여기에 분석 목적, 대상 또는 가설을 팀원과 상의하여 정의하세요"
   ]
  },
  {
   "cell_type": "markdown",
   "id": "6cbeaac0",
   "metadata": {},
   "source": [
    "### Step2\n",
    "Step1에서 세운 가설을 지금까지 배운 모든 기술을 활용하여 검증해 보세요.\n",
    "예) 통계자료, 데이터 재구조화, 시각화등"
   ]
  },
  {
   "cell_type": "code",
   "execution_count": null,
   "id": "a77e80ac",
   "metadata": {},
   "outputs": [],
   "source": [
    "# Step2를 위한 코드를 구현하세요."
   ]
  },
  {
   "cell_type": "markdown",
   "id": "cd9c5fb3",
   "metadata": {},
   "source": [
    "### Step2에서 획득한 정보를 기술하세요."
   ]
  },
  {
   "cell_type": "markdown",
   "id": "1ac78263",
   "metadata": {},
   "source": [
    "---"
   ]
  },
  {
   "cell_type": "markdown",
   "id": "43b3e2df",
   "metadata": {},
   "source": [
    "### Step1과 Step2를 반복하며 내용을 정리하세요."
   ]
  },
  {
   "cell_type": "markdown",
   "id": "4af08a5f",
   "metadata": {},
   "source": [
    "## 2차 탐색적 데이터 분석"
   ]
  },
  {
   "cell_type": "markdown",
   "id": "a5363177",
   "metadata": {},
   "source": [
    "## 3차 탐색적 데이터 분석"
   ]
  },
  {
   "cell_type": "markdown",
   "id": "8672f76b",
   "metadata": {},
   "source": [
    "## 최종결론\n",
    "지금까지 학습한 정보를 토대로 최종 결론을 내려보세요."
   ]
  }
 ],
 "metadata": {
  "kernelspec": {
   "display_name": "Python 3 (ipykernel)",
   "language": "python",
   "name": "python3"
  },
  "language_info": {
   "codemirror_mode": {
    "name": "ipython",
    "version": 3
   },
   "file_extension": ".py",
   "mimetype": "text/x-python",
   "name": "python",
   "nbconvert_exporter": "python",
   "pygments_lexer": "ipython3",
   "version": "3.9.13"
  }
 },
 "nbformat": 4,
 "nbformat_minor": 5
}
