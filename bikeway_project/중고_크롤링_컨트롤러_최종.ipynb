{
 "cells": [
  {
   "cell_type": "code",
   "execution_count": 13,
   "id": "f7a7a3f0",
   "metadata": {},
   "outputs": [],
   "source": [
    "from selenium import webdriver\n",
    "from selenium.webdriver.common.by import By\n",
    "from selenium.webdriver.chrome.options import Options\n",
    "from selenium.webdriver.chrome.service import Service\n",
    "from webdriver_manager.chrome import ChromeDriverManager\n",
    "import time\n",
    "from bs4 import BeautifulSoup\n",
    "import requests\n",
    "import pandas as pd\n",
    "from selenium.webdriver.common.keys import Keys\n",
    "from selenium.webdriver.support import expected_conditions\n",
    "from selenium.webdriver.support.ui import WebDriverWait\n",
    "import threading\n",
    "import time\n",
    "import requests\n",
    "import json\n",
    "import pandas as pd\n",
    "import cx_Oracle\n",
    "from datetime import datetime"
   ]
  },
  {
   "cell_type": "code",
   "execution_count": 14,
   "id": "564f5e0d",
   "metadata": {},
   "outputs": [],
   "source": [
    "# driver = webdriver.Chrome(ChromeDriverManager().install())\n",
    "# driver.get(\"https://www.naver.com\")"
   ]
  },
  {
   "cell_type": "markdown",
   "id": "5f5916a9",
   "metadata": {},
   "source": [
    "스크래핑하는 함수 했음\n",
    "데이터 프레임화 하는 함수 했음\n",
    "데이터프레임을 오라클에 넣는 함수\n",
    "실질적으로 돌아가는 함수"
   ]
  },
  {
   "cell_type": "code",
   "execution_count": null,
   "id": "886ca282",
   "metadata": {},
   "outputs": [],
   "source": []
  },
  {
   "cell_type": "code",
   "execution_count": 15,
   "id": "229efcde",
   "metadata": {},
   "outputs": [],
   "source": [
    "def bun_scraping_used_goods():\n",
    "    url='https://m.bunjang.co.kr/search/products?category_id=700350&order=score&q='\n",
    "    browser = webdriver.Chrome()\n",
    "    browser.implicitly_wait(time_to_wait=10)\n",
    "    browser.get(url)\n",
    "    \n",
    "    WebDriverWait(browser,10).until(expected_conditions.visibility_of_element_located((By.CLASS_NAME ,\"app\")))\n",
    "    \n",
    "    html = browser.page_source\n",
    "    html_parser = BeautifulSoup(html,features=\"html.parser\")\n",
    "    \n",
    "    list = html_parser.find_all(attrs={'alt':'상품 이미지'})\n",
    "    \n",
    "    img_list=[]\n",
    "    for item in list:\n",
    "        img_list.append(item['src'])\n",
    "        \n",
    "    name_list=[]\n",
    "    price_list=[]\n",
    "    link_list=[]\n",
    "    for item in list:\n",
    "        aTag1 = item.parent.parent.find_all('div','sc-fOICqy gQkWNx')\n",
    "        aTag2 = item.parent.parent\n",
    "        link_list.append(\"https://m.bunjang.co.kr{}\".format(aTag2.attrs['href']))\n",
    "        name_list.append(aTag1[0].find_all('div')[0].get_text())\n",
    "        price_list.append(aTag1[0].find_all('div')[2].get_text())\n",
    "        \n",
    "    used_goods = pd.DataFrame({'제목' : name_list,\n",
    "                          '가격': price_list,\n",
    "                          '사진':img_list,\n",
    "                          '링크' : link_list,\n",
    "                          '사이트' : '번개장터'\n",
    "                         })\n",
    "    return used_goods"
   ]
  },
  {
   "cell_type": "code",
   "execution_count": 16,
   "id": "7299637a",
   "metadata": {},
   "outputs": [],
   "source": [
    "def bro_scraping_used_goods():\n",
    "    url = 'https://wrightbrothers.kr/shop/bicycles/bicycles'\n",
    "    browser = webdriver.Chrome()\n",
    "    browser.get(url)\n",
    "    \n",
    "    WebDriverWait(browser,10).until(expected_conditions.visibility_of_element_located((By.CLASS_NAME ,\"prod-title\")))\n",
    "    \n",
    "    html = browser.page_source\n",
    "    html_parser = BeautifulSoup(html,features=\"html.parser\")\n",
    "    \n",
    "    bro_name=html_parser.select('div.prod-title > p.prod-model')\n",
    "\n",
    "    bro_name_list=[]\n",
    "    for item in bro_name:\n",
    "        bro_name_list.append(item.get_text())\n",
    "    \n",
    "    bro_price=html_parser.select('span.price-num ')\n",
    "\n",
    "    bro_price_list=[]\n",
    "    for item in bro_price:\n",
    "        bro_price_list.append(item.get_text())\n",
    "        \n",
    "    bro_link_img=html_parser.select('div.prod-card-item > a')\n",
    "    bro_img_list=[]\n",
    "    bro_link_list=[]\n",
    "    for item in bro_link_img:\n",
    "        bro_link_list.append(\"https://wrightbrothers.kr{}\".format(item['href']))\n",
    "        img=item['style']\n",
    "        bro_img_list.append(img[img.find('\"')+1:img.rfind('\"')])\n",
    "    \n",
    "    used_goods = pd.DataFrame({'제목' : bro_name_list,\n",
    "                          '가격': bro_price_list,\n",
    "                          '사진':bro_img_list,\n",
    "                          '링크' : bro_link_list,\n",
    "                          '사이트' : '라이트'\n",
    "                         })\n",
    "    \n",
    "    return used_goods"
   ]
  },
  {
   "cell_type": "code",
   "execution_count": 17,
   "id": "08c9b95d",
   "metadata": {},
   "outputs": [],
   "source": [
    "def concat_used_goods(df1,df2):\n",
    "    return pd.concat([df1,df2])\n",
    "    "
   ]
  },
  {
   "cell_type": "code",
   "execution_count": 5,
   "id": "5f8194d9",
   "metadata": {},
   "outputs": [],
   "source": [
    "# df=concat_used_goods(bun_scraping_used_goods(),bro_scraping_used_goods())"
   ]
  },
  {
   "cell_type": "code",
   "execution_count": 6,
   "id": "476eb388",
   "metadata": {},
   "outputs": [],
   "source": [
    "# df.head()"
   ]
  },
  {
   "cell_type": "code",
   "execution_count": 7,
   "id": "661a3fa9",
   "metadata": {},
   "outputs": [],
   "source": [
    "# df['가격']=df['가격'].str.replace(',','')\n",
    "# df['가격']=df['가격'].str.replace('원','')\n",
    "# df['가격']=df['가격'].astype('float64')"
   ]
  },
  {
   "cell_type": "code",
   "execution_count": null,
   "id": "c701d008",
   "metadata": {},
   "outputs": [],
   "source": []
  },
  {
   "cell_type": "code",
   "execution_count": 8,
   "id": "a0ca90d6",
   "metadata": {},
   "outputs": [],
   "source": [
    "# df.columns"
   ]
  },
  {
   "cell_type": "code",
   "execution_count": null,
   "id": "20326ffb",
   "metadata": {},
   "outputs": [],
   "source": []
  },
  {
   "cell_type": "code",
   "execution_count": 18,
   "id": "831c61c8",
   "metadata": {},
   "outputs": [],
   "source": [
    "def preprocessed_df_to_oracle(df):\n",
    "\n",
    "    con = cx_Oracle.connect('bike/12345@192.168.0.78:1521/xe')\n",
    "    cur = con.cursor()\n",
    "    sql_insert = '''\n",
    "    MERGE INTO used_goods \n",
    "        USING dual\n",
    "            ON (TITLE = :제목)\n",
    "        WHEN NOT MATCHED THEN\n",
    "            INSERT \n",
    "            VALUES (:제목2,:가격,:사진,:링크,:사이트) \n",
    "        WHEN MATCHED THEN\n",
    "            UPDATE SET\n",
    "                PRICE=:가격2\n",
    "            '''\n",
    "    \n",
    "    \n",
    "    \n",
    "    for i in range(len(df)):\n",
    "        제목 = df.iloc[i]['제목']\n",
    "        제목2 = 제목\n",
    "        가격 = df.iloc[i]['가격']\n",
    "        가격2 = 가격\n",
    "        사진 =df.iloc[i]['사진']\n",
    "        링크 = df.iloc[i]['링크']\n",
    "        사이트 = df.iloc[i]['사이트']\n",
    "\n",
    "        cur.execute(sql_insert,(제목,제목2,가격,사진,링크,사이트,가격2))\n",
    "\n",
    "    con.commit()\n",
    "    cur.close()\n",
    "    con.close()\n"
   ]
  },
  {
   "cell_type": "code",
   "execution_count": 19,
   "id": "5b684852",
   "metadata": {},
   "outputs": [],
   "source": [
    "def used_goods_info_collector():\n",
    "\n",
    "    df = concat_used_goods(bun_scraping_used_goods(),bro_scraping_used_goods())\n",
    "    df['가격']=df['가격'].str.replace(',','')\n",
    "    df['가격']=df['가격'].str.replace('원','')\n",
    "    df['가격']=df['가격'].astype('float64')\n",
    "    preprocessed_df_to_oracle(df)"
   ]
  },
  {
   "cell_type": "code",
   "execution_count": 20,
   "id": "75825ecb",
   "metadata": {},
   "outputs": [],
   "source": [
    "def used_goods_scheduler():\n",
    "    print('중고거래 데이터 수집기 스케줄러 동작.\\n')\n",
    "    while True:\n",
    "        used_goods_info_collector()\n",
    "        print(\"수집완료.\")\n",
    "        time.sleep(6000) # 60분 주기로 데이터 수집\n",
    "\n",
    "def print_main_menu():\n",
    "    print('\\n1. 중고거래 실시간 데이터 구축')\n",
    "    print('2. 스케줄러 종료')\n",
    "    print('* 엔터: 메뉴 업데이트\\n')\n",
    "\n"
   ]
  },
  {
   "cell_type": "code",
   "execution_count": null,
   "id": "0e1212a9",
   "metadata": {
    "scrolled": true
   },
   "outputs": [
    {
     "name": "stdout",
     "output_type": "stream",
     "text": [
      "\n",
      "1. 중고거래 실시간 데이터 구축\n",
      "2. 스케줄러 종료\n",
      "* 엔터: 메뉴 업데이트\n",
      "\n",
      "아래행에 메뉴입력: \n",
      "1\n",
      "\n",
      "1. 중고거래 실시간 데이터 구축\n",
      "2. 스케줄러 종료\n",
      "* 엔터: 메뉴 업데이트\n",
      "\n",
      "아래행에 메뉴입력: \n"
     ]
    },
    {
     "name": "stderr",
     "output_type": "stream",
     "text": [
      "Exception in thread Thread-9:\n",
      "Traceback (most recent call last):\n",
      "  File \"C:\\Users\\TJ\\anaconda3\\lib\\threading.py\", line 980, in _bootstrap_inner\n",
      "    self.run()\n",
      "  File \"C:\\Users\\TJ\\anaconda3\\lib\\threading.py\", line 917, in run\n",
      "    self._target(*self._args, **self._kwargs)\n",
      "  File \"C:\\Users\\TJ\\AppData\\Local\\Temp\\ipykernel_10780\\3254091390.py\", line 7, in used_goods_info_collector\n",
      "  File \"C:\\Users\\TJ\\AppData\\Local\\Temp\\ipykernel_10780\\427893896.py\", line 28, in preprocessed_df_to_oracle\n",
      "cx_Oracle.DatabaseError: ORA-00904: \"TITLE\": invalid identifier\n"
     ]
    }
   ],
   "source": [
    "while True:\n",
    "    print_main_menu()\n",
    "    print('아래행에 메뉴입력: ')\n",
    "    selection = input()\n",
    "    \n",
    "    if selection == '':\n",
    "        continue\n",
    "    else:\n",
    "        menu_num = int(selection)\n",
    "        \n",
    "    if(menu_num == 1):\n",
    "        t = threading.Thread(target=used_goods_info_collector, daemon=True)\n",
    "        t.start()\n",
    "    elif(menu_num == 2):\n",
    "        break\n",
    "    elif (menu_num == 0):\n",
    "        continue"
   ]
  },
  {
   "cell_type": "code",
   "execution_count": null,
   "id": "5b3e7b1e",
   "metadata": {},
   "outputs": [],
   "source": []
  },
  {
   "cell_type": "code",
   "execution_count": null,
   "id": "0af99988",
   "metadata": {},
   "outputs": [],
   "source": []
  }
 ],
 "metadata": {
  "kernelspec": {
   "display_name": "Python 3 (ipykernel)",
   "language": "python",
   "name": "python3"
  },
  "language_info": {
   "codemirror_mode": {
    "name": "ipython",
    "version": 3
   },
   "file_extension": ".py",
   "mimetype": "text/x-python",
   "name": "python",
   "nbconvert_exporter": "python",
   "pygments_lexer": "ipython3",
   "version": "3.9.13"
  }
 },
 "nbformat": 4,
 "nbformat_minor": 5
}
