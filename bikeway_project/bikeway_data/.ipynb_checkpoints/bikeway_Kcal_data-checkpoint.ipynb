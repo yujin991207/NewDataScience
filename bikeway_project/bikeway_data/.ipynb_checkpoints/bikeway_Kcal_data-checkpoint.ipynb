{
 "cells": [
  {
   "cell_type": "code",
   "execution_count": 1,
   "id": "ebefe9c6",
   "metadata": {},
   "outputs": [],
   "source": [
    "import numpy as np\n",
    "import matplotlib.pyplot as plt\n",
    "from matplotlib import font_manager,rc\n",
    "import time\n",
    "import pandas as pd\n",
    "import cx_Oracle\n",
    "import datetime as dt\n",
    "from datetime import timedelta,datetime\n",
    "from IPython import display\n",
    "import math\n",
    "\n",
    "font_location = \"C:\\Windows\\Fonts\\malgun.ttf\"\n",
    "font_name = font_manager.FontProperties(fname=font_location).get_name()\n",
    "rc('font',family=font_name)\n",
    "plt.rcParams['axes.unicode_minus'] = False"
   ]
  },
  {
   "cell_type": "code",
   "execution_count": 2,
   "id": "a21419c8",
   "metadata": {},
   "outputs": [],
   "source": [
    "con = cx_Oracle.connect('bike/12345@192.168.0.78:1521/xe')\n",
    "cur = con.cursor()"
   ]
  },
  {
   "cell_type": "markdown",
   "id": "34152b63",
   "metadata": {},
   "source": [
    "### 일주일치 날짜 가져오기"
   ]
  },
  {
   "cell_type": "code",
   "execution_count": 15,
   "id": "1590bb97",
   "metadata": {},
   "outputs": [],
   "source": [
    "def week_col(time):\n",
    "    start=time-timedelta(days=int(time.weekday()))\n",
    "    week=pd.date_range(start,periods=7)\n",
    "    return week.astype(str).to_list()"
   ]
  },
  {
   "cell_type": "code",
   "execution_count": 16,
   "id": "1953c940",
   "metadata": {},
   "outputs": [],
   "source": [
    "a = cur.execute(\"\"\"select max(riding_dt) from riding \"\"\").fetchall()[0][0]"
   ]
  },
  {
   "cell_type": "code",
   "execution_count": 17,
   "id": "18d69385",
   "metadata": {},
   "outputs": [
    {
     "ename": "AttributeError",
     "evalue": "'NoneType' object has no attribute 'weekday'",
     "output_type": "error",
     "traceback": [
      "\u001b[1;31m---------------------------------------------------------------------------\u001b[0m",
      "\u001b[1;31mAttributeError\u001b[0m                            Traceback (most recent call last)",
      "\u001b[1;32m~\\AppData\\Local\\Temp\\ipykernel_6340\\3121216314.py\u001b[0m in \u001b[0;36m<module>\u001b[1;34m\u001b[0m\n\u001b[1;32m----> 1\u001b[1;33m \u001b[0mweek_col\u001b[0m\u001b[1;33m(\u001b[0m\u001b[0ma\u001b[0m\u001b[1;33m)\u001b[0m\u001b[1;33m\u001b[0m\u001b[1;33m\u001b[0m\u001b[0m\n\u001b[0m",
      "\u001b[1;32m~\\AppData\\Local\\Temp\\ipykernel_6340\\3779506069.py\u001b[0m in \u001b[0;36mweek_col\u001b[1;34m(time)\u001b[0m\n\u001b[0;32m      1\u001b[0m \u001b[1;32mdef\u001b[0m \u001b[0mweek_col\u001b[0m\u001b[1;33m(\u001b[0m\u001b[0mtime\u001b[0m\u001b[1;33m)\u001b[0m\u001b[1;33m:\u001b[0m\u001b[1;33m\u001b[0m\u001b[1;33m\u001b[0m\u001b[0m\n\u001b[1;32m----> 2\u001b[1;33m     \u001b[0mstart\u001b[0m\u001b[1;33m=\u001b[0m\u001b[0mtime\u001b[0m\u001b[1;33m-\u001b[0m\u001b[0mtimedelta\u001b[0m\u001b[1;33m(\u001b[0m\u001b[0mdays\u001b[0m\u001b[1;33m=\u001b[0m\u001b[0mint\u001b[0m\u001b[1;33m(\u001b[0m\u001b[0mtime\u001b[0m\u001b[1;33m.\u001b[0m\u001b[0mweekday\u001b[0m\u001b[1;33m(\u001b[0m\u001b[1;33m)\u001b[0m\u001b[1;33m)\u001b[0m\u001b[1;33m)\u001b[0m\u001b[1;33m\u001b[0m\u001b[1;33m\u001b[0m\u001b[0m\n\u001b[0m\u001b[0;32m      3\u001b[0m     \u001b[0mweek\u001b[0m\u001b[1;33m=\u001b[0m\u001b[0mpd\u001b[0m\u001b[1;33m.\u001b[0m\u001b[0mdate_range\u001b[0m\u001b[1;33m(\u001b[0m\u001b[0mstart\u001b[0m\u001b[1;33m,\u001b[0m\u001b[0mperiods\u001b[0m\u001b[1;33m=\u001b[0m\u001b[1;36m7\u001b[0m\u001b[1;33m)\u001b[0m\u001b[1;33m\u001b[0m\u001b[1;33m\u001b[0m\u001b[0m\n\u001b[0;32m      4\u001b[0m     \u001b[1;32mreturn\u001b[0m \u001b[0mweek\u001b[0m\u001b[1;33m.\u001b[0m\u001b[0mastype\u001b[0m\u001b[1;33m(\u001b[0m\u001b[0mstr\u001b[0m\u001b[1;33m)\u001b[0m\u001b[1;33m.\u001b[0m\u001b[0mto_list\u001b[0m\u001b[1;33m(\u001b[0m\u001b[1;33m)\u001b[0m\u001b[1;33m\u001b[0m\u001b[1;33m\u001b[0m\u001b[0m\n",
      "\u001b[1;31mAttributeError\u001b[0m: 'NoneType' object has no attribute 'weekday'"
     ]
    }
   ],
   "source": [
    "week_col(a)"
   ]
  },
  {
   "cell_type": "markdown",
   "id": "53557d15",
   "metadata": {},
   "source": [
    "## 주간 데이터"
   ]
  },
  {
   "cell_type": "markdown",
   "id": "ee43f920",
   "metadata": {},
   "source": [
    "### 내 데이터"
   ]
  },
  {
   "cell_type": "raw",
   "id": "c0f55174",
   "metadata": {},
   "source": [
    "# => 일단 id가 '1'인 data가 나의 데이터라고 치자."
   ]
  },
  {
   "cell_type": "markdown",
   "id": "ff70cc6a",
   "metadata": {},
   "source": [
    "#### 칼로리분석"
   ]
  },
  {
   "cell_type": "code",
   "execution_count": 18,
   "id": "ea4375ec",
   "metadata": {},
   "outputs": [],
   "source": [
    "cur.execute(\"\"\"select m.id as id,r.riding_dt as riding_dt, round(2.3*m.weight*(r.riding_time*0.0667),2) as Kcal \n",
    "            from riding r join member m on r.id=m.id\"\"\")\n",
    "\n",
    "columns = ['id','riding_dt','calorie']\n",
    "calorie_data = pd.DataFrame(cur,columns = columns)\n",
    "\n",
    "#calorie_data['id']"
   ]
  },
  {
   "cell_type": "code",
   "execution_count": 19,
   "id": "277bba4f",
   "metadata": {},
   "outputs": [],
   "source": [
    "def plt_Kcal_update(ax,mem_id):\n",
    "    cur.execute(\"select * from riding where id = :mem_id order by riding_dt\",mem_id)\n",
    "    \n",
    "    time=week_col(pd.to_datetime(a))\n",
    "    \n",
    "    columns = ['id','distance','calorie','riding_time','riding_dt']\n",
    "    riding_data = pd.DataFrame(cur,columns=columns)\n",
    "    riding_data['riding_dt']=riding_data['riding_dt'].astype(str)\n",
    "    riding_data= riding_data[riding_data['riding_dt'].isin(time)]\n",
    "    \n",
    "    df2=pd.DataFrame(time,columns=['riding_dt'])\n",
    "    \n",
    "\n",
    "    riding_data['calorie'] = calorie_data['calorie']\n",
    "    riding_data= riding_data[riding_data['riding_dt'].isin(week_col(a))]\n",
    "    \n",
    "    ax.plot(riding_data['riding_dt'],riding_data['calorie'], 'ro--')\n",
    "    b=pd.merge(riding_data,df2,on='riding_dt', how='outer')\n",
    "    \n",
    "\n",
    "    hdisplay.update(fig)\n",
    "#     return b[['riding_dt','calorie']]\n",
    "#     return riding_data"
   ]
  },
  {
   "cell_type": "code",
   "execution_count": null,
   "id": "ecb55365",
   "metadata": {},
   "outputs": [],
   "source": []
  },
  {
   "cell_type": "code",
   "execution_count": 20,
   "id": "f77bd6e8",
   "metadata": {},
   "outputs": [],
   "source": [
    "#plt_cal_update(ax,'1') #mem_no가 1인 유저의 칼로리 데이터"
   ]
  },
  {
   "cell_type": "markdown",
   "id": "3f69559c",
   "metadata": {},
   "source": [
    "### 평균 데이터"
   ]
  },
  {
   "cell_type": "markdown",
   "id": "a33cfce8",
   "metadata": {},
   "source": [
    "#### 칼로리분석"
   ]
  },
  {
   "cell_type": "code",
   "execution_count": 21,
   "id": "b6d4449e",
   "metadata": {},
   "outputs": [],
   "source": [
    "def plt_Kcal_avg_update(ax):\n",
    "    cur.execute(\"\"\"select r.riding_dt as riding_dt, round(sum(2.3*m.weight*(r.riding_time*0.0667)),2) as sum_Kcal,\n",
    "                       round(sum(2.3*m.weight*(r.riding_time*0.0667))/ count(distinct(m.id)),2) as avg_Kcal\n",
    "                       from riding r join member m on r.id=m.id\n",
    "                       group by r.riding_dt\n",
    "                       order by r.riding_dt\n",
    "                        \"\"\")\n",
    "    \n",
    "    time=week_col(pd.to_datetime(a))\n",
    "\n",
    "    columns = ['riding_dt','sum_calorie','avg_calorie']\n",
    "    calorie_avg_data = pd.DataFrame(cur,columns = columns)\n",
    "    calorie_avg_data['riding_dt']=calorie_avg_data['riding_dt'].astype(str)\n",
    "    calorie_avg_data= calorie_avg_data[calorie_avg_data['riding_dt'].isin(time)]\n",
    "    #calorie_avg_data['avg_calorie'] = round(calorie_avg_data['avg_calorie'],2)\n",
    "    \n",
    "    df2=pd.DataFrame(time,columns=['riding_dt'])\n",
    "    b=pd.merge(calorie_avg_data,df2,on='riding_dt', how='outer')\n",
    "    \n",
    "    ax.plot(time,b['avg_calorie'], 'yo-')\n",
    "\n",
    "    hdisplay.update(fig)"
   ]
  },
  {
   "cell_type": "code",
   "execution_count": 22,
   "id": "00e6bed8",
   "metadata": {},
   "outputs": [],
   "source": [
    "#calorie_avg_data"
   ]
  },
  {
   "cell_type": "markdown",
   "id": "68185624",
   "metadata": {},
   "source": [
    "### 상위10%"
   ]
  },
  {
   "cell_type": "markdown",
   "id": "d2e3ca31",
   "metadata": {},
   "source": [
    "#### 칼로리분석"
   ]
  },
  {
   "cell_type": "code",
   "execution_count": 23,
   "id": "6e433b02",
   "metadata": {},
   "outputs": [],
   "source": [
    "def plt_Kcal_avg_update_10(ax):\n",
    "\n",
    "    cur.execute(\"\"\"select r.riding_dt as riding_dt, \n",
    "       round(sum(2.3*m.weight*(r.riding_time*0.0667))/(select ceil(count(distinct(m.id))*0.1) from riding),2) as avg_Kcal \n",
    "       from riding r join member m on r.id=m.id \n",
    "       where m.id in (select id from \n",
    "       (select sum(2.3*m.weight*(r.riding_time*0.0667)) as avg_sum, m.id \n",
    "        from riding r join member m on r.id=m.id \n",
    "        where r.riding_dt \n",
    "        between :start_day and :end_day group by m.id order by avg_sum desc) \n",
    "       where rownum <= (select ceil(count(distinct(id))*0.1) from riding)) \n",
    "       group by r.riding_dt \n",
    "       order by r.riding_dt\"\"\",(week_col(a)[0],week_col(a)[6]))\n",
    "    \n",
    "    time=week_col(pd.to_datetime(a))\n",
    "\n",
    "    columns = ['riding_dt','avg_Kcal']\n",
    "    Kcal_10_data = pd.DataFrame(cur,columns = columns)\n",
    "    \n",
    "    Kcal_10_data['riding_dt']=Kcal_10_data['riding_dt'].astype(str)\n",
    "    Kcal_10_data= Kcal_10_data[Kcal_10_data['riding_dt'].isin(time)]\n",
    "    \n",
    "    df2=pd.DataFrame(time,columns=['riding_dt'])\n",
    "    b=pd.merge(Kcal_10_data,df2,on='riding_dt', how='outer')\n",
    "\n",
    "    ax.plot(time,b['avg_Kcal'], 'b*-')\n",
    "    \n",
    "    hdisplay.update(fig)"
   ]
  },
  {
   "cell_type": "markdown",
   "id": "03dae4e7",
   "metadata": {},
   "source": [
    "### 실시간그래프"
   ]
  },
  {
   "cell_type": "markdown",
   "id": "78fba1ad",
   "metadata": {},
   "source": [
    "##### yellow => 평균데이터 red => 나의데이터 blue => 상위10% 데이터"
   ]
  },
  {
   "cell_type": "code",
   "execution_count": null,
   "id": "12388ba8",
   "metadata": {},
   "outputs": [],
   "source": []
  },
  {
   "cell_type": "code",
   "execution_count": 49,
   "id": "c2bfe314",
   "metadata": {},
   "outputs": [
    {
     "data": {
      "image/png": "[encoded data removed]",
      "text/plain": [
       "<Figure size 1300x300 with 1 Axes>"
      ]
     },
     "metadata": {},
     "output_type": "display_data"
    },
    {
     "ename": "KeyboardInterrupt",
     "evalue": "",
     "output_type": "error",
     "traceback": [
      "\u001b[1;31m---------------------------------------------------------------------------\u001b[0m",
      "\u001b[1;31mKeyboardInterrupt\u001b[0m                         Traceback (most recent call last)",
      "\u001b[1;32m~\\AppData\\Local\\Temp\\ipykernel_3900\\614153581.py\u001b[0m in \u001b[0;36m<module>\u001b[1;34m\u001b[0m\n\u001b[0;32m     19\u001b[0m     \u001b[0mplt_Kcal_avg_update_10\u001b[0m\u001b[1;33m(\u001b[0m\u001b[0max\u001b[0m\u001b[1;33m)\u001b[0m\u001b[1;33m\u001b[0m\u001b[1;33m\u001b[0m\u001b[0m\n\u001b[0;32m     20\u001b[0m \u001b[1;33m\u001b[0m\u001b[0m\n\u001b[1;32m---> 21\u001b[1;33m     \u001b[0mtime\u001b[0m\u001b[1;33m.\u001b[0m\u001b[0msleep\u001b[0m\u001b[1;33m(\u001b[0m\u001b[1;36m10\u001b[0m\u001b[1;33m)\u001b[0m\u001b[1;33m\u001b[0m\u001b[1;33m\u001b[0m\u001b[0m\n\u001b[0m\u001b[0;32m     22\u001b[0m \u001b[1;33m\u001b[0m\u001b[0m\n\u001b[0;32m     23\u001b[0m \u001b[0mplt\u001b[0m\u001b[1;33m.\u001b[0m\u001b[0mclose\u001b[0m\u001b[1;33m(\u001b[0m\u001b[1;33m)\u001b[0m\u001b[1;33m\u001b[0m\u001b[1;33m\u001b[0m\u001b[0m\n",
      "\u001b[1;31mKeyboardInterrupt\u001b[0m: "
     ]
    },
    {
     "data": {
      "image/png": "[encoded data removed]",
      "text/plain": [
       "<Figure size 1300x300 with 1 Axes>"
      ]
     },
     "metadata": {},
     "output_type": "display_data"
    }
   ],
   "source": [
    "import matplotlib.pyplot as plt\n",
    "from matplotlib import dates\n",
    "\n",
    "fig,ax = plt.subplots(1,1)\n",
    "hdisplay = display.display(\"\", display_id=True)\n",
    "\n",
    "plt.xticks()\n",
    "\n",
    "plt.title(' 배고파님 주간 라이딩 Kcal 분석 그래프 ')\n",
    "plt.rcParams['figure.figsize'] = (13,3)\n",
    "\n",
    "ax.set_xlabel('라이딩 일자')\n",
    "ax.set_ylabel('Kcal')\n",
    "\n",
    "# plt_update(ax)\n",
    "for f in range(100000):\n",
    "    plt_Kcal_update(ax,'1')#red\n",
    "    plt_Kcal_avg_update(ax)#yellow\n",
    "    plt_Kcal_avg_update_10(ax)#blue\n",
    "        \n",
    "    time.sleep(10)\n",
    "\n",
    "plt.close()"
   ]
  },
  {
   "cell_type": "code",
   "execution_count": null,
   "id": "41a67c52",
   "metadata": {},
   "outputs": [],
   "source": []
  }
 ],
 "metadata": {
  "kernelspec": {
   "display_name": "Python 3 (ipykernel)",
   "language": "python",
   "name": "python3"
  },
  "language_info": {
   "codemirror_mode": {
    "name": "ipython",
    "version": 3
   },
   "file_extension": ".py",
   "mimetype": "text/x-python",
   "name": "python",
   "nbconvert_exporter": "python",
   "pygments_lexer": "ipython3",
   "version": "3.9.13"
  }
 },
 "nbformat": 4,
 "nbformat_minor": 5
}
