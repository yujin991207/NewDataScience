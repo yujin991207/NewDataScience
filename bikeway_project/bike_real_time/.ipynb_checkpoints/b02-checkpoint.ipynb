{
 "cells": [
  {
   "cell_type": "code",
   "execution_count": 1,
   "id": "84f1c3e1",
   "metadata": {},
   "outputs": [],
   "source": [
    "import numpy as np\n",
    "import pandas as pd\n",
    "import cx_Oracle\n",
    "\n",
    "import folium\n",
    "from folium.plugins import MarkerCluster\n",
    "from folium import Marker\n",
    "import time\n",
    "\n",
    "from IPython import display"
   ]
  },
  {
   "cell_type": "code",
   "execution_count": 26,
   "id": "bc6cac3f",
   "metadata": {},
   "outputs": [],
   "source": [
    "con = cx_Oracle.connect('bike/12345@192.168.0.78:1521/xe')\n",
    "cur = con.cursor()"
   ]
  },
  {
   "cell_type": "code",
   "execution_count": 27,
   "id": "22a66e18",
   "metadata": {
    "scrolled": false
   },
   "outputs": [],
   "source": [
    "def load_data() :\n",
    "    cur.execute('select * from bike_real_time where updateTime = (select max(updateTime) from bike_real_time)')\n",
    "    \n",
    "#     RENTALNAME, HOLDER_COUNT, BIKE_COUNT, WEEDO, GYUNGDO, RENTALID, UPDATE_DATE\n",
    "#     대여소명, 거치대수, 남은자전거수, 위도, 경도, 대여소id, 제공시각\n",
    "    columns = ['대여소명', '거치대수', '남은자전거수','거치율', '위도', '경도', '대여소id','제공시각']\n",
    "    bike_real_time = pd.DataFrame(cur,columns = columns)\n",
    "    return bike_real_time\n",
    "\n",
    "#bike_real_time"
   ]
  },
  {
   "cell_type": "code",
   "execution_count": 20,
   "id": "1427ada1",
   "metadata": {},
   "outputs": [
    {
     "data": {
      "text/html": [
       "<div>\n",
       "<style scoped>\n",
       "    .dataframe tbody tr th:only-of-type {\n",
       "        vertical-align: middle;\n",
       "    }\n",
       "\n",
       "    .dataframe tbody tr th {\n",
       "        vertical-align: top;\n",
       "    }\n",
       "\n",
       "    .dataframe thead th {\n",
       "        text-align: right;\n",
       "    }\n",
       "</style>\n",
       "<table border=\"1\" class=\"dataframe\">\n",
       "  <thead>\n",
       "    <tr style=\"text-align: right;\">\n",
       "      <th></th>\n",
       "      <th>대여소명</th>\n",
       "      <th>거치대수</th>\n",
       "      <th>남은자전거수</th>\n",
       "      <th>거치율</th>\n",
       "      <th>위도</th>\n",
       "      <th>경도</th>\n",
       "      <th>대여소id</th>\n",
       "      <th>제공시각</th>\n",
       "    </tr>\n",
       "  </thead>\n",
       "  <tbody>\n",
       "    <tr>\n",
       "      <th>0</th>\n",
       "      <td>102. 망원역 1번출구 앞</td>\n",
       "      <td>15</td>\n",
       "      <td>25</td>\n",
       "      <td>167.0</td>\n",
       "      <td>37.555649</td>\n",
       "      <td>126.910629</td>\n",
       "      <td>ST-4</td>\n",
       "      <td>2023-01-10 11:46:06.773476</td>\n",
       "    </tr>\n",
       "    <tr>\n",
       "      <th>1</th>\n",
       "      <td>103. 망원역 2번출구 앞</td>\n",
       "      <td>14</td>\n",
       "      <td>12</td>\n",
       "      <td>86.0</td>\n",
       "      <td>37.554951</td>\n",
       "      <td>126.910835</td>\n",
       "      <td>ST-5</td>\n",
       "      <td>2023-01-10 11:46:06.773476</td>\n",
       "    </tr>\n",
       "    <tr>\n",
       "      <th>2</th>\n",
       "      <td>104. 합정역 1번출구 앞</td>\n",
       "      <td>13</td>\n",
       "      <td>21</td>\n",
       "      <td>162.0</td>\n",
       "      <td>37.550629</td>\n",
       "      <td>126.914986</td>\n",
       "      <td>ST-6</td>\n",
       "      <td>2023-01-10 11:46:06.773476</td>\n",
       "    </tr>\n",
       "    <tr>\n",
       "      <th>3</th>\n",
       "      <td>105. 합정역 5번출구 앞</td>\n",
       "      <td>5</td>\n",
       "      <td>2</td>\n",
       "      <td>40.0</td>\n",
       "      <td>37.550007</td>\n",
       "      <td>126.914825</td>\n",
       "      <td>ST-7</td>\n",
       "      <td>2023-01-10 11:46:06.773476</td>\n",
       "    </tr>\n",
       "    <tr>\n",
       "      <th>4</th>\n",
       "      <td>106. 합정역 7번출구 앞</td>\n",
       "      <td>12</td>\n",
       "      <td>2</td>\n",
       "      <td>17.0</td>\n",
       "      <td>37.548645</td>\n",
       "      <td>126.912827</td>\n",
       "      <td>ST-8</td>\n",
       "      <td>2023-01-10 11:46:06.773476</td>\n",
       "    </tr>\n",
       "    <tr>\n",
       "      <th>5</th>\n",
       "      <td>107. 신한은행 서교동지점</td>\n",
       "      <td>5</td>\n",
       "      <td>27</td>\n",
       "      <td>540.0</td>\n",
       "      <td>37.557510</td>\n",
       "      <td>126.918503</td>\n",
       "      <td>ST-9</td>\n",
       "      <td>2023-01-10 11:46:06.773476</td>\n",
       "    </tr>\n",
       "    <tr>\n",
       "      <th>6</th>\n",
       "      <td>108. 서교동 사거리</td>\n",
       "      <td>10</td>\n",
       "      <td>20</td>\n",
       "      <td>200.0</td>\n",
       "      <td>37.552746</td>\n",
       "      <td>126.918617</td>\n",
       "      <td>ST-10</td>\n",
       "      <td>2023-01-10 11:46:06.773476</td>\n",
       "    </tr>\n",
       "    <tr>\n",
       "      <th>7</th>\n",
       "      <td>109. 제일빌딩 앞</td>\n",
       "      <td>10</td>\n",
       "      <td>7</td>\n",
       "      <td>70.0</td>\n",
       "      <td>37.547691</td>\n",
       "      <td>126.919983</td>\n",
       "      <td>ST-11</td>\n",
       "      <td>2023-01-10 11:46:06.773476</td>\n",
       "    </tr>\n",
       "    <tr>\n",
       "      <th>8</th>\n",
       "      <td>111. 상수역 2번출구 앞</td>\n",
       "      <td>10</td>\n",
       "      <td>5</td>\n",
       "      <td>50.0</td>\n",
       "      <td>37.547871</td>\n",
       "      <td>126.923531</td>\n",
       "      <td>ST-15</td>\n",
       "      <td>2023-01-10 11:46:06.773476</td>\n",
       "    </tr>\n",
       "    <tr>\n",
       "      <th>9</th>\n",
       "      <td>112. 극동방송국 앞</td>\n",
       "      <td>10</td>\n",
       "      <td>2</td>\n",
       "      <td>20.0</td>\n",
       "      <td>37.549202</td>\n",
       "      <td>126.923203</td>\n",
       "      <td>ST-16</td>\n",
       "      <td>2023-01-10 11:46:06.773476</td>\n",
       "    </tr>\n",
       "  </tbody>\n",
       "</table>\n",
       "</div>"
      ],
      "text/plain": [
       "              대여소명  거치대수  남은자전거수    거치율         위도          경도  대여소id  \\\n",
       "0  102. 망원역 1번출구 앞    15      25  167.0  37.555649  126.910629   ST-4   \n",
       "1  103. 망원역 2번출구 앞    14      12   86.0  37.554951  126.910835   ST-5   \n",
       "2  104. 합정역 1번출구 앞    13      21  162.0  37.550629  126.914986   ST-6   \n",
       "3  105. 합정역 5번출구 앞     5       2   40.0  37.550007  126.914825   ST-7   \n",
       "4  106. 합정역 7번출구 앞    12       2   17.0  37.548645  126.912827   ST-8   \n",
       "5  107. 신한은행 서교동지점     5      27  540.0  37.557510  126.918503   ST-9   \n",
       "6     108. 서교동 사거리    10      20  200.0  37.552746  126.918617  ST-10   \n",
       "7      109. 제일빌딩 앞    10       7   70.0  37.547691  126.919983  ST-11   \n",
       "8  111. 상수역 2번출구 앞    10       5   50.0  37.547871  126.923531  ST-15   \n",
       "9     112. 극동방송국 앞    10       2   20.0  37.549202  126.923203  ST-16   \n",
       "\n",
       "                        제공시각  \n",
       "0 2023-01-10 11:46:06.773476  \n",
       "1 2023-01-10 11:46:06.773476  \n",
       "2 2023-01-10 11:46:06.773476  \n",
       "3 2023-01-10 11:46:06.773476  \n",
       "4 2023-01-10 11:46:06.773476  \n",
       "5 2023-01-10 11:46:06.773476  \n",
       "6 2023-01-10 11:46:06.773476  \n",
       "7 2023-01-10 11:46:06.773476  \n",
       "8 2023-01-10 11:46:06.773476  \n",
       "9 2023-01-10 11:46:06.773476  "
      ]
     },
     "execution_count": 20,
     "metadata": {},
     "output_type": "execute_result"
    }
   ],
   "source": [
    "load_data()"
   ]
  },
  {
   "cell_type": "code",
   "execution_count": 22,
   "id": "00e41da2",
   "metadata": {},
   "outputs": [],
   "source": [
    "def create_map(bike_real_time) :\n",
    "    # 합정동기준\n",
    "    latitude = 37.552746\n",
    "    longitude = 126.918617\n",
    "    \n",
    "    bike_map = folium.Map(location = [latitude, longitude],\n",
    "               zoom_start=15, \n",
    "               width=750, \n",
    "               height=500\n",
    "              )\n",
    "    return bike_map"
   ]
  },
  {
   "cell_type": "code",
   "execution_count": 23,
   "id": "cf08233e",
   "metadata": {
    "scrolled": true
   },
   "outputs": [],
   "source": [
    "m=create_map(load_data())\n",
    "#m"
   ]
  },
  {
   "cell_type": "code",
   "execution_count": 24,
   "id": "3f0e3976",
   "metadata": {},
   "outputs": [],
   "source": [
    "def plt_update():\n",
    "    for name, lat, lng, m_num  in zip(bike_real_time['RENTALNAME'],bike_real_time['WEEDO'],bike_real_time['GYUNGDO'],bike_real_time['BIKE_COUNT']):\n",
    "        Marker(location =[lat,lng],\n",
    "               popup=m_num,\n",
    "               tooltip=name,\n",
    "               icon=folium.Icon(color='blue',icon='bookmark')\n",
    "               ).add_to(bike_map)"
   ]
  },
  {
   "cell_type": "code",
   "execution_count": 28,
   "id": "aac280d3",
   "metadata": {
    "scrolled": true
   },
   "outputs": [
    {
     "data": {
      "text/plain": [
       "''"
      ]
     },
     "metadata": {},
     "output_type": "display_data"
    },
    {
     "ename": "NameError",
     "evalue": "name 'bike_real_time' is not defined",
     "output_type": "error",
     "traceback": [
      "\u001b[1;31m---------------------------------------------------------------------------\u001b[0m",
      "\u001b[1;31mNameError\u001b[0m                                 Traceback (most recent call last)",
      "\u001b[1;32m~\\AppData\\Local\\Temp\\ipykernel_4620\\3030584750.py\u001b[0m in \u001b[0;36m<module>\u001b[1;34m\u001b[0m\n\u001b[0;32m      4\u001b[0m \u001b[1;33m\u001b[0m\u001b[0m\n\u001b[0;32m      5\u001b[0m     \u001b[0mload_data\u001b[0m\u001b[1;33m(\u001b[0m\u001b[1;33m)\u001b[0m\u001b[1;33m\u001b[0m\u001b[1;33m\u001b[0m\u001b[0m\n\u001b[1;32m----> 6\u001b[1;33m     \u001b[0mplt_update\u001b[0m\u001b[1;33m(\u001b[0m\u001b[1;33m)\u001b[0m\u001b[1;33m\u001b[0m\u001b[1;33m\u001b[0m\u001b[0m\n\u001b[0m\u001b[0;32m      7\u001b[0m \u001b[1;33m\u001b[0m\u001b[0m\n\u001b[0;32m      8\u001b[0m     \u001b[1;32mif\u001b[0m \u001b[0mis_first\u001b[0m \u001b[1;33m==\u001b[0m \u001b[1;32mTrue\u001b[0m\u001b[1;33m:\u001b[0m\u001b[1;33m\u001b[0m\u001b[1;33m\u001b[0m\u001b[0m\n",
      "\u001b[1;32m~\\AppData\\Local\\Temp\\ipykernel_4620\\1414701521.py\u001b[0m in \u001b[0;36mplt_update\u001b[1;34m()\u001b[0m\n\u001b[0;32m      1\u001b[0m \u001b[1;32mdef\u001b[0m \u001b[0mplt_update\u001b[0m\u001b[1;33m(\u001b[0m\u001b[1;33m)\u001b[0m\u001b[1;33m:\u001b[0m\u001b[1;33m\u001b[0m\u001b[1;33m\u001b[0m\u001b[0m\n\u001b[1;32m----> 2\u001b[1;33m     \u001b[1;32mfor\u001b[0m \u001b[0mname\u001b[0m\u001b[1;33m,\u001b[0m \u001b[0mlat\u001b[0m\u001b[1;33m,\u001b[0m \u001b[0mlng\u001b[0m\u001b[1;33m,\u001b[0m \u001b[0mm_num\u001b[0m  \u001b[1;32min\u001b[0m \u001b[0mzip\u001b[0m\u001b[1;33m(\u001b[0m\u001b[0mbike_real_time\u001b[0m\u001b[1;33m[\u001b[0m\u001b[1;34m'RENTALNAME'\u001b[0m\u001b[1;33m]\u001b[0m\u001b[1;33m,\u001b[0m\u001b[0mbike_real_time\u001b[0m\u001b[1;33m[\u001b[0m\u001b[1;34m'WEEDO'\u001b[0m\u001b[1;33m]\u001b[0m\u001b[1;33m,\u001b[0m\u001b[0mbike_real_time\u001b[0m\u001b[1;33m[\u001b[0m\u001b[1;34m'GYUNGDO'\u001b[0m\u001b[1;33m]\u001b[0m\u001b[1;33m,\u001b[0m\u001b[0mbike_real_time\u001b[0m\u001b[1;33m[\u001b[0m\u001b[1;34m'BIKE_COUNT'\u001b[0m\u001b[1;33m]\u001b[0m\u001b[1;33m)\u001b[0m\u001b[1;33m:\u001b[0m\u001b[1;33m\u001b[0m\u001b[1;33m\u001b[0m\u001b[0m\n\u001b[0m\u001b[0;32m      3\u001b[0m         Marker(location =[lat,lng],\n\u001b[0;32m      4\u001b[0m                \u001b[0mpopup\u001b[0m\u001b[1;33m=\u001b[0m\u001b[0mm_num\u001b[0m\u001b[1;33m,\u001b[0m\u001b[1;33m\u001b[0m\u001b[1;33m\u001b[0m\u001b[0m\n\u001b[0;32m      5\u001b[0m                \u001b[0mtooltip\u001b[0m\u001b[1;33m=\u001b[0m\u001b[0mname\u001b[0m\u001b[1;33m,\u001b[0m\u001b[1;33m\u001b[0m\u001b[1;33m\u001b[0m\u001b[0m\n",
      "\u001b[1;31mNameError\u001b[0m: name 'bike_real_time' is not defined"
     ]
    }
   ],
   "source": [
    "hdisplay = display.display(\"\", display_id=True)\n",
    "is_first = True\n",
    "for f in range(3):\n",
    "\n",
    "    load_data()\n",
    "    plt_update()\n",
    "    \n",
    "    if is_first == True:\n",
    "        is_first = False\n",
    "    else :\n",
    "        time.sleep(20)\n",
    "        \n",
    "    hdisplay.update(bike_map)"
   ]
  },
  {
   "cell_type": "code",
   "execution_count": null,
   "id": "304e88a3",
   "metadata": {},
   "outputs": [],
   "source": []
  },
  {
   "cell_type": "code",
   "execution_count": null,
   "id": "c8ab4022",
   "metadata": {},
   "outputs": [],
   "source": []
  }
 ],
 "metadata": {
  "kernelspec": {
   "display_name": "Python 3 (ipykernel)",
   "language": "python",
   "name": "python3"
  },
  "language_info": {
   "codemirror_mode": {
    "name": "ipython",
    "version": 3
   },
   "file_extension": ".py",
   "mimetype": "text/x-python",
   "name": "python",
   "nbconvert_exporter": "python",
   "pygments_lexer": "ipython3",
   "version": "3.9.13"
  }
 },
 "nbformat": 4,
 "nbformat_minor": 5
}
