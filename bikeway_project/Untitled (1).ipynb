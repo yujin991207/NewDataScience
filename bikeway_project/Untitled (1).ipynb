{
 "cells": [
  {
   "cell_type": "code",
   "execution_count": 1,
   "id": "6fadec48",
   "metadata": {},
   "outputs": [],
   "source": [
    "import pandas as pd\n",
    "import numpy as np\n",
    "\n",
    "from sklearn.feature_extraction.text import CountVectorizer  # 피체 벡터화\n",
    "from sklearn.metrics.pairwise import cosine_similarity  # 코사인 유사도\n",
    "\n",
    "from selenium import webdriver\n",
    "from selenium.webdriver.common.keys import Keys\n",
    "from selenium.webdriver.support.ui import WebDriverWait\n",
    "from selenium.webdriver.support import expected_conditions as EC\n",
    "from selenium.common.exceptions import TimeoutException\n",
    "from selenium.common.exceptions import NoSuchElementException\n",
    "from selenium.webdriver.common.by import By\n",
    "from selenium.webdriver.support.ui import Select\n",
    "import time"
   ]
  },
  {
   "cell_type": "code",
   "execution_count": 2,
   "id": "b491983e",
   "metadata": {},
   "outputs": [],
   "source": [
    "'''\n",
    "데이터 파일 로드\n",
    "'''\n",
    "Gyeonggi = pd.read_csv('소상공인시장진흥공단_상가(상권)정보_경기_202206.CSV',encoding='utf-8')\n",
    "Seoul = pd.read_csv('소상공인시장진흥공단_상가(상권)정보_서울_202206.csv',encoding='utf-8')\n",
    "incheon = pd.read_csv('소상공인시장진흥공단_상가(상권)정보_인천_202206.csv',encoding='utf-8')"
   ]
  },
  {
   "cell_type": "code",
   "execution_count": 3,
   "id": "cc137e1c",
   "metadata": {},
   "outputs": [],
   "source": [
    "'''\n",
    "서울, 경기, 인천 음식점\n",
    "1. 음식점만 남겨두고 제거\n",
    "2. 필요한 열을 제외하고 삭제\n",
    "3. 열의 순서를 다시부여\n",
    "'''\n",
    "\n",
    "Gyeonggi_food = Gyeonggi.copy()\n",
    "Seoul_food = Seoul.copy()\n",
    "incheon_food = incheon.copy()\n",
    "################################################################################################################\n",
    "# 경기도 \n",
    "Gyeonggi_food.drop(Gyeonggi_food[Gyeonggi_food['상권업종대분류명'] != \"음식\"].index, inplace=True)\n",
    "Gyeonggi_food.drop(Gyeonggi_food[Gyeonggi_food['상권업종중분류명'] == '제과제빵떡케익'].index, inplace=True)\n",
    "Gyeonggi_food.drop(Gyeonggi_food[Gyeonggi_food['상권업종중분류명'] == '음식배달서비스'].index, inplace=True)\n",
    "Gyeonggi_food.drop(Gyeonggi_food[Gyeonggi_food['상권업종중분류명'] == '유흥주점'].index, inplace=True)\n",
    "Gyeonggi_food.drop(Gyeonggi_food[Gyeonggi_food['상권업종중분류명'] == '커피점/카페'].index, inplace=True)\n",
    "\n",
    "Gyeonggi_food = Gyeonggi_food[['상호명', '상권업종중분류명',\n",
    "                                '상권업종소분류명','도로명','경도', '위도']]\n",
    "\n",
    "Gyeonggi_food.reset_index(inplace=True)\n",
    "Gyeonggi_food.drop(['index'],axis=1,inplace=True)\n",
    "################################################################################################################\n",
    "#서울\n",
    "Seoul_food.drop(Seoul_food[Seoul_food['상권업종대분류명'] != \"음식\"].index, inplace=True)\n",
    "Seoul_food.drop(Seoul_food[Seoul_food['상권업종중분류명'] == '제과제빵떡케익'].index, inplace=True)\n",
    "Seoul_food.drop(Seoul_food[Seoul_food['상권업종중분류명'] == '음식배달서비스'].index, inplace=True)\n",
    "Seoul_food.drop(Seoul_food[Seoul_food['상권업종중분류명'] == '유흥주점'].index, inplace=True)\n",
    "Seoul_food.drop(Seoul_food[Seoul_food['상권업종중분류명'] == '커피점/카페'].index, inplace=True)\n",
    "\n",
    "Seoul_food = Seoul_food[['상호명', '상권업종중분류명',\n",
    "                                '상권업종소분류명','도로명','경도', '위도']]\n",
    "\n",
    "Seoul_food.reset_index(inplace=True)\n",
    "Seoul_food.drop(['index'],axis=1,inplace=True)\n",
    "################################################################################################################\n",
    "#인천\n",
    "incheon_food.drop(incheon_food[incheon_food['상권업종대분류명'] != \"음식\"].index, inplace=True)\n",
    "incheon_food.drop(incheon_food[incheon_food['상권업종중분류명'] == '제과제빵떡케익'].index, inplace=True)\n",
    "incheon_food.drop(incheon_food[incheon_food['상권업종중분류명'] == '음식배달서비스'].index, inplace=True)\n",
    "incheon_food.drop(incheon_food[incheon_food['상권업종중분류명'] == '유흥주점'].index, inplace=True)\n",
    "incheon_food.drop(incheon_food[incheon_food['상권업종중분류명'] == '커피점/카페'].index, inplace=True)\n",
    "\n",
    "incheon_food = incheon_food[['상호명', '상권업종중분류명',\n",
    "                                '상권업종소분류명','도로명','경도', '위도']]\n",
    "\n",
    "incheon_food.reset_index(inplace=True)\n",
    "incheon_food.drop(['index'],axis=1,inplace=True)\n",
    "################################################################################################################"
   ]
  },
  {
   "cell_type": "code",
   "execution_count": 4,
   "id": "e525e9e5",
   "metadata": {
    "scrolled": false
   },
   "outputs": [
    {
     "data": {
      "text/html": [
       "<div>\n",
       "<style scoped>\n",
       "    .dataframe tbody tr th:only-of-type {\n",
       "        vertical-align: middle;\n",
       "    }\n",
       "\n",
       "    .dataframe tbody tr th {\n",
       "        vertical-align: top;\n",
       "    }\n",
       "\n",
       "    .dataframe thead th {\n",
       "        text-align: right;\n",
       "    }\n",
       "</style>\n",
       "<table border=\"1\" class=\"dataframe\">\n",
       "  <thead>\n",
       "    <tr style=\"text-align: right;\">\n",
       "      <th></th>\n",
       "      <th>상호명</th>\n",
       "      <th>상권업종중분류명</th>\n",
       "      <th>상권업종소분류명</th>\n",
       "      <th>도로명</th>\n",
       "      <th>경도</th>\n",
       "      <th>위도</th>\n",
       "    </tr>\n",
       "  </thead>\n",
       "  <tbody>\n",
       "    <tr>\n",
       "      <th>0</th>\n",
       "      <td>큰손의정부부대찌개</td>\n",
       "      <td>한식</td>\n",
       "      <td>부대찌개/섞어찌개</td>\n",
       "      <td>경기도 김포시 감정로</td>\n",
       "      <td>126.699974</td>\n",
       "      <td>37.620590</td>\n",
       "    </tr>\n",
       "    <tr>\n",
       "      <th>1</th>\n",
       "      <td>앞족애</td>\n",
       "      <td>한식</td>\n",
       "      <td>한식/백반/한정식</td>\n",
       "      <td>경기도 의정부시 둔야로</td>\n",
       "      <td>127.039861</td>\n",
       "      <td>37.739330</td>\n",
       "    </tr>\n",
       "    <tr>\n",
       "      <th>2</th>\n",
       "      <td>스푼</td>\n",
       "      <td>한식</td>\n",
       "      <td>한식/백반/한정식</td>\n",
       "      <td>경기도 파주시 정담길</td>\n",
       "      <td>126.773696</td>\n",
       "      <td>37.770514</td>\n",
       "    </tr>\n",
       "    <tr>\n",
       "      <th>3</th>\n",
       "      <td>동해안</td>\n",
       "      <td>한식</td>\n",
       "      <td>한식/백반/한정식</td>\n",
       "      <td>경기도 파주시 마무리길</td>\n",
       "      <td>126.778020</td>\n",
       "      <td>37.760224</td>\n",
       "    </tr>\n",
       "    <tr>\n",
       "      <th>4</th>\n",
       "      <td>독도해물알찜</td>\n",
       "      <td>한식</td>\n",
       "      <td>한식/백반/한정식</td>\n",
       "      <td>경기도 평택시 비전5로</td>\n",
       "      <td>127.114789</td>\n",
       "      <td>37.000418</td>\n",
       "    </tr>\n",
       "    <tr>\n",
       "      <th>...</th>\n",
       "      <td>...</td>\n",
       "      <td>...</td>\n",
       "      <td>...</td>\n",
       "      <td>...</td>\n",
       "      <td>...</td>\n",
       "      <td>...</td>\n",
       "    </tr>\n",
       "    <tr>\n",
       "      <th>126374</th>\n",
       "      <td>스시마아토</td>\n",
       "      <td>일식/수산물</td>\n",
       "      <td>음식점-초밥전문</td>\n",
       "      <td>경기도 가평군 가평읍 장터2길</td>\n",
       "      <td>127.515182</td>\n",
       "      <td>37.829716</td>\n",
       "    </tr>\n",
       "    <tr>\n",
       "      <th>126375</th>\n",
       "      <td>인간화로구이</td>\n",
       "      <td>중식</td>\n",
       "      <td>중국음식/중국집</td>\n",
       "      <td>경기도 안산시 단원구 원본로</td>\n",
       "      <td>126.794185</td>\n",
       "      <td>37.329987</td>\n",
       "    </tr>\n",
       "    <tr>\n",
       "      <th>126376</th>\n",
       "      <td>김종구부산어묵</td>\n",
       "      <td>분식</td>\n",
       "      <td>라면김밥분식</td>\n",
       "      <td>경기도 고양시 일산동구 숲속마을1로</td>\n",
       "      <td>126.799709</td>\n",
       "      <td>37.667310</td>\n",
       "    </tr>\n",
       "    <tr>\n",
       "      <th>126377</th>\n",
       "      <td>김서영완도맛집</td>\n",
       "      <td>한식</td>\n",
       "      <td>한식/백반/한정식</td>\n",
       "      <td>경기도 파주시 탄현면 검산로</td>\n",
       "      <td>126.738417</td>\n",
       "      <td>37.804703</td>\n",
       "    </tr>\n",
       "    <tr>\n",
       "      <th>126378</th>\n",
       "      <td>전자방</td>\n",
       "      <td>중식</td>\n",
       "      <td>중국음식/중국집</td>\n",
       "      <td>경기도 화성시 동탄대로5길</td>\n",
       "      <td>127.105041</td>\n",
       "      <td>37.166548</td>\n",
       "    </tr>\n",
       "  </tbody>\n",
       "</table>\n",
       "<p>126379 rows × 6 columns</p>\n",
       "</div>"
      ],
      "text/plain": [
       "              상호명 상권업종중분류명   상권업종소분류명                  도로명          경도  \\\n",
       "0       큰손의정부부대찌개       한식  부대찌개/섞어찌개          경기도 김포시 감정로  126.699974   \n",
       "1             앞족애       한식  한식/백반/한정식         경기도 의정부시 둔야로  127.039861   \n",
       "2              스푼       한식  한식/백반/한정식          경기도 파주시 정담길  126.773696   \n",
       "3             동해안       한식  한식/백반/한정식         경기도 파주시 마무리길  126.778020   \n",
       "4          독도해물알찜       한식  한식/백반/한정식         경기도 평택시 비전5로  127.114789   \n",
       "...           ...      ...        ...                  ...         ...   \n",
       "126374      스시마아토   일식/수산물   음식점-초밥전문     경기도 가평군 가평읍 장터2길  127.515182   \n",
       "126375     인간화로구이       중식   중국음식/중국집      경기도 안산시 단원구 원본로  126.794185   \n",
       "126376    김종구부산어묵       분식     라면김밥분식  경기도 고양시 일산동구 숲속마을1로  126.799709   \n",
       "126377    김서영완도맛집       한식  한식/백반/한정식      경기도 파주시 탄현면 검산로  126.738417   \n",
       "126378        전자방       중식   중국음식/중국집       경기도 화성시 동탄대로5길  127.105041   \n",
       "\n",
       "               위도  \n",
       "0       37.620590  \n",
       "1       37.739330  \n",
       "2       37.770514  \n",
       "3       37.760224  \n",
       "4       37.000418  \n",
       "...           ...  \n",
       "126374  37.829716  \n",
       "126375  37.329987  \n",
       "126376  37.667310  \n",
       "126377  37.804703  \n",
       "126378  37.166548  \n",
       "\n",
       "[126379 rows x 6 columns]"
      ]
     },
     "execution_count": 4,
     "metadata": {},
     "output_type": "execute_result"
    }
   ],
   "source": [
    "Gyeonggi_food"
   ]
  },
  {
   "cell_type": "code",
   "execution_count": 9,
   "id": "e4365c8e",
   "metadata": {},
   "outputs": [],
   "source": [
    "# Gyeongi_food2 = Gyeonggi_food\n",
    "# Gyeongi_food2['naver_keyword2'] = \"\""
   ]
  },
  {
   "cell_type": "code",
   "execution_count": 8,
   "id": "3db10e37",
   "metadata": {},
   "outputs": [],
   "source": [
    "# Gyeongi_food2['naver_keyword2'] = Gyeonggi_food['naver_keyword'].str.replace(\" \",\"%20\")"
   ]
  },
  {
   "cell_type": "code",
   "execution_count": null,
   "id": "c4142664",
   "metadata": {},
   "outputs": [],
   "source": []
  },
  {
   "cell_type": "code",
   "execution_count": 10,
   "id": "efdb21e6",
   "metadata": {
    "scrolled": true
   },
   "outputs": [],
   "source": [
    "# Gyeonggi_food2.head()"
   ]
  },
  {
   "cell_type": "code",
   "execution_count": 11,
   "id": "5924033f",
   "metadata": {
    "scrolled": true
   },
   "outputs": [],
   "source": [
    "# print('https://map.naver.com/v5/search/'+Gyeonggi_food2['naver_keyword2'])"
   ]
  },
  {
   "cell_type": "code",
   "execution_count": 12,
   "id": "38aa04c0",
   "metadata": {},
   "outputs": [],
   "source": [
    "# list=[]\n",
    "# for i in range(len(Gyeonggi_food2)):\n",
    "#     link='https://map.naver.com/v5/search/'\n",
    "#     link+=Gyeonggi_food2['naver_keyword2'][i]\n",
    "#     list.append(link)"
   ]
  },
  {
   "cell_type": "code",
   "execution_count": 13,
   "id": "7c7c56f3",
   "metadata": {},
   "outputs": [],
   "source": [
    "# list"
   ]
  },
  {
   "cell_type": "code",
   "execution_count": 14,
   "id": "9c91d3de",
   "metadata": {},
   "outputs": [],
   "source": [
    "# Gyeonggi_food2['naver_map_url'] = list"
   ]
  },
  {
   "cell_type": "code",
   "execution_count": 15,
   "id": "ba0d106f",
   "metadata": {},
   "outputs": [],
   "source": [
    "# Gyeonggi_food2"
   ]
  },
  {
   "cell_type": "code",
   "execution_count": 16,
   "id": "d76e546b",
   "metadata": {},
   "outputs": [],
   "source": [
    "Gyeonggi_food['naver_keyword'] = Gyeonggi_food['상호명'] + \"%20\" + Gyeonggi_food['도로명']  # \"%20\"는 띄어쓰기를 의미합니다.\n",
    "Gyeonggi_food['naver_map_url'] = ''\n",
    "Gyeonggi_food['store_open'] = ''"
   ]
  },
  {
   "cell_type": "code",
   "execution_count": 17,
   "id": "d9041d59",
   "metadata": {
    "scrolled": true
   },
   "outputs": [
    {
     "name": "stderr",
     "output_type": "stream",
     "text": [
      "C:\\Users\\TJ\\AppData\\Local\\Temp\\ipykernel_9108\\990080391.py:2: DeprecationWarning: executable_path has been deprecated, please pass in a Service object\n",
      "  driver = webdriver.Chrome(chromedriver)\n"
     ]
    }
   ],
   "source": [
    "chromedriver = '\\\\Program Files\\\\Google\\\\Chrome\\\\Application\\\\chrome.exe' # 셀레늄이 이용할 크롤링 드라이버 디렉토리를 입력\n",
    "driver = webdriver.Chrome(chromedriver)"
   ]
  },
  {
   "cell_type": "code",
   "execution_count": 18,
   "id": "8ce88cc1",
   "metadata": {
    "scrolled": true
   },
   "outputs": [
    {
     "name": "stdout",
     "output_type": "stream",
     "text": [
      "이번에 찾을 키워드 : 0 / 126378 행 큰손의정부부대찌개%20경기도 김포시 감정로\n"
     ]
    },
    {
     "ename": "KeyboardInterrupt",
     "evalue": "",
     "output_type": "error",
     "traceback": [
      "\u001b[1;31m---------------------------------------------------------------------------\u001b[0m",
      "\u001b[1;31mKeyboardInterrupt\u001b[0m                         Traceback (most recent call last)",
      "\u001b[1;32m~\\AppData\\Local\\Temp\\ipykernel_9108\\1045079442.py\u001b[0m in \u001b[0;36m<module>\u001b[1;34m\u001b[0m\n\u001b[0;32m     12\u001b[0m \u001b[1;31m#             Gyeonggi_food['store_open'] = 'O'\u001b[0m\u001b[1;33m\u001b[0m\u001b[1;33m\u001b[0m\u001b[0m\n\u001b[0;32m     13\u001b[0m \u001b[1;33m\u001b[0m\u001b[0m\n\u001b[1;32m---> 14\u001b[1;33m         \u001b[0mtime\u001b[0m\u001b[1;33m.\u001b[0m\u001b[0msleep\u001b[0m\u001b[1;33m(\u001b[0m\u001b[1;36m5\u001b[0m\u001b[1;33m)\u001b[0m\u001b[1;33m\u001b[0m\u001b[1;33m\u001b[0m\u001b[0m\n\u001b[0m\u001b[0;32m     15\u001b[0m         \u001b[0mGyeonggi_food\u001b[0m\u001b[1;33m.\u001b[0m\u001b[0miloc\u001b[0m\u001b[1;33m[\u001b[0m\u001b[0mi\u001b[0m\u001b[1;33m,\u001b[0m\u001b[1;33m-\u001b[0m\u001b[1;36m1\u001b[0m\u001b[1;33m]\u001b[0m \u001b[1;33m=\u001b[0m \u001b[0mdriver\u001b[0m\u001b[1;33m.\u001b[0m\u001b[0mfind_element_by_class_name\u001b[0m\u001b[1;33m(\u001b[0m\u001b[1;34m\"Gyeonggi_food\"\u001b[0m\u001b[1;33m)\u001b[0m\u001b[1;33m\u001b[0m\u001b[1;33m\u001b[0m\u001b[0m\n\u001b[0;32m     16\u001b[0m         \u001b[1;31m# 네이버 지도 시스템은 data-cid에 url 파라미터를 저장해두고 있었습니다.\u001b[0m\u001b[1;33m\u001b[0m\u001b[1;33m\u001b[0m\u001b[0m\n",
      "\u001b[1;31mKeyboardInterrupt\u001b[0m: "
     ]
    }
   ],
   "source": [
    "for i, keyword in enumerate(Gyeonggi_food['naver_keyword'].tolist()) : \n",
    "    print(\"이번에 찾을 키워드 :\", i, f\"/ {Gyeonggi_food.shape[0] -1} 행\", keyword)\n",
    "    try:\n",
    "#         naver_map_search_url = f\"https://m.map.naver.com/search2/search.naver?query={keyword}&sm=hty&style=v5\"\n",
    "        naver_map_search_url = f\"https://map.naver.com/v5/search/{keyword}\"\n",
    "        driver.get(naver_map_search_url)\n",
    "        \n",
    "        # keyword로 검색해서 만약 업체가 없다면?\n",
    "#         if == '조건에 맞는 업체가 없습니다.' :\n",
    "#             Gyeonggi_food['store_open'] = 'X'\n",
    "#         else :\n",
    "#             Gyeonggi_food['store_open'] = 'O'\n",
    "        \n",
    "        time.sleep(5)\n",
    "        Gyeonggi_food.iloc[i,-1] = driver.find_element_by_class_name(\"Gyeonggi_food\")\n",
    "        # 네이버 지도 시스템은 data-cid에 url 파라미터를 저장해두고 있었습니다.\n",
    "        # data-cid 번호를 뽑아두었다가 기본 url 템플릿에 넣어 최종적인 url을 완성하면 됩니다.\n",
    "        \n",
    "        #만약 검색 결과가 없다면?\n",
    "    except Exception as e1:\n",
    "        if \"li:nth-child(1)\" in str(e1):  # -> \"child(1)이 없던데요?\"\n",
    "            try:\n",
    "                df.iloc[i,-1] = driver.find_element_by_css_selector(\"#ct > div.search_listview._content._ctList > ul > li:nth-child(1) > div.item_info > a.a_item.a_item_distance._linkSiteview\").get_attribute('data-cid')\n",
    "                time.sleep(1)\n",
    "            except Exception as e2:\n",
    "                print(e2)\n",
    "                df.iloc[i,-1] = np.nan\n",
    "                time.sleep(1)\n",
    "        else:\n",
    "            pass\n",
    "\n",
    "\n",
    "driver.quit()"
   ]
  },
  {
   "cell_type": "code",
   "execution_count": 19,
   "id": "776013f0",
   "metadata": {},
   "outputs": [],
   "source": [
    "Gyeonggi_food['map_star_review'] = \"\"\n",
    "Gyeonggi_food['image'] = \"\""
   ]
  },
  {
   "cell_type": "raw",
   "id": "f61979e7",
   "metadata": {},
   "source": [
    " star = naver_driver.find_element(By.CLASS_NAME,'PXMot.LXIwF').text\n",
    "        print(별)\n",
    "        \n",
    "#         naver_html = urllib.request.urlopen(naver_map_url)\n",
    "#         naver_soup = BeautifulSoup(naver_html, 'html.parser')\n",
    "#         naver_driver.implicitly_wait(3)\n",
    "        \n",
    "#        time.sleep(300)\n",
    "        \n",
    "#         print(review)\n",
    "        print('\\n'*3)\n"
   ]
  },
  {
   "cell_type": "code",
   "execution_count": 99,
   "id": "8cf24756",
   "metadata": {
    "scrolled": true
   },
   "outputs": [],
   "source": [
    "# for i, keyword in enumerate(Gyeonggi_food['naver_keyword'].tolist()) : \n",
    "#     print(\"이번에 찾을 키워드 :\", i, f\"/ {Gyeonggi_food.shape[0] -1} 행\",keyword)\n",
    "# #     print(url)\n",
    "# #     driver.get(url)\n",
    "# #     time.sleep(20)\n",
    "    \n",
    "#     try:\n",
    "#              naver_map_url = f\"https://map.naver.com/v5/search/{keyword}\"\n",
    "            \n",
    "#              naver_driver.get(naver_map_url)\n",
    "#              naver_driver.implicitly_wait(15)\n",
    "\n",
    "#              naver_driver.switch_to.frame('entryIframe')\n",
    "#              naver_driver.implicitly_wait(10)\n",
    "\n",
    "#              time.sleep(5)\n",
    "\n",
    "#              star = naver_driver.find_element(By.CLASS_NAME,'PXMot.LXIwF').text\n",
    "#              print(star)\n",
    "\n",
    "# #     try:\n",
    "# #         # 별점불러오기\n",
    "# #         map_star_review = driver.find_element_by_css_selector(\"#ct > div.dAsGb > span.place_blind > em\").text\n",
    "# # #         map_star_review_list.append(map_star_review)\n",
    "    \n",
    "#     except Exception as e1:\n",
    "#         pass\n",
    "        \n",
    "    \n",
    "    \n",
    "# driver.quit()"
   ]
  },
  {
   "cell_type": "code",
   "execution_count": 34,
   "id": "7b179603",
   "metadata": {
    "scrolled": false
   },
   "outputs": [
    {
     "name": "stderr",
     "output_type": "stream",
     "text": [
      "C:\\Users\\TJ\\AppData\\Local\\Temp\\ipykernel_9108\\990080391.py:2: DeprecationWarning: executable_path has been deprecated, please pass in a Service object\n",
      "  driver = webdriver.Chrome(chromedriver)\n"
     ]
    }
   ],
   "source": [
    "chromedriver = '\\\\Program Files\\\\Google\\\\Chrome\\\\Application\\\\chrome.exe' # 셀레늄이 이용할 크롤링 드라이버 디렉토리를 입력\n",
    "driver = webdriver.Chrome(chromedriver)"
   ]
  },
  {
   "cell_type": "code",
   "execution_count": 33,
   "id": "41d8f410",
   "metadata": {},
   "outputs": [],
   "source": [
    "map_star_review_list = []\n",
    "Gyeonggi_food_image_list = []\n",
    "no_food_store_list = []\n",
    "\n",
    "no_star = \"X\"\n",
    "no_image = \"X\""
   ]
  },
  {
   "cell_type": "code",
   "execution_count": 35,
   "id": "57851003",
   "metadata": {
    "scrolled": false
   },
   "outputs": [
    {
     "ename": "KeyboardInterrupt",
     "evalue": "",
     "output_type": "error",
     "traceback": [
      "\u001b[1;31m---------------------------------------------------------------------------\u001b[0m",
      "\u001b[1;31mKeyboardInterrupt\u001b[0m                         Traceback (most recent call last)",
      "\u001b[1;32m~\\AppData\\Local\\Temp\\ipykernel_9108\\3862534063.py\u001b[0m in \u001b[0;36m<module>\u001b[1;34m\u001b[0m\n\u001b[0;32m     15\u001b[0m         \u001b[0mdriver\u001b[0m\u001b[1;33m.\u001b[0m\u001b[0mimplicitly_wait\u001b[0m\u001b[1;33m(\u001b[0m\u001b[1;36m5\u001b[0m\u001b[1;33m)\u001b[0m\u001b[1;33m\u001b[0m\u001b[1;33m\u001b[0m\u001b[0m\n\u001b[0;32m     16\u001b[0m \u001b[1;33m\u001b[0m\u001b[0m\n\u001b[1;32m---> 17\u001b[1;33m         \u001b[0mtime\u001b[0m\u001b[1;33m.\u001b[0m\u001b[0msleep\u001b[0m\u001b[1;33m(\u001b[0m\u001b[1;36m5\u001b[0m\u001b[1;33m)\u001b[0m\u001b[1;33m\u001b[0m\u001b[1;33m\u001b[0m\u001b[0m\n\u001b[0m\u001b[0;32m     18\u001b[0m \u001b[1;33m\u001b[0m\u001b[0m\n\u001b[0;32m     19\u001b[0m         \u001b[0mstar\u001b[0m \u001b[1;33m=\u001b[0m \u001b[0mdriver\u001b[0m\u001b[1;33m.\u001b[0m\u001b[0mfind_element\u001b[0m\u001b[1;33m(\u001b[0m\u001b[0mBy\u001b[0m\u001b[1;33m.\u001b[0m\u001b[0mCLASS_NAME\u001b[0m\u001b[1;33m,\u001b[0m\u001b[1;34m'PXMot.LXIwF'\u001b[0m\u001b[1;33m)\u001b[0m\u001b[1;33m.\u001b[0m\u001b[0mtext\u001b[0m\u001b[1;33m\u001b[0m\u001b[1;33m\u001b[0m\u001b[0m\n",
      "\u001b[1;31mKeyboardInterrupt\u001b[0m: "
     ]
    }
   ],
   "source": [
    "for i, keyword in enumerate(Gyeonggi_food['naver_keyword'].tolist()):\n",
    "    #print(\"이번에 찾을 키워드 :\", i, f\"/ {Gyeonggi_food.shape[0] -1} 행\", keyword)\n",
    "    \n",
    "    try:\n",
    "#         naver_map_url = f\"https://map.naver.com/v5/search/{parse.quote(keyword)}\"\n",
    "        naver_map_url = f\"https://map.naver.com/v5/search/{keyword}\"\n",
    "#         naver_mqp_url = 'https://map.naver.com/v5/search/%EC%A0%9C%EC%A3%BC%EB%8F%84%20%EC%9D%B8%ED%84%B0%ED%8C%8C%ED%81%AC%EB%A0%8C%ED%8A%B8%EC%B9%B4/place/1058167611?c=14082020.2873345,3962314.0822643,15,0,0,0,dh&isCorrectAnswer=true'\n",
    "       \n",
    "#         https://map.naver.com/v5/search/%EC%A0%9C%EC%A3%BC%EB%8F%84%20%EC%9D%B8%ED%84%B0%ED%8C%8C%ED%81%AC%EB%A0%8C%ED%8A%B8%EC%B9%B4/place/1058167611?c=14082020.2873345,3962314.0822643,15,0,0,0,dh&isCorrectAnswer=true\n",
    "        \n",
    "        driver.get(naver_map_url)\n",
    "        driver.implicitly_wait(5)\n",
    "        \n",
    "        driver.switch_to.frame('entryIframe')\n",
    "        driver.implicitly_wait(5)\n",
    "        \n",
    "        time.sleep(5)\n",
    "        \n",
    "        star = driver.find_element(By.CLASS_NAME,'PXMot.LXIwF').text\n",
    "        star_point= star[star.find('\\n')+1:star.find('/')]\n",
    "        map_star_review_list.append(star_point)\n",
    "        print(star_point)\n",
    "        #print(map_star_review_list)\n",
    "        \n",
    "        #image = driver.find_element(By.CLASS_NAME,'K0PDV _div')[1].text\n",
    "        #Gyeonggi_food_image_list.append(image)\n",
    "        \n",
    "#         naver_html = urllib.request.urlopen(naver_map_url)\n",
    "#         naver_soup = BeautifulSoup(naver_html, 'html.parser')\n",
    "#         naver_driver.implicitly_wait(3)\n",
    "        \n",
    "#        time.sleep(300)\n",
    "        \n",
    "#         print(review)\n",
    "        #print('\\n'*3)\n",
    "            \n",
    "        \n",
    "    except Exception as e1:\n",
    "        map_star_review_list.append(no_star)\n",
    "        #Gyeonggi_food_image_list.append(no_image)\n",
    "\n",
    "    \n",
    "    \n",
    "driver.quit()\n",
    "\n",
    "# naver_df['naver_map_url'] = \"https://map.naver.com/v5/search/\"+naver_df['naver_keyword']\n",
    "\n",
    "# naver_df = naver_df.loc[~naver_df['naver_map_url'].isnull()]"
   ]
  },
  {
   "cell_type": "code",
   "execution_count": null,
   "id": "dd38afd8",
   "metadata": {},
   "outputs": [],
   "source": []
  },
  {
   "cell_type": "code",
   "execution_count": 29,
   "id": "791e6b63",
   "metadata": {},
   "outputs": [],
   "source": [
    "#Gyeonggi_food['map_star_review'] = map_star_review_list"
   ]
  }
 ],
 "metadata": {
  "kernelspec": {
   "display_name": "Python 3 (ipykernel)",
   "language": "python",
   "name": "python3"
  },
  "language_info": {
   "codemirror_mode": {
    "name": "ipython",
    "version": 3
   },
   "file_extension": ".py",
   "mimetype": "text/x-python",
   "name": "python",
   "nbconvert_exporter": "python",
   "pygments_lexer": "ipython3",
   "version": "3.9.13"
  }
 },
 "nbformat": 4,
 "nbformat_minor": 5
}
