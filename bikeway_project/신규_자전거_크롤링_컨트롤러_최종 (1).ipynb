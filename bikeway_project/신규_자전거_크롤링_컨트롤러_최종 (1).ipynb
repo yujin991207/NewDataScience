{
 "cells": [
  {
   "cell_type": "code",
   "execution_count": 10,
   "id": "e945c591",
   "metadata": {},
   "outputs": [],
   "source": [
    "from selenium import webdriver\n",
    "from selenium.webdriver.common.by import By\n",
    "from selenium.webdriver.chrome.options import Options\n",
    "from selenium.webdriver.chrome.service import Service\n",
    "from webdriver_manager.chrome import ChromeDriverManager\n",
    "import time\n",
    "from bs4 import BeautifulSoup\n",
    "import requests\n",
    "import pandas as pd\n",
    "from selenium.webdriver.common.keys import Keys\n",
    "from selenium.webdriver.support import expected_conditions\n",
    "from selenium.webdriver.support.ui import WebDriverWait\n",
    "import threading\n",
    "import time\n",
    "import requests\n",
    "import json\n",
    "import pandas as pd\n",
    "import cx_Oracle\n",
    "from datetime import datetime"
   ]
  },
  {
   "cell_type": "code",
   "execution_count": 11,
   "id": "3a368cb3",
   "metadata": {},
   "outputs": [],
   "source": [
    "def new_goods_scraping_to_df():\n",
    "    url = 'https://search.danawa.com/dsearch.php?query=%EC%9E%90%EC%A0%84%EA%B1%B0'\n",
    "    \n",
    "    browser = webdriver.Chrome()\n",
    "    browser.implicitly_wait(time_to_wait=10)\n",
    "    browser.get(url)\n",
    "    \n",
    "    WebDriverWait(browser,10).until(expected_conditions.visibility_of_element_located((By.CLASS_NAME ,\"prod_info\")))\n",
    "    \n",
    "    html = browser.page_source\n",
    "    html_parser = BeautifulSoup(html,features=\"html.parser\")\n",
    "    \n",
    "    ####### 이름\n",
    "    bike_name = html_parser.select(\"a.click_log_product_standard_title_\")\n",
    "    name_list = []\n",
    "\n",
    "    for i in bike_name: \n",
    "        name = i.get_text()\n",
    "        name_list.append(name)\n",
    "    \n",
    "    ###### 하이퍼링크\n",
    "    bike_href = html_parser.select(\"a.click_log_product_standard_title_\")\n",
    "    href_list = []\n",
    "\n",
    "    for i in bike_href: \n",
    "        href = i.attrs['href']\n",
    "        href_list.append(href)\n",
    "        \n",
    "    ###### 이미지\n",
    "    bike_img = html_parser.select(\"div.thumb_image a img\")\n",
    "    img_list = []\n",
    "    for i in bike_img:\n",
    "        try:\n",
    "            img_list.append(i.attrs[\"data-src\"])\n",
    "        except KeyError:\n",
    "            img_list.append(i.attrs[\"src\"])\n",
    "            \n",
    "    img_list2 = []\n",
    "    for img in img_list:\n",
    "        if img != '//img.danawa.com/new/noData/img/noImg_160.gif':\n",
    "            img_list2.append(img)\n",
    "            \n",
    "    ##### 가격\n",
    "    bike_price2 = html_parser.select(\"li.rank_one strong\")\n",
    "    price_list = []\n",
    "\n",
    "    for price in bike_price2:\n",
    "          price= price.get_text() \n",
    "          price_list.append(price)\n",
    "        \n",
    "    price_list2 = []\n",
    "\n",
    "    for price in price_list:\n",
    "        if price != '상품비교':\n",
    "            price_list2.append(price)\n",
    "            \n",
    "    price_list3 = []\n",
    "    for price in price_list2:\n",
    "        if price[1] == ',' or price[3] == ',':\n",
    "            price_list3.append(price)\n",
    "            \n",
    "    \n",
    "    new_bike_df = pd.DataFrame({'상품이름' : name_list,\n",
    "                            '상품이미지' : img_list2,\n",
    "                            '상품링크' : href_list,\n",
    "                            '상품가격' : price_list3\n",
    "                           })\n",
    "    return new_bike_df"
   ]
  },
  {
   "cell_type": "code",
   "execution_count": 12,
   "id": "a53db2ca",
   "metadata": {
    "scrolled": true
   },
   "outputs": [],
   "source": [
    "df = new_goods_scraping_to_df()"
   ]
  },
  {
   "cell_type": "code",
   "execution_count": 13,
   "id": "40da3312",
   "metadata": {},
   "outputs": [],
   "source": [
    "df['상품가격']=df['상품가격'].str.replace(',','')\n",
    "df['상품가격']=df['상품가격'].astype('float64')"
   ]
  },
  {
   "cell_type": "code",
   "execution_count": 14,
   "id": "bedd86bb",
   "metadata": {},
   "outputs": [
    {
     "data": {
      "text/html": [
       "<div>\n",
       "<style scoped>\n",
       "    .dataframe tbody tr th:only-of-type {\n",
       "        vertical-align: middle;\n",
       "    }\n",
       "\n",
       "    .dataframe tbody tr th {\n",
       "        vertical-align: top;\n",
       "    }\n",
       "\n",
       "    .dataframe thead th {\n",
       "        text-align: right;\n",
       "    }\n",
       "</style>\n",
       "<table border=\"1\" class=\"dataframe\">\n",
       "  <thead>\n",
       "    <tr style=\"text-align: right;\">\n",
       "      <th></th>\n",
       "      <th>상품이름</th>\n",
       "      <th>상품이미지</th>\n",
       "      <th>상품링크</th>\n",
       "      <th>상품가격</th>\n",
       "    </tr>\n",
       "  </thead>\n",
       "  <tbody>\n",
       "    <tr>\n",
       "      <th>0</th>\n",
       "      <td>랑케레이시 PANDA 해외구매</td>\n",
       "      <td>//img.danawa.com/prod_img/500000/465/359/img/1...</td>\n",
       "      <td>https://prod.danawa.com/info/?pcode=18359465&amp;k...</td>\n",
       "      <td>1310720.0</td>\n",
       "    </tr>\n",
       "    <tr>\n",
       "      <th>1</th>\n",
       "      <td>SUMAD 해외구매</td>\n",
       "      <td>//img.danawa.com/prod_img/500000/793/412/img/1...</td>\n",
       "      <td>https://prod.danawa.com/info/?pcode=18412793&amp;k...</td>\n",
       "      <td>294220.0</td>\n",
       "    </tr>\n",
       "  </tbody>\n",
       "</table>\n",
       "</div>"
      ],
      "text/plain": [
       "               상품이름                                              상품이미지  \\\n",
       "0  랑케레이시 PANDA 해외구매  //img.danawa.com/prod_img/500000/465/359/img/1...   \n",
       "1        SUMAD 해외구매  //img.danawa.com/prod_img/500000/793/412/img/1...   \n",
       "\n",
       "                                                상품링크       상품가격  \n",
       "0  https://prod.danawa.com/info/?pcode=18359465&k...  1310720.0  \n",
       "1  https://prod.danawa.com/info/?pcode=18412793&k...   294220.0  "
      ]
     },
     "execution_count": 14,
     "metadata": {},
     "output_type": "execute_result"
    }
   ],
   "source": [
    "df.head(2)"
   ]
  },
  {
   "cell_type": "code",
   "execution_count": 15,
   "id": "77a12d58",
   "metadata": {},
   "outputs": [
    {
     "data": {
      "text/plain": [
       "Index(['상품이름', '상품이미지', '상품링크', '상품가격'], dtype='object')"
      ]
     },
     "execution_count": 15,
     "metadata": {},
     "output_type": "execute_result"
    }
   ],
   "source": [
    "df.columns"
   ]
  },
  {
   "cell_type": "code",
   "execution_count": 16,
   "id": "b9c5f929",
   "metadata": {},
   "outputs": [],
   "source": [
    "def preprocessed_df_to_oracle(df):\n",
    "\n",
    "    con = cx_Oracle.connect('bike/12345@192.168.0.78:1521/xe')\n",
    "    cur = con.cursor()\n",
    "    sql_insert = '''\n",
    "            MERGE INTO NEW_GOODS \n",
    "        USING dual\n",
    "            ON (NAME = :상품이름)\n",
    "        WHEN NOT MATCHED THEN\n",
    "            INSERT \n",
    "            VALUES (:상품이름2,:상품이미지,:상품링크,:상품가격) \n",
    "        WHEN MATCHED THEN\n",
    "            UPDATE SET\n",
    "                PRICE=:상품가격2\n",
    "            '''\n",
    "    \n",
    "    for i in range(len(df)):\n",
    "        상품이름 = df.iloc[i]['상품이름']\n",
    "        상품이름2=상품이름\n",
    "        상품이미지 = df.iloc[i]['상품이미지']\n",
    "        상품링크 =df.iloc[i]['상품링크']\n",
    "        상품가격 = df.iloc[i]['상품가격']\n",
    "        상품가격2=상품가격\n",
    "\n",
    "\n",
    "\n",
    "\n",
    "        cur.execute(sql_insert,(상품이름,상품이름2,상품이미지,상품링크,상품가격,상품가격2))\n",
    "\n",
    "    con.commit()\n",
    "    cur.close()\n",
    "    con.close()"
   ]
  },
  {
   "cell_type": "code",
   "execution_count": 17,
   "id": "9b5c0132",
   "metadata": {},
   "outputs": [],
   "source": [
    "preprocessed_df_to_oracle(df)"
   ]
  },
  {
   "cell_type": "code",
   "execution_count": 18,
   "id": "01678a60",
   "metadata": {},
   "outputs": [],
   "source": [
    "def new_goods_collector():\n",
    "    df = new_goods_scraping_to_df()\n",
    "    preprocessed_df_to_oracle(df)"
   ]
  },
  {
   "cell_type": "code",
   "execution_count": 19,
   "id": "1486e93f",
   "metadata": {},
   "outputs": [],
   "source": [
    "def news_scheduler():\n",
    "    print('다나와 자전거 데이터 수집기 스케줄러 동작.\\n')\n",
    "    while True:\n",
    "        new_goods_collector()\n",
    "        print(\"수집완료.\")\n",
    "        time.sleep(6000) # 60분 주기로 데이터 수집\n",
    "\n",
    "def print_main_menu():\n",
    "    print('\\n1. 다나와 자전거 실시간 데이터 구축')\n",
    "    print('2. 스케줄러 종료')\n",
    "    print('* 엔터: 메뉴 업데이트\\n')"
   ]
  },
  {
   "cell_type": "code",
   "execution_count": null,
   "id": "2b9e746d",
   "metadata": {},
   "outputs": [
    {
     "name": "stdout",
     "output_type": "stream",
     "text": [
      "\n",
      "1. 다나와 자전거 실시간 데이터 구축\n",
      "2. 스케줄러 종료\n",
      "* 엔터: 메뉴 업데이트\n",
      "\n",
      "아래행에 메뉴입력: \n"
     ]
    }
   ],
   "source": [
    "while True:\n",
    "    print_main_menu()\n",
    "    print('아래행에 메뉴입력: ')\n",
    "    selection = input()\n",
    "    \n",
    "    if selection == '':\n",
    "        continue\n",
    "    else:\n",
    "        menu_num = int(selection)\n",
    "        \n",
    "    if(menu_num == 1):\n",
    "        t = threading.Thread(target=new_goods_collector, daemon=True)\n",
    "        t.start()\n",
    "    elif(menu_num == 2):\n",
    "        break\n",
    "    elif (menu_num == 0):\n",
    "        continue"
   ]
  },
  {
   "cell_type": "code",
   "execution_count": null,
   "id": "ed35f4c6",
   "metadata": {},
   "outputs": [],
   "source": []
  }
 ],
 "metadata": {
  "kernelspec": {
   "display_name": "Python 3 (ipykernel)",
   "language": "python",
   "name": "python3"
  },
  "language_info": {
   "codemirror_mode": {
    "name": "ipython",
    "version": 3
   },
   "file_extension": ".py",
   "mimetype": "text/x-python",
   "name": "python",
   "nbconvert_exporter": "python",
   "pygments_lexer": "ipython3",
   "version": "3.10.5"
  }
 },
 "nbformat": 4,
 "nbformat_minor": 5
}
