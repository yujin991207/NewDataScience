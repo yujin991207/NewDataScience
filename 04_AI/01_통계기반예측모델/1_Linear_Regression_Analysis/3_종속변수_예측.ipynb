{
 "cells": [
  {
   "cell_type": "code",
   "execution_count": 7,
   "id": "aa3690b7",
   "metadata": {},
   "outputs": [],
   "source": [
    "import pandas as pd\n",
    "from statsmodels.formula.api import ols"
   ]
  },
  {
   "cell_type": "markdown",
   "id": "92c0ab3e",
   "metadata": {},
   "source": [
    "### 전체 데이터셋으로 예측"
   ]
  },
  {
   "cell_type": "code",
   "execution_count": 8,
   "id": "c307b0b7",
   "metadata": {},
   "outputs": [],
   "source": [
    "wine = pd.read_csv('winequality-both.csv', sep=',', header=0)\n",
    "wine.columns = wine.columns.str.replace(' ', '_')"
   ]
  },
  {
   "cell_type": "code",
   "execution_count": 9,
   "id": "97dabe5b",
   "metadata": {},
   "outputs": [],
   "source": [
    "my_formula = 'quality ~ alcohol + chlorides + citric_acid + density + fixed_acidity + free_sulfur_dioxide + pH + residual_sugar + sulphates + total_sulfur_dioxide + volatile_acidity'\n",
    "lm = ols(my_formula, data=wine).fit()"
   ]
  },
  {
   "cell_type": "code",
   "execution_count": 22,
   "id": "73c9879a",
   "metadata": {},
   "outputs": [],
   "source": [
    "dependent_variable = wine['quality']\n",
    "# quality와 type을 제외한 나머지 열을 독립변수로 활용 \n",
    "independent_variables = wine[wine.columns.difference(['quality', 'type'])]"
   ]
  },
  {
   "cell_type": "code",
   "execution_count": 50,
   "id": "7824dc14",
   "metadata": {},
   "outputs": [
    {
     "data": {
      "text/plain": [
       "((1599, 11), (1599, 13))"
      ]
     },
     "execution_count": 50,
     "metadata": {},
     "output_type": "execute_result"
    }
   ],
   "source": [
    "all_observations = wine.loc[:, independent_variables.columns]\n",
    "all_observations.shape, wine.shape"
   ]
  },
  {
   "cell_type": "code",
   "execution_count": 51,
   "id": "8d52e056",
   "metadata": {
    "scrolled": true
   },
   "outputs": [
    {
     "data": {
      "text/html": [
       "<div>\n",
       "<style scoped>\n",
       "    .dataframe tbody tr th:only-of-type {\n",
       "        vertical-align: middle;\n",
       "    }\n",
       "\n",
       "    .dataframe tbody tr th {\n",
       "        vertical-align: top;\n",
       "    }\n",
       "\n",
       "    .dataframe thead th {\n",
       "        text-align: right;\n",
       "    }\n",
       "</style>\n",
       "<table border=\"1\" class=\"dataframe\">\n",
       "  <thead>\n",
       "    <tr style=\"text-align: right;\">\n",
       "      <th></th>\n",
       "      <th>type</th>\n",
       "      <th>fixed_acidity</th>\n",
       "      <th>volatile_acidity</th>\n",
       "      <th>citric_acid</th>\n",
       "      <th>residual_sugar</th>\n",
       "      <th>chlorides</th>\n",
       "      <th>free_sulfur_dioxide</th>\n",
       "      <th>total_sulfur_dioxide</th>\n",
       "      <th>density</th>\n",
       "      <th>pH</th>\n",
       "      <th>sulphates</th>\n",
       "      <th>alcohol</th>\n",
       "      <th>quality</th>\n",
       "    </tr>\n",
       "  </thead>\n",
       "  <tbody>\n",
       "    <tr>\n",
       "      <th>0</th>\n",
       "      <td>red</td>\n",
       "      <td>7.4</td>\n",
       "      <td>0.70</td>\n",
       "      <td>0.00</td>\n",
       "      <td>1.9</td>\n",
       "      <td>0.076</td>\n",
       "      <td>11.0</td>\n",
       "      <td>34.0</td>\n",
       "      <td>0.9978</td>\n",
       "      <td>3.51</td>\n",
       "      <td>0.56</td>\n",
       "      <td>9.4</td>\n",
       "      <td>5</td>\n",
       "    </tr>\n",
       "    <tr>\n",
       "      <th>1</th>\n",
       "      <td>red</td>\n",
       "      <td>7.8</td>\n",
       "      <td>0.88</td>\n",
       "      <td>0.00</td>\n",
       "      <td>2.6</td>\n",
       "      <td>0.098</td>\n",
       "      <td>25.0</td>\n",
       "      <td>67.0</td>\n",
       "      <td>0.9968</td>\n",
       "      <td>3.20</td>\n",
       "      <td>0.68</td>\n",
       "      <td>9.8</td>\n",
       "      <td>5</td>\n",
       "    </tr>\n",
       "    <tr>\n",
       "      <th>2</th>\n",
       "      <td>red</td>\n",
       "      <td>7.8</td>\n",
       "      <td>0.76</td>\n",
       "      <td>0.04</td>\n",
       "      <td>2.3</td>\n",
       "      <td>0.092</td>\n",
       "      <td>15.0</td>\n",
       "      <td>54.0</td>\n",
       "      <td>0.9970</td>\n",
       "      <td>3.26</td>\n",
       "      <td>0.65</td>\n",
       "      <td>9.8</td>\n",
       "      <td>5</td>\n",
       "    </tr>\n",
       "    <tr>\n",
       "      <th>3</th>\n",
       "      <td>red</td>\n",
       "      <td>11.2</td>\n",
       "      <td>0.28</td>\n",
       "      <td>0.56</td>\n",
       "      <td>1.9</td>\n",
       "      <td>0.075</td>\n",
       "      <td>17.0</td>\n",
       "      <td>60.0</td>\n",
       "      <td>0.9980</td>\n",
       "      <td>3.16</td>\n",
       "      <td>0.58</td>\n",
       "      <td>9.8</td>\n",
       "      <td>6</td>\n",
       "    </tr>\n",
       "    <tr>\n",
       "      <th>4</th>\n",
       "      <td>red</td>\n",
       "      <td>7.4</td>\n",
       "      <td>0.70</td>\n",
       "      <td>0.00</td>\n",
       "      <td>1.9</td>\n",
       "      <td>0.076</td>\n",
       "      <td>11.0</td>\n",
       "      <td>34.0</td>\n",
       "      <td>0.9978</td>\n",
       "      <td>3.51</td>\n",
       "      <td>0.56</td>\n",
       "      <td>9.4</td>\n",
       "      <td>5</td>\n",
       "    </tr>\n",
       "  </tbody>\n",
       "</table>\n",
       "</div>"
      ],
      "text/plain": [
       "  type  fixed_acidity  volatile_acidity  citric_acid  residual_sugar  \\\n",
       "0  red            7.4              0.70         0.00             1.9   \n",
       "1  red            7.8              0.88         0.00             2.6   \n",
       "2  red            7.8              0.76         0.04             2.3   \n",
       "3  red           11.2              0.28         0.56             1.9   \n",
       "4  red            7.4              0.70         0.00             1.9   \n",
       "\n",
       "   chlorides  free_sulfur_dioxide  total_sulfur_dioxide  density    pH  \\\n",
       "0      0.076                 11.0                  34.0   0.9978  3.51   \n",
       "1      0.098                 25.0                  67.0   0.9968  3.20   \n",
       "2      0.092                 15.0                  54.0   0.9970  3.26   \n",
       "3      0.075                 17.0                  60.0   0.9980  3.16   \n",
       "4      0.076                 11.0                  34.0   0.9978  3.51   \n",
       "\n",
       "   sulphates  alcohol  quality  \n",
       "0       0.56      9.4        5  \n",
       "1       0.68      9.8        5  \n",
       "2       0.65      9.8        5  \n",
       "3       0.58      9.8        6  \n",
       "4       0.56      9.4        5  "
      ]
     },
     "execution_count": 51,
     "metadata": {},
     "output_type": "execute_result"
    }
   ],
   "source": [
    " wine.head(5)"
   ]
  },
  {
   "cell_type": "code",
   "execution_count": 52,
   "id": "00930fc9",
   "metadata": {
    "scrolled": false
   },
   "outputs": [
    {
     "data": {
      "text/plain": [
       "0    5.032850\n",
       "1    5.137880\n",
       "2    5.209895\n",
       "3    5.693858\n",
       "4    5.032850\n",
       "dtype: float64"
      ]
     },
     "execution_count": 52,
     "metadata": {},
     "output_type": "execute_result"
    }
   ],
   "source": [
    "# predict : 독립변수값을 입력받아 종속변수를 예측하는 함수\n",
    "y_predicted = lm.predict(all_observations)\n",
    "y_predicted.head()"
   ]
  },
  {
   "cell_type": "code",
   "execution_count": 53,
   "id": "bc8bd786",
   "metadata": {},
   "outputs": [
    {
     "data": {
      "text/plain": [
       "[5, 5, 5, 6, 5]"
      ]
     },
     "execution_count": 53,
     "metadata": {},
     "output_type": "execute_result"
    }
   ],
   "source": [
    "y_predicted_rounded = [round(score) for score in y_predicted]\n",
    "y_predicted_rounded[:5]"
   ]
  },
  {
   "cell_type": "code",
   "execution_count": 54,
   "id": "051c7a85",
   "metadata": {},
   "outputs": [
    {
     "data": {
      "text/plain": [
       "1599"
      ]
     },
     "execution_count": 54,
     "metadata": {},
     "output_type": "execute_result"
    }
   ],
   "source": [
    "len(y_predicted_rounded)"
   ]
  },
  {
   "cell_type": "code",
   "execution_count": 37,
   "id": "63f94252",
   "metadata": {
    "scrolled": true
   },
   "outputs": [
    {
     "name": "stdout",
     "output_type": "stream",
     "text": [
      "인덱스\t|예측값\t|실측값\n",
      "1\t|5\t|5\n",
      "2\t|5\t|5\n",
      "3\t|5\t|5\n",
      "4\t|6\t|6\n",
      "5\t|5\t|5\n",
      "6\t|5\t|5\n",
      "7\t|5\t|5\n",
      "8\t|5\t|7\n",
      "9\t|5\t|7\n",
      "10\t|6\t|5\n",
      "\n",
      "전체 관찰 계수: 1599\n",
      "정답수: 946\n",
      "정답률: 59.161976235146966 %\n"
     ]
    }
   ],
   "source": [
    "total_count = 0\n",
    "index = 0\n",
    "total_number = len(y_predicted_rounded)\n",
    "total_correct = 0\n",
    "print('인덱스\\t|예측값\\t|실측값')\n",
    "while index < total_number:\n",
    "    if index<10:\n",
    "        print(f'{index+1}\\t|{y_predicted_rounded[index]}\\t|{dependent_variable[index]}')\n",
    "    if y_predicted_rounded[index] == dependent_variable [index]:\n",
    "        total_correct += 1\n",
    "    index+=1\n",
    "\n",
    "print(f'\\n전체 관찰 계수: {total_number}')\n",
    "print(f'정답수: {total_correct}')\n",
    "print(f'정답률: {(total_correct/total_number)*100} %')"
   ]
  },
  {
   "cell_type": "markdown",
   "id": "4901298f",
   "metadata": {},
   "source": [
    "---"
   ]
  },
  {
   "cell_type": "markdown",
   "id": "c3183a31",
   "metadata": {},
   "source": [
    "### 화이트 와인 데이터셋 예측"
   ]
  },
  {
   "cell_type": "code",
   "execution_count": 101,
   "id": "d0cf5a3c",
   "metadata": {},
   "outputs": [],
   "source": [
    "wine = pd.read_csv('white_winequality.csv', sep=',', header=0)\n",
    "wine.columns = wine.columns.str.replace(' ', '_')"
   ]
  },
  {
   "cell_type": "code",
   "execution_count": 102,
   "id": "48ff8549",
   "metadata": {},
   "outputs": [],
   "source": [
    "# my_formula = 'quality ~ alcohol + chlorides + citric_acid + density + fixed_acidity + free_sulfur_dioxide + pH + residual_sugar + sulphates + total_sulfur_dioxide + volatile_acidity'\n",
    "my_formula = 'quality ~ alcohol + citric_acid + residual_sugar + sulphates + total_sulfur_dioxide + volatile_acidity'\n",
    "# chlorides, fixed_acidity, density, free_sulfur_dioxide 빠짐\n",
    "lm = ols(my_formula, data=wine).fit()\n",
    "dependent_variable = wine['quality']\n",
    "independent_variables = wine[wine.columns.difference(['quality', 'type'])]\n",
    "all_observations = wine.loc[:, independent_variables.columns]\n",
    "y_predicted = lm.predict(all_observations)\n",
    "y_predicted_rounded = [round(score) for score in y_predicted]"
   ]
  },
  {
   "cell_type": "code",
   "execution_count": 103,
   "id": "622454f1",
   "metadata": {
    "scrolled": true
   },
   "outputs": [
    {
     "name": "stdout",
     "output_type": "stream",
     "text": [
      "1\t|6\t|6\n",
      "2\t|5\t|6\n",
      "3\t|6\t|6\n",
      "4\t|6\t|6\n",
      "5\t|6\t|6\n",
      "6\t|6\t|6\n",
      "7\t|5\t|6\n",
      "8\t|6\t|6\n",
      "9\t|5\t|6\n",
      "10\t|6\t|6\n",
      "\n",
      "전체 관찰 계수: 4898\n",
      "정답수: 2562\n",
      "정답률: 52.30706410779911 %\n"
     ]
    }
   ],
   "source": [
    "total_count = 0\n",
    "index = 0\n",
    "total_number = len(y_predicted_rounded)\n",
    "total_correct = 0\n",
    "while index < total_number:\n",
    "    if index<10:\n",
    "        print(f'{index+1}\\t|{y_predicted_rounded[index]}\\t|{dependent_variable[index]}')\n",
    "    if y_predicted_rounded[index] == dependent_variable [index]:\n",
    "        total_correct += 1\n",
    "    index+=1\n",
    "\n",
    "print(f'\\n전체 관찰 계수: {total_number}')\n",
    "print(f'정답수: {total_correct}')\n",
    "print(f'정답률: {(total_correct/total_number)*100} %')"
   ]
  },
  {
   "cell_type": "markdown",
   "id": "3ff9c858",
   "metadata": {},
   "source": [
    "---"
   ]
  },
  {
   "cell_type": "markdown",
   "id": "45874ec4",
   "metadata": {},
   "source": [
    "### 레드 와인 데이터셋 예측"
   ]
  },
  {
   "cell_type": "code",
   "execution_count": 42,
   "id": "7cfd2958",
   "metadata": {},
   "outputs": [],
   "source": [
    "wine = pd.read_csv('red_winequality.csv', sep=',', header=0)\n",
    "wine.columns = wine.columns.str.replace(' ', '_')"
   ]
  },
  {
   "cell_type": "code",
   "execution_count": 43,
   "id": "43ed5116",
   "metadata": {},
   "outputs": [],
   "source": [
    "my_formula = 'quality ~ alcohol + chlorides + citric_acid + density + fixed_acidity + free_sulfur_dioxide + pH + residual_sugar + sulphates + total_sulfur_dioxide + volatile_acidity'\n",
    "lm = ols(my_formula, data=wine).fit()\n",
    "dependent_variable = wine['quality']\n",
    "independent_variables = wine[wine.columns.difference(['quality', 'type'])]\n",
    "all_observations = wine.loc[:, independent_variables.columns]\n",
    "y_predicted = lm.predict(all_observations)\n",
    "y_predicted_rounded = [round(score) for score in y_predicted]"
   ]
  },
  {
   "cell_type": "code",
   "execution_count": 44,
   "id": "0fc00094",
   "metadata": {
    "scrolled": true
   },
   "outputs": [
    {
     "name": "stdout",
     "output_type": "stream",
     "text": [
      "1\t|5\t|5\n",
      "2\t|5\t|5\n",
      "3\t|5\t|5\n",
      "4\t|6\t|6\n",
      "5\t|5\t|5\n",
      "6\t|5\t|5\n",
      "7\t|5\t|5\n",
      "8\t|5\t|7\n",
      "9\t|5\t|7\n",
      "10\t|6\t|5\n",
      "\n",
      "전체 관찰 계수: 1599\n",
      "정답수: 946\n",
      "정답률: 59.161976235146966 %\n"
     ]
    }
   ],
   "source": [
    "total_count = 0\n",
    "index = 0\n",
    "total_number = len(y_predicted_rounded)\n",
    "total_correct = 0\n",
    "while index < total_number:\n",
    "    if index<10:\n",
    "        print(f'{index+1}\\t|{y_predicted_rounded[index]}\\t|{dependent_variable[index]}')\n",
    "    if y_predicted_rounded[index] == dependent_variable [index]:\n",
    "        total_correct += 1\n",
    "    index+=1\n",
    "\n",
    "print(f'\\n전체 관찰 계수: {total_number}')\n",
    "print(f'정답수: {total_correct}')\n",
    "print(f'정답률: {(total_correct/total_number)*100} %')"
   ]
  },
  {
   "cell_type": "code",
   "execution_count": null,
   "id": "efb19923",
   "metadata": {},
   "outputs": [],
   "source": []
  }
 ],
 "metadata": {
  "kernelspec": {
   "display_name": "Python 3 (ipykernel)",
   "language": "python",
   "name": "python3"
  },
  "language_info": {
   "codemirror_mode": {
    "name": "ipython",
    "version": 3
   },
   "file_extension": ".py",
   "mimetype": "text/x-python",
   "name": "python",
   "nbconvert_exporter": "python",
   "pygments_lexer": "ipython3",
   "version": "3.10.5"
  }
 },
 "nbformat": 4,
 "nbformat_minor": 5
}
