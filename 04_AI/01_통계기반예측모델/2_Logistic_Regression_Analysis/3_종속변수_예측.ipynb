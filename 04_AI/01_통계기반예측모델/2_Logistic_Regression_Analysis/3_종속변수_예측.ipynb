{
 "cells": [
  {
   "cell_type": "raw",
   "id": "f059d42c",
   "metadata": {},
   "source": [
    "['intl_plan', 'vmail_plan', 'vmail_message', 'day_charge', 'eve_mins', 'night_charge', 'intl_calls', 'intl_charge', 'custserv_calls']"
   ]
  },
  {
   "cell_type": "raw",
   "id": "2b961503",
   "metadata": {},
   "source": [
    "['intl_plan', 'vmail_plan', 'day_mins', 'day_charge', 'eve_mins', 'eve_charge', 'night_mins', 'night_charge',\n",
    " 'intl_mins', 'intl_calls', 'intl_charge', 'custserv_calls', 'total_charges']"
   ]
  },
  {
   "cell_type": "code",
   "execution_count": 20,
   "id": "c572e832",
   "metadata": {},
   "outputs": [
    {
     "name": "stdout",
     "output_type": "stream",
     "text": [
      "Warning: Maximum number of iterations has been exceeded.\n",
      "         Current function value: 0.324734\n",
      "         Iterations: 35\n",
      "1\t|0.0\t|0\n",
      "2\t|0.0\t|0\n",
      "3\t|0.0\t|0\n",
      "4\t|0.0\t|0\n",
      "5\t|1.0\t|0\n",
      "6\t|0.0\t|0\n",
      "7\t|0.0\t|0\n",
      "8\t|0.0\t|0\n",
      "9\t|0.0\t|0\n",
      "10\t|0.0\t|0\n",
      "11\t|0.0\t|1\n",
      "12\t|0.0\t|0\n",
      "13\t|0.0\t|0\n",
      "14\t|0.0\t|0\n",
      "15\t|0.0\t|0\n",
      "16\t|1.0\t|1\n",
      "17\t|0.0\t|0\n",
      "18\t|0.0\t|0\n",
      "19\t|0.0\t|0\n",
      "20\t|0.0\t|0\n",
      "\n",
      "전체 관찰 계수: 3333\n",
      "정답수: 2879\n",
      "정답률: 86.37863786378638 %\n"
     ]
    },
    {
     "name": "stderr",
     "output_type": "stream",
     "text": [
      "C:\\python\\lib\\site-packages\\statsmodels\\base\\model.py:604: ConvergenceWarning: Maximum Likelihood optimization failed to converge. Check mle_retvals\n",
      "  warnings.warn(\"Maximum Likelihood optimization failed to \"\n"
     ]
    }
   ],
   "source": [
    "# 목적: 로지스틱 모델을 통해 이탈 고객 예측하기\n",
    "import numpy as np\n",
    "import pandas as pd\n",
    "import statsmodels.api as sm\n",
    "\n",
    "# Read the data set into a pandas DataFrame\n",
    "churn = pd.read_csv('churn.csv', sep=',', header=0)\n",
    "\n",
    "churn.columns = [heading.lower() for heading in \\\n",
    "churn.columns.str.replace(' ', '_').str.replace(\"\\'\", \"\").str.strip('?')]\n",
    "churn['churn'] = np.where(churn['churn'] == 'True.', 1, 0)\n",
    "churn['total_charges'] = churn['day_charge'] + churn['eve_charge'] + \\\n",
    "\t\t\t\t\t\t churn['night_charge'] + churn['intl_charge']\n",
    "churn['intl_plan'] = np.where(churn['intl_plan'] == 'yes', 1, 0)\n",
    "churn['vmail_plan'] = np.where(churn['vmail_plan'] == 'yes', 1, 0)\n",
    "\n",
    "# Fit a logistic regression model\n",
    "dependent_variable = churn['churn']\n",
    "\n",
    "# R추천\n",
    "# 20개 중 9개를 추천해줌\n",
    "#independent_variables = churn[['intl_plan', 'vmail_plan', 'day_mins', 'day_charge', 'eve_mins','night_mins', 'night_charge', 'intl_calls', 'intl_charge', 'custserv_calls']]\n",
    "independent_variables = churn[['intl_plan', 'vmail_plan', 'day_mins', 'day_charge', \n",
    "                               'eve_mins', 'eve_charge', 'night_mins', 'night_charge',\n",
    "                               'intl_mins', 'intl_calls', 'intl_charge', 'custserv_calls', 'total_charges']]\n",
    "independent_variables_with_constant = sm.add_constant(independent_variables, prepend=True)\n",
    "logit_model = sm.Logit(dependent_variable, independent_variables_with_constant).fit()\n",
    "\n",
    "new_observatios = churn.loc[:, independent_variables.columns]\n",
    "new_observatios_with_constant = sm.add_constant(new_observatios, prepend=True)\n",
    "y_predicted = logit_model.predict(new_observatios_with_constant)\n",
    "y_predicted_rounded=[round(score,0) for score in y_predicted]\n",
    "logistic_predicted_value_list=[]\n",
    "\n",
    "total_count = 0\n",
    "index = 0\n",
    "total_number = len(y_predicted_rounded)\n",
    "total_correct = 0\n",
    "\n",
    "while index < total_number:\n",
    "    if index<20:\n",
    "        print(f'{index+1}\\t|{y_predicted_rounded[index]}\\t|{dependent_variable[index]}')\n",
    "    if y_predicted_rounded[index] == dependent_variable [index]:\n",
    "        total_correct += 1\n",
    "    index+=1\n",
    "\n",
    "print(f'\\n전체 관찰 계수: {total_number}')\n",
    "print(f'정답수: {total_correct}')\n",
    "print(f'정답률: {(total_correct/total_number)*100} %')\n",
    "\n"
   ]
  },
  {
   "cell_type": "raw",
   "id": "9a82bcb8",
   "metadata": {},
   "source": [
    "['intl_plan', 'vmail_plan', 'vmail_message', 'day_charge', 'eve_mins', 'night_charge', 'intl_calls', 'intl_charge', 'custserv_calls','total_charges']"
   ]
  },
  {
   "cell_type": "code",
   "execution_count": 5,
   "id": "45e27bd8",
   "metadata": {
    "scrolled": true
   },
   "outputs": [
    {
     "name": "stdout",
     "output_type": "stream",
     "text": [
      "Optimization terminated successfully.\n",
      "         Current function value: 0.324244\n",
      "         Iterations 8\n",
      "1\t|0.0\t|0\n",
      "2\t|0.0\t|0\n",
      "3\t|0.0\t|0\n",
      "4\t|1.0\t|0\n",
      "5\t|1.0\t|0\n",
      "6\t|0.0\t|0\n",
      "7\t|0.0\t|0\n",
      "8\t|0.0\t|0\n",
      "9\t|0.0\t|0\n",
      "10\t|0.0\t|0\n",
      "11\t|0.0\t|1\n",
      "12\t|0.0\t|0\n",
      "13\t|0.0\t|0\n",
      "14\t|0.0\t|0\n",
      "15\t|0.0\t|0\n",
      "16\t|1.0\t|1\n",
      "17\t|0.0\t|0\n",
      "18\t|0.0\t|0\n",
      "19\t|0.0\t|0\n",
      "20\t|0.0\t|0\n",
      "\n",
      "전체 관찰 계수: 3333\n",
      "정답수: 2876\n",
      "정답률: 86.28862886288628 %\n"
     ]
    }
   ],
   "source": [
    "# 목적: 로지스틱 모델을 통해 이탈 고객 예측하기\n",
    "import numpy as np\n",
    "import pandas as pd\n",
    "import statsmodels.api as sm\n",
    "\n",
    "# Read the data set into a pandas DataFrame\n",
    "churn = pd.read_csv('churn.csv', sep=',', header=0)\n",
    "\n",
    "churn.columns = [heading.lower() for heading in \\\n",
    "churn.columns.str.replace(' ', '_').str.replace(\"\\'\", \"\").str.strip('?')]\n",
    "churn['churn'] = np.where(churn['churn'] == 'True.', 1, 0)\n",
    "churn['total_charges'] = churn['day_charge'] + churn['eve_charge'] + \\\n",
    "\t\t\t\t\t\t churn['night_charge'] + churn['intl_charge']\n",
    "churn['intl_plan'] = np.where(churn['intl_plan'] == 'yes', 1, 0)\n",
    "churn['vmail_plan'] = np.where(churn['vmail_plan'] == 'yes', 1, 0)\n",
    "\n",
    "# Fit a logistic regression model\n",
    "dependent_variable = churn['churn']\n",
    "\n",
    "# R추천 + total_charges 추가\n",
    "independent_variables = churn[['intl_plan', 'vmail_plan', 'vmail_message', 'day_charge', 'eve_mins', 'night_charge', 'intl_calls', 'intl_charge', 'custserv_calls','total_charges']]\n",
    "independent_variables_with_constant = sm.add_constant(independent_variables, prepend=True)\n",
    "logit_model = sm.Logit(dependent_variable, independent_variables_with_constant).fit()\n",
    "\n",
    "new_observatios = churn.loc[:, independent_variables.columns]\n",
    "new_observatios_with_constant = sm.add_constant(new_observatios, prepend=True)\n",
    "y_predicted = logit_model.predict(new_observatios_with_constant)\n",
    "y_predicted_rounded=[round(score,0) for score in y_predicted]\n",
    "logistic_predicted_value_list=[]\n",
    "\n",
    "total_count = 0\n",
    "index = 0\n",
    "total_number = len(y_predicted_rounded)\n",
    "total_correct = 0\n",
    "\n",
    "while index < total_number:\n",
    "    if index<20:\n",
    "        print(f'{index+1}\\t|{y_predicted_rounded[index]}\\t|{dependent_variable[index]}')\n",
    "    if y_predicted_rounded[index] == dependent_variable [index]:\n",
    "        total_correct += 1\n",
    "    index+=1\n",
    "\n",
    "print(f'\\n전체 관찰 계수: {total_number}')\n",
    "print(f'정답수: {total_correct}')\n",
    "print(f'정답률: {(total_correct/total_number)*100} %')\n"
   ]
  },
  {
   "cell_type": "markdown",
   "id": "cde1f39f",
   "metadata": {},
   "source": [
    "### AB테스트\n",
    "intl_plan,vmail_plan은 모델 성능을 높이는데 기여했으나 total_charges는 기여를 하지 않은 것으로 판단"
   ]
  },
  {
   "cell_type": "markdown",
   "id": "be84704d",
   "metadata": {},
   "source": [
    "---"
   ]
  },
  {
   "cell_type": "code",
   "execution_count": 6,
   "id": "261166f2",
   "metadata": {},
   "outputs": [
    {
     "name": "stdout",
     "output_type": "stream",
     "text": [
      "Optimization terminated successfully.\n",
      "         Current function value: 0.325953\n",
      "         Iterations 7\n",
      "1\t|0.0\t|0\n",
      "2\t|0.0\t|0\n",
      "3\t|0.0\t|0\n",
      "4\t|1.0\t|0\n",
      "5\t|1.0\t|0\n",
      "6\t|0.0\t|0\n",
      "7\t|0.0\t|0\n",
      "8\t|0.0\t|0\n",
      "9\t|0.0\t|0\n",
      "10\t|0.0\t|0\n",
      "11\t|0.0\t|1\n",
      "12\t|0.0\t|0\n",
      "13\t|0.0\t|0\n",
      "14\t|0.0\t|0\n",
      "15\t|0.0\t|0\n",
      "16\t|1.0\t|1\n",
      "17\t|0.0\t|0\n",
      "18\t|0.0\t|0\n",
      "19\t|0.0\t|0\n",
      "20\t|0.0\t|0\n",
      "\n",
      "전체 관찰 계수: 3333\n",
      "정답수: 2870\n",
      "정답률: 86.1086108610861 %\n"
     ]
    }
   ],
   "source": [
    "# 목적: 로지스틱 모델을 통해 이탈 고객 예측하기\n",
    "import numpy as np\n",
    "import pandas as pd\n",
    "import statsmodels.api as sm\n",
    "\n",
    "# Read the data set into a pandas DataFrame\n",
    "churn = pd.read_csv('churn.csv', sep=',', header=0)\n",
    "\n",
    "churn.columns = [heading.lower() for heading in \\\n",
    "churn.columns.str.replace(' ', '_').str.replace(\"\\'\", \"\").str.strip('?')]\n",
    "churn['churn'] = np.where(churn['churn'] == 'True.', 1, 0)\n",
    "churn['total_charges'] = churn['day_charge'] + churn['eve_charge'] + \\\n",
    "\t\t\t\t\t\t churn['night_charge'] + churn['intl_charge']\n",
    "churn['intl_plan'] = np.where(churn['intl_plan'] == 'yes', 1, 0)\n",
    "churn['vmail_plan'] = np.where(churn['vmail_plan'] == 'yes', 1, 0)\n",
    "\n",
    "# Fit a logistic regression model\n",
    "dependent_variable = churn['churn']\n",
    "\n",
    "# R추천 + total_charges 추가\n",
    "independent_variables = churn[['intl_plan', 'vmail_plan', 'vmail_message', 'eve_mins', 'intl_calls', 'custserv_calls','total_charges']]\n",
    "independent_variables_with_constant = sm.add_constant(independent_variables, prepend=True)\n",
    "logit_model = sm.Logit(dependent_variable, independent_variables_with_constant).fit()\n",
    "\n",
    "new_observatios = churn.loc[:, independent_variables.columns]\n",
    "new_observatios_with_constant = sm.add_constant(new_observatios, prepend=True)\n",
    "# 독립변수에 관한 데이터만 집어넣음\n",
    "y_predicted = logit_model.predict(new_observatios_with_constant)\n",
    "y_predicted_rounded=[round(score,0) for score in y_predicted]\n",
    "logistic_predicted_value_list=[]\n",
    "\n",
    "total_count = 0\n",
    "index = 0\n",
    "total_number = len(y_predicted_rounded)\n",
    "total_correct = 0\n",
    "\n",
    "while index < total_number:\n",
    "    if index<20:\n",
    "        print(f'{index+1}\\t|{y_predicted_rounded[index]}\\t|{dependent_variable[index]}')\n",
    "    if y_predicted_rounded[index] == dependent_variable [index]:\n",
    "        total_correct += 1\n",
    "    index+=1\n",
    "\n",
    "print(f'\\n전체 관찰 계수: {total_number}')\n",
    "print(f'정답수: {total_correct}')\n",
    "print(f'정답률: {(total_correct/total_number)*100} %')"
   ]
  }
 ],
 "metadata": {
  "kernelspec": {
   "display_name": "Python 3 (ipykernel)",
   "language": "python",
   "name": "python3"
  },
  "language_info": {
   "codemirror_mode": {
    "name": "ipython",
    "version": 3
   },
   "file_extension": ".py",
   "mimetype": "text/x-python",
   "name": "python",
   "nbconvert_exporter": "python",
   "pygments_lexer": "ipython3",
   "version": "3.10.5"
  }
 },
 "nbformat": 4,
 "nbformat_minor": 5
}
