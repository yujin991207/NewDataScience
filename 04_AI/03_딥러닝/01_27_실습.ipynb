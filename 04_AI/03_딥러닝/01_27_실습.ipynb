{
 "cells": [
  {
   "cell_type": "markdown",
   "id": "333431cf",
   "metadata": {},
   "source": [
    "## 인공신경망"
   ]
  },
  {
   "cell_type": "code",
   "execution_count": 29,
   "id": "b1e23f19",
   "metadata": {},
   "outputs": [],
   "source": [
    "import tensorflow as tf\n",
    "from tensorflow import keras\n",
    "\n",
    "tf.keras.utils.set_random_seed(42)\n",
    "tf.config.experimental.enable_op_determinism()"
   ]
  },
  {
   "cell_type": "code",
   "execution_count": 30,
   "id": "aafe6a0c",
   "metadata": {},
   "outputs": [],
   "source": [
    "(train_input, train_target), (test_input, test_target) = keras.datasets.fashion_mnist.load_data()"
   ]
  },
  {
   "cell_type": "code",
   "execution_count": 31,
   "id": "a2c7e1b0",
   "metadata": {},
   "outputs": [
    {
     "name": "stdout",
     "output_type": "stream",
     "text": [
      "(60000, 28, 28) (60000,)\n"
     ]
    }
   ],
   "source": [
    "print(train_input.shape, train_target.shape)"
   ]
  },
  {
   "cell_type": "code",
   "execution_count": 32,
   "id": "8d1796f7",
   "metadata": {},
   "outputs": [
    {
     "name": "stdout",
     "output_type": "stream",
     "text": [
      "(10000, 28, 28) (10000,)\n"
     ]
    }
   ],
   "source": [
    "print(test_input.shape, test_target.shape)"
   ]
  },
  {
   "cell_type": "code",
   "execution_count": 38,
   "id": "793ff102",
   "metadata": {},
   "outputs": [
    {
     "data": {
      "image/png": "[encoded data removed]",
      "text/plain": [
       "<Figure size 1000x1000 with 20 Axes>"
      ]
     },
     "metadata": {},
     "output_type": "display_data"
    }
   ],
   "source": [
    "import matplotlib.pyplot as plt\n",
    "\n",
    "fig, axs = plt.subplots(1, 20, figsize = (10,10))\n",
    "\n",
    "for i in range(20):\n",
    "    axs[i].imshow(train_input[i], cmap = 'Greys')\n",
    "    axs[i].axis('off')\n",
    "        \n",
    "plt.show()"
   ]
  },
  {
   "cell_type": "code",
   "execution_count": 34,
   "id": "e5b2d7be",
   "metadata": {},
   "outputs": [
    {
     "name": "stdout",
     "output_type": "stream",
     "text": [
      "[9, 0, 0, 3, 0, 2, 7, 2, 5, 5, 0, 9, 5, 5, 7, 9, 1, 0, 6, 4]\n"
     ]
    }
   ],
   "source": [
    "# 사진의 순서이다\n",
    "print([train_target[i] for i in range(20)])"
   ]
  },
  {
   "cell_type": "markdown",
   "id": "855d6a83",
   "metadata": {},
   "source": [
    "### 로지스틱회귀로 패션아이템 분류하기"
   ]
  },
  {
   "cell_type": "code",
   "execution_count": 35,
   "id": "30daf70e",
   "metadata": {},
   "outputs": [
    {
     "name": "stdout",
     "output_type": "stream",
     "text": [
      "(array([0, 1, 2, 3, 4, 5, 6, 7, 8, 9], dtype=uint8), array([6000, 6000, 6000, 6000, 6000, 6000, 6000, 6000, 6000, 6000],\n",
      "      dtype=int64))\n"
     ]
    }
   ],
   "source": [
    "import numpy as np\n",
    "\n",
    "print(np.unique(train_target, return_counts = True))\n",
    "\n",
    "# 0 ~ 9까지 레이블마다 6000개의 샘플"
   ]
  },
  {
   "cell_type": "code",
   "execution_count": null,
   "id": "78abe72e",
   "metadata": {},
   "outputs": [],
   "source": []
  },
  {
   "cell_type": "code",
   "execution_count": 36,
   "id": "9a794d6e",
   "metadata": {},
   "outputs": [],
   "source": [
    "# 255로 나누어 0 ~ 1 사이의 값으로 정규화\n",
    "# reshape 함수를 통해 2차원배열을 1차원배열\n",
    "train_scaled = train_input / 255.0\n",
    "train_scaled = train_scaled.reshape(-1, 28*28)"
   ]
  },
  {
   "cell_type": "code",
   "execution_count": 37,
   "id": "8a19a708",
   "metadata": {},
   "outputs": [
    {
     "name": "stdout",
     "output_type": "stream",
     "text": [
      "(60000, 784)\n"
     ]
    }
   ],
   "source": [
    "print(train_scaled.shape)"
   ]
  },
  {
   "cell_type": "code",
   "execution_count": 40,
   "id": "a6270670",
   "metadata": {
    "scrolled": true
   },
   "outputs": [
    {
     "name": "stdout",
     "output_type": "stream",
     "text": [
      "0.8192833333333333\n"
     ]
    }
   ],
   "source": [
    "from sklearn.model_selection import cross_validate\n",
    "from sklearn.linear_model import SGDClassifier\n",
    "\n",
    "# 교차검증으로 성능확인\n",
    "# max_iter = 5 => 반복횟수 5개\n",
    "sc = SGDClassifier(loss = 'log', max_iter = 5, random_state = 42)\n",
    "\n",
    "scores = cross_validate(sc, train_scaled, train_target, n_jobs = -1)\n",
    "print(np.mean(scores['test_score']))"
   ]
  },
  {
   "cell_type": "code",
   "execution_count": 41,
   "id": "ad8a526f",
   "metadata": {},
   "outputs": [
    {
     "name": "stdout",
     "output_type": "stream",
     "text": [
      "0.8313833333333334\n"
     ]
    }
   ],
   "source": [
    "# 반복횟수를 늘려도 크게 향상되지않는다\n",
    "sc = SGDClassifier(loss = 'log', max_iter = 10, random_state = 42)\n",
    "\n",
    "scores = cross_validate(sc, train_scaled, train_target, n_jobs = -1)\n",
    "print(np.mean(scores['test_score']))"
   ]
  },
  {
   "cell_type": "markdown",
   "id": "681bdba1",
   "metadata": {},
   "source": [
    "### 인공신경망"
   ]
  },
  {
   "cell_type": "markdown",
   "id": "3a5961d5",
   "metadata": {},
   "source": [
    "#### 확률적 경사 하강법을 사용하는 로지스틱 회귀\n",
    "   - 텐서플로와 케라스"
   ]
  },
  {
   "cell_type": "code",
   "execution_count": 51,
   "id": "196f52dc",
   "metadata": {},
   "outputs": [],
   "source": [
    "import tensorflow as tf\n",
    "from tensorflow import keras"
   ]
  },
  {
   "cell_type": "markdown",
   "id": "f6a41943",
   "metadata": {},
   "source": [
    "### 인공신경망으로 모델 만들기"
   ]
  },
  {
   "cell_type": "code",
   "execution_count": 45,
   "id": "52e8eda9",
   "metadata": {},
   "outputs": [],
   "source": [
    "from sklearn.model_selection import train_test_split\n",
    "\n",
    "train_scaled, val_scaled, train_target, val_target = train_test_split(\n",
    "    train_scaled, train_target, test_size = 0.2, random_state =42)"
   ]
  },
  {
   "cell_type": "code",
   "execution_count": 46,
   "id": "356144d9",
   "metadata": {},
   "outputs": [
    {
     "name": "stdout",
     "output_type": "stream",
     "text": [
      "(48000, 784) (48000,)\n"
     ]
    }
   ],
   "source": [
    "print(train_scaled.shape, train_target.shape)"
   ]
  },
  {
   "cell_type": "code",
   "execution_count": 47,
   "id": "586387d0",
   "metadata": {},
   "outputs": [
    {
     "name": "stdout",
     "output_type": "stream",
     "text": [
      "(12000, 784) (12000,)\n"
     ]
    }
   ],
   "source": [
    "print(val_scaled.shape, val_target.shape)"
   ]
  },
  {
   "cell_type": "code",
   "execution_count": 54,
   "id": "1bb0d5ce",
   "metadata": {},
   "outputs": [],
   "source": [
    "# 20개의 패션아이템 분류 .. 매개변수 10 => 784개의 픽셀값을 받는다\n",
    "dense = keras.layers.Dense(20, activation='softmax', input_shape=(784,))"
   ]
  },
  {
   "cell_type": "code",
   "execution_count": 57,
   "id": "1bb07b49",
   "metadata": {},
   "outputs": [],
   "source": [
    "model = keras.Sequential(dense)"
   ]
  },
  {
   "cell_type": "markdown",
   "id": "10f49882",
   "metadata": {},
   "source": [
    "### 인공신경망으로 패션아이템 분류하기"
   ]
  },
  {
   "cell_type": "code",
   "execution_count": 58,
   "id": "35bb17a2",
   "metadata": {},
   "outputs": [],
   "source": [
    "model.compile(loss = 'sparse_categorical_crossentropy', metrics = 'accuracy')"
   ]
  },
  {
   "cell_type": "code",
   "execution_count": 59,
   "id": "3829e0c6",
   "metadata": {},
   "outputs": [
    {
     "name": "stdout",
     "output_type": "stream",
     "text": [
      "Epoch 1/5\n",
      "1500/1500 [==============================] - 2s 1ms/step - loss: 0.6069 - accuracy: 0.7947\n",
      "Epoch 2/5\n",
      "1500/1500 [==============================] - 2s 1ms/step - loss: 0.4742 - accuracy: 0.8382\n",
      "Epoch 3/5\n",
      "1500/1500 [==============================] - 2s 1ms/step - loss: 0.4508 - accuracy: 0.8474\n",
      "Epoch 4/5\n",
      "1500/1500 [==============================] - 2s 1ms/step - loss: 0.4367 - accuracy: 0.8527\n",
      "Epoch 5/5\n",
      "1500/1500 [==============================] - 2s 1ms/step - loss: 0.4280 - accuracy: 0.8555\n"
     ]
    },
    {
     "data": {
      "text/plain": [
       "<keras.callbacks.History at 0x247d758f6d0>"
      ]
     },
     "execution_count": 59,
     "metadata": {},
     "output_type": "execute_result"
    }
   ],
   "source": [
    "# 5번 반복에 정확도 => 85%의 정답률을 넘음.\n",
    "model.fit(train_scaled, train_target, epochs = 5)"
   ]
  },
  {
   "cell_type": "code",
   "execution_count": 60,
   "id": "a4c489a1",
   "metadata": {
    "scrolled": true
   },
   "outputs": [
    {
     "name": "stdout",
     "output_type": "stream",
     "text": [
      "375/375 [==============================] - 1s 962us/step - loss: 0.4526 - accuracy: 0.8465\n"
     ]
    },
    {
     "data": {
      "text/plain": [
       "[0.45262545347213745, 0.8464999794960022]"
      ]
     },
     "execution_count": 60,
     "metadata": {},
     "output_type": "execute_result"
    }
   ],
   "source": [
    "# 위와 비슷한 출력을 보여줌.\n",
    "model.evaluate(val_scaled, val_target)"
   ]
  },
  {
   "cell_type": "code",
   "execution_count": null,
   "id": "2591bb8f",
   "metadata": {},
   "outputs": [],
   "source": []
  },
  {
   "cell_type": "markdown",
   "id": "8c4f60fa",
   "metadata": {},
   "source": [
    "## 심층신경망\n",
    "- 두개의 층"
   ]
  },
  {
   "cell_type": "code",
   "execution_count": 73,
   "id": "96c9a325",
   "metadata": {},
   "outputs": [],
   "source": [
    "(train_input, train_target), (test_input, test_target) = keras.datasets.fashion_mnist.load_data()"
   ]
  },
  {
   "cell_type": "code",
   "execution_count": 74,
   "id": "5861d1b0",
   "metadata": {},
   "outputs": [],
   "source": [
    "train_scaled = train_input / 255.0\n",
    "train_scaled = train_scaled.reshape(-1, 28*28)\n",
    "\n",
    "train_scaled, val_scaled, train_target, val_target = train_test_split(\n",
    "    train_scaled, train_target, test_size=0.2, random_state = 42)"
   ]
  },
  {
   "cell_type": "code",
   "execution_count": null,
   "id": "e0fa8216",
   "metadata": {},
   "outputs": [],
   "source": [
    "# 신경망모델을 2개추가\n",
    "# 위 인공신경망과 다른점은 입력층과 출력층 사이에 밀집층이 추가된다는 것\n",
    "# 입력층과 출력층 사이에 있는 모든층을 은닉층이라고함"
   ]
  },
  {
   "cell_type": "code",
   "execution_count": 80,
   "id": "89d5c238",
   "metadata": {},
   "outputs": [],
   "source": [
    "dense1 = keras.layers.Dense(100, activation='sigmoid', input_shape = (784,))\n",
    "dense2 = keras.layers.Dense(10, activation='softmax')"
   ]
  },
  {
   "cell_type": "markdown",
   "id": "5203309b",
   "metadata": {},
   "source": [
    "### 심층신경망 만들기"
   ]
  },
  {
   "cell_type": "code",
   "execution_count": 81,
   "id": "3aef3662",
   "metadata": {},
   "outputs": [],
   "source": [
    "# 여러개의 층을 추가하기위해 리스트형태로 전달\n",
    "# 2개 이상의 층을 추가할 수도 있다\n",
    "model = keras.Sequential([dense1, dense2])"
   ]
  },
  {
   "cell_type": "code",
   "execution_count": 82,
   "id": "31860031",
   "metadata": {},
   "outputs": [
    {
     "name": "stdout",
     "output_type": "stream",
     "text": [
      "Model: \"sequential_4\"\n",
      "_________________________________________________________________\n",
      " Layer (type)                Output Shape              Param #   \n",
      "=================================================================\n",
      " dense_9 (Dense)             (None, 100)               78500     \n",
      "                                                                 \n",
      " dense_10 (Dense)            (None, 10)                1010      \n",
      "                                                                 \n",
      "=================================================================\n",
      "Total params: 79,510\n",
      "Trainable params: 79,510\n",
      "Non-trainable params: 0\n",
      "_________________________________________________________________\n"
     ]
    }
   ],
   "source": [
    "model.summary()\n",
    "# Model : 모델이름\n",
    "# 은닉층에서 출력층의 순서대로 나열\n",
    "# 층이름  클래스  출력크기  모델파라미터개수"
   ]
  },
  {
   "cell_type": "markdown",
   "id": "4b2ea9a9",
   "metadata": {},
   "source": [
    "### 층을 추가하는 다른방법"
   ]
  },
  {
   "cell_type": "code",
   "execution_count": 94,
   "id": "2acdb0fd",
   "metadata": {},
   "outputs": [],
   "source": [
    "model = keras.Sequential([\n",
    "    keras.layers.Dense(100, activation = 'sigmoid', input_shape = (784,), name = 'hidden'),\n",
    "    keras.layers.Dense(10, activation = 'softmax', name = 'output') \n",
    "], name = '패션 MNIST 모델')"
   ]
  },
  {
   "cell_type": "code",
   "execution_count": 95,
   "id": "ed309fa1",
   "metadata": {},
   "outputs": [
    {
     "name": "stdout",
     "output_type": "stream",
     "text": [
      "Model: \"패션 MNIST 모델\"\n",
      "_________________________________________________________________\n",
      " Layer (type)                Output Shape              Param #   \n",
      "=================================================================\n",
      " hidden (Dense)              (None, 100)               78500     \n",
      "                                                                 \n",
      " output (Dense)              (None, 10)                1010      \n",
      "                                                                 \n",
      "=================================================================\n",
      "Total params: 79,510\n",
      "Trainable params: 79,510\n",
      "Non-trainable params: 0\n",
      "_________________________________________________________________\n"
     ]
    }
   ],
   "source": [
    "model.summary()"
   ]
  },
  {
   "cell_type": "markdown",
   "id": "58b39eda",
   "metadata": {},
   "source": [
    "##### add()메서드를 이용한 방법\n",
    "- 가장 널리 사용하는 방법이다"
   ]
  },
  {
   "cell_type": "code",
   "execution_count": 90,
   "id": "d709b1de",
   "metadata": {},
   "outputs": [],
   "source": [
    "model2 = keras.Sequential()\n",
    "model2.add(keras.layers.Dense(100, activation = 'sigmoid', input_shape = (784,)))\n",
    "model2.add(keras.layers.Dense(10, activation = 'softmax'))"
   ]
  },
  {
   "cell_type": "code",
   "execution_count": 91,
   "id": "a3a2fc6b",
   "metadata": {
    "scrolled": true
   },
   "outputs": [
    {
     "name": "stdout",
     "output_type": "stream",
     "text": [
      "Model: \"sequential_6\"\n",
      "_________________________________________________________________\n",
      " Layer (type)                Output Shape              Param #   \n",
      "=================================================================\n",
      " dense_13 (Dense)            (None, 100)               78500     \n",
      "                                                                 \n",
      " dense_14 (Dense)            (None, 10)                1010      \n",
      "                                                                 \n",
      "=================================================================\n",
      "Total params: 79,510\n",
      "Trainable params: 79,510\n",
      "Non-trainable params: 0\n",
      "_________________________________________________________________\n"
     ]
    }
   ],
   "source": [
    "model2.summary()"
   ]
  },
  {
   "cell_type": "code",
   "execution_count": 98,
   "id": "42a2d94a",
   "metadata": {},
   "outputs": [
    {
     "name": "stdout",
     "output_type": "stream",
     "text": [
      "Epoch 1/5\n",
      "1500/1500 [==============================] - 3s 2ms/step - loss: 0.5672 - accuracy: 0.8079\n",
      "Epoch 2/5\n",
      "1500/1500 [==============================] - 2s 2ms/step - loss: 0.4110 - accuracy: 0.8516\n",
      "Epoch 3/5\n",
      "1500/1500 [==============================] - 2s 2ms/step - loss: 0.3773 - accuracy: 0.8642\n",
      "Epoch 4/5\n",
      "1500/1500 [==============================] - 2s 2ms/step - loss: 0.3536 - accuracy: 0.8733\n",
      "Epoch 5/5\n",
      "1500/1500 [==============================] - 2s 2ms/step - loss: 0.3358 - accuracy: 0.8780\n"
     ]
    },
    {
     "data": {
      "text/plain": [
       "<keras.callbacks.History at 0x247d7b0ea40>"
      ]
     },
     "execution_count": 98,
     "metadata": {},
     "output_type": "execute_result"
    }
   ],
   "source": [
    "# 모델컴파일\n",
    "model2.compile(loss = 'sparse_categorical_crossentropy', metrics = 'accuracy')\n",
    "model2.fit(train_scaled, train_target, epochs = 5)"
   ]
  },
  {
   "cell_type": "code",
   "execution_count": 100,
   "id": "e5c10b0f",
   "metadata": {},
   "outputs": [
    {
     "name": "stdout",
     "output_type": "stream",
     "text": [
      "375/375 [==============================] - 1s 1ms/step - loss: 0.3593 - accuracy: 0.8666\n"
     ]
    },
    {
     "data": {
      "text/plain": [
       "[0.3592749834060669, 0.8665833473205566]"
      ]
     },
     "execution_count": 100,
     "metadata": {},
     "output_type": "execute_result"
    }
   ],
   "source": [
    "model2.evaluate(val_scaled, val_target)"
   ]
  },
  {
   "cell_type": "raw",
   "id": "d9ab9f2c",
   "metadata": {},
   "source": [
    "=> 훈련세트에 대한 성능을 보면 추가된 성능을 향상시켰다는 것을 알 수 있다"
   ]
  },
  {
   "cell_type": "markdown",
   "id": "841da3ee",
   "metadata": {},
   "source": [
    "### 렐루 활성화 함수\n",
    "- 입력이 양수일 경우 마치 활성화함수가 없는 것처럼 입력을 통과 시킨다\n",
    "- 입력이 음수일 경우 0으로 만든다"
   ]
  },
  {
   "cell_type": "code",
   "execution_count": 105,
   "id": "0a9497f4",
   "metadata": {},
   "outputs": [],
   "source": [
    "model = keras.Sequential()"
   ]
  },
  {
   "cell_type": "code",
   "execution_count": null,
   "id": "e25a2e67",
   "metadata": {},
   "outputs": [],
   "source": [
    "# Flatten 클래스는 배치차원을 제외하고 나머지 입력차원을 모두 일렬로 펼치는 역할만 한다\n",
    "# 입력에 곱해지는 가중치나 절편은 없다"
   ]
  },
  {
   "cell_type": "code",
   "execution_count": 106,
   "id": "9275eb77",
   "metadata": {},
   "outputs": [],
   "source": [
    "# 입력층의 이미지를 1차원배열형태로 만들어주기위해 케라스에서 제공하는 전용 입력층\n",
    "model.add(keras.layers.Flatten(input_shape = (28,28)))\n",
    "# relu: 은닉층에 사용하는 활성화 함수로써 sigmoid 함수보다 성능이 더 좋은 것으로 알려져 있다.\n",
    "model.add(keras.layers.Dense(100, activation='relu'))\n",
    "model.add(keras.layers.Dense(10, activation='softmax'))"
   ]
  },
  {
   "cell_type": "code",
   "execution_count": 107,
   "id": "c30df7ca",
   "metadata": {},
   "outputs": [
    {
     "name": "stdout",
     "output_type": "stream",
     "text": [
      "Model: \"sequential_8\"\n",
      "_________________________________________________________________\n",
      " Layer (type)                Output Shape              Param #   \n",
      "=================================================================\n",
      " flatten_2 (Flatten)         (None, 784)               0         \n",
      "                                                                 \n",
      " dense_17 (Dense)            (None, 100)               78500     \n",
      "                                                                 \n",
      " dense_18 (Dense)            (None, 10)                1010      \n",
      "                                                                 \n",
      "=================================================================\n",
      "Total params: 79,510\n",
      "Trainable params: 79,510\n",
      "Non-trainable params: 0\n",
      "_________________________________________________________________\n"
     ]
    }
   ],
   "source": [
    "model.summary()"
   ]
  },
  {
   "cell_type": "code",
   "execution_count": 111,
   "id": "2a9d0c13",
   "metadata": {},
   "outputs": [],
   "source": [
    "(train_input, train_target), (test_input, test_target) = keras.datasets.fashion_mnist.load_data()\n",
    "\n",
    "train_scaled = train_input / 255.0\n",
    "\n",
    "train_scaled, val_scaled, train_target, val_target = train_test_split(\n",
    "    train_scaled, train_target, test_size = 0.2, random_state = 42)"
   ]
  },
  {
   "cell_type": "code",
   "execution_count": 112,
   "id": "b589c4cb",
   "metadata": {},
   "outputs": [
    {
     "name": "stdout",
     "output_type": "stream",
     "text": [
      "Epoch 1/5\n",
      "1500/1500 [==============================] - 3s 2ms/step - loss: 0.3054 - accuracy: 0.8914\n",
      "Epoch 2/5\n",
      "1500/1500 [==============================] - 2s 2ms/step - loss: 0.2933 - accuracy: 0.8957\n",
      "Epoch 3/5\n",
      "1500/1500 [==============================] - 2s 2ms/step - loss: 0.2870 - accuracy: 0.8980\n",
      "Epoch 4/5\n",
      "1500/1500 [==============================] - 2s 2ms/step - loss: 0.2787 - accuracy: 0.9009\n",
      "Epoch 5/5\n",
      "1500/1500 [==============================] - 2s 2ms/step - loss: 0.2690 - accuracy: 0.9042\n"
     ]
    },
    {
     "data": {
      "text/plain": [
       "<keras.callbacks.History at 0x247d5f51f60>"
      ]
     },
     "execution_count": 112,
     "metadata": {},
     "output_type": "execute_result"
    }
   ],
   "source": [
    "model.compile(loss='sparse_categorical_crossentropy', metrics='accuracy')\n",
    "\n",
    "model.fit(train_scaled, train_target, epochs = 5)"
   ]
  },
  {
   "cell_type": "code",
   "execution_count": 113,
   "id": "d6aec6ed",
   "metadata": {},
   "outputs": [
    {
     "name": "stdout",
     "output_type": "stream",
     "text": [
      "375/375 [==============================] - 1s 1ms/step - loss: 0.4034 - accuracy: 0.8723\n"
     ]
    },
    {
     "data": {
      "text/plain": [
       "[0.40344852209091187, 0.8723333477973938]"
      ]
     },
     "execution_count": 113,
     "metadata": {},
     "output_type": "execute_result"
    }
   ],
   "source": [
    "model.evaluate(val_scaled, val_target)"
   ]
  },
  {
   "cell_type": "raw",
   "id": "830223d8",
   "metadata": {},
   "source": [
    "=> 위 방법의 은닉층을 추가하지않은 경우보다 몇퍼센트 성능이 향상되었다"
   ]
  },
  {
   "cell_type": "markdown",
   "id": "8aa3c951",
   "metadata": {},
   "source": [
    "### 옵티마이저\n",
    "- Adam을 가장 많이 사용한다"
   ]
  },
  {
   "cell_type": "code",
   "execution_count": 114,
   "id": "04f7acf9",
   "metadata": {},
   "outputs": [],
   "source": [
    "model.compile(optimizer='sgd', loss='sparse_categorical_crossentropy', metrics='accuracy')"
   ]
  },
  {
   "cell_type": "code",
   "execution_count": 115,
   "id": "b23f0f69",
   "metadata": {},
   "outputs": [],
   "source": [
    "sgd = keras.optimizers.SGD()\n",
    "model.compile(optimizer=sgd, loss='sparse_categorical_crossentropy', metrics='accuracy')"
   ]
  },
  {
   "cell_type": "code",
   "execution_count": 117,
   "id": "fe80dd2c",
   "metadata": {},
   "outputs": [],
   "source": [
    "sgd = keras.optimizers.SGD(learning_rate=0.1)"
   ]
  },
  {
   "cell_type": "code",
   "execution_count": 118,
   "id": "9edcf7ec",
   "metadata": {},
   "outputs": [],
   "source": [
    "sgd = keras.optimizers.SGD(momentum=0.9, nesterov=True)"
   ]
  },
  {
   "cell_type": "code",
   "execution_count": 119,
   "id": "7ffcdc4c",
   "metadata": {},
   "outputs": [],
   "source": [
    "adagrad = keras.optimizers.Adagrad()\n",
    "model.compile(optimizer=adagrad, loss='sparse_categorical_crossentropy', metrics=['accuracy'])"
   ]
  },
  {
   "cell_type": "code",
   "execution_count": 120,
   "id": "50d33c23",
   "metadata": {},
   "outputs": [],
   "source": [
    "model = keras.Sequential()\n",
    "model.add(keras.layers.Flatten(input_shape=(28,28)))\n",
    "model.add(keras.layers.Dense(100, activation='relu'))\n",
    "model.add(keras.layers.Dense(10, activation='softmax'))"
   ]
  },
  {
   "cell_type": "code",
   "execution_count": 121,
   "id": "cb3b82cb",
   "metadata": {},
   "outputs": [
    {
     "name": "stdout",
     "output_type": "stream",
     "text": [
      "Model: \"sequential_9\"\n",
      "_________________________________________________________________\n",
      " Layer (type)                Output Shape              Param #   \n",
      "=================================================================\n",
      " flatten_3 (Flatten)         (None, 784)               0         \n",
      "                                                                 \n",
      " dense_19 (Dense)            (None, 100)               78500     \n",
      "                                                                 \n",
      " dense_20 (Dense)            (None, 10)                1010      \n",
      "                                                                 \n",
      "=================================================================\n",
      "Total params: 79,510\n",
      "Trainable params: 79,510\n",
      "Non-trainable params: 0\n",
      "_________________________________________________________________\n"
     ]
    }
   ],
   "source": [
    "model.summary()"
   ]
  },
  {
   "cell_type": "code",
   "execution_count": 122,
   "id": "13a7285e",
   "metadata": {},
   "outputs": [
    {
     "name": "stdout",
     "output_type": "stream",
     "text": [
      "Epoch 1/5\n",
      "1500/1500 [==============================] - 3s 2ms/step - loss: 0.5232 - accuracy: 0.8179\n",
      "Epoch 2/5\n",
      "1500/1500 [==============================] - 3s 2ms/step - loss: 0.3918 - accuracy: 0.8609\n",
      "Epoch 3/5\n",
      "1500/1500 [==============================] - 3s 2ms/step - loss: 0.3531 - accuracy: 0.8724\n",
      "Epoch 4/5\n",
      "1500/1500 [==============================] - 3s 2ms/step - loss: 0.3307 - accuracy: 0.8811\n",
      "Epoch 5/5\n",
      "1500/1500 [==============================] - 3s 2ms/step - loss: 0.3102 - accuracy: 0.8867\n"
     ]
    },
    {
     "data": {
      "text/plain": [
       "<keras.callbacks.History at 0x247d5f34820>"
      ]
     },
     "execution_count": 122,
     "metadata": {},
     "output_type": "execute_result"
    }
   ],
   "source": [
    "model.compile(optimizer='adam', loss='sparse_categorical_crossentropy',metrics=['accuracy'])\n",
    "model.fit(train_scaled, train_target, epochs=5)"
   ]
  },
  {
   "cell_type": "code",
   "execution_count": 123,
   "id": "5dfd6594",
   "metadata": {},
   "outputs": [
    {
     "name": "stdout",
     "output_type": "stream",
     "text": [
      "375/375 [==============================] - 1s 1ms/step - loss: 0.3450 - accuracy: 0.8751\n"
     ]
    },
    {
     "data": {
      "text/plain": [
       "[0.3449585437774658, 0.875083327293396]"
      ]
     },
     "execution_count": 123,
     "metadata": {},
     "output_type": "execute_result"
    }
   ],
   "source": [
    "model.evaluate(val_scaled, val_target)"
   ]
  },
  {
   "cell_type": "raw",
   "id": "ea5ea731",
   "metadata": {},
   "source": [
    "'0.8723333477973938'\n",
    "'0.875083327293396' => 위의 성능보다 향상 된걸 볼 수 있다"
   ]
  },
  {
   "cell_type": "markdown",
   "id": "8a5a03f5",
   "metadata": {},
   "source": [
    "## 신경망 모델 훈련"
   ]
  },
  {
   "cell_type": "markdown",
   "id": "996a4f8b",
   "metadata": {},
   "source": [
    "### 손실곡선"
   ]
  },
  {
   "cell_type": "code",
   "execution_count": 124,
   "id": "23342f0b",
   "metadata": {},
   "outputs": [],
   "source": [
    "from tensorflow import keras\n",
    "from sklearn.model_selection import train_test_split\n",
    "\n",
    "(train_input, train_target), (test_input, test_target)=\\\n",
    "    keras.datasets.fashion_mnist.load_data()\n",
    "\n",
    "train_scaled = train_input / 255.0\n",
    "\n",
    "train_scaled, val_scaled, train_target, val_target=train_test_split(\n",
    "    train_scaled, train_target, test_size=0.2, random_state=42)"
   ]
  },
  {
   "cell_type": "code",
   "execution_count": 125,
   "id": "b4dde7e2",
   "metadata": {},
   "outputs": [],
   "source": [
    "def model_fn(a_layer=None):\n",
    "    model=keras.Sequential()\n",
    "    \n",
    "    model.add(keras.layers.Flatten(input_shape=(28,28)))\n",
    "    model.add(keras.layers.Dense(100, activation='relu'))\n",
    "    \n",
    "    if a_layer:\n",
    "        model.add(a_layer)\n",
    "    model.add(keras.layers.Dense(10, activation='softmax'))\n",
    "    \n",
    "    return model\n",
    "\n",
    "# a_layer 매개변수로 케라스 층을 추가하면 은닉층 뒤에 또 하나의 층을 추가하는 것임."
   ]
  },
  {
   "cell_type": "code",
   "execution_count": 126,
   "id": "5250aae7",
   "metadata": {},
   "outputs": [
    {
     "name": "stdout",
     "output_type": "stream",
     "text": [
      "Model: \"sequential_10\"\n",
      "_________________________________________________________________\n",
      " Layer (type)                Output Shape              Param #   \n",
      "=================================================================\n",
      " flatten_4 (Flatten)         (None, 784)               0         \n",
      "                                                                 \n",
      " dense_21 (Dense)            (None, 100)               78500     \n",
      "                                                                 \n",
      " dense_22 (Dense)            (None, 10)                1010      \n",
      "                                                                 \n",
      "=================================================================\n",
      "Total params: 79,510\n",
      "Trainable params: 79,510\n",
      "Non-trainable params: 0\n",
      "_________________________________________________________________\n"
     ]
    }
   ],
   "source": [
    "model=model_fn()\n",
    "model.summary()"
   ]
  },
  {
   "cell_type": "code",
   "execution_count": 127,
   "id": "ff2c6d05",
   "metadata": {},
   "outputs": [],
   "source": [
    "model.compile(loss='sparse_categorical_crossentropy', metrics='accuracy')\n",
    "history=model.fit(train_scaled, train_target, epochs=5, verbose=0)\n",
    "# verbose 0은 훈련과정막대 안나오게하는 매개변수임."
   ]
  },
  {
   "cell_type": "code",
   "execution_count": 128,
   "id": "11a44518",
   "metadata": {},
   "outputs": [
    {
     "name": "stdout",
     "output_type": "stream",
     "text": [
      "dict_keys(['loss', 'accuracy'])\n"
     ]
    }
   ],
   "source": [
    "print(history.history.keys())"
   ]
  },
  {
   "cell_type": "code",
   "execution_count": 130,
   "id": "5640b855",
   "metadata": {},
   "outputs": [
    {
     "data": {
      "image/png": "[encoded data removed]",
      "text/plain": [
       "<Figure size 640x480 with 1 Axes>"
      ]
     },
     "metadata": {},
     "output_type": "display_data"
    }
   ],
   "source": [
    "import matplotlib.pyplot as plt\n",
    "\n",
    "plt.plot(history.history['loss'])\n",
    "\n",
    "plt.xlabel('epoch')\n",
    "plt.ylabel('loss')\n",
    "plt.show()\n",
    "\n",
    "# 0 ~ 4 까지의 에포크가 x축에 표현된다\n",
    "# y축은 계산된 손실값임"
   ]
  },
  {
   "cell_type": "code",
   "execution_count": 132,
   "id": "2d10a76e",
   "metadata": {
    "scrolled": true
   },
   "outputs": [
    {
     "data": {
      "image/png": "[encoded data removed]",
      "text/plain": [
       "<Figure size 640x480 with 1 Axes>"
      ]
     },
     "metadata": {},
     "output_type": "display_data"
    }
   ],
   "source": [
    "plt.plot(history.history['accuracy'])\n",
    "\n",
    "plt.xlabel('epoch')\n",
    "plt.ylabel('accuracy')\n",
    "plt.show()\n",
    "\n",
    "# 에포크마다 손실이 감소하고 정확도가 향상됨."
   ]
  },
  {
   "cell_type": "code",
   "execution_count": 133,
   "id": "8119153d",
   "metadata": {},
   "outputs": [],
   "source": [
    "# 에포크횟수를 20으로 늘려 모델을 훈련\n",
    "model = model_fn()\n",
    "model.compile(loss='sparse_categorical_crossentropy', metrics='accuracy')\n",
    "\n",
    "history = model.fit(train_scaled, train_target, epochs=20, verbose=0)"
   ]
  },
  {
   "cell_type": "code",
   "execution_count": 134,
   "id": "5343d523",
   "metadata": {
    "scrolled": true
   },
   "outputs": [
    {
     "data": {
      "image/png": "[encoded data removed]",
      "text/plain": [
       "<Figure size 640x480 with 1 Axes>"
      ]
     },
     "metadata": {},
     "output_type": "display_data"
    }
   ],
   "source": [
    "plt.plot(history.history['loss'])\n",
    "\n",
    "plt.xlabel('epoch')\n",
    "plt.ylabel('loss')\n",
    "plt.show()"
   ]
  },
  {
   "cell_type": "raw",
   "id": "5d92df0f",
   "metadata": {},
   "source": [
    "=> 손실이 감소하는걸 볼 수 있다"
   ]
  },
  {
   "cell_type": "markdown",
   "id": "7a25f5a9",
   "metadata": {},
   "source": [
    "### 검증손실\n",
    "- 과대/과소적합을 판단하기위한 시각화\n",
    "- 위 손실곡선처럼 훈련세트의 손실만 그려서는 안된다 그러므로 손실을 사용하여  과대/과소적합을 다루어야함"
   ]
  },
  {
   "cell_type": "code",
   "execution_count": 136,
   "id": "52e940e6",
   "metadata": {},
   "outputs": [],
   "source": [
    "model=model_fn()\n",
    "model.compile(loss='sparse_categorical_crossentropy', metrics='accuracy')\n",
    "\n",
    "# 훈련데이터와 시험데이터셋의 학습 및 평가결과를 동시에 비교하기위해\n",
    "# validation_data 옵션에 시험데이터의 정보를 입력\n",
    "history = model.fit(train_scaled, train_target, epochs=20, verbose=0, \n",
    "                    validation_data=(val_scaled, val_target))"
   ]
  },
  {
   "cell_type": "code",
   "execution_count": 137,
   "id": "0fe6c45c",
   "metadata": {},
   "outputs": [
    {
     "name": "stdout",
     "output_type": "stream",
     "text": [
      "dict_keys(['loss', 'accuracy', 'val_loss', 'val_accuracy'])\n"
     ]
    }
   ],
   "source": [
    "print(history.history.keys())"
   ]
  },
  {
   "cell_type": "code",
   "execution_count": 138,
   "id": "a2785b3e",
   "metadata": {
    "scrolled": true
   },
   "outputs": [
    {
     "data": {
      "image/png": "[encoded data removed]",
      "text/plain": [
       "<Figure size 640x480 with 1 Axes>"
      ]
     },
     "metadata": {},
     "output_type": "display_data"
    }
   ],
   "source": [
    "plt.plot(history.history['loss'])\n",
    "plt.plot(history.history['val_loss'])\n",
    "\n",
    "plt.xlabel('epoch')\n",
    "plt.ylabel('loss')\n",
    "plt.legend(['train','val'])\n",
    "\n",
    "plt.show()\n",
    "\n",
    "# 초기에 검증손실이 감소하다가 5번째 에포크만에 다시 상승하기 시작함.\n",
    "# 훈련손실은 꾸준히 감소하기때문에 전형적인 과대적합모델이 만들어짐."
   ]
  },
  {
   "cell_type": "markdown",
   "id": "565f5922",
   "metadata": {},
   "source": [
    "##### 기본 RMSprop대신 Adam을 선택하여 학습"
   ]
  },
  {
   "cell_type": "code",
   "execution_count": 139,
   "id": "ff8e6207",
   "metadata": {},
   "outputs": [],
   "source": [
    "model=model_fn()\n",
    "model.compile(optimizer='adam', loss='sparse_categorical_crossentropy', \n",
    "              metrics='accuracy')\n",
    "\n",
    "history=model.fit(train_scaled, train_target, epochs=20, verbose=0, \n",
    "                    validation_data=(val_scaled, val_target))"
   ]
  },
  {
   "cell_type": "code",
   "execution_count": 140,
   "id": "d32aeb7c",
   "metadata": {},
   "outputs": [
    {
     "data": {
      "image/png": "[encoded data removed]",
      "text/plain": [
       "<Figure size 640x480 with 1 Axes>"
      ]
     },
     "metadata": {},
     "output_type": "display_data"
    }
   ],
   "source": [
    "plt.plot(history.history['loss'])\n",
    "plt.plot(history.history['val_loss'])\n",
    "\n",
    "plt.xlabel('epoch')\n",
    "plt.ylabel('loss')\n",
    "plt.legend(['train', 'val'])\n",
    "\n",
    "plt.show()\n",
    "\n",
    "# 과대적합이 훨씬 줄어드는것을 볼 수 있음.\n",
    "# 검증손실 그래프에 여전히 요동이 남아있지만 10번째 에포크까지 전반적인 감소추세가 이어짐.\n",
    "\n",
    "# Adam 옵티마이저가 이 데이터셋에 잘맞는다는걸을 보여준다"
   ]
  },
  {
   "cell_type": "markdown",
   "id": "1b4aff12",
   "metadata": {},
   "source": [
    "### 드롭아웃\n",
    "- 은닉층의 30% 랜덤하게 사용하지않게하여 과대적합을 제어한다.\n",
    "- 케라스에서는 Dropout층을 제어하고자하는 층 다음에 삽입시킨다."
   ]
  },
  {
   "cell_type": "code",
   "execution_count": 141,
   "id": "57f5afa5",
   "metadata": {},
   "outputs": [
    {
     "name": "stdout",
     "output_type": "stream",
     "text": [
      "Model: \"sequential_14\"\n",
      "_________________________________________________________________\n",
      " Layer (type)                Output Shape              Param #   \n",
      "=================================================================\n",
      " flatten_8 (Flatten)         (None, 784)               0         \n",
      "                                                                 \n",
      " dense_29 (Dense)            (None, 100)               78500     \n",
      "                                                                 \n",
      " dropout (Dropout)           (None, 100)               0         \n",
      "                                                                 \n",
      " dense_30 (Dense)            (None, 10)                1010      \n",
      "                                                                 \n",
      "=================================================================\n",
      "Total params: 79,510\n",
      "Trainable params: 79,510\n",
      "Non-trainable params: 0\n",
      "_________________________________________________________________\n"
     ]
    }
   ],
   "source": [
    "# 30% 정도 드롭아웃\n",
    "model=model_fn(keras.layers.Dropout(0.3))\n",
    "\n",
    "model.summary()"
   ]
  },
  {
   "cell_type": "code",
   "execution_count": 142,
   "id": "4405ac99",
   "metadata": {
    "scrolled": true
   },
   "outputs": [
    {
     "data": {
      "image/png": "[encoded data removed]",
      "text/plain": [
       "<Figure size 640x480 with 1 Axes>"
      ]
     },
     "metadata": {},
     "output_type": "display_data"
    }
   ],
   "source": [
    "model.compile(optimizer = 'adam',loss = 'sparse_categorical_crossentropy', metrics = ['accuracy'])\n",
    "history = model.fit(train_scaled, train_target, epochs=20, verbose=0, validation_data=(val_scaled, val_target))\n",
    "\n",
    "plt.plot(history.history['loss'])\n",
    "plt.plot(history.history['val_loss'])\n",
    "\n",
    "plt.xlabel('epoch')\n",
    "plt.ylabel('loss')\n",
    "plt.legend(['train','val'])\n",
    "\n",
    "plt.show()\n",
    "\n",
    "# 과대적합이 확실히 줄은것을 볼 수 있다\n",
    "# 열번째 에포크 정도에서 검증 손실의 감소가 멈추지만 크게 상승되지않고 유지됨\n",
    "# 이 모델은 20번의 에포크동안 훈련했기때문에 결국 다소 과대적합이되어있다\n",
    "# 그렇다면 과대적합되지않은 모델을 얻기위해 에포크 횟수를 10으로 하고 다시 훈련해보아야 할듯함"
   ]
  },
  {
   "cell_type": "markdown",
   "id": "94f73592",
   "metadata": {},
   "source": [
    "## 모델 저장과 복원"
   ]
  },
  {
   "cell_type": "code",
   "execution_count": 144,
   "id": "568de0ba",
   "metadata": {},
   "outputs": [],
   "source": [
    "model=model_fn(keras.layers.Dropout(0.3))\n",
    "model.compile(optimizer = 'adam',loss = 'sparse_categorical_crossentropy', metrics = ['accuracy'])\n",
    "\n",
    "history=model.fit(train_scaled, train_target, epochs=10, verbose=0, validation_data=(val_scaled, val_target))"
   ]
  },
  {
   "cell_type": "code",
   "execution_count": 145,
   "id": "109b0ee2",
   "metadata": {},
   "outputs": [],
   "source": [
    "model.save_weights('model-weights.h5')"
   ]
  },
  {
   "cell_type": "code",
   "execution_count": 146,
   "id": "29f6f09b",
   "metadata": {},
   "outputs": [],
   "source": [
    "model.save('model-whole.h5')"
   ]
  },
  {
   "cell_type": "markdown",
   "id": "a0ae52d6",
   "metadata": {},
   "source": [
    "### 개별 예측값 검증"
   ]
  },
  {
   "cell_type": "code",
   "execution_count": 148,
   "id": "d07a7ba3",
   "metadata": {},
   "outputs": [
    {
     "name": "stdout",
     "output_type": "stream",
     "text": [
      "375/375 [==============================] - 1s 1ms/step\n"
     ]
    },
    {
     "data": {
      "text/plain": [
       "(12000, 10)"
      ]
     },
     "execution_count": 148,
     "metadata": {},
     "output_type": "execute_result"
    }
   ],
   "source": [
    "import numpy as np\n",
    "\n",
    "model.predict(val_scaled).shape"
   ]
  },
  {
   "cell_type": "code",
   "execution_count": 149,
   "id": "4efe3ecb",
   "metadata": {
    "scrolled": true
   },
   "outputs": [
    {
     "name": "stdout",
     "output_type": "stream",
     "text": [
      "375/375 [==============================] - 0s 1ms/step\n"
     ]
    },
    {
     "data": {
      "text/plain": [
       "array([2.0286919e-09, 4.8237391e-15, 3.5750101e-11, 6.1970156e-12,\n",
       "       3.6054555e-11, 3.1837735e-05, 6.1547059e-11, 4.7225390e-07,\n",
       "       9.9996769e-01, 1.6797246e-10], dtype=float32)"
      ]
     },
     "execution_count": 149,
     "metadata": {},
     "output_type": "execute_result"
    }
   ],
   "source": [
    "model.predict(val_scaled)[0]"
   ]
  },
  {
   "cell_type": "code",
   "execution_count": 150,
   "id": "f1154172",
   "metadata": {},
   "outputs": [
    {
     "name": "stdout",
     "output_type": "stream",
     "text": [
      "375/375 [==============================] - 0s 1ms/step\n"
     ]
    },
    {
     "data": {
      "text/plain": [
       "8"
      ]
     },
     "execution_count": 150,
     "metadata": {},
     "output_type": "execute_result"
    }
   ],
   "source": [
    "# argmax는 배열에 있는 값 중 가장 큰 값을 포함하고 있는 인덱스를 반환\n",
    "np.argmax(model.predict(val_scaled)[0])\n",
    "# 8은 메뉴얼에서 정의된 8번째 인덱스 가방을 의미한다."
   ]
  },
  {
   "cell_type": "markdown",
   "id": "191f6d5d",
   "metadata": {},
   "source": [
    "### argmax의 이해\n",
    "- 가장 큰값의 인덱스를 가져온다"
   ]
  },
  {
   "cell_type": "code",
   "execution_count": 151,
   "id": "ed67265a",
   "metadata": {},
   "outputs": [
    {
     "name": "stdout",
     "output_type": "stream",
     "text": [
      "375/375 [==============================] - 0s 1ms/step\n",
      "0.8759166666666667\n"
     ]
    }
   ],
   "source": [
    "val_labels=np.argmax(model.predict(val_scaled), axis=1)\n",
    "\n",
    "print(np.mean(val_labels==val_target))"
   ]
  },
  {
   "cell_type": "code",
   "execution_count": 152,
   "id": "a48e44a2",
   "metadata": {},
   "outputs": [
    {
     "name": "stdout",
     "output_type": "stream",
     "text": [
      "375/375 [==============================] - 1s 1ms/step - loss: 0.3419 - accuracy: 0.8759\n"
     ]
    },
    {
     "data": {
      "text/plain": [
       "[0.34186962246894836, 0.8759166598320007]"
      ]
     },
     "execution_count": 152,
     "metadata": {},
     "output_type": "execute_result"
    }
   ],
   "source": [
    "model=keras.models.load_model('model-whole.h5')\n",
    "model.evaluate(val_scaled, val_target)"
   ]
  },
  {
   "cell_type": "markdown",
   "id": "bd01caf1",
   "metadata": {},
   "source": [
    "## 콜백\n",
    "- 훈련 과정 중간에 특정 작업을 수행할 수 있게 하는 객체이다\n",
    "- 주로 조기 종료의 용도로 사용한다"
   ]
  },
  {
   "cell_type": "code",
   "execution_count": 159,
   "id": "2c99f309",
   "metadata": {},
   "outputs": [
    {
     "data": {
      "text/plain": [
       "<keras.callbacks.History at 0x247bb0ec910>"
      ]
     },
     "execution_count": 159,
     "metadata": {},
     "output_type": "execute_result"
    }
   ],
   "source": [
    "model=model_fn(keras.layers.Dropout(0.3))\n",
    "model.compile(optimizer='adam', loss='sparse_categorical_crossentropy',\n",
    "             metrics=['accuracy'])\n",
    "\n",
    "checkpoint_cb=keras.callbacks.ModelCheckpoint('best-model.h5',\n",
    "                                             save_best_only=True)\n",
    "\n",
    "model.fit(train_scaled, train_target, epochs=20, verbose=0, \n",
    "          validation_data=(val_scaled, val_target),\n",
    "          callbacks=[checkpoint_cb])"
   ]
  },
  {
   "cell_type": "code",
   "execution_count": 160,
   "id": "d406497f",
   "metadata": {
    "scrolled": true
   },
   "outputs": [
    {
     "name": "stdout",
     "output_type": "stream",
     "text": [
      "375/375 [==============================] - 1s 1ms/step - loss: 0.3118 - accuracy: 0.8878\n"
     ]
    },
    {
     "data": {
      "text/plain": [
       "[0.3117927014827728, 0.8878333568572998]"
      ]
     },
     "execution_count": 160,
     "metadata": {},
     "output_type": "execute_result"
    }
   ],
   "source": [
    "model = keras.models.load_model('best-model.h5')\n",
    "model.evaluate(val_scaled, val_target)"
   ]
  },
  {
   "cell_type": "markdown",
   "id": "c02fd4ed",
   "metadata": {},
   "source": [
    "#### 조기종료"
   ]
  },
  {
   "cell_type": "code",
   "execution_count": 161,
   "id": "fc3f1b8b",
   "metadata": {},
   "outputs": [],
   "source": [
    "model = model_fn(keras.layers.Dropout(0.3))\n",
    "model.compile(optimizer='adam', loss='sparse_categorical_crossentropy', \n",
    "              metrics='accuracy')\n",
    "\n",
    "checkpoint_cb = keras.callbacks.ModelCheckpoint('best-model.h5', \n",
    "                                               save_best_only=True)\n",
    "\n",
    "# patience : 모델성능이 향상되지않는 (손실값이 줄어들지않는)것을 지속시킬 최대 에포크\n",
    "# restore_best_weights : EarlyStop시 최적의 가중치 조건으로 복원\n",
    "early_stopping_cb = keras.callbacks.EarlyStopping(patience=2,\n",
    "                                                  restore_best_weights=True)\n",
    "\n",
    "history = model.fit(train_scaled, train_target, epochs=20, verbose=0, \n",
    "                    validation_data=(val_scaled, val_target),\n",
    "                    callbacks=[checkpoint_cb, early_stopping_cb])"
   ]
  },
  {
   "cell_type": "code",
   "execution_count": 162,
   "id": "1ce5fa18",
   "metadata": {},
   "outputs": [
    {
     "name": "stdout",
     "output_type": "stream",
     "text": [
      "9\n"
     ]
    }
   ],
   "source": [
    "print(early_stopping_cb.stopped_epoch)"
   ]
  },
  {
   "cell_type": "code",
   "execution_count": 163,
   "id": "14452340",
   "metadata": {},
   "outputs": [
    {
     "data": {
      "image/png": "[encoded data removed]",
      "text/plain": [
       "<Figure size 640x480 with 1 Axes>"
      ]
     },
     "metadata": {},
     "output_type": "display_data"
    }
   ],
   "source": [
    "plt.plot(history.history['loss'])\n",
    "plt.plot(history.history['val_loss'])\n",
    "\n",
    "plt.xlabel('epoch')\n",
    "plt.ylabel('loss')\n",
    "plt.legend(['train', 'val'])\n",
    "\n",
    "plt.show()\n",
    "\n",
    "# 열한번째 에포크에서 가장 낮은 손실을 기록했고 \n",
    "# 열세번째 에포크에서 훈련이 중지된걸 확인할 수 있음.\n",
    "\n",
    "# 조기종료기법을 사용하면 안심하고 에포크 횟수를 크게 지정해도 괜찮다"
   ]
  },
  {
   "cell_type": "code",
   "execution_count": 164,
   "id": "54a5c235",
   "metadata": {},
   "outputs": [
    {
     "name": "stdout",
     "output_type": "stream",
     "text": [
      "375/375 [==============================] - 0s 1ms/step - loss: 0.3217 - accuracy: 0.8838\n"
     ]
    },
    {
     "data": {
      "text/plain": [
       "[0.32165610790252686, 0.8837500214576721]"
      ]
     },
     "execution_count": 164,
     "metadata": {},
     "output_type": "execute_result"
    }
   ],
   "source": [
    "model.evaluate(val_scaled, val_target)"
   ]
  },
  {
   "cell_type": "code",
   "execution_count": null,
   "id": "8609b753",
   "metadata": {},
   "outputs": [],
   "source": []
  }
 ],
 "metadata": {
  "kernelspec": {
   "display_name": "Python 3 (ipykernel)",
   "language": "python",
   "name": "python3"
  },
  "language_info": {
   "codemirror_mode": {
    "name": "ipython",
    "version": 3
   },
   "file_extension": ".py",
   "mimetype": "text/x-python",
   "name": "python",
   "nbconvert_exporter": "python",
   "pygments_lexer": "ipython3",
   "version": "3.10.5"
  }
 },
 "nbformat": 4,
 "nbformat_minor": 5
}
