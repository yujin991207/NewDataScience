{
 "cells": [
  {
   "cell_type": "markdown",
   "id": "4a08c6f5",
   "metadata": {},
   "source": [
    "## 합성곱 신경망 (CNN)을 사용한 이미지 분류"
   ]
  },
  {
   "cell_type": "code",
   "execution_count": 1,
   "id": "780f05dc",
   "metadata": {},
   "outputs": [
    {
     "ename": "ModuleNotFoundError",
     "evalue": "No module named 'tensorflow'",
     "output_type": "error",
     "traceback": [
      "\u001b[0;31m---------------------------------------------------------------------------\u001b[0m",
      "\u001b[0;31mModuleNotFoundError\u001b[0m                       Traceback (most recent call last)",
      "\u001b[0;32m/var/folders/j5/qjnwvgcx1mq568fwr0y_xbhr0000gn/T/ipykernel_15675/3275849646.py\u001b[0m in \u001b[0;36m<module>\u001b[0;34m\u001b[0m\n\u001b[0;32m----> 1\u001b[0;31m \u001b[0;32mimport\u001b[0m \u001b[0mtensorflow\u001b[0m \u001b[0;32mas\u001b[0m \u001b[0mtf\u001b[0m\u001b[0;34m\u001b[0m\u001b[0;34m\u001b[0m\u001b[0m\n\u001b[0m\u001b[1;32m      2\u001b[0m \u001b[0;34m\u001b[0m\u001b[0m\n\u001b[1;32m      3\u001b[0m \u001b[0mtf\u001b[0m\u001b[0;34m.\u001b[0m\u001b[0mkeras\u001b[0m\u001b[0;34m.\u001b[0m\u001b[0mutils\u001b[0m\u001b[0;34m.\u001b[0m\u001b[0mset_random_seed\u001b[0m\u001b[0;34m(\u001b[0m\u001b[0;36m42\u001b[0m\u001b[0;34m)\u001b[0m\u001b[0;34m\u001b[0m\u001b[0;34m\u001b[0m\u001b[0m\n\u001b[1;32m      4\u001b[0m \u001b[0mtf\u001b[0m\u001b[0;34m.\u001b[0m\u001b[0mconfig\u001b[0m\u001b[0;34m.\u001b[0m\u001b[0mexperimental\u001b[0m\u001b[0;34m.\u001b[0m\u001b[0menable_op_determinism\u001b[0m\u001b[0;34m(\u001b[0m\u001b[0;34m)\u001b[0m\u001b[0;34m\u001b[0m\u001b[0;34m\u001b[0m\u001b[0m\n",
      "\u001b[0;31mModuleNotFoundError\u001b[0m: No module named 'tensorflow'"
     ]
    }
   ],
   "source": [
    "import tensorflow as tf\n",
    "\n",
    "tf.keras.utils.set_random_seed(42)\n",
    "tf.config.experimental.enable_op_determinism()"
   ]
  },
  {
   "cell_type": "markdown",
   "id": "6459a7da",
   "metadata": {},
   "source": [
    "### 패션 MNIST 데이터 불러오기"
   ]
  },
  {
   "cell_type": "code",
   "execution_count": 3,
   "id": "d2fb6927",
   "metadata": {},
   "outputs": [],
   "source": [
    "from tensorflow import keras\n",
    "from sklearn.model_selection import train_test_split\n",
    "\n",
    "(train_input, train_target), (test_input, test_target) = \\\n",
    "    keras.datasets.fashion_mnist.load_data()\n",
    "\n",
    "train_scaled = train_input.reshape(-1, 28, 28, 1) / 255.0\n",
    "\n",
    "train_scaled, val_scaled, train_target, val_target = train_test_split(\n",
    "    train_scaled, train_target, test_size=0.2, random_state=42)"
   ]
  },
  {
   "cell_type": "markdown",
   "id": "f2d4d41d",
   "metadata": {},
   "source": [
    "### 합성곱 신경망"
   ]
  },
  {
   "cell_type": "markdown",
   "id": "648516cd",
   "metadata": {},
   "source": [
    "#### 합성곱 신경망 만들기"
   ]
  },
  {
   "cell_type": "code",
   "execution_count": 11,
   "id": "b801a62c",
   "metadata": {},
   "outputs": [],
   "source": [
    "model = keras.Sequential()"
   ]
  },
  {
   "cell_type": "code",
   "execution_count": 12,
   "id": "3161672f",
   "metadata": {},
   "outputs": [],
   "source": [
    "# 32개의 필터, 커널의 크기는 (3,3), 렐루활성화함수와 세임패딩을 사용\n",
    "model.add(keras.layers.Conv2D(32, kernel_size=3, activation='relu',\n",
    "                             padding='same', input_shape=(28,28,1)))"
   ]
  },
  {
   "cell_type": "code",
   "execution_count": 13,
   "id": "e490d5ba",
   "metadata": {},
   "outputs": [],
   "source": [
    "# 풀링층 추가, 2*2사이즈의 풀링 적용\n",
    "model.add(keras.layers.MaxPooling2D(2))"
   ]
  },
  {
   "cell_type": "raw",
   "id": "e2549dfb",
   "metadata": {},
   "source": [
    "패션 MNIST 이미지가 (28,28) 크기에 세임패딩을 적용했기때문에 \n",
    "합성곱 층에서 출력된 특성 맵의 가로세로 크기는 입력과 동일하다. \n",
    "그다음 (2,2) 풀링을 적용했으므로 특성 맵의 크기는 절반으로 줄어든다. \n",
    "합성곱 층에서 32개의 필터를 사용했기 때문에 이 특성 맵의 깊이는 32가 된다."
   ]
  },
  {
   "cell_type": "code",
   "execution_count": 14,
   "id": "9795b430",
   "metadata": {},
   "outputs": [],
   "source": [
    "# 첫번째 합성곱 - 풀링층 다음에 두번째 합성곱 - 풀링층을 추가해보자\n",
    "model.add(keras.layers.Conv2D(64, kernel_size=(3,3), activation='relu',\n",
    "                             padding='same'))\n",
    "model.add(keras.layers.MaxPooling2D(2))\n",
    "\n",
    "#64개의 필터를 사용했으므로 맵의 크기는 (7,7,64)"
   ]
  },
  {
   "cell_type": "code",
   "execution_count": 15,
   "id": "83299c8f",
   "metadata": {},
   "outputs": [],
   "source": [
    "# 특성맵을 일렬로 펼쳐서 바로 출력층에 전달하지않고\n",
    "# 중간에 하나의 밀집 은닉층을 하나 더 둔다.\n",
    "\n",
    "# Flatten클래스 다음 Dense 은닉층 마지막으로 Dense 출력층\n",
    "model.add(keras.layers.Flatten())\n",
    "model.add(keras.layers.Dense(100, activation='relu'))\n",
    "model.add(keras.layers.Dropout(0.4))\n",
    "model.add(keras.layers.Dense(10, activation='softmax'))"
   ]
  },
  {
   "cell_type": "code",
   "execution_count": 16,
   "id": "8c614eaa",
   "metadata": {},
   "outputs": [
    {
     "name": "stdout",
     "output_type": "stream",
     "text": [
      "Model: \"sequential_1\"\n",
      "_________________________________________________________________\n",
      " Layer (type)                Output Shape              Param #   \n",
      "=================================================================\n",
      " conv2d_3 (Conv2D)           (None, 28, 28, 32)        320       \n",
      "                                                                 \n",
      " max_pooling2d_3 (MaxPooling  (None, 14, 14, 32)       0         \n",
      " 2D)                                                             \n",
      "                                                                 \n",
      " conv2d_4 (Conv2D)           (None, 14, 14, 64)        18496     \n",
      "                                                                 \n",
      " max_pooling2d_4 (MaxPooling  (None, 7, 7, 64)         0         \n",
      " 2D)                                                             \n",
      "                                                                 \n",
      " flatten_1 (Flatten)         (None, 3136)              0         \n",
      "                                                                 \n",
      " dense_2 (Dense)             (None, 100)               313700    \n",
      "                                                                 \n",
      " dropout_1 (Dropout)         (None, 100)               0         \n",
      "                                                                 \n",
      " dense_3 (Dense)             (None, 10)                1010      \n",
      "                                                                 \n",
      "=================================================================\n",
      "Total params: 333,526\n",
      "Trainable params: 333,526\n",
      "Non-trainable params: 0\n",
      "_________________________________________________________________\n"
     ]
    }
   ],
   "source": [
    "model.summary()"
   ]
  },
  {
   "cell_type": "code",
   "execution_count": 17,
   "id": "dcf21885",
   "metadata": {},
   "outputs": [
    {
     "name": "stdout",
     "output_type": "stream",
     "text": [
      "You must install pydot (`pip install pydot`) and install graphviz (see instructions at https://graphviz.gitlab.io/download/) for plot_model to work.\n"
     ]
    }
   ],
   "source": [
    "keras.utils.plot_model(model)"
   ]
  },
  {
   "cell_type": "code",
   "execution_count": 18,
   "id": "b0fcd275",
   "metadata": {
    "scrolled": false
   },
   "outputs": [
    {
     "name": "stdout",
     "output_type": "stream",
     "text": [
      "You must install pydot (`pip install pydot`) and install graphviz (see instructions at https://graphviz.gitlab.io/download/) for plot_model to work.\n"
     ]
    }
   ],
   "source": [
    "keras.utils.plot_model(model, show_shapes=True, to_file='cnn-architecture.png', dpi=300)"
   ]
  },
  {
   "cell_type": "markdown",
   "id": "843f43ee",
   "metadata": {},
   "source": [
    "## 모델 컴파일과 훈련\n",
    "- Adam 옵티마이저를 사용하고 콜백을 사용해 조기 종료 기법을 구현"
   ]
  },
  {
   "cell_type": "code",
   "execution_count": 20,
   "id": "a0509c75",
   "metadata": {},
   "outputs": [],
   "source": [
    "model.compile(optimizer='adam', loss='sparse_categorical_crossentropy', \n",
    "              metrics=['accuracy'])\n",
    "\n",
    "checkpoint_cb = keras.callbacks.ModelCheckpoint('best-cnn-model.h5', \n",
    "                                                save_best_only=True)\n",
    "\n",
    "early_stopping_cb = keras.callbacks.EarlyStopping(patience=2,\n",
    "                                                  restore_best_weights=True)\n",
    "\n",
    "history = model.fit(train_scaled, train_target, epochs=20,\n",
    "                    validation_data=(val_scaled, val_target),\n",
    "                    callbacks=[checkpoint_cb, early_stopping_cb])"
   ]
  },
  {
   "cell_type": "code",
   "execution_count": null,
   "id": "fbab2284",
   "metadata": {},
   "outputs": [],
   "source": [
    "import matplotlib.pyplot as plt\n",
    "\n",
    "plt.plot(history.history['loss'])\n",
    "plt.plot(history.history['val_loss'])\n",
    "\n",
    "plt.xlabel('epoch')\n",
    "plt.ylabel('loss')\n",
    "plt.legend(['train','val'])\n",
    "\n",
    "plt.show()\n",
    "\n",
    "# 검증세트에 대한 손실이 점차 감소하다가 정체되기시작하고 훈련세트에 데한 손실은 점점 더 낮아지고있음.\n",
    "# 이 그래프를 기반으로 네번째 에포크를 최적으로 생각할 수 있음"
   ]
  },
  {
   "cell_type": "code",
   "execution_count": null,
   "id": "6911dcfe",
   "metadata": {},
   "outputs": [],
   "source": [
    "model.evaluate(val_scaled, val_target)"
   ]
  },
  {
   "cell_type": "markdown",
   "id": "0d842981",
   "metadata": {},
   "source": [
    "#### predict()메서드를 사용한 훈련모델"
   ]
  },
  {
   "cell_type": "code",
   "execution_count": null,
   "id": "1154a583",
   "metadata": {},
   "outputs": [],
   "source": [
    "plt.imshow(val_scaled[0].reshape(28,28), cmap='gray_r')\n",
    "plt.show()"
   ]
  },
  {
   "cell_type": "code",
   "execution_count": null,
   "id": "264df785",
   "metadata": {},
   "outputs": [],
   "source": [
    "preds = model.predict(val_scaled[0:1])\n",
    "print(preds)\n",
    "\n",
    "# 출력결과를 보면 아홉번째값이 1이고 다른값은 거의 0에 가까운걸 볼 수 있다\n",
    "# 다시 말해 9번째 클래스라고 강하게 예측"
   ]
  },
  {
   "cell_type": "code",
   "execution_count": null,
   "id": "48f85918",
   "metadata": {},
   "outputs": [],
   "source": [
    "classes = ['티셔츠', '바지', '스웨터', '드레스', '코트',\n",
    "           '샌달', '셔츠', '스니커즈', '가방', '앵클 부츠']"
   ]
  },
  {
   "cell_type": "code",
   "execution_count": null,
   "id": "9fbf1fe1",
   "metadata": {},
   "outputs": [],
   "source": [
    "import numpy as np\n",
    "print(classes[np.argmax(preds)])"
   ]
  },
  {
   "cell_type": "code",
   "execution_count": null,
   "id": "2df6d637",
   "metadata": {},
   "outputs": [],
   "source": [
    "test_scaled = test_input.reshape(-1,28,28,1) / 255.0"
   ]
  },
  {
   "cell_type": "code",
   "execution_count": null,
   "id": "9cd6dee3",
   "metadata": {},
   "outputs": [],
   "source": [
    "model.evaluate(test_scaled, test_target)"
   ]
  },
  {
   "cell_type": "raw",
   "id": "315e8760",
   "metadata": {},
   "source": [
    "=> 이 모델을 실전에 투입하면 약 91%의 성능을 기대해 볼 수 있다."
   ]
  }
 ],
 "metadata": {
  "kernelspec": {
   "display_name": "Python 3 (ipykernel)",
   "language": "python",
   "name": "python3"
  },
  "language_info": {
   "codemirror_mode": {
    "name": "ipython",
    "version": 3
   },
   "file_extension": ".py",
   "mimetype": "text/x-python",
   "name": "python",
   "nbconvert_exporter": "python",
   "pygments_lexer": "ipython3",
   "version": "3.9.13"
  }
 },
 "nbformat": 4,
 "nbformat_minor": 5
}
