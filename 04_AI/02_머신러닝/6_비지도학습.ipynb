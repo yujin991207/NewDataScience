{
 "cells": [
  {
   "cell_type": "markdown",
   "id": "a49cc69e",
   "metadata": {},
   "source": [
    "## 지도학습  비지도학습"
   ]
  },
  {
   "cell_type": "markdown",
   "id": "59f21a08",
   "metadata": {},
   "source": [
    "- 지도학습 : feature - target\n",
    "- 비지도학습 : feature에 대한 의미가 데이터에 없다 (정답이없다) 그러므로 비지도학습모델을 만들어주면 feature가 어떤 모델인지 알려준다."
   ]
  },
  {
   "cell_type": "code",
   "execution_count": 42,
   "id": "0fed19bc",
   "metadata": {},
   "outputs": [],
   "source": [
    "# 목적: clustering 관련 모듈 기본\n",
    "import matplotlib, matplotlib.pyplot as plt\n",
    "#from matplotlib.colors import ListedColormap\n",
    "import pandas as pd\n",
    "import sklearn.cluster, sklearn.preprocessing\n",
    "import warnings\n",
    "warnings.filterwarnings('ignore')"
   ]
  },
  {
   "cell_type": "code",
   "execution_count": 84,
   "id": "d8ce680c",
   "metadata": {
    "scrolled": true
   },
   "outputs": [
    {
     "data": {
      "text/html": [
       "<div>\n",
       "<style scoped>\n",
       "    .dataframe tbody tr th:only-of-type {\n",
       "        vertical-align: middle;\n",
       "    }\n",
       "\n",
       "    .dataframe tbody tr th {\n",
       "        vertical-align: top;\n",
       "    }\n",
       "\n",
       "    .dataframe thead th {\n",
       "        text-align: right;\n",
       "    }\n",
       "</style>\n",
       "<table border=\"1\" class=\"dataframe\">\n",
       "  <thead>\n",
       "    <tr style=\"text-align: right;\">\n",
       "      <th></th>\n",
       "      <th>Postal</th>\n",
       "      <th>Beer</th>\n",
       "      <th>Wine</th>\n",
       "    </tr>\n",
       "    <tr>\n",
       "      <th>State</th>\n",
       "      <th></th>\n",
       "      <th></th>\n",
       "      <th></th>\n",
       "    </tr>\n",
       "  </thead>\n",
       "  <tbody>\n",
       "    <tr>\n",
       "      <th>Alabama</th>\n",
       "      <td>AL</td>\n",
       "      <td>1.20</td>\n",
       "      <td>0.22</td>\n",
       "    </tr>\n",
       "    <tr>\n",
       "      <th>Alaska</th>\n",
       "      <td>AK</td>\n",
       "      <td>1.31</td>\n",
       "      <td>0.54</td>\n",
       "    </tr>\n",
       "    <tr>\n",
       "      <th>Arizona</th>\n",
       "      <td>AZ</td>\n",
       "      <td>1.19</td>\n",
       "      <td>0.38</td>\n",
       "    </tr>\n",
       "    <tr>\n",
       "      <th>Arkansas</th>\n",
       "      <td>AR</td>\n",
       "      <td>1.07</td>\n",
       "      <td>0.17</td>\n",
       "    </tr>\n",
       "    <tr>\n",
       "      <th>California</th>\n",
       "      <td>CA</td>\n",
       "      <td>1.05</td>\n",
       "      <td>0.55</td>\n",
       "    </tr>\n",
       "  </tbody>\n",
       "</table>\n",
       "</div>"
      ],
      "text/plain": [
       "           Postal  Beer  Wine\n",
       "State                        \n",
       "Alabama        AL  1.20  0.22\n",
       "Alaska         AK  1.31  0.54\n",
       "Arizona        AZ  1.19  0.38\n",
       "Arkansas       AR  1.07  0.17\n",
       "California     CA  1.05  0.55"
      ]
     },
     "execution_count": 84,
     "metadata": {},
     "output_type": "execute_result"
    }
   ],
   "source": [
    "alco2009 = pd.read_csv(\"niaaa-report2009.csv\",index_col=\"State\")\n",
    "alco2009.head()\n",
    "\n",
    "# Postal : 지역코드\n",
    "# Beer : 맥주소비량\n",
    "# Wine : 와인소비량"
   ]
  },
  {
   "cell_type": "code",
   "execution_count": 66,
   "id": "69fe57d0",
   "metadata": {},
   "outputs": [
    {
     "data": {
      "text/plain": [
       "(51, 3)"
      ]
     },
     "execution_count": 66,
     "metadata": {},
     "output_type": "execute_result"
    }
   ],
   "source": [
    "alco2009.shape"
   ]
  },
  {
   "cell_type": "code",
   "execution_count": 86,
   "id": "f3c16378",
   "metadata": {},
   "outputs": [
    {
     "data": {
      "text/html": [
       "<div>\n",
       "<style scoped>\n",
       "    .dataframe tbody tr th:only-of-type {\n",
       "        vertical-align: middle;\n",
       "    }\n",
       "\n",
       "    .dataframe tbody tr th {\n",
       "        vertical-align: top;\n",
       "    }\n",
       "\n",
       "    .dataframe thead th {\n",
       "        text-align: right;\n",
       "    }\n",
       "</style>\n",
       "<table border=\"1\" class=\"dataframe\">\n",
       "  <thead>\n",
       "    <tr style=\"text-align: right;\">\n",
       "      <th></th>\n",
       "      <th>Postal</th>\n",
       "      <th>Beer</th>\n",
       "      <th>Wine</th>\n",
       "      <th>Clusters</th>\n",
       "    </tr>\n",
       "    <tr>\n",
       "      <th>State</th>\n",
       "      <th></th>\n",
       "      <th></th>\n",
       "      <th></th>\n",
       "      <th></th>\n",
       "    </tr>\n",
       "  </thead>\n",
       "  <tbody>\n",
       "    <tr>\n",
       "      <th>Alabama</th>\n",
       "      <td>AL</td>\n",
       "      <td>1.20</td>\n",
       "      <td>0.22</td>\n",
       "      <td>3</td>\n",
       "    </tr>\n",
       "    <tr>\n",
       "      <th>Alaska</th>\n",
       "      <td>AK</td>\n",
       "      <td>1.31</td>\n",
       "      <td>0.54</td>\n",
       "      <td>2</td>\n",
       "    </tr>\n",
       "    <tr>\n",
       "      <th>Arizona</th>\n",
       "      <td>AZ</td>\n",
       "      <td>1.19</td>\n",
       "      <td>0.38</td>\n",
       "      <td>7</td>\n",
       "    </tr>\n",
       "    <tr>\n",
       "      <th>Arkansas</th>\n",
       "      <td>AR</td>\n",
       "      <td>1.07</td>\n",
       "      <td>0.17</td>\n",
       "      <td>3</td>\n",
       "    </tr>\n",
       "    <tr>\n",
       "      <th>California</th>\n",
       "      <td>CA</td>\n",
       "      <td>1.05</td>\n",
       "      <td>0.55</td>\n",
       "      <td>0</td>\n",
       "    </tr>\n",
       "  </tbody>\n",
       "</table>\n",
       "</div>"
      ],
      "text/plain": [
       "           Postal  Beer  Wine  Clusters\n",
       "State                                  \n",
       "Alabama        AL  1.20  0.22         3\n",
       "Alaska         AK  1.31  0.54         2\n",
       "Arizona        AZ  1.19  0.38         7\n",
       "Arkansas       AR  1.07  0.17         3\n",
       "California     CA  1.05  0.55         0"
      ]
     },
     "execution_count": 86,
     "metadata": {},
     "output_type": "execute_result"
    }
   ],
   "source": [
    "columns = [\"Wine\", \"Beer\"]\n",
    "\n",
    "# 클러스터링 객체를 생성하고 모델을 학습시킨다.\n",
    "# n_cluster인자 수 만큼 임의로 데이터를 군집화\n",
    "kmeans = sklearn.cluster.KMeans(n_clusters=9,random_state=77)\n",
    "kmeans.fit(alco2009[columns])\n",
    "alco2009[\"Clusters\"] = kmeans.labels_\n",
    "alco2009.head()"
   ]
  },
  {
   "cell_type": "code",
   "execution_count": 68,
   "id": "6a2507b0",
   "metadata": {},
   "outputs": [
    {
     "data": {
      "text/plain": [
       "Text(0.5, 1.0, 'US States Clustered by Alcohol Consumption')"
      ]
     },
     "execution_count": 68,
     "metadata": {},
     "output_type": "execute_result"
    },
    {
     "data": {
      "image/png": "[encoded data removed]",
      "text/plain": [
       "<Figure size 640x480 with 2 Axes>"
      ]
     },
     "metadata": {},
     "output_type": "display_data"
    }
   ],
   "source": [
    "centers = pd.DataFrame(kmeans.cluster_centers_, columns=columns)\n",
    "\n",
    "# 플로팅 스타일을 선택한다.\n",
    "#matplotlib.style.use(\"ggplot\")\n",
    "\n",
    "# 주와 centroid를 플롯에 그린다.\n",
    "# ax = alco2009.plot.scatter(columns[0], columns[1], c=\"Clusters\", \n",
    "#                            cmap=plt.cm.Accent, s=100)\n",
    "ax = alco2009.plot.scatter(columns[0], columns[1], c=\"Clusters\", \n",
    "                            cmap = 'inferno',s=100)\n",
    "centers.plot.scatter(columns[0], columns[1], color=\"red\", marker=\"+\", \n",
    "                     s=200, ax=ax)\n",
    "plt.title(\"US States Clustered by Alcohol Consumption\")"
   ]
  },
  {
   "cell_type": "code",
   "execution_count": 69,
   "id": "da9f118e",
   "metadata": {
    "scrolled": true
   },
   "outputs": [
    {
     "name": "stdout",
     "output_type": "stream",
     "text": [
      "score for 2 clusters:0.348\n",
      "score for 3 clusters:0.372\n",
      "score for 4 clusters:0.376\n",
      "score for 5 clusters:0.413\n",
      "score for 6 clusters:0.453\n",
      "score for 7 clusters:0.385\n",
      "score for 8 clusters:0.444\n",
      "score for 9 clusters:0.425\n",
      "score for 10 clusters:0.395\n",
      "score for 11 clusters:0.374\n",
      "score for 12 clusters:0.385\n",
      "score for 13 clusters:0.381\n",
      "score for 14 clusters:0.424\n",
      "score for 15 clusters:0.398\n",
      "score for 16 clusters:0.377\n",
      "score for 17 clusters:0.396\n",
      "score for 18 clusters:0.367\n",
      "score for 19 clusters:0.368\n",
      "\n",
      " 최적의 클러스터개수: 6, silhouette 점수: 0.45345900547408574\n"
     ]
    }
   ],
   "source": [
    "from sklearn.metrics import silhouette_score\n",
    "from sklearn.cluster import KMeans\n",
    "\n",
    "max_score = 0\n",
    "optimized_n = 0\n",
    "for k in range(2,20):\n",
    "   \n",
    "    km = KMeans(n_clusters=k,random_state=77).fit(alco2009[columns])\n",
    "    # silhouette_score N개로 클러스터링했을 때 중심점을 기준으로 얼마나 잘 뭉쳐있는정도를 나타내는 수치\n",
    "    s_score = silhouette_score(alco2009[columns],km.labels_)\n",
    "    if s_score > max_score:\n",
    "        max_score = s_score\n",
    "        optimized_n = k\n",
    "    print(\"score for %d clusters:%.3f\" % (k, s_score))\n",
    "    \n",
    "print(f'\\n 최적의 클러스터개수: {optimized_n}, silhouette 점수: {max_score}')"
   ]
  },
  {
   "cell_type": "code",
   "execution_count": 70,
   "id": "21c79c95",
   "metadata": {},
   "outputs": [
    {
     "data": {
      "text/plain": [
       "Text(0.5, 1.0, 'US States Clustered by Alcohol Consumption')"
      ]
     },
     "execution_count": 70,
     "metadata": {},
     "output_type": "execute_result"
    },
    {
     "data": {
      "image/png": "[encoded data removed]",
      "text/plain": [
       "<Figure size 640x480 with 2 Axes>"
      ]
     },
     "metadata": {},
     "output_type": "display_data"
    }
   ],
   "source": [
    "columns = [\"Wine\", \"Beer\"]\n",
    "# 클러스터링 객체를 생성하고 모델을 학습시킨다.\n",
    "kmeans = sklearn.cluster.KMeans(n_clusters=optimized_n)\n",
    "kmeans.fit(alco2009[columns])\n",
    "alco2009[\"Clusters\"] = kmeans.labels_\n",
    "centers = pd.DataFrame(kmeans.cluster_centers_, columns=columns)\n",
    "\n",
    "# 플로팅 스타일을 선택한다.\n",
    "matplotlib.style.use(\"ggplot\")\n",
    "\n",
    "# 주와 centroid를 플롯에 그린다.\n",
    "# ax = alco2009.plot.scatter(columns[0], columns[1], c=\"Clusters\", \n",
    "#                            cmap=plt.cm.Accent, s=100)\n",
    "ax = alco2009.plot.scatter(columns[0], columns[1], c=\"Clusters\", \n",
    "                           cmap = 'inferno',s=100)\n",
    "centers.plot.scatter(columns[0], columns[1], color=\"red\", marker=\"+\", \n",
    "                     s=200, ax=ax)\n",
    "\n",
    "# 플롯에 제목을 붙이고 저장한다.\n",
    "plt.title(\"US States Clustered by Alcohol Consumption\")"
   ]
  },
  {
   "cell_type": "markdown",
   "id": "14e1424b",
   "metadata": {},
   "source": [
    "# Label이 없는 데이터에 대한 해석"
   ]
  },
  {
   "cell_type": "code",
   "execution_count": 75,
   "id": "a7b3236d",
   "metadata": {
    "scrolled": true
   },
   "outputs": [
    {
     "data": {
      "text/html": [
       "<div>\n",
       "<style scoped>\n",
       "    .dataframe tbody tr th:only-of-type {\n",
       "        vertical-align: middle;\n",
       "    }\n",
       "\n",
       "    .dataframe tbody tr th {\n",
       "        vertical-align: top;\n",
       "    }\n",
       "\n",
       "    .dataframe thead th {\n",
       "        text-align: right;\n",
       "    }\n",
       "</style>\n",
       "<table border=\"1\" class=\"dataframe\">\n",
       "  <thead>\n",
       "    <tr style=\"text-align: right;\">\n",
       "      <th></th>\n",
       "      <th>alcohol</th>\n",
       "      <th>chlorides</th>\n",
       "      <th>citric_acid</th>\n",
       "      <th>density</th>\n",
       "      <th>fixed_acidity</th>\n",
       "      <th>free_sulfur_dioxide</th>\n",
       "      <th>pH</th>\n",
       "      <th>residual_sugar</th>\n",
       "      <th>sulphates</th>\n",
       "      <th>total_sulfur_dioxide</th>\n",
       "      <th>volatile_acidity</th>\n",
       "    </tr>\n",
       "  </thead>\n",
       "  <tbody>\n",
       "    <tr>\n",
       "      <th>0</th>\n",
       "      <td>9.4</td>\n",
       "      <td>0.076</td>\n",
       "      <td>0.00</td>\n",
       "      <td>0.9978</td>\n",
       "      <td>7.4</td>\n",
       "      <td>11.0</td>\n",
       "      <td>3.51</td>\n",
       "      <td>1.9</td>\n",
       "      <td>0.56</td>\n",
       "      <td>34.0</td>\n",
       "      <td>0.70</td>\n",
       "    </tr>\n",
       "    <tr>\n",
       "      <th>1</th>\n",
       "      <td>9.8</td>\n",
       "      <td>0.098</td>\n",
       "      <td>0.00</td>\n",
       "      <td>0.9968</td>\n",
       "      <td>7.8</td>\n",
       "      <td>25.0</td>\n",
       "      <td>3.20</td>\n",
       "      <td>2.6</td>\n",
       "      <td>0.68</td>\n",
       "      <td>67.0</td>\n",
       "      <td>0.88</td>\n",
       "    </tr>\n",
       "    <tr>\n",
       "      <th>2</th>\n",
       "      <td>9.8</td>\n",
       "      <td>0.092</td>\n",
       "      <td>0.04</td>\n",
       "      <td>0.9970</td>\n",
       "      <td>7.8</td>\n",
       "      <td>15.0</td>\n",
       "      <td>3.26</td>\n",
       "      <td>2.3</td>\n",
       "      <td>0.65</td>\n",
       "      <td>54.0</td>\n",
       "      <td>0.76</td>\n",
       "    </tr>\n",
       "    <tr>\n",
       "      <th>3</th>\n",
       "      <td>9.8</td>\n",
       "      <td>0.075</td>\n",
       "      <td>0.56</td>\n",
       "      <td>0.9980</td>\n",
       "      <td>11.2</td>\n",
       "      <td>17.0</td>\n",
       "      <td>3.16</td>\n",
       "      <td>1.9</td>\n",
       "      <td>0.58</td>\n",
       "      <td>60.0</td>\n",
       "      <td>0.28</td>\n",
       "    </tr>\n",
       "    <tr>\n",
       "      <th>4</th>\n",
       "      <td>9.4</td>\n",
       "      <td>0.076</td>\n",
       "      <td>0.00</td>\n",
       "      <td>0.9978</td>\n",
       "      <td>7.4</td>\n",
       "      <td>11.0</td>\n",
       "      <td>3.51</td>\n",
       "      <td>1.9</td>\n",
       "      <td>0.56</td>\n",
       "      <td>34.0</td>\n",
       "      <td>0.70</td>\n",
       "    </tr>\n",
       "  </tbody>\n",
       "</table>\n",
       "</div>"
      ],
      "text/plain": [
       "   alcohol  chlorides  citric_acid  density  fixed_acidity  \\\n",
       "0      9.4      0.076         0.00   0.9978            7.4   \n",
       "1      9.8      0.098         0.00   0.9968            7.8   \n",
       "2      9.8      0.092         0.04   0.9970            7.8   \n",
       "3      9.8      0.075         0.56   0.9980           11.2   \n",
       "4      9.4      0.076         0.00   0.9978            7.4   \n",
       "\n",
       "   free_sulfur_dioxide    pH  residual_sugar  sulphates  total_sulfur_dioxide  \\\n",
       "0                 11.0  3.51             1.9       0.56                  34.0   \n",
       "1                 25.0  3.20             2.6       0.68                  67.0   \n",
       "2                 15.0  3.26             2.3       0.65                  54.0   \n",
       "3                 17.0  3.16             1.9       0.58                  60.0   \n",
       "4                 11.0  3.51             1.9       0.56                  34.0   \n",
       "\n",
       "   volatile_acidity  \n",
       "0              0.70  \n",
       "1              0.88  \n",
       "2              0.76  \n",
       "3              0.28  \n",
       "4              0.70  "
      ]
     },
     "execution_count": 75,
     "metadata": {},
     "output_type": "execute_result"
    }
   ],
   "source": [
    "import numpy as np\n",
    "\n",
    "wine = pd.read_csv('winequality-both.csv',sep=',',header=0)\n",
    "wine.columns = wine.columns.str.replace(' ','_')\n",
    "colums_list = ['alcohol','chlorides','citric_acid','density','fixed_acidity','free_sulfur_dioxide','pH',\n",
    "               'residual_sugar','sulphates','total_sulfur_dioxide','volatile_acidity']\n",
    "feature = wine[colums_list]\n",
    "feature.head()"
   ]
  },
  {
   "cell_type": "code",
   "execution_count": 72,
   "id": "f146aae6",
   "metadata": {
    "scrolled": true
   },
   "outputs": [
    {
     "name": "stdout",
     "output_type": "stream",
     "text": [
      "score for 2 clusters:0.509\n",
      "score for 3 clusters:0.504\n",
      "score for 4 clusters:0.451\n",
      "score for 5 clusters:0.418\n",
      "score for 6 clusters:0.391\n",
      "score for 7 clusters:0.365\n",
      "score for 8 clusters:0.365\n",
      "score for 9 clusters:0.344\n",
      "\n",
      " 최적의 클러스터개수: 2, silhouette 점수: 0.5094282376210143\n"
     ]
    }
   ],
   "source": [
    "max_score = 0\n",
    "optimized_n = 0\n",
    "for k in range(2,10):\n",
    "   \n",
    "    km = KMeans(n_clusters=k,random_state=21).fit(feature)\n",
    "   \n",
    "    s_score = silhouette_score(feature,km.labels_)\n",
    "    if s_score > max_score:\n",
    "        max_score = s_score\n",
    "        optimized_n = k\n",
    "    print(\"score for %d clusters:%.3f\" % (k, s_score))\n",
    "    \n",
    "print(f'\\n 최적의 클러스터개수: {optimized_n}, silhouette 점수: {max_score}')"
   ]
  },
  {
   "cell_type": "code",
   "execution_count": 73,
   "id": "05e0706e",
   "metadata": {},
   "outputs": [],
   "source": [
    "km = KMeans(n_clusters=2,random_state=21).fit(feature)"
   ]
  },
  {
   "cell_type": "code",
   "execution_count": 76,
   "id": "1dbecef0",
   "metadata": {
    "scrolled": true
   },
   "outputs": [],
   "source": [
    "wine['type'] = np.where(wine['type'] == 'red', 0, 1)"
   ]
  },
  {
   "cell_type": "code",
   "execution_count": 77,
   "id": "ee76f7a4",
   "metadata": {},
   "outputs": [
    {
     "data": {
      "text/plain": [
       "array([0, 0, 0, ..., 1, 0, 0])"
      ]
     },
     "execution_count": 77,
     "metadata": {},
     "output_type": "execute_result"
    }
   ],
   "source": [
    "km.labels_ "
   ]
  },
  {
   "cell_type": "code",
   "execution_count": 82,
   "id": "4ce07c23",
   "metadata": {
    "scrolled": true
   },
   "outputs": [
    {
     "data": {
      "text/plain": [
       "0.9858396182853625"
      ]
     },
     "execution_count": 82,
     "metadata": {},
     "output_type": "execute_result"
    }
   ],
   "source": [
    "# True만 카운트하여 낸 성공률이 0.78 .... 이라는 말\n",
    "(list(km.labels_ == wine['type'].values).count(True)) / len(km.labels_)"
   ]
  },
  {
   "cell_type": "code",
   "execution_count": 79,
   "id": "e8acbf2a",
   "metadata": {},
   "outputs": [],
   "source": [
    "from sklearn.preprocessing import StandardScaler\n",
    "\n",
    "ss = StandardScaler()\n",
    "ss.fit(feature)\n",
    "feature_s = ss.transform(feature)"
   ]
  },
  {
   "cell_type": "code",
   "execution_count": 80,
   "id": "d96bb3ee",
   "metadata": {},
   "outputs": [],
   "source": [
    "km = KMeans(n_clusters=2).fit(feature_s)"
   ]
  },
  {
   "cell_type": "code",
   "execution_count": 81,
   "id": "a1587661",
   "metadata": {},
   "outputs": [
    {
     "data": {
      "text/plain": [
       "0.9858396182853625"
      ]
     },
     "execution_count": 81,
     "metadata": {},
     "output_type": "execute_result"
    }
   ],
   "source": [
    "(list(km.labels_ == wine['type'].values).count(True)) / len(km.labels_)"
   ]
  },
  {
   "cell_type": "markdown",
   "id": "f995a0f5",
   "metadata": {},
   "source": [
    "### 정리"
   ]
  },
  {
   "cell_type": "markdown",
   "id": "c5dfeecb",
   "metadata": {},
   "source": [
    "군집화 결과는 아래와 같이 사용가능하다.\n",
    "- 군집화 클러스터별 마케팅 전략 수립\n",
    "- 군집화 클러스터 라벨을 지도학습의 라벨로 활용\n",
    " > 라벨 없이 지도학습 가능"
   ]
  }
 ],
 "metadata": {
  "kernelspec": {
   "display_name": "Python 3 (ipykernel)",
   "language": "python",
   "name": "python3"
  },
  "language_info": {
   "codemirror_mode": {
    "name": "ipython",
    "version": 3
   },
   "file_extension": ".py",
   "mimetype": "text/x-python",
   "name": "python",
   "nbconvert_exporter": "python",
   "pygments_lexer": "ipython3",
   "version": "3.10.5"
  }
 },
 "nbformat": 4,
 "nbformat_minor": 5
}
