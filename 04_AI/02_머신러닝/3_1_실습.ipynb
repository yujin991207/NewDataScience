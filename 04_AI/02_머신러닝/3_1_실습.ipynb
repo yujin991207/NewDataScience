{
 "cells": [
  {
   "cell_type": "code",
   "execution_count": 2,
   "id": "0f27431c",
   "metadata": {},
   "outputs": [],
   "source": [
    "import numpy as np\n",
    "import matplotlib.pyplot as plt"
   ]
  },
  {
   "cell_type": "code",
   "execution_count": 4,
   "id": "ea1a5c87",
   "metadata": {},
   "outputs": [],
   "source": [
    "perch_length = np.array(\n",
    "    [8.4, 13.7, 15.0, 16.2, 17.4, 18.0, 18.7, 19.0, 19.6, 20.0, \n",
    "     21.0, 21.0, 21.0, 21.3, 22.0, 22.0, 22.0, 22.0, 22.0, 22.5, \n",
    "     22.5, 22.7, 23.0, 23.5, 24.0, 24.0, 24.6, 25.0, 25.6, 26.5, \n",
    "     27.3, 27.5, 27.5, 27.5, 28.0, 28.7, 30.0, 32.8, 34.5, 35.0, \n",
    "     36.5, 36.0, 37.0, 37.0, 39.0, 39.0, 39.0, 40.0, 40.0, 40.0, \n",
    "     40.0, 42.0, 43.0, 43.0, 43.5, 44.0]\n",
    "     )\n",
    "\n",
    "perch_weight = np.array(\n",
    "    [5.9, 32.0, 40.0, 51.5, 70.0, 100.0, 78.0, 80.0, 85.0, 85.0, \n",
    "     110.0, 115.0, 125.0, 130.0, 120.0, 120.0, 130.0, 135.0, 110.0, \n",
    "     130.0, 150.0, 145.0, 150.0, 170.0, 225.0, 145.0, 188.0, 180.0, \n",
    "     197.0, 218.0, 300.0, 260.0, 265.0, 250.0, 250.0, 300.0, 320.0, \n",
    "     514.0, 556.0, 840.0, 685.0, 700.0, 700.0, 690.0, 900.0, 650.0, \n",
    "     820.0, 850.0, 900.0, 1015.0, 820.0, 1100.0, 1000.0, 1100.0, \n",
    "     1000.0, 1000.0]\n",
    "     )"
   ]
  },
  {
   "cell_type": "code",
   "execution_count": 11,
   "id": "e24190d0",
   "metadata": {},
   "outputs": [
    {
     "data": {
      "text/plain": [
       "56"
      ]
     },
     "execution_count": 11,
     "metadata": {},
     "output_type": "execute_result"
    }
   ],
   "source": [
    "len(perch_length)"
   ]
  },
  {
   "cell_type": "code",
   "execution_count": 12,
   "id": "bff1ac21",
   "metadata": {},
   "outputs": [
    {
     "data": {
      "text/plain": [
       "56"
      ]
     },
     "execution_count": 12,
     "metadata": {},
     "output_type": "execute_result"
    }
   ],
   "source": [
    "len(perch_weight)"
   ]
  },
  {
   "cell_type": "code",
   "execution_count": 6,
   "id": "a361ac93",
   "metadata": {},
   "outputs": [],
   "source": [
    "from sklearn.model_selection import train_test_split"
   ]
  },
  {
   "cell_type": "code",
   "execution_count": 7,
   "id": "a47ce393",
   "metadata": {},
   "outputs": [],
   "source": [
    "train_input, test_input, train_target, test_target = train_test_split(\n",
    "    perch_length, perch_weight, random_state = 42)"
   ]
  },
  {
   "cell_type": "code",
   "execution_count": 13,
   "id": "9561c662",
   "metadata": {},
   "outputs": [
    {
     "name": "stdout",
     "output_type": "stream",
     "text": [
      "(42,) (14,)\n"
     ]
    }
   ],
   "source": [
    "print(train_input.shape, test_input.shape)"
   ]
  },
  {
   "cell_type": "code",
   "execution_count": 16,
   "id": "3e15aad5",
   "metadata": {},
   "outputs": [],
   "source": [
    "train_input = train_input.reshape(-1,1)\n",
    "test_input = test_input.reshape(-1,1)"
   ]
  },
  {
   "cell_type": "code",
   "execution_count": 18,
   "id": "038085ba",
   "metadata": {},
   "outputs": [
    {
     "name": "stdout",
     "output_type": "stream",
     "text": [
      "(42, 1) (14, 1)\n"
     ]
    }
   ],
   "source": [
    "print(train_input.shape, test_input.shape)"
   ]
  },
  {
   "cell_type": "raw",
   "id": "7341b7da",
   "metadata": {},
   "source": [
    "=> 선형회귀모델 (Regressor)"
   ]
  },
  {
   "cell_type": "code",
   "execution_count": 19,
   "id": "2cebf712",
   "metadata": {},
   "outputs": [],
   "source": [
    "from sklearn.neighbors import KNeighborsRegressor"
   ]
  },
  {
   "cell_type": "code",
   "execution_count": 20,
   "id": "5c91166d",
   "metadata": {},
   "outputs": [
    {
     "data": {
      "text/html": [
       "<style>#sk-container-id-1 {color: black;background-color: white;}#sk-container-id-1 pre{padding: 0;}#sk-container-id-1 div.sk-toggleable {background-color: white;}#sk-container-id-1 label.sk-toggleable__label {cursor: pointer;display: block;width: 100%;margin-bottom: 0;padding: 0.3em;box-sizing: border-box;text-align: center;}#sk-container-id-1 label.sk-toggleable__label-arrow:before {content: \"▸\";float: left;margin-right: 0.25em;color: #696969;}#sk-container-id-1 label.sk-toggleable__label-arrow:hover:before {color: black;}#sk-container-id-1 div.sk-estimator:hover label.sk-toggleable__label-arrow:before {color: black;}#sk-container-id-1 div.sk-toggleable__content {max-height: 0;max-width: 0;overflow: hidden;text-align: left;background-color: #f0f8ff;}#sk-container-id-1 div.sk-toggleable__content pre {margin: 0.2em;color: black;border-radius: 0.25em;background-color: #f0f8ff;}#sk-container-id-1 input.sk-toggleable__control:checked~div.sk-toggleable__content {max-height: 200px;max-width: 100%;overflow: auto;}#sk-container-id-1 input.sk-toggleable__control:checked~label.sk-toggleable__label-arrow:before {content: \"▾\";}#sk-container-id-1 div.sk-estimator input.sk-toggleable__control:checked~label.sk-toggleable__label {background-color: #d4ebff;}#sk-container-id-1 div.sk-label input.sk-toggleable__control:checked~label.sk-toggleable__label {background-color: #d4ebff;}#sk-container-id-1 input.sk-hidden--visually {border: 0;clip: rect(1px 1px 1px 1px);clip: rect(1px, 1px, 1px, 1px);height: 1px;margin: -1px;overflow: hidden;padding: 0;position: absolute;width: 1px;}#sk-container-id-1 div.sk-estimator {font-family: monospace;background-color: #f0f8ff;border: 1px dotted black;border-radius: 0.25em;box-sizing: border-box;margin-bottom: 0.5em;}#sk-container-id-1 div.sk-estimator:hover {background-color: #d4ebff;}#sk-container-id-1 div.sk-parallel-item::after {content: \"\";width: 100%;border-bottom: 1px solid gray;flex-grow: 1;}#sk-container-id-1 div.sk-label:hover label.sk-toggleable__label {background-color: #d4ebff;}#sk-container-id-1 div.sk-serial::before {content: \"\";position: absolute;border-left: 1px solid gray;box-sizing: border-box;top: 0;bottom: 0;left: 50%;z-index: 0;}#sk-container-id-1 div.sk-serial {display: flex;flex-direction: column;align-items: center;background-color: white;padding-right: 0.2em;padding-left: 0.2em;position: relative;}#sk-container-id-1 div.sk-item {position: relative;z-index: 1;}#sk-container-id-1 div.sk-parallel {display: flex;align-items: stretch;justify-content: center;background-color: white;position: relative;}#sk-container-id-1 div.sk-item::before, #sk-container-id-1 div.sk-parallel-item::before {content: \"\";position: absolute;border-left: 1px solid gray;box-sizing: border-box;top: 0;bottom: 0;left: 50%;z-index: -1;}#sk-container-id-1 div.sk-parallel-item {display: flex;flex-direction: column;z-index: 1;position: relative;background-color: white;}#sk-container-id-1 div.sk-parallel-item:first-child::after {align-self: flex-end;width: 50%;}#sk-container-id-1 div.sk-parallel-item:last-child::after {align-self: flex-start;width: 50%;}#sk-container-id-1 div.sk-parallel-item:only-child::after {width: 0;}#sk-container-id-1 div.sk-dashed-wrapped {border: 1px dashed gray;margin: 0 0.4em 0.5em 0.4em;box-sizing: border-box;padding-bottom: 0.4em;background-color: white;}#sk-container-id-1 div.sk-label label {font-family: monospace;font-weight: bold;display: inline-block;line-height: 1.2em;}#sk-container-id-1 div.sk-label-container {text-align: center;}#sk-container-id-1 div.sk-container {/* jupyter's `normalize.less` sets `[hidden] { display: none; }` but bootstrap.min.css set `[hidden] { display: none !important; }` so we also need the `!important` here to be able to override the default hidden behavior on the sphinx rendered scikit-learn.org. See: https://github.com/scikit-learn/scikit-learn/issues/21755 */display: inline-block !important;position: relative;}#sk-container-id-1 div.sk-text-repr-fallback {display: none;}</style><div id=\"sk-container-id-1\" class=\"sk-top-container\"><div class=\"sk-text-repr-fallback\"><pre>KNeighborsRegressor()</pre><b>In a Jupyter environment, please rerun this cell to show the HTML representation or trust the notebook. <br />On GitHub, the HTML representation is unable to render, please try loading this page with nbviewer.org.</b></div><div class=\"sk-container\" hidden><div class=\"sk-item\"><div class=\"sk-estimator sk-toggleable\"><input class=\"sk-toggleable__control sk-hidden--visually\" id=\"sk-estimator-id-1\" type=\"checkbox\" checked><label for=\"sk-estimator-id-1\" class=\"sk-toggleable__label sk-toggleable__label-arrow\">KNeighborsRegressor</label><div class=\"sk-toggleable__content\"><pre>KNeighborsRegressor()</pre></div></div></div></div></div>"
      ],
      "text/plain": [
       "KNeighborsRegressor()"
      ]
     },
     "execution_count": 20,
     "metadata": {},
     "output_type": "execute_result"
    }
   ],
   "source": [
    "knr = KNeighborsRegressor()\n",
    "knr.fit(train_input, train_target)"
   ]
  },
  {
   "cell_type": "code",
   "execution_count": 21,
   "id": "777ed287",
   "metadata": {},
   "outputs": [
    {
     "data": {
      "text/plain": [
       "0.992809406101064"
      ]
     },
     "execution_count": 21,
     "metadata": {},
     "output_type": "execute_result"
    }
   ],
   "source": [
    "knr.score(test_input, test_target)"
   ]
  },
  {
   "cell_type": "raw",
   "id": "5211eac5",
   "metadata": {},
   "source": [
    "* 평균절대오차\n",
    "\n",
    "=> 평균절대오차는 값이 적을수록 예측값이 실제값에 수렴\n",
    " 그러므로 값이 적을수록 성능이 좋다고 볼 수 있다"
   ]
  },
  {
   "cell_type": "code",
   "execution_count": 23,
   "id": "bc905f5e",
   "metadata": {},
   "outputs": [],
   "source": [
    "from sklearn.metrics import mean_absolute_error"
   ]
  },
  {
   "cell_type": "code",
   "execution_count": 25,
   "id": "1416670d",
   "metadata": {},
   "outputs": [],
   "source": [
    "test_prediction = knr.predict(test_input)\n",
    "mae = mean_absolute_error(test_target, test_prediction)"
   ]
  },
  {
   "cell_type": "code",
   "execution_count": 26,
   "id": "9d3b5391",
   "metadata": {
    "scrolled": true
   },
   "outputs": [
    {
     "name": "stdout",
     "output_type": "stream",
     "text": [
      "19.157142857142862\n"
     ]
    }
   ],
   "source": [
    "print(mae)"
   ]
  },
  {
   "cell_type": "raw",
   "id": "9256b229",
   "metadata": {},
   "source": [
    "* 훈련셋 평가결과"
   ]
  },
  {
   "cell_type": "code",
   "execution_count": 27,
   "id": "390173c4",
   "metadata": {},
   "outputs": [
    {
     "name": "stdout",
     "output_type": "stream",
     "text": [
      "0.9698823289099254\n"
     ]
    }
   ],
   "source": [
    "print(knr.score(train_input, train_target))"
   ]
  },
  {
   "cell_type": "raw",
   "id": "c3217e91",
   "metadata": {},
   "source": [
    "* 테스트셋 평가결과"
   ]
  },
  {
   "cell_type": "code",
   "execution_count": 28,
   "id": "84ae5673",
   "metadata": {},
   "outputs": [
    {
     "name": "stdout",
     "output_type": "stream",
     "text": [
      "0.992809406101064\n"
     ]
    }
   ],
   "source": [
    "print(knr.score(test_input, test_target))"
   ]
  },
  {
   "cell_type": "raw",
   "id": "388d1440",
   "metadata": {},
   "source": [
    "=> 가장좋은 것은 훈련셋의 결과와 테스트셋의 결과가 거의 동일해야하는것이다"
   ]
  },
  {
   "cell_type": "code",
   "execution_count": null,
   "id": "aa6fb111",
   "metadata": {},
   "outputs": [],
   "source": []
  },
  {
   "cell_type": "code",
   "execution_count": 32,
   "id": "9d675af0",
   "metadata": {
    "scrolled": true
   },
   "outputs": [
    {
     "name": "stdout",
     "output_type": "stream",
     "text": [
      "0.9698823289099254\n",
      "0.992809406101064\n"
     ]
    }
   ],
   "source": [
    "knr.n_neighbors = 5\n",
    "\n",
    "knr.fit(train_input, train_target)\n",
    "print(knr.score(train_input, train_target))\n",
    "print(knr.score(test_input, test_target))"
   ]
  },
  {
   "cell_type": "code",
   "execution_count": 33,
   "id": "2da6677f",
   "metadata": {
    "scrolled": false
   },
   "outputs": [
    {
     "name": "stdout",
     "output_type": "stream",
     "text": [
      "0.9804899950518966\n",
      "0.9746459963987609\n"
     ]
    }
   ],
   "source": [
    "knr.n_neighbors = 3\n",
    "\n",
    "knr.fit(train_input, train_target)\n",
    "print(knr.score(train_input, train_target))\n",
    "print(knr.score(test_input, test_target))"
   ]
  },
  {
   "cell_type": "code",
   "execution_count": null,
   "id": "285eb7a8",
   "metadata": {},
   "outputs": [],
   "source": []
  },
  {
   "cell_type": "code",
   "execution_count": 35,
   "id": "8052c767",
   "metadata": {},
   "outputs": [],
   "source": [
    "knr = KNeighborsRegressor()"
   ]
  },
  {
   "cell_type": "code",
   "execution_count": 37,
   "id": "64f29a62",
   "metadata": {},
   "outputs": [],
   "source": [
    "from operator import itemgetter\n",
    "\n",
    "score_info = []\n",
    "\n",
    "for n in range(1,42+1):\n",
    "    n_data = {}\n",
    "    \n",
    "    knr.n_neighbors = n\n",
    "    knr.fit(train_input, train_target)\n",
    "    \n",
    "    train_score = knr.score(train_input, train_target)\n",
    "    test_score = knr.score(test_input, test_target)\n",
    "    \n",
    "    n_data['n_neighbors'] = n\n",
    "    n_data['train_score'] = train_score\n",
    "    n_data['test_score'] = test_score\n",
    "    n_data['score_difference'] = abs(train_score - test_score)\n",
    "    \n",
    "    score_info.append(n_data)"
   ]
  },
  {
   "cell_type": "code",
   "execution_count": 38,
   "id": "116a603c",
   "metadata": {},
   "outputs": [
    {
     "data": {
      "text/plain": [
       "[{'n_neighbors': 1,\n",
       "  'train_score': 0.9852830341215901,\n",
       "  'test_score': 0.991309195814175,\n",
       "  'score_difference': 0.006026161692584853},\n",
       " {'n_neighbors': 2,\n",
       "  'train_score': 0.9828437127041165,\n",
       "  'test_score': 0.9725010241788556,\n",
       "  'score_difference': 0.010342688525260879},\n",
       " {'n_neighbors': 3,\n",
       "  'train_score': 0.9804899950518966,\n",
       "  'test_score': 0.9746459963987609,\n",
       "  'score_difference': 0.005843998653135674},\n",
       " {'n_neighbors': 4,\n",
       "  'train_score': 0.978211389719245,\n",
       "  'test_score': 0.9840231023848637,\n",
       "  'score_difference': 0.00581171266561864},\n",
       " {'n_neighbors': 5,\n",
       "  'train_score': 0.9698823289099254,\n",
       "  'test_score': 0.992809406101064,\n",
       "  'score_difference': 0.022927077191138623},\n",
       " {'n_neighbors': 6,\n",
       "  'train_score': 0.9757140960298665,\n",
       "  'test_score': 0.9855001139899048,\n",
       "  'score_difference': 0.009786017960038307},\n",
       " {'n_neighbors': 7,\n",
       "  'train_score': 0.9761170732051527,\n",
       "  'test_score': 0.9781383949643516,\n",
       "  'score_difference': 0.002021321759198891},\n",
       " {'n_neighbors': 8,\n",
       "  'train_score': 0.9697604397763201,\n",
       "  'test_score': 0.9780541148735824,\n",
       "  'score_difference': 0.00829367509726231},\n",
       " {'n_neighbors': 9,\n",
       "  'train_score': 0.9693310367551284,\n",
       "  'test_score': 0.9692647749722698,\n",
       "  'score_difference': 6.626178285862316e-05},\n",
       " {'n_neighbors': 10,\n",
       "  'train_score': 0.96164569026043,\n",
       "  'test_score': 0.9737908255822255,\n",
       "  'score_difference': 0.012145135321795508}]"
      ]
     },
     "execution_count": 38,
     "metadata": {},
     "output_type": "execute_result"
    }
   ],
   "source": [
    "score_info[:10]"
   ]
  },
  {
   "cell_type": "raw",
   "id": "e5f7a027",
   "metadata": {},
   "source": [
    "훈련데이터와 시험데이터 차이가 적어야한다\n",
    "\n",
    "\n",
    "훈련데이터 점수가 더 커야한다\n",
    "그중 시험데이터 점수가 가장 커야한다"
   ]
  },
  {
   "cell_type": "code",
   "execution_count": 41,
   "id": "e51b1178",
   "metadata": {},
   "outputs": [
    {
     "data": {
      "text/plain": [
       "[{'n_neighbors': 9,\n",
       "  'train_score': 0.9693310367551284,\n",
       "  'test_score': 0.9692647749722698,\n",
       "  'score_difference': 6.626178285862316e-05},\n",
       " {'n_neighbors': 35,\n",
       "  'train_score': 0.39478071361200084,\n",
       "  'test_score': 0.3957495287182914,\n",
       "  'score_difference': 0.0009688151062905437},\n",
       " {'n_neighbors': 7,\n",
       "  'train_score': 0.9761170732051527,\n",
       "  'test_score': 0.9781383949643516,\n",
       "  'score_difference': 0.002021321759198891},\n",
       " {'n_neighbors': 4,\n",
       "  'train_score': 0.978211389719245,\n",
       "  'test_score': 0.9840231023848637,\n",
       "  'score_difference': 0.00581171266561864},\n",
       " {'n_neighbors': 3,\n",
       "  'train_score': 0.9804899950518966,\n",
       "  'test_score': 0.9746459963987609,\n",
       "  'score_difference': 0.005843998653135674},\n",
       " {'n_neighbors': 1,\n",
       "  'train_score': 0.9852830341215901,\n",
       "  'test_score': 0.991309195814175,\n",
       "  'score_difference': 0.006026161692584853},\n",
       " {'n_neighbors': 36,\n",
       "  'train_score': 0.34546019203325407,\n",
       "  'test_score': 0.3390956205212924,\n",
       "  'score_difference': 0.006364571511961681},\n",
       " {'n_neighbors': 34,\n",
       "  'train_score': 0.43808997336457367,\n",
       "  'test_score': 0.4445079926076143,\n",
       "  'score_difference': 0.00641801924304064},\n",
       " {'n_neighbors': 33,\n",
       "  'train_score': 0.4752451966763833,\n",
       "  'test_score': 0.4834613125728193,\n",
       "  'score_difference': 0.008216115896436005},\n",
       " {'n_neighbors': 8,\n",
       "  'train_score': 0.9697604397763201,\n",
       "  'test_score': 0.9780541148735824,\n",
       "  'score_difference': 0.00829367509726231},\n",
       " {'n_neighbors': 6,\n",
       "  'train_score': 0.9757140960298665,\n",
       "  'test_score': 0.9855001139899048,\n",
       "  'score_difference': 0.009786017960038307},\n",
       " {'n_neighbors': 2,\n",
       "  'train_score': 0.9828437127041165,\n",
       "  'test_score': 0.9725010241788556,\n",
       "  'score_difference': 0.010342688525260879},\n",
       " {'n_neighbors': 37,\n",
       "  'train_score': 0.28970143088637,\n",
       "  'test_score': 0.27891888794463027,\n",
       "  'score_difference': 0.010782542941739748},\n",
       " {'n_neighbors': 32,\n",
       "  'train_score': 0.5137512235296806,\n",
       "  'test_score': 0.5249412676318784,\n",
       "  'score_difference': 0.011190044102197816},\n",
       " {'n_neighbors': 10,\n",
       "  'train_score': 0.96164569026043,\n",
       "  'test_score': 0.9737908255822255,\n",
       "  'score_difference': 0.012145135321795508},\n",
       " {'n_neighbors': 31,\n",
       "  'train_score': 0.5505387544219442,\n",
       "  'test_score': 0.5653184638150339,\n",
       "  'score_difference': 0.014779709393089702},\n",
       " {'n_neighbors': 30,\n",
       "  'train_score': 0.5877976356145709,\n",
       "  'test_score': 0.6035123570454171,\n",
       "  'score_difference': 0.01571472143084618},\n",
       " {'n_neighbors': 38,\n",
       "  'train_score': 0.2430435138370014,\n",
       "  'test_score': 0.22589724804111777,\n",
       "  'score_difference': 0.01714626579588363},\n",
       " {'n_neighbors': 20,\n",
       "  'train_score': 0.8612516394391274,\n",
       "  'test_score': 0.8785331565429304,\n",
       "  'score_difference': 0.01728151710380299},\n",
       " {'n_neighbors': 29,\n",
       "  'train_score': 0.6245508306350807,\n",
       "  'test_score': 0.6429925427310261,\n",
       "  'score_difference': 0.018441712095945473},\n",
       " {'n_neighbors': 14,\n",
       "  'train_score': 0.9429470576557883,\n",
       "  'test_score': 0.9615046463124021,\n",
       "  'score_difference': 0.01855758865661372},\n",
       " {'n_neighbors': 21,\n",
       "  'train_score': 0.8410922229110086,\n",
       "  'test_score': 0.8596922255009882,\n",
       "  'score_difference': 0.018600002589979625},\n",
       " {'n_neighbors': 11,\n",
       "  'train_score': 0.9515761381539326,\n",
       "  'test_score': 0.970279643030474,\n",
       "  'score_difference': 0.018703504876541377},\n",
       " {'n_neighbors': 22,\n",
       "  'train_score': 0.8175873608633151,\n",
       "  'test_score': 0.8375117417460407,\n",
       "  'score_difference': 0.019924380882725634},\n",
       " {'n_neighbors': 12,\n",
       "  'train_score': 0.9467103631225754,\n",
       "  'test_score': 0.967703620310643,\n",
       "  'score_difference': 0.02099325718806766},\n",
       " {'n_neighbors': 26,\n",
       "  'train_score': 0.7199764168379841,\n",
       "  'test_score': 0.7410402464006052,\n",
       "  'score_difference': 0.021063829562621095},\n",
       " {'n_neighbors': 25,\n",
       "  'train_score': 0.7452999142836829,\n",
       "  'test_score': 0.7667897994036779,\n",
       "  'score_difference': 0.021489885119994945},\n",
       " {'n_neighbors': 18,\n",
       "  'train_score': 0.8957457327394256,\n",
       "  'test_score': 0.9177544733070506,\n",
       "  'score_difference': 0.02200874056762503},\n",
       " {'n_neighbors': 24,\n",
       "  'train_score': 0.7693003910889374,\n",
       "  'test_score': 0.7915871904133381,\n",
       "  'score_difference': 0.022286799324400697},\n",
       " {'n_neighbors': 27,\n",
       "  'train_score': 0.6908904295441316,\n",
       "  'test_score': 0.7131817408006262,\n",
       "  'score_difference': 0.02229131125649464},\n",
       " {'n_neighbors': 28,\n",
       "  'train_score': 0.6615756505503383,\n",
       "  'test_score': 0.6839955073382804,\n",
       "  'score_difference': 0.022419856787942116},\n",
       " {'n_neighbors': 13,\n",
       "  'train_score': 0.9413423450130075,\n",
       "  'test_score': 0.9639044643206888,\n",
       "  'score_difference': 0.02256211930768126},\n",
       " {'n_neighbors': 17,\n",
       "  'train_score': 0.9087778943199959,\n",
       "  'test_score': 0.9314058693169347,\n",
       "  'score_difference': 0.022627974996938804},\n",
       " {'n_neighbors': 19,\n",
       "  'train_score': 0.8782082893573573,\n",
       "  'test_score': 0.900993697623706,\n",
       "  'score_difference': 0.022785408266348672},\n",
       " {'n_neighbors': 5,\n",
       "  'train_score': 0.9698823289099254,\n",
       "  'test_score': 0.992809406101064,\n",
       "  'score_difference': 0.022927077191138623},\n",
       " {'n_neighbors': 23,\n",
       "  'train_score': 0.7915879473391005,\n",
       "  'test_score': 0.8146418957364303,\n",
       "  'score_difference': 0.02305394839732977},\n",
       " {'n_neighbors': 39,\n",
       "  'train_score': 0.18151707588188104,\n",
       "  'test_score': 0.15639071677015748,\n",
       "  'score_difference': 0.025126359111723562},\n",
       " {'n_neighbors': 15,\n",
       "  'train_score': 0.930201118360776,\n",
       "  'test_score': 0.9554827691127018,\n",
       "  'score_difference': 0.025281650751925788},\n",
       " {'n_neighbors': 16,\n",
       "  'train_score': 0.9180230473767479,\n",
       "  'test_score': 0.9485555263458804,\n",
       "  'score_difference': 0.03053247896913247},\n",
       " {'n_neighbors': 40,\n",
       "  'train_score': 0.12405965638610039,\n",
       "  'test_score': 0.08821534628596917,\n",
       "  'score_difference': 0.03584431010013123},\n",
       " {'n_neighbors': 41,\n",
       "  'train_score': 0.05978205016667115,\n",
       "  'test_score': 0.013071066272332454,\n",
       "  'score_difference': 0.0467109838943387},\n",
       " {'n_neighbors': 42,\n",
       "  'train_score': 0.0,\n",
       "  'test_score': -0.05511282928252759,\n",
       "  'score_difference': 0.05511282928252759}]"
      ]
     },
     "execution_count": 41,
     "metadata": {},
     "output_type": "execute_result"
    }
   ],
   "source": [
    "import pandas as pd\n",
    "\n",
    "analysis = sorted(score_info, key = itemgetter('score_difference'))\n",
    "analysis"
   ]
  },
  {
   "cell_type": "code",
   "execution_count": 42,
   "id": "4a97bc43",
   "metadata": {},
   "outputs": [
    {
     "data": {
      "text/plain": [
       "42"
      ]
     },
     "execution_count": 42,
     "metadata": {},
     "output_type": "execute_result"
    }
   ],
   "source": [
    "len(analysis)"
   ]
  },
  {
   "cell_type": "raw",
   "id": "02011269",
   "metadata": {},
   "source": [
    "시험데이터보다 훈련데이터점수가 더 큰 데이터를 분류"
   ]
  },
  {
   "cell_type": "code",
   "execution_count": 43,
   "id": "843d66dd",
   "metadata": {},
   "outputs": [
    {
     "data": {
      "text/plain": [
       "[1, 2, 3, 5, 7, 8, 9, 10, 13, 14, 15, 16, 18, 19, 20, 21, 22, 23, 24, 25]"
      ]
     },
     "execution_count": 43,
     "metadata": {},
     "output_type": "execute_result"
    }
   ],
   "source": [
    "del_index_list = []\n",
    "\n",
    "for index in range(len(analysis)):\n",
    "    if analysis[index]['test_score'] > analysis[index]['train_score']:\n",
    "        del_index_list.append(index)\n",
    "\n",
    "del_index_list[:20]"
   ]
  },
  {
   "cell_type": "code",
   "execution_count": 44,
   "id": "cbd44d8c",
   "metadata": {},
   "outputs": [
    {
     "data": {
      "text/html": [
       "<div>\n",
       "<style scoped>\n",
       "    .dataframe tbody tr th:only-of-type {\n",
       "        vertical-align: middle;\n",
       "    }\n",
       "\n",
       "    .dataframe tbody tr th {\n",
       "        vertical-align: top;\n",
       "    }\n",
       "\n",
       "    .dataframe thead th {\n",
       "        text-align: right;\n",
       "    }\n",
       "</style>\n",
       "<table border=\"1\" class=\"dataframe\">\n",
       "  <thead>\n",
       "    <tr style=\"text-align: right;\">\n",
       "      <th></th>\n",
       "      <th>n_neighbors</th>\n",
       "      <th>train_score</th>\n",
       "      <th>test_score</th>\n",
       "      <th>score_difference</th>\n",
       "    </tr>\n",
       "  </thead>\n",
       "  <tbody>\n",
       "    <tr>\n",
       "      <th>0</th>\n",
       "      <td>9</td>\n",
       "      <td>0.969331</td>\n",
       "      <td>0.969265</td>\n",
       "      <td>0.000066</td>\n",
       "    </tr>\n",
       "    <tr>\n",
       "      <th>1</th>\n",
       "      <td>35</td>\n",
       "      <td>0.394781</td>\n",
       "      <td>0.395750</td>\n",
       "      <td>0.000969</td>\n",
       "    </tr>\n",
       "    <tr>\n",
       "      <th>2</th>\n",
       "      <td>7</td>\n",
       "      <td>0.976117</td>\n",
       "      <td>0.978138</td>\n",
       "      <td>0.002021</td>\n",
       "    </tr>\n",
       "    <tr>\n",
       "      <th>3</th>\n",
       "      <td>4</td>\n",
       "      <td>0.978211</td>\n",
       "      <td>0.984023</td>\n",
       "      <td>0.005812</td>\n",
       "    </tr>\n",
       "    <tr>\n",
       "      <th>4</th>\n",
       "      <td>3</td>\n",
       "      <td>0.980490</td>\n",
       "      <td>0.974646</td>\n",
       "      <td>0.005844</td>\n",
       "    </tr>\n",
       "    <tr>\n",
       "      <th>5</th>\n",
       "      <td>1</td>\n",
       "      <td>0.985283</td>\n",
       "      <td>0.991309</td>\n",
       "      <td>0.006026</td>\n",
       "    </tr>\n",
       "    <tr>\n",
       "      <th>6</th>\n",
       "      <td>36</td>\n",
       "      <td>0.345460</td>\n",
       "      <td>0.339096</td>\n",
       "      <td>0.006365</td>\n",
       "    </tr>\n",
       "    <tr>\n",
       "      <th>7</th>\n",
       "      <td>34</td>\n",
       "      <td>0.438090</td>\n",
       "      <td>0.444508</td>\n",
       "      <td>0.006418</td>\n",
       "    </tr>\n",
       "    <tr>\n",
       "      <th>8</th>\n",
       "      <td>33</td>\n",
       "      <td>0.475245</td>\n",
       "      <td>0.483461</td>\n",
       "      <td>0.008216</td>\n",
       "    </tr>\n",
       "    <tr>\n",
       "      <th>9</th>\n",
       "      <td>8</td>\n",
       "      <td>0.969760</td>\n",
       "      <td>0.978054</td>\n",
       "      <td>0.008294</td>\n",
       "    </tr>\n",
       "  </tbody>\n",
       "</table>\n",
       "</div>"
      ],
      "text/plain": [
       "   n_neighbors  train_score  test_score  score_difference\n",
       "0            9     0.969331    0.969265          0.000066\n",
       "1           35     0.394781    0.395750          0.000969\n",
       "2            7     0.976117    0.978138          0.002021\n",
       "3            4     0.978211    0.984023          0.005812\n",
       "4            3     0.980490    0.974646          0.005844\n",
       "5            1     0.985283    0.991309          0.006026\n",
       "6           36     0.345460    0.339096          0.006365\n",
       "7           34     0.438090    0.444508          0.006418\n",
       "8           33     0.475245    0.483461          0.008216\n",
       "9            8     0.969760    0.978054          0.008294"
      ]
     },
     "execution_count": 44,
     "metadata": {},
     "output_type": "execute_result"
    }
   ],
   "source": [
    "train_data_big = pd.DataFrame(analysis)\n",
    "train_data_big.head(10)"
   ]
  },
  {
   "cell_type": "code",
   "execution_count": 49,
   "id": "8edf41d1",
   "metadata": {},
   "outputs": [
    {
     "data": {
      "text/html": [
       "<div>\n",
       "<style scoped>\n",
       "    .dataframe tbody tr th:only-of-type {\n",
       "        vertical-align: middle;\n",
       "    }\n",
       "\n",
       "    .dataframe tbody tr th {\n",
       "        vertical-align: top;\n",
       "    }\n",
       "\n",
       "    .dataframe thead th {\n",
       "        text-align: right;\n",
       "    }\n",
       "</style>\n",
       "<table border=\"1\" class=\"dataframe\">\n",
       "  <thead>\n",
       "    <tr style=\"text-align: right;\">\n",
       "      <th></th>\n",
       "      <th>n_neighbors</th>\n",
       "      <th>train_score</th>\n",
       "      <th>test_score</th>\n",
       "      <th>score_difference</th>\n",
       "    </tr>\n",
       "  </thead>\n",
       "  <tbody>\n",
       "    <tr>\n",
       "      <th>0</th>\n",
       "      <td>9</td>\n",
       "      <td>0.969331</td>\n",
       "      <td>0.969265</td>\n",
       "      <td>0.000066</td>\n",
       "    </tr>\n",
       "    <tr>\n",
       "      <th>4</th>\n",
       "      <td>3</td>\n",
       "      <td>0.980490</td>\n",
       "      <td>0.974646</td>\n",
       "      <td>0.005844</td>\n",
       "    </tr>\n",
       "    <tr>\n",
       "      <th>6</th>\n",
       "      <td>36</td>\n",
       "      <td>0.345460</td>\n",
       "      <td>0.339096</td>\n",
       "      <td>0.006365</td>\n",
       "    </tr>\n",
       "    <tr>\n",
       "      <th>11</th>\n",
       "      <td>2</td>\n",
       "      <td>0.982844</td>\n",
       "      <td>0.972501</td>\n",
       "      <td>0.010343</td>\n",
       "    </tr>\n",
       "    <tr>\n",
       "      <th>12</th>\n",
       "      <td>37</td>\n",
       "      <td>0.289701</td>\n",
       "      <td>0.278919</td>\n",
       "      <td>0.010783</td>\n",
       "    </tr>\n",
       "    <tr>\n",
       "      <th>17</th>\n",
       "      <td>38</td>\n",
       "      <td>0.243044</td>\n",
       "      <td>0.225897</td>\n",
       "      <td>0.017146</td>\n",
       "    </tr>\n",
       "    <tr>\n",
       "      <th>36</th>\n",
       "      <td>39</td>\n",
       "      <td>0.181517</td>\n",
       "      <td>0.156391</td>\n",
       "      <td>0.025126</td>\n",
       "    </tr>\n",
       "    <tr>\n",
       "      <th>39</th>\n",
       "      <td>40</td>\n",
       "      <td>0.124060</td>\n",
       "      <td>0.088215</td>\n",
       "      <td>0.035844</td>\n",
       "    </tr>\n",
       "    <tr>\n",
       "      <th>40</th>\n",
       "      <td>41</td>\n",
       "      <td>0.059782</td>\n",
       "      <td>0.013071</td>\n",
       "      <td>0.046711</td>\n",
       "    </tr>\n",
       "    <tr>\n",
       "      <th>41</th>\n",
       "      <td>42</td>\n",
       "      <td>0.000000</td>\n",
       "      <td>-0.055113</td>\n",
       "      <td>0.055113</td>\n",
       "    </tr>\n",
       "  </tbody>\n",
       "</table>\n",
       "</div>"
      ],
      "text/plain": [
       "    n_neighbors  train_score  test_score  score_difference\n",
       "0             9     0.969331    0.969265          0.000066\n",
       "4             3     0.980490    0.974646          0.005844\n",
       "6            36     0.345460    0.339096          0.006365\n",
       "11            2     0.982844    0.972501          0.010343\n",
       "12           37     0.289701    0.278919          0.010783\n",
       "17           38     0.243044    0.225897          0.017146\n",
       "36           39     0.181517    0.156391          0.025126\n",
       "39           40     0.124060    0.088215          0.035844\n",
       "40           41     0.059782    0.013071          0.046711\n",
       "41           42     0.000000   -0.055113          0.055113"
      ]
     },
     "execution_count": 49,
     "metadata": {},
     "output_type": "execute_result"
    }
   ],
   "source": [
    "train_data_big_2 = train_data_big.drop(del_index_list)\n",
    "train_data_big_2"
   ]
  },
  {
   "cell_type": "code",
   "execution_count": 50,
   "id": "539ef133",
   "metadata": {},
   "outputs": [
    {
     "data": {
      "text/html": [
       "<div>\n",
       "<style scoped>\n",
       "    .dataframe tbody tr th:only-of-type {\n",
       "        vertical-align: middle;\n",
       "    }\n",
       "\n",
       "    .dataframe tbody tr th {\n",
       "        vertical-align: top;\n",
       "    }\n",
       "\n",
       "    .dataframe thead th {\n",
       "        text-align: right;\n",
       "    }\n",
       "</style>\n",
       "<table border=\"1\" class=\"dataframe\">\n",
       "  <thead>\n",
       "    <tr style=\"text-align: right;\">\n",
       "      <th></th>\n",
       "      <th>n_neighbors</th>\n",
       "      <th>train_score</th>\n",
       "      <th>test_score</th>\n",
       "      <th>score_difference</th>\n",
       "    </tr>\n",
       "  </thead>\n",
       "  <tbody>\n",
       "    <tr>\n",
       "      <th>4</th>\n",
       "      <td>3</td>\n",
       "      <td>0.980490</td>\n",
       "      <td>0.974646</td>\n",
       "      <td>0.005844</td>\n",
       "    </tr>\n",
       "    <tr>\n",
       "      <th>11</th>\n",
       "      <td>2</td>\n",
       "      <td>0.982844</td>\n",
       "      <td>0.972501</td>\n",
       "      <td>0.010343</td>\n",
       "    </tr>\n",
       "    <tr>\n",
       "      <th>0</th>\n",
       "      <td>9</td>\n",
       "      <td>0.969331</td>\n",
       "      <td>0.969265</td>\n",
       "      <td>0.000066</td>\n",
       "    </tr>\n",
       "    <tr>\n",
       "      <th>6</th>\n",
       "      <td>36</td>\n",
       "      <td>0.345460</td>\n",
       "      <td>0.339096</td>\n",
       "      <td>0.006365</td>\n",
       "    </tr>\n",
       "    <tr>\n",
       "      <th>12</th>\n",
       "      <td>37</td>\n",
       "      <td>0.289701</td>\n",
       "      <td>0.278919</td>\n",
       "      <td>0.010783</td>\n",
       "    </tr>\n",
       "  </tbody>\n",
       "</table>\n",
       "</div>"
      ],
      "text/plain": [
       "    n_neighbors  train_score  test_score  score_difference\n",
       "4             3     0.980490    0.974646          0.005844\n",
       "11            2     0.982844    0.972501          0.010343\n",
       "0             9     0.969331    0.969265          0.000066\n",
       "6            36     0.345460    0.339096          0.006365\n",
       "12           37     0.289701    0.278919          0.010783"
      ]
     },
     "execution_count": 50,
     "metadata": {},
     "output_type": "execute_result"
    }
   ],
   "source": [
    "train_data_big_2.sort_values(by = ['test_score','score_difference'], ascending = [False,True]).head()"
   ]
  },
  {
   "cell_type": "code",
   "execution_count": 51,
   "id": "cd0eb332",
   "metadata": {},
   "outputs": [],
   "source": [
    "knr = KNeighborsRegressor()"
   ]
  }
 ],
 "metadata": {
  "kernelspec": {
   "display_name": "Python 3 (ipykernel)",
   "language": "python",
   "name": "python3"
  },
  "language_info": {
   "codemirror_mode": {
    "name": "ipython",
    "version": 3
   },
   "file_extension": ".py",
   "mimetype": "text/x-python",
   "name": "python",
   "nbconvert_exporter": "python",
   "pygments_lexer": "ipython3",
   "version": "3.10.5"
  }
 },
 "nbformat": 4,
 "nbformat_minor": 5
}
