{
 "cells": [
  {
   "cell_type": "code",
   "execution_count": 28,
   "id": "1c2538cb",
   "metadata": {},
   "outputs": [],
   "source": [
    "import pandas as pd"
   ]
  },
  {
   "cell_type": "code",
   "execution_count": 32,
   "id": "89ff429f",
   "metadata": {},
   "outputs": [
    {
     "name": "stderr",
     "output_type": "stream",
     "text": [
      "C:\\Users\\TJ\\AppData\\Local\\Temp\\ipykernel_4636\\2838015975.py:1: DtypeWarning: Columns (5) have mixed types. Specify dtype option on import or set low_memory=False.\n",
      "  data_org=pd.read_csv('2022 표준지 공시지가.csv')\n"
     ]
    }
   ],
   "source": [
    "data_org=pd.read_csv('2022 표준지 공시지가.csv')"
   ]
  },
  {
   "cell_type": "code",
   "execution_count": 33,
   "id": "6bf134c2",
   "metadata": {
    "scrolled": true
   },
   "outputs": [
    {
     "data": {
      "text/html": [
       "<div>\n",
       "<style scoped>\n",
       "    .dataframe tbody tr th:only-of-type {\n",
       "        vertical-align: middle;\n",
       "    }\n",
       "\n",
       "    .dataframe tbody tr th {\n",
       "        vertical-align: top;\n",
       "    }\n",
       "\n",
       "    .dataframe thead th {\n",
       "        text-align: right;\n",
       "    }\n",
       "</style>\n",
       "<table border=\"1\" class=\"dataframe\">\n",
       "  <thead>\n",
       "    <tr style=\"text-align: right;\">\n",
       "      <th></th>\n",
       "      <th>일련번호</th>\n",
       "      <th>시군구</th>\n",
       "      <th>읍면동리</th>\n",
       "      <th>지번구분</th>\n",
       "      <th>본번지</th>\n",
       "      <th>부번지</th>\n",
       "      <th>시도명</th>\n",
       "      <th>시군구명</th>\n",
       "      <th>소재지</th>\n",
       "      <th>지목</th>\n",
       "      <th>...</th>\n",
       "      <th>용도지역2</th>\n",
       "      <th>이용상황</th>\n",
       "      <th>주위환경</th>\n",
       "      <th>지세명</th>\n",
       "      <th>형상명</th>\n",
       "      <th>도로교통</th>\n",
       "      <th>공시지가</th>\n",
       "      <th>지리적위치1</th>\n",
       "      <th>지리적위치2</th>\n",
       "      <th>방위</th>\n",
       "    </tr>\n",
       "  </thead>\n",
       "  <tbody>\n",
       "    <tr>\n",
       "      <th>0</th>\n",
       "      <td>1</td>\n",
       "      <td>11110</td>\n",
       "      <td>10100</td>\n",
       "      <td>1</td>\n",
       "      <td>0003</td>\n",
       "      <td>52</td>\n",
       "      <td>서울특별시</td>\n",
       "      <td>종로구</td>\n",
       "      <td>청운동 3-52</td>\n",
       "      <td>공원</td>\n",
       "      <td>...</td>\n",
       "      <td>NaN</td>\n",
       "      <td>공원등</td>\n",
       "      <td>시가지주변 야산지대</td>\n",
       "      <td>급경사지</td>\n",
       "      <td>부정형</td>\n",
       "      <td>세로(불)</td>\n",
       "      <td>493500</td>\n",
       "      <td>경기상고</td>\n",
       "      <td>북측 인근</td>\n",
       "      <td>NaN</td>\n",
       "    </tr>\n",
       "    <tr>\n",
       "      <th>1</th>\n",
       "      <td>2</td>\n",
       "      <td>11110</td>\n",
       "      <td>10100</td>\n",
       "      <td>1</td>\n",
       "      <td>0004</td>\n",
       "      <td>2</td>\n",
       "      <td>서울특별시</td>\n",
       "      <td>종로구</td>\n",
       "      <td>청운동 4-2</td>\n",
       "      <td>임야</td>\n",
       "      <td>...</td>\n",
       "      <td>NaN</td>\n",
       "      <td>자연림</td>\n",
       "      <td>시가지주변 야산지대</td>\n",
       "      <td>완경사지</td>\n",
       "      <td>부정형</td>\n",
       "      <td>맹지</td>\n",
       "      <td>730500</td>\n",
       "      <td>경가상고</td>\n",
       "      <td>북서측 근거리</td>\n",
       "      <td>남향</td>\n",
       "    </tr>\n",
       "    <tr>\n",
       "      <th>2</th>\n",
       "      <td>3</td>\n",
       "      <td>11110</td>\n",
       "      <td>10100</td>\n",
       "      <td>1</td>\n",
       "      <td>0004</td>\n",
       "      <td>15</td>\n",
       "      <td>서울특별시</td>\n",
       "      <td>종로구</td>\n",
       "      <td>청운동 4-15</td>\n",
       "      <td>대</td>\n",
       "      <td>...</td>\n",
       "      <td>NaN</td>\n",
       "      <td>단독주택</td>\n",
       "      <td>기존 주택지대</td>\n",
       "      <td>완경사지</td>\n",
       "      <td>사다리형</td>\n",
       "      <td>세로(가)</td>\n",
       "      <td>4250000</td>\n",
       "      <td>경기상고</td>\n",
       "      <td>북서측 인근</td>\n",
       "      <td>북동향</td>\n",
       "    </tr>\n",
       "    <tr>\n",
       "      <th>3</th>\n",
       "      <td>4</td>\n",
       "      <td>11110</td>\n",
       "      <td>10100</td>\n",
       "      <td>1</td>\n",
       "      <td>0008</td>\n",
       "      <td>9</td>\n",
       "      <td>서울특별시</td>\n",
       "      <td>종로구</td>\n",
       "      <td>청운동 8-9</td>\n",
       "      <td>대</td>\n",
       "      <td>...</td>\n",
       "      <td>NaN</td>\n",
       "      <td>연립주택</td>\n",
       "      <td>일반 주택지대</td>\n",
       "      <td>급경사지</td>\n",
       "      <td>부정형</td>\n",
       "      <td>세로(가)</td>\n",
       "      <td>3930000</td>\n",
       "      <td>청운중학교</td>\n",
       "      <td>서측인근</td>\n",
       "      <td>남향</td>\n",
       "    </tr>\n",
       "    <tr>\n",
       "      <th>4</th>\n",
       "      <td>5</td>\n",
       "      <td>11110</td>\n",
       "      <td>10100</td>\n",
       "      <td>1</td>\n",
       "      <td>0008</td>\n",
       "      <td>15</td>\n",
       "      <td>서울특별시</td>\n",
       "      <td>종로구</td>\n",
       "      <td>청운동 8-15</td>\n",
       "      <td>대</td>\n",
       "      <td>...</td>\n",
       "      <td>NaN</td>\n",
       "      <td>연립주택</td>\n",
       "      <td>기존 주택지대</td>\n",
       "      <td>급경사지</td>\n",
       "      <td>사다리형</td>\n",
       "      <td>세로(가)</td>\n",
       "      <td>3855000</td>\n",
       "      <td>경기상고</td>\n",
       "      <td>서측인근</td>\n",
       "      <td>남서향</td>\n",
       "    </tr>\n",
       "  </tbody>\n",
       "</table>\n",
       "<p>5 rows × 22 columns</p>\n",
       "</div>"
      ],
      "text/plain": [
       "   일련번호    시군구   읍면동리  지번구분   본번지 부번지    시도명 시군구명       소재지  지목  ...  용도지역2  \\\n",
       "0     1  11110  10100     1  0003  52  서울특별시  종로구  청운동 3-52  공원  ...    NaN   \n",
       "1     2  11110  10100     1  0004   2  서울특별시  종로구   청운동 4-2  임야  ...    NaN   \n",
       "2     3  11110  10100     1  0004  15  서울특별시  종로구  청운동 4-15   대  ...    NaN   \n",
       "3     4  11110  10100     1  0008   9  서울특별시  종로구   청운동 8-9   대  ...    NaN   \n",
       "4     5  11110  10100     1  0008  15  서울특별시  종로구  청운동 8-15   대  ...    NaN   \n",
       "\n",
       "   이용상황        주위환경   지세명   형상명   도로교통     공시지가 지리적위치1   지리적위치2   방위  \n",
       "0   공원등  시가지주변 야산지대  급경사지   부정형  세로(불)   493500   경기상고    북측 인근  NaN  \n",
       "1   자연림  시가지주변 야산지대  완경사지   부정형     맹지   730500   경가상고  북서측 근거리   남향  \n",
       "2  단독주택     기존 주택지대  완경사지  사다리형  세로(가)  4250000   경기상고   북서측 인근  북동향  \n",
       "3  연립주택     일반 주택지대  급경사지   부정형  세로(가)  3930000  청운중학교     서측인근   남향  \n",
       "4  연립주택     기존 주택지대  급경사지  사다리형  세로(가)  3855000   경기상고     서측인근  남서향  \n",
       "\n",
       "[5 rows x 22 columns]"
      ]
     },
     "execution_count": 33,
     "metadata": {},
     "output_type": "execute_result"
    }
   ],
   "source": [
    "data_org.head()"
   ]
  },
  {
   "cell_type": "code",
   "execution_count": 34,
   "id": "7fbded32",
   "metadata": {},
   "outputs": [],
   "source": [
    "data=data_org.copy()"
   ]
  },
  {
   "cell_type": "code",
   "execution_count": 35,
   "id": "3791a31e",
   "metadata": {},
   "outputs": [
    {
     "data": {
      "text/plain": [
       "Index(['일련번호', '시군구', '읍면동리', '지번구분', '본번지', '부번지', '시도명', '시군구명', '소재지', '지목',\n",
       "       '면적', '용도지역1', '용도지역2', '이용상황', '주위환경', '지세명', '형상명', '도로교통', '공시지가',\n",
       "       '지리적위치1', '지리적위치2', '방위'],\n",
       "      dtype='object')"
      ]
     },
     "execution_count": 35,
     "metadata": {},
     "output_type": "execute_result"
    }
   ],
   "source": [
    "data.columns"
   ]
  },
  {
   "cell_type": "code",
   "execution_count": 36,
   "id": "3851a22f",
   "metadata": {},
   "outputs": [
    {
     "name": "stdout",
     "output_type": "stream",
     "text": [
      "<class 'pandas.core.frame.DataFrame'>\n",
      "RangeIndex: 540050 entries, 0 to 540049\n",
      "Data columns (total 22 columns):\n",
      " #   Column  Non-Null Count   Dtype  \n",
      "---  ------  --------------   -----  \n",
      " 0   일련번호    540050 non-null  int64  \n",
      " 1   시군구     540050 non-null  int64  \n",
      " 2   읍면동리    540050 non-null  int64  \n",
      " 3   지번구분    540050 non-null  int64  \n",
      " 4   본번지     540050 non-null  object \n",
      " 5   부번지     540050 non-null  object \n",
      " 6   시도명     540050 non-null  object \n",
      " 7   시군구명    537528 non-null  object \n",
      " 8   소재지     540050 non-null  object \n",
      " 9   지목      540050 non-null  object \n",
      " 10  면적      540050 non-null  float64\n",
      " 11  용도지역1   540050 non-null  object \n",
      " 12  용도지역2   5398 non-null    object \n",
      " 13  이용상황    540050 non-null  object \n",
      " 14  주위환경    540050 non-null  object \n",
      " 15  지세명     540050 non-null  object \n",
      " 16  형상명     540050 non-null  object \n",
      " 17  도로교통    540050 non-null  object \n",
      " 18  공시지가    540050 non-null  int64  \n",
      " 19  지리적위치1  540050 non-null  object \n",
      " 20  지리적위치2  515324 non-null  object \n",
      " 21  방위      207781 non-null  object \n",
      "dtypes: float64(1), int64(5), object(16)\n",
      "memory usage: 90.6+ MB\n"
     ]
    }
   ],
   "source": [
    "data.info()"
   ]
  },
  {
   "cell_type": "code",
   "execution_count": 37,
   "id": "db0e5f52",
   "metadata": {},
   "outputs": [],
   "source": [
    "data=data[[ '시군구', '읍면동리', '지번구분', '지목',\n",
    "       '면적', '용도지역1', '용도지역2', '이용상황', '주위환경', '지세명', '형상명', '도로교통', '공시지가',\n",
    "        '방위']]"
   ]
  },
  {
   "cell_type": "markdown",
   "id": "01e7291c",
   "metadata": {},
   "source": [
    "---"
   ]
  },
  {
   "cell_type": "code",
   "execution_count": 38,
   "id": "455f335a",
   "metadata": {},
   "outputs": [],
   "source": [
    "# 역 구청 시청 학교는안중요"
   ]
  },
  {
   "cell_type": "code",
   "execution_count": 39,
   "id": "4868b663",
   "metadata": {},
   "outputs": [
    {
     "data": {
      "text/html": [
       "<div>\n",
       "<style scoped>\n",
       "    .dataframe tbody tr th:only-of-type {\n",
       "        vertical-align: middle;\n",
       "    }\n",
       "\n",
       "    .dataframe tbody tr th {\n",
       "        vertical-align: top;\n",
       "    }\n",
       "\n",
       "    .dataframe thead th {\n",
       "        text-align: right;\n",
       "    }\n",
       "</style>\n",
       "<table border=\"1\" class=\"dataframe\">\n",
       "  <thead>\n",
       "    <tr style=\"text-align: right;\">\n",
       "      <th></th>\n",
       "      <th>시군구</th>\n",
       "      <th>읍면동리</th>\n",
       "      <th>지번구분</th>\n",
       "      <th>지목</th>\n",
       "      <th>면적</th>\n",
       "      <th>용도지역1</th>\n",
       "      <th>용도지역2</th>\n",
       "      <th>이용상황</th>\n",
       "      <th>주위환경</th>\n",
       "      <th>지세명</th>\n",
       "      <th>형상명</th>\n",
       "      <th>도로교통</th>\n",
       "      <th>공시지가</th>\n",
       "      <th>방위</th>\n",
       "    </tr>\n",
       "  </thead>\n",
       "  <tbody>\n",
       "    <tr>\n",
       "      <th>0</th>\n",
       "      <td>11110</td>\n",
       "      <td>10100</td>\n",
       "      <td>1</td>\n",
       "      <td>공원</td>\n",
       "      <td>1021.5</td>\n",
       "      <td>자연녹지지역</td>\n",
       "      <td>NaN</td>\n",
       "      <td>공원등</td>\n",
       "      <td>시가지주변 야산지대</td>\n",
       "      <td>급경사지</td>\n",
       "      <td>부정형</td>\n",
       "      <td>세로(불)</td>\n",
       "      <td>493500</td>\n",
       "      <td>NaN</td>\n",
       "    </tr>\n",
       "    <tr>\n",
       "      <th>1</th>\n",
       "      <td>11110</td>\n",
       "      <td>10100</td>\n",
       "      <td>1</td>\n",
       "      <td>임야</td>\n",
       "      <td>723.3</td>\n",
       "      <td>제1종일반주거지역</td>\n",
       "      <td>NaN</td>\n",
       "      <td>자연림</td>\n",
       "      <td>시가지주변 야산지대</td>\n",
       "      <td>완경사지</td>\n",
       "      <td>부정형</td>\n",
       "      <td>맹지</td>\n",
       "      <td>730500</td>\n",
       "      <td>남향</td>\n",
       "    </tr>\n",
       "    <tr>\n",
       "      <th>2</th>\n",
       "      <td>11110</td>\n",
       "      <td>10100</td>\n",
       "      <td>1</td>\n",
       "      <td>대</td>\n",
       "      <td>416.2</td>\n",
       "      <td>제1종일반주거지역</td>\n",
       "      <td>NaN</td>\n",
       "      <td>단독주택</td>\n",
       "      <td>기존 주택지대</td>\n",
       "      <td>완경사지</td>\n",
       "      <td>사다리형</td>\n",
       "      <td>세로(가)</td>\n",
       "      <td>4250000</td>\n",
       "      <td>북동향</td>\n",
       "    </tr>\n",
       "    <tr>\n",
       "      <th>3</th>\n",
       "      <td>11110</td>\n",
       "      <td>10100</td>\n",
       "      <td>1</td>\n",
       "      <td>대</td>\n",
       "      <td>811.3</td>\n",
       "      <td>제1종일반주거지역</td>\n",
       "      <td>NaN</td>\n",
       "      <td>연립주택</td>\n",
       "      <td>일반 주택지대</td>\n",
       "      <td>급경사지</td>\n",
       "      <td>부정형</td>\n",
       "      <td>세로(가)</td>\n",
       "      <td>3930000</td>\n",
       "      <td>남향</td>\n",
       "    </tr>\n",
       "    <tr>\n",
       "      <th>4</th>\n",
       "      <td>11110</td>\n",
       "      <td>10100</td>\n",
       "      <td>1</td>\n",
       "      <td>대</td>\n",
       "      <td>442.3</td>\n",
       "      <td>제1종일반주거지역</td>\n",
       "      <td>NaN</td>\n",
       "      <td>연립주택</td>\n",
       "      <td>기존 주택지대</td>\n",
       "      <td>급경사지</td>\n",
       "      <td>사다리형</td>\n",
       "      <td>세로(가)</td>\n",
       "      <td>3855000</td>\n",
       "      <td>남서향</td>\n",
       "    </tr>\n",
       "  </tbody>\n",
       "</table>\n",
       "</div>"
      ],
      "text/plain": [
       "     시군구   읍면동리  지번구분  지목      면적      용도지역1 용도지역2  이용상황        주위환경   지세명  \\\n",
       "0  11110  10100     1  공원  1021.5     자연녹지지역   NaN   공원등  시가지주변 야산지대  급경사지   \n",
       "1  11110  10100     1  임야   723.3  제1종일반주거지역   NaN   자연림  시가지주변 야산지대  완경사지   \n",
       "2  11110  10100     1   대   416.2  제1종일반주거지역   NaN  단독주택     기존 주택지대  완경사지   \n",
       "3  11110  10100     1   대   811.3  제1종일반주거지역   NaN  연립주택     일반 주택지대  급경사지   \n",
       "4  11110  10100     1   대   442.3  제1종일반주거지역   NaN  연립주택     기존 주택지대  급경사지   \n",
       "\n",
       "    형상명   도로교통     공시지가   방위  \n",
       "0   부정형  세로(불)   493500  NaN  \n",
       "1   부정형     맹지   730500   남향  \n",
       "2  사다리형  세로(가)  4250000  북동향  \n",
       "3   부정형  세로(가)  3930000   남향  \n",
       "4  사다리형  세로(가)  3855000  남서향  "
      ]
     },
     "execution_count": 39,
     "metadata": {},
     "output_type": "execute_result"
    }
   ],
   "source": [
    "data.head()"
   ]
  },
  {
   "cell_type": "code",
   "execution_count": 40,
   "id": "eecde9b7",
   "metadata": {},
   "outputs": [
    {
     "data": {
      "text/plain": [
       "대        223201\n",
       "답        121780\n",
       "전        110113\n",
       "임야        62979\n",
       "공장용지       8221\n",
       "과수원        4742\n",
       "잡종지        3637\n",
       "목장용지       1154\n",
       "주유소용지      1105\n",
       "창고용지        855\n",
       "체육용지        461\n",
       "학교용지        420\n",
       "주차장         200\n",
       "염전          169\n",
       "종교용지        159\n",
       "공원          148\n",
       "유원지         144\n",
       "도로          128\n",
       "양어장         118\n",
       "하천           87\n",
       "묘지           83\n",
       "유지           61\n",
       "철도용지         44\n",
       "광천지          21\n",
       "사적지           8\n",
       "수도용지          5\n",
       "구거            4\n",
       "제방            3\n",
       "Name: 지목, dtype: int64"
      ]
     },
     "execution_count": 40,
     "metadata": {},
     "output_type": "execute_result"
    }
   ],
   "source": [
    "data['지목'].value_counts()"
   ]
  },
  {
   "cell_type": "code",
   "execution_count": 41,
   "id": "22412fae",
   "metadata": {},
   "outputs": [
    {
     "data": {
      "text/html": [
       "<div>\n",
       "<style scoped>\n",
       "    .dataframe tbody tr th:only-of-type {\n",
       "        vertical-align: middle;\n",
       "    }\n",
       "\n",
       "    .dataframe tbody tr th {\n",
       "        vertical-align: top;\n",
       "    }\n",
       "\n",
       "    .dataframe thead th {\n",
       "        text-align: right;\n",
       "    }\n",
       "</style>\n",
       "<table border=\"1\" class=\"dataframe\">\n",
       "  <thead>\n",
       "    <tr style=\"text-align: right;\">\n",
       "      <th></th>\n",
       "      <th>['지목']_공원</th>\n",
       "      <th>['지목']_공장용지</th>\n",
       "      <th>['지목']_과수원</th>\n",
       "      <th>['지목']_광천지</th>\n",
       "      <th>['지목']_구거</th>\n",
       "      <th>['지목']_답</th>\n",
       "      <th>['지목']_대</th>\n",
       "      <th>['지목']_도로</th>\n",
       "      <th>['지목']_목장용지</th>\n",
       "      <th>['지목']_묘지</th>\n",
       "      <th>...</th>\n",
       "      <th>['지목']_전</th>\n",
       "      <th>['지목']_제방</th>\n",
       "      <th>['지목']_종교용지</th>\n",
       "      <th>['지목']_주유소용지</th>\n",
       "      <th>['지목']_주차장</th>\n",
       "      <th>['지목']_창고용지</th>\n",
       "      <th>['지목']_철도용지</th>\n",
       "      <th>['지목']_체육용지</th>\n",
       "      <th>['지목']_하천</th>\n",
       "      <th>['지목']_학교용지</th>\n",
       "    </tr>\n",
       "  </thead>\n",
       "  <tbody>\n",
       "    <tr>\n",
       "      <th>0</th>\n",
       "      <td>1</td>\n",
       "      <td>0</td>\n",
       "      <td>0</td>\n",
       "      <td>0</td>\n",
       "      <td>0</td>\n",
       "      <td>0</td>\n",
       "      <td>0</td>\n",
       "      <td>0</td>\n",
       "      <td>0</td>\n",
       "      <td>0</td>\n",
       "      <td>...</td>\n",
       "      <td>0</td>\n",
       "      <td>0</td>\n",
       "      <td>0</td>\n",
       "      <td>0</td>\n",
       "      <td>0</td>\n",
       "      <td>0</td>\n",
       "      <td>0</td>\n",
       "      <td>0</td>\n",
       "      <td>0</td>\n",
       "      <td>0</td>\n",
       "    </tr>\n",
       "    <tr>\n",
       "      <th>1</th>\n",
       "      <td>0</td>\n",
       "      <td>0</td>\n",
       "      <td>0</td>\n",
       "      <td>0</td>\n",
       "      <td>0</td>\n",
       "      <td>0</td>\n",
       "      <td>0</td>\n",
       "      <td>0</td>\n",
       "      <td>0</td>\n",
       "      <td>0</td>\n",
       "      <td>...</td>\n",
       "      <td>0</td>\n",
       "      <td>0</td>\n",
       "      <td>0</td>\n",
       "      <td>0</td>\n",
       "      <td>0</td>\n",
       "      <td>0</td>\n",
       "      <td>0</td>\n",
       "      <td>0</td>\n",
       "      <td>0</td>\n",
       "      <td>0</td>\n",
       "    </tr>\n",
       "    <tr>\n",
       "      <th>2</th>\n",
       "      <td>0</td>\n",
       "      <td>0</td>\n",
       "      <td>0</td>\n",
       "      <td>0</td>\n",
       "      <td>0</td>\n",
       "      <td>0</td>\n",
       "      <td>1</td>\n",
       "      <td>0</td>\n",
       "      <td>0</td>\n",
       "      <td>0</td>\n",
       "      <td>...</td>\n",
       "      <td>0</td>\n",
       "      <td>0</td>\n",
       "      <td>0</td>\n",
       "      <td>0</td>\n",
       "      <td>0</td>\n",
       "      <td>0</td>\n",
       "      <td>0</td>\n",
       "      <td>0</td>\n",
       "      <td>0</td>\n",
       "      <td>0</td>\n",
       "    </tr>\n",
       "    <tr>\n",
       "      <th>3</th>\n",
       "      <td>0</td>\n",
       "      <td>0</td>\n",
       "      <td>0</td>\n",
       "      <td>0</td>\n",
       "      <td>0</td>\n",
       "      <td>0</td>\n",
       "      <td>1</td>\n",
       "      <td>0</td>\n",
       "      <td>0</td>\n",
       "      <td>0</td>\n",
       "      <td>...</td>\n",
       "      <td>0</td>\n",
       "      <td>0</td>\n",
       "      <td>0</td>\n",
       "      <td>0</td>\n",
       "      <td>0</td>\n",
       "      <td>0</td>\n",
       "      <td>0</td>\n",
       "      <td>0</td>\n",
       "      <td>0</td>\n",
       "      <td>0</td>\n",
       "    </tr>\n",
       "    <tr>\n",
       "      <th>4</th>\n",
       "      <td>0</td>\n",
       "      <td>0</td>\n",
       "      <td>0</td>\n",
       "      <td>0</td>\n",
       "      <td>0</td>\n",
       "      <td>0</td>\n",
       "      <td>1</td>\n",
       "      <td>0</td>\n",
       "      <td>0</td>\n",
       "      <td>0</td>\n",
       "      <td>...</td>\n",
       "      <td>0</td>\n",
       "      <td>0</td>\n",
       "      <td>0</td>\n",
       "      <td>0</td>\n",
       "      <td>0</td>\n",
       "      <td>0</td>\n",
       "      <td>0</td>\n",
       "      <td>0</td>\n",
       "      <td>0</td>\n",
       "      <td>0</td>\n",
       "    </tr>\n",
       "  </tbody>\n",
       "</table>\n",
       "<p>5 rows × 28 columns</p>\n",
       "</div>"
      ],
      "text/plain": [
       "   ['지목']_공원  ['지목']_공장용지  ['지목']_과수원  ['지목']_광천지  ['지목']_구거  ['지목']_답  \\\n",
       "0          1            0           0           0          0         0   \n",
       "1          0            0           0           0          0         0   \n",
       "2          0            0           0           0          0         0   \n",
       "3          0            0           0           0          0         0   \n",
       "4          0            0           0           0          0         0   \n",
       "\n",
       "   ['지목']_대  ['지목']_도로  ['지목']_목장용지  ['지목']_묘지  ...  ['지목']_전  ['지목']_제방  \\\n",
       "0         0          0            0          0  ...         0          0   \n",
       "1         0          0            0          0  ...         0          0   \n",
       "2         1          0            0          0  ...         0          0   \n",
       "3         1          0            0          0  ...         0          0   \n",
       "4         1          0            0          0  ...         0          0   \n",
       "\n",
       "   ['지목']_종교용지  ['지목']_주유소용지  ['지목']_주차장  ['지목']_창고용지  ['지목']_철도용지  \\\n",
       "0            0             0           0            0            0   \n",
       "1            0             0           0            0            0   \n",
       "2            0             0           0            0            0   \n",
       "3            0             0           0            0            0   \n",
       "4            0             0           0            0            0   \n",
       "\n",
       "   ['지목']_체육용지  ['지목']_하천  ['지목']_학교용지  \n",
       "0            0          0            0  \n",
       "1            0          0            0  \n",
       "2            0          0            0  \n",
       "3            0          0            0  \n",
       "4            0          0            0  \n",
       "\n",
       "[5 rows x 28 columns]"
      ]
     },
     "execution_count": 41,
     "metadata": {},
     "output_type": "execute_result"
    }
   ],
   "source": [
    "pd.get_dummies(data['지목'], prefix=['지목']).head()"
   ]
  },
  {
   "cell_type": "code",
   "execution_count": 42,
   "id": "9588f8b8",
   "metadata": {},
   "outputs": [],
   "source": [
    "data=pd.get_dummies(data=data, columns=['지목'], prefix=['지목'])"
   ]
  },
  {
   "cell_type": "code",
   "execution_count": 43,
   "id": "97d4ae84",
   "metadata": {},
   "outputs": [
    {
     "data": {
      "text/plain": [
       "(540050, 41)"
      ]
     },
     "execution_count": 43,
     "metadata": {},
     "output_type": "execute_result"
    }
   ],
   "source": [
    "data.shape"
   ]
  },
  {
   "cell_type": "code",
   "execution_count": 44,
   "id": "59e668ca",
   "metadata": {},
   "outputs": [
    {
     "data": {
      "text/plain": [
       "Index(['시군구', '읍면동리', '지번구분', '면적', '용도지역1', '용도지역2', '이용상황', '주위환경', '지세명',\n",
       "       '형상명', '도로교통', '공시지가', '방위', '지목_공원', '지목_공장용지', '지목_과수원', '지목_광천지',\n",
       "       '지목_구거', '지목_답', '지목_대', '지목_도로', '지목_목장용지', '지목_묘지', '지목_사적지',\n",
       "       '지목_수도용지', '지목_양어장', '지목_염전', '지목_유원지', '지목_유지', '지목_임야', '지목_잡종지',\n",
       "       '지목_전', '지목_제방', '지목_종교용지', '지목_주유소용지', '지목_주차장', '지목_창고용지', '지목_철도용지',\n",
       "       '지목_체육용지', '지목_하천', '지목_학교용지'],\n",
       "      dtype='object')"
      ]
     },
     "execution_count": 44,
     "metadata": {},
     "output_type": "execute_result"
    }
   ],
   "source": [
    "data.columns"
   ]
  },
  {
   "cell_type": "code",
   "execution_count": 45,
   "id": "0a048ad6",
   "metadata": {},
   "outputs": [],
   "source": [
    "# '용도지역1'\n",
    "pd.get_dummies(data['용도지역1'], prefix=['용도지역1']).head()\n",
    "data=pd.get_dummies(data=data, columns=['용도지역1'], prefix=['용도지역1'])"
   ]
  },
  {
   "cell_type": "code",
   "execution_count": 46,
   "id": "d2a59770",
   "metadata": {},
   "outputs": [],
   "source": [
    "# 용도지역2'\n",
    "pd.get_dummies(data['용도지역2'], prefix=['용도지역2']).head()\n",
    "data=pd.get_dummies(data=data, columns=['용도지역2'], prefix=['용도지역2'])"
   ]
  },
  {
   "cell_type": "code",
   "execution_count": 51,
   "id": "e0f658f9",
   "metadata": {},
   "outputs": [
    {
     "ename": "KeyError",
     "evalue": "'이용상황'",
     "output_type": "error",
     "traceback": [
      "\u001b[1;31m---------------------------------------------------------------------------\u001b[0m",
      "\u001b[1;31mKeyError\u001b[0m                                  Traceback (most recent call last)",
      "File \u001b[1;32mC:\\python\\lib\\site-packages\\pandas\\core\\indexes\\base.py:3803\u001b[0m, in \u001b[0;36mIndex.get_loc\u001b[1;34m(self, key, method, tolerance)\u001b[0m\n\u001b[0;32m   3802\u001b[0m \u001b[38;5;28;01mtry\u001b[39;00m:\n\u001b[1;32m-> 3803\u001b[0m     \u001b[38;5;28;01mreturn\u001b[39;00m \u001b[38;5;28;43mself\u001b[39;49m\u001b[38;5;241;43m.\u001b[39;49m\u001b[43m_engine\u001b[49m\u001b[38;5;241;43m.\u001b[39;49m\u001b[43mget_loc\u001b[49m\u001b[43m(\u001b[49m\u001b[43mcasted_key\u001b[49m\u001b[43m)\u001b[49m\n\u001b[0;32m   3804\u001b[0m \u001b[38;5;28;01mexcept\u001b[39;00m \u001b[38;5;167;01mKeyError\u001b[39;00m \u001b[38;5;28;01mas\u001b[39;00m err:\n",
      "File \u001b[1;32mC:\\python\\lib\\site-packages\\pandas\\_libs\\index.pyx:138\u001b[0m, in \u001b[0;36mpandas._libs.index.IndexEngine.get_loc\u001b[1;34m()\u001b[0m\n",
      "File \u001b[1;32mC:\\python\\lib\\site-packages\\pandas\\_libs\\index.pyx:165\u001b[0m, in \u001b[0;36mpandas._libs.index.IndexEngine.get_loc\u001b[1;34m()\u001b[0m\n",
      "File \u001b[1;32mpandas\\_libs\\hashtable_class_helper.pxi:5745\u001b[0m, in \u001b[0;36mpandas._libs.hashtable.PyObjectHashTable.get_item\u001b[1;34m()\u001b[0m\n",
      "File \u001b[1;32mpandas\\_libs\\hashtable_class_helper.pxi:5753\u001b[0m, in \u001b[0;36mpandas._libs.hashtable.PyObjectHashTable.get_item\u001b[1;34m()\u001b[0m\n",
      "\u001b[1;31mKeyError\u001b[0m: '이용상황'",
      "\nThe above exception was the direct cause of the following exception:\n",
      "\u001b[1;31mKeyError\u001b[0m                                  Traceback (most recent call last)",
      "Cell \u001b[1;32mIn[51], line 2\u001b[0m\n\u001b[0;32m      1\u001b[0m \u001b[38;5;66;03m#'이용상황'\u001b[39;00m\n\u001b[1;32m----> 2\u001b[0m pd\u001b[38;5;241m.\u001b[39mget_dummies(\u001b[43mdata\u001b[49m\u001b[43m[\u001b[49m\u001b[38;5;124;43m'\u001b[39;49m\u001b[38;5;124;43m이용상황\u001b[39;49m\u001b[38;5;124;43m'\u001b[39;49m\u001b[43m]\u001b[49m, prefix\u001b[38;5;241m=\u001b[39m[\u001b[38;5;124m'\u001b[39m\u001b[38;5;124m이용상황\u001b[39m\u001b[38;5;124m'\u001b[39m])\u001b[38;5;241m.\u001b[39mhead()\n\u001b[0;32m      3\u001b[0m data\u001b[38;5;241m=\u001b[39mpd\u001b[38;5;241m.\u001b[39mget_dummies(data\u001b[38;5;241m=\u001b[39mdata, columns\u001b[38;5;241m=\u001b[39m[\u001b[38;5;124m'\u001b[39m\u001b[38;5;124m이용상황\u001b[39m\u001b[38;5;124m'\u001b[39m], prefix\u001b[38;5;241m=\u001b[39m[\u001b[38;5;124m'\u001b[39m\u001b[38;5;124m이용상황\u001b[39m\u001b[38;5;124m'\u001b[39m])\n",
      "File \u001b[1;32mC:\\python\\lib\\site-packages\\pandas\\core\\frame.py:3804\u001b[0m, in \u001b[0;36mDataFrame.__getitem__\u001b[1;34m(self, key)\u001b[0m\n\u001b[0;32m   3802\u001b[0m \u001b[38;5;28;01mif\u001b[39;00m \u001b[38;5;28mself\u001b[39m\u001b[38;5;241m.\u001b[39mcolumns\u001b[38;5;241m.\u001b[39mnlevels \u001b[38;5;241m>\u001b[39m \u001b[38;5;241m1\u001b[39m:\n\u001b[0;32m   3803\u001b[0m     \u001b[38;5;28;01mreturn\u001b[39;00m \u001b[38;5;28mself\u001b[39m\u001b[38;5;241m.\u001b[39m_getitem_multilevel(key)\n\u001b[1;32m-> 3804\u001b[0m indexer \u001b[38;5;241m=\u001b[39m \u001b[38;5;28;43mself\u001b[39;49m\u001b[38;5;241;43m.\u001b[39;49m\u001b[43mcolumns\u001b[49m\u001b[38;5;241;43m.\u001b[39;49m\u001b[43mget_loc\u001b[49m\u001b[43m(\u001b[49m\u001b[43mkey\u001b[49m\u001b[43m)\u001b[49m\n\u001b[0;32m   3805\u001b[0m \u001b[38;5;28;01mif\u001b[39;00m is_integer(indexer):\n\u001b[0;32m   3806\u001b[0m     indexer \u001b[38;5;241m=\u001b[39m [indexer]\n",
      "File \u001b[1;32mC:\\python\\lib\\site-packages\\pandas\\core\\indexes\\base.py:3805\u001b[0m, in \u001b[0;36mIndex.get_loc\u001b[1;34m(self, key, method, tolerance)\u001b[0m\n\u001b[0;32m   3803\u001b[0m     \u001b[38;5;28;01mreturn\u001b[39;00m \u001b[38;5;28mself\u001b[39m\u001b[38;5;241m.\u001b[39m_engine\u001b[38;5;241m.\u001b[39mget_loc(casted_key)\n\u001b[0;32m   3804\u001b[0m \u001b[38;5;28;01mexcept\u001b[39;00m \u001b[38;5;167;01mKeyError\u001b[39;00m \u001b[38;5;28;01mas\u001b[39;00m err:\n\u001b[1;32m-> 3805\u001b[0m     \u001b[38;5;28;01mraise\u001b[39;00m \u001b[38;5;167;01mKeyError\u001b[39;00m(key) \u001b[38;5;28;01mfrom\u001b[39;00m \u001b[38;5;21;01merr\u001b[39;00m\n\u001b[0;32m   3806\u001b[0m \u001b[38;5;28;01mexcept\u001b[39;00m \u001b[38;5;167;01mTypeError\u001b[39;00m:\n\u001b[0;32m   3807\u001b[0m     \u001b[38;5;66;03m# If we have a listlike key, _check_indexing_error will raise\u001b[39;00m\n\u001b[0;32m   3808\u001b[0m     \u001b[38;5;66;03m#  InvalidIndexError. Otherwise we fall through and re-raise\u001b[39;00m\n\u001b[0;32m   3809\u001b[0m     \u001b[38;5;66;03m#  the TypeError.\u001b[39;00m\n\u001b[0;32m   3810\u001b[0m     \u001b[38;5;28mself\u001b[39m\u001b[38;5;241m.\u001b[39m_check_indexing_error(key)\n",
      "\u001b[1;31mKeyError\u001b[0m: '이용상황'"
     ]
    }
   ],
   "source": [
    "#'이용상황'\n",
    "pd.get_dummies(data['이용상황'], prefix=['이용상황']).head()\n",
    "data=pd.get_dummies(data=data, columns=['이용상황'], prefix=['이용상황'])"
   ]
  },
  {
   "cell_type": "code",
   "execution_count": 49,
   "id": "d0fc6120",
   "metadata": {},
   "outputs": [
    {
     "ename": "KeyError",
     "evalue": "'주위환경'",
     "output_type": "error",
     "traceback": [
      "\u001b[1;31m---------------------------------------------------------------------------\u001b[0m",
      "\u001b[1;31mKeyError\u001b[0m                                  Traceback (most recent call last)",
      "File \u001b[1;32mC:\\python\\lib\\site-packages\\pandas\\core\\indexes\\base.py:3803\u001b[0m, in \u001b[0;36mIndex.get_loc\u001b[1;34m(self, key, method, tolerance)\u001b[0m\n\u001b[0;32m   3802\u001b[0m \u001b[38;5;28;01mtry\u001b[39;00m:\n\u001b[1;32m-> 3803\u001b[0m     \u001b[38;5;28;01mreturn\u001b[39;00m \u001b[38;5;28;43mself\u001b[39;49m\u001b[38;5;241;43m.\u001b[39;49m\u001b[43m_engine\u001b[49m\u001b[38;5;241;43m.\u001b[39;49m\u001b[43mget_loc\u001b[49m\u001b[43m(\u001b[49m\u001b[43mcasted_key\u001b[49m\u001b[43m)\u001b[49m\n\u001b[0;32m   3804\u001b[0m \u001b[38;5;28;01mexcept\u001b[39;00m \u001b[38;5;167;01mKeyError\u001b[39;00m \u001b[38;5;28;01mas\u001b[39;00m err:\n",
      "File \u001b[1;32mC:\\python\\lib\\site-packages\\pandas\\_libs\\index.pyx:138\u001b[0m, in \u001b[0;36mpandas._libs.index.IndexEngine.get_loc\u001b[1;34m()\u001b[0m\n",
      "File \u001b[1;32mC:\\python\\lib\\site-packages\\pandas\\_libs\\index.pyx:165\u001b[0m, in \u001b[0;36mpandas._libs.index.IndexEngine.get_loc\u001b[1;34m()\u001b[0m\n",
      "File \u001b[1;32mpandas\\_libs\\hashtable_class_helper.pxi:5745\u001b[0m, in \u001b[0;36mpandas._libs.hashtable.PyObjectHashTable.get_item\u001b[1;34m()\u001b[0m\n",
      "File \u001b[1;32mpandas\\_libs\\hashtable_class_helper.pxi:5753\u001b[0m, in \u001b[0;36mpandas._libs.hashtable.PyObjectHashTable.get_item\u001b[1;34m()\u001b[0m\n",
      "\u001b[1;31mKeyError\u001b[0m: '주위환경'",
      "\nThe above exception was the direct cause of the following exception:\n",
      "\u001b[1;31mKeyError\u001b[0m                                  Traceback (most recent call last)",
      "Cell \u001b[1;32mIn[49], line 2\u001b[0m\n\u001b[0;32m      1\u001b[0m \u001b[38;5;66;03m# 주위환경'\u001b[39;00m\n\u001b[1;32m----> 2\u001b[0m pd\u001b[38;5;241m.\u001b[39mget_dummies(\u001b[43mdata\u001b[49m\u001b[43m[\u001b[49m\u001b[38;5;124;43m'\u001b[39;49m\u001b[38;5;124;43m주위환경\u001b[39;49m\u001b[38;5;124;43m'\u001b[39;49m\u001b[43m]\u001b[49m, prefix\u001b[38;5;241m=\u001b[39m[\u001b[38;5;124m'\u001b[39m\u001b[38;5;124m주위환경\u001b[39m\u001b[38;5;124m'\u001b[39m])\u001b[38;5;241m.\u001b[39mhead()\n\u001b[0;32m      3\u001b[0m data\u001b[38;5;241m=\u001b[39mpd\u001b[38;5;241m.\u001b[39mget_dummies(data\u001b[38;5;241m=\u001b[39mdata, columns\u001b[38;5;241m=\u001b[39m[\u001b[38;5;124m'\u001b[39m\u001b[38;5;124m주위환경\u001b[39m\u001b[38;5;124m'\u001b[39m], prefix\u001b[38;5;241m=\u001b[39m[\u001b[38;5;124m'\u001b[39m\u001b[38;5;124m주위환경\u001b[39m\u001b[38;5;124m'\u001b[39m])\n",
      "File \u001b[1;32mC:\\python\\lib\\site-packages\\pandas\\core\\frame.py:3804\u001b[0m, in \u001b[0;36mDataFrame.__getitem__\u001b[1;34m(self, key)\u001b[0m\n\u001b[0;32m   3802\u001b[0m \u001b[38;5;28;01mif\u001b[39;00m \u001b[38;5;28mself\u001b[39m\u001b[38;5;241m.\u001b[39mcolumns\u001b[38;5;241m.\u001b[39mnlevels \u001b[38;5;241m>\u001b[39m \u001b[38;5;241m1\u001b[39m:\n\u001b[0;32m   3803\u001b[0m     \u001b[38;5;28;01mreturn\u001b[39;00m \u001b[38;5;28mself\u001b[39m\u001b[38;5;241m.\u001b[39m_getitem_multilevel(key)\n\u001b[1;32m-> 3804\u001b[0m indexer \u001b[38;5;241m=\u001b[39m \u001b[38;5;28;43mself\u001b[39;49m\u001b[38;5;241;43m.\u001b[39;49m\u001b[43mcolumns\u001b[49m\u001b[38;5;241;43m.\u001b[39;49m\u001b[43mget_loc\u001b[49m\u001b[43m(\u001b[49m\u001b[43mkey\u001b[49m\u001b[43m)\u001b[49m\n\u001b[0;32m   3805\u001b[0m \u001b[38;5;28;01mif\u001b[39;00m is_integer(indexer):\n\u001b[0;32m   3806\u001b[0m     indexer \u001b[38;5;241m=\u001b[39m [indexer]\n",
      "File \u001b[1;32mC:\\python\\lib\\site-packages\\pandas\\core\\indexes\\base.py:3805\u001b[0m, in \u001b[0;36mIndex.get_loc\u001b[1;34m(self, key, method, tolerance)\u001b[0m\n\u001b[0;32m   3803\u001b[0m     \u001b[38;5;28;01mreturn\u001b[39;00m \u001b[38;5;28mself\u001b[39m\u001b[38;5;241m.\u001b[39m_engine\u001b[38;5;241m.\u001b[39mget_loc(casted_key)\n\u001b[0;32m   3804\u001b[0m \u001b[38;5;28;01mexcept\u001b[39;00m \u001b[38;5;167;01mKeyError\u001b[39;00m \u001b[38;5;28;01mas\u001b[39;00m err:\n\u001b[1;32m-> 3805\u001b[0m     \u001b[38;5;28;01mraise\u001b[39;00m \u001b[38;5;167;01mKeyError\u001b[39;00m(key) \u001b[38;5;28;01mfrom\u001b[39;00m \u001b[38;5;21;01merr\u001b[39;00m\n\u001b[0;32m   3806\u001b[0m \u001b[38;5;28;01mexcept\u001b[39;00m \u001b[38;5;167;01mTypeError\u001b[39;00m:\n\u001b[0;32m   3807\u001b[0m     \u001b[38;5;66;03m# If we have a listlike key, _check_indexing_error will raise\u001b[39;00m\n\u001b[0;32m   3808\u001b[0m     \u001b[38;5;66;03m#  InvalidIndexError. Otherwise we fall through and re-raise\u001b[39;00m\n\u001b[0;32m   3809\u001b[0m     \u001b[38;5;66;03m#  the TypeError.\u001b[39;00m\n\u001b[0;32m   3810\u001b[0m     \u001b[38;5;28mself\u001b[39m\u001b[38;5;241m.\u001b[39m_check_indexing_error(key)\n",
      "\u001b[1;31mKeyError\u001b[0m: '주위환경'"
     ]
    }
   ],
   "source": [
    "# 주위환경'\n",
    "pd.get_dummies(data['주위환경'], prefix=['주위환경']).head()\n",
    "data=pd.get_dummies(data=data, columns=['주위환경'], prefix=['주위환경'])"
   ]
  },
  {
   "cell_type": "code",
   "execution_count": 52,
   "id": "48daee2f",
   "metadata": {},
   "outputs": [
    {
     "ename": "KeyError",
     "evalue": "'지세명'",
     "output_type": "error",
     "traceback": [
      "\u001b[1;31m---------------------------------------------------------------------------\u001b[0m",
      "\u001b[1;31mKeyError\u001b[0m                                  Traceback (most recent call last)",
      "File \u001b[1;32mC:\\python\\lib\\site-packages\\pandas\\core\\indexes\\base.py:3803\u001b[0m, in \u001b[0;36mIndex.get_loc\u001b[1;34m(self, key, method, tolerance)\u001b[0m\n\u001b[0;32m   3802\u001b[0m \u001b[38;5;28;01mtry\u001b[39;00m:\n\u001b[1;32m-> 3803\u001b[0m     \u001b[38;5;28;01mreturn\u001b[39;00m \u001b[38;5;28;43mself\u001b[39;49m\u001b[38;5;241;43m.\u001b[39;49m\u001b[43m_engine\u001b[49m\u001b[38;5;241;43m.\u001b[39;49m\u001b[43mget_loc\u001b[49m\u001b[43m(\u001b[49m\u001b[43mcasted_key\u001b[49m\u001b[43m)\u001b[49m\n\u001b[0;32m   3804\u001b[0m \u001b[38;5;28;01mexcept\u001b[39;00m \u001b[38;5;167;01mKeyError\u001b[39;00m \u001b[38;5;28;01mas\u001b[39;00m err:\n",
      "File \u001b[1;32mC:\\python\\lib\\site-packages\\pandas\\_libs\\index.pyx:138\u001b[0m, in \u001b[0;36mpandas._libs.index.IndexEngine.get_loc\u001b[1;34m()\u001b[0m\n",
      "File \u001b[1;32mC:\\python\\lib\\site-packages\\pandas\\_libs\\index.pyx:165\u001b[0m, in \u001b[0;36mpandas._libs.index.IndexEngine.get_loc\u001b[1;34m()\u001b[0m\n",
      "File \u001b[1;32mpandas\\_libs\\hashtable_class_helper.pxi:5745\u001b[0m, in \u001b[0;36mpandas._libs.hashtable.PyObjectHashTable.get_item\u001b[1;34m()\u001b[0m\n",
      "File \u001b[1;32mpandas\\_libs\\hashtable_class_helper.pxi:5753\u001b[0m, in \u001b[0;36mpandas._libs.hashtable.PyObjectHashTable.get_item\u001b[1;34m()\u001b[0m\n",
      "\u001b[1;31mKeyError\u001b[0m: '지세명'",
      "\nThe above exception was the direct cause of the following exception:\n",
      "\u001b[1;31mKeyError\u001b[0m                                  Traceback (most recent call last)",
      "Cell \u001b[1;32mIn[52], line 2\u001b[0m\n\u001b[0;32m      1\u001b[0m \u001b[38;5;66;03m# '지세명'\u001b[39;00m\n\u001b[1;32m----> 2\u001b[0m pd\u001b[38;5;241m.\u001b[39mget_dummies(\u001b[43mdata\u001b[49m\u001b[43m[\u001b[49m\u001b[38;5;124;43m'\u001b[39;49m\u001b[38;5;124;43m지세명\u001b[39;49m\u001b[38;5;124;43m'\u001b[39;49m\u001b[43m]\u001b[49m, prefix\u001b[38;5;241m=\u001b[39m[\u001b[38;5;124m'\u001b[39m\u001b[38;5;124m지세명\u001b[39m\u001b[38;5;124m'\u001b[39m])\u001b[38;5;241m.\u001b[39mhead()\n\u001b[0;32m      3\u001b[0m data\u001b[38;5;241m=\u001b[39mpd\u001b[38;5;241m.\u001b[39mget_dummies(data\u001b[38;5;241m=\u001b[39mdata, columns\u001b[38;5;241m=\u001b[39m[\u001b[38;5;124m'\u001b[39m\u001b[38;5;124m지세명\u001b[39m\u001b[38;5;124m'\u001b[39m], prefix\u001b[38;5;241m=\u001b[39m[\u001b[38;5;124m'\u001b[39m\u001b[38;5;124m지세명\u001b[39m\u001b[38;5;124m'\u001b[39m])\n",
      "File \u001b[1;32mC:\\python\\lib\\site-packages\\pandas\\core\\frame.py:3804\u001b[0m, in \u001b[0;36mDataFrame.__getitem__\u001b[1;34m(self, key)\u001b[0m\n\u001b[0;32m   3802\u001b[0m \u001b[38;5;28;01mif\u001b[39;00m \u001b[38;5;28mself\u001b[39m\u001b[38;5;241m.\u001b[39mcolumns\u001b[38;5;241m.\u001b[39mnlevels \u001b[38;5;241m>\u001b[39m \u001b[38;5;241m1\u001b[39m:\n\u001b[0;32m   3803\u001b[0m     \u001b[38;5;28;01mreturn\u001b[39;00m \u001b[38;5;28mself\u001b[39m\u001b[38;5;241m.\u001b[39m_getitem_multilevel(key)\n\u001b[1;32m-> 3804\u001b[0m indexer \u001b[38;5;241m=\u001b[39m \u001b[38;5;28;43mself\u001b[39;49m\u001b[38;5;241;43m.\u001b[39;49m\u001b[43mcolumns\u001b[49m\u001b[38;5;241;43m.\u001b[39;49m\u001b[43mget_loc\u001b[49m\u001b[43m(\u001b[49m\u001b[43mkey\u001b[49m\u001b[43m)\u001b[49m\n\u001b[0;32m   3805\u001b[0m \u001b[38;5;28;01mif\u001b[39;00m is_integer(indexer):\n\u001b[0;32m   3806\u001b[0m     indexer \u001b[38;5;241m=\u001b[39m [indexer]\n",
      "File \u001b[1;32mC:\\python\\lib\\site-packages\\pandas\\core\\indexes\\base.py:3805\u001b[0m, in \u001b[0;36mIndex.get_loc\u001b[1;34m(self, key, method, tolerance)\u001b[0m\n\u001b[0;32m   3803\u001b[0m     \u001b[38;5;28;01mreturn\u001b[39;00m \u001b[38;5;28mself\u001b[39m\u001b[38;5;241m.\u001b[39m_engine\u001b[38;5;241m.\u001b[39mget_loc(casted_key)\n\u001b[0;32m   3804\u001b[0m \u001b[38;5;28;01mexcept\u001b[39;00m \u001b[38;5;167;01mKeyError\u001b[39;00m \u001b[38;5;28;01mas\u001b[39;00m err:\n\u001b[1;32m-> 3805\u001b[0m     \u001b[38;5;28;01mraise\u001b[39;00m \u001b[38;5;167;01mKeyError\u001b[39;00m(key) \u001b[38;5;28;01mfrom\u001b[39;00m \u001b[38;5;21;01merr\u001b[39;00m\n\u001b[0;32m   3806\u001b[0m \u001b[38;5;28;01mexcept\u001b[39;00m \u001b[38;5;167;01mTypeError\u001b[39;00m:\n\u001b[0;32m   3807\u001b[0m     \u001b[38;5;66;03m# If we have a listlike key, _check_indexing_error will raise\u001b[39;00m\n\u001b[0;32m   3808\u001b[0m     \u001b[38;5;66;03m#  InvalidIndexError. Otherwise we fall through and re-raise\u001b[39;00m\n\u001b[0;32m   3809\u001b[0m     \u001b[38;5;66;03m#  the TypeError.\u001b[39;00m\n\u001b[0;32m   3810\u001b[0m     \u001b[38;5;28mself\u001b[39m\u001b[38;5;241m.\u001b[39m_check_indexing_error(key)\n",
      "\u001b[1;31mKeyError\u001b[0m: '지세명'"
     ]
    }
   ],
   "source": [
    "# '지세명'\n",
    "pd.get_dummies(data['지세명'], prefix=['지세명']).head()\n",
    "data=pd.get_dummies(data=data, columns=['지세명'], prefix=['지세명'])"
   ]
  },
  {
   "cell_type": "code",
   "execution_count": 53,
   "id": "8273a54b",
   "metadata": {},
   "outputs": [],
   "source": [
    "# '형상명'\n",
    "pd.get_dummies(data['형상명'], prefix=['형상명']).head()\n",
    "data=pd.get_dummies(data=data, columns=['형상명'], prefix=['형상명'])"
   ]
  },
  {
   "cell_type": "code",
   "execution_count": 54,
   "id": "5512cfb9",
   "metadata": {},
   "outputs": [],
   "source": [
    "# '도로교통'\n",
    "pd.get_dummies(data['도로교통'], prefix=['도로교통']).head()\n",
    "data=pd.get_dummies(data=data, columns=['도로교통'], prefix=['도로교통'])"
   ]
  },
  {
   "cell_type": "code",
   "execution_count": 55,
   "id": "c3db92e3",
   "metadata": {},
   "outputs": [],
   "source": [
    "# '방위'\n",
    "pd.get_dummies(data['방위'], prefix=['방위']).head()\n",
    "data=pd.get_dummies(data=data, columns=['방위'], prefix=['방위'])"
   ]
  },
  {
   "cell_type": "code",
   "execution_count": 56,
   "id": "3a0ddb05",
   "metadata": {},
   "outputs": [],
   "source": [
    "data=data.fillna(0)"
   ]
  },
  {
   "cell_type": "code",
   "execution_count": 57,
   "id": "8c94ee65",
   "metadata": {
    "scrolled": true
   },
   "outputs": [
    {
     "data": {
      "text/html": [
       "<div>\n",
       "<style scoped>\n",
       "    .dataframe tbody tr th:only-of-type {\n",
       "        vertical-align: middle;\n",
       "    }\n",
       "\n",
       "    .dataframe tbody tr th {\n",
       "        vertical-align: top;\n",
       "    }\n",
       "\n",
       "    .dataframe thead th {\n",
       "        text-align: right;\n",
       "    }\n",
       "</style>\n",
       "<table border=\"1\" class=\"dataframe\">\n",
       "  <thead>\n",
       "    <tr style=\"text-align: right;\">\n",
       "      <th></th>\n",
       "      <th>시군구</th>\n",
       "      <th>읍면동리</th>\n",
       "      <th>지번구분</th>\n",
       "      <th>면적</th>\n",
       "      <th>공시지가</th>\n",
       "      <th>지목_공원</th>\n",
       "      <th>지목_공장용지</th>\n",
       "      <th>지목_과수원</th>\n",
       "      <th>지목_광천지</th>\n",
       "      <th>지목_구거</th>\n",
       "      <th>...</th>\n",
       "      <th>도로교통_중로각지</th>\n",
       "      <th>도로교통_중로한면</th>\n",
       "      <th>방위_남동향</th>\n",
       "      <th>방위_남서향</th>\n",
       "      <th>방위_남향</th>\n",
       "      <th>방위_동향</th>\n",
       "      <th>방위_북동향</th>\n",
       "      <th>방위_북서향</th>\n",
       "      <th>방위_북향</th>\n",
       "      <th>방위_서향</th>\n",
       "    </tr>\n",
       "  </thead>\n",
       "  <tbody>\n",
       "    <tr>\n",
       "      <th>0</th>\n",
       "      <td>11110</td>\n",
       "      <td>10100</td>\n",
       "      <td>1</td>\n",
       "      <td>1021.5</td>\n",
       "      <td>493500</td>\n",
       "      <td>1</td>\n",
       "      <td>0</td>\n",
       "      <td>0</td>\n",
       "      <td>0</td>\n",
       "      <td>0</td>\n",
       "      <td>...</td>\n",
       "      <td>0</td>\n",
       "      <td>0</td>\n",
       "      <td>0</td>\n",
       "      <td>0</td>\n",
       "      <td>0</td>\n",
       "      <td>0</td>\n",
       "      <td>0</td>\n",
       "      <td>0</td>\n",
       "      <td>0</td>\n",
       "      <td>0</td>\n",
       "    </tr>\n",
       "    <tr>\n",
       "      <th>1</th>\n",
       "      <td>11110</td>\n",
       "      <td>10100</td>\n",
       "      <td>1</td>\n",
       "      <td>723.3</td>\n",
       "      <td>730500</td>\n",
       "      <td>0</td>\n",
       "      <td>0</td>\n",
       "      <td>0</td>\n",
       "      <td>0</td>\n",
       "      <td>0</td>\n",
       "      <td>...</td>\n",
       "      <td>0</td>\n",
       "      <td>0</td>\n",
       "      <td>0</td>\n",
       "      <td>0</td>\n",
       "      <td>1</td>\n",
       "      <td>0</td>\n",
       "      <td>0</td>\n",
       "      <td>0</td>\n",
       "      <td>0</td>\n",
       "      <td>0</td>\n",
       "    </tr>\n",
       "    <tr>\n",
       "      <th>2</th>\n",
       "      <td>11110</td>\n",
       "      <td>10100</td>\n",
       "      <td>1</td>\n",
       "      <td>416.2</td>\n",
       "      <td>4250000</td>\n",
       "      <td>0</td>\n",
       "      <td>0</td>\n",
       "      <td>0</td>\n",
       "      <td>0</td>\n",
       "      <td>0</td>\n",
       "      <td>...</td>\n",
       "      <td>0</td>\n",
       "      <td>0</td>\n",
       "      <td>0</td>\n",
       "      <td>0</td>\n",
       "      <td>0</td>\n",
       "      <td>0</td>\n",
       "      <td>1</td>\n",
       "      <td>0</td>\n",
       "      <td>0</td>\n",
       "      <td>0</td>\n",
       "    </tr>\n",
       "    <tr>\n",
       "      <th>3</th>\n",
       "      <td>11110</td>\n",
       "      <td>10100</td>\n",
       "      <td>1</td>\n",
       "      <td>811.3</td>\n",
       "      <td>3930000</td>\n",
       "      <td>0</td>\n",
       "      <td>0</td>\n",
       "      <td>0</td>\n",
       "      <td>0</td>\n",
       "      <td>0</td>\n",
       "      <td>...</td>\n",
       "      <td>0</td>\n",
       "      <td>0</td>\n",
       "      <td>0</td>\n",
       "      <td>0</td>\n",
       "      <td>1</td>\n",
       "      <td>0</td>\n",
       "      <td>0</td>\n",
       "      <td>0</td>\n",
       "      <td>0</td>\n",
       "      <td>0</td>\n",
       "    </tr>\n",
       "    <tr>\n",
       "      <th>4</th>\n",
       "      <td>11110</td>\n",
       "      <td>10100</td>\n",
       "      <td>1</td>\n",
       "      <td>442.3</td>\n",
       "      <td>3855000</td>\n",
       "      <td>0</td>\n",
       "      <td>0</td>\n",
       "      <td>0</td>\n",
       "      <td>0</td>\n",
       "      <td>0</td>\n",
       "      <td>...</td>\n",
       "      <td>0</td>\n",
       "      <td>0</td>\n",
       "      <td>0</td>\n",
       "      <td>1</td>\n",
       "      <td>0</td>\n",
       "      <td>0</td>\n",
       "      <td>0</td>\n",
       "      <td>0</td>\n",
       "      <td>0</td>\n",
       "      <td>0</td>\n",
       "    </tr>\n",
       "  </tbody>\n",
       "</table>\n",
       "<p>5 rows × 276 columns</p>\n",
       "</div>"
      ],
      "text/plain": [
       "     시군구   읍면동리  지번구분      면적     공시지가  지목_공원  지목_공장용지  지목_과수원  지목_광천지  지목_구거  \\\n",
       "0  11110  10100     1  1021.5   493500      1        0       0       0      0   \n",
       "1  11110  10100     1   723.3   730500      0        0       0       0      0   \n",
       "2  11110  10100     1   416.2  4250000      0        0       0       0      0   \n",
       "3  11110  10100     1   811.3  3930000      0        0       0       0      0   \n",
       "4  11110  10100     1   442.3  3855000      0        0       0       0      0   \n",
       "\n",
       "   ...  도로교통_중로각지  도로교통_중로한면  방위_남동향  방위_남서향  방위_남향  방위_동향  방위_북동향  방위_북서향  \\\n",
       "0  ...          0          0       0       0      0      0       0       0   \n",
       "1  ...          0          0       0       0      1      0       0       0   \n",
       "2  ...          0          0       0       0      0      0       1       0   \n",
       "3  ...          0          0       0       0      1      0       0       0   \n",
       "4  ...          0          0       0       1      0      0       0       0   \n",
       "\n",
       "   방위_북향  방위_서향  \n",
       "0      0      0  \n",
       "1      0      0  \n",
       "2      0      0  \n",
       "3      0      0  \n",
       "4      0      0  \n",
       "\n",
       "[5 rows x 276 columns]"
      ]
     },
     "execution_count": 57,
     "metadata": {},
     "output_type": "execute_result"
    }
   ],
   "source": [
    "data.head()"
   ]
  },
  {
   "cell_type": "code",
   "execution_count": 58,
   "id": "e0e66256",
   "metadata": {},
   "outputs": [
    {
     "data": {
      "text/plain": [
       "(540050, 276)"
      ]
     },
     "execution_count": 58,
     "metadata": {},
     "output_type": "execute_result"
    }
   ],
   "source": [
    "data.shape"
   ]
  },
  {
   "cell_type": "code",
   "execution_count": 59,
   "id": "d54b0eeb",
   "metadata": {},
   "outputs": [],
   "source": [
    "feature = data[data.columns.difference(['공시지가'])]\n",
    "target = data['공시지가']"
   ]
  },
  {
   "cell_type": "code",
   "execution_count": 60,
   "id": "ac6f63bd",
   "metadata": {},
   "outputs": [
    {
     "data": {
      "text/plain": [
       "540050"
      ]
     },
     "execution_count": 60,
     "metadata": {},
     "output_type": "execute_result"
    }
   ],
   "source": [
    "len(data)"
   ]
  },
  {
   "cell_type": "code",
   "execution_count": 61,
   "id": "559cb963",
   "metadata": {},
   "outputs": [],
   "source": [
    "from sklearn.model_selection import train_test_split\n",
    "\n",
    "train_input, test_input, train_target, test_target = train_test_split(feature, target, random_state=500000)"
   ]
  },
  {
   "cell_type": "markdown",
   "id": "02f5e03f",
   "metadata": {},
   "source": [
    "# 사이킷런"
   ]
  },
  {
   "cell_type": "markdown",
   "id": "1fcacd07",
   "metadata": {},
   "source": [
    "### 규제 전 표준화"
   ]
  },
  {
   "cell_type": "code",
   "execution_count": 62,
   "id": "98e24fd7",
   "metadata": {},
   "outputs": [],
   "source": [
    "from sklearn.preprocessing import StandardScaler\n",
    "\n",
    "ss = StandardScaler() #표준화 작업을 함수로서 지원\n",
    "ss.fit(train_input)\n",
    "\n",
    "train_scaled = ss.transform(train_input)\n",
    "test_scaled = ss.transform(test_input)"
   ]
  },
  {
   "cell_type": "markdown",
   "id": "65da6cc8",
   "metadata": {},
   "source": [
    "## 라쏘"
   ]
  },
  {
   "cell_type": "code",
   "execution_count": 63,
   "id": "a5b1f915",
   "metadata": {},
   "outputs": [
    {
     "name": "stderr",
     "output_type": "stream",
     "text": [
      "C:\\python\\lib\\site-packages\\sklearn\\linear_model\\_coordinate_descent.py:634: ConvergenceWarning: Objective did not converge. You might want to increase the number of iterations, check the scale of the features or consider increasing regularisation. Duality gap: 5.916e+17, tolerance: 2.723e+14\n",
      "  model = cd_fast.enet_coordinate_descent(\n"
     ]
    },
    {
     "name": "stdout",
     "output_type": "stream",
     "text": [
      "0.49986100886961216\n"
     ]
    }
   ],
   "source": [
    "from sklearn.linear_model import Lasso\n",
    "\n",
    "lasso = Lasso()\n",
    "lasso.fit(train_scaled, train_target)\n",
    "print(lasso.score(train_scaled, train_target))"
   ]
  },
  {
   "cell_type": "code",
   "execution_count": 65,
   "id": "e468e1d9",
   "metadata": {},
   "outputs": [
    {
     "name": "stdout",
     "output_type": "stream",
     "text": [
      "0.49443076819452303\n"
     ]
    }
   ],
   "source": [
    "print(lasso.score(test_scaled, test_target))"
   ]
  },
  {
   "cell_type": "code",
   "execution_count": null,
   "id": "84a09691",
   "metadata": {},
   "outputs": [],
   "source": []
  },
  {
   "cell_type": "code",
   "execution_count": 67,
   "id": "6a0f3124",
   "metadata": {},
   "outputs": [
    {
     "name": "stderr",
     "output_type": "stream",
     "text": [
      "C:\\python\\lib\\site-packages\\sklearn\\linear_model\\_coordinate_descent.py:634: ConvergenceWarning: Objective did not converge. You might want to increase the number of iterations, check the scale of the features or consider increasing regularisation. Duality gap: 6.790e+17, tolerance: 2.723e+14\n",
      "  model = cd_fast.enet_coordinate_descent(\n"
     ]
    },
    {
     "name": "stdout",
     "output_type": "stream",
     "text": [
      "0.49986099041786825\n",
      "0.49443076199255553\n"
     ]
    }
   ],
   "source": [
    "lasso = Lasso(alpha=0.02)\n",
    "lasso.fit(train_scaled, train_target)\n",
    "\n",
    "print(lasso.score(train_scaled, train_target))\n",
    "print(lasso.score(test_scaled, test_target))"
   ]
  },
  {
   "cell_type": "code",
   "execution_count": 68,
   "id": "107eb1c3",
   "metadata": {},
   "outputs": [
    {
     "name": "stderr",
     "output_type": "stream",
     "text": [
      "C:\\python\\lib\\site-packages\\sklearn\\linear_model\\_coordinate_descent.py:634: ConvergenceWarning: Objective did not converge. You might want to increase the number of iterations, check the scale of the features or consider increasing regularisation. Duality gap: 6.624e+17, tolerance: 2.723e+14\n",
      "  model = cd_fast.enet_coordinate_descent(\n"
     ]
    },
    {
     "name": "stdout",
     "output_type": "stream",
     "text": [
      "0.4998609940508687\n",
      "0.49443076332148317\n"
     ]
    }
   ],
   "source": [
    "lasso = Lasso(alpha=0.2)\n",
    "lasso.fit(train_scaled, train_target)\n",
    "\n",
    "print(lasso.score(train_scaled, train_target))\n",
    "print(lasso.score(test_scaled, test_target))"
   ]
  },
  {
   "cell_type": "code",
   "execution_count": 69,
   "id": "c4f281c4",
   "metadata": {},
   "outputs": [
    {
     "name": "stderr",
     "output_type": "stream",
     "text": [
      "C:\\Users\\TJ\\AppData\\Local\\Temp\\ipykernel_4636\\1122559237.py:2: UserWarning: With alpha=0, this algorithm does not converge well. You are advised to use the LinearRegression estimator\n",
      "  lasso.fit(train_scaled, train_target)\n",
      "C:\\python\\lib\\site-packages\\sklearn\\linear_model\\_coordinate_descent.py:634: UserWarning: Coordinate descent with no regularization may lead to unexpected results and is discouraged.\n",
      "  model = cd_fast.enet_coordinate_descent(\n",
      "C:\\python\\lib\\site-packages\\sklearn\\linear_model\\_coordinate_descent.py:634: ConvergenceWarning: Objective did not converge. You might want to increase the number of iterations, check the scale of the features or consider increasing regularisation. Duality gap: 6.809e+17, tolerance: 2.723e+14 Linear regression models with null weight for the l1 regularization term are more efficiently fitted using one of the solvers implemented in sklearn.linear_model.Ridge/RidgeCV instead.\n",
      "  model = cd_fast.enet_coordinate_descent(\n"
     ]
    },
    {
     "name": "stdout",
     "output_type": "stream",
     "text": [
      "0.4998609900073787\n",
      "0.49443076184032553\n"
     ]
    }
   ],
   "source": [
    "lasso = Lasso(alpha=0)\n",
    "lasso.fit(train_scaled, train_target)\n",
    "\n",
    "print(lasso.score(train_scaled, train_target))\n",
    "print(lasso.score(test_scaled, test_target))"
   ]
  },
  {
   "cell_type": "code",
   "execution_count": 70,
   "id": "2aeeee53",
   "metadata": {},
   "outputs": [
    {
     "name": "stderr",
     "output_type": "stream",
     "text": [
      "C:\\python\\lib\\site-packages\\sklearn\\linear_model\\_coordinate_descent.py:634: ConvergenceWarning: Objective did not converge. You might want to increase the number of iterations, check the scale of the features or consider increasing regularisation. Duality gap: 6.808e+17, tolerance: 2.723e+14\n",
      "  model = cd_fast.enet_coordinate_descent(\n"
     ]
    },
    {
     "name": "stdout",
     "output_type": "stream",
     "text": [
      "0.4998609900279355\n",
      "0.49443076184795776\n"
     ]
    }
   ],
   "source": [
    "lasso = Lasso(alpha=0.001)\n",
    "lasso.fit(train_scaled, train_target)\n",
    "\n",
    "print(lasso.score(train_scaled, train_target))\n",
    "print(lasso.score(test_scaled, test_target))"
   ]
  },
  {
   "cell_type": "code",
   "execution_count": 71,
   "id": "969b5d56",
   "metadata": {},
   "outputs": [
    {
     "name": "stderr",
     "output_type": "stream",
     "text": [
      "C:\\python\\lib\\site-packages\\sklearn\\linear_model\\_coordinate_descent.py:634: ConvergenceWarning: Objective did not converge. You might want to increase the number of iterations, check the scale of the features or consider increasing regularisation. Duality gap: 6.808e+17, tolerance: 2.723e+14\n",
      "  model = cd_fast.enet_coordinate_descent(\n"
     ]
    },
    {
     "name": "stdout",
     "output_type": "stream",
     "text": [
      "0.4998609900279355\n",
      "0.49443076184795776\n"
     ]
    }
   ],
   "source": [
    "lasso = Lasso(alpha=0.001)\n",
    "lasso.fit(train_scaled, train_target)\n",
    "\n",
    "print(lasso.score(train_scaled, train_target))\n",
    "print(lasso.score(test_scaled, test_target))"
   ]
  },
  {
   "cell_type": "code",
   "execution_count": 72,
   "id": "73b0a8c3",
   "metadata": {},
   "outputs": [
    {
     "name": "stderr",
     "output_type": "stream",
     "text": [
      "C:\\python\\lib\\site-packages\\sklearn\\linear_model\\_coordinate_descent.py:634: ConvergenceWarning: Objective did not converge. You might want to increase the number of iterations, check the scale of the features or consider increasing regularisation. Duality gap: 6.716e+17, tolerance: 2.723e+14\n",
      "  model = cd_fast.enet_coordinate_descent(\n"
     ]
    },
    {
     "name": "stdout",
     "output_type": "stream",
     "text": [
      "0.4998609920461745\n",
      "0.4944307625925297\n"
     ]
    }
   ],
   "source": [
    "lasso = Lasso(alpha=0.1)\n",
    "lasso.fit(train_scaled, train_target)\n",
    "\n",
    "print(lasso.score(train_scaled, train_target))\n",
    "print(lasso.score(test_scaled, test_target))"
   ]
  },
  {
   "cell_type": "code",
   "execution_count": 73,
   "id": "1c758bc3",
   "metadata": {},
   "outputs": [
    {
     "name": "stderr",
     "output_type": "stream",
     "text": [
      "C:\\python\\lib\\site-packages\\sklearn\\linear_model\\_coordinate_descent.py:634: ConvergenceWarning: Objective did not converge. You might want to increase the number of iterations, check the scale of the features or consider increasing regularisation. Duality gap: 5.916e+17, tolerance: 2.723e+14\n",
      "  model = cd_fast.enet_coordinate_descent(\n"
     ]
    },
    {
     "name": "stdout",
     "output_type": "stream",
     "text": [
      "0.49986100886961216\n",
      "0.49443076819452303\n"
     ]
    }
   ],
   "source": [
    "lasso = Lasso(alpha=1)\n",
    "lasso.fit(train_scaled, train_target)\n",
    "\n",
    "print(lasso.score(train_scaled, train_target))\n",
    "print(lasso.score(test_scaled, test_target))"
   ]
  },
  {
   "cell_type": "code",
   "execution_count": 74,
   "id": "19e08b3d",
   "metadata": {},
   "outputs": [
    {
     "name": "stderr",
     "output_type": "stream",
     "text": [
      "C:\\python\\lib\\site-packages\\sklearn\\linear_model\\_coordinate_descent.py:634: ConvergenceWarning: Objective did not converge. You might want to increase the number of iterations, check the scale of the features or consider increasing regularisation. Duality gap: 1.496e+17, tolerance: 2.723e+14\n",
      "  model = cd_fast.enet_coordinate_descent(\n"
     ]
    },
    {
     "name": "stdout",
     "output_type": "stream",
     "text": [
      "0.4998610540944788\n",
      "0.49443073280118566\n"
     ]
    }
   ],
   "source": [
    "lasso = Lasso(alpha=10)\n",
    "lasso.fit(train_scaled, train_target)\n",
    "\n",
    "print(lasso.score(train_scaled, train_target))\n",
    "print(lasso.score(test_scaled, test_target))"
   ]
  },
  {
   "cell_type": "code",
   "execution_count": 75,
   "id": "216c8904",
   "metadata": {},
   "outputs": [
    {
     "name": "stderr",
     "output_type": "stream",
     "text": [
      "C:\\python\\lib\\site-packages\\sklearn\\linear_model\\_coordinate_descent.py:634: ConvergenceWarning: Objective did not converge. You might want to increase the number of iterations, check the scale of the features or consider increasing regularisation. Duality gap: 3.611e+15, tolerance: 2.723e+14\n",
      "  model = cd_fast.enet_coordinate_descent(\n"
     ]
    },
    {
     "name": "stdout",
     "output_type": "stream",
     "text": [
      "0.49985700022411683\n",
      "0.4944320096407502\n"
     ]
    }
   ],
   "source": [
    "lasso = Lasso(alpha=100)\n",
    "lasso.fit(train_scaled, train_target)\n",
    "\n",
    "print(lasso.score(train_scaled, train_target))\n",
    "print(lasso.score(test_scaled, test_target))"
   ]
  },
  {
   "cell_type": "code",
   "execution_count": 76,
   "id": "f9794e7b",
   "metadata": {},
   "outputs": [
    {
     "name": "stdout",
     "output_type": "stream",
     "text": [
      "0.49978950285694457\n",
      "0.4944080818912604\n"
     ]
    }
   ],
   "source": [
    "lasso = Lasso(alpha=1000)\n",
    "lasso.fit(train_scaled, train_target)\n",
    "\n",
    "print(lasso.score(train_scaled, train_target))\n",
    "print(lasso.score(test_scaled, test_target))"
   ]
  },
  {
   "cell_type": "code",
   "execution_count": 77,
   "id": "6206cb75",
   "metadata": {},
   "outputs": [
    {
     "name": "stdout",
     "output_type": "stream",
     "text": [
      "0.49808486552963227\n",
      "0.49275310067570366\n"
     ]
    }
   ],
   "source": [
    "lasso = Lasso(alpha=10000)\n",
    "lasso.fit(train_scaled, train_target)\n",
    "\n",
    "print(lasso.score(train_scaled, train_target))\n",
    "print(lasso.score(test_scaled, test_target))"
   ]
  },
  {
   "cell_type": "raw",
   "id": "f79e0583",
   "metadata": {},
   "source": [
    "따라서 가장 적합한 alpha는10 이며\n",
    "test 결과\n",
    "0.4898644634403717"
   ]
  },
  {
   "cell_type": "code",
   "execution_count": null,
   "id": "4f38b7dc",
   "metadata": {},
   "outputs": [],
   "source": [
    "# default\n",
    "# 0.4898650362909165\n",
    "# 0.4898650887553605\n",
    "\n",
    "# 0.489867872828719\n",
    "# 0.489867872828719"
   ]
  }
 ],
 "metadata": {
  "kernelspec": {
   "display_name": "Python 3 (ipykernel)",
   "language": "python",
   "name": "python3"
  },
  "language_info": {
   "codemirror_mode": {
    "name": "ipython",
    "version": 3
   },
   "file_extension": ".py",
   "mimetype": "text/x-python",
   "name": "python",
   "nbconvert_exporter": "python",
   "pygments_lexer": "ipython3",
   "version": "3.10.5"
  }
 },
 "nbformat": 4,
 "nbformat_minor": 5
}
