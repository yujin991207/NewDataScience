{
 "cells": [
  {
   "cell_type": "code",
   "execution_count": 1,
   "id": "99b658a7",
   "metadata": {},
   "outputs": [],
   "source": [
    "import pickle\n",
    "from sklearn.linear_model import LogisticRegression\n",
    "\n",
    "with open('processed.pickle', 'rb') as file_handle:\n",
    "    vocabulary, features, labels = pickle.load(file_handle)"
   ]
  },
  {
   "cell_type": "code",
   "execution_count": null,
   "id": "73aff8f5",
   "metadata": {},
   "outputs": [],
   "source": [
    "# 학습-평가 데이터 나누기\n",
    "# 처음 50%를 학습으로 사용하고 나머지를 평가로 사용합니다.\n",
    "total_number = len(labels)\n",
    "middle_index = total_number//2\n",
    "train_features = features[:middle_index,:]\n",
    "train_labels = labels[:middle_index]\n",
    "test_features = features[middle_index:,:]\n",
    "test_labels = labels[middle_index:]"
   ]
  },
  {
   "cell_type": "code",
   "execution_count": 5,
   "id": "bc2c2549",
   "metadata": {},
   "outputs": [
    {
     "data": {
      "text/plain": [
       "<5x8713 sparse matrix of type '<class 'numpy.float64'>'\n",
       "\twith 64 stored elements in Compressed Sparse Row format>"
      ]
     },
     "execution_count": 5,
     "metadata": {},
     "output_type": "execute_result"
    }
   ],
   "source": [
    "# TF-IDF 정보가 화소행렬(sparse matrix)로 압축되어 저장\n",
    "train_features[:5]"
   ]
  },
  {
   "cell_type": "code",
   "execution_count": 2,
   "id": "d5074b5b",
   "metadata": {},
   "outputs": [
    {
     "name": "stdout",
     "output_type": "stream",
     "text": [
      "train accuracy: 0.9659\n",
      "test accuracy: 0.9480\n",
      "score 4.0001 word: txt\n",
      "score 3.4521 word: call\n",
      "score 3.2910 word: free\n",
      "score 2.7635 word: to\n",
      "score 2.5109 word: claim\n",
      "score 2.4553 word: www\n",
      "score 2.4490 word: stop\n",
      "score 2.4278 word: uk\n",
      "score 2.2604 word: text\n",
      "score 2.2016 word: 150p\n",
      "score 2.1835 word: service\n",
      "score 2.1580 word: mobile\n",
      "score 1.9421 word: my\n",
      "score 1.9399 word: prize\n",
      "score 1.9165 word: chat\n",
      "score 1.8700 word: me\n",
      "score 1.8646 word: reply\n",
      "score 1.8335 word: from\n",
      "score 1.8333 word: 18\n",
      "score 1.8222 word: or\n"
     ]
    }
   ],
   "source": [
    "classifier = LogisticRegression() # 성능 향상을 위해 새로운 모델을 사용할 수 있다.\n",
    "classifier.fit(train_features, train_labels)\n",
    "print('train accuracy: %4.4f' % classifier.score(train_features, train_labels))\n",
    "print('test accuracy: %4.4f' % classifier.score(test_features, test_labels))\n",
    "\n",
    "# 어떤 항목이 판별에 영향을 많이 줬는지 찾아보기\n",
    "weights = classifier.coef_[0, :]\n",
    "pairs = []\n",
    "for index, value in enumerate(weights):\n",
    "    pairs.append( (abs(value), vocabulary[index]) )\n",
    "pairs.sort(key=lambda x: x[0], reverse=True)\n",
    "for pair in pairs[:20]:\n",
    "    print('score %4.4f word: %s' % pair)"
   ]
  },
  {
   "cell_type": "markdown",
   "id": "6ea33a3e",
   "metadata": {},
   "source": [
    "## 성능 향상을 위해 선택적으로 적용할 수 있는 실험\n",
    "* idf 점수를 빼고 모델 학습\n",
    "* 성능이 향상이 되었다면 어떤 이유로 향상이 되었을지 생각해 보자"
   ]
  },
  {
   "cell_type": "code",
   "execution_count": null,
   "id": "4061abd4",
   "metadata": {},
   "outputs": [],
   "source": []
  }
 ],
 "metadata": {
  "kernelspec": {
   "display_name": "Python 3 (ipykernel)",
   "language": "python",
   "name": "python3"
  },
  "language_info": {
   "codemirror_mode": {
    "name": "ipython",
    "version": 3
   },
   "file_extension": ".py",
   "mimetype": "text/x-python",
   "name": "python",
   "nbconvert_exporter": "python",
   "pygments_lexer": "ipython3",
   "version": "3.9.13"
  }
 },
 "nbformat": 4,
 "nbformat_minor": 5
}
