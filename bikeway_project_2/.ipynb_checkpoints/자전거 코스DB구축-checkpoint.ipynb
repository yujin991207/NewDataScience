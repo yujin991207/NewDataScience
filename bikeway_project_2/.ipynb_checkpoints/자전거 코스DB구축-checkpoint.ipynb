{
 "cells": [
  {
   "cell_type": "code",
   "execution_count": 17,
   "id": "beb7f4da",
   "metadata": {},
   "outputs": [],
   "source": [
    "import pandas as pd\n",
    "import glob\n",
    "import gpxpy"
   ]
  },
  {
   "cell_type": "code",
   "execution_count": 18,
   "id": "be128bb7",
   "metadata": {},
   "outputs": [],
   "source": [
    "# 파일들을 묶어 변수로 선언\n",
    "input_path = '*.gpx'\n",
    "file_list = [f for f in glob.glob(input_path)]"
   ]
  },
  {
   "cell_type": "code",
   "execution_count": 26,
   "id": "91dce653",
   "metadata": {},
   "outputs": [
    {
     "name": "stderr",
     "output_type": "stream",
     "text": [
      "C:\\Users\\Catle_min\\AppData\\Local\\Temp\\ipykernel_18224\\3265350942.py:14: FutureWarning: The default value of regex will change from True to False in a future version.\n",
      "  df['corse'] = df['corse'].str.replace('.gpx','')\n"
     ]
    }
   ],
   "source": [
    "# gpxpy 라는 함수로 gpx 파일을 파싱해서 작업진행\n",
    "data=[]\n",
    "for i in file_list :\n",
    "    gpx=gpxpy.parse(open(i, encoding='UTF-8'))\n",
    "    # gpx 파일을 세그먼트,트랙으로 전환해준다\n",
    "    track = gpx.tracks[0]\n",
    "    segment = track.segments[0]\n",
    "    segment_length = segment.length_3d()\n",
    "    # 위,경도 데이터를 얻기 위해서 for문을 돌면서 point를 data 리스트에 담아준다\n",
    "    for point_idx, point in enumerate(segment.points):\n",
    "        data.append([i, # 코스이름\n",
    "                     point.longitude, # 경도\n",
    "                     point.latitude, # 위도\n",
    "                     point.elevation, # 고도\n",
    "            ])\n",
    "# 모든데이터를 데이터프레임에 담아준다\n",
    "df = pd.DataFrame(data, columns=['corse','Lon', 'Lat', 'Elev'])\n",
    "df['corse'] = df['corse'].str.replace('.gpx','')"
   ]
  },
  {
   "cell_type": "code",
   "execution_count": 28,
   "id": "4c48626f",
   "metadata": {},
   "outputs": [],
   "source": [
    "df.to_csv('corse.csv',encoding='cp949',index=False)"
   ]
  }
 ],
 "metadata": {
  "kernelspec": {
   "display_name": "Python 3 (ipykernel)",
   "language": "python",
   "name": "python3"
  },
  "language_info": {
   "codemirror_mode": {
    "name": "ipython",
    "version": 3
   },
   "file_extension": ".py",
   "mimetype": "text/x-python",
   "name": "python",
   "nbconvert_exporter": "python",
   "pygments_lexer": "ipython3",
   "version": "3.9.13"
  }
 },
 "nbformat": 4,
 "nbformat_minor": 5
}
