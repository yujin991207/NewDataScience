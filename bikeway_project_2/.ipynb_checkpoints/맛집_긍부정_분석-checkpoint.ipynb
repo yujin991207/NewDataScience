{
 "cells": [
  {
   "cell_type": "code",
   "execution_count": 1,
   "id": "e1ca15b0",
   "metadata": {},
   "outputs": [],
   "source": [
    "import pickle\n",
    "import pandas as pd\n",
    "import numpy as np\n",
    "import matplotlib.pyplot as plt\n",
    "import re\n",
    "import urllib.request\n",
    "from konlpy.tag import Okt\n",
    "from tqdm import tqdm\n",
    "from tensorflow.keras.preprocessing.text import Tokenizer\n",
    "from tensorflow.keras.preprocessing.sequence import pad_sequences"
   ]
  },
  {
   "cell_type": "code",
   "execution_count": 31,
   "id": "dc63eb8d",
   "metadata": {
    "scrolled": false
   },
   "outputs": [
    {
     "data": {
      "text/html": [
       "<div>\n",
       "<style scoped>\n",
       "    .dataframe tbody tr th:only-of-type {\n",
       "        vertical-align: middle;\n",
       "    }\n",
       "\n",
       "    .dataframe tbody tr th {\n",
       "        vertical-align: top;\n",
       "    }\n",
       "\n",
       "    .dataframe thead th {\n",
       "        text-align: right;\n",
       "    }\n",
       "</style>\n",
       "<table border=\"1\" class=\"dataframe\">\n",
       "  <thead>\n",
       "    <tr style=\"text-align: right;\">\n",
       "      <th></th>\n",
       "      <th>store_id</th>\n",
       "      <th>kakao_nickname</th>\n",
       "      <th>kakao_date</th>\n",
       "      <th>kakao_content</th>\n",
       "      <th>kakao_star</th>\n",
       "    </tr>\n",
       "  </thead>\n",
       "  <tbody>\n",
       "    <tr>\n",
       "      <th>0</th>\n",
       "      <td>17174042</td>\n",
       "      <td>김지아</td>\n",
       "      <td>2022.10.21.</td>\n",
       "      <td>차돌쭈꾸미 새로생겨서 먹어봤는디 정말맛있어요존맛탱구리구리 오늘도 아주 잘먹구갑니다 ...</td>\n",
       "      <td>5.0</td>\n",
       "    </tr>\n",
       "  </tbody>\n",
       "</table>\n",
       "</div>"
      ],
      "text/plain": [
       "   store_id kakao_nickname   kakao_date  \\\n",
       "0  17174042            김지아  2022.10.21.   \n",
       "\n",
       "                                       kakao_content  kakao_star  \n",
       "0  차돌쭈꾸미 새로생겨서 먹어봤는디 정말맛있어요존맛탱구리구리 오늘도 아주 잘먹구갑니다 ...         5.0  "
      ]
     },
     "execution_count": 31,
     "metadata": {},
     "output_type": "execute_result"
    }
   ],
   "source": [
    "kakao_data = pd.read_csv('kakao_review_0to500.csv', encoding = 'cp949')\n",
    "kakao_data.head(1)"
   ]
  },
  {
   "cell_type": "code",
   "execution_count": 28,
   "id": "bb950e71",
   "metadata": {},
   "outputs": [
    {
     "name": "stdout",
     "output_type": "stream",
     "text": [
      "<class 'pandas.core.frame.DataFrame'>\n",
      "RangeIndex: 1270 entries, 0 to 1269\n",
      "Data columns (total 5 columns):\n",
      " #   Column          Non-Null Count  Dtype  \n",
      "---  ------          --------------  -----  \n",
      " 0   store_id        1270 non-null   int64  \n",
      " 1   kakao_nickname  1218 non-null   object \n",
      " 2   kakao_date      1270 non-null   object \n",
      " 3   kakao_content   1057 non-null   object \n",
      " 4   kakao_star      1270 non-null   float64\n",
      "dtypes: float64(1), int64(1), object(3)\n",
      "memory usage: 49.7+ KB\n"
     ]
    }
   ],
   "source": [
    "kakao_data.info()"
   ]
  },
  {
   "cell_type": "code",
   "execution_count": 14,
   "id": "d71e434a",
   "metadata": {},
   "outputs": [
    {
     "data": {
      "text/plain": [
       "(1270, 5)"
      ]
     },
     "execution_count": 14,
     "metadata": {},
     "output_type": "execute_result"
    }
   ],
   "source": [
    "kakao_data.shape"
   ]
  },
  {
   "cell_type": "code",
   "execution_count": 24,
   "id": "38dc9c17",
   "metadata": {},
   "outputs": [],
   "source": [
    "# 개인별점이 공백인 행은 제거해준다\n",
    "space = kakao_data[kakao_data['kakao_star'] == \"\"].index\n",
    "kakao_data.drop(space, inplace=True)"
   ]
  },
  {
   "cell_type": "code",
   "execution_count": 77,
   "id": "8b715ceb",
   "metadata": {
    "scrolled": false
   },
   "outputs": [
    {
     "data": {
      "text/html": [
       "<div>\n",
       "<style scoped>\n",
       "    .dataframe tbody tr th:only-of-type {\n",
       "        vertical-align: middle;\n",
       "    }\n",
       "\n",
       "    .dataframe tbody tr th {\n",
       "        vertical-align: top;\n",
       "    }\n",
       "\n",
       "    .dataframe thead th {\n",
       "        text-align: right;\n",
       "    }\n",
       "</style>\n",
       "<table border=\"1\" class=\"dataframe\">\n",
       "  <thead>\n",
       "    <tr style=\"text-align: right;\">\n",
       "      <th></th>\n",
       "      <th>store_id</th>\n",
       "      <th>kakao_nickname</th>\n",
       "      <th>kakao_date</th>\n",
       "      <th>kakao_content</th>\n",
       "      <th>kakao_star</th>\n",
       "    </tr>\n",
       "  </thead>\n",
       "  <tbody>\n",
       "    <tr>\n",
       "      <th>5</th>\n",
       "      <td>15549566</td>\n",
       "      <td>앵</td>\n",
       "      <td>2022.11.03.</td>\n",
       "      <td>탕이 진국</td>\n",
       "      <td>4.0</td>\n",
       "    </tr>\n",
       "    <tr>\n",
       "      <th>6</th>\n",
       "      <td>15549566</td>\n",
       "      <td>동동</td>\n",
       "      <td>2022.09.14.</td>\n",
       "      <td>재밌는 경험 우리나라 유일한 당나귀고기집확실히 말고기보다 맛나다희귀한 고기를 다양하...</td>\n",
       "      <td>5.0</td>\n",
       "    </tr>\n",
       "    <tr>\n",
       "      <th>7</th>\n",
       "      <td>15549566</td>\n",
       "      <td>그린애플</td>\n",
       "      <td>2022.09.04.</td>\n",
       "      <td>2인 의 코스 시켰는데 마지막 전골은 양이 많아서 거의 남겼어요 동 코스로 충분합니...</td>\n",
       "      <td>5.0</td>\n",
       "    </tr>\n",
       "  </tbody>\n",
       "</table>\n",
       "</div>"
      ],
      "text/plain": [
       "   store_id kakao_nickname   kakao_date  \\\n",
       "5  15549566              앵  2022.11.03.   \n",
       "6  15549566             동동  2022.09.14.   \n",
       "7  15549566           그린애플  2022.09.04.   \n",
       "\n",
       "                                       kakao_content  kakao_star  \n",
       "5                                              탕이 진국         4.0  \n",
       "6  재밌는 경험 우리나라 유일한 당나귀고기집확실히 말고기보다 맛나다희귀한 고기를 다양하...         5.0  \n",
       "7  2인 의 코스 시켰는데 마지막 전골은 양이 많아서 거의 남겼어요 동 코스로 충분합니...         5.0  "
      ]
     },
     "execution_count": 77,
     "metadata": {},
     "output_type": "execute_result"
    }
   ],
   "source": [
    "kakao_data2 = kakao_data[kakao_data['store_id'] == 15549566]\n",
    "kakao_data2.head(3)"
   ]
  },
  {
   "cell_type": "code",
   "execution_count": 78,
   "id": "ecba50b7",
   "metadata": {
    "scrolled": true
   },
   "outputs": [
    {
     "name": "stderr",
     "output_type": "stream",
     "text": [
      "C:\\Users\\TJ\\AppData\\Local\\Temp\\ipykernel_8260\\2321704695.py:4: SettingWithCopyWarning: \n",
      "A value is trying to be set on a copy of a slice from a DataFrame.\n",
      "Try using .loc[row_indexer,col_indexer] = value instead\n",
      "\n",
      "See the caveats in the documentation: https://pandas.pydata.org/pandas-docs/stable/user_guide/indexing.html#returning-a-view-versus-a-copy\n",
      "  kakao_data2['label'] = pd.Categorical(np.where(label, 1, 0))\n"
     ]
    }
   ],
   "source": [
    "# kakao_star 가 3.5 이상이면 label 1\n",
    "# 그게 아니면 0을 준다\n",
    "label = (kakao_data2['kakao_star'] >= 3.5)\n",
    "kakao_data2['label'] = pd.Categorical(np.where(label, 1, 0))"
   ]
  },
  {
   "cell_type": "code",
   "execution_count": 79,
   "id": "b784081e",
   "metadata": {
    "scrolled": true
   },
   "outputs": [
    {
     "data": {
      "text/html": [
       "<div>\n",
       "<style scoped>\n",
       "    .dataframe tbody tr th:only-of-type {\n",
       "        vertical-align: middle;\n",
       "    }\n",
       "\n",
       "    .dataframe tbody tr th {\n",
       "        vertical-align: top;\n",
       "    }\n",
       "\n",
       "    .dataframe thead th {\n",
       "        text-align: right;\n",
       "    }\n",
       "</style>\n",
       "<table border=\"1\" class=\"dataframe\">\n",
       "  <thead>\n",
       "    <tr style=\"text-align: right;\">\n",
       "      <th></th>\n",
       "      <th>store_id</th>\n",
       "      <th>kakao_nickname</th>\n",
       "      <th>kakao_date</th>\n",
       "      <th>kakao_content</th>\n",
       "      <th>kakao_star</th>\n",
       "      <th>label</th>\n",
       "    </tr>\n",
       "  </thead>\n",
       "  <tbody>\n",
       "    <tr>\n",
       "      <th>5</th>\n",
       "      <td>15549566</td>\n",
       "      <td>앵</td>\n",
       "      <td>2022.11.03.</td>\n",
       "      <td>탕이 진국</td>\n",
       "      <td>4.0</td>\n",
       "      <td>1</td>\n",
       "    </tr>\n",
       "  </tbody>\n",
       "</table>\n",
       "</div>"
      ],
      "text/plain": [
       "   store_id kakao_nickname   kakao_date kakao_content  kakao_star label\n",
       "5  15549566              앵  2022.11.03.         탕이 진국         4.0     1"
      ]
     },
     "execution_count": 79,
     "metadata": {},
     "output_type": "execute_result"
    }
   ],
   "source": [
    "kakao_data2.head(1)"
   ]
  },
  {
   "cell_type": "code",
   "execution_count": 81,
   "id": "47e2422b",
   "metadata": {},
   "outputs": [
    {
     "data": {
      "text/plain": [
       "(26, 6)"
      ]
     },
     "execution_count": 81,
     "metadata": {},
     "output_type": "execute_result"
    }
   ],
   "source": [
    "kakao_data2.shape"
   ]
  },
  {
   "cell_type": "code",
   "execution_count": 74,
   "id": "1377684d",
   "metadata": {
    "scrolled": true
   },
   "outputs": [
    {
     "name": "stderr",
     "output_type": "stream",
     "text": [
      "C:\\Users\\TJ\\AppData\\Local\\Temp\\ipykernel_8260\\4028975372.py:2: SettingWithCopyWarning: \n",
      "A value is trying to be set on a copy of a slice from a DataFrame\n",
      "\n",
      "See the caveats in the documentation: https://pandas.pydata.org/pandas-docs/stable/user_guide/indexing.html#returning-a-view-versus-a-copy\n",
      "  kakao_data2.drop_duplicates(subset=['kakao_content'], inplace=True)\n"
     ]
    }
   ],
   "source": [
    "# 중복되는리뷰내용은제거한다\n",
    "kakao_data2.drop_duplicates(subset=['kakao_content'], inplace=True)"
   ]
  },
  {
   "cell_type": "code",
   "execution_count": 84,
   "id": "81f44bd9",
   "metadata": {},
   "outputs": [
    {
     "name": "stdout",
     "output_type": "stream",
     "text": [
      "  label  count\n",
      "0     0      2\n",
      "1     1     24\n"
     ]
    }
   ],
   "source": [
    "print(kakao_data2.groupby('label').size().reset_index(name = 'count'))"
   ]
  },
  {
   "cell_type": "code",
   "execution_count": 88,
   "id": "e488e03e",
   "metadata": {},
   "outputs": [
    {
     "name": "stdout",
     "output_type": "stream",
     "text": [
      "store_id          0\n",
      "kakao_nickname    1\n",
      "kakao_date        0\n",
      "kakao_content     2\n",
      "kakao_star        0\n",
      "label             0\n",
      "dtype: int64\n"
     ]
    }
   ],
   "source": [
    "# 리뷰내용이 null값인 행은 제거한다\n",
    "print(kakao_data2.isnull().sum())\n",
    "kakao_data2['kakao_content'] = kakao_data2['kakao_content'].dropna(axis=0)"
   ]
  },
  {
   "cell_type": "code",
   "execution_count": 95,
   "id": "f0f692ce",
   "metadata": {},
   "outputs": [
    {
     "data": {
      "text/plain": [
       "(23, 6)"
      ]
     },
     "execution_count": 95,
     "metadata": {},
     "output_type": "execute_result"
    }
   ],
   "source": [
    "kakao_data2.shape"
   ]
  },
  {
   "cell_type": "code",
   "execution_count": 96,
   "id": "702ae75c",
   "metadata": {
    "scrolled": true
   },
   "outputs": [
    {
     "name": "stderr",
     "output_type": "stream",
     "text": [
      "C:\\Users\\TJ\\AppData\\Local\\Temp\\ipykernel_8260\\1949171242.py:2: FutureWarning: The default value of regex will change from True to False in a future version.\n",
      "  kakao_data2['kakao_content'] = kakao_data2['kakao_content'].str.replace(\"[^ㄱ-ㅎㅏ-ㅣ가-힣 ]\",\"\")\n"
     ]
    },
    {
     "data": {
      "text/html": [
       "<div>\n",
       "<style scoped>\n",
       "    .dataframe tbody tr th:only-of-type {\n",
       "        vertical-align: middle;\n",
       "    }\n",
       "\n",
       "    .dataframe tbody tr th {\n",
       "        vertical-align: top;\n",
       "    }\n",
       "\n",
       "    .dataframe thead th {\n",
       "        text-align: right;\n",
       "    }\n",
       "</style>\n",
       "<table border=\"1\" class=\"dataframe\">\n",
       "  <thead>\n",
       "    <tr style=\"text-align: right;\">\n",
       "      <th></th>\n",
       "      <th>store_id</th>\n",
       "      <th>kakao_nickname</th>\n",
       "      <th>kakao_date</th>\n",
       "      <th>kakao_content</th>\n",
       "      <th>kakao_star</th>\n",
       "      <th>label</th>\n",
       "    </tr>\n",
       "  </thead>\n",
       "  <tbody>\n",
       "    <tr>\n",
       "      <th>5</th>\n",
       "      <td>15549566</td>\n",
       "      <td>앵</td>\n",
       "      <td>2022.11.03.</td>\n",
       "      <td>탕이 진국</td>\n",
       "      <td>4.0</td>\n",
       "      <td>1</td>\n",
       "    </tr>\n",
       "    <tr>\n",
       "      <th>6</th>\n",
       "      <td>15549566</td>\n",
       "      <td>동동</td>\n",
       "      <td>2022.09.14.</td>\n",
       "      <td>재밌는 경험 우리나라 유일한 당나귀고기집확실히 말고기보다 맛나다희귀한 고기를 다양하...</td>\n",
       "      <td>5.0</td>\n",
       "      <td>1</td>\n",
       "    </tr>\n",
       "    <tr>\n",
       "      <th>7</th>\n",
       "      <td>15549566</td>\n",
       "      <td>그린애플</td>\n",
       "      <td>2022.09.04.</td>\n",
       "      <td>인 의 코스 시켰는데 마지막 전골은 양이 많아서 거의 남겼어요 동 코스로 충분합니다...</td>\n",
       "      <td>5.0</td>\n",
       "      <td>1</td>\n",
       "    </tr>\n",
       "    <tr>\n",
       "      <th>8</th>\n",
       "      <td>15549566</td>\n",
       "      <td>까칠이</td>\n",
       "      <td>2022.05.04.</td>\n",
       "      <td>처음과  많이 달라졌음단품 메뉴 시키면  들은체 만체그 어떤 손님도 귀하거늘  차별...</td>\n",
       "      <td>1.0</td>\n",
       "      <td>0</td>\n",
       "    </tr>\n",
       "    <tr>\n",
       "      <th>10</th>\n",
       "      <td>15549566</td>\n",
       "      <td>롸</td>\n",
       "      <td>2022.01.18.</td>\n",
       "      <td>연초에 귀한분들모시고 다녀왔습니다 하나부터 열까지 모두 만족했고 서비스또한 좋습니다...</td>\n",
       "      <td>5.0</td>\n",
       "      <td>1</td>\n",
       "    </tr>\n",
       "  </tbody>\n",
       "</table>\n",
       "</div>"
      ],
      "text/plain": [
       "    store_id kakao_nickname   kakao_date  \\\n",
       "5   15549566              앵  2022.11.03.   \n",
       "6   15549566             동동  2022.09.14.   \n",
       "7   15549566           그린애플  2022.09.04.   \n",
       "8   15549566            까칠이  2022.05.04.   \n",
       "10  15549566              롸  2022.01.18.   \n",
       "\n",
       "                                        kakao_content  kakao_star label  \n",
       "5                                               탕이 진국         4.0     1  \n",
       "6   재밌는 경험 우리나라 유일한 당나귀고기집확실히 말고기보다 맛나다희귀한 고기를 다양하...         5.0     1  \n",
       "7   인 의 코스 시켰는데 마지막 전골은 양이 많아서 거의 남겼어요 동 코스로 충분합니다...         5.0     1  \n",
       "8   처음과  많이 달라졌음단품 메뉴 시키면  들은체 만체그 어떤 손님도 귀하거늘  차별...         1.0     0  \n",
       "10  연초에 귀한분들모시고 다녀왔습니다 하나부터 열까지 모두 만족했고 서비스또한 좋습니다...         5.0     1  "
      ]
     },
     "execution_count": 96,
     "metadata": {},
     "output_type": "execute_result"
    }
   ],
   "source": [
    "# 한글과 공백을 제외하고 모두 제거해준다\n",
    "kakao_data2['kakao_content'] = kakao_data2['kakao_content'].str.replace(\"[^ㄱ-ㅎㅏ-ㅣ가-힣 ]\",\"\")\n",
    "kakao_data2[:5]"
   ]
  }
 ],
 "metadata": {
  "kernelspec": {
   "display_name": "Python 3 (ipykernel)",
   "language": "python",
   "name": "python3"
  },
  "language_info": {
   "codemirror_mode": {
    "name": "ipython",
    "version": 3
   },
   "file_extension": ".py",
   "mimetype": "text/x-python",
   "name": "python",
   "nbconvert_exporter": "python",
   "pygments_lexer": "ipython3",
   "version": "3.10.5"
  }
 },
 "nbformat": 4,
 "nbformat_minor": 5
}
